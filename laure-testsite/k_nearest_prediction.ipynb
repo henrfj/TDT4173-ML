{
 "cells": [
  {
   "cell_type": "markdown",
   "metadata": {},
   "source": [
    "# K-nearest predictions"
   ]
  },
  {
   "cell_type": "code",
   "execution_count": 45,
   "metadata": {},
   "outputs": [],
   "source": [
    "import pandas as pd\n",
    "import numpy as np\n",
    "from sklearn.model_selection import train_test_split\n",
    "from sklearn.neighbors import KNeighborsRegressor\n",
    "from sklearn import preprocessing\n",
    "import utils as u\n",
    "from scipy import stats\n",
    "import copy\n",
    "\n",
    "import matplotlib.pylab as plt\n",
    "plt.style.use('ggplot')\n",
    "\n",
    "def root_mean_squared_log_error(y_true, y_pred):\n",
    "    # Alternatively: sklearn.metrics.mean_squared_log_error(y_true, y_pred) ** 0.5\n",
    "    # assert (y_true >= 0).all() \n",
    "    # assert (y_pred >= 0).all()\n",
    "    log_error = np.log1p(y_pred) - np.log1p(y_true)  # Note: log1p(x) = log(1 + x)\n",
    "    return np.mean(log_error ** 2) ** 0.5\n",
    "\n",
    "%run utils.py\n",
    "%run ../common_utils.py"
   ]
  },
  {
   "cell_type": "code",
   "execution_count": 46,
   "metadata": {},
   "outputs": [],
   "source": [
    "metaData = u.getAllMetadata()\n",
    "train = u.getAllTrainData()\n",
    "test = u.getAllTestData()"
   ]
  },
  {
   "cell_type": "code",
   "execution_count": 47,
   "metadata": {},
   "outputs": [],
   "source": [
    "remove_zero = [row[\"area_living\"] if row[\"area_living\"] >= 1 else row[\"area_total\"]*(train[\"area_living\"].mean() / train[\"area_total\"].mean()) for _,row in train.iterrows()]\n",
    "train[\"area_living\"] = remove_zero\n",
    "\n",
    "###### MISSING VALUES\n",
    "# area_living\n",
    "train = u.fillnaReg(train, ['area_total'], 'area_living')\n",
    "\n",
    "# area_kitchen\n",
    "train = u.fillnaReg(train, ['area_total', 'area_living'], 'area_kitchen')\n",
    "\n",
    "# ceiling\n",
    "train = u.fillnaReg(train, ['stories'], 'ceiling')\n",
    "\n",
    "# train['area_total'] = np.log(train['area_total'])\n",
    "# train['area_living'] = np.log(train['area_living'])\n",
    "# train['area_kitchen'] = np.log(train['area_kitchen'])"
   ]
  },
  {
   "cell_type": "code",
   "execution_count": 48,
   "metadata": {},
   "outputs": [],
   "source": [
    "############## SETTINGS\n",
    "test_size = 0.1\n",
    "random_state_split = 42\n",
    "features = [\"area_total\", \"ceiling\", \"r\", \"theta\", \"floor\", \"condition\", \"bathrooms_shared\", \"parking\", \"stories\", \"rooms\", \"windows_street\", \"balconies\", \"elevator_without\", \"heating\", \"district\", 'building_id']\n"
   ]
  },
  {
   "cell_type": "code",
   "execution_count": 49,
   "metadata": {},
   "outputs": [
    {
     "name": "stderr",
     "output_type": "stream",
     "text": [
      "C:\\Users\\Laure\\AppData\\Local\\Temp/ipykernel_10716/3269914165.py:3: FutureWarning: Dropping of nuisance columns in DataFrame reductions (with 'numeric_only=None') is deprecated; in a future version this will raise TypeError.  Select only valid columns before calling the reduction.\n",
      "  train.fillna(train.mean(), inplace = True)\n",
      "C:\\Users\\Laure\\AppData\\Local\\Temp/ipykernel_10716/3269914165.py:4: FutureWarning: Dropping of nuisance columns in DataFrame reductions (with 'numeric_only=None') is deprecated; in a future version this will raise TypeError.  Select only valid columns before calling the reduction.\n",
      "  test.fillna(test.mean(), inplace = True)\n"
     ]
    }
   ],
   "source": [
    "train = train[(np.abs(stats.zscore(train['price'])) < 1)]\n",
    "\n",
    "train.fillna(train.mean(), inplace = True)\n",
    "test.fillna(test.mean(), inplace = True)\n",
    "\n",
    "train, test = polar_coordinates(train, test)\n",
    "\n",
    "values = u.oneHotFeature(metaData, train, 'district')\n",
    "# features = features + values\n",
    "\n",
    "train_data, test_data = train_test_split(train, test_size=test_size, random_state=random_state_split, stratify=np.log(train.price).round())"
   ]
  },
  {
   "cell_type": "code",
   "execution_count": 50,
   "metadata": {},
   "outputs": [],
   "source": [
    "X_train, y_train = train_data[features], train_data['price']\n",
    "X_test, y_test = test_data[features], test_data['price']"
   ]
  },
  {
   "cell_type": "code",
   "execution_count": 51,
   "metadata": {},
   "outputs": [],
   "source": [
    "# def runKNearest(X_train, y_train, X_test, y_test, \n",
    "#     n_neighbors = 20, weights='uniform', algorithm='ball_tree', leaf_size=30, p=1, metric='minkowski', metric_params=None, n_jobs=None):\n",
    "#     model = KNeighborsRegressor(\n",
    "#         n_neighbors=n_neighbors, \n",
    "#         weights=weights, \n",
    "#         algorithm=algorithm, \n",
    "#         leaf_size=leaf_size, \n",
    "#         p=p, \n",
    "#         metric=metric, \n",
    "#         metric_params=metric_params, \n",
    "#         n_jobs=n_jobs\n",
    "#     )\n",
    "#     model.fit(X_train, y_train)\n",
    "#     rf_prediction = model.predict(X_test)\n",
    "#     rf_msle = root_mean_squared_log_error(rf_prediction, y_test)\n",
    "#     return rf_msle\n",
    "\n",
    "# def optimizeParam(X_train, y_train, X_test, y_test, variable, start, end, step):\n",
    "#     x = []\n",
    "#     y = []\n",
    "#     for value in range(start, end, step):\n",
    "#         x.append(value)\n",
    "#         y.append(runKNearest(X_train, y_train, X_test, y_test, p=value))\n",
    "#     plt.plot(x, y)\n",
    "#     plt.xlabel('p parameter values')\n",
    "#     plt.ylabel('RMLSE')\n",
    "\n",
    "# def optimizeParam(X_train, y_train, X_test, y_test, variable, values):\n",
    "#     x = []\n",
    "#     y = []\n",
    "#     for value in values:\n",
    "#         x.append(value)\n",
    "#         y.append(runKNearest(X_train, y_train, X_test, y_test, algorithm=value))\n",
    "#     plt.plot(x, y)\n",
    "#     plt.xlabel('algorithm parameter values')\n",
    "#     plt.ylabel('RMLSE')\n",
    "\n",
    "# optimizeParam(X_train, y_train, X_test, y_test, 'algorithm', ['auto', 'ball_tree', 'kd_tree', 'brute'])"
   ]
  },
  {
   "cell_type": "code",
   "execution_count": 52,
   "metadata": {},
   "outputs": [
    {
     "name": "stderr",
     "output_type": "stream",
     "text": [
      "C:\\Users\\Laure\\Anaconda3\\lib\\site-packages\\pandas\\core\\frame.py:7511: SettingWithCopyWarning: \n",
      "A value is trying to be set on a copy of a slice from a DataFrame.\n",
      "Try using .loc[row_indexer,col_indexer] = value instead\n",
      "\n",
      "See the caveats in the documentation: https://pandas.pydata.org/pandas-docs/stable/user_guide/indexing.html#returning-a-view-versus-a-copy\n",
      "  self[col] = expressions.where(mask, this, that)\n"
     ]
    }
   ],
   "source": [
    "nonCategorical, categorical = u.getNonCategoricalAndCategoricalFeatures(metaData)\n",
    "nonCategorical = list(set(nonCategorical).intersection(features))\n",
    "categorical = list(set(categorical).intersection(features))\n",
    "\n",
    "# Only normalize/scale the numerical data. Categorical data is kept as is.\n",
    "X_train_nonCategorical = X_train[nonCategorical]\n",
    "X_test_nonCategorical = X_test[nonCategorical]\n",
    "\n",
    "std_scale = preprocessing.StandardScaler().fit(X_train_nonCategorical)\n",
    "train_labels_scaled = std_scale.transform(X_train_nonCategorical)\n",
    "test_labels_scaled = std_scale.transform(X_test_nonCategorical)\n",
    "\n",
    "training_norm_col = pd.DataFrame(train_labels_scaled, index=X_train_nonCategorical.index, columns=X_train_nonCategorical.columns) \n",
    "X_train.update(training_norm_col)\n",
    "\n",
    "testing_norm_col = pd.DataFrame(test_labels_scaled, index=X_test_nonCategorical.index, columns=X_test_nonCategorical.columns) \n",
    "X_test.update(testing_norm_col)"
   ]
  },
  {
   "cell_type": "code",
   "execution_count": 53,
   "metadata": {},
   "outputs": [],
   "source": [
    "model = KNeighborsRegressor(\n",
    "    n_neighbors=20, \n",
    "    weights='uniform', \n",
    "    algorithm='ball_tree', \n",
    "    leaf_size=30, \n",
    "    p=1, \n",
    "    metric='minkowski', \n",
    "    metric_params=None, \n",
    "    n_jobs=None\n",
    ")"
   ]
  },
  {
   "cell_type": "code",
   "execution_count": 54,
   "metadata": {},
   "outputs": [
    {
     "name": "stdout",
     "output_type": "stream",
     "text": [
      "[0.6829584938161837, 0.6882933848716933, 0.7135115193278416, 0.7261623939251126, 0.6291462561180032] 0.6880144096117669\n"
     ]
    }
   ],
   "source": [
    "# model.fit(X_train, y_train)\n",
    "\n",
    "# features_temp = copy.deepcopy(features)\n",
    "# features_temp.append('price')\n",
    "# score= u.KFoldValidation(model, 5, root_mean_squared_log_error, train_data[features_temp])\n",
    "# print('Test RMSLE:', score)\n",
    "\n",
    "scores, average, best_model, best_index = KNN_groupKFold(5, model, train[features], train['price'])\n",
    "print(scores, average)"
   ]
  },
  {
   "cell_type": "code",
   "execution_count": 55,
   "metadata": {},
   "outputs": [],
   "source": [
    "# rf_prediction = model.predict(X_test)\n",
    "# rf_mse = root_mean_squared_log_error(rf_prediction, y_test)\n",
    "# print('Test MSE:', rf_mse)"
   ]
  },
  {
   "cell_type": "code",
   "execution_count": 56,
   "metadata": {},
   "outputs": [],
   "source": [
    "# plt.scatter(prediction, y_test, alpha=0.2)\n",
    "# plt.xlabel('Random Forest prediction')\n",
    "# plt.ylabel('Ground Truth')"
   ]
  },
  {
   "cell_type": "code",
   "execution_count": 57,
   "metadata": {},
   "outputs": [],
   "source": [
    "# ########## Create submission\n",
    "# import json\n",
    "# import utils\n",
    "# # Fit model to the full dataset \n",
    "\n",
    "# # # ##### NEW POSITION\n",
    "# # test_data_mod = test.copy()\n",
    "# # test_data_mod[\"latitude\"] = test_data_mod[\"latitude\"] -  test_data_mod[\"latitude\"].mean()\n",
    "# # test_data_mod[\"longitude\"] = test_data_mod[\"longitude\"] -  test_data_mod[\"longitude\"].mean()\n",
    "\n",
    "# # # Convert to polar coordinates\n",
    "# # test_data_mod[\"r\"] =  np.sqrt(test_data_mod[\"latitude\"]**2 + test_data_mod[\"longitude\"]**2)\n",
    "# # test_data_mod[\"theta\"] = np.arctan(test_data_mod[\"longitude\"]/test_data_mod[\"latitude\"])\n",
    "# # test = test_data_mod\n",
    "# # test.columns\n",
    "\n",
    "\n",
    "# ###### MISSING VALUES\n",
    "# # area_living\n",
    "# test = utils.fillnaReg(test, ['area_total'], 'area_living')\n",
    "# # area_kitchen\n",
    "# test = utils.fillnaReg(test, ['area_total', 'area_living'], 'area_kitchen')\n",
    "# # ceiling\n",
    "# test = utils.fillnaReg(test, ['stories'], 'ceiling')\n",
    "# # # district\n",
    "# # test = utils.fillnaReg(test, ['r', 'theta'], 'district')\n",
    "\n",
    "\n",
    "# test.fillna(test.mean(), inplace = True)\n",
    "# u.oneHotFeature(metaData, test, 'district')\n",
    "\n",
    "\n",
    "# ############## Balacing prices\n",
    "# # train = train.fillna(train.mean())\n",
    "# # test = test.fillna(test.mean())\n",
    "# # train = train[(np.abs(stats.zscore(train['price'])) < outliers_value)]\n",
    "\n",
    "# # lower_quantile = 0.01\n",
    "# # upper_quantile = 0.95\n",
    "# # train_data_mid = train[(train['price']>=train['price'].quantile(lower_quantile)) & (train['price']<=train['price'].quantile(upper_quantile))]\n",
    "# # train_data_outside = train[(train['price']<train['price'].quantile(lower_quantile)) | (train['price']>train['price'].quantile(upper_quantile))]\n",
    "\n",
    "# # train_data_mid = train_data_mid.head(int(train_data_mid.shape[0] * 0.15))\n",
    "# # train_data_temp = pd.concat([train_data_mid, train_data_outside])\n",
    "\n",
    "# # train = train_data_temp\n",
    "\n",
    "\n",
    "# X_train = train[features]\n",
    "# y_train = train['price']\n",
    "# print(f'Num nans in train {X_train.isna().any(axis=1).sum()}')\n",
    "# model = KNeighborsRegressor(\n",
    "#     n_neighbors=20, \n",
    "#     weights='uniform', \n",
    "#     algorithm='ball_tree', \n",
    "#     leaf_size=30, \n",
    "#     p=1, \n",
    "#     metric='minkowski', \n",
    "#     metric_params=None, \n",
    "#     n_jobs=None\n",
    "# )\n",
    "# model.fit(X_train, y_train)\n",
    "\n",
    "# # Generate predictions for test set \n",
    "# X_test = test[features]\n",
    "# X_test_nan = X_test.isna().any(axis=1)\n",
    "# print(f'Num nans in test: {X_test_nan.sum()}')\n",
    "# y_test_hat = model.predict(X_test[~X_test_nan])\n",
    "\n",
    "# # Construct submission dataframe\n",
    "# submission = pd.DataFrame()\n",
    "# submission['id'] = test.id\n",
    "# submission.loc[~X_test_nan, 'price_prediction'] = y_test_hat # Predict on non-nan entries\n",
    "# submission['price_prediction'].fillna(y_train.mean(), inplace=True) # Fill missing entries with mean predictor\n",
    "# print(f'Generated {len(submission)} predictions')\n",
    "\n",
    "# # Export submission to csv with headers\n",
    "\n",
    "# ############################################ CHANGE NAME !!!!!!!!!!\n",
    "# submission.to_csv('sample_KNN_3.csv', index=False)\n",
    "# settings = {\n",
    "#     'train_MSE': score,\n",
    "#     'features':features,\n",
    "#     'nan_delete':'mean',\n",
    "#     'test_size' : test_size,\n",
    "#     'random_state_split' :  random_state_split,\n",
    "#     'n_neighbors':20, \n",
    "#     'weights':'uniform', \n",
    "#     'algorithm':'ball_tree', \n",
    "#     'leaf_size':30, \n",
    "#     'p':1, \n",
    "#     'metric':'minkowski', \n",
    "#     'metric_params':None, \n",
    "#     'n_jobs':None,\n",
    "#     'other':{\n",
    "#         'Missing values' : {0:'Adding more trees!',\n",
    "#             \"Missing area_living\": \"reg on area_total\", \n",
    "#             \"Missing area_kitchen\": \"reg on area_total and area_living\", \n",
    "#             \"Missing ceiling\": \"reg on stories\"\n",
    "#         }    \n",
    "#     }\n",
    "# }\n",
    "\n",
    "# with open('sample_KNN_3_settings.json', 'w') as fp:\n",
    "#     json.dump(settings, fp)"
   ]
  },
  {
   "cell_type": "code",
   "execution_count": null,
   "metadata": {},
   "outputs": [],
   "source": []
  },
  {
   "cell_type": "code",
   "execution_count": null,
   "metadata": {},
   "outputs": [],
   "source": []
  }
 ],
 "metadata": {
  "interpreter": {
   "hash": "433299c0a6ef7fa1dabdb443310bde6b781d19168ce6c46534a3abeb460e20e7"
  },
  "kernelspec": {
   "display_name": "Python 3.8.12 64-bit ('base': conda)",
   "name": "python3"
  },
  "language_info": {
   "codemirror_mode": {
    "name": "ipython",
    "version": 3
   },
   "file_extension": ".py",
   "mimetype": "text/x-python",
   "name": "python",
   "nbconvert_exporter": "python",
   "pygments_lexer": "ipython3",
   "version": "3.8.12"
  },
  "orig_nbformat": 4
 },
 "nbformat": 4,
 "nbformat_minor": 2
}
