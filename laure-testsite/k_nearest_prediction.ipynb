{
 "cells": [
  {
   "cell_type": "markdown",
   "metadata": {},
   "source": [
    "# K-nearest predictions"
   ]
  },
  {
   "cell_type": "code",
   "execution_count": 61,
   "metadata": {},
   "outputs": [],
   "source": [
    "import pandas as pd\n",
    "import numpy as np\n",
    "from sklearn.model_selection import train_test_split\n",
    "from sklearn.metrics import mean_squared_error\n",
    "from sklearn.neighbors import KNeighborsRegressor\n",
    "from sklearn import preprocessing\n",
    "from scipy import stats\n",
    "import utils as u\n",
    "import copy\n",
    "\n",
    "import matplotlib.pylab as plt\n",
    "plt.style.use('ggplot')\n",
    "\n",
    "def root_mean_squared_log_error(y_true, y_pred):\n",
    "    # Alternatively: sklearn.metrics.mean_squared_log_error(y_true, y_pred) ** 0.5\n",
    "    assert (y_true >= 0).all() \n",
    "    assert (y_pred >= 0).all()\n",
    "    log_error = np.log1p(y_pred) - np.log1p(y_true)  # Note: log1p(x) = log(1 + x)\n",
    "    return np.mean(log_error ** 2) ** 0.5\n",
    "\n",
    "%run utils.py"
   ]
  },
  {
   "cell_type": "code",
   "execution_count": 62,
   "metadata": {},
   "outputs": [],
   "source": [
    "metaData = u.getAllMetadata()\n",
    "train = u.getAllTrainData()\n",
    "test = u.getAllTestData()"
   ]
  },
  {
   "cell_type": "code",
   "execution_count": 63,
   "metadata": {},
   "outputs": [],
   "source": [
    "###### MISSING VALUES\n",
    "# area_living\n",
    "train = u.fillnaReg(train, ['area_total'], 'area_living')\n",
    "\n",
    "# area_kitchen\n",
    "train = u.fillnaReg(train, ['area_total', 'area_living'], 'area_kitchen')\n",
    "\n",
    "# ceiling\n",
    "train = u.fillnaReg(train, ['stories'], 'ceiling')"
   ]
  },
  {
   "cell_type": "code",
   "execution_count": 64,
   "metadata": {},
   "outputs": [],
   "source": [
    "############## SETTINGS\n",
    "test_size = 0.2\n",
    "random_state_split = 42\n",
    "features = [\"area_total\", \"ceiling\", \"latitude\", \"longitude\", \"floor\", \"condition\", \"bathrooms_shared\", 'parking'] \n"
   ]
  },
  {
   "cell_type": "code",
   "execution_count": 65,
   "metadata": {},
   "outputs": [],
   "source": [
    "train.fillna(train.mean(), inplace = True)\n",
    "test.fillna(test.mean(), inplace = True)\n",
    "train_data, test_data = train_test_split(train, test_size=test_size, random_state=random_state_split, stratify=np.log(train.price).round())"
   ]
  },
  {
   "cell_type": "code",
   "execution_count": 66,
   "metadata": {},
   "outputs": [],
   "source": [
    "X_train, y_train = train_data[features], train_data['price']\n",
    "X_test, y_test = test_data[features], test_data['price']"
   ]
  },
  {
   "cell_type": "code",
   "execution_count": 67,
   "metadata": {},
   "outputs": [],
   "source": [
    "# def runKNearest(X_train, y_train, X_test, y_test, \n",
    "#     n_neighbors = 20, weights='uniform', algorithm='ball_tree', leaf_size=30, p=1, metric='minkowski', metric_params=None, n_jobs=None):\n",
    "#     model = KNeighborsRegressor(\n",
    "#         n_neighbors=n_neighbors, \n",
    "#         weights=weights, \n",
    "#         algorithm=algorithm, \n",
    "#         leaf_size=leaf_size, \n",
    "#         p=p, \n",
    "#         metric=metric, \n",
    "#         metric_params=metric_params, \n",
    "#         n_jobs=n_jobs\n",
    "#     )\n",
    "#     model.fit(X_train, y_train)\n",
    "#     rf_prediction = model.predict(X_test)\n",
    "#     rf_msle = root_mean_squared_log_error(rf_prediction, y_test)\n",
    "#     return rf_msle\n",
    "\n",
    "# def optimizeParam(X_train, y_train, X_test, y_test, variable, start, end, step):\n",
    "#     x = []\n",
    "#     y = []\n",
    "#     for value in range(start, end, step):\n",
    "#         x.append(value)\n",
    "#         y.append(runKNearest(X_train, y_train, X_test, y_test, p=value))\n",
    "#     plt.plot(x, y)\n",
    "#     plt.xlabel('p parameter values')\n",
    "#     plt.ylabel('RMLSE')\n",
    "\n",
    "# def optimizeParam(X_train, y_train, X_test, y_test, variable, values):\n",
    "#     x = []\n",
    "#     y = []\n",
    "#     for value in values:\n",
    "#         x.append(value)\n",
    "#         y.append(runKNearest(X_train, y_train, X_test, y_test, algorithm=value))\n",
    "#     plt.plot(x, y)\n",
    "#     plt.xlabel('algorithm parameter values')\n",
    "#     plt.ylabel('RMLSE')\n",
    "\n",
    "# optimizeParam(X_train, y_train, X_test, y_test, 'algorithm', ['auto', 'ball_tree', 'kd_tree', 'brute'])"
   ]
  },
  {
   "cell_type": "code",
   "execution_count": 68,
   "metadata": {},
   "outputs": [],
   "source": [
    "model = KNeighborsRegressor(\n",
    "    n_neighbors=20, \n",
    "    weights='uniform', \n",
    "    algorithm='ball_tree', \n",
    "    leaf_size=30, \n",
    "    p=1, \n",
    "    metric='minkowski', \n",
    "    metric_params=None, \n",
    "    n_jobs=None\n",
    ")"
   ]
  },
  {
   "cell_type": "code",
   "execution_count": 69,
   "metadata": {},
   "outputs": [
    {
     "data": {
      "text/plain": [
       "KNeighborsRegressor(algorithm='ball_tree', n_neighbors=20, p=1)"
      ]
     },
     "execution_count": 69,
     "metadata": {},
     "output_type": "execute_result"
    }
   ],
   "source": [
    "model.fit(X_train, y_train)"
   ]
  },
  {
   "cell_type": "code",
   "execution_count": 70,
   "metadata": {},
   "outputs": [
    {
     "name": "stdout",
     "output_type": "stream",
     "text": [
      "Test MSE: 0.3547570579787334\n"
     ]
    }
   ],
   "source": [
    "rf_prediction = model.predict(X_test)\n",
    "rf_mse = root_mean_squared_log_error(rf_prediction, y_test)\n",
    "print('Test MSE:', rf_mse)"
   ]
  },
  {
   "cell_type": "code",
   "execution_count": 71,
   "metadata": {},
   "outputs": [
    {
     "data": {
      "text/plain": [
       "Text(0, 0.5, 'Ground Truth')"
      ]
     },
     "execution_count": 71,
     "metadata": {},
     "output_type": "execute_result"
    },
    {
     "data": {
      "image/png": "[encoded data removed]",
      "text/plain": [
       "<Figure size 432x288 with 1 Axes>"
      ]
     },
     "metadata": {},
     "output_type": "display_data"
    }
   ],
   "source": [
    "plt.scatter(rf_prediction, y_test, alpha=0.2)\n",
    "plt.xlabel('Random Forest prediction')\n",
    "plt.ylabel('Ground Truth')"
   ]
  },
  {
   "cell_type": "code",
   "execution_count": null,
   "metadata": {},
   "outputs": [],
   "source": []
  },
  {
   "cell_type": "code",
   "execution_count": null,
   "metadata": {},
   "outputs": [],
   "source": []
  },
  {
   "cell_type": "code",
   "execution_count": null,
   "metadata": {},
   "outputs": [],
   "source": []
  }
 ],
 "metadata": {
  "interpreter": {
   "hash": "433299c0a6ef7fa1dabdb443310bde6b781d19168ce6c46534a3abeb460e20e7"
  },
  "kernelspec": {
   "display_name": "Python 3.8.8 64-bit ('base': conda)",
   "name": "python3"
  },
  "language_info": {
   "codemirror_mode": {
    "name": "ipython",
    "version": 3
   },
   "file_extension": ".py",
   "mimetype": "text/x-python",
   "name": "python",
   "nbconvert_exporter": "python",
   "pygments_lexer": "ipython3",
   "version": "3.8.8"
  },
  "orig_nbformat": 4
 },
 "nbformat": 4,
 "nbformat_minor": 2
}
