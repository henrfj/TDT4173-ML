{
 "cells": [
  {
   "cell_type": "markdown",
   "metadata": {},
   "source": [
    "# Random forest predictions"
   ]
  },
  {
   "cell_type": "code",
   "execution_count": 1,
   "metadata": {},
   "outputs": [],
   "source": [
    "import pandas as pd\n",
    "import numpy as np\n",
    "from sklearn.model_selection import train_test_split\n",
    "from sklearn.metrics import mean_squared_error\n",
    "from sklearn.ensemble import RandomForestRegressor\n",
    "from scipy import stats\n",
    "\n",
    "import matplotlib.pylab as plt\n",
    "plt.style.use('ggplot')\n",
    "\n",
    "def root_mean_squared_log_error(y_true, y_pred):\n",
    "    # Alternatively: sklearn.metrics.mean_squared_log_error(y_true, y_pred) ** 0.5\n",
    "    assert (y_true >= 0).all() \n",
    "    assert (y_pred >= 0).all()\n",
    "    log_error = np.log1p(y_pred) - np.log1p(y_true)  # Note: log1p(x) = log(1 + x)\n",
    "    return np.mean(log_error ** 2) ** 0.5"
   ]
  },
  {
   "cell_type": "code",
   "execution_count": 2,
   "metadata": {},
   "outputs": [],
   "source": [
    "metaData_apartment = pd.read_json('../data/apartments_meta.json')\n",
    "metaData_building = pd.read_json('../data/buildings_meta.json')\n",
    "metaData_apartment.at[0, 'name'] = 'apartment_id'\n",
    "metaData_building.at[0, 'name'] = 'building_id'\n",
    "metaData = pd.concat([metaData_apartment, metaData_building])\n",
    "\n",
    "train_apartment = pd.read_csv('../data/apartments_train.csv')\n",
    "train_building = pd.read_csv('../data/buildings_train.csv')\n",
    "train = pd.merge(train_apartment, train_building.set_index('id'), how='left', left_on='building_id', right_on='id')\n",
    "# train.rename(columns={'id_x' : 'apartment_id'}, inplace=True)\n",
    "# train.drop('id_y', axis=1, inplace=True)\n",
    "# train = train.fillna(train.mean())\n",
    "\n",
    "test_apartment = pd.read_csv('../data/apartments_test.csv')\n",
    "test_building = pd.read_csv('../data/buildings_test.csv')\n",
    "test = pd.merge(test_apartment, test_building.set_index('id'), how='left', left_on='building_id', right_on='id')\n",
    "# test.rename(columns={'id_x' : 'apartment_id'}, inplace=True)\n",
    "# test.drop('id_y', axis=1, inplace=True)\n",
    "test = test.fillna(test.mean())"
   ]
  },
  {
   "cell_type": "code",
   "execution_count": 3,
   "metadata": {},
   "outputs": [],
   "source": [
    "####### SETTINGS ##############\n",
    "test_size = 0.15\n",
    "random_state_split = 42\n",
    "outliers_value = 15\n",
    "all_features = ['seller','area_total','area_kitchen','area_living','floor','rooms','layout','ceiling','bathrooms_shared','bathrooms_private','windows_court','windows_street','balconies','loggias','condition','phones','building_id', 'new','latitude','longitude','district','constructed','material','stories','elevator_without','elevator_passenger','elevator_service','parking','garbage_chute','heating']\n",
    "features = [\"area_total\", \"rooms\", \"ceiling\", \"bathrooms_shared\", \"latitude\", \"longitude\", \"district\", \"constructed\", \"stories\", \"parking\", \"building_id\"] #['area_total', 'area_living', 'ceiling', 'constructed', 'stories', 'bathrooms_shared', 'latitude', 'longitude', 'parking', 'district']\n",
    "n_estimators=200\n",
    "criterion='mse'\n",
    "max_depth=None\n",
    "min_weight_fraction_leaf=0.0\n",
    "max_features='sqrt'\n",
    "max_leaf_nodes=None\n",
    "min_impurity_decrease=0.0\n",
    "bootstrap=True\n",
    "oob_score=False\n",
    "n_jobs=None\n",
    "random_state_model=2\n",
    "verbose=0\n",
    "warm_start=True\n",
    "ccp_alpha=0.0\n",
    "max_samples=None\n",
    "\n"
   ]
  },
  {
   "cell_type": "code",
   "execution_count": 4,
   "metadata": {},
   "outputs": [],
   "source": [
    "train_data, test_data = train_test_split(train, test_size=test_size, random_state=random_state_split, stratify=np.log(train.price).round())\n",
    "train_data = train_data[(np.abs(stats.zscore(train_data[[\"rooms\", \"price\"]], axis=0, ddof=0)) < outliers_value).all(axis=1)]              #[(np.abs(stats.zscore(train_data['price'])) < outliers_value)]\n",
    "# train_data = train_data[np.abs(stats.zscore(train_data[\"price\"]) < 4)]\n",
    "train_data = train_data.fillna(train_data.mean())\n",
    "test_data = test_data.fillna(test_data.mean())\n",
    "X_train, y_train = train_data[features], train_data['price']\n",
    "X_test, y_test = test_data[features], test_data['price']\n",
    "# X_train_norm = (X_train - X_train.mean())/X_train.std()\n",
    "# y_train_norm = (y_train - y_train.mean())/y_train.std()"
   ]
  },
  {
   "cell_type": "code",
   "execution_count": 5,
   "metadata": {},
   "outputs": [
    {
     "name": "stdout",
     "output_type": "stream",
     "text": [
      "Train rmsle: 1.0041\n",
      "Valid rmsle: 1.0120\n"
     ]
    }
   ],
   "source": [
    "######### BASE\n",
    "y_train = train_data.price\n",
    "y_valid = test_data.price\n",
    "\n",
    "mean = y_train.mean()\n",
    "y_train_hat = np.full(len(y_train), mean)\n",
    "y_valid_hat = np.full(len(y_valid), mean)\n",
    "\n",
    "print(f'Train rmsle: {root_mean_squared_log_error(y_true=y_train, y_pred=y_train_hat) :.4f}')\n",
    "print(f'Valid rmsle: {root_mean_squared_log_error(y_true=y_valid, y_pred=y_valid_hat) :.4f}')"
   ]
  },
  {
   "cell_type": "code",
   "execution_count": 6,
   "metadata": {},
   "outputs": [],
   "source": [
    "model2 = RandomForestRegressor(\n",
    "    n_estimators=n_estimators,\n",
    "    criterion=criterion,\n",
    "    max_depth=max_depth,\n",
    "#     min_samples_split=2,\n",
    "#     min_samples_leaf=2,\n",
    "    min_weight_fraction_leaf=min_weight_fraction_leaf,\n",
    "    max_features=max_features,\n",
    "    max_leaf_nodes=max_leaf_nodes,\n",
    "    min_impurity_decrease=min_impurity_decrease,\n",
    "    bootstrap=bootstrap,\n",
    "    oob_score=oob_score,\n",
    "    n_jobs=n_jobs,\n",
    "    random_state=random_state_model,\n",
    "    verbose=verbose,\n",
    "    warm_start=warm_start,\n",
    "    ccp_alpha=ccp_alpha,\n",
    "    max_samples=max_samples\n",
    ")"
   ]
  },
  {
   "cell_type": "code",
   "execution_count": 7,
   "metadata": {},
   "outputs": [
    {
     "data": {
      "text/plain": [
       "RandomForestRegressor(max_features='sqrt', n_estimators=200, random_state=2,\n",
       "                      warm_start=True)"
      ]
     },
     "execution_count": 7,
     "metadata": {},
     "output_type": "execute_result"
    }
   ],
   "source": [
    "model2.fit(X_train, y_train)"
   ]
  },
  {
   "cell_type": "code",
   "execution_count": 8,
   "metadata": {},
   "outputs": [
    {
     "data": {
      "image/png": "[encoded data removed]",
      "text/plain": [
       "<Figure size 432x288 with 1 Axes>"
      ]
     },
     "metadata": {},
     "output_type": "display_data"
    }
   ],
   "source": [
    "importances = model2.feature_importances_\n",
    "forest_importances = pd.Series(importances, index=X_train.columns)\n",
    "\n",
    "fig, ax = plt.subplots()\n",
    "forest_importances.plot.bar(ax=ax)\n",
    "ax.set_title(\"MDI or Gini Importance\")\n",
    "ax.set_ylabel(\"Mean decrease in impurity\")\n",
    "fig.tight_layout()"
   ]
  },
  {
   "cell_type": "code",
   "execution_count": 9,
   "metadata": {},
   "outputs": [],
   "source": [
    "# Unormalize data\n"
   ]
  },
  {
   "cell_type": "code",
   "execution_count": 10,
   "metadata": {},
   "outputs": [],
   "source": [
    "rf_prediction = model2.predict(X_test)"
   ]
  },
  {
   "cell_type": "code",
   "execution_count": 11,
   "metadata": {},
   "outputs": [
    {
     "name": "stdout",
     "output_type": "stream",
     "text": [
      "Test MSE: 0.17235351936371052\n"
     ]
    }
   ],
   "source": [
    "rf_mse = root_mean_squared_log_error(rf_prediction, y_test)\n",
    "print('Test MSE:', rf_mse)"
   ]
  },
  {
   "cell_type": "code",
   "execution_count": 12,
   "metadata": {},
   "outputs": [
    {
     "data": {
      "text/plain": [
       "Text(0, 0.5, 'Ground Truth')"
      ]
     },
     "execution_count": 12,
     "metadata": {},
     "output_type": "execute_result"
    },
    {
     "data": {
      "image/png": "[encoded data removed]",
      "text/plain": [
       "<Figure size 432x288 with 1 Axes>"
      ]
     },
     "metadata": {},
     "output_type": "display_data"
    }
   ],
   "source": [
    "plt.scatter(rf_prediction, y_test, alpha=0.2)\n",
    "plt.xlabel('Random Forest prediction')\n",
    "plt.ylabel('Ground Truth')"
   ]
  },
  {
   "cell_type": "code",
   "execution_count": 13,
   "metadata": {},
   "outputs": [],
   "source": [
    "# ########## Create submission\n",
    "# # Fit model to the full dataset \n",
    "# train = train.fillna(train.mean())\n",
    "# train = train[(np.abs(stats.zscore(train['price'])) < outliers_value)]\n",
    "# X_train = train[features]\n",
    "# y_train = train['price']\n",
    "# print(f'Num nans in train {X_train.isna().any(axis=1).sum()}')\n",
    "# model = RandomForestRegressor(max_depth=20).fit(X_train, y_train)\n",
    "\n",
    "# # Generate predictions for test set \n",
    "# X_test = test[features]\n",
    "# X_test_nan = X_test.isna().any(axis=1)\n",
    "# print(f'Num nans in test: {X_test_nan.sum()}')\n",
    "# y_test_hat = model.predict(X_test[~X_test_nan])\n",
    "\n",
    "# # Construct submission dataframe\n",
    "# submission = pd.DataFrame()\n",
    "# submission['id'] = test.id\n",
    "# submission.loc[~X_test_nan, 'price_prediction'] = y_test_hat # Predict on non-nan entries\n",
    "# submission['price_prediction'].fillna(y_train.mean(), inplace=True) # Fill missing entries with mean predictor\n",
    "# print(f'Generated {len(submission)} predictions')\n",
    "\n",
    "# # Export submission to csv with headers\n",
    "\n",
    "# ############################################ CHANGE NAME !!!!!!!!!!\n",
    "# submission.to_csv('sample_RF_5.csv', index=False)\n",
    "# settings = {\n",
    "#     'train_MSE': root_mean_squared_log_error(rf_prediction, y_test),\n",
    "#     'features':features, \n",
    "#     'outliers_value':outliers_value,\n",
    "#     'nan_delete':'mean',\n",
    "#     'test_size' : test_size,\n",
    "#     'random_state_split' :  random_state_split,\n",
    "#     'n_estimators': n_estimators,\n",
    "#     'criterion': criterion,\n",
    "#     'max_depth': max_depth,\n",
    "#     'min_weight_fraction_leaf': min_weight_fraction_leaf,\n",
    "#     'max_features': max_features,\n",
    "#     'max_leaf_nodes': max_leaf_nodes,\n",
    "#     'min_impurity_decrease': min_impurity_decrease,\n",
    "#     'bootstrap': bootstrap,\n",
    "#     'oob_score': oob_score,\n",
    "#     'n_jobs': n_jobs,\n",
    "#     'random_state': random_state_model,\n",
    "#     'verbose': verbose,\n",
    "#     'warm_start': warm_start,\n",
    "#     'ccp_alpha': ccp_alpha,\n",
    "#     'max_samples': max_samples,\n",
    "#     'other':'None',\n",
    "#     }\n",
    "# with open('sample_RF_5_settings.json', 'w') as fp:\n",
    "#     json.dump(settings, fp)"
   ]
  },
  {
   "cell_type": "code",
   "execution_count": null,
   "metadata": {},
   "outputs": [],
   "source": []
  },
  {
   "cell_type": "code",
   "execution_count": null,
   "metadata": {},
   "outputs": [],
   "source": []
  }
 ],
 "metadata": {
  "interpreter": {
   "hash": "433299c0a6ef7fa1dabdb443310bde6b781d19168ce6c46534a3abeb460e20e7"
  },
  "kernelspec": {
   "display_name": "Python 3.8.8 64-bit ('base': conda)",
   "name": "python3"
  },
  "language_info": {
   "codemirror_mode": {
    "name": "ipython",
    "version": 3
   },
   "file_extension": ".py",
   "mimetype": "text/x-python",
   "name": "python",
   "nbconvert_exporter": "python",
   "pygments_lexer": "ipython3",
   "version": "3.8.8"
  },
  "orig_nbformat": 4
 },
 "nbformat": 4,
 "nbformat_minor": 2
}
