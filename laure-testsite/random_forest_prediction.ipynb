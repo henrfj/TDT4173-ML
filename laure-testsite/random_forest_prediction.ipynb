{
 "cells": [
  {
   "cell_type": "markdown",
   "metadata": {},
   "source": [
    "# Random forest predictions"
   ]
  },
  {
   "cell_type": "code",
<<<<<<< Updated upstream
<<<<<<< Updated upstream
   "execution_count": 912,
=======
   "execution_count": 1,
>>>>>>> Stashed changes
   "metadata": {},
   "outputs": [],
=======
   "execution_count": 78,
>>>>>>> Stashed changes
   "source": [
    "import pandas as pd\r\n",
    "import numpy as np\r\n",
    "from sklearn.model_selection import train_test_split\r\n",
    "from sklearn.metrics import mean_squared_error\r\n",
    "from sklearn.ensemble import RandomForestRegressor\r\n",
    "from scipy import stats\r\n",
    "\r\n",
    "import matplotlib.pylab as plt\r\n",
    "plt.style.use('ggplot')\r\n",
    "\r\n",
    "def root_mean_squared_log_error(y_true, y_pred):\r\n",
    "    # Alternatively: sklearn.metrics.mean_squared_log_error(y_true, y_pred) ** 0.5\r\n",
    "    assert (y_true >= 0).all() \r\n",
    "    assert (y_pred >= 0).all()\r\n",
    "    log_error = np.log1p(y_pred) - np.log1p(y_true)  # Note: log1p(x) = log(1 + x)\r\n",
    "    return np.mean(log_error ** 2) ** 0.5"
   ]
  },
  {
   "cell_type": "code",
<<<<<<< Updated upstream
<<<<<<< Updated upstream
   "execution_count": 913,
=======
   "execution_count": 2,
>>>>>>> Stashed changes
   "metadata": {},
   "outputs": [],
=======
   "execution_count": 79,
>>>>>>> Stashed changes
   "source": [
    "metaData_apartment = pd.read_json('../data/apartments_meta.json')\r\n",
    "metaData_building = pd.read_json('../data/buildings_meta.json')\r\n",
    "metaData_apartment.at[0, 'name'] = 'apartment_id'\r\n",
    "metaData_building.at[0, 'name'] = 'building_id'\r\n",
    "metaData = pd.concat([metaData_apartment, metaData_building])\r\n",
    "\r\n",
    "train_apartment = pd.read_csv('../data/apartments_train.csv')\r\n",
    "train_building = pd.read_csv('../data/buildings_train.csv')\r\n",
    "train = pd.merge(train_apartment, train_building.set_index('id'), how='left', left_on='building_id', right_on='id')\r\n",
    "# train.rename(columns={'id_x' : 'apartment_id'}, inplace=True)\r\n",
    "# train.drop('id_y', axis=1, inplace=True)\r\n",
    "# train = train.fillna(train.mean())\r\n",
    "\r\n",
    "test_apartment = pd.read_csv('../data/apartments_test.csv')\r\n",
    "test_building = pd.read_csv('../data/buildings_test.csv')\r\n",
    "test = pd.merge(test_apartment, test_building.set_index('id'), how='left', left_on='building_id', right_on='id')\r\n",
    "# test.rename(columns={'id_x' : 'apartment_id'}, inplace=True)\r\n",
    "# test.drop('id_y', axis=1, inplace=True)\r\n",
    "test = test.fillna(test.mean())"
   ]
  },
  {
   "cell_type": "code",
<<<<<<< Updated upstream
<<<<<<< Updated upstream
   "execution_count": 914,
=======
   "execution_count": 3,
>>>>>>> Stashed changes
   "metadata": {},
   "outputs": [],
=======
   "execution_count": 80,
>>>>>>> Stashed changes
   "source": [
    "####### SETTINGS ##############\r\n",
    "test_size = 0.15\r\n",
    "random_state_split = 42\r\n",
    "outliers_value = 3\r\n",
    "all_features = ['seller','area_total','area_kitchen','area_living','floor','rooms','layout','ceiling','bathrooms_shared','bathrooms_private','windows_court','windows_street','balconies','loggias','condition','phones','building_id', 'new','latitude','longitude','district','constructed','material','stories','elevator_without','elevator_passenger','elevator_service','parking','garbage_chute','heating']\r\n",
    "features = [\"area_total\", \"rooms\", \"ceiling\", \"bathrooms_shared\", \"latitude\", \"longitude\", \"district\", \"constructed\", \"stories\", \"parking\"] #['area_total', 'area_living', 'ceiling', 'constructed', 'stories', 'bathrooms_shared', 'latitude', 'longitude', 'parking', 'district']\r\n",
    "n_estimators=200\r\n",
    "criterion='mse'\r\n",
    "max_depth=None\r\n",
    "min_weight_fraction_leaf=0.0\r\n",
    "max_features='sqrt'\r\n",
    "max_leaf_nodes=None\r\n",
    "min_impurity_decrease=0.0\r\n",
    "bootstrap=True\r\n",
    "oob_score=False\r\n",
    "n_jobs=None\r\n",
    "random_state_model=2\r\n",
    "verbose=0\r\n",
    "warm_start=True\r\n",
    "ccp_alpha=0.0\r\n",
    "max_samples=None\r\n",
    "\r\n"
   ]
  },
  {
   "cell_type": "code",
<<<<<<< Updated upstream
<<<<<<< Updated upstream
   "execution_count": 915,
=======
   "execution_count": 4,
>>>>>>> Stashed changes
   "metadata": {},
   "outputs": [],
=======
   "execution_count": 91,
>>>>>>> Stashed changes
   "source": [
    "train_data, test_data = train_test_split(train, test_size=test_size, random_state=random_state_split, stratify=np.log(train.price).round())\r\n",
    "train_data = train_data[(np.abs(stats.zscore(train_data['rooms'])) < outliers_value)]\r\n",
    "train_data = train_data.fillna(train_data.mean())\r\n",
    "test_data = test_data.fillna(test_data.mean())\r\n",
    "X_train, y_train = train_data[features], train_data['price']\r\n",
    "X_test, y_test = test_data[features], test_data['price']\r\n",
    "# X_train_norm = (X_train - X_train.mean())/X_train.std()\r\n",
    "# y_train_norm = (y_train - y_train.mean())/y_train.std()"
<<<<<<< Updated upstream
   ]
  },
  {
   "cell_type": "code",
<<<<<<< Updated upstream
   "execution_count": 916,
=======
   "execution_count": 5,
>>>>>>> Stashed changes
   "metadata": {},
   "outputs": [
    {
     "name": "stdout",
     "output_type": "stream",
     "text": [
      "Train rmsle: 0.9250\n",
      "Valid rmsle: 0.9600\n"
     ]
    }
   ],
=======
   ],
   "outputs": [
    {
     "output_type": "error",
     "ename": "TypeError",
     "evalue": "cannot convert the series to <class 'int'>",
     "traceback": [
      "\u001b[1;31m---------------------------------------------------------------------------\u001b[0m",
      "\u001b[1;31mTypeError\u001b[0m                                 Traceback (most recent call last)",
      "\u001b[1;32m<ipython-input-91-6825f4b20103>\u001b[0m in \u001b[0;36m<module>\u001b[1;34m\u001b[0m\n\u001b[0;32m      1\u001b[0m \u001b[0mtrain_data\u001b[0m\u001b[1;33m,\u001b[0m \u001b[0mtest_data\u001b[0m \u001b[1;33m=\u001b[0m \u001b[0mtrain_test_split\u001b[0m\u001b[1;33m(\u001b[0m\u001b[0mtrain\u001b[0m\u001b[1;33m,\u001b[0m \u001b[0mtest_size\u001b[0m\u001b[1;33m=\u001b[0m\u001b[0mtest_size\u001b[0m\u001b[1;33m,\u001b[0m \u001b[0mrandom_state\u001b[0m\u001b[1;33m=\u001b[0m\u001b[0mrandom_state_split\u001b[0m\u001b[1;33m,\u001b[0m \u001b[0mstratify\u001b[0m\u001b[1;33m=\u001b[0m\u001b[0mnp\u001b[0m\u001b[1;33m.\u001b[0m\u001b[0mlog\u001b[0m\u001b[1;33m(\u001b[0m\u001b[0mtrain\u001b[0m\u001b[1;33m.\u001b[0m\u001b[0mprice\u001b[0m\u001b[1;33m)\u001b[0m\u001b[1;33m.\u001b[0m\u001b[0mround\u001b[0m\u001b[1;33m(\u001b[0m\u001b[1;33m)\u001b[0m\u001b[1;33m)\u001b[0m\u001b[1;33m\u001b[0m\u001b[1;33m\u001b[0m\u001b[0m\n\u001b[1;32m----> 2\u001b[1;33m \u001b[0mtrain_data\u001b[0m \u001b[1;33m=\u001b[0m \u001b[0mtrain_data\u001b[0m\u001b[1;33m[\u001b[0m\u001b[1;33m(\u001b[0m\u001b[0mnp\u001b[0m\u001b[1;33m.\u001b[0m\u001b[0mabs\u001b[0m\u001b[1;33m(\u001b[0m\u001b[0mstats\u001b[0m\u001b[1;33m.\u001b[0m\u001b[0mzscore\u001b[0m\u001b[1;33m(\u001b[0m\u001b[0mtrain_data\u001b[0m\u001b[1;33m[\u001b[0m\u001b[1;34m'rooms'\u001b[0m\u001b[1;33m]\u001b[0m\u001b[1;33m,\u001b[0m \u001b[0mtrain_data\u001b[0m\u001b[1;33m[\u001b[0m\u001b[1;34m'price'\u001b[0m\u001b[1;33m]\u001b[0m\u001b[1;33m)\u001b[0m\u001b[1;33m)\u001b[0m \u001b[1;33m<\u001b[0m \u001b[0moutliers_value\u001b[0m\u001b[1;33m)\u001b[0m\u001b[1;33m]\u001b[0m\u001b[1;33m\u001b[0m\u001b[1;33m\u001b[0m\u001b[0m\n\u001b[0m\u001b[0;32m      3\u001b[0m \u001b[0mtrain_data\u001b[0m \u001b[1;33m=\u001b[0m \u001b[0mtrain_data\u001b[0m\u001b[1;33m.\u001b[0m\u001b[0mfillna\u001b[0m\u001b[1;33m(\u001b[0m\u001b[0mtrain_data\u001b[0m\u001b[1;33m.\u001b[0m\u001b[0mmean\u001b[0m\u001b[1;33m(\u001b[0m\u001b[1;33m)\u001b[0m\u001b[1;33m)\u001b[0m\u001b[1;33m\u001b[0m\u001b[1;33m\u001b[0m\u001b[0m\n\u001b[0;32m      4\u001b[0m \u001b[0mtest_data\u001b[0m \u001b[1;33m=\u001b[0m \u001b[0mtest_data\u001b[0m\u001b[1;33m.\u001b[0m\u001b[0mfillna\u001b[0m\u001b[1;33m(\u001b[0m\u001b[0mtest_data\u001b[0m\u001b[1;33m.\u001b[0m\u001b[0mmean\u001b[0m\u001b[1;33m(\u001b[0m\u001b[1;33m)\u001b[0m\u001b[1;33m)\u001b[0m\u001b[1;33m\u001b[0m\u001b[1;33m\u001b[0m\u001b[0m\n\u001b[0;32m      5\u001b[0m \u001b[0mX_train\u001b[0m\u001b[1;33m,\u001b[0m \u001b[0my_train\u001b[0m \u001b[1;33m=\u001b[0m \u001b[0mtrain_data\u001b[0m\u001b[1;33m[\u001b[0m\u001b[0mfeatures\u001b[0m\u001b[1;33m]\u001b[0m\u001b[1;33m,\u001b[0m \u001b[0mtrain_data\u001b[0m\u001b[1;33m[\u001b[0m\u001b[1;34m'price'\u001b[0m\u001b[1;33m]\u001b[0m\u001b[1;33m\u001b[0m\u001b[1;33m\u001b[0m\u001b[0m\n",
      "\u001b[1;32m~\\Anaconda3\\lib\\site-packages\\scipy\\stats\\stats.py\u001b[0m in \u001b[0;36mzscore\u001b[1;34m(a, axis, ddof, nan_policy)\u001b[0m\n\u001b[0;32m   2557\u001b[0m             \u001b[0misconst\u001b[0m \u001b[1;33m=\u001b[0m \u001b[0mnp\u001b[0m\u001b[1;33m.\u001b[0m\u001b[0mapply_along_axis\u001b[0m\u001b[1;33m(\u001b[0m\u001b[0m_isconst\u001b[0m\u001b[1;33m,\u001b[0m \u001b[0maxis\u001b[0m\u001b[1;33m,\u001b[0m \u001b[0ma\u001b[0m\u001b[1;33m)\u001b[0m\u001b[1;33m\u001b[0m\u001b[1;33m\u001b[0m\u001b[0m\n\u001b[0;32m   2558\u001b[0m     \u001b[1;32melse\u001b[0m\u001b[1;33m:\u001b[0m\u001b[1;33m\u001b[0m\u001b[1;33m\u001b[0m\u001b[0m\n\u001b[1;32m-> 2559\u001b[1;33m         \u001b[0mmn\u001b[0m \u001b[1;33m=\u001b[0m \u001b[0ma\u001b[0m\u001b[1;33m.\u001b[0m\u001b[0mmean\u001b[0m\u001b[1;33m(\u001b[0m\u001b[0maxis\u001b[0m\u001b[1;33m=\u001b[0m\u001b[0maxis\u001b[0m\u001b[1;33m,\u001b[0m \u001b[0mkeepdims\u001b[0m\u001b[1;33m=\u001b[0m\u001b[1;32mTrue\u001b[0m\u001b[1;33m)\u001b[0m\u001b[1;33m\u001b[0m\u001b[1;33m\u001b[0m\u001b[0m\n\u001b[0m\u001b[0;32m   2560\u001b[0m         \u001b[0mstd\u001b[0m \u001b[1;33m=\u001b[0m \u001b[0ma\u001b[0m\u001b[1;33m.\u001b[0m\u001b[0mstd\u001b[0m\u001b[1;33m(\u001b[0m\u001b[0maxis\u001b[0m\u001b[1;33m=\u001b[0m\u001b[0maxis\u001b[0m\u001b[1;33m,\u001b[0m \u001b[0mddof\u001b[0m\u001b[1;33m=\u001b[0m\u001b[0mddof\u001b[0m\u001b[1;33m,\u001b[0m \u001b[0mkeepdims\u001b[0m\u001b[1;33m=\u001b[0m\u001b[1;32mTrue\u001b[0m\u001b[1;33m)\u001b[0m\u001b[1;33m\u001b[0m\u001b[1;33m\u001b[0m\u001b[0m\n\u001b[0;32m   2561\u001b[0m         \u001b[1;32mif\u001b[0m \u001b[0maxis\u001b[0m \u001b[1;32mis\u001b[0m \u001b[1;32mNone\u001b[0m\u001b[1;33m:\u001b[0m\u001b[1;33m\u001b[0m\u001b[1;33m\u001b[0m\u001b[0m\n",
      "\u001b[1;32m~\\Anaconda3\\lib\\site-packages\\numpy\\core\\_methods.py\u001b[0m in \u001b[0;36m_mean\u001b[1;34m(a, axis, dtype, out, keepdims, where)\u001b[0m\n\u001b[0;32m    164\u001b[0m     \u001b[0mis_float16_result\u001b[0m \u001b[1;33m=\u001b[0m \u001b[1;32mFalse\u001b[0m\u001b[1;33m\u001b[0m\u001b[1;33m\u001b[0m\u001b[0m\n\u001b[0;32m    165\u001b[0m \u001b[1;33m\u001b[0m\u001b[0m\n\u001b[1;32m--> 166\u001b[1;33m     \u001b[0mrcount\u001b[0m \u001b[1;33m=\u001b[0m \u001b[0m_count_reduce_items\u001b[0m\u001b[1;33m(\u001b[0m\u001b[0marr\u001b[0m\u001b[1;33m,\u001b[0m \u001b[0maxis\u001b[0m\u001b[1;33m,\u001b[0m \u001b[0mkeepdims\u001b[0m\u001b[1;33m=\u001b[0m\u001b[0mkeepdims\u001b[0m\u001b[1;33m,\u001b[0m \u001b[0mwhere\u001b[0m\u001b[1;33m=\u001b[0m\u001b[0mwhere\u001b[0m\u001b[1;33m)\u001b[0m\u001b[1;33m\u001b[0m\u001b[1;33m\u001b[0m\u001b[0m\n\u001b[0m\u001b[0;32m    167\u001b[0m     \u001b[1;32mif\u001b[0m \u001b[0mrcount\u001b[0m \u001b[1;33m==\u001b[0m \u001b[1;36m0\u001b[0m \u001b[1;32mif\u001b[0m \u001b[0mwhere\u001b[0m \u001b[1;32mis\u001b[0m \u001b[1;32mTrue\u001b[0m \u001b[1;32melse\u001b[0m \u001b[0mumr_any\u001b[0m\u001b[1;33m(\u001b[0m\u001b[0mrcount\u001b[0m \u001b[1;33m==\u001b[0m \u001b[1;36m0\u001b[0m\u001b[1;33m)\u001b[0m\u001b[1;33m:\u001b[0m\u001b[1;33m\u001b[0m\u001b[1;33m\u001b[0m\u001b[0m\n\u001b[0;32m    168\u001b[0m         \u001b[0mwarnings\u001b[0m\u001b[1;33m.\u001b[0m\u001b[0mwarn\u001b[0m\u001b[1;33m(\u001b[0m\u001b[1;34m\"Mean of empty slice.\"\u001b[0m\u001b[1;33m,\u001b[0m \u001b[0mRuntimeWarning\u001b[0m\u001b[1;33m,\u001b[0m \u001b[0mstacklevel\u001b[0m\u001b[1;33m=\u001b[0m\u001b[1;36m2\u001b[0m\u001b[1;33m)\u001b[0m\u001b[1;33m\u001b[0m\u001b[1;33m\u001b[0m\u001b[0m\n",
      "\u001b[1;32m~\\Anaconda3\\lib\\site-packages\\numpy\\core\\_methods.py\u001b[0m in \u001b[0;36m_count_reduce_items\u001b[1;34m(arr, axis, keepdims, where)\u001b[0m\n\u001b[0;32m     73\u001b[0m         \u001b[0mitems\u001b[0m \u001b[1;33m=\u001b[0m \u001b[0mnt\u001b[0m\u001b[1;33m.\u001b[0m\u001b[0mintp\u001b[0m\u001b[1;33m(\u001b[0m\u001b[1;36m1\u001b[0m\u001b[1;33m)\u001b[0m\u001b[1;33m\u001b[0m\u001b[1;33m\u001b[0m\u001b[0m\n\u001b[0;32m     74\u001b[0m         \u001b[1;32mfor\u001b[0m \u001b[0max\u001b[0m \u001b[1;32min\u001b[0m \u001b[0maxis\u001b[0m\u001b[1;33m:\u001b[0m\u001b[1;33m\u001b[0m\u001b[1;33m\u001b[0m\u001b[0m\n\u001b[1;32m---> 75\u001b[1;33m             \u001b[0mitems\u001b[0m \u001b[1;33m*=\u001b[0m \u001b[0marr\u001b[0m\u001b[1;33m.\u001b[0m\u001b[0mshape\u001b[0m\u001b[1;33m[\u001b[0m\u001b[0mmu\u001b[0m\u001b[1;33m.\u001b[0m\u001b[0mnormalize_axis_index\u001b[0m\u001b[1;33m(\u001b[0m\u001b[0max\u001b[0m\u001b[1;33m,\u001b[0m \u001b[0marr\u001b[0m\u001b[1;33m.\u001b[0m\u001b[0mndim\u001b[0m\u001b[1;33m)\u001b[0m\u001b[1;33m]\u001b[0m\u001b[1;33m\u001b[0m\u001b[1;33m\u001b[0m\u001b[0m\n\u001b[0m\u001b[0;32m     76\u001b[0m     \u001b[1;32melse\u001b[0m\u001b[1;33m:\u001b[0m\u001b[1;33m\u001b[0m\u001b[1;33m\u001b[0m\u001b[0m\n\u001b[0;32m     77\u001b[0m         \u001b[1;31m# TODO: Optimize case when `where` is broadcast along a non-reduction\u001b[0m\u001b[1;33m\u001b[0m\u001b[1;33m\u001b[0m\u001b[1;33m\u001b[0m\u001b[0m\n",
      "\u001b[1;32m~\\Anaconda3\\lib\\site-packages\\pandas\\core\\series.py\u001b[0m in \u001b[0;36mwrapper\u001b[1;34m(self)\u001b[0m\n\u001b[0;32m    139\u001b[0m         \u001b[1;32mif\u001b[0m \u001b[0mlen\u001b[0m\u001b[1;33m(\u001b[0m\u001b[0mself\u001b[0m\u001b[1;33m)\u001b[0m \u001b[1;33m==\u001b[0m \u001b[1;36m1\u001b[0m\u001b[1;33m:\u001b[0m\u001b[1;33m\u001b[0m\u001b[1;33m\u001b[0m\u001b[0m\n\u001b[0;32m    140\u001b[0m             \u001b[1;32mreturn\u001b[0m \u001b[0mconverter\u001b[0m\u001b[1;33m(\u001b[0m\u001b[0mself\u001b[0m\u001b[1;33m.\u001b[0m\u001b[0miloc\u001b[0m\u001b[1;33m[\u001b[0m\u001b[1;36m0\u001b[0m\u001b[1;33m]\u001b[0m\u001b[1;33m)\u001b[0m\u001b[1;33m\u001b[0m\u001b[1;33m\u001b[0m\u001b[0m\n\u001b[1;32m--> 141\u001b[1;33m         \u001b[1;32mraise\u001b[0m \u001b[0mTypeError\u001b[0m\u001b[1;33m(\u001b[0m\u001b[1;34mf\"cannot convert the series to {converter}\"\u001b[0m\u001b[1;33m)\u001b[0m\u001b[1;33m\u001b[0m\u001b[1;33m\u001b[0m\u001b[0m\n\u001b[0m\u001b[0;32m    142\u001b[0m \u001b[1;33m\u001b[0m\u001b[0m\n\u001b[0;32m    143\u001b[0m     \u001b[0mwrapper\u001b[0m\u001b[1;33m.\u001b[0m\u001b[0m__name__\u001b[0m \u001b[1;33m=\u001b[0m \u001b[1;34mf\"__{converter.__name__}__\"\u001b[0m\u001b[1;33m\u001b[0m\u001b[1;33m\u001b[0m\u001b[0m\n",
      "\u001b[1;31mTypeError\u001b[0m: cannot convert the series to <class 'int'>"
     ]
    }
   ],
   "metadata": {}
  },
  {
   "cell_type": "code",
   "execution_count": null,
>>>>>>> Stashed changes
   "source": [
    "######### BASE\r\n",
    "y_train = train_data.price\r\n",
    "y_valid = test_data.price\r\n",
    "\r\n",
    "mean = y_train.mean()\r\n",
    "y_train_hat = np.full(len(y_train), mean)\r\n",
    "y_valid_hat = np.full(len(y_valid), mean)\r\n",
    "\r\n",
    "print(f'Train rmsle: {root_mean_squared_log_error(y_true=y_train, y_pred=y_train_hat) :.4f}')\r\n",
    "print(f'Valid rmsle: {root_mean_squared_log_error(y_true=y_valid, y_pred=y_valid_hat) :.4f}')"
<<<<<<< Updated upstream
   ]
  },
  {
   "cell_type": "code",
<<<<<<< Updated upstream
   "execution_count": 917,
=======
   "execution_count": 6,
>>>>>>> Stashed changes
   "metadata": {},
   "outputs": [],
=======
   ],
   "outputs": [
    {
     "output_type": "stream",
     "name": "stdout",
     "text": [
      "Train rmsle: 0.9664\n",
      "Valid rmsle: 0.9863\n"
     ]
    }
   ],
   "metadata": {}
  },
  {
   "cell_type": "code",
   "execution_count": null,
>>>>>>> Stashed changes
   "source": [
    "model2 = RandomForestRegressor(\r\n",
    "    n_estimators=n_estimators,\r\n",
    "    criterion=criterion,\r\n",
    "    max_depth=max_depth,\r\n",
    "#     min_samples_split=2,\r\n",
    "#     min_samples_leaf=2,\r\n",
    "    min_weight_fraction_leaf=min_weight_fraction_leaf,\r\n",
    "    max_features=max_features,\r\n",
    "    max_leaf_nodes=max_leaf_nodes,\r\n",
    "    min_impurity_decrease=min_impurity_decrease,\r\n",
    "    bootstrap=bootstrap,\r\n",
    "    oob_score=oob_score,\r\n",
    "    n_jobs=n_jobs,\r\n",
    "    random_state=random_state_model,\r\n",
    "    verbose=verbose,\r\n",
    "    warm_start=warm_start,\r\n",
    "    ccp_alpha=ccp_alpha,\r\n",
    "    max_samples=max_samples\r\n",
    ")"
   ]
  },
  {
   "cell_type": "code",
<<<<<<< Updated upstream
<<<<<<< Updated upstream
   "execution_count": 918,
=======
   "execution_count": 7,
>>>>>>> Stashed changes
   "metadata": {},
=======
   "execution_count": null,
   "source": [
    "model2.fit(X_train, y_train)"
   ],
>>>>>>> Stashed changes
   "outputs": [
    {
     "data": {
      "text/plain": [
       "RandomForestRegressor(max_features='sqrt', n_estimators=200, random_state=2,\n",
       "                      warm_start=True)"
      ]
     },
<<<<<<< Updated upstream
     "execution_count": 918,
=======
     "execution_count": 7,
>>>>>>> Stashed changes
     "metadata": {},
<<<<<<< Updated upstream
     "output_type": "execute_result"
=======
     "execution_count": 84
>>>>>>> Stashed changes
    }
   ],
   "source": [
    "model2.fit(X_train, y_train)"
   ]
  },
  {
   "cell_type": "code",
<<<<<<< Updated upstream
<<<<<<< Updated upstream
   "execution_count": 919,
=======
   "execution_count": 8,
>>>>>>> Stashed changes
   "metadata": {},
=======
   "execution_count": null,
   "source": [
    "importances = model2.feature_importances_\r\n",
    "forest_importances = pd.Series(importances, index=X_train.columns)\r\n",
    "\r\n",
    "fig, ax = plt.subplots()\r\n",
    "forest_importances.plot.bar(ax=ax)\r\n",
    "ax.set_title(\"MDI or Gini Importance\")\r\n",
    "ax.set_ylabel(\"Mean decrease in impurity\")\r\n",
    "fig.tight_layout()"
   ],
>>>>>>> Stashed changes
   "outputs": [
    {
     "data": {
<<<<<<< Updated upstream
      "image/png": "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\n",
=======
      "image/png": "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",
>>>>>>> Stashed changes
      "text/plain": [
       "<Figure size 432x288 with 1 Axes>"
      ]
     },
     "metadata": {},
     "output_type": "display_data"
    }
   ],
   "source": [
    "importances = model2.feature_importances_\r\n",
    "forest_importances = pd.Series(importances, index=X_train.columns)\r\n",
    "\r\n",
    "fig, ax = plt.subplots()\r\n",
    "forest_importances.plot.bar(ax=ax)\r\n",
    "ax.set_title(\"MDI or Gini Importance\")\r\n",
    "ax.set_ylabel(\"Mean decrease in impurity\")\r\n",
    "fig.tight_layout()"
   ]
  },
  {
   "cell_type": "code",
<<<<<<< Updated upstream
<<<<<<< Updated upstream
   "execution_count": 920,
=======
   "execution_count": 9,
>>>>>>> Stashed changes
   "metadata": {},
   "outputs": [],
=======
   "execution_count": null,
>>>>>>> Stashed changes
   "source": [
    "# Unormalize data\r\n"
   ]
  },
  {
   "cell_type": "code",
<<<<<<< Updated upstream
<<<<<<< Updated upstream
   "execution_count": 921,
=======
   "execution_count": 10,
>>>>>>> Stashed changes
   "metadata": {},
   "outputs": [],
=======
   "execution_count": null,
>>>>>>> Stashed changes
   "source": [
    "rf_prediction = model2.predict(X_test)"
   ]
  },
  {
   "cell_type": "code",
<<<<<<< Updated upstream
<<<<<<< Updated upstream
   "execution_count": 922,
=======
   "execution_count": 11,
>>>>>>> Stashed changes
   "metadata": {},
=======
   "execution_count": null,
   "source": [
    "rf_mse = root_mean_squared_log_error(rf_prediction, y_test)\r\n",
    "print('Test MSE:', rf_mse)"
   ],
>>>>>>> Stashed changes
   "outputs": [
    {
     "name": "stdout",
     "output_type": "stream",
     "text": [
<<<<<<< Updated upstream
      "Test MSE: 0.17679267340023655\n"
=======
      "Test MSE: 0.18766934813543656\n"
>>>>>>> Stashed changes
     ]
    }
   ],
   "source": [
    "rf_mse = root_mean_squared_log_error(rf_prediction, y_test)\r\n",
    "print('Test MSE:', rf_mse)"
   ]
  },
  {
   "cell_type": "code",
<<<<<<< Updated upstream
<<<<<<< Updated upstream
   "execution_count": 923,
=======
   "execution_count": 12,
>>>>>>> Stashed changes
   "metadata": {},
=======
   "execution_count": null,
   "source": [
    "plt.scatter(rf_prediction, y_test, alpha=0.15)\r\n",
    "plt.xlabel('Random Forest prediction')\r\n",
    "plt.ylabel('Ground Truth')"
   ],
>>>>>>> Stashed changes
   "outputs": [
    {
     "data": {
      "text/plain": [
       "Text(0, 0.5, 'Ground Truth')"
      ]
     },
<<<<<<< Updated upstream
     "execution_count": 923,
=======
     "execution_count": 12,
>>>>>>> Stashed changes
     "metadata": {},
<<<<<<< Updated upstream
     "output_type": "execute_result"
=======
     "execution_count": 89
>>>>>>> Stashed changes
    },
    {
     "data": {
<<<<<<< Updated upstream
      "image/png": "iVBORw0KGgoAAAANSUhEUgAAAXsAAAEUCAYAAADKnJaEAAAAOXRFWHRTb2Z0d2FyZQBNYXRwbG90bGliIHZlcnNpb24zLjQuMiwgaHR0cHM6Ly9tYXRwbG90bGliLm9yZy8rg+JYAAAACXBIWXMAAAsTAAALEwEAmpwYAAA3yklEQVR4nO3deXhTVf4/8HfSdKGUrknpgohIkW0QEQcUREY7jIo+jP4QRJZBxVHZBGVzQwZc+KrFQSiiFmRwGB+YcWFkFJ0KilBlZIcCBaTIUrqG0tKSNsk9vz/SXpM2y02bpLfN+/U8PtKbm9xPb9vPPffccz5HI4QQICKiNk3b0gEQEZH/MdkTEQUBJnsioiDAZE9EFASY7ImIggCTPRFRENC1dADurFy5Env37kVMTAwyMjLc7ltaWorMzExUVVVBkiQ89NBD6N+/f4AiJSJSN1Un+2HDhuHOO+9EZmamx30//vhj3HzzzRg+fDjOnTuH1157jcmeiKiOqpN9r169UFxc7LCtsLAQq1evRkVFBcLDw/H4448jNTUVGo0G1dXVAIDq6mrExcW1RMhERKqk6mTvzHvvvYfHHnsMycnJOHHiBLKysvDSSy/hgQcewMsvv4wtW7agpqYGL774YkuHSkSkGq0q2ZtMJuTl5WHp0qXyNovFAgDYuXMnhg0bhnvvvRfHjx/H8uXLkZGRAa2Wz6CJiFpVspckCe3bt8cbb7zR6LWtW7fiueeeAwB0794dZrMZlZWViImJCXSYRESq06qavZGRkUhMTMQPP/wAABBC4PTp0wAAvV6Pw4cPAwDOnTsHs9mM6OjolgqViEhVNGquevnXv/4VR44ckVvoo0ePRp8+ffD++++jvLwcFosFgwcPxqhRo3Du3Dm8++67MJlMAIDx48fj+uuvb+HvgIhIHVSd7ImIyDdaVTcOERE1DZM9EVEQUPVonIKCAkX76fV6lJaW+jmaplFrbGqNC1BvbGqNC1BvbGqNC1BvbM2JKyUlxeVrbNkTEQUBJnsioiDAZE9EFASY7ImIggCTPRFREFD1aBwi8g+ppBDYtB6i3AhNbDwwchy0hqSWDov8iMmeKMhIJYUQby0ASgoBAAIATuVBmrWICb8NYzcOUbDZtF5O9LK6lj61XUz2REFGlBu92k5tA5M9UZDRxMZ7tZ3aBiZ7omAzchzQsG/ekGTbTm0WH9ASBRmtIQnSrEUcjRNkmOyJgpDWkARMfqalw6AAYjcOEVEQYLInIgoCTPZEREGAyZ6IKAgw2RMRBQEmeyKiIMBkT0QUBJjsiYiCAJM9EVEQYLInIgoCTPZEREGAyZ6IKAgw2RMRBQEmeyKiIMBkT0QUBJjsiYiCAJM9EVEQYLInIgoCTPZEREGAyZ6IKAgEbMHxzZs3Y+vWrdBoNLjqqqswZcoUhIWFBerwRERBLSAte6PRiC+//BJLlixBRkYGJElCTk5OIA5NREQIYDeOJEmora2F1WpFbW0t4uLiAnVoIqKgpxFCiEAc6IsvvsBHH32EsLAwXH/99ZgxY0ajfbKzs5GdnQ0AWLJkCWpraxV9tk6ng8Vi8Wm8vqLW2NQaF6De2NQaF6De2NQaF6De2JoTl7uu8YAk+8uXLyMjIwOzZs1CZGQkli5dikGDBmHo0KFu31dQUKDo8/V6PUpLS30Rqs+pNTa1xgWoNza1xgWoNza1xgWoN7bmxJWSkuLytYB04xw6dAiJiYmIjo6GTqfDwIEDcfz48UAcmoiIEKBkr9frceLECdTU1EAIgUOHDiE1NTUQhyYiIgRo6GVaWhoGDRqEefPmISQkBF26dEF6enogDk1ERAjgOPvRo0dj9OjRgTocERHZ4QxaIqIgwGRPRBQEmOyJiIIAkz0RURAI2ANaIiJnpJJCYNN6iHIjNLHxwMhx0BqSWjqsNofJnohajFRSCPHWAqCkEAAgAOBUHqRZi5jwfYzdOETUcjatlxO9rK6lT77FZE9ELUaUG73aTk3HZE9ELUYTG+/Vdmo6JnsiajkjxwEN++YNSbbt5FN8QEtELUZrSII0axFH4wQAkz0RtSitIQmY/ExLh9HmsRuHiCgIMNkTEQUBJnsioiDAZE9EFASY7ImIggCTPRFREGCyJyIKAkz2RERBgMmeiCgIMNkTEQUBJnsioiDAZE9EFASY7ImIggCTPRFREGCyJyIKAkz2RERBQNHiJRaLBd9++y1Onz4Nk8nk8Nq0adP8EhgREfmOomS/YsUK/PLLL7jxxhsRExPj75iIiMjHFCX7AwcOYMWKFWjfvr2/4yEiIj9Q1Gev1+thNpv9HQsREfmJy5b94cOH5X8PHToUb7zxBu666y7ExsY67NenTx+/BUdERL7hMtm/8847jbZ99NFHDl9rNBqsWLFC0YGqqqqwatUqnD17FhqNBk8++SS6d+/uZbhERNQULpN9ZmamTw/0wQcfoF+/fnjmmWdgsVhQU1Pj088nIiLXFPXZv/766063v/nmm4oOUl1djaNHj+L2228HAOh0Oj7sJSIKIEWjcXJzc73a3lBxcTGio6OxcuVK/PLLL+jatSsmTZqEiIgIh/2ys7ORnZ0NAFiyZAn0er2iz9fpdIr3DTS1xqbWuAD1xubLuCyFBaj66D1YjaUIidej/dg/Q5eUoorYfEmtcQHqjc1fcblN9hs2bABgm1RV/+96RUVFMBgMig5itVqRn5+PRx55BGlpafjggw/w2Wef4cEHH3TYLz09Henp6fLXpaWlij5fr9cr3jfQ1BqbWuMC1Bubr+KSSgoh3loAlBQCAMwATEcPQjNrEbSGpBaNzdfUGheg3tiaE1dKiusGg9tunLKyMpSVlUGSJPnf9f/p9Xo8/fTTigJISEhAQkIC0tLSAACDBg1Cfn6+F98CURuyab2c6GUlhbbtRH7itmU/ZcoUAED37t0dWtzeio2NRUJCAgoKCpCSkoJDhw6hU6dOTf48otZMlBu92k7kC4r67H/zm9+gqKjI6WsdO3ZUdKBHHnkEb7/9NiwWCxITE+ULCVGw0cTGQ7jYTuQvipL9jBkzXL7WsC/flS5dumDJkiXKoiJqy0aOA07lOXblGJJs24n8RFGyb5jQy8vL8c9//hM9e/b0S1BEbZnWkARp1iJg03qIcqOtRT9yXJMfzhIpoSjZNxQbG4tJkybhqaeewpAhQ3wdE1GbpzUkAZOfaekwKIg0efGSgoICzoIlImolFLXsFyxYAI1GI39dU1ODs2fPYtSoUX4LjIiIfEdRsq8vc1AvIiICV199NZKTk/0SFBER+ZbHZC9JEg4fPozHH38coaGhgYiJiIh8zGOfvVarxcGDBx26cYiIqHVR9IB2xIgR2LhxIywWi7/jISIiP3DbjbNjxw4MGTIEW7ZsQXl5Of7zn/8gOjraYR9ni5wQEZG6uE3277//PoYMGYLp06cHKh4iIvIDt8leCFsFj169egUkGCIi8g+3yb5+JI47XHCciEj93CZ7s9mMVatWyS38hrxZcJyIiFqO22QfERHBZE5E1AY0uTYOERG1Hooe0BIRtRZS3RKPLB/tyG2yX7duXaDiICJqMjnBFxcCBb8ANSYAsK0IdioPUjMWc28r2I1DRK2aVFII8dYCiF3fAfl5cqKXcTF3AE1cvISISDU2rXdc4tEJUW5s1L1jmTQd0IW5fE9b6w5isieiVk2UGz3vFNEO4q0F8kVBACg/fRLSUy85TeD1dwv2+7f27iCX3TiSJCn6j4haB6mkEFJWBqxvPg8pK8PWcm0DNLHx7nfQ1ZVmb/D9WovOu+7ecXa30Mq7g1y27MeOHavoAxouRk5E6tMWW6qykeOAU3muu3J63wCYrjh9ydVdgbfbWwOXyd5+MtXevXvx448/4r777oNer0dpaSk2bdqEgQMHBiRIImomdy3VVr7wudaQBGnWIogNWUDuPsBi/vVFQxI0Yybb+t6dvNfVXYEmNt6r/VsDl8neYDDI/968eTOWLFmC9u3bAwBSUlLQtWtXPPvssxg+fLj/oySiZmmLLVV7WkMSMO0Flw9VJSet/5COqbbtzji7WzAk2ba3Uooe0FZXV6OmpkZO9gBQW1uL6upqvwVGRL7TFluqzmgNSU7vVOpb//YXgthJ01HuYjSOs/2DYjTObbfdhsWLF2PEiBFISEhAWVkZvvzyS9x2223+jo+IfKENtlS91fBCoNPrgdJSxfu3doqS/fjx45GUlIScnBxcvHgRsbGx+MMf/oD09HR/x0dEPtAWW6rkHUXJXqvVYvjw4eyfJ2rF2lpLlbyjeFLVgQMHcPr0aZhMjlORx4wZ4/OgiIjItxQl+9WrV+OHH35A7969ER4e7u+YiIjIxxQl+x07duCNN96AXq/3dzxEROQHiqpeRkdHOwy7JCKi1kVRy/6ee+7B22+/jfvuuw8xMTEOr3Xs2NEvgRERke8oSvZZWVkAbGUTGmJtHCIi9VOU7H2V0CVJwvz58xEfH4/58+f75DOJiMizgK5U9cUXXyA1NTWQhyQiIihs2S9YsAAajcbpa3/5y18UHaisrAx79+7F/fffj82bNyuPkIioTltbPSqQFCX722+/3eHr8vJybNu2DbfeeqviA61duxbjx4/HlSvO60oDQHZ2NrKzswEAS5YsUTzUU6fTqXZYqFpjU2tcgHpjU2tcgHpj82VclsIClC/7i23REdhq8oecPonYhcugS0pp0dh8yV9xKUr2w4YNa7Rt0KBBWLlyJUaNGuXx/Xv27EFMTAy6du2K3Nxcl/ulp6c71NspdVOkyF59jX01Umtsao0LUG9sao0LUG9svoxLWrscoi7R17MWnYdx7XJom1AGoi2es5QU1xe9Jq9BGx8fj19++UXRvnl5edi9ezf27duH2tpaXLlyBW+//TZmzJjR1MMTUZBp6zX5/U1Rst+6davD17W1tdi1axe6d++u6CAPPfQQHnroIQBAbm4uPv/8cyZ6IvJKsNTk9xdFyf777793+Do8PBzXXXcdRowY4ZegiIgaYU3+ZlGU7F966SWfHbB3797o3bu3zz6PiIIDa/I3j+I++wsXLmDnzp0wGo2Ij4/H4MGDkZyc7M/YiIgcsCZ/0ymaVLV7927Mnz8f58+fR1RUFAoKCjB//nzs3r3b3/EREZEPKGrZf/TRR5gzZw769Okjb8vNzcWaNWswYMAAvwVHRES+oahlbzQa0bNnT4dtPXr0QFlZmV+CIiIi31KU7Lt06YLPP//cYdvmzZvRpUsXf8REROR3lsICSFkZsL75PKSsDFsphjZMUTfO5MmT8X//93/48ssvkZCQgLKyMoSFhWHevHn+jo+IyOekkkKUL/uLPCNXAMCpPEizFrXZ0T0ek70kSbh48SJef/11nD59Wh6N061bN+h0TZ6AS0TkU14VSdu0Xq6xI6t7f1sd7eMxW2u1Wrz++utYt24devToEYiYiIi8IpUUQry1QJ5w5amlHoylFxT12ffs2RPHjx/3dyxE1IZIJYW49NbCwPSJb1rvOLMW+LWl7oSrEgttufSCon4Yg8GA1157DQMGDEBCQoJDbfsxY8b4LTgiap3qW9omhS3t5vK6pT5yHEJOn3TsymnjpRcUJfva2lrcdNNNAGzDMImI3HLX0vZDn7i3RdK0hiTELlwG49rlQVN6QVGynzJlir/jIKI2JOB94k0okqZLSmlSHfzWymOyt1gs8qibY8eOQZIk+bXrrrsOISEh/ouOqI1T2zJ7voon0OWIWSTNM7fJ/uuvv0ZeXh6mT58OAHj55ZfRoUMHAEBNTQ3Gjx/faMlCIlLG2xEkrSqeFihHzCJp7rkdjfPdd9/h3nvvlb8ODQ3FO++8g3feeQcLFizAN9984/cAidosL0eQtKZ4tIYkaGYtQsTQ4cB1v4Fm4G3QtOEJS62B25Z9cXGxQ0mETp06yf+++uqrUVxc7LfAiNo6tY319nU8WkMSYmYthFmF67wGI7fJ3mQywWQyISIiAgCwePFi+bWamhqYTCb/RkekUr7o21bbMntqi4d8y203TufOnXHw4EGnr+3fvx9XXXWVX4IiUrP6vm2x6zsg7xDEru8g3lrg/aShkeNs/dj2WnKst9riIZ9y27K/++67kZWVBQAYMGAAtFotJEnC7t27sWbNGkycODEgQRKpio/GkKttBElT41HbiCJyzm2yHzx4MIxGI5YvXw6LxYLo6GhUVFQgNDQUo0aNwpAhQwIVJ5Fq+LJvW20jSLyNpykjeHhxaBkex9nfe++9uOOOO3D8+HFUVlaiQ4cO6N69OyIjIwMRH5HqsG/bjpd3OWobbhpMFM2gjYyMRL9+/fwcClEr0QJjyJ2xbyFf6pgM6c5Rfk+YDVvloviC0/1c3uX4qYxCS98ttPTxlWBBeiIvqaGvvWEL2ZR3CDh60CctZFeJy2mrPDzC6We4usvxx3DTlr5baOnjK8VkT9QELd7X7scWsqvE5fSYNSZbwq+xG4bt5i7HL11gAS66prrjK8RkT9QK+W1ClpvE5fKzU6+GxpCk7C7HD11gLT05raWPrxSTPVEr5K+HxO4Sl8tjGpIUV4/0RxeYPx+Y23dpIaKdbaPpikPcreWBPZM9UWvkp4fEbhOXj47p8y4wP52Lhl1a9hy6t1TywN4TJnsiFfB2NEfDFnJEx2TU+GI0jpvEpYYH0874LS5nXVr26n5m2snPqPK8NMRkT9TCmjqaw76FHKPXo9QHBcc8Jc4WfzDtgj/iUtLnXr+PWs+LPSZ7opamstEcrSFxBYKrLi0H9f34PlB/d2esqoTUvoPP7w6Y7In8SEn3TGsZzdHaNHuik7MurYbO5kMqKfTJ3Ib6uztz/UYfj9VnsifyE6XdMy5bkKVFsL75vMtEFcgZtIGaIeqr4/hiolPDLi0UFQDlZY47GUt8cwcWgLs7Jnsif1H6B+ysBakNAcqKgbJip4nKnzNoGwrUDFG3E7oA7y4CLs69yHgBVn1HaGLjYZk0HdCFuY3JvkvL+ubzjZM9fHMHFoi7u4Ak+9LSUmRmZqK8vBwajQbp6em4++67A3Foohaj9A+4UQuytMiW6O01vEgEsp8/UMdylaA3ZAEFZ7y62LhMknYX0PLTJyE99ZLiC5Y/x9MHYqx+QJJ9SEgIJkyYgK5du+LKlSuYP38++vbt67DMIVFb480fcKMWZMNkD8cEFsh+/uYcy1JYAGntco8tcqmkEOLIfucfcioPqLzkuM3DxUbJw1Vr0XlovLlgKRhP3+RuqACM1Q9Iso+Li0NcXBwAoF27dkhNTYXRaGSyp7atiX/ASi4SgZy12dRjSSWFKF/2F4ii8wBct8jl7puGCd0DUW50nVyVPFyFdxdHT8NSm9PdZf/ZuqpKWNrCaJzi4mLk5+ejW7dugT40UUA1ebKPkotEIGdtNvVYm9bDWpfoZc5a5O4mLxmSgJTOwIH/NX4top3b5OqxawzeXxzdDkttZndX/WfH+2jOREMBTfYmkwkZGRmYNGmS08VPsrOzkZ2dDQBYsmQJ9Hq9os/V6XSK9w00tcam1rgA9cbWpLj0eqDna16/x7JoBao+eg9WYylC4vVoP/bP0CWluNxHl2BA5IOPOe7jK0riccJYVfnrMEI7uqpKxNudR1f7ISoaYV3SYC03whrRDjBdkV8K6ZiKkLAw1DpJruFb/oWYWQsdzr2lsADGF6ZA2Cf8sHBEjxiNCB/9rin9fj3x1+9/wJK9xWJBRkYGbr31VgwcONDpPunp6UhPT5e/Vnp10/vpSugLao1NrXEB6o0toHHpwoAJ0wAAEoByAGh4bLt9outj81d8SuJpQGrfwel2S/sODufR1X4w16L2p+9//To8AkhMBqqrYI1sD+uxQ07fZiq6AHNpaeMiZvZlmAGgtgaX3noJFXNe9ckSikq/X0+a83uWkuL6AhyQZC+EwKpVq5Camop77rknEIckUqQ1rDDUao0ch5DTJx27csIjIIoLIWVluO9fb1gjH7B9XXzB9n8nXTL1NLHxbouYObhY6rslFFVeEC0gyT4vLw/bt29H586dMWfOHADA2LFj0b9//0AcnsgpX4wfb+mLhb+n2HsTQ8NzoDUkIXbhMhjXLrctX1hwxpao8/Mg8vNc9q/bljssBPLzGh+s4QWgofrk6qmImR1fLaGo1kJx9QKS7Hv06IGNGzcG4lBEyjXzgVpLL0cXiCn23sQAND4HuqQUW1XIrAyI/OOOb7Y71w0ffNr2d5LsnekQA6R0dkiuVi9G2fhyCUU11xXStnQARC2l2WPV3V0sFJBKbN0Z1jefh5SVYWshe6OZx/cJhTF4fa5HjrO10u1pnacrTa9+CJn9CrT1Fw14McomNMztEorebFc7lkugoNXcserNuVj44q6gucdvbneDu4lQDWPw9lxrDUmwTpwOrFj8a9eNJNnKSEjWX3cMj4AYMtwhJmxab+s20mpt73GnU5eALqHYkpjsKXg184/Z5SxNJWVvfVCCoDmTnXzxrMLtRKi6Im71Bdo8nWtnFx/Njq8hGvbRS1bHJF5jAtYtl+vnKHooa0eTmOzyNbX3wXuLyZ5UzZ8PQJv9xzxyHHDiiK3yob0zpzyWvW1uF5JUUghhugLoQgGL3ehuhZOdml3rxtMD0LoaNPUF2jSzFkHj4ly7uvggKtr5Zzdsrdt3G3mR6EM6pkLycK7U3AfvLSZ7Uq3mVkGU6otonap70Nf1OmjGTHbYrzl/zFpDEqxXXdM42dsN53N1sWpOF5LTYYWhYUCvfo2+P2fHd3mhObjbcUiki2Nj03qIg7s9ximre4928jPOz7Wri4+nLhj72JU+ZwmPsD3MTUxG7KTpKPdQ9bItYbIn9WpGFUSppBDijedsibfegf9BnM2HNPsV392K283qtFdft8Xlxao5XUjOzou5FpqIds5rzjRsMad0dv65V6ogdn3nskvHeuyQYx+6F9wlY5evxcTZumw8jb/HrxdJp91qCYlAXVlj+wuZTq/33yQ0FWKyJ79T0sJ2xmUScFMFUaobYy2O7Hfen+yrxSbquG2hu+kuac4i1S5b5nWje+Sx6qYrzo9vNjfu/nESo8NQyJLCJid6wP0di8tzWH/XZT/+fshwYN1y1xdJJxdQTQCHoqoZkz35VXNa2IrWALUjSgoBBQ/ofFkGWAwZDuzf5ZgE65KP+Ntyt8e370Kq7x6xKkj8Ls/LudMQdRdUAdhGrjjjZAEOVzHKNq13negbjpBpyNMdi5u7HGfdbG4rT7ahB6q+xmRP/rVpvWOir6ekhe0qCbiqgnjpottp9LKIdg4tYHc11u0TR8OVjaSSQlsr0z4JhkcAE6fbHjwq7Jf3dnSMGDIc+GlH4wRbW9PgG3CTgD1oGKPbC2S7SNtdQsPzkNIZEVd1QY2H5RK9fVDu7jlLW3qg6mtM9uRXTeqrreMqCQCAsOuzB2C7CERFe072oWFA/nGIinLb5wCua6y/+bz88FUAuPjzMYinF8v7iQ1Zje8iakzQ7Pga6PEb563+8AiIgjOwzp8MRMdCk5jsurul4UPe4gtARTlwpUp5ItdoAOHh/ig01Na1U89JS9ztXVZVpfy9IfVqW/dLXbKOUVjUi0na/5jsya/cJQklI09cJQGnF4FN6xtPyW/IXGv7z17D/n4Xi0tLpUXAhixg2gu2BHxkn9NDiCP7YX119q+1YOzVmICz+bZ/lxXb4tWFOv+cgjPKC3q5otUCfW60PUh2UdMdvW6AJqKd+1a1ksVAaky219ltokoaITxd9ltOQUGBov3UWhIXUG9sgYrLaZ89AMQboJn9iu3fDZJ2Ys8+TYrNaWJU0rIFgMgowFzj2MJ1pl17aPoOcP0A2Kc0QI/fAMcONu9j6h5SAk4mHXnxANOhZHDBGffff93nNvVnGQht8W/TXYljJns/U2tsvo7L3eQnV6NxAOfJJ2HRiiaPf5aPdWSf58TdGoToAKul2R+jGXibbQRQg5+TGDLcNlPVyweaUlaGbZimh2Mmzn9Nlb//QNv822zxevYUeIEsvevpAaPWkARMe6Hx+7IynPZVV675KyRtiNOZlq5mYDpsB9pGogeUJ/p4PWB0nSBcjgB6a4FtFBO8LJugoFvHH4ufU9Mx2bdyzhIggMCW3nUz+Uly0RfsrohW7f7/yf3q9bFbJ053GF/tsH3NW3I3kWpvU/3JkISY6S/i0vLFLpOv0+cjzSib4PDw3EWXVmutDtlWMdm3Ym5nSDa39okXXLbgcvdB1E3cEQCwewesHWJto2ZKLrget+3sAeryRY2HFpYUAquXKho33uaEhdtGviQmAyPHIaJnH1TMWuS8C8vFOHdfVc1E1+uAM6ccn8u04uqQbRWTfWvmqmXmZgq/M16ts+mkzxelRc7jazhD02q1JWZ3ydnVzM6Gib6eGhO90ofCzdGpCzSGJNvPYdN6WOKmy91lSn+evqqaCQCINwDX/xYwXeFkJpVislchpX+s3vaJOvsjdjaeHEcPwnpNWqM/XKd3Ei4f0mngdaeKNsQ2Qcfvo1z8TKMFRNMnNDlwUQsG539xmC1bfvokpKde+vUZiZI7uKbW53HWyDCWQJPWC1onz2ZIHZjsVcab2ZQux7B3vc6hUBgA17fyG7IaV22suCjPUBUAcDwX1s5dndekcaUJuR6StfUnegCIjvXNHUdCInDfBODDzMazUxtcAKxF56HxspuuqSWem73CF7UIJnu18eahmauWWfpIIHuTrTtHkmzdCtVVEK88A2toGBCXgEtXdbEtKnHiiOeYLpY6L3ngjnpH9PpWwy6beAPw8Exg2ULXhcbqte8AXKl2PhtWFwpMesp5OQZDMnAuv9FbRPEFr8NvyszV5q7wRS2DyT6AlHTPeNNqctYyc1oVsKHyMpjyjwNHDza5iiHVuab7r33n9gte977Bef2eehHtoOnT31Yqwdl+vW+wjX93Uo4BV6qcf2bdjFu/95W3seX6ggWTfTMp7V9X2j3TlLU6HUrRZmU0ThCuNHUKPsk0hiTbohwNt4+Z3Lh+jz3TFdukpHgDEKdvNJJFM2ayy6qZiI4FLlc4L8XgpxFX9tracn3Bgsm+GbyqVqi0e6aZrSb2mwaQm59LfUL0OJvXWGLrzklIlAujyQ/EXV34E5MhoAHy8xq9FqifPwuXtT7alg6gVXO3klIDSrtntHU1RTQDb7M9aE1ItI1L37TedhfRgFRSCOuKl2GdOQ7WJ/8fcPJo07+fYKHRNO/9ulDg+t96rCmjNSQhZNoL0Pwl0/bzbNfe+Y5VlbYCZZcrHFvII8c1LipWd4HRJDo/LvvNyRW27JvB3WQi+75TqaTQ5Vh0Z3+cWkOSrQLjWwvkhZtF/nHgf9th1YbYJtRoNEDNFdvYdVIuNgGaua9BvJ/htGXslot1Xj2pbwV7rCfT4E7PXXeJxH5z8hKTfRO5S+CwmOU/WkthgcM4dgdO/jitxw4Ba5fZhu41TORC2GqlXGl+Yaw2JzoW0HcEOsQAp08Cl1xciDum2JJlYhKEkmRvt35pfHMXqG5CPRlX3SUNLwQRHZM9LhJCwY3Jvglclu21U/+QtHLNMueJPjZBLjtrXfEycDzX9SgLcq99B9uomLoWt1RSCPGXGW4XplZUnx0A9B0RUleKubkLVPu6noz9hUDpIiEUvJjsm0BsyPI87rykENaMF2B1VYu8vAxiwVTPY7HJs6pK27q2Z05BmvOqbejjhKlAVobjftoQ29BUNG4Zu1rYw9d94HKXjrOSA+yGIT9isldA7lqprgIi29v+70nlJc+LTjDR+9bFUrn7THNod+ORLJJVXjIQaFzuN5DJl8MXKdCY7F2QF8E4keuY3NnV4lvRcYBO57yrqwnq+7y9ndLfEsmXwxcpkJjs60glhRDrVtjKB/hgZaCg1CEGSOncaAUkaDRA4XnAVG176KzT2YYv2q1YJXenaLRA8XngyhVbaQCL2TYkUaH6bpemTOln8qW2LCiTvVRSCLHyNaf1RajpNL36Oc4mresuUcTuffbLsskzlEsKgUsXbaNuomOdj7iJ0//a7cKhiUQOgibZW2c/DFxSYe3zQLh7NPDlP90XJ4uJt41eqblia4lHRdsWQamtsS13Z7pia2VHRACdrgGKCgKyWIWr1rardW3ru13YJ07kqM0le+t//w1sbDyDNWhNfgYhA2+DNCTdlhxPHgWqLzsm/rpZu94kwkCuceuMq3VtG+3DbhkiAAFM9vv378cHH3wASZJwxx134I9//KPPj2HNeBE4dsDnn9vqhIbZujomPYUQ+5EndclRKilE+JZ/wVR0ocmJmomUqHUJSLKXJAmrV6/GCy+8gISEBDz77LMYMGAAOnXq5LNjWD/9e3Al+rrWOACvW9haQxJiZi2EmZNwiIJGQJL9yZMnkZSUhI4dOwIAbrnlFvz0008+Tfb4YqPvPsufevS1daEUnHG+KlOnLtCkXt24Foq7bhO2sInIg4Ake6PRiISEBPnrhIQEnDhxotF+2dnZyM7OBgAsWbIEer1e0efrdOp89KAxJEGr0QAx8QhNTkX7sX+GLikFAHDprYUwbf+60XsiunZHzKyFjT9Mrwd6vuaz2HQ6neLzG2hqjU2tcQHqjU2tcQHqjc1fcakqS6anpyM9PV3+Wmmtj4D/wMIjbJUnU6+2/bvykm3ESm0NEBLiMDKkfhihGUA5INdWke4cZVspqsHQwJo7RwWkxolexbVU1BqbWuMC1BubWuMC1Btbc+JKSUlx+VpAkn18fDzKyn4d9lhWVob4eB/X3b57dPO7ckJCgfBwWyKP19uWm7ObHOTLUSccGkhEgRSQZH/ttdfiwoULKC4uRnx8PHJycjBjxgyfHiPkvvGwAs4TfmQU0DHFNkKlxgSc/8W2vcHYbJe8mRzkBY5oIaJACUiyDwkJwSOPPIJXXnkFkiThd7/7Ha666irfH+e+8cB9433+uURErV3A+uz79++P/v37B+pwRERkh2vQEhEFASZ7IqIgwGRPRBQEmOyJiIKARgh3dW+JiKgtaBMt+/nz57d0CC6pNTa1xgWoNza1xgWoNza1xgWoNzZ/xdUmkj0REbnHZE9EFATaRLK3L56mNmqNTa1xAeqNTa1xAeqNTa1xAeqNzV9x8QEtEVEQaBMteyIico/JnogoCKhq8RJnPC1UbjabsWLFCpw6dQodOnTAzJkzkZiYCAD49NNPsXXrVmi1Wjz88MPo169fwOLavHkzvvnmG4SEhCA6OhpPPvkkDAYDAGDMmDHo3LkzANtCBfPmzfNZXEpi+/bbb/Hhhx/KawrceeeduOOOO+TXPvnkEwDA/fffj2HDhgUsrrVr1yI3NxcAUFtbi0uXLmHt2rUA/HvOVq5cib179yImJgYZGRmNXhdC4IMPPsC+ffsQHh6OKVOmoGvXrgD8e76UxPb9999j06ZNEEKgXbt2mDx5Mrp06QIAmDp1KiIiIqDVahESEoIlS5YELK7c3Fy8/vrr8t/iwIEDMWrUKACefw/8Hdu///1vfP/99wBs62OfO3cOq1evRlRUlF/PWWlpKTIzM1FeXg6NRoP09HTcfffdDvv49XdNqJjVahXTpk0ThYWFwmw2i9mzZ4uzZ8867LNlyxbx7rvvCiGE2LFjh1i6dKkQQoizZ8+K2bNni9raWlFUVCSmTZsmrFZrwOI6dOiQMJlMQgghvvrqKzkuIYQYP368T+Joamzbtm0TWVlZjd5bWVkppk6dKiorKx3+Hai47H3xxRciMzNT/tqf5yw3N1f8/PPP4umnn3b6+p49e8Qrr7wiJEkSeXl54tlnnxVC+Pd8KY3t2LFj8jH37t0rxyaEEFOmTBGXLl3yaTxK4zp8+LB47bXXGm339vfAH7HZ++mnn8TChQvlr/15zoxGo/j555+FEEJUV1eLGTNmNPre/fm7pupuHPuFynU6nbxQub3du3fLV7hBgwbh8OHDEELgp59+wi233ILQ0FAkJiYiKSkJJ0+eDFhcffr0QXh4OAAgLS0NRqPRJ8f2RWyu7N+/H3379kVUVBSioqLQt29f7N+/v0Xi2rlzJ4YMGeKTY3vSq1cvREVFuXx99+7dGDp0KDQaDbp3746qqipcvHjRr+dLaWzXXXed/HpaWprDinD+5CkuV5rz++mP2Hbu3InBgwf79PiuxMXFya30du3aITU1tVFe8Ofvmqq7cZQsVG6/T0hICCIjI1FZWQmj0Yi0tDR5v/j4eJ8lXKULqNfbunWrQxeS2WzG/PnzERISgpEjR+K3v/2tT+LyJrZdu3bh6NGjSE5Oxp/+9Cfo9fpG722pc1ZSUoLi4mL06dNH3ubPc+aJ0Wh0WOc4ISEBRqPRr+erKbZu3YobbrjBYdsrr7wCAPj9738f8KGGx48fx5w5cxAXF4cJEybgqquu8vpvx59qamqwf/9+PProow7bA3HOiouLkZ+fj27dujls9+fvmqqTfVuwfft2nDp1CgsXLpS3rVy5EvHx8SgqKsKiRYvQuXNnJCUFbu3ZG2+8EYMHD0ZoaCj++9//IjMzEy+99FLAju/Jzp07MWjQIGi1v954tvQ5U7vDhw9j27ZtWLRokbxt8eLFiI+Px6VLl/Dyyy8jJSUFvXr1Ckg811xzDVauXImIiAjs3bsXb7zxBt5+++2AHFupPXv2ONwZAYE5ZyaTCRkZGZg0aRIiIyN9+tnuqLobR8lC5fb7WK1WVFdXo0OHDo3eazQafbbIudIF1A8ePIhPP/0Uc+fORWhoqMP7AaBjx47o1asXTp8+7ZO4lMbWoUMHOZ477rgDp06dcvreljhnAJCTk9Po1tqf58yT+Ph4lJaWyl/Xx+7P8+WNX375Be+++y7mzJmDDh06yNvrY4mJicFNN93ks25MJSIjIxEREQHAtkqd1WpFRUWFV78H/uasq9Df58xisSAjIwO33norBg4c2Oh1f/6uqTrZ2y9UbrFYkJOTgwEDBjjsc+ONN+Lbb78FAPz444/o3bs3NBoNBgwYgJycHJjNZhQXF+PChQuNbpn8GVd+fj7ef/99zJ07FzExMfL2y5cvw2w2AwAqKiqQl5eHTp06+SQupbFdvHhR/vfu3bvl4/fr1w8HDhzA5cuXcfnyZRw4cMBnI5iUxAUA58+fR1VVFbp37y5v8/c582TAgAHYvn07hBA4fvw4IiMjERcX59fzpVRpaSnefPNNTJs2DSkpKfJ2k8mEK1euyP8+ePCgPJopEMrLyyHq5muePHkSkiShQ4cOin8P/K26uhpHjhxxOLa/z5kQAqtWrUJqairuuecep/v483dN9TNo9+7di7/97W/yQuX3338/NmzYgGuvvRYDBgxAbW0tVqxYgfz8fERFRWHmzJno2LEjAOCTTz7Btm3boNVqMWnSpEb9mf6Ma/HixThz5gxiY2MB/DpcMC8vD++99x60Wi0kScKIESNw++23+ywuJbH94x//wO7duxESEoKoqChMnjwZqampAGz9vp9++ikA2/Cu3/3udwGLCwA2btwIs9mMcePGye/z9zn761//iiNHjqCyshIxMTEYPXo0LBYLAGD48OEQQmD16tU4cOAAwsLCMGXKFFx77bUA/Hu+lMS2atUq7Nq1S+7nrR8uWFRUhDfffBOA7Y53yJAhuP/++wMW15YtW/D1118jJCQEYWFhmDhxIq677joAzn8PfMlTbIBtGOP+/fsxc+ZM+X3+PmfHjh3DggUL0LlzZ2g0GgDA2LFj5Za8v3/XVJ/siYio+VTdjUNERL7BZE9EFASY7ImIggCTPRFREOCkKiIiFfBUwM1efVG1qqoqSJKEhx56CP3793f7HrbsKaA2btyoupmUbZX9uS4tLcWECRMgSZLXn/PJJ59g1apVvg6PGhg2bBiee+45Rft+/PHHuPnmm/H6669j5syZWL16tcf3sGVPmDp1KsrLy6HVahEREYF+/frh0UcflWdAtka5ublYtGgRwsLC5G29e/fG/PnzA3L84uJiTJs2DR999BFCQkICckx39Ho9PvzwQ4/75ebmYvny5Q7J3dfj4Mm5Xr16obi42GFbYWEhVq9ejYqKCoSHh+Pxxx9HamoqNBoNqqurAdgmiMXFxXn8fCZ7AgDMmzcPffv2RXl5OV555RV8+umnGDt2bEuH1SxxcXHNbpFKkuRQo6elWK1WVVw0KLDee+89PPbYY0hOTsaJEyeQlZWFl156CQ888ABefvllbNmyBTU1NXjxxRc9fhaTPTmIjY3F9ddf71B75rPPPsM333yDS5cuISEhAWPHjpWrTn777bf45ptvkJaWhm3btiEyMhKTJ0+WZysXFxcjMzMT+fn5SEtLc5jSD9jKNfzjH/+A0WhEly5dMHnyZLkUwtSpU/GHP/wB27dvR1FREW655RaMHTsWK1euxLFjx5CWloZZs2Z5XWr33LlzyMrKwunTpxEfH4+HHnpInsGbmZmJsLAwlJaW4siRI5gzZw46deqENWvW4OjRo4iIiMCIESPkRSdOnjyJrKwsXLhwAWFhYRgyZAj+9Kc/yYXlJk2aBAB48cUXHUpAALZulrNnz0Kr1WLfvn1ITk7Gk08+6bD4yO9//3vs2LEDBQUF+PDDD/Hzzz9j3bp1OHfuHAwGAyZNmoTevXt7PNcN7zQuX76MdevW4cCBA6itrUXPnj0xY8YMvPrqq7BYLJgwYQIAYNmyZcjOzkZhYSFmzJjh1c+spKQE/fr1w9SpUx3usEgZk8mEvLw8LF26VN5WPxN4586dGDZsGO69914cP34cy5cvR0ZGhvuGSTNq8VMbMWXKFHHgwAEhhBClpaXi6aefFmvWrJFfz8nJEWVlZcJqtYqdO3eK8ePHC6PRKISwLYTy4IMPiv/+97/CarWKr776Svz5z38WkiQJIYR47rnnxNq1a0Vtba3Izc0VEyZMEMuWLRNCCHH+/Hkxfvx4ceDAAWE2m8Vnn30mpk2bJsxmsxzXc889Jy5evCjKysrEo48+KubOnStOnTolampqxMKFC8XGjRudfk+HDx8Wjz/+eKPtZrNZTJs2TXz88cfCbDaLQ4cOiQkTJojz588LIYRYsWKFmDhxojh69KiwWq3CZDKJuXPnin/+85/CbDaLwsJCMXXqVLFv3z75+/vuu++EEEJcuXJF5OXlCSGEKCoqEg888ICwWCwuz/uGDRvEgw8+KH744QdhNpvFpk2bxJQpUxy+/9mzZ4uSkhJRU1MjysrKxMMPPyz27NkjrFarOHDggHj44YflxTbcneuG8bz66qti6dKlorKyUpjNZpGbm+vyvG3YsMGrn9n8+fNFWVmZqKysFDNnzhRfffWVy3NAjoqKiuRFV6qqqsRjjz3mdL9Zs2aJkpIS+eupU6eK8vJyt5/d8venpApvvPEGJk6ciCeffFKuJ1Lv5ptvRnx8PLRaLW655ZZGC8Ho9Xqkp6dDq9Xitttuw8WLF3Hp0iWUlpbi559/xpgxYxAaGopevXrhxhtvlN+Xk5ODG264AX379oVOp8O9996L2tpa5OXlyfvceeediI2NRXx8PHr06IFu3brhmmuuQVhYGH77298iPz/f5fd08eJFTJo0Sf4vJycHJ06cgMlkwh//+EfodDr06dMH/fv3x44dO+T33XTTTejRowe0Wi3OnDmDiooKjBo1CjqdDh07dsQdd9yBnJwcAIBOp0NhYSEqKioQERHRqPXuSdeuXTFo0CDodDrcc889MJvNDvXd77rrLuj1eoSFhWH79u244YYb0L9/f2i1WvTt2xfXXnst9u7d6/FcNzwv+/fvx2OPPYaoqCjodDrFZXyV/MzuuusuxMfHIyoqCjfeeGNAK5S2JZGRkUhMTMQPP/wAwFZIrf5c6vV6HD58GIDtTtVsNiM6Otrt57EbhwAAc+bMQd++fXHkyBEsW7YMlZWVaN++PQDgu+++w+bNm1FSUgLAdntZWVkpv7e+2BsAeXUuk8mEiooKtG/f3uFBr8FgkAs/Xbx4UV6XFwC0Wq28iEo9+4qhYWFhjb6uqalx+T0567PPycmBXq93uN01GAwOx7RfJKKkpES+aNSTJAk9e/YEADzxxBPYsGEDZs2ahcTERIwaNcplknXG/lharRYJCQkOVUntF7IoLS3Fjz/+iD179sjbrFYrevfuDaPR6PZc2ysrK5NXPPKWkp+Z/e9DWFhYiy7o0prYF3B74oknMHr0aMyYMQPvv/8+PvnkE1gsFgwePBhdunTBxIkT8e677+I///kPAGDKlClycTVXmOzJQa9evTBs2DCsW7cOc+fORUlJCd59910sWLAA3bt3h1arxZw5c+Tyte7ExcWhqqoKJpNJTkL2yScuLg5nzpyRvxZCoLS01K/1zePi4lBaWurw4LW0tBTJycnyPvZ/NHq9HomJiS6HiyYnJ2PmzJmQJAn/+9//sHTpUqxevdrjH149+xrlkiShrKzM5ciKhIQE3HrrrXjiiScavVZSUuL2XDf8nMuXL6Oqqkq+oNfzFHdL/MyChX0FTnvPP/98o22dOnXC4sWLvfp8duNQIyNGjMChQ4dw+vRp1NTUQKPRyLeI27Ztw9mzZxV9jsFgwLXXXouNGzfCYrHg2LFjDq3SW265Bfv27cOhQ4dgsVjw+eefIzQ0VC6F6w9paWkIDw/Hv//9b1gsFuTm5mLPnj0u1yHt1q0b2rVrh88++wy1tbWQJAlnzpyRu7G2b9+OiooKaLVaedUhrVaL6OhoaDQaFBUVuY3n1KlT2LVrF6xWK7744guEhoY6LKdp79Zbb8WePXuwf/9+SJKE2tpa5ObmoqyszOO5tldfHz0rKwuXL1+GxWLBkSNHANjupCorK+VhfQ21xM+MfIMte2okOjoaQ4cOxb/+9S/Mnj0b99xzD55//nlotVoMHTrUqz/sGTNmIDMzEw8//DC6d++OoUOHoqqqCgCQkpKC6dOnY82aNfLIjnnz5kGn89+vpU6nw7x585CVlYVPP/0U8fHxmDZtmlzPvyGtVot58+Zh3bp1mDp1KiwWC1JSUjBmzBgAtkXa161bh5qaGhgMBjz11FPyyJP7778fL774IqxWK5577jmn/fn1i+xkZmYiKSkJzzzzjMvvX6/XY+7cufj73/+OZcuWQavVolu3bnjssccAuD/XDU2fPh1r167FrFmzYLFY0Lt3b/Tq1QupqakYPHgwpk2bBkmSHEaCAC3zMyPfYD17ohayceNGhyGNRP7EbhwioiDAZE9EFATYjUNEFATYsiciCgJM9kREQYDJnogoCDDZExEFASZ7IqIg8P8Bx5Lg/XPGJKAAAAAASUVORK5CYII=\n",
=======
      "image/png": "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",
>>>>>>> Stashed changes
      "text/plain": [
       "<Figure size 432x288 with 1 Axes>"
      ]
     },
     "metadata": {},
     "output_type": "display_data"
    }
   ],
   "source": [
    "plt.scatter(rf_prediction, y_test)\r\n",
    "plt.xlabel('Random Forest prediction')\r\n",
    "plt.ylabel('Ground Truth')"
   ]
  },
  {
   "cell_type": "code",
<<<<<<< Updated upstream
<<<<<<< Updated upstream
   "execution_count": 925,
=======
   "execution_count": 13,
>>>>>>> Stashed changes
   "metadata": {},
   "outputs": [
    {
     "name": "stdout",
     "output_type": "stream",
     "text": [
      "Num nans in train 0\n",
      "Num nans in test: 0\n",
      "Generated 9937 predictions\n"
     ]
<<<<<<< Updated upstream
=======
    },
    {
     "ename": "NameError",
     "evalue": "name 'json' is not defined",
     "output_type": "error",
     "traceback": [
      "\u001b[1;31m---------------------------------------------------------------------------\u001b[0m",
      "\u001b[1;31mNameError\u001b[0m                                 Traceback (most recent call last)",
      "\u001b[1;32m<ipython-input-13-fc8401f5cf96>\u001b[0m in \u001b[0;36m<module>\u001b[1;34m\u001b[0m\n\u001b[0;32m     50\u001b[0m     }\n\u001b[0;32m     51\u001b[0m \u001b[1;32mwith\u001b[0m \u001b[0mopen\u001b[0m\u001b[1;33m(\u001b[0m\u001b[1;34m'sample_RF_5_settings.json'\u001b[0m\u001b[1;33m,\u001b[0m \u001b[1;34m'w'\u001b[0m\u001b[1;33m)\u001b[0m \u001b[1;32mas\u001b[0m \u001b[0mfp\u001b[0m\u001b[1;33m:\u001b[0m\u001b[1;33m\u001b[0m\u001b[1;33m\u001b[0m\u001b[0m\n\u001b[1;32m---> 52\u001b[1;33m     \u001b[0mjson\u001b[0m\u001b[1;33m.\u001b[0m\u001b[0mdump\u001b[0m\u001b[1;33m(\u001b[0m\u001b[0msettings\u001b[0m\u001b[1;33m,\u001b[0m \u001b[0mfp\u001b[0m\u001b[1;33m)\u001b[0m\u001b[1;33m\u001b[0m\u001b[1;33m\u001b[0m\u001b[0m\n\u001b[0m",
      "\u001b[1;31mNameError\u001b[0m: name 'json' is not defined"
     ]
>>>>>>> Stashed changes
    }
   ],
=======
   "execution_count": null,
>>>>>>> Stashed changes
   "source": [
    "# ########## Create submission\r\n",
    "# # Fit model to the full dataset \r\n",
    "# train = train.fillna(train.mean())\r\n",
    "# train = train[(np.abs(stats.zscore(train['price'])) < outliers_value)]\r\n",
    "# X_train = train[features]\r\n",
    "# y_train = train['price']\r\n",
    "# print(f'Num nans in train {X_train.isna().any(axis=1).sum()}')\r\n",
    "# model = RandomForestRegressor(max_depth=20).fit(X_train, y_train)\r\n",
    "\r\n",
    "# # Generate predictions for test set \r\n",
    "# X_test = test[features]\r\n",
    "# X_test_nan = X_test.isna().any(axis=1)\r\n",
    "# print(f'Num nans in test: {X_test_nan.sum()}')\r\n",
    "# y_test_hat = model.predict(X_test[~X_test_nan])\r\n",
    "\r\n",
    "# # Construct submission dataframe\r\n",
    "# submission = pd.DataFrame()\r\n",
    "# submission['id'] = test.id\r\n",
    "# submission.loc[~X_test_nan, 'price_prediction'] = y_test_hat # Predict on non-nan entries\r\n",
    "# submission['price_prediction'].fillna(y_train.mean(), inplace=True) # Fill missing entries with mean predictor\r\n",
    "# print(f'Generated {len(submission)} predictions')\r\n",
    "\r\n",
    "# # Export submission to csv with headers\r\n",
    "\r\n",
<<<<<<< Updated upstream
    "############################################ CHANGE NAME !!!!!!!!!!\r\n",
    "submission.to_csv('sample_RF_5.csv', index=False)\r\n",
    "settings = {\r\n",
    "    'train_MSE': root_mean_squared_log_error(rf_prediction, y_test),\r\n",
    "    'features':features, \r\n",
    "    'outliers_value':outliers_value,\r\n",
    "    'nan_delete':'mean',\r\n",
    "    'test_size' : test_size,\r\n",
    "    'random_state_split' :  random_state_split,\r\n",
    "    'n_estimators': n_estimators,\r\n",
    "    'criterion': criterion,\r\n",
    "    'max_depth': max_depth,\r\n",
    "    'min_weight_fraction_leaf': min_weight_fraction_leaf,\r\n",
    "    'max_features': max_features,\r\n",
    "    'max_leaf_nodes': max_leaf_nodes,\r\n",
    "    'min_impurity_decrease': min_impurity_decrease,\r\n",
    "    'bootstrap': bootstrap,\r\n",
    "    'oob_score': oob_score,\r\n",
    "    'n_jobs': n_jobs,\r\n",
    "    'random_state': random_state_model,\r\n",
    "    'verbose': verbose,\r\n",
    "    'warm_start': warm_start,\r\n",
    "    'ccp_alpha': ccp_alpha,\r\n",
    "    'max_samples': max_samples,\r\n",
    "    'other':'None',\r\n",
    "    }\r\n",
    "with open('sample_RF_5_settings.json', 'w') as fp:\r\n",
    "    json.dump(settings, fp)"
   ]
=======
    "# ############################################ CHANGE NAME !!!!!!!!!!\r\n",
    "# submission.to_csv('sample_RF_5.csv', index=False)\r\n",
    "# settings = {\r\n",
    "#     'train_MSE': root_mean_squared_log_error(rf_prediction, y_test),\r\n",
    "#     'features':features, \r\n",
    "#     'outliers_value':outliers_value,\r\n",
    "#     'nan_delete':'mean',\r\n",
    "#     'test_size' : test_size,\r\n",
    "#     'random_state_split' :  random_state_split,\r\n",
    "#     'n_estimators': n_estimators,\r\n",
    "#     'criterion': criterion,\r\n",
    "#     'max_depth': max_depth,\r\n",
    "#     'min_weight_fraction_leaf': min_weight_fraction_leaf,\r\n",
    "#     'max_features': max_features,\r\n",
    "#     'max_leaf_nodes': max_leaf_nodes,\r\n",
    "#     'min_impurity_decrease': min_impurity_decrease,\r\n",
    "#     'bootstrap': bootstrap,\r\n",
    "#     'oob_score': oob_score,\r\n",
    "#     'n_jobs': n_jobs,\r\n",
    "#     'random_state': random_state_model,\r\n",
    "#     'verbose': verbose,\r\n",
    "#     'warm_start': warm_start,\r\n",
    "#     'ccp_alpha': ccp_alpha,\r\n",
    "#     'max_samples': max_samples,\r\n",
    "#     'other':'None',\r\n",
    "#     }\r\n",
    "# with open('sample_RF_5_settings.json', 'w') as fp:\r\n",
    "#     json.dump(settings, fp)"
   ],
   "outputs": [],
   "metadata": {}
>>>>>>> Stashed changes
  },
  {
   "cell_type": "code",
   "execution_count": null,
   "metadata": {},
   "outputs": [],
   "source": []
  },
  {
   "cell_type": "code",
   "execution_count": null,
   "metadata": {},
   "outputs": [],
   "source": []
  }
 ],
 "metadata": {
  "interpreter": {
   "hash": "433299c0a6ef7fa1dabdb443310bde6b781d19168ce6c46534a3abeb460e20e7"
  },
  "kernelspec": {
   "display_name": "Python 3",
   "language": "python",
   "name": "python3"
  },
  "language_info": {
   "codemirror_mode": {
    "name": "ipython",
    "version": 3
   },
   "file_extension": ".py",
   "mimetype": "text/x-python",
   "name": "python",
   "nbconvert_exporter": "python",
   "pygments_lexer": "ipython3",
   "version": "3.7.8"
  }
 },
 "nbformat": 4,
 "nbformat_minor": 4
}
