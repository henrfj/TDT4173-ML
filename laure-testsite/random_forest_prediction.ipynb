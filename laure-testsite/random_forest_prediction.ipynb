{
 "cells": [
  {
   "cell_type": "markdown",
   "metadata": {},
   "source": [
    "# Random forest predictions"
   ]
  },
  {
   "cell_type": "code",
   "execution_count": 1,
   "metadata": {},
   "outputs": [],
   "source": [
    "import pandas as pd\n",
    "import numpy as np\n",
    "from sklearn.model_selection import train_test_split\n",
    "from sklearn.metrics import mean_squared_error\n",
    "from sklearn.ensemble import RandomForestRegressor\n",
    "from sklearn import preprocessing\n",
    "from scipy import stats\n",
    "import utils as u\n",
    "import copy\n",
    "\n",
    "import matplotlib.pylab as plt\n",
    "plt.style.use('ggplot')\n",
    "\n",
    "def root_mean_squared_log_error(y_true, y_pred):\n",
    "    # Alternatively: sklearn.metrics.mean_squared_log_error(y_true, y_pred) ** 0.5\n",
    "    assert (y_true >= 0).all() \n",
    "    assert (y_pred >= 0).all()\n",
    "    log_error = np.log1p(y_pred) - np.log1p(y_true)  # Note: log1p(x) = log(1 + x)\n",
    "    return np.mean(log_error ** 2) ** 0.5\n",
    "\n",
    "%run utils.py"
   ]
  },
  {
   "cell_type": "code",
   "execution_count": 2,
   "metadata": {},
   "outputs": [],
   "source": [
    "metaData = u.getAllMetadata()\n",
    "\n",
    "train = u.getAllTrainData()\n",
    "# train.rename(columns={'id_x' : 'apartment_id'}, inplace=True)\n",
    "# train.drop('id_y', axis=1, inplace=True)\n",
    "\n",
    "test = u.getAllTestData()\n",
    "# test.rename(columns={'id_x' : 'apartment_id'}, inplace=True)\n",
    "# test.drop('id_y', axis=1, inplace=True)"
   ]
  },
  {
   "cell_type": "code",
   "execution_count": 3,
   "metadata": {},
   "outputs": [],
   "source": [
    "####### SETTINGS ##############\n",
    "test_size = 0.25\n",
    "random_state_split = 42\n",
    "outliers_value = 4\n",
    "all_features = ['seller','area_total','area_kitchen','area_living','floor','rooms','layout','ceiling','bathrooms_shared','bathrooms_private','windows_court','windows_street','balconies','loggias','condition','phones','building_id', 'new','latitude','longitude','district','constructed','material','stories','elevator_without','elevator_passenger','elevator_service','parking','garbage_chute','heating']\n",
    "features = [\"area_total\", \"latitude\", \"longitude\", \"floor\", \"district\", \"stories\", 'condition'] \n",
    "n_estimators=100\n",
    "criterion='mse'          #root_mean_squared_log_error\n",
    "max_depth=400\n",
    "min_samples_split=2\n",
    "min_samples_leaf=2\n",
    "min_weight_fraction_leaf=0.00008\n",
    "max_features='auto'\n",
    "max_leaf_nodes=None\n",
    "min_impurity_decrease=1100\n",
    "bootstrap=True\n",
    "oob_score=False\n",
    "n_jobs=None\n",
    "random_state_model=None\n",
    "verbose=0\n",
    "warm_start=False\n",
    "ccp_alpha=20000\n",
    "max_samples=None\n",
    "\n"
   ]
  },
  {
   "cell_type": "code",
   "execution_count": 4,
   "metadata": {},
   "outputs": [],
   "source": [
    "# from sklearn.linear_model import LinearRegression\n",
    "# import utils\n",
    "\n",
    "# ############ CLEAN DATA ###############\n",
    "\n",
    "# ##### NEW POSITION\n",
    "# train_data_mod = train.copy()\n",
    "# train_data_mod[\"latitude\"] = train_data_mod[\"latitude\"] -  train_data_mod[\"latitude\"].mean()\n",
    "# train_data_mod[\"longitude\"] = train_data_mod[\"longitude\"] -  train_data_mod[\"longitude\"].mean()\n",
    "\n",
    "# # Convert to polar coordinates\n",
    "# train_data_mod[\"r\"] =  np.sqrt(train_data_mod[\"latitude\"]**2 + train_data_mod[\"longitude\"]**2)\n",
    "# train_data_mod[\"theta\"] = np.arctan(train_data_mod[\"longitude\"]/train_data_mod[\"latitude\"])\n",
    "# train = train_data_mod\n",
    "# train.columns\n",
    "\n",
    "# train = train[np.abs(stats.zscore(train[\"price\"]) < 7)]\n",
    "# plt.plot(train['r'], train['price'], \".\")\n",
    "\n",
    "\n",
    "# # for price in range()\n",
    "# trendline = np.polyfit(train['r'], (train['price']), 10)\n",
    "# trend = np.poly1d(trendline)\n",
    "# r_new = np.linspace(train['r'].min(), train['r'].max(), 23005)\n",
    "\n",
    "# train.sort_values('r', inplace=True)\n",
    "\n",
    "# price_new = trend(train['r'])\n",
    "\n",
    "# train['price_new'] = price_new\n",
    "\n",
    "# # plt.plot(r_new, price_new)\n",
    "# # plt.xlim([0, 0.8])\n",
    "# # plt.ylim([0, 0.2e9])\n",
    "# # plt.show()\n",
    "\n",
    "\n"
   ]
  },
  {
   "cell_type": "code",
   "execution_count": 5,
   "metadata": {},
   "outputs": [],
   "source": [
    "import utils\n",
    "###### MISSING VALUES\n",
    "# area_living\n",
    "train = utils.fillnaReg(train, ['area_total'], 'area_living')\n",
    "\n",
    "# area_kitchen\n",
    "train = utils.fillnaReg(train, ['area_total', 'area_living'], 'area_kitchen')\n",
    "\n",
    "# ceiling\n",
    "train = utils.fillnaReg(train, ['stories'], 'ceiling')\n",
    "\n",
    "# # district\n",
    "# train = utils.fillnaReg(train, ['r', 'theta'], 'district')\n",
    "\n",
    "####### NEW AREA\n",
    "train['space'] = train['rooms']/train['area_living']"
   ]
  },
  {
   "cell_type": "code",
   "execution_count": 6,
   "metadata": {},
   "outputs": [],
   "source": [
    "#### 1-hot\n",
    "# u.oneHotFeature(metaData, train, 'district')\n",
    "# values = u.oneHotFeature(metaData, train, 'heating')\n",
    "# features = features + values\n",
    "# print(train.columns)\n",
    "\n",
    "#### one hot streets\n",
    "values = u.oneHotFeatureStringCat(train, 'street', ['переулок', 'улица', 'проезд', 'Роща', 'Парк', 'бульвар', 'шоссе', 'аллея', 'проспект'])\n",
    "features = features + values"
   ]
  },
  {
   "cell_type": "code",
   "execution_count": 7,
   "metadata": {},
   "outputs": [
    {
     "name": "stderr",
     "output_type": "stream",
     "text": [
      "C:\\Users\\Laure\\AppData\\Local\\Temp/ipykernel_22160/1029603971.py:1: FutureWarning: Dropping of nuisance columns in DataFrame reductions (with 'numeric_only=None') is deprecated; in a future version this will raise TypeError.  Select only valid columns before calling the reduction.\n",
      "  train.fillna(train.mean(), inplace = True)\n"
     ]
    }
   ],
   "source": [
    "train.fillna(train.mean(), inplace = True)\n",
    "train_data, test_data = train_test_split(train, test_size=test_size, random_state=random_state_split, stratify=np.log(train.price).round())\n",
    "# train_data = train_data[np.abs(stats.zscore(train_data[\"price\"]) < 4)]\n",
    "# train_data = train_data[(np.abs(stats.zscore(train_data[[\"rooms\", \"price\"]], axis=0, ddof=0)) < outliers_value).all(axis=1)]              #[(np.abs(stats.zscore(train_data['price'])) < outliers_value)]\n",
    "\n"
   ]
  },
  {
   "cell_type": "code",
   "execution_count": 8,
   "metadata": {},
   "outputs": [],
   "source": [
    "########### Balancing prices\n",
    "\n",
    "# lower_quantile = 0.01\n",
    "# upper_quantile = 0.95\n",
    "# train_data_mid = train_data[(train_data['price']>=train_data['price'].quantile(lower_quantile)) & (train_data['price']<=train_data['price'].quantile(upper_quantile))]\n",
    "# train_data_outside = train_data[(train_data['price']<train_data['price'].quantile(lower_quantile)) | (train_data['price']>train_data['price'].quantile(upper_quantile))]\n",
    "\n",
    "# train_data_mid = train_data_mid.head(int(train_data_mid.shape[0] * 0.15))\n",
    "# train_data_temp = pd.concat([train_data_mid, train_data_outside])\n",
    "\n",
    "# fig, (ax1, ax2) = plt.subplots(figsize=(16, 4), ncols=2, dpi=100)\n",
    "# sns.histplot(np.log10(train_data.price).rename('log10(price)'), ax=ax1)\n",
    "# ax1.set_title('Before change')\n",
    "# sns.histplot(np.log10(train_data_temp.price).rename('log10(price)'), ax=ax2)\n",
    "# ax2.set_title('After removing central data')\n"
   ]
  },
  {
   "cell_type": "code",
   "execution_count": 9,
   "metadata": {},
   "outputs": [],
   "source": [
    "X_train, y_train = train_data[features], train_data['price']\n",
    "X_test, y_test = test_data[features], test_data['price']"
   ]
  },
  {
   "cell_type": "code",
   "execution_count": 10,
   "metadata": {},
   "outputs": [],
   "source": [
    "# nonCategorical, categorical = u.getNonCategoricalAndCategoricalFeatures(metaData)\n",
    "# nonCategorical = list(set(nonCategorical).intersection(features))\n",
    "# categorical = list(set(categorical).intersection(features))\n",
    "\n",
    "# # Only normalize/scale the numerical data. Categorical data is kept as is.\n",
    "# X_train_nonCategorical = X_train[nonCategorical]\n",
    "# X_test_nonCategorical = X_test[nonCategorical]\n",
    "\n",
    "# std_scale = preprocessing.StandardScaler().fit(X_train_nonCategorical)\n",
    "# train_labels_scaled = std_scale.transform(X_train_nonCategorical)\n",
    "# test_labels_scaled = std_scale.transform(X_test_nonCategorical)\n",
    "\n",
    "# training_norm_col = pd.DataFrame(train_labels_scaled, index=X_train_nonCategorical.index, columns=X_train_nonCategorical.columns) \n",
    "# X_train.update(training_norm_col)\n",
    "\n",
    "# testing_norm_col = pd.DataFrame(test_labels_scaled, index=X_test_nonCategorical.index, columns=X_test_nonCategorical.columns) \n",
    "# X_test.update(testing_norm_col)"
   ]
  },
  {
   "cell_type": "code",
   "execution_count": 11,
   "metadata": {},
   "outputs": [],
   "source": [
    "def runRF(X_train, y_train, X_test, y_test, \n",
    "    n_estimators = 100, max_depth=400, min_samples_split=2, min_samples_leaf=2, min_weight_fraction_leaf=0.00008, \n",
    "    max_features='auto', max_leaf_nodes=None, min_impurity_decrease=1100, bootstrap=True, oob_score=False, n_jobs=None,\n",
    "    random_state=None, verbose=0, warm_start=False, ccp_alpha=20000, max_samples=None):\n",
    "    model = RandomForestRegressor(\n",
    "        n_estimators=n_estimators,\n",
    "        max_depth=max_depth,\n",
    "        min_samples_split=min_samples_split,\n",
    "        min_samples_leaf= min_samples_leaf,\n",
    "        min_weight_fraction_leaf=min_weight_fraction_leaf,\n",
    "        max_features=max_features,\n",
    "        max_leaf_nodes=max_leaf_nodes,\n",
    "        min_impurity_decrease=min_impurity_decrease,\n",
    "        bootstrap=bootstrap,\n",
    "        oob_score=oob_score,\n",
    "        n_jobs=n_jobs,\n",
    "        random_state=random_state,\n",
    "        verbose=verbose,\n",
    "        warm_start=warm_start,\n",
    "        ccp_alpha=ccp_alpha,\n",
    "        max_samples=max_samples\n",
    "    )\n",
    "    model.fit(X_train, y_train)\n",
    "    rf_prediction = model.predict(X_test)\n",
    "    rf_msle = root_mean_squared_log_error(rf_prediction, y_test)\n",
    "    return rf_msle\n",
    "\n",
    "def optimizeParam(X_train, y_train, X_test, y_test, start, end, step, divider=1):\n",
    "    x = []\n",
    "    y = []\n",
    "    for value in range(start, end, step):\n",
    "        if divider!=1: value = value/divider\n",
    "        x.append(value)\n",
    "        y.append(runRF(X_train, y_train, X_test, y_test, max_samples=value))\n",
    "    plt.plot(x, y)\n",
    "    plt.xlabel('max_samples parameter values')\n",
    "    plt.ylabel('RMLSE')\n",
    "\n",
    "def optimizeParamCategorical(X_train, y_train, X_test, y_test, values):\n",
    "    x = []\n",
    "    y = []\n",
    "    for value in values:\n",
    "        x.append(value)\n",
    "        y.append(runRF(X_train, y_train, X_test, y_test, warm_start=value))\n",
    "    plt.plot(x, y)\n",
    "    plt.xlabel('warm_start parameter values')\n",
    "    plt.ylabel('RMLSE')\n",
    "\n",
    "# optimizeParamCategorical(X_train, y_train, X_test, y_test, [True, False])"
   ]
  },
  {
   "cell_type": "code",
   "execution_count": 12,
   "metadata": {},
   "outputs": [],
   "source": [
    "model2 = RandomForestRegressor(\n",
    "    n_estimators=n_estimators,\n",
    "    criterion=criterion,\n",
    "    max_depth=max_depth,\n",
    "    min_samples_split=min_samples_split,\n",
    "    min_samples_leaf=min_samples_leaf,\n",
    "    min_weight_fraction_leaf=min_weight_fraction_leaf,\n",
    "    max_features=max_features,\n",
    "    max_leaf_nodes=max_leaf_nodes,\n",
    "    min_impurity_decrease=min_impurity_decrease,\n",
    "    bootstrap=bootstrap,\n",
    "    oob_score=oob_score,\n",
    "    n_jobs=n_jobs,\n",
    "    random_state=random_state_model,\n",
    "    verbose=verbose,\n",
    "    warm_start=warm_start,\n",
    "    ccp_alpha=ccp_alpha,\n",
    "    max_samples=max_samples\n",
    ")"
   ]
  },
  {
   "cell_type": "code",
   "execution_count": 13,
   "metadata": {},
   "outputs": [
    {
     "name": "stderr",
     "output_type": "stream",
     "text": [
      "C:\\Users\\Laure\\Anaconda3\\lib\\site-packages\\sklearn\\ensemble\\_forest.py:388: FutureWarning: Criterion 'mse' was deprecated in v1.0 and will be removed in version 1.2. Use `criterion='squared_error'` which is equivalent.\n",
      "  warn(\n",
      "C:\\Users\\Laure\\Anaconda3\\lib\\site-packages\\sklearn\\ensemble\\_forest.py:388: FutureWarning: Criterion 'mse' was deprecated in v1.0 and will be removed in version 1.2. Use `criterion='squared_error'` which is equivalent.\n",
      "  warn(\n",
      "C:\\Users\\Laure\\Anaconda3\\lib\\site-packages\\sklearn\\ensemble\\_forest.py:388: FutureWarning: Criterion 'mse' was deprecated in v1.0 and will be removed in version 1.2. Use `criterion='squared_error'` which is equivalent.\n",
      "  warn(\n",
      "C:\\Users\\Laure\\Anaconda3\\lib\\site-packages\\sklearn\\ensemble\\_forest.py:388: FutureWarning: Criterion 'mse' was deprecated in v1.0 and will be removed in version 1.2. Use `criterion='squared_error'` which is equivalent.\n",
      "  warn(\n",
      "C:\\Users\\Laure\\Anaconda3\\lib\\site-packages\\sklearn\\ensemble\\_forest.py:388: FutureWarning: Criterion 'mse' was deprecated in v1.0 and will be removed in version 1.2. Use `criterion='squared_error'` which is equivalent.\n",
      "  warn(\n"
     ]
    },
    {
     "name": "stdout",
     "output_type": "stream",
     "text": [
      "0.18506697141443262\n"
     ]
    }
   ],
   "source": [
    "# model2.fit(X_train, y_train)\n",
    "features_temp = features\n",
    "features_temp.append('price')\n",
    "score = u.KFoldValidation(model2, 5, root_mean_squared_log_error, train_data[features_temp])\n",
    "print(score)"
   ]
  },
  {
   "cell_type": "code",
   "execution_count": 14,
   "metadata": {},
   "outputs": [
    {
     "name": "stdout",
     "output_type": "stream",
     "text": [
      "Test MSE: 0.17745648345185364\n"
     ]
    },
    {
     "data": {
      "image/png": "[encoded data removed]",
      "text/plain": [
       "<Figure size 432x288 with 1 Axes>"
      ]
     },
     "metadata": {},
     "output_type": "display_data"
    }
   ],
   "source": [
    "rf_prediction = model2.predict(X_test)\n",
    "rf_mse = root_mean_squared_log_error(rf_prediction, y_test)\n",
    "print('Test MSE:', rf_mse)\n",
    "u.getFeatureImportanceGraph(model2, X_train)"
   ]
  },
  {
   "cell_type": "code",
   "execution_count": 15,
   "metadata": {},
   "outputs": [],
   "source": [
    "# import seaborn as sns\n",
    "\n",
    "# corr = train_data.corr()\n",
    "# mask = np.zeros_like(corr)\n",
    "# mask[np.triu_indices_from(mask)] = True\n",
    "\n",
    "# f,ax = plt.subplots(figsize=(18, 18))\n",
    "# sns.heatmap(train_data.corr(), mask=mask, vmax=0.6, square=True, cmap='coolwarm', annot=True, linewidths=.5, fmt= '.1f',ax=ax)\n",
    "# plt.title('Correlations all data')"
   ]
  },
  {
   "cell_type": "code",
   "execution_count": 16,
   "metadata": {},
   "outputs": [
    {
     "data": {
      "text/plain": [
       "Text(0, 0.5, 'Ground Truth')"
      ]
     },
     "execution_count": 16,
     "metadata": {},
     "output_type": "execute_result"
    },
    {
     "data": {
      "image/png": "[encoded data removed]",
      "text/plain": [
       "<Figure size 432x288 with 1 Axes>"
      ]
     },
     "metadata": {},
     "output_type": "display_data"
    }
   ],
   "source": [
    "plt.scatter(rf_prediction, y_test, alpha=0.2)\n",
    "plt.xlabel('Random Forest prediction')\n",
    "plt.ylabel('Ground Truth')"
   ]
  },
  {
   "cell_type": "code",
   "execution_count": 17,
   "metadata": {},
   "outputs": [],
   "source": [
    "# ########## Create submission\n",
    "# import json\n",
    "# import utils\n",
    "# # Fit model to the full dataset \n",
    "\n",
    "# # # ##### NEW POSITION\n",
    "# # test_data_mod = test.copy()\n",
    "# # test_data_mod[\"latitude\"] = test_data_mod[\"latitude\"] -  test_data_mod[\"latitude\"].mean()\n",
    "# # test_data_mod[\"longitude\"] = test_data_mod[\"longitude\"] -  test_data_mod[\"longitude\"].mean()\n",
    "\n",
    "# # # Convert to polar coordinates\n",
    "# # test_data_mod[\"r\"] =  np.sqrt(test_data_mod[\"latitude\"]**2 + test_data_mod[\"longitude\"]**2)\n",
    "# # test_data_mod[\"theta\"] = np.arctan(test_data_mod[\"longitude\"]/test_data_mod[\"latitude\"])\n",
    "# # test = test_data_mod\n",
    "# # test.columns\n",
    "\n",
    "\n",
    "# ###### MISSING VALUES\n",
    "# # area_living\n",
    "# test = utils.fillnaReg(test, ['area_total'], 'area_living')\n",
    "# # area_kitchen\n",
    "# test = utils.fillnaReg(test, ['area_total', 'area_living'], 'area_kitchen')\n",
    "# # ceiling\n",
    "# test = utils.fillnaReg(test, ['stories'], 'ceiling')\n",
    "# # # district\n",
    "# # test = utils.fillnaReg(test, ['r', 'theta'], 'district')\n",
    "\n",
    "# # test.sort_values('r', inplace=True)\n",
    "\n",
    "# # price_new = trend(test['r'])\n",
    "\n",
    "# # test['price_new'] = price_new\n",
    "\n",
    "# test = test.fillna(test.mean())\n",
    "\n",
    "# ############## Balacing prices\n",
    "# # train = train.fillna(train.mean())\n",
    "# # test = test.fillna(test.mean())\n",
    "# # train = train[(np.abs(stats.zscore(train['price'])) < outliers_value)]\n",
    "\n",
    "# # lower_quantile = 0.01\n",
    "# # upper_quantile = 0.95\n",
    "# # train_data_mid = train[(train['price']>=train['price'].quantile(lower_quantile)) & (train['price']<=train['price'].quantile(upper_quantile))]\n",
    "# # train_data_outside = train[(train['price']<train['price'].quantile(lower_quantile)) | (train['price']>train['price'].quantile(upper_quantile))]\n",
    "\n",
    "# # train_data_mid = train_data_mid.head(int(train_data_mid.shape[0] * 0.15))\n",
    "# # train_data_temp = pd.concat([train_data_mid, train_data_outside])\n",
    "\n",
    "# # train = train_data_temp\n",
    "\n",
    "\n",
    "# X_train = train[features]\n",
    "# y_train = train['price']\n",
    "# print(f'Num nans in train {X_train.isna().any(axis=1).sum()}')\n",
    "# model = RandomForestRegressor(\n",
    "#     n_estimators=n_estimators,\n",
    "#     criterion=criterion,\n",
    "#     max_depth=max_depth,\n",
    "# #     min_samples_split=2,\n",
    "# #     min_samples_leaf=2,\n",
    "#     min_weight_fraction_leaf=min_weight_fraction_leaf,\n",
    "#     max_features=max_features,\n",
    "#     max_leaf_nodes=max_leaf_nodes,\n",
    "#     min_impurity_decrease=min_impurity_decrease,\n",
    "#     bootstrap=bootstrap,\n",
    "#     oob_score=oob_score,\n",
    "#     n_jobs=n_jobs,\n",
    "#     random_state=random_state_model,\n",
    "#     verbose=verbose,\n",
    "#     warm_start=warm_start,\n",
    "#     ccp_alpha=ccp_alpha,\n",
    "#     max_samples=max_samples\n",
    "# )\n",
    "# model.fit(X_train, y_train)\n",
    "\n",
    "# # Generate predictions for test set \n",
    "# X_test = test[features]\n",
    "# X_test_nan = X_test.isna().any(axis=1)\n",
    "# print(f'Num nans in test: {X_test_nan.sum()}')\n",
    "# y_test_hat = model.predict(X_test[~X_test_nan])\n",
    "\n",
    "# # Construct submission dataframe\n",
    "# submission = pd.DataFrame()\n",
    "# submission['id'] = test.id\n",
    "# submission.loc[~X_test_nan, 'price_prediction'] = y_test_hat # Predict on non-nan entries\n",
    "# submission['price_prediction'].fillna(y_train.mean(), inplace=True) # Fill missing entries with mean predictor\n",
    "# print(f'Generated {len(submission)} predictions')\n",
    "\n",
    "# # Export submission to csv with headers\n",
    "\n",
    "# ############################################ CHANGE NAME !!!!!!!!!!\n",
    "# submission.to_csv('sample_RF_15.csv', index=False)\n",
    "# settings = {\n",
    "#     'train_MSE': root_mean_squared_log_error(rf_prediction, y_test),\n",
    "#     'features':features, \n",
    "#     'outliers_value':outliers_value,\n",
    "#     'nan_delete':'mean',\n",
    "#     'test_size' : test_size,\n",
    "#     'random_state_split' :  random_state_split,\n",
    "#     'n_estimators': n_estimators,\n",
    "#     'criterion': criterion,\n",
    "#     'max_depth': max_depth,\n",
    "#     'min_weight_fraction_leaf': min_weight_fraction_leaf,\n",
    "#     'max_features': max_features,\n",
    "#     'max_leaf_nodes': max_leaf_nodes,\n",
    "#     'min_impurity_decrease': min_impurity_decrease,\n",
    "#     'bootstrap': bootstrap,\n",
    "#     'oob_score': oob_score,\n",
    "#     'n_jobs': n_jobs,\n",
    "#     'random_state': random_state_model,\n",
    "#     'verbose': verbose,\n",
    "#     'warm_start': warm_start,\n",
    "#     'ccp_alpha': ccp_alpha,\n",
    "#     'max_samples': max_samples,\n",
    "#     'other':{\n",
    "#         'Missing values' : {0:'Adding more trees!',\n",
    "#             \"Missing area_living\": \"reg on area_total\", \n",
    "#             \"Missing area_kitchen\": \"reg on area_total and area_living\", \n",
    "#             \"Missing ceiling\": \"reg on stories\"\n",
    "#         }    \n",
    "#     }\n",
    "# }\n",
    "\n",
    "# with open('sample_RF_15_settings.json', 'w') as fp:\n",
    "#     json.dump(settings, fp)"
   ]
  },
  {
   "cell_type": "code",
   "execution_count": null,
   "metadata": {},
   "outputs": [],
   "source": []
  },
  {
   "cell_type": "code",
   "execution_count": null,
   "metadata": {},
   "outputs": [],
   "source": []
  }
 ],
 "metadata": {
  "interpreter": {
   "hash": "433299c0a6ef7fa1dabdb443310bde6b781d19168ce6c46534a3abeb460e20e7"
  },
  "kernelspec": {
   "display_name": "Python 3.8.12 64-bit ('base': conda)",
   "name": "python3"
  },
  "language_info": {
   "codemirror_mode": {
    "name": "ipython",
    "version": 3
   },
   "file_extension": ".py",
   "mimetype": "text/x-python",
   "name": "python",
   "nbconvert_exporter": "python",
   "pygments_lexer": "ipython3",
   "version": "3.8.12"
  },
  "orig_nbformat": 4
 },
 "nbformat": 4,
 "nbformat_minor": 2
}
