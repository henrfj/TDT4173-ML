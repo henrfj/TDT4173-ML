{
 "cells": [
  {
   "cell_type": "markdown",
   "metadata": {},
   "source": [
    "# Random forest predictions"
   ]
  },
  {
   "cell_type": "code",
   "execution_count": 106,
   "metadata": {},
   "outputs": [],
   "source": [
    "import pandas as pd\n",
    "import numpy as np\n",
    "from sklearn.model_selection import train_test_split\n",
    "from sklearn.ensemble import RandomForestRegressor\n",
    "from scipy import stats\n",
    "import utils as u\n",
    "\n",
    "import matplotlib.pylab as plt\n",
    "plt.style.use('ggplot')\n",
    "\n",
    "def root_mean_squared_log_error(y_true, y_pred):\n",
    "    # Alternatively: sklearn.metrics.mean_squared_log_error(y_true, y_pred) ** 0.5\n",
    "    assert (y_true >= 0).all() \n",
    "    assert (y_pred >= 0).all()\n",
    "    log_error = np.log1p(y_pred) - np.log1p(y_true)  # Note: log1p(x) = log(1 + x)\n",
    "    return np.mean(log_error ** 2) ** 0.5\n",
    "\n",
    "%run utils.py\n",
    "%run ../common_utils.py"
   ]
  },
  {
   "cell_type": "code",
   "execution_count": 107,
   "metadata": {},
   "outputs": [],
   "source": [
    "train, test, metaData = load_all_data()"
   ]
  },
  {
   "cell_type": "code",
   "execution_count": 123,
   "metadata": {},
   "outputs": [],
   "source": [
    "####### SETTINGS ##############\n",
    "test_size = 0.25\n",
    "random_state_split = 42\n",
    "outliers_value = 4\n",
    "all_features = ['seller','area_total','area_kitchen','area_living','floor','rooms','layout','ceiling','bathrooms_shared','bathrooms_private','windows_court','windows_street','balconies','loggias','condition','phones','building_id', 'new','latitude','longitude','district','constructed','material','stories','elevator_without','elevator_passenger','elevator_service','parking','garbage_chute','heating']\n",
    "features = [\"rooms\",  \"building_id\", \"r\", \"theta\", \"parking\", \"nb_of_apartments\", \"bathrooms_shared\", \"space\", 'ceiling', 'material']\n",
    "n_estimators=2000\n",
    "criterion='squared_error'          #root_mean_squared_log_error\n",
    "max_depth=400\n",
    "min_samples_split=2\n",
    "min_samples_leaf=2\n",
    "min_weight_fraction_leaf=0.00008\n",
    "max_features='auto'\n",
    "max_leaf_nodes=None\n",
    "min_impurity_decrease=1100\n",
    "bootstrap=True\n",
    "oob_score=False\n",
    "n_jobs=None\n",
    "random_state_model=None\n",
    "verbose=0\n",
    "warm_start=False\n",
    "ccp_alpha=20000\n",
    "max_samples=None\n",
    "\n"
   ]
  },
  {
   "cell_type": "code",
   "execution_count": 109,
   "metadata": {},
   "outputs": [
    {
     "data": {
      "text/plain": [
       "Index(['apartment_id', 'seller', 'price', 'area_total', 'area_kitchen',\n",
       "       'area_living', 'floor', 'rooms', 'layout', 'ceiling',\n",
       "       'bathrooms_shared', 'bathrooms_private', 'windows_court',\n",
       "       'windows_street', 'balconies', 'loggias', 'condition', 'phones',\n",
       "       'building_id', 'new', 'latitude', 'longitude', 'district', 'street',\n",
       "       'address', 'constructed', 'material', 'stories', 'elevator_without',\n",
       "       'elevator_passenger', 'elevator_service', 'parking', 'garbage_chute',\n",
       "       'heating', 'r', 'theta'],\n",
       "      dtype='object')"
      ]
     },
     "execution_count": 109,
     "metadata": {},
     "output_type": "execute_result"
    }
   ],
   "source": [
    "# from sklearn.linear_model import LinearRegression\n",
    "# import utils\n",
    "\n",
    "# ############ CLEAN DATA ###############\n",
    "\n",
    "##### NEW POSITION\n",
    "train_data_mod = train.copy()\n",
    "train_data_mod[\"latitude\"] = train_data_mod[\"latitude\"] -  train_data_mod[\"latitude\"].mean()\n",
    "train_data_mod[\"longitude\"] = train_data_mod[\"longitude\"] -  train_data_mod[\"longitude\"].mean()\n",
    "\n",
    "# Convert to polar coordinates\n",
    "train_data_mod[\"r\"] =  np.sqrt(train_data_mod[\"latitude\"]**2 + train_data_mod[\"longitude\"]**2)\n",
    "train_data_mod[\"theta\"] = np.arctan(train_data_mod[\"longitude\"]/train_data_mod[\"latitude\"])\n",
    "train = train_data_mod\n",
    "train.columns\n",
    "\n",
    "# train = train[np.abs(stats.zscore(train[\"price\"]) < 7)]\n",
    "# plt.plot(train['r'], train['price'], \".\")\n",
    "\n",
    "\n",
    "# # for price in range()\n",
    "# trendline = np.polyfit(train['r'], (train['price']), 10)\n",
    "# trend = np.poly1d(trendline)\n",
    "# r_new = np.linspace(train['r'].min(), train['r'].max(), 23005)\n",
    "\n",
    "# train.sort_values('r', inplace=True)\n",
    "\n",
    "# price_new = trend(train['r'])\n",
    "\n",
    "# train['price_new'] = price_new\n",
    "\n",
    "# # plt.plot(r_new, price_new)\n",
    "# # plt.xlim([0, 0.8])\n",
    "# # plt.ylim([0, 0.2e9])\n",
    "# # plt.show()\n",
    "\n",
    "\n"
   ]
  },
  {
   "cell_type": "code",
   "execution_count": 110,
   "metadata": {},
   "outputs": [
    {
     "name": "stderr",
     "output_type": "stream",
     "text": [
      "C:\\Users\\Laure\\AppData\\Local\\Temp/ipykernel_16012/2453110138.py:26: SettingWithCopyWarning: \n",
      "A value is trying to be set on a copy of a slice from a DataFrame\n",
      "\n",
      "See the caveats in the documentation: https://pandas.pydata.org/pandas-docs/stable/user_guide/indexing.html#returning-a-view-versus-a-copy\n",
      "  train['new'][train['new'] > 2000] = 0\n"
     ]
    }
   ],
   "source": [
    "import utils\n",
    "###### MISSING VALUES\n",
    "# area_living\n",
    "train = utils.fillnaReg(train, ['area_total'], 'area_living')\n",
    "\n",
    "# area_kitchen\n",
    "train = utils.fillnaReg(train, ['area_total', 'area_living'], 'area_kitchen')\n",
    "\n",
    "# ceiling\n",
    "train = utils.fillnaReg(train, ['stories'], 'ceiling')\n",
    "\n",
    "# print((train['area_living'] < 1).sum())\n",
    "# print((train['area_kitchen'] < 1).sum())\n",
    "# remove_zero = [row[\"area_living\"] if row[\"area_living\"] >= 1 else row[\"area_total\"]*(train[\"area_living\"].mean() / train[\"areatotal\"].mean()) for _,row in train.iterrows()]\n",
    "# train[\"area_living\"] = remove_zero\n",
    "# print((train['area_living'] < 1).sum())\n",
    "# print((train['area_kitchen'] < 1).sum())\n",
    "# # district\n",
    "# train = utils.fillnaReg(train, ['r', 'theta'], 'district')\n",
    "\n",
    "####### NEW AREA\n",
    "train['space'] = train['rooms']/train['area_living']\n",
    "\n",
    "train['nb_of_apartments'] = train.groupby(['building_id'])['rooms'].transform(len)\n",
    "\n",
    "train['new'][train['new'] > 2000] = 0\n",
    "\n",
    "# train['area_total'] = np.log(train['area_total'])\n",
    "# train['area_living'] = np.log(train['area_living'])\n",
    "# train['area_kitchen'] = np.log(train['area_kitchen'])"
   ]
  },
  {
   "cell_type": "code",
   "execution_count": 111,
   "metadata": {},
   "outputs": [],
   "source": [
    "#### 1-hot\n",
    "# u.oneHotFeature(metaData, train, 'district')\n",
    "# values = u.oneHotFeature(metaData, train, 'heating')\n",
    "# features = features + values\n",
    "# print(train.columns)\n",
    "\n",
    "#### one hot streets\n",
    "# values = u.oneHotFeatureStringCat(train, 'street', ['переулок', 'улица'])\n",
    "# features = features + values"
   ]
  },
  {
   "cell_type": "code",
   "execution_count": 112,
   "metadata": {},
   "outputs": [
    {
     "name": "stderr",
     "output_type": "stream",
     "text": [
      "C:\\Users\\Laure\\AppData\\Local\\Temp/ipykernel_16012/3297801371.py:22: FutureWarning: Dropping of nuisance columns in DataFrame reductions (with 'numeric_only=None') is deprecated; in a future version this will raise TypeError.  Select only valid columns before calling the reduction.\n",
      "  train = train.fillna(train.median()) # Boolean\n"
     ]
    }
   ],
   "source": [
    "is_outlier = ((train[\"ceiling\"] > 10) | (train[\"ceiling\"] < 0.5))\n",
    "outliers = train.copy()[is_outlier]\n",
    "inliers_index=[]\n",
    "for index in train.index:\n",
    "    if index not in outliers.index:\n",
    "        inliers_index.append(index)\n",
    "train.loc[outliers.index,['ceiling']] = train.loc[inliers_index,['ceiling']].mean()\n",
    "\n",
    "\n",
    "float_numerical_features = [\"area_total\", \"area_kitchen\", \"area_living\", \"ceiling\", \"latitude\", \"longitude\", \"constructed\"]\n",
    "int_numerical_features = [\"floor\", \"stories\", \"rooms\", \"bathrooms_private\", \"bathrooms_shared\", \"balconies\", \"loggias\", \"phones\"] # Ordinal categories\n",
    "\n",
    "cat_features = [\"layout\", \"condition\", \"district\", \"material\", \"parking\", \"heating\", \"seller\"] # All are non-ordinal\n",
    "\n",
    "# Float\n",
    "train[float_numerical_features] = train[float_numerical_features].fillna(train[float_numerical_features].mean())\n",
    "# Int\n",
    "train[int_numerical_features] = train[int_numerical_features].fillna(train[int_numerical_features].median())\n",
    "# Cat\n",
    "train[cat_features] = train[cat_features].fillna(train[cat_features].median())\n",
    "# Bool (The rest)\n",
    "train = train.fillna(train.median()) # Boolean\n"
   ]
  },
  {
   "cell_type": "code",
   "execution_count": 113,
   "metadata": {},
   "outputs": [],
   "source": [
    "train_data, test_data = train_test_split(train, test_size=test_size, random_state=random_state_split, stratify=np.log(train.price).round())\n",
    "# train_data = train_data[np.abs(stats.zscore(train_data[\"price\"]) < 4)]\n",
    "# train_data = train_data[(np.abs(stats.zscore(train_data[[\"rooms\", \"price\"]], axis=0, ddof=0)) < outliers_value).all(axis=1)]              #[(np.abs(stats.zscore(train_data['price'])) < outliers_value)]\n",
    "\n"
   ]
  },
  {
   "cell_type": "code",
   "execution_count": 114,
   "metadata": {},
   "outputs": [],
   "source": [
    "########### Balancing prices\n",
    "\n",
    "# lower_quantile = 0.01\n",
    "# upper_quantile = 0.95\n",
    "# train_data_mid = train_data[(train_data['price']>=train_data['price'].quantile(lower_quantile)) & (train_data['price']<=train_data['price'].quantile(upper_quantile))]\n",
    "# train_data_outside = train_data[(train_data['price']<train_data['price'].quantile(lower_quantile)) | (train_data['price']>train_data['price'].quantile(upper_quantile))]\n",
    "\n",
    "# train_data_mid = train_data_mid.head(int(train_data_mid.shape[0] * 0.15))\n",
    "# train_data_temp = pd.concat([train_data_mid, train_data_outside])\n",
    "\n",
    "# fig, (ax1, ax2) = plt.subplots(figsize=(16, 4), ncols=2, dpi=100)\n",
    "# sns.histplot(np.log10(train_data.price).rename('log10(price)'), ax=ax1)\n",
    "# ax1.set_title('Before change')\n",
    "# sns.histplot(np.log10(train_data_temp.price).rename('log10(price)'), ax=ax2)\n",
    "# ax2.set_title('After removing central data')\n"
   ]
  },
  {
   "cell_type": "code",
   "execution_count": 115,
   "metadata": {},
   "outputs": [],
   "source": [
    "X_train, y_train = train_data[features], train_data['price']\n",
    "X_test, y_test = test_data[features], test_data['price']"
   ]
  },
  {
   "cell_type": "code",
   "execution_count": 116,
   "metadata": {},
   "outputs": [],
   "source": [
    "# nonCategorical, categorical = u.getNonCategoricalAndCategoricalFeatures(metaData)\n",
    "# nonCategorical = list(set(nonCategorical).intersection(features))\n",
    "# categorical = list(set(categorical).intersection(features))\n",
    "\n",
    "# # Only normalize/scale the numerical data. Categorical data is kept as is.\n",
    "# X_train_nonCategorical = X_train[nonCategorical]\n",
    "# X_test_nonCategorical = X_test[nonCategorical]\n",
    "\n",
    "# std_scale = preprocessing.StandardScaler().fit(X_train_nonCategorical)\n",
    "# train_labels_scaled = std_scale.transform(X_train_nonCategorical)\n",
    "# test_labels_scaled = std_scale.transform(X_test_nonCategorical)\n",
    "\n",
    "# training_norm_col = pd.DataFrame(train_labels_scaled, index=X_train_nonCategorical.index, columns=X_train_nonCategorical.columns) \n",
    "# X_train.update(training_norm_col)\n",
    "\n",
    "# testing_norm_col = pd.DataFrame(test_labels_scaled, index=X_test_nonCategorical.index, columns=X_test_nonCategorical.columns) \n",
    "# X_test.update(testing_norm_col)"
   ]
  },
  {
   "cell_type": "code",
   "execution_count": 117,
   "metadata": {},
   "outputs": [],
   "source": [
    "def runRF(X_train, y_train, X_test, y_test, \n",
    "    n_estimators = 100, max_depth=400, min_samples_split=2, min_samples_leaf=2, min_weight_fraction_leaf=0.00008, \n",
    "    max_features='auto', max_leaf_nodes=None, min_impurity_decrease=1100, bootstrap=True, oob_score=False, n_jobs=None,\n",
    "    random_state=None, verbose=0, warm_start=False, ccp_alpha=20000, max_samples=None):\n",
    "    model = RandomForestRegressor(\n",
    "        n_estimators=n_estimators,\n",
    "        max_depth=max_depth,\n",
    "        min_samples_split=min_samples_split,\n",
    "        min_samples_leaf= min_samples_leaf,\n",
    "        min_weight_fraction_leaf=min_weight_fraction_leaf,\n",
    "        max_features=max_features,\n",
    "        max_leaf_nodes=max_leaf_nodes,\n",
    "        min_impurity_decrease=min_impurity_decrease,\n",
    "        bootstrap=bootstrap,\n",
    "        oob_score=oob_score,\n",
    "        n_jobs=n_jobs,\n",
    "        random_state=random_state,\n",
    "        verbose=verbose,\n",
    "        warm_start=warm_start,\n",
    "        ccp_alpha=ccp_alpha,\n",
    "        max_samples=max_samples\n",
    "    )\n",
    "    model.fit(X_train, y_train)\n",
    "    rf_prediction = model.predict(X_test)\n",
    "    rf_msle = root_mean_squared_log_error(rf_prediction, y_test)\n",
    "    return rf_msle\n",
    "\n",
    "def optimizeParam(X_train, y_train, X_test, y_test, start, end, step, divider=1):\n",
    "    x = []\n",
    "    y = []\n",
    "    for value in range(start, end, step):\n",
    "        if divider!=1: value = value/divider\n",
    "        x.append(value)\n",
    "        y.append(runRF(X_train, y_train, X_test, y_test, max_samples=value))\n",
    "    plt.plot(x, y)\n",
    "    plt.xlabel('max_samples parameter values')\n",
    "    plt.ylabel('RMLSE')\n",
    "\n",
    "def optimizeParamCategorical(X_train, y_train, X_test, y_test, values):\n",
    "    x = []\n",
    "    y = []\n",
    "    for value in values:\n",
    "        x.append(value)\n",
    "        y.append(runRF(X_train, y_train, X_test, y_test, warm_start=value))\n",
    "    plt.plot(x, y)\n",
    "    plt.xlabel('warm_start parameter values')\n",
    "    plt.ylabel('RMLSE')\n",
    "\n",
    "# optimizeParamCategorical(X_train, y_train, X_test, y_test, [True, False])"
   ]
  },
  {
   "cell_type": "code",
   "execution_count": 118,
   "metadata": {},
   "outputs": [],
   "source": [
    "model = RandomForestRegressor(\n",
    "    n_estimators=n_estimators,\n",
    "    criterion=criterion,\n",
    "    max_depth=max_depth,\n",
    "    min_samples_split=min_samples_split,\n",
    "    min_samples_leaf=min_samples_leaf,\n",
    "    min_weight_fraction_leaf=min_weight_fraction_leaf,\n",
    "    max_features=max_features,\n",
    "    max_leaf_nodes=max_leaf_nodes,\n",
    "    min_impurity_decrease=min_impurity_decrease,\n",
    "    bootstrap=bootstrap,\n",
    "    oob_score=oob_score,\n",
    "    n_jobs=n_jobs,\n",
    "    random_state=random_state_model,\n",
    "    verbose=verbose,\n",
    "    warm_start=warm_start,\n",
    "    ccp_alpha=ccp_alpha,\n",
    "    max_samples=max_samples\n",
    ")"
   ]
  },
  {
   "cell_type": "code",
   "execution_count": 119,
   "metadata": {},
   "outputs": [
    {
     "name": "stdout",
     "output_type": "stream",
     "text": [
      "[0.3206787814670107, 0.27618127794834624, 0.35159194723602316, 0.30796058846619906, 0.35019583685336825] 0.32132168639418945\n"
     ]
    }
   ],
   "source": [
    "# model2.fit(X_train, y_train)\n",
    "\n",
    "# features_temp = features\n",
    "# features_temp.append('price')\n",
    "# score = u.KFoldValidation(model2, 5, root_mean_squared_log_error, train_data[features_temp])\n",
    "# print(score)\n",
    "\n",
    "# print(np.isinf(train['space']).values.sum())\n",
    "scores, average, best_model, best_index = RF_groupKFold(5, model, train[features], train['price'])\n",
    "print(scores, average)\n"
   ]
  },
  {
   "cell_type": "code",
   "execution_count": 120,
   "metadata": {},
   "outputs": [
    {
     "name": "stdout",
     "output_type": "stream",
     "text": [
      "['rooms', 'building_id', 'r', 'theta', 'parking', 'nb_of_apartments', 'space', 'ceiling']\n"
     ]
    },
    {
     "data": {
      "image/png": "[encoded data removed]",
      "text/plain": [
       "<Figure size 432x288 with 1 Axes>"
      ]
     },
     "metadata": {},
     "output_type": "display_data"
    }
   ],
   "source": [
    "# rf_prediction = best_model.predict(X_test)\n",
    "# rf_mse = root_mean_squared_log_error(rf_prediction, y_test)\n",
    "# print('Test MSE:', rf_mse)\n",
    "u.getFeatureImportanceGraph(best_model, X_train)\n",
    "importances = best_model.feature_importances_\n",
    "features_to_keep = [features[i] for i, imp in enumerate(importances) if imp > 0.011]\n",
    "print(features_to_keep)"
   ]
  },
  {
   "cell_type": "code",
   "execution_count": 121,
   "metadata": {},
   "outputs": [
    {
     "data": {
      "text/plain": [
       "Text(0.5, 1.0, 'Correlations all data')"
      ]
     },
     "execution_count": 121,
     "metadata": {},
     "output_type": "execute_result"
    },
    {
     "data": {
      "image/png": "[encoded data removed]",
      "text/plain": [
       "<Figure size 1296x1296 with 2 Axes>"
      ]
     },
     "metadata": {},
     "output_type": "display_data"
    }
   ],
   "source": [
    "import seaborn as sns\n",
    "\n",
    "corr = train_data[features+['price']].corr()\n",
    "mask = np.zeros_like(corr)\n",
    "mask[np.triu_indices_from(mask)] = True\n",
    "\n",
    "f,ax = plt.subplots(figsize=(18, 18))\n",
    "sns.heatmap(corr, mask=mask, vmax=0.6, square=True, cmap='coolwarm', annot=True, linewidths=.5, fmt= '.1f',ax=ax)\n",
    "plt.title('Correlations all data')"
   ]
  },
  {
   "cell_type": "code",
   "execution_count": 122,
   "metadata": {},
   "outputs": [
    {
     "ename": "NameError",
     "evalue": "name 'rf_prediction' is not defined",
     "output_type": "error",
     "traceback": [
      "\u001b[1;31m---------------------------------------------------------------------------\u001b[0m",
      "\u001b[1;31mNameError\u001b[0m                                 Traceback (most recent call last)",
      "\u001b[1;32m~\\AppData\\Local\\Temp/ipykernel_16012/2416299708.py\u001b[0m in \u001b[0;36m<module>\u001b[1;34m\u001b[0m\n\u001b[1;32m----> 1\u001b[1;33m \u001b[0mplt\u001b[0m\u001b[1;33m.\u001b[0m\u001b[0mscatter\u001b[0m\u001b[1;33m(\u001b[0m\u001b[0mrf_prediction\u001b[0m\u001b[1;33m,\u001b[0m \u001b[0my_test\u001b[0m\u001b[1;33m,\u001b[0m \u001b[0malpha\u001b[0m\u001b[1;33m=\u001b[0m\u001b[1;36m0.2\u001b[0m\u001b[1;33m)\u001b[0m\u001b[1;33m\u001b[0m\u001b[1;33m\u001b[0m\u001b[0m\n\u001b[0m\u001b[0;32m      2\u001b[0m \u001b[0mplt\u001b[0m\u001b[1;33m.\u001b[0m\u001b[0mxlabel\u001b[0m\u001b[1;33m(\u001b[0m\u001b[1;34m'Random Forest prediction'\u001b[0m\u001b[1;33m)\u001b[0m\u001b[1;33m\u001b[0m\u001b[1;33m\u001b[0m\u001b[0m\n\u001b[0;32m      3\u001b[0m \u001b[0mplt\u001b[0m\u001b[1;33m.\u001b[0m\u001b[0mylabel\u001b[0m\u001b[1;33m(\u001b[0m\u001b[1;34m'Ground Truth'\u001b[0m\u001b[1;33m)\u001b[0m\u001b[1;33m\u001b[0m\u001b[1;33m\u001b[0m\u001b[0m\n",
      "\u001b[1;31mNameError\u001b[0m: name 'rf_prediction' is not defined"
     ]
    }
   ],
   "source": [
    "plt.scatter(rf_prediction, y_test, alpha=0.2)\n",
    "plt.xlabel('Random Forest prediction')\n",
    "plt.ylabel('Ground Truth')"
   ]
  },
  {
   "cell_type": "code",
   "execution_count": 125,
   "metadata": {},
   "outputs": [
    {
     "name": "stderr",
     "output_type": "stream",
     "text": [
      "C:\\Users\\Laure\\AppData\\Local\\Temp/ipykernel_16012/803680001.py:49: FutureWarning: Dropping of nuisance columns in DataFrame reductions (with 'numeric_only=None') is deprecated; in a future version this will raise TypeError.  Select only valid columns before calling the reduction.\n",
      "  test = test.fillna(test.median()) # Boolean\n",
      "C:\\Users\\Laure\\AppData\\Local\\Temp/ipykernel_16012/803680001.py:57: SettingWithCopyWarning: \n",
      "A value is trying to be set on a copy of a slice from a DataFrame\n",
      "\n",
      "See the caveats in the documentation: https://pandas.pydata.org/pandas-docs/stable/user_guide/indexing.html#returning-a-view-versus-a-copy\n",
      "  test['new'][test['new'] > 2000] = 0\n"
     ]
    }
   ],
   "source": [
    "########## Create submission\n",
    "import json\n",
    "import utils\n",
    "# Fit model to the full dataset \n",
    "\n",
    "# ##### NEW POSITION\n",
    "test_data_mod = test.copy()\n",
    "test_data_mod[\"latitude\"] = test_data_mod[\"latitude\"] -  test_data_mod[\"latitude\"].mean()\n",
    "test_data_mod[\"longitude\"] = test_data_mod[\"longitude\"] -  test_data_mod[\"longitude\"].mean()\n",
    "\n",
    "# Convert to polar coordinates\n",
    "test_data_mod[\"r\"] =  np.sqrt(test_data_mod[\"latitude\"]**2 + test_data_mod[\"longitude\"]**2)\n",
    "test_data_mod[\"theta\"] = np.arctan(test_data_mod[\"longitude\"]/test_data_mod[\"latitude\"])\n",
    "test = test_data_mod\n",
    "test.columns\n",
    "\n",
    "inliers_index=[]\n",
    "is_outlier = ((test[\"ceiling\"] > 10) | (test[\"ceiling\"] < 0.5))\n",
    "outliers = test.copy()[is_outlier]\n",
    "for index in test.index:\n",
    "    if index not in outliers.index:\n",
    "        inliers_index.append(index)\n",
    "test.loc[outliers.index,['ceiling']] = test.loc[test.index.intersection(inliers_index),['ceiling']].mean()\n",
    "\n",
    "###### MISSING VALUES\n",
    "# area_living\n",
    "test = utils.fillnaReg(test, ['area_total'], 'area_living')\n",
    "# area_kitchen\n",
    "test = utils.fillnaReg(test, ['area_total', 'area_living'], 'area_kitchen')\n",
    "# ceiling\n",
    "test = utils.fillnaReg(test, ['stories'], 'ceiling')\n",
    "# # district\n",
    "# test = utils.fillnaReg(test, ['r', 'theta'], 'district')\n",
    "\n",
    "# test.sort_values('r', inplace=True)\n",
    "\n",
    "# price_new = trend(test['r'])\n",
    "\n",
    "# test['price_new'] = price_new\n",
    "\n",
    "\n",
    "# Float\n",
    "test[float_numerical_features] = test[float_numerical_features].fillna(test[float_numerical_features].mean())\n",
    "# Int\n",
    "test[int_numerical_features] = test[int_numerical_features].fillna(test[int_numerical_features].median())\n",
    "# Cat\n",
    "test[cat_features] = test[cat_features].fillna(test[cat_features].median())\n",
    "# Bool (The rest)\n",
    "test = test.fillna(test.median()) # Boolean\n",
    "\n",
    "\n",
    "####### NEW AREA\n",
    "test['space'] = test['rooms']/test['area_living']\n",
    "\n",
    "test['nb_of_apartments'] = test.groupby(['building_id'])['rooms'].transform(len)\n",
    "\n",
    "test['new'][test['new'] > 2000] = 0\n",
    "\n",
    "############## Balacing prices\n",
    "# train = train.fillna(train.mean())\n",
    "# test = test.fillna(test.mean())\n",
    "# train = train[(np.abs(stats.zscore(train['price'])) < outliers_value)]\n",
    "\n",
    "# lower_quantile = 0.01\n",
    "# upper_quantile = 0.95\n",
    "# train_data_mid = train[(train['price']>=train['price'].quantile(lower_quantile)) & (train['price']<=train['price'].quantile(upper_quantile))]\n",
    "# train_data_outside = train[(train['price']<train['price'].quantile(lower_quantile)) | (train['price']>train['price'].quantile(upper_quantile))]\n",
    "\n",
    "# train_data_mid = train_data_mid.head(int(train_data_mid.shape[0] * 0.15))\n",
    "# train_data_temp = pd.concat([train_data_mid, train_data_outside])\n",
    "\n",
    "# train = train_data_temp\n",
    "\n",
    "\n",
    "X_train = train[features]\n",
    "y_train = train['price']\n",
    "model = RandomForestRegressor(\n",
    "    n_estimators=n_estimators,\n",
    "    criterion=criterion,\n",
    "    max_depth=max_depth,\n",
    "#     min_samples_split=2,\n",
    "#     min_samples_leaf=2,\n",
    "    min_weight_fraction_leaf=min_weight_fraction_leaf,\n",
    "    max_features=max_features,\n",
    "    max_leaf_nodes=max_leaf_nodes,\n",
    "    min_impurity_decrease=min_impurity_decrease,\n",
    "    bootstrap=bootstrap,\n",
    "    oob_score=oob_score,\n",
    "    n_jobs=n_jobs,\n",
    "    random_state=random_state_model,\n",
    "    verbose=verbose,\n",
    "    warm_start=warm_start,\n",
    "    ccp_alpha=ccp_alpha,\n",
    "    max_samples=max_samples\n",
    ")\n",
    "model.fit(X_train, y_train)\n",
    "\n",
    "# Generate predictions for test set \n",
    "# y_test_hat = model.predict(X_test)\n",
    "\n",
    "X_test = test[features]\n",
    "X_test_nan = X_test.isna().any(axis=1)\n",
    "y_test_hat = model.predict(X_test[~X_test_nan])\n"
   ]
  },
  {
   "cell_type": "code",
   "execution_count": 126,
   "metadata": {},
   "outputs": [
    {
     "name": "stdout",
     "output_type": "stream",
     "text": [
      "Generated 9937 predictions\n"
     ]
    }
   ],
   "source": [
    "# Construct submission dataframe\n",
    "submission = pd.DataFrame()\n",
    "submission['id'] = test.apartment_id\n",
    "submission.loc[~X_test_nan, 'price_prediction'] = y_test_hat # Predict on non-nan entries\n",
    "submission['price_prediction'].fillna(y_train.mean(), inplace=True) # Fill missing entries with mean predictor\n",
    "print(f'Generated {len(submission)} predictions')\n",
    "\n",
    "# Export submission to csv with headers\n",
    "\n",
    "############################################ CHANGE NAME !!!!!!!!!!\n",
    "submission.to_csv('sample_RF_24.csv', index=False)\n",
    "settings = {\n",
    "    'train_MSE': average,\n",
    "    'features':features, \n",
    "    'outliers_value':outliers_value,\n",
    "    'nan_delete':'mean',\n",
    "    'test_size' : test_size,\n",
    "    'random_state_split' :  random_state_split,\n",
    "    'n_estimators': n_estimators,\n",
    "    'criterion': criterion,\n",
    "    'max_depth': max_depth,\n",
    "    'min_weight_fraction_leaf': min_weight_fraction_leaf,\n",
    "    'max_features': max_features,\n",
    "    'max_leaf_nodes': max_leaf_nodes,\n",
    "    'min_impurity_decrease': min_impurity_decrease,\n",
    "    'bootstrap': bootstrap,\n",
    "    'oob_score': oob_score,\n",
    "    'n_jobs': n_jobs,\n",
    "    'random_state': random_state_model,\n",
    "    'verbose': verbose,\n",
    "    'warm_start': warm_start,\n",
    "    'ccp_alpha': ccp_alpha,\n",
    "    'max_samples': max_samples,\n",
    "    'validation':'k load grouped validation',\n",
    "    'other':{\n",
    "        'Nan values':'filled the float by mean and other features by median',\n",
    "        'Ceiling': 'moved outliers to a more logical value',\n",
    "        'New features':['space', 'nb_of_apartments'],\n",
    "        'Missing values' : {\n",
    "            \"Missing area_living\": \"reg on area_total\", \n",
    "            \"Missing area_kitchen\": \"reg on area_total and area_living\", \n",
    "            \"Missing ceiling\": \"reg on stories\"\n",
    "        }    \n",
    "    }\n",
    "}\n",
    "\n",
    "with open('sample_RF_24_settings.json', 'w') as fp:\n",
    "    json.dump(settings, fp)"
   ]
  },
  {
   "cell_type": "code",
   "execution_count": null,
   "metadata": {},
   "outputs": [],
   "source": []
  },
  {
   "cell_type": "markdown",
   "metadata": {},
   "source": []
  },
  {
   "cell_type": "code",
   "execution_count": null,
   "metadata": {},
   "outputs": [],
   "source": []
  }
 ],
 "metadata": {
  "interpreter": {
   "hash": "433299c0a6ef7fa1dabdb443310bde6b781d19168ce6c46534a3abeb460e20e7"
  },
  "kernelspec": {
   "display_name": "Python 3.8.12 64-bit ('base': conda)",
   "name": "python3"
  },
  "language_info": {
   "codemirror_mode": {
    "name": "ipython",
    "version": 3
   },
   "file_extension": ".py",
   "mimetype": "text/x-python",
   "name": "python",
   "nbconvert_exporter": "python",
   "pygments_lexer": "ipython3",
   "version": "3.8.12"
  },
  "orig_nbformat": 4
 },
 "nbformat": 4,
 "nbformat_minor": 2
}
