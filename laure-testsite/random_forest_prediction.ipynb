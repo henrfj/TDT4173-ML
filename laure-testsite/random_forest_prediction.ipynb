{
 "cells": [
  {
   "cell_type": "markdown",
   "source": [
    "# Random forest predictions"
   ],
   "metadata": {}
  },
  {
   "cell_type": "code",
   "execution_count": 722,
   "source": [
    "import pandas as pd\r\n",
    "import numpy as np\r\n",
    "from sklearn.model_selection import train_test_split\r\n",
    "from sklearn.metrics import mean_squared_error\r\n",
    "from sklearn.ensemble import RandomForestRegressor\r\n",
    "from scipy import stats\r\n",
    "\r\n",
    "import matplotlib.pylab as plt\r\n",
    "plt.style.use('ggplot')\r\n",
    "\r\n",
    "def root_mean_squared_log_error(y_true, y_pred):\r\n",
    "    # Alternatively: sklearn.metrics.mean_squared_log_error(y_true, y_pred) ** 0.5\r\n",
    "    assert (y_true >= 0).all() \r\n",
    "    assert (y_pred >= 0).all()\r\n",
    "    log_error = np.log1p(y_pred) - np.log1p(y_true)  # Note: log1p(x) = log(1 + x)\r\n",
    "    return np.mean(log_error ** 2) ** 0.5"
   ],
   "outputs": [],
   "metadata": {}
  },
  {
   "cell_type": "code",
   "execution_count": 723,
   "source": [
    "metaData_apartment = pd.read_json('../data/apartments_meta.json')\r\n",
    "metaData_building = pd.read_json('../data/buildings_meta.json')\r\n",
    "metaData_apartment.at[0, 'name'] = 'apartment_id'\r\n",
    "metaData_building.at[0, 'name'] = 'building_id'\r\n",
    "metaData = pd.concat([metaData_apartment, metaData_building])\r\n",
    "\r\n",
    "train_apartment = pd.read_csv('../data/apartments_train.csv')\r\n",
    "train_building = pd.read_csv('../data/buildings_train.csv')\r\n",
    "train = pd.merge(train_apartment, train_building.set_index('id'), how='left', left_on='building_id', right_on='id')\r\n",
    "# train.rename(columns={'id_x' : 'apartment_id'}, inplace=True)\r\n",
    "# train.drop('id_y', axis=1, inplace=True)\r\n",
    "train = train.fillna(train.mean())\r\n",
    "\r\n",
    "test_apartment = pd.read_csv('../data/apartments_test.csv')\r\n",
    "test_building = pd.read_csv('../data/buildings_test.csv')\r\n",
    "test = pd.merge(test_apartment, test_building.set_index('id'), how='left', left_on='building_id', right_on='id')\r\n",
    "# test.rename(columns={'id_x' : 'apartment_id'}, inplace=True)\r\n",
    "# test.drop('id_y', axis=1, inplace=True)\r\n",
    "test = test.fillna(test.mean())"
   ],
   "outputs": [],
   "metadata": {}
  },
  {
   "cell_type": "code",
   "execution_count": 736,
   "source": [
    "####### SETTINGS ##############\r\n",
    "test_size = 0.2\r\n",
    "random_state_split = 42\r\n",
    "outliers_value = 4\r\n",
    "all_features = ['seller','area_total','area_kitchen','area_living','floor','rooms','layout','ceiling','bathrooms_shared','bathrooms_private','windows_court','windows_street','balconies','loggias','condition','phones','building_id', 'new','latitude','longitude','district','constructed','material','stories','elevator_without','elevator_passenger','elevator_service','parking','garbage_chute','heating']\r\n",
    "features = ['area_total','ceiling', 'rooms','bathrooms_shared','latitude','longitude','district','constructed','stories','parking'] #['area_total', 'area_living', 'ceiling', 'constructed', 'stories', 'bathrooms_shared', 'latitude', 'longitude', 'parking', 'district']\r\n",
    "n_estimators=200\r\n",
    "criterion='mse'\r\n",
    "max_depth=15\r\n",
    "min_weight_fraction_leaf=0.0\r\n",
    "max_features='sqrt'\r\n",
    "max_leaf_nodes=None\r\n",
    "min_impurity_decrease=0.0\r\n",
    "bootstrap=True\r\n",
    "oob_score=False\r\n",
    "n_jobs=None\r\n",
    "random_state_model=2\r\n",
    "verbose=0\r\n",
    "warm_start=True\r\n",
    "ccp_alpha=0.0\r\n",
    "max_samples=None\r\n",
    "\r\n"
   ],
   "outputs": [],
   "metadata": {}
  },
  {
   "cell_type": "code",
   "execution_count": 737,
   "source": [
    "\r\n",
    "train_data, test_data = train_test_split(train, test_size=test_size, random_state=random_state_split, stratify=np.log(train.price).round())\r\n",
    "train_data = train_data[(np.abs(stats.zscore(train_data['price'])) < outliers_value)]\r\n",
    "X_train, y_train = train_data[features], train_data['price']\r\n",
    "X_test, y_test = test_data[features], test_data['price']\r\n",
    "# X_train_norm = (X_train - X_train.mean())/X_train.std()\r\n",
    "# y_train_norm = (y_train - y_train.mean())/y_train.std()"
   ],
   "outputs": [],
   "metadata": {}
  },
  {
   "cell_type": "code",
   "execution_count": 738,
   "source": [
    "######### BASE\r\n",
    "y_train = train_data.price\r\n",
    "y_valid = test_data.price\r\n",
    "\r\n",
    "mean = y_train.mean()\r\n",
    "y_train_hat = np.full(len(y_train), mean)\r\n",
    "y_valid_hat = np.full(len(y_valid), mean)\r\n",
    "\r\n",
    "print(f'Train rmsle: {root_mean_squared_log_error(y_true=y_train, y_pred=y_train_hat) :.4f}')\r\n",
    "print(f'Valid rmsle: {root_mean_squared_log_error(y_true=y_valid, y_pred=y_valid_hat) :.4f}')"
   ],
   "outputs": [
    {
     "output_type": "stream",
     "name": "stdout",
     "text": [
      "Train rmsle: 0.9300\n",
      "Valid rmsle: 0.9624\n"
     ]
    }
   ],
   "metadata": {}
  },
  {
   "cell_type": "code",
   "execution_count": 739,
   "source": [
    "model2 = RandomForestRegressor(\r\n",
    "    n_estimators=n_estimators,\r\n",
    "    criterion=criterion,\r\n",
    "    max_depth=max_depth,\r\n",
    "#     min_samples_split=2,\r\n",
    "#     min_samples_leaf=2,\r\n",
    "    min_weight_fraction_leaf=min_weight_fraction_leaf,\r\n",
    "    max_features=max_features,\r\n",
    "    max_leaf_nodes=max_leaf_nodes,\r\n",
    "    min_impurity_decrease=min_impurity_decrease,\r\n",
    "    bootstrap=bootstrap,\r\n",
    "    oob_score=oob_score,\r\n",
    "    n_jobs=n_jobs,\r\n",
    "    random_state=random_state_model,\r\n",
    "    verbose=verbose,\r\n",
    "    warm_start=warm_start,\r\n",
    "    ccp_alpha=ccp_alpha,\r\n",
    "    max_samples=max_samples\r\n",
    ")"
   ],
   "outputs": [],
   "metadata": {}
  },
  {
   "cell_type": "code",
   "execution_count": 740,
   "source": [
    "model2.fit(X_train, y_train)"
   ],
   "outputs": [
    {
     "output_type": "execute_result",
     "data": {
      "text/plain": [
       "RandomForestRegressor(max_depth=15, max_features='sqrt', n_estimators=200,\n",
       "                      random_state=2, warm_start=True)"
      ]
     },
     "metadata": {},
     "execution_count": 740
    }
   ],
   "metadata": {}
  },
  {
   "cell_type": "code",
   "execution_count": 743,
   "source": [
    "importances = model2.feature_importances_\r\n",
    "forest_importances = pd.Series(importances, index=X_train.columns)\r\n",
    "\r\n",
    "fig, ax = plt.subplots()\r\n",
    "forest_importances.plot.bar(ax=ax)\r\n",
    "ax.set_title(\"MDI or Gini Importance\")\r\n",
    "ax.set_ylabel(\"Mean decrease in impurity\")\r\n",
    "fig.tight_layout()"
   ],
   "outputs": [
    {
     "output_type": "display_data",
     "data": {
      "image/png": "[encoded data removed]",
      "text/plain": [
       "<Figure size 432x288 with 1 Axes>"
      ]
     },
     "metadata": {}
    }
   ],
   "metadata": {}
  },
  {
   "cell_type": "code",
   "execution_count": 744,
   "source": [
    "# Unormalize data\r\n"
   ],
   "outputs": [],
   "metadata": {}
  },
  {
   "cell_type": "code",
   "execution_count": 745,
   "source": [
    "rf_prediction = model2.predict(X_test)"
   ],
   "outputs": [],
   "metadata": {}
  },
  {
   "cell_type": "code",
   "execution_count": 746,
   "source": [
    "rf_mse = root_mean_squared_log_error(rf_prediction, y_test)\r\n",
    "print('Test MSE:', rf_mse)"
   ],
   "outputs": [
    {
     "output_type": "stream",
     "name": "stdout",
     "text": [
      "Test MSE: 0.184851062339462\n"
     ]
    }
   ],
   "metadata": {}
  },
  {
   "cell_type": "code",
   "execution_count": 747,
   "source": [
    "plt.scatter(rf_prediction, y_test)\r\n",
    "plt.xlabel('Random Forest prediction')\r\n",
    "plt.ylabel('Ground Truth')"
   ],
   "outputs": [
    {
     "output_type": "execute_result",
     "data": {
      "text/plain": [
       "Text(0, 0.5, 'Ground Truth')"
      ]
     },
     "metadata": {},
     "execution_count": 747
    },
    {
     "output_type": "display_data",
     "data": {
      "image/png": "[encoded data removed]",
      "text/plain": [
       "<Figure size 432x288 with 1 Axes>"
      ]
     },
     "metadata": {}
    }
   ],
   "metadata": {}
  },
  {
   "cell_type": "code",
   "execution_count": 751,
   "source": [
    "# ########## Create submission\r\n",
    "# # Fit model to the full dataset \r\n",
    "# train = train[(np.abs(stats.zscore(train['price'])) < outliers_value)]\r\n",
    "# X_train = train[features]\r\n",
    "# y_train = train['price']\r\n",
    "# print(f'Num nans in train {X_train.isna().any(axis=1).sum()}')\r\n",
    "# model = RandomForestRegressor(max_depth=20).fit(X_train, y_train)\r\n",
    "\r\n",
    "# # Generate predictions for test set \r\n",
    "# X_test = test[features]\r\n",
    "# X_test_nan = X_test.isna().any(axis=1)\r\n",
    "# print(f'Num nans in test: {X_test_nan.sum()}')\r\n",
    "# y_test_hat = model.predict(X_test[~X_test_nan])\r\n",
    "\r\n",
    "# # Construct submission dataframe\r\n",
    "# submission = pd.DataFrame()\r\n",
    "# submission['id'] = test.id\r\n",
    "# submission.loc[~X_test_nan, 'price_prediction'] = y_test_hat # Predict on non-nan entries\r\n",
    "# submission['price_prediction'].fillna(y_train.mean(), inplace=True) # Fill missing entries with mean predictor\r\n",
    "# print(f'Generated {len(submission)} predictions')\r\n",
    "\r\n",
    "# # Export submission to csv with headers\r\n",
    "\r\n",
    "# ############################################ CHANGE NAME !!!!!!!!!!\r\n",
    "# submission.to_csv('sample_RF_3.csv', index=False)\r\n",
    "# settings = {\r\n",
    "#     'train_MSE': root_mean_squared_log_error(rf_prediction, y_test),\r\n",
    "#     'features':features, \r\n",
    "#     'outliers_value':outliers_value,\r\n",
    "#     'nan_delete':'mean',\r\n",
    "#     'test_size' : test_size,\r\n",
    "#     'random_state_split' :  random_state_split,\r\n",
    "#     'n_estimators': n_estimators,\r\n",
    "#     'criterion': criterion,\r\n",
    "#     'max_depth': max_depth,\r\n",
    "#     'min_weight_fraction_leaf': min_weight_fraction_leaf,\r\n",
    "#     'max_features': max_features,\r\n",
    "#     'max_leaf_nodes': max_leaf_nodes,\r\n",
    "#     'min_impurity_decrease': min_impurity_decrease,\r\n",
    "#     'bootstrap': bootstrap,\r\n",
    "#     'oob_score': oob_score,\r\n",
    "#     'n_jobs': n_jobs,\r\n",
    "#     'random_state': random_state_model,\r\n",
    "#     'verbose': verbose,\r\n",
    "#     'warm_start': warm_start,\r\n",
    "#     'ccp_alpha': ccp_alpha,\r\n",
    "#     'max_samples': max_samples,\r\n",
    "#     'other':'None',\r\n",
    "#     }\r\n",
    "# with open('sample_RF_3_settings.json', 'w') as fp:\r\n",
    "#     json.dump(settings, fp)"
   ],
   "outputs": [
    {
     "output_type": "stream",
     "name": "stdout",
     "text": [
      "Num nans in train 0\n",
      "Num nans in test: 0\n",
      "Generated 9937 predictions\n"
     ]
    }
   ],
   "metadata": {}
  },
  {
   "cell_type": "code",
   "execution_count": null,
   "source": [],
   "outputs": [],
   "metadata": {}
  },
  {
   "cell_type": "code",
   "execution_count": null,
   "source": [],
   "outputs": [],
   "metadata": {}
  }
 ],
 "metadata": {
  "orig_nbformat": 4,
  "language_info": {
   "name": "python",
   "version": "3.8.8",
   "mimetype": "text/x-python",
   "codemirror_mode": {
    "name": "ipython",
    "version": 3
   },
   "pygments_lexer": "ipython3",
   "nbconvert_exporter": "python",
   "file_extension": ".py"
  },
  "kernelspec": {
   "name": "python3",
   "display_name": "Python 3.8.8 64-bit ('base': conda)"
  },
  "interpreter": {
   "hash": "433299c0a6ef7fa1dabdb443310bde6b781d19168ce6c46534a3abeb460e20e7"
  }
 },
 "nbformat": 4,
 "nbformat_minor": 2
}