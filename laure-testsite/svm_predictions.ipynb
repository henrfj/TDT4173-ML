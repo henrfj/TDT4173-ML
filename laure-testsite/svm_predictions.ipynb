{
 "cells": [
  {
   "cell_type": "markdown",
   "metadata": {},
   "source": [
    "# Support Vector Machines predictions"
   ]
  },
  {
   "cell_type": "code",
   "execution_count": 1,
   "metadata": {},
   "outputs": [],
   "source": [
    "import pandas as pd\n",
    "import numpy as np\n",
    "from sklearn.model_selection import train_test_split\n",
    "from sklearn.svm import SVR\n",
    "import utils as u\n",
    "from scipy import stats\n",
    "import copy\n",
    "# import common_utils.py as cutils\n",
    "\n",
    "\n",
    "import matplotlib.pylab as plt\n",
    "plt.style.use('ggplot')\n",
    "\n",
    "def root_mean_squared_log_error(y_true, y_pred):\n",
    "    # Alternatively: sklearn.metrics.mean_squared_log_error(y_true, y_pred) ** 0.5\n",
    "    # assert (y_true >= 0).all() \n",
    "    # assert (y_pred >= 0).all()\n",
    "    log_error = np.log1p(y_pred) - np.log1p(y_true)  # Note: log1p(x) = log(1 + x)\n",
    "    return np.mean(log_error ** 2) ** 0.5\n",
    "\n",
    "%run utils.py\n",
    "%run ../common_utils.py"
   ]
  },
  {
   "cell_type": "code",
   "execution_count": 2,
   "metadata": {},
   "outputs": [],
   "source": [
    "train, test, metaData = load_all_data()\n",
    "train = train[(np.abs(stats.zscore(train['price'])) < 5)]"
   ]
  },
  {
   "cell_type": "code",
   "execution_count": 3,
   "metadata": {},
   "outputs": [],
   "source": [
    "train, test = polar_coordinates(train, test)"
   ]
  },
  {
   "cell_type": "code",
   "execution_count": 4,
   "metadata": {},
   "outputs": [],
   "source": [
    "###### MISSING VALUES\n",
    "# area_living\n",
    "train = u.fillnaReg(train, ['area_total'], 'area_living')\n",
    "\n",
    "# area_kitchen\n",
    "train = u.fillnaReg(train, ['area_total', 'area_living'], 'area_kitchen')\n",
    "\n",
    "# ceiling\n",
    "train = u.fillnaReg(train, ['stories'], 'ceiling')"
   ]
  },
  {
   "cell_type": "code",
   "execution_count": 11,
   "metadata": {},
   "outputs": [],
   "source": [
    "############## SETTINGS\n",
    "test_size = 0.2\n",
    "random_state_split = 42\n",
    "features = ['area_total','floor','bathrooms_shared','district','constructed','material','stories', 'r', 'theta', 'building_id']\n"
   ]
  },
  {
   "cell_type": "code",
   "execution_count": 12,
   "metadata": {},
   "outputs": [
    {
     "name": "stderr",
     "output_type": "stream",
     "text": [
      "C:\\Users\\Laure\\AppData\\Local\\Temp/ipykernel_18012/1649026346.py:1: FutureWarning: Dropping of nuisance columns in DataFrame reductions (with 'numeric_only=None') is deprecated; in a future version this will raise TypeError.  Select only valid columns before calling the reduction.\n",
      "  train.fillna(train.mean(), inplace = True)\n",
      "C:\\Users\\Laure\\AppData\\Local\\Temp/ipykernel_18012/1649026346.py:2: FutureWarning: Dropping of nuisance columns in DataFrame reductions (with 'numeric_only=None') is deprecated; in a future version this will raise TypeError.  Select only valid columns before calling the reduction.\n",
      "  test.fillna(test.mean(), inplace = True)\n"
     ]
    }
   ],
   "source": [
    "train.fillna(train.mean(), inplace = True)\n",
    "test.fillna(test.mean(), inplace = True)\n",
    "train_data, test_data = train_test_split(train, test_size=test_size, random_state=random_state_split, stratify=np.log(train.price).round())"
   ]
  },
  {
   "cell_type": "code",
   "execution_count": 13,
   "metadata": {},
   "outputs": [],
   "source": [
    "X_train, y_train = train_data[features], train_data['price']\n",
    "X_test, y_test = test_data[features], test_data['price']"
   ]
  },
  {
   "cell_type": "code",
   "execution_count": 14,
   "metadata": {},
   "outputs": [],
   "source": [
    "# def runSVR(X_train, y_train, X_test, y_test, \n",
    "#     kernel='linear', degree=3, gamma='scale', coef0=0.0, tol=0.001, C=1.3, epsilon=0.1, shrinking=True, \n",
    "#     cache_size=200, verbose=False, max_iter=- 1):\n",
    "#     model = SVR(\n",
    "#         kernel=kernel, \n",
    "#         degree=degree, \n",
    "#         gamma=gamma, \n",
    "#         coef0=coef0, \n",
    "#         tol=tol, \n",
    "#         C=C, \n",
    "#         epsilon=epsilon, \n",
    "#         shrinking=shrinking, \n",
    "#         cache_size=cache_size, \n",
    "#         verbose=verbose, \n",
    "#         max_iter= max_iter\n",
    "#     )\n",
    "#     model.fit(X_train, y_train)\n",
    "#     rf_prediction = model.predict(X_test)\n",
    "#     rf_msle = root_mean_squared_log_error(rf_prediction, y_test)\n",
    "#     return rf_msle\n",
    "\n",
    "# def optimizeParam(X_train, y_train, X_test, y_test, variable, start, end, step, divider=1):\n",
    "#     x = []\n",
    "#     y = []\n",
    "#     for value in range(start, end, step):\n",
    "#         if divider != 1: value /= divider\n",
    "#         x.append(value)\n",
    "#         y.append(runSVR(X_train, y_train, X_test, y_test, cache_size=value))\n",
    "#     plt.plot(x, y)\n",
    "#     plt.xlabel('cache_size parameter values')\n",
    "#     plt.ylabel('RMLSE')\n",
    "\n",
    "# def optimizeParamCat(X_train, y_train, X_test, y_test, variable, values):\n",
    "#     x = []\n",
    "#     y = []\n",
    "#     for value in values:\n",
    "#         x.append(value)\n",
    "#         y.append(runSVR(X_train, y_train, X_test, y_test, shrinking=value))\n",
    "#     plt.plot(x, y)\n",
    "#     plt.xlabel('shrinking parameter values')\n",
    "#     plt.ylabel('RMLSE')\n",
    "\n",
    "# optimizeParam(X_train, y_train, X_test, y_test, 'cache_size', 150, 500, 50, divider=1)"
   ]
  },
  {
   "cell_type": "code",
   "execution_count": 15,
   "metadata": {},
   "outputs": [],
   "source": [
    "model = SVR(\n",
    "    kernel='linear', \n",
    "    degree=3, \n",
    "    gamma='scale', \n",
    "    coef0=0.0, \n",
    "    tol=0.001, \n",
    "    C=1.3, \n",
    "    epsilon=0.1, \n",
    "    shrinking=True, \n",
    "    cache_size=200, \n",
    "    verbose=False, \n",
    "    max_iter=- 1\n",
    ")"
   ]
  },
  {
   "cell_type": "code",
   "execution_count": 16,
   "metadata": {},
   "outputs": [],
   "source": [
    "# model.fit(X_train, y_train)\n",
    "# rf_prediction = model.predict(X_test)\n",
    "# rf_mse = root_mean_squared_log_error(rf_prediction, y_test)\n",
    "\n",
    "scores, average, best_model, best_index  = SVR_groupKFold(5, model, train[features], train['price'])\n",
    "# print('Test RMSLE:', rf_mse)\n",
    "# plt.scatter(rf_prediction, y_test, alpha=0.2)\n",
    "# plt.xlabel('Random Forest prediction')\n",
    "# plt.ylabel('Ground Truth')"
   ]
  },
  {
   "cell_type": "code",
   "execution_count": null,
   "metadata": {},
   "outputs": [
    {
     "data": {
      "image/png": "[encoded data removed]",
      "text/plain": [
       "<Figure size 720x576 with 1 Axes>"
      ]
     },
     "metadata": {},
     "output_type": "display_data"
    }
   ],
   "source": [
    "lin_svr_importance = abs(model.coef_[0])\n",
    "%run ../hasse-testsite/utils_hasse.py\n",
    "plot_feature_importance(lin_svr_importance, list(X_train.columns), 'Lin SVR All Features: ')"
   ]
  }
 ],
 "metadata": {
  "interpreter": {
   "hash": "433299c0a6ef7fa1dabdb443310bde6b781d19168ce6c46534a3abeb460e20e7"
  },
  "kernelspec": {
   "display_name": "Python 3.8.12 64-bit ('base': conda)",
   "name": "python3"
  },
  "language_info": {
   "codemirror_mode": {
    "name": "ipython",
    "version": 3
   },
   "file_extension": ".py",
   "mimetype": "text/x-python",
   "name": "python",
   "nbconvert_exporter": "python",
   "pygments_lexer": "ipython3",
   "version": "3.8.12"
  },
  "orig_nbformat": 4
 },
 "nbformat": 4,
 "nbformat_minor": 2
}
