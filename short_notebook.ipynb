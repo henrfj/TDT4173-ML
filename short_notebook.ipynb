{
 "cells": [
  {
   "cell_type": "markdown",
   "id": "eb7caa50-ec8f-4249-97c0-1fcd5a1da72c",
   "metadata": {},
   "source": [
    "# Short notebook\n",
    "\n",
    "**Kaggle competition**: *Moscow Housing*\n",
    "\n",
    "**Kaggle team name**: *Team 16*\n",
    "\n",
    "**Team members**: name - studentId\n",
    "- Laure Beringer - \n",
    "- Hasse Rombouts - \n",
    "- Henrik Fjellheim - 490763\n",
    "\n",
    "**Short about the final submission**:\n",
    "\n",
    "The final submission is a \"*bagging*\" prediction, combining several submissions using a weighted average. Some of the models are stand-alone models, and some are stacked meta-models. The final submission combines state of the art models like xgboost, LGBoost and Random Forrest as well as suplementary models like K-nearest-neighbours and deep artificial neural networks. The models were trained individually on different aspects of the dataset, and used to create \"Out-of-fold\" (oof) datasets to train a meta-models; the *stacking* process, and to combine model predictions using a weighted average function; the *bagging* process. \n",
    "\n",
    "The advantage of having a wide variaty of models, trainig on different targets and with different labels, was that their final predictions would biased very differently - one model would not perform the same errors as the next. Using bagging and stacking, meta-models and meta-predictions can be made taking advatage of this diversity, producing better results than any of the individual models could do by themselves.\n"
   ]
  },
  {
   "cell_type": "markdown",
   "id": "ec4a19b1-a8eb-4c22-bda3-92bb91afa2f4",
   "metadata": {},
   "source": [
    "**Run the file containing all utilities used developed by the team, for this competition.**"
   ]
  },
  {
   "cell_type": "code",
   "execution_count": 5,
   "id": "8f6f4935-fd18-44ec-9958-5ba94f243dbe",
   "metadata": {},
   "outputs": [],
   "source": [
    "%run common_utils.py"
   ]
  },
  {
   "cell_type": "markdown",
   "id": "83717666-f49f-43fb-818b-f4d34c922d3e",
   "metadata": {},
   "source": [
    "**Specify the path to previous predictions and path to where the result will be stored**"
   ]
  },
  {
   "cell_type": "code",
   "execution_count": 6,
   "id": "8cd0f855-af25-4bbf-8f02-8fdcfed6b73a",
   "metadata": {},
   "outputs": [],
   "source": [
    "fodler_path = \"./...\"\n",
    "result_path = \"./...\""
   ]
  },
  {
   "cell_type": "markdown",
   "id": "b91db3c1-dbc9-4ba4-b5e1-d7594d22dea9",
   "metadata": {},
   "source": [
    "**Bag the results**"
   ]
  },
  {
   "cell_type": "code",
   "execution_count": 7,
   "id": "f5bfd40b-8174-42fb-9622-23fe42f4c6c8",
   "metadata": {},
   "outputs": [],
   "source": [
    "bags = [        \n",
    "        [\n",
    "            {\"path\": fodler_path + 'Bag1/LGBM7.1.csv', 'score':0.16591},\n",
    "            {\"path\": fodler_path + 'Bag1/sample_KNN_3.csv', 'score':0.33883},\n",
    "            {\"path\": fodler_path + 'Bag1/lgbm_king_no_cv.csv', 'score':0.16514}\n",
    "        ],\n",
    "        [\n",
    "            {\"path\": fodler_path + 'Bag2/sample_RF_15.csv', 'score':0.20015},\n",
    "            {\"path\": fodler_path + 'Bag2/Xgboost_training_on_all_data_1.csv', 'score':0.17781},\n",
    "            {\"path\": fodler_path + 'Bag2/bagging_of_bagging_8.csv', 'score':0.16291}\n",
    "        ],\n",
    "        [\n",
    "            {\"path\": fodler_path + 'Bag3/CB5.1.csv', 'score':0.17140},\n",
    "            {\"path\": fodler_path + 'Bag3/submission_gradientBoost.csv', 'score':0.19968},\n",
    "            {\"path\": fodler_path + 'Bag3/bagging_of_bagging_4.csv', 'score':0.16415}\n",
    "        ],\n",
    "        [\n",
    "            {\"path\": fodler_path + 'Bag4/deep_king_5_5.csv', 'score':0.20502},\n",
    "            {\"path\": fodler_path + 'Bag4/GB5.1.csv', 'score':0.17172},\n",
    "            {\"path\": fodler_path + 'Bag4/stacking_on_all_data_2.csv', 'score':0.16489}\n",
    "        ]        \n",
    "    ]\n",
    "\n",
    "tree_bagging(bags, result_path, weight=[5, 4])"
   ]
  },
  {
   "cell_type": "code",
   "execution_count": null,
   "id": "2ad0997c-1214-47cd-9c7b-6f71174589de",
   "metadata": {},
   "outputs": [],
   "source": []
  },
  {
   "cell_type": "code",
   "execution_count": null,
   "id": "57f62702-12a9-401a-b0d6-4f92505b512c",
   "metadata": {},
   "outputs": [],
   "source": []
  },
  {
   "cell_type": "code",
   "execution_count": null,
   "id": "7f595735-8044-4507-838e-078bbf046b63",
   "metadata": {},
   "outputs": [],
   "source": []
  },
  {
   "cell_type": "code",
   "execution_count": null,
   "id": "e05bf77f-f633-4005-9f0b-69db178cb8cd",
   "metadata": {},
   "outputs": [],
   "source": []
  }
 ],
 "metadata": {
  "kernelspec": {
   "display_name": "Python 3 (ipykernel)",
   "language": "python",
   "name": "python3"
  },
  "language_info": {
   "codemirror_mode": {
    "name": "ipython",
    "version": 3
   },
   "file_extension": ".py",
   "mimetype": "text/x-python",
   "name": "python",
   "nbconvert_exporter": "python",
   "pygments_lexer": "ipython3",
   "version": "3.8.7"
  }
 },
 "nbformat": 4,
 "nbformat_minor": 5
}
