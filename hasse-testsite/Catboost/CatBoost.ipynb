{
 "cells": [
  {
   "cell_type": "code",
   "execution_count": 2,
   "id": "bba1a52f-9675-4681-8583-4ef6bd12d06c",
   "metadata": {},
   "outputs": [],
   "source": [
    "%run ../../common_utils.py"
   ]
  },
  {
   "cell_type": "code",
   "execution_count": 3,
   "id": "449b77da-e22e-4ede-8d52-6dead2a2fb62",
   "metadata": {},
   "outputs": [],
   "source": [
    "from catboost import CatBoostRegressor\n",
    "import optuna\n",
    "from optuna.samplers import TPESampler\n",
    "from IPython.utils import io\n",
    "import unidecode\n",
    "from catboost import Pool"
   ]
  },
  {
   "cell_type": "code",
   "execution_count": 4,
   "id": "dabcbd96-9723-448d-91b2-6f455181eec0",
   "metadata": {},
   "outputs": [],
   "source": [
    "random_state = 1\n",
    "number_of_splits = 5"
   ]
  },
  {
   "cell_type": "code",
   "execution_count": 5,
   "id": "009057f8-f16a-48fc-a467-c59b9b0e8ab0",
   "metadata": {},
   "outputs": [],
   "source": [
    "def load_data(val_data=False,path=None,cat_unknown=False):\n",
    "    train, test, metadata = load_all_data(path=path)\n",
    "    nonCategorical, categorical = get_cat_and_non_cat_data(metadata)\n",
    "    all_features = list(train.columns)\n",
    "    all_features.remove('price')\n",
    "    numerical_features = ['area_total','area_kitchen','area_living','floor','rooms','ceiling',\n",
    "        'bathrooms_shared','bathrooms_private','balconies','loggias','phones','building_id','constructed','stories']\n",
    "    categorical_to_numerical(train, ['street','address'])\n",
    "    categorical_to_numerical(test, ['street','address'])\n",
    "    if not val_data:\n",
    "        X_train, y_train, test_labels = pre_process_numerical(features = all_features, numerical_features = numerical_features, train = train, test = test,\n",
    "                            outliers_value=7, val_data=val_data, val_split=0.2, random_state=42, scaler=\"std\",\n",
    "                            add_R=\"True\", add_rel_height=\"True\", droptable=[],\n",
    "                            one_hot_encode=False, cat_features=categorical, drop_old=True,categorical_unknown=cat_unknown)\n",
    "        y_train_log = np.log(y_train)\n",
    "        return X_train, y_train, y_train_log, test_labels\n",
    "    else:\n",
    "        X_train, y_train, X_test, y_test, test_labels = pre_process_numerical(features = all_features, numerical_features = numerical_features, train = train, test = test,\n",
    "                            outliers_value=7, val_data=val_data, val_split=0.2, random_state=42, scaler=\"std\",\n",
    "                            add_R=\"True\", add_rel_height=\"True\", droptable=[],\n",
    "                            one_hot_encode=False, cat_features=categorical, drop_old=True,categorical_unkown=cat_unknown)\n",
    "        y_train_log = np.log(y_train)\n",
    "        return X_train, y_train, y_train_log, X_test, y_test, test_labels"
   ]
  },
  {
   "cell_type": "code",
   "execution_count": 22,
   "id": "1855998c-e980-4788-8397-1a8539227af6",
   "metadata": {},
   "outputs": [],
   "source": [
    "%%capture --no-display\n",
    "X_train, y_train, y_train_log, test_labels = load_data(path='../',cat_unknown=True)\n",
    "test_pd = test_labels.copy()\n",
    "selected_features_catboost=['building_id','area_kitchen', 'area_living',\n",
    "       'rooms', 'ceiling', 'bathrooms_shared', 'bathrooms_private',\n",
    "       'windows_court', 'windows_street', 'balconies', 'loggias', 'phones',\n",
    "       'new', 'street', 'address', 'seller', 'layout', 'condition', 'district',\n",
    "       'constructed', 'stories', 'elevator_without', 'elevator_passenger',\n",
    "       'material', 'parking', 'heating', 'r', 'rel_height']\n",
    "\n",
    "X_train = X_train[selected_features_catboost]\n",
    "test_labels = test_labels[selected_features_catboost]\n",
    "_, _, metadata = load_all_data(path='../')\n",
    "_, categorical = get_cat_and_non_cat_data(metadata)\n",
    "text_features=['street','address']\n",
    "categorical.append('street')\n",
    "categorical.append('address')\n",
    "X_train = X_train.astype({'street':'int','address':'int','seller':'int','layout':'int','condition':'int','district':'int','material':'int','parking':'int','heating':'int'})\n",
    "test_labels = test_labels.astype({'street':'int','address':'int','seller':'int','layout':'int','condition':'int','district':'int','material':'int','parking':'int','heating':'int'})"
   ]
  },
  {
   "cell_type": "code",
   "execution_count": 66,
   "id": "c486a89e-3a34-458c-8eb1-e3db107aae8a",
   "metadata": {},
   "outputs": [
    {
     "name": "stdout",
     "output_type": "stream",
     "text": [
      "starting on split  1\n"
     ]
    },
    {
     "name": "stderr",
     "output_type": "stream",
     "text": [
      "C:\\ProgramData\\Anaconda3\\lib\\site-packages\\pandas\\core\\frame.py:4308: SettingWithCopyWarning: \n",
      "A value is trying to be set on a copy of a slice from a DataFrame\n",
      "\n",
      "See the caveats in the documentation: https://pandas.pydata.org/pandas-docs/stable/user_guide/indexing.html#returning-a-view-versus-a-copy\n",
      "  return super().drop(\n"
     ]
    },
    {
     "name": "stdout",
     "output_type": "stream",
     "text": [
      "starting on split  2\n",
      "starting on split  3\n",
      "starting on split  4\n",
      "starting on split  5\n"
     ]
    }
   ],
   "source": [
    "model1 = CatBoostRegressor(random_state=random_state,loss_function='RMSE', cat_features=categorical)\n",
    "\n",
    "scores, average_score, best_model, best_index = catboost_groupKFold(number_of_splits, model1, X_train, y_train_log, categorical_features=[],text_features=[],random_state=random_state)"
   ]
  },
  {
   "cell_type": "code",
   "execution_count": 67,
   "id": "5ab2ffa5-470f-4ea8-a36e-db348f85236f",
   "metadata": {},
   "outputs": [
    {
     "name": "stdout",
     "output_type": "stream",
     "text": [
      "average score:  ([0.26136777437555175, 0.2606464150806193, 0.2462335758331197, 0.2632073672101002, 0.291418239654299], 0.26457467443073795, <catboost.core.CatBoostRegressor object at 0x00000174C73E3D60>, 4)\n"
     ]
    }
   ],
   "source": [
    "print(\"average score: \", average_score)"
   ]
  },
  {
   "cell_type": "code",
   "execution_count": 68,
   "id": "299341bd-e0b3-4cd3-ba28-ca7fb2a3cf99",
   "metadata": {},
   "outputs": [
    {
     "name": "stdout",
     "output_type": "stream",
     "text": [
      "starting on split  1\n"
     ]
    },
    {
     "name": "stderr",
     "output_type": "stream",
     "text": [
      "C:\\ProgramData\\Anaconda3\\lib\\site-packages\\pandas\\core\\frame.py:4308: SettingWithCopyWarning: \n",
      "A value is trying to be set on a copy of a slice from a DataFrame\n",
      "\n",
      "See the caveats in the documentation: https://pandas.pydata.org/pandas-docs/stable/user_guide/indexing.html#returning-a-view-versus-a-copy\n",
      "  return super().drop(\n"
     ]
    },
    {
     "name": "stdout",
     "output_type": "stream",
     "text": [
      "starting on split  2\n",
      "starting on split  3\n",
      "starting on split  4\n",
      "starting on split  5\n"
     ]
    }
   ],
   "source": [
    "model2 = CatBoostRegressor(\n",
    "    n_estimators=1000,\n",
    "    learning_rate=0.05,\n",
    "    thread_count=-1,\n",
    "    depth=5,\n",
    "    silent=True,\n",
    "    random_seed=42,\n",
    "    bagging_temperature=0.2\n",
    "#     od_type=\"Iter\"\n",
    ")\n",
    "scores, average_score, best_model, best_index = catboost_groupKFold(number_of_splits, model2, X_train, y_train_log, categorical_features=categorical,random_state=random_state)"
   ]
  },
  {
   "cell_type": "code",
   "execution_count": 69,
   "id": "bff21868-b418-41f1-9a4c-8e772a62b8ee",
   "metadata": {},
   "outputs": [
    {
     "name": "stdout",
     "output_type": "stream",
     "text": [
      "scores:         [0.28045662058144244, 0.2690561733445533, 0.24775573025631806, 0.2745180743432667, 0.32925386683584346]\n",
      "average score:  0.28020809307228484\n",
      "best model:     <catboost.core.CatBoostRegressor object at 0x00000174C75CD460>\n",
      "best index:     4\n"
     ]
    }
   ],
   "source": [
    "print(\"scores:        \", scores)\n",
    "print(\"average score: \", average_score)\n",
    "print(\"best model:    \", best_model)\n",
    "print(\"best index:    \", best_index)"
   ]
  },
  {
   "cell_type": "code",
   "execution_count": 7,
   "id": "2f792abe-8421-4aa8-901d-68ef7c4ea14d",
   "metadata": {},
   "outputs": [],
   "source": [
    "best_params = {\n",
    "    'learning_rate': 0.0772446776104594, \n",
    "    'l2_leaf_reg': 0.5709519938247928, \n",
    "    'colsample_bylevel': 0.09221911838854839, \n",
    "    'depth': 9, \n",
    "    'boosting_type': 'Plain', \n",
    "    'bootstrap_type': 'MVS', \n",
    "    'min_data_in_leaf': 17, \n",
    "    'one_hot_max_size': 11}\n",
    "model = CatBoostRegressor(**best_params, random_state=random_state,loss_function='RMSE', cat_features=categorical)"
   ]
  },
  {
   "cell_type": "code",
   "execution_count": 10,
   "id": "d56e9df0-f1b4-467c-a46f-151005d9965c",
   "metadata": {},
   "outputs": [
    {
     "data": {
      "text/plain": [
       "<catboost.core.CatBoostRegressor at 0x2643379b340>"
      ]
     },
     "execution_count": 10,
     "metadata": {},
     "output_type": "execute_result"
    }
   ],
   "source": [
    "model.fit(X_train,y_train_log,verbose=False)"
   ]
  },
  {
   "cell_type": "code",
   "execution_count": 26,
   "id": "ee735a8e-cf4f-49a4-9546-12e3b7808885",
   "metadata": {},
   "outputs": [],
   "source": [
    "predict_and_store(model, test_labels, test_pd, path=\"..\\.\\submissions\\CB4.0.csv\", exponential=True)"
   ]
  },
  {
   "cell_type": "code",
   "execution_count": null,
   "id": "f5c1e773-95f5-4dbb-8eb3-b257e21e0ca8",
   "metadata": {},
   "outputs": [],
   "source": []
  },
  {
   "cell_type": "code",
   "execution_count": null,
   "id": "3b673c50-8b28-4e41-a637-ddde5582c36f",
   "metadata": {},
   "outputs": [],
   "source": []
  }
 ],
 "metadata": {
  "kernelspec": {
   "display_name": "Python 3",
   "language": "python",
   "name": "python3"
  },
  "language_info": {
   "codemirror_mode": {
    "name": "ipython",
    "version": 3
   },
   "file_extension": ".py",
   "mimetype": "text/x-python",
   "name": "python",
   "nbconvert_exporter": "python",
   "pygments_lexer": "ipython3",
   "version": "3.8.8"
  }
 },
 "nbformat": 4,
 "nbformat_minor": 5
}
