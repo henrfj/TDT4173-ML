{
 "cells": [
  {
   "cell_type": "code",
   "execution_count": 1,
   "id": "bba1a52f-9675-4681-8583-4ef6bd12d06c",
   "metadata": {},
   "outputs": [],
   "source": [
    "%run ../../common_utils.py"
   ]
  },
  {
   "cell_type": "code",
   "execution_count": 2,
   "id": "449b77da-e22e-4ede-8d52-6dead2a2fb62",
   "metadata": {},
   "outputs": [],
   "source": [
    "from catboost import CatBoostRegressor\n",
    "import optuna\n",
    "from optuna.samplers import TPESampler\n",
    "from IPython.utils import io\n",
    "import unidecode\n",
    "from catboost import Pool"
   ]
  },
  {
   "cell_type": "code",
   "execution_count": 3,
   "id": "dabcbd96-9723-448d-91b2-6f455181eec0",
   "metadata": {},
   "outputs": [],
   "source": [
    "random_state = 1\n",
    "number_of_splits = 5"
   ]
  },
  {
   "cell_type": "code",
   "execution_count": 5,
   "id": "009057f8-f16a-48fc-a467-c59b9b0e8ab0",
   "metadata": {},
   "outputs": [],
   "source": [
    "def load_data(val_data=False,path=None,cat_unknown=False):\n",
    "    train, test, metadata = load_all_data(path=path)\n",
    "    nonCategorical, categorical = get_cat_and_non_cat_data(metadata)\n",
    "    all_features = list(train.columns)\n",
    "    all_features.remove('price')\n",
    "    numerical_features = ['area_total','area_kitchen','area_living','floor','rooms','ceiling',\n",
    "        'bathrooms_shared','bathrooms_private','balconies','loggias','phones','building_id','constructed','stories']\n",
    "    categorical_to_numerical(train, ['street','address'])\n",
    "    categorical_to_numerical(test, ['street','address'])\n",
    "    if not val_data:\n",
    "        X_train, y_train, test_labels = pre_process_numerical(features = all_features, numerical_features = numerical_features, train = train, test = test,\n",
    "                            outliers_value=7, val_data=val_data, val_split=0.2, random_state=42, scaler=\"std\",\n",
    "                            add_R=\"True\", add_rel_height=\"True\", droptable=[],\n",
    "                            one_hot_encode=False, cat_features=categorical, drop_old=True,categorical_unknown=cat_unknown)\n",
    "        y_train_log = np.log(y_train)\n",
    "        return X_train, y_train, y_train_log, test_labels\n",
    "    else:\n",
    "        X_train, y_train, X_test, y_test, test_labels = pre_process_numerical(features = all_features, numerical_features = numerical_features, train = train, test = test,\n",
    "                            outliers_value=7, val_data=val_data, val_split=0.2, random_state=42, scaler=\"std\",\n",
    "                            add_R=\"True\", add_rel_height=\"True\", droptable=[],\n",
    "                            one_hot_encode=False, cat_features=categorical, drop_old=True,categorical_unkown=cat_unknown)\n",
    "        y_train_log = np.log(y_train)\n",
    "        return X_train, y_train, y_train_log, X_test, y_test, test_labels"
   ]
  },
  {
   "cell_type": "code",
   "execution_count": 22,
   "id": "1855998c-e980-4788-8397-1a8539227af6",
   "metadata": {},
   "outputs": [],
   "source": [
    "%%capture --no-display\n",
    "X_train, y_train, y_train_log, test_labels = load_data(path='../',cat_unknown=True)\n",
    "test_pd = test_labels.copy()\n",
    "selected_features_catboost=['building_id','area_kitchen', 'area_living',\n",
    "       'rooms', 'ceiling', 'bathrooms_shared', 'bathrooms_private',\n",
    "       'windows_court', 'windows_street', 'balconies', 'loggias', 'phones',\n",
    "       'new', 'street', 'address', 'seller', 'layout', 'condition', 'district',\n",
    "       'constructed', 'stories', 'elevator_without', 'elevator_passenger',\n",
    "       'material', 'parking', 'heating', 'r', 'rel_height']\n",
    "\n",
    "X_train = X_train[selected_features_catboost]\n",
    "test_labels = test_labels[selected_features_catboost]\n",
    "_, _, metadata = load_all_data(path='../')\n",
    "_, categorical = get_cat_and_non_cat_data(metadata)\n",
    "text_features=['street','address']\n",
    "categorical.append('street')\n",
    "categorical.append('address')\n",
    "X_train = X_train.astype({'street':'int','address':'int','seller':'int','layout':'int','condition':'int','district':'int','material':'int','parking':'int','heating':'int'})\n",
    "test_labels = test_labels.astype({'street':'int','address':'int','seller':'int','layout':'int','condition':'int','district':'int','material':'int','parking':'int','heating':'int'})"
   ]
  },
  {
   "cell_type": "code",
   "execution_count": 66,
   "id": "c486a89e-3a34-458c-8eb1-e3db107aae8a",
   "metadata": {},
   "outputs": [
    {
     "name": "stdout",
     "output_type": "stream",
     "text": [
      "starting on split  1\n"
     ]
    },
    {
     "name": "stderr",
     "output_type": "stream",
     "text": [
      "C:\\ProgramData\\Anaconda3\\lib\\site-packages\\pandas\\core\\frame.py:4308: SettingWithCopyWarning: \n",
      "A value is trying to be set on a copy of a slice from a DataFrame\n",
      "\n",
      "See the caveats in the documentation: https://pandas.pydata.org/pandas-docs/stable/user_guide/indexing.html#returning-a-view-versus-a-copy\n",
      "  return super().drop(\n"
     ]
    },
    {
     "name": "stdout",
     "output_type": "stream",
     "text": [
      "starting on split  2\n",
      "starting on split  3\n",
      "starting on split  4\n",
      "starting on split  5\n"
     ]
    }
   ],
   "source": [
    "model1 = CatBoostRegressor(random_state=random_state,loss_function='RMSE', cat_features=categorical)\n",
    "\n",
    "scores, average_score, best_model, best_index = catboost_groupKFold(number_of_splits, model1, X_train, y_train_log, categorical_features=[],text_features=[],random_state=random_state)"
   ]
  },
  {
   "cell_type": "code",
   "execution_count": 67,
   "id": "5ab2ffa5-470f-4ea8-a36e-db348f85236f",
   "metadata": {},
   "outputs": [
    {
     "name": "stdout",
     "output_type": "stream",
     "text": [
      "average score:  ([0.26136777437555175, 0.2606464150806193, 0.2462335758331197, 0.2632073672101002, 0.291418239654299], 0.26457467443073795, <catboost.core.CatBoostRegressor object at 0x00000174C73E3D60>, 4)\n"
     ]
    }
   ],
   "source": [
    "print(\"average score: \", average_score)"
   ]
  },
  {
   "cell_type": "code",
   "execution_count": 68,
   "id": "299341bd-e0b3-4cd3-ba28-ca7fb2a3cf99",
   "metadata": {},
   "outputs": [
    {
     "name": "stdout",
     "output_type": "stream",
     "text": [
      "starting on split  1\n"
     ]
    },
    {
     "name": "stderr",
     "output_type": "stream",
     "text": [
      "C:\\ProgramData\\Anaconda3\\lib\\site-packages\\pandas\\core\\frame.py:4308: SettingWithCopyWarning: \n",
      "A value is trying to be set on a copy of a slice from a DataFrame\n",
      "\n",
      "See the caveats in the documentation: https://pandas.pydata.org/pandas-docs/stable/user_guide/indexing.html#returning-a-view-versus-a-copy\n",
      "  return super().drop(\n"
     ]
    },
    {
     "name": "stdout",
     "output_type": "stream",
     "text": [
      "starting on split  2\n",
      "starting on split  3\n",
      "starting on split  4\n",
      "starting on split  5\n"
     ]
    }
   ],
   "source": [
    "model2 = CatBoostRegressor(\n",
    "    n_estimators=1000,\n",
    "    learning_rate=0.05,\n",
    "    thread_count=-1,\n",
    "    depth=5,\n",
    "    silent=True,\n",
    "    random_seed=42,\n",
    "    bagging_temperature=0.2\n",
    "#     od_type=\"Iter\"\n",
    ")\n",
    "scores, average_score, best_model, best_index = catboost_groupKFold(number_of_splits, model2, X_train, y_train_log, categorical_features=categorical,random_state=random_state)"
   ]
  },
  {
   "cell_type": "code",
   "execution_count": 69,
   "id": "bff21868-b418-41f1-9a4c-8e772a62b8ee",
   "metadata": {},
   "outputs": [
    {
     "name": "stdout",
     "output_type": "stream",
     "text": [
      "scores:         [0.28045662058144244, 0.2690561733445533, 0.24775573025631806, 0.2745180743432667, 0.32925386683584346]\n",
      "average score:  0.28020809307228484\n",
      "best model:     <catboost.core.CatBoostRegressor object at 0x00000174C75CD460>\n",
      "best index:     4\n"
     ]
    }
   ],
   "source": [
    "print(\"scores:        \", scores)\n",
    "print(\"average score: \", average_score)\n",
    "print(\"best model:    \", best_model)\n",
    "print(\"best index:    \", best_index)"
   ]
  },
  {
   "cell_type": "code",
   "execution_count": 7,
   "id": "2f792abe-8421-4aa8-901d-68ef7c4ea14d",
   "metadata": {},
   "outputs": [],
   "source": [
    "best_params = {\n",
    "    'learning_rate': 0.0772446776104594, \n",
    "    'l2_leaf_reg': 0.5709519938247928, \n",
    "    'colsample_bylevel': 0.09221911838854839, \n",
    "    'depth': 9, \n",
    "    'boosting_type': 'Plain', \n",
    "    'bootstrap_type': 'MVS', \n",
    "    'min_data_in_leaf': 17, \n",
    "    'one_hot_max_size': 11}\n",
    "model = CatBoostRegressor(**best_params, random_state=random_state,loss_function='RMSE', cat_features=categorical)"
   ]
  },
  {
   "cell_type": "code",
   "execution_count": 10,
   "id": "d56e9df0-f1b4-467c-a46f-151005d9965c",
   "metadata": {},
   "outputs": [
    {
     "data": {
      "text/plain": [
       "<catboost.core.CatBoostRegressor at 0x2643379b340>"
      ]
     },
     "execution_count": 10,
     "metadata": {},
     "output_type": "execute_result"
    }
   ],
   "source": [
    "model.fit(X_train,y_train_log,verbose=False)"
   ]
  },
  {
   "cell_type": "code",
   "execution_count": 26,
   "id": "ee735a8e-cf4f-49a4-9546-12e3b7808885",
   "metadata": {},
   "outputs": [],
   "source": [
    "predict_and_store(model, test_labels, test_pd, path=\"..\\.\\submissions\\CB4.0.csv\", exponential=True)"
   ]
  },
  {
   "cell_type": "code",
   "execution_count": null,
   "id": "f5c1e773-95f5-4dbb-8eb3-b257e21e0ca8",
   "metadata": {},
   "outputs": [],
   "source": []
  },
  {
   "cell_type": "code",
   "execution_count": null,
   "id": "3b673c50-8b28-4e41-a637-ddde5582c36f",
   "metadata": {},
   "outputs": [],
   "source": []
  },
  {
   "cell_type": "markdown",
   "id": "69da1f13-852c-4409-96f5-6eb6d0263a30",
   "metadata": {},
   "source": [
    "# Lot of extra features"
   ]
  },
  {
   "cell_type": "code",
   "execution_count": 11,
   "id": "b0890eaa-79f2-41f0-b20b-5cc57c85269e",
   "metadata": {},
   "outputs": [
    {
     "name": "stdout",
     "output_type": "stream",
     "text": [
      "minMax\n"
     ]
    }
   ],
   "source": [
    "features =           [\"building_id\", # For grouping\n",
    "                      \"area_total\", \"area_kitchen\", \"area_living\", \"floor\", \"ceiling\", \"stories\", \"rooms\",\n",
    "                      \"bathrooms_private\", \"bathrooms_shared\", \"balconies\",\"loggias\", \"phones\", \"latitude\", \"longitude\", \"constructed\", # Numerical\n",
    "                     \"layout\", \"condition\", \"district\", \"material\", \"parking\", \"heating\", \"seller\", #Categorical\n",
    "                      \"windows_court\", \"windows_street\", \"new\", \"elevator_without\", \"elevator_passenger\", \"elevator_service\", \"garbage_chute\", # Bool\n",
    "                     \"street\", \"address\"] # Strings\n",
    "\n",
    "all_numerical_features = [\"area_total\", \"area_kitchen\", \"area_living\", \"floor\",\n",
    "                      \"ceiling\", \"stories\", \"rooms\", \"bathrooms_private\", \"bathrooms_shared\", \"balconies\",\"loggias\", \"phones\", \"latitude\", \"longitude\", \"constructed\"]\n",
    "\n",
    "float_numerical_features = [\"area_total\", \"area_kitchen\", \"area_living\", \"ceiling\", \"latitude\", \"longitude\", \"constructed\"]\n",
    "int_numerical_features = [\"floor\", \"stories\", \"rooms\", \"bathrooms_private\", \"bathrooms_shared\", \"balconies\", \"loggias\", \"phones\"] # Ordinal categories\n",
    "\n",
    "cat_features = [\"layout\", \"condition\", \"district\", \"material\", \"parking\", \"heating\", \"seller\"] # All are non-ordinal\n",
    "\n",
    "droptable = []\n",
    "\n",
    "# Load data\n",
    "train, test, metaData = load_all_data(path='../')\n",
    "# Clean data\n",
    "train_labels, train_targets, test_labels = clean_data(train, test, features, float_numerical_features, int_numerical_features, cat_features, log_targets=False, log_area=True, fillNan=True)\n",
    "# Add new features\n",
    "train_labels, test_labels, added_features = feature_engineering(\n",
    "    train_labels, \n",
    "    test_labels,\n",
    "    add_base_features=True, \n",
    "    add_bool_features=True,\n",
    "    add_weak_features=True,\n",
    "    add_dist_to_metro=True,\n",
    "    add_close_to_uni=True,\n",
    "    add_dist_to_hospital=True,\n",
    "    add_floor_features=True,\n",
    "    add_street_info=True,\n",
    "    )\n",
    "\n",
    "# Normalize\n",
    "train_labels, test_labels = normalize(train_labels, test_labels, float_numerical_features, scaler=\"minMax\")\n",
    "# No One-hot encoding\n",
    "    \t# train_labels, test_labels = one_hot_encoder(train_labels, test_labels, [\"condition\", \"district\", \"material\", \"parking\", \"heating\", \"seller\"], drop_old=True)\n",
    "# Drop some features\n",
    "train_labels.drop(droptable, inplace=True, axis=1)\n",
    "test_labels.drop(droptable, inplace=True, axis=1)\n",
    "\n",
    "droptable = ['street','address']\n",
    "train_labels.drop(droptable, inplace=True, axis=1)\n",
    "test_labels.drop(droptable, inplace=True, axis=1)"
   ]
  },
  {
   "cell_type": "code",
   "execution_count": 12,
   "id": "834f04c2-567b-434e-a8a5-1d1af2ecd36e",
   "metadata": {},
   "outputs": [],
   "source": [
    "best_params = {\n",
    "    'learning_rate': 0.0772446776104594, \n",
    "    'l2_leaf_reg': 0.5709519938247928, \n",
    "    'colsample_bylevel': 0.09221911838854839, \n",
    "    'depth': 9, \n",
    "    'boosting_type': 'Plain', \n",
    "    'bootstrap_type': 'MVS', \n",
    "    'min_data_in_leaf': 17, \n",
    "    'one_hot_max_size': 11}\n",
    "model = CatBoostRegressor(**best_params, random_state=random_state,loss_function='RMSE', cat_features=cat_features)"
   ]
  },
  {
   "cell_type": "code",
   "execution_count": 17,
   "id": "ca69ed6f-c0f2-4979-a80e-1332a1da3943",
   "metadata": {},
   "outputs": [],
   "source": [
    "cat_dict = {}\n",
    "for feature in cat_features:\n",
    "    cat_dict[feature] = 'int'"
   ]
  },
  {
   "cell_type": "code",
   "execution_count": 23,
   "id": "18b6c2de-23f8-48d1-892d-a92ebd051fa7",
   "metadata": {},
   "outputs": [],
   "source": [
    "train_labels = train_labels.astype(cat_dict)\n",
    "test_labels = test_labels.astype(cat_dict)"
   ]
  },
  {
   "cell_type": "code",
   "execution_count": 19,
   "id": "15fa2cbf-22b2-4440-b456-a4ca9ef28084",
   "metadata": {},
   "outputs": [
    {
     "name": "stdout",
     "output_type": "stream",
     "text": [
      "starting on split  1\n"
     ]
    },
    {
     "name": "stderr",
     "output_type": "stream",
     "text": [
      "C:\\ProgramData\\Anaconda3\\lib\\site-packages\\pandas\\core\\frame.py:4308: SettingWithCopyWarning: \n",
      "A value is trying to be set on a copy of a slice from a DataFrame\n",
      "\n",
      "See the caveats in the documentation: https://pandas.pydata.org/pandas-docs/stable/user_guide/indexing.html#returning-a-view-versus-a-copy\n",
      "  return super().drop(\n"
     ]
    },
    {
     "name": "stdout",
     "output_type": "stream",
     "text": [
      "starting on split  2\n",
      "starting on split  3\n",
      "starting on split  4\n",
      "starting on split  5\n"
     ]
    }
   ],
   "source": [
    "scores, average_score, best_model, best_index = catboost_groupKFold(\n",
    "    number_of_splits=number_of_splits,\n",
    "    model=model, \n",
    "    X_train=train_labels,\n",
    "    y_train=np.log(train_targets),\n",
    "    categorical_features=cat_features,\n",
    "    random_state=random_state)"
   ]
  },
  {
   "cell_type": "code",
   "execution_count": 20,
   "id": "16b90da0-9797-4b4d-9280-5e1116e9da12",
   "metadata": {},
   "outputs": [
    {
     "name": "stdout",
     "output_type": "stream",
     "text": [
      "scores:         [0.1991204515884232, 0.18186552619956745, 0.19983557876288044, 0.18737034071889158, 0.2504049982240116]\n",
      "average score:  0.20371937909875487\n",
      "best model:     <catboost.core.CatBoostRegressor object at 0x000002241E7F4550>\n",
      "best index:     3\n"
     ]
    }
   ],
   "source": [
    "print(\"scores:        \", scores)\n",
    "print(\"average score: \", average_score)\n",
    "print(\"best model:    \", best_model)\n",
    "print(\"best index:    \", best_index)"
   ]
  },
  {
   "cell_type": "code",
   "execution_count": 29,
   "id": "86779bde-ae17-4ccb-b341-3ee69266dbb8",
   "metadata": {},
   "outputs": [],
   "source": [
    "model.fit(train_labels,np.log(train_targets))\n",
    "predict_and_store(model, test_labels, test, path=\"..\\.\\submissions\\CB5.0.csv\", exponential=True)"
   ]
  },
  {
   "cell_type": "markdown",
   "id": "d4b4b7e7-6340-4312-b8fc-d81c72317a68",
   "metadata": {},
   "source": [
    "## Predict price per square meter"
   ]
  },
  {
   "cell_type": "code",
   "execution_count": 26,
   "id": "4e51987a-527e-4f16-b80f-76e68a187a82",
   "metadata": {},
   "outputs": [],
   "source": [
    "price_per_square_meter = train_targets/train['area_total']"
   ]
  },
  {
   "cell_type": "code",
   "execution_count": 28,
   "id": "0906aba9-63b3-427d-a2b8-1e254ebc5879",
   "metadata": {},
   "outputs": [
    {
     "name": "stdout",
     "output_type": "stream",
     "text": [
      "starting on split  1\n"
     ]
    },
    {
     "name": "stderr",
     "output_type": "stream",
     "text": [
      "C:\\ProgramData\\Anaconda3\\lib\\site-packages\\pandas\\core\\frame.py:4308: SettingWithCopyWarning: \n",
      "A value is trying to be set on a copy of a slice from a DataFrame\n",
      "\n",
      "See the caveats in the documentation: https://pandas.pydata.org/pandas-docs/stable/user_guide/indexing.html#returning-a-view-versus-a-copy\n",
      "  return super().drop(\n"
     ]
    },
    {
     "name": "stdout",
     "output_type": "stream",
     "text": [
      "starting on split  2\n",
      "starting on split  3\n",
      "starting on split  4\n",
      "starting on split  5\n"
     ]
    }
   ],
   "source": [
    "scores, average_score, best_model, best_index = catboost_groupKFold(\n",
    "    number_of_splits=number_of_splits,\n",
    "    model=model, \n",
    "    X_train=train_labels.drop(['area_total'],axis=1),\n",
    "    y_train=np.log(price_per_square_meter),\n",
    "    categorical_features=cat_features,\n",
    "    random_state=random_state)"
   ]
  },
  {
   "cell_type": "code",
   "execution_count": 30,
   "id": "5b81a651-4536-4ca2-9a30-640a6cbcb339",
   "metadata": {},
   "outputs": [
    {
     "name": "stdout",
     "output_type": "stream",
     "text": [
      "scores:         [0.1957361325499033, 0.1747421517448537, 0.1913325025733115, 0.1821555136129951, 0.23160374207763637]\n",
      "average score:  0.19511400851174\n",
      "best model:     <catboost.core.CatBoostRegressor object at 0x000002241E7F4550>\n",
      "best index:     3\n"
     ]
    }
   ],
   "source": [
    "print(\"scores:        \", scores)\n",
    "print(\"average score: \", average_score)\n",
    "print(\"best model:    \", best_model)\n",
    "print(\"best index:    \", best_index)"
   ]
  },
  {
   "cell_type": "code",
   "execution_count": 32,
   "id": "e3da75c7-8b11-435b-a536-0d28f17fcd30",
   "metadata": {},
   "outputs": [],
   "source": [
    "model.fit(train_labels.drop(['area_total'],axis=1),np.log(price_per_square_meter))\n",
    "predict_and_store(model, test_labels.drop(['area_total'],axis=1), test, path=\"..\\.\\submissions\\CB5.1.csv\", exponential=True, price_per_sq = True, total_area_df = test['area_total'])"
   ]
  },
  {
   "cell_type": "code",
   "execution_count": null,
   "id": "23af632d-9574-4348-acc9-da1c8796c8a5",
   "metadata": {},
   "outputs": [],
   "source": []
  }
 ],
 "metadata": {
  "kernelspec": {
   "display_name": "Python 3",
   "language": "python",
   "name": "python3"
  },
  "language_info": {
   "codemirror_mode": {
    "name": "ipython",
    "version": 3
   },
   "file_extension": ".py",
   "mimetype": "text/x-python",
   "name": "python",
   "nbconvert_exporter": "python",
   "pygments_lexer": "ipython3",
   "version": "3.8.8"
  }
 },
 "nbformat": 4,
 "nbformat_minor": 5
}
