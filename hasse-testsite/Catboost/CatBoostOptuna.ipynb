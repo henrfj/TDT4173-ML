{
 "cells": [
  {
   "cell_type": "code",
   "execution_count": 3,
   "id": "fcfb6edb-e986-4f0f-8a13-e5594dd3fb8e",
   "metadata": {},
   "outputs": [],
   "source": [
    "%run ../../common_utils.py"
   ]
  },
  {
   "cell_type": "code",
   "execution_count": 4,
   "id": "a3ddd434-3f25-452c-93d6-68a683171a8d",
   "metadata": {},
   "outputs": [],
   "source": [
    "from catboost import CatBoostRegressor\n",
    "import optuna\n",
    "from optuna.samplers import TPESampler\n",
    "from IPython.utils import io\n",
    "import unidecode\n",
    "from catboost import Pool"
   ]
  },
  {
   "cell_type": "code",
   "execution_count": 5,
   "id": "63dbbcba-7eaa-4c60-8a6d-aa654cf3b0ff",
   "metadata": {},
   "outputs": [],
   "source": [
    "random_state = 1\n",
    "number_of_splits = 5"
   ]
  },
  {
   "cell_type": "code",
   "execution_count": 6,
   "id": "ebfcfc64-f926-4d62-aab3-30fa81261cbb",
   "metadata": {},
   "outputs": [],
   "source": [
    "def load_data(val_data=False,path=None,cat_unknown=False):\n",
    "    train, test, metadata = load_all_data(path=path)\n",
    "    nonCategorical, categorical = get_cat_and_non_cat_data(metadata)\n",
    "    all_features = list(train.columns)\n",
    "    all_features.remove('price')\n",
    "    numerical_features = ['area_total','area_kitchen','area_living','floor','rooms','ceiling',\n",
    "        'bathrooms_shared','bathrooms_private','balconies','loggias','phones','building_id','constructed','stories']\n",
    "    categorical_to_numerical(train, ['street','address'])\n",
    "    categorical_to_numerical(test, ['street','address'])\n",
    "    if not val_data:\n",
    "        X_train, y_train, test_labels = pre_process_numerical(features = all_features, numerical_features = numerical_features, train = train, test = test,\n",
    "                            outliers_value=7, val_data=val_data, val_split=0.2, random_state=42, scaler=\"std\",\n",
    "                            add_R=\"True\", add_rel_height=\"True\", droptable=[],\n",
    "                            one_hot_encode=False, cat_features=categorical, drop_old=True,categorical_unknown=cat_unknown)\n",
    "        y_train_log = np.log(y_train)\n",
    "        return X_train, y_train, y_train_log, test_labels\n",
    "    else:\n",
    "        X_train, y_train, X_test, y_test, test_labels = pre_process_numerical(features = all_features, numerical_features = numerical_features, train = train, test = test,\n",
    "                            outliers_value=7, val_data=val_data, val_split=0.2, random_state=42, scaler=\"std\",\n",
    "                            add_R=\"True\", add_rel_height=\"True\", droptable=[],\n",
    "                            one_hot_encode=False, cat_features=categorical, drop_old=True,categorical_unkown=cat_unknown)\n",
    "        y_train_log = np.log(y_train)\n",
    "        return X_train, y_train, y_train_log, X_test, y_test, test_labels"
   ]
  },
  {
   "cell_type": "code",
   "execution_count": 7,
   "id": "0a692f73-db26-4ee5-9a48-a77c274b4159",
   "metadata": {},
   "outputs": [],
   "source": [
    "%%capture --no-display\n",
    "X_train, y_train, y_train_log, test_labels = load_data(path='../',cat_unknown=True)\n",
    "selected_features_catboost=['building_id','area_kitchen', 'area_living',\n",
    "       'rooms', 'ceiling', 'bathrooms_shared', 'bathrooms_private',\n",
    "       'windows_court', 'windows_street', 'balconies', 'loggias', 'phones',\n",
    "       'new', 'street', 'address', 'seller', 'layout', 'condition', 'district',\n",
    "       'constructed', 'stories', 'elevator_without', 'elevator_passenger',\n",
    "       'material', 'parking', 'heating', 'r', 'rel_height']\n",
    "\n",
    "X_train = X_train[selected_features_catboost]\n",
    "_, _, metadata = load_all_data(path='../')\n",
    "nonCategorical, categorical = get_cat_and_non_cat_data(metadata)\n",
    "text_features=['street','address']\n",
    "categorical.append('street')\n",
    "categorical.append('address')\n",
    "X_train = X_train.astype({'street':'int','address':'int','seller':'int','layout':'int','condition':'int','district':'int','material':'int','parking':'int','heating':'int'})\n",
    "X_train.drop(['area_kitchen', 'area_living', 'rooms', 'ceiling',\n",
    "       'bathrooms_shared', 'bathrooms_private', 'windows_court', \n",
    "       'windows_street', 'balconies', 'loggias', 'phones', 'new', 'constructed',\n",
    "       'stories', 'elevator_without', 'elevator_passenger',\n",
    "       'r', 'rel_height'],axis=1,inplace=True)"
   ]
  },
  {
   "cell_type": "code",
   "execution_count": 8,
   "id": "bf24c9fc-924e-4de3-8e80-4099396339ac",
   "metadata": {},
   "outputs": [],
   "source": [
    "def objective(trial,X_train,y_train):\n",
    "    \n",
    "    param = {\n",
    "        \"learning_rate\": trial.suggest_loguniform(\"learning_rate\", 1e-5, 1e-1),\n",
    "        \"l2_leaf_reg\": trial.suggest_loguniform(\"l2_leaf_reg\", 1e-2, 1e0),\n",
    "        \"colsample_bylevel\": trial.suggest_float(\"colsample_bylevel\", 0.01, 0.1),\n",
    "        \"depth\": trial.suggest_int(\"depth\", 1, 10),\n",
    "        \"boosting_type\": trial.suggest_categorical(\"boosting_type\", [\"Ordered\", \"Plain\"]),\n",
    "        \"bootstrap_type\": trial.suggest_categorical(\"bootstrap_type\", [\"Bayesian\", \"Bernoulli\", \"MVS\"]),\n",
    "        \"min_data_in_leaf\": trial.suggest_int(\"min_data_in_leaf\", 2, 20),\n",
    "        \"one_hot_max_size\": trial.suggest_int(\"one_hot_max_size\", 2, 20),  \n",
    "    }\n",
    "    # Conditional Hyper-Parameters\n",
    "    if param[\"bootstrap_type\"] == \"Bayesian\":\n",
    "        param[\"bagging_temperature\"] = trial.suggest_float(\"bagging_temperature\", 0, 10)\n",
    "    elif param[\"bootstrap_type\"] == \"Bernoulli\":\n",
    "        param[\"subsample\"] = trial.suggest_float(\"subsample\", 0.1, 1)\n",
    "\n",
    "    scores = []\n",
    "        \n",
    "    cv = GroupKFold(n_splits=number_of_splits)\n",
    "    groups = X_train[\"building_id\"]\n",
    "    i = 1\n",
    "    for train_index, test_index in cv.split(X_train, y_train, groups):\n",
    "        print(\"starting on split \",i)\n",
    "        i+=1\n",
    "        X_train2, X_test = X_train.iloc[train_index], X_train.iloc[test_index]\n",
    "        y_train2, y_test = y_train.iloc[train_index], y_train.iloc[test_index]\n",
    "        X_train2.drop(['building_id'], axis=1,inplace=True)\n",
    "        X_test.drop(['building_id'], axis=1,inplace=True)\n",
    "\n",
    "        model = CatBoostRegressor(**param, random_state=random_state,loss_function='RMSE', cat_features=categorical)\n",
    "        \n",
    "        model.fit(\n",
    "            X_train2,\n",
    "            y_train2,\n",
    "            eval_set=[(X_test, y_test)],\n",
    "            verbose=False,\n",
    "            early_stopping_rounds=100,\n",
    "        )\n",
    "        \n",
    "        prediction = np.exp(model.predict(X_test))\n",
    "        score = root_mean_squared_log_error(prediction, np.exp(y_test))\n",
    "        scores.append(score)\n",
    "    return np.average(scores)"
   ]
  },
  {
   "cell_type": "code",
   "execution_count": null,
   "id": "5201d631-5eb3-4b50-bede-8b94f8b548c1",
   "metadata": {},
   "outputs": [
    {
     "name": "stderr",
     "output_type": "stream",
     "text": [
      "\u001b[32m[I 2021-11-11 19:43:02,320]\u001b[0m A new study created in memory with name: no-name-ae18f42e-0986-4e68-8836-bfbe1dca5d40\u001b[0m\n",
      "C:\\ProgramData\\Anaconda3\\lib\\site-packages\\pandas\\core\\frame.py:4308: SettingWithCopyWarning: \n",
      "A value is trying to be set on a copy of a slice from a DataFrame\n",
      "\n",
      "See the caveats in the documentation: https://pandas.pydata.org/pandas-docs/stable/user_guide/indexing.html#returning-a-view-versus-a-copy\n",
      "  return super().drop(\n"
     ]
    },
    {
     "name": "stdout",
     "output_type": "stream",
     "text": [
      "starting on split  1\n",
      "starting on split  2\n",
      "starting on split  3\n",
      "starting on split  4\n",
      "starting on split  5\n"
     ]
    },
    {
     "name": "stderr",
     "output_type": "stream",
     "text": [
      "\u001b[32m[I 2021-11-11 19:43:12,784]\u001b[0m Trial 0 finished with value: 0.8417288235995525 and parameters: {'learning_rate': 9.233508332427793e-05, 'l2_leaf_reg': 0.35081951139183326, 'colsample_bylevel': 0.014966406619392707, 'depth': 8, 'boosting_type': 'Plain', 'bootstrap_type': 'Bernoulli', 'min_data_in_leaf': 18, 'one_hot_max_size': 12, 'subsample': 0.7666477777061842}. Best is trial 0 with value: 0.8417288235995525.\u001b[0m\n"
     ]
    },
    {
     "name": "stdout",
     "output_type": "stream",
     "text": [
      "0.8417288235995525\n",
      "starting on split  1\n"
     ]
    },
    {
     "name": "stderr",
     "output_type": "stream",
     "text": [
      "C:\\ProgramData\\Anaconda3\\lib\\site-packages\\pandas\\core\\frame.py:4308: SettingWithCopyWarning: \n",
      "A value is trying to be set on a copy of a slice from a DataFrame\n",
      "\n",
      "See the caveats in the documentation: https://pandas.pydata.org/pandas-docs/stable/user_guide/indexing.html#returning-a-view-versus-a-copy\n",
      "  return super().drop(\n"
     ]
    },
    {
     "name": "stdout",
     "output_type": "stream",
     "text": [
      "starting on split  2\n",
      "starting on split  3\n",
      "starting on split  4\n",
      "starting on split  5\n"
     ]
    },
    {
     "name": "stderr",
     "output_type": "stream",
     "text": [
      "\u001b[32m[I 2021-11-11 19:43:33,116]\u001b[0m Trial 1 finished with value: 0.7426829920707243 and parameters: {'learning_rate': 0.001602444999732028, 'l2_leaf_reg': 0.03881102092131533, 'colsample_bylevel': 0.0714559896878126, 'depth': 2, 'boosting_type': 'Plain', 'bootstrap_type': 'Bayesian', 'min_data_in_leaf': 5, 'one_hot_max_size': 6, 'bagging_temperature': 7.682618330636331}. Best is trial 1 with value: 0.7426829920707243.\u001b[0m\n"
     ]
    },
    {
     "name": "stdout",
     "output_type": "stream",
     "text": [
      "0.7426829920707243\n",
      "starting on split  1\n"
     ]
    },
    {
     "name": "stderr",
     "output_type": "stream",
     "text": [
      "C:\\ProgramData\\Anaconda3\\lib\\site-packages\\pandas\\core\\frame.py:4308: SettingWithCopyWarning: \n",
      "A value is trying to be set on a copy of a slice from a DataFrame\n",
      "\n",
      "See the caveats in the documentation: https://pandas.pydata.org/pandas-docs/stable/user_guide/indexing.html#returning-a-view-versus-a-copy\n",
      "  return super().drop(\n"
     ]
    },
    {
     "name": "stdout",
     "output_type": "stream",
     "text": [
      "starting on split  2\n",
      "starting on split  3\n",
      "starting on split  4\n",
      "starting on split  5\n"
     ]
    },
    {
     "name": "stderr",
     "output_type": "stream",
     "text": [
      "\u001b[32m[I 2021-11-11 19:43:53,046]\u001b[0m Trial 2 finished with value: 0.8413945585499576 and parameters: {'learning_rate': 2.8196280058633977e-05, 'l2_leaf_reg': 0.25406208907361366, 'colsample_bylevel': 0.04688807569998711, 'depth': 5, 'boosting_type': 'Plain', 'bootstrap_type': 'MVS', 'min_data_in_leaf': 16, 'one_hot_max_size': 7}. Best is trial 1 with value: 0.7426829920707243.\u001b[0m\n"
     ]
    },
    {
     "name": "stdout",
     "output_type": "stream",
     "text": [
      "0.8413945585499576\n",
      "starting on split  1\n"
     ]
    },
    {
     "name": "stderr",
     "output_type": "stream",
     "text": [
      "C:\\ProgramData\\Anaconda3\\lib\\site-packages\\pandas\\core\\frame.py:4308: SettingWithCopyWarning: \n",
      "A value is trying to be set on a copy of a slice from a DataFrame\n",
      "\n",
      "See the caveats in the documentation: https://pandas.pydata.org/pandas-docs/stable/user_guide/indexing.html#returning-a-view-versus-a-copy\n",
      "  return super().drop(\n"
     ]
    },
    {
     "name": "stdout",
     "output_type": "stream",
     "text": [
      "starting on split  2\n",
      "starting on split  3\n",
      "starting on split  4\n",
      "starting on split  5\n"
     ]
    },
    {
     "name": "stderr",
     "output_type": "stream",
     "text": [
      "\u001b[32m[I 2021-11-11 19:44:15,946]\u001b[0m Trial 3 finished with value: 0.8260107405495332 and parameters: {'learning_rate': 0.000147839707694528, 'l2_leaf_reg': 0.04372964283125891, 'colsample_bylevel': 0.08478369313000475, 'depth': 5, 'boosting_type': 'Plain', 'bootstrap_type': 'MVS', 'min_data_in_leaf': 14, 'one_hot_max_size': 14}. Best is trial 1 with value: 0.7426829920707243.\u001b[0m\n"
     ]
    },
    {
     "name": "stdout",
     "output_type": "stream",
     "text": [
      "0.8260107405495332\n",
      "starting on split  1\n"
     ]
    },
    {
     "name": "stderr",
     "output_type": "stream",
     "text": [
      "C:\\ProgramData\\Anaconda3\\lib\\site-packages\\pandas\\core\\frame.py:4308: SettingWithCopyWarning: \n",
      "A value is trying to be set on a copy of a slice from a DataFrame\n",
      "\n",
      "See the caveats in the documentation: https://pandas.pydata.org/pandas-docs/stable/user_guide/indexing.html#returning-a-view-versus-a-copy\n",
      "  return super().drop(\n"
     ]
    },
    {
     "name": "stdout",
     "output_type": "stream",
     "text": [
      "starting on split  2\n",
      "starting on split  3\n"
     ]
    }
   ],
   "source": [
    "study = optuna.create_study(sampler=TPESampler(), direction=\"minimize\")\n",
    "func = lambda trial: objective(trial, X_train, y_train_log)\n",
    "study.optimize(func, n_trials=10, timeout=600) # Run for 10 minutes\n",
    "print(\"Number of completed trials: {}\".format(len(study.trials)))\n",
    "print(\"Best trial:\")\n",
    "trial = study.best_trial\n",
    "\n",
    "print(\"\\tBest Score: {}\".format(trial.value))\n",
    "print(\"\\tBest Params: \")\n",
    "for key, value in trial.params.items():\n",
    "    print(\"    {}: {}\".format(key, value))"
   ]
  },
  {
   "cell_type": "code",
   "execution_count": null,
   "id": "2e5c277b-0c46-474d-b351-810ee083cb50",
   "metadata": {},
   "outputs": [],
   "source": []
  },
  {
   "cell_type": "code",
   "execution_count": null,
   "id": "d98e3634-03c1-4172-9d14-ea9c782ea2a7",
   "metadata": {},
   "outputs": [],
   "source": []
  },
  {
   "cell_type": "code",
   "execution_count": null,
   "id": "7cc94068-dfe6-4fdd-9fde-f0972413b557",
   "metadata": {},
   "outputs": [],
   "source": []
  },
  {
   "cell_type": "code",
   "execution_count": null,
   "id": "dd984e2f-40e2-4f9f-9a72-6143e5516975",
   "metadata": {},
   "outputs": [],
   "source": []
  }
 ],
 "metadata": {
  "kernelspec": {
   "display_name": "Python 3",
   "language": "python",
   "name": "python3"
  },
  "language_info": {
   "codemirror_mode": {
    "name": "ipython",
    "version": 3
   },
   "file_extension": ".py",
   "mimetype": "text/x-python",
   "name": "python",
   "nbconvert_exporter": "python",
   "pygments_lexer": "ipython3",
   "version": "3.8.8"
  }
 },
 "nbformat": 4,
 "nbformat_minor": 5
}
