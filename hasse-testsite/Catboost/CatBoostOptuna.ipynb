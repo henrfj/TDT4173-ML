{
 "cells": [
  {
   "cell_type": "code",
   "execution_count": 27,
   "id": "fcfb6edb-e986-4f0f-8a13-e5594dd3fb8e",
   "metadata": {},
   "outputs": [],
   "source": [
    "%run ../../common_utils.py"
   ]
  },
  {
   "cell_type": "code",
   "execution_count": 15,
   "id": "a3ddd434-3f25-452c-93d6-68a683171a8d",
   "metadata": {},
   "outputs": [],
   "source": [
    "from catboost import CatBoostRegressor\n",
    "import optuna\n",
    "from optuna.samplers import TPESampler\n",
    "from IPython.utils import io\n",
    "import unidecode\n",
    "from catboost import Pool"
   ]
  },
  {
   "cell_type": "code",
   "execution_count": 16,
   "id": "63dbbcba-7eaa-4c60-8a6d-aa654cf3b0ff",
   "metadata": {},
   "outputs": [],
   "source": [
    "random_state = 1\n",
    "number_of_splits = 5"
   ]
  },
  {
   "cell_type": "code",
   "execution_count": 17,
   "id": "ebfcfc64-f926-4d62-aab3-30fa81261cbb",
   "metadata": {},
   "outputs": [],
   "source": [
    "def load_data(val_data=False,path=None,cat_unknown=False):\n",
    "    train, test, metadata = load_all_data(path=path)\n",
    "    nonCategorical, categorical = get_cat_and_non_cat_data(metadata)\n",
    "    all_features = list(train.columns)\n",
    "    all_features.remove('price')\n",
    "    numerical_features = ['area_total','area_kitchen','area_living','floor','rooms','ceiling',\n",
    "        'bathrooms_shared','bathrooms_private','balconies','loggias','phones','building_id','constructed','stories']\n",
    "    categorical_to_numerical(train, ['street','address'])\n",
    "    categorical_to_numerical(test, ['street','address'])\n",
    "    if not val_data:\n",
    "        X_train, y_train, test_labels = pre_process_numerical(features = all_features, numerical_features = numerical_features, train = train, test = test,\n",
    "                            outliers_value=7, val_data=val_data, val_split=0.2, random_state=42, scaler=\"std\",\n",
    "                            add_R=\"True\", add_rel_height=\"True\", droptable=[],\n",
    "                            one_hot_encode=False, cat_features=categorical, drop_old=True,categorical_unknown=cat_unknown)\n",
    "        y_train_log = np.log(y_train)\n",
    "        return X_train, y_train, y_train_log, test_labels\n",
    "    else:\n",
    "        X_train, y_train, X_test, y_test, test_labels = pre_process_numerical(features = all_features, numerical_features = numerical_features, train = train, test = test,\n",
    "                            outliers_value=7, val_data=val_data, val_split=0.2, random_state=42, scaler=\"std\",\n",
    "                            add_R=\"True\", add_rel_height=\"True\", droptable=[],\n",
    "                            one_hot_encode=False, cat_features=categorical, drop_old=True,categorical_unkown=cat_unknown)\n",
    "        y_train_log = np.log(y_train)\n",
    "        return X_train, y_train, y_train_log, X_test, y_test, test_labels"
   ]
  },
  {
   "cell_type": "code",
   "execution_count": 42,
   "id": "0a692f73-db26-4ee5-9a48-a77c274b4159",
   "metadata": {},
   "outputs": [],
   "source": [
    "%%capture --no-display\n",
    "X_train, y_train, y_train_log, test_labels = load_data(path='../',cat_unknown=True)\n",
    "test_pd = test_labels.copy()\n",
    "selected_features_catboost=['building_id','area_kitchen', 'area_living',\n",
    "       'rooms', 'ceiling', 'bathrooms_shared', 'bathrooms_private',\n",
    "       'windows_court', 'windows_street', 'balconies', 'loggias', 'phones',\n",
    "       'new', 'street', 'address', 'seller', 'layout', 'condition', 'district',\n",
    "       'constructed', 'stories', 'elevator_without', 'elevator_passenger',\n",
    "       'material', 'parking', 'heating', 'r', 'rel_height']\n",
    "\n",
    "X_train = X_train[selected_features_catboost]\n",
    "test_labels = test_labels[selected_features_catboost]\n",
    "_, _, metadata = load_all_data(path='../')\n",
    "_, categorical = get_cat_and_non_cat_data(metadata)\n",
    "text_features=['street','address']\n",
    "categorical.append('street')\n",
    "categorical.append('address')\n",
    "X_train = X_train.astype({'street':'int','address':'int','seller':'int','layout':'int','condition':'int','district':'int','material':'int','parking':'int','heating':'int'})\n",
    "test_labels = test_labels.astype({'street':'int','address':'int','seller':'int','layout':'int','condition':'int','district':'int','material':'int','parking':'int','heating':'int'})"
   ]
  },
  {
   "cell_type": "code",
   "execution_count": 19,
   "id": "bf24c9fc-924e-4de3-8e80-4099396339ac",
   "metadata": {},
   "outputs": [],
   "source": [
    "def objective(trial,X_train,y_train):\n",
    "    \n",
    "    param = {\n",
    "        \"learning_rate\": trial.suggest_loguniform(\"learning_rate\", 1e-5, 1e-1),\n",
    "        \"l2_leaf_reg\": trial.suggest_loguniform(\"l2_leaf_reg\", 1e-2, 1e0),\n",
    "        \"colsample_bylevel\": trial.suggest_float(\"colsample_bylevel\", 0.01, 0.1),\n",
    "        \"depth\": trial.suggest_int(\"depth\", 1, 10),\n",
    "        \"boosting_type\": trial.suggest_categorical(\"boosting_type\", [\"Ordered\", \"Plain\"]),\n",
    "        \"bootstrap_type\": trial.suggest_categorical(\"bootstrap_type\", [\"Bayesian\", \"Bernoulli\", \"MVS\"]),\n",
    "        \"min_data_in_leaf\": trial.suggest_int(\"min_data_in_leaf\", 2, 20),\n",
    "        \"one_hot_max_size\": trial.suggest_int(\"one_hot_max_size\", 2, 20),  \n",
    "    }\n",
    "    # Conditional Hyper-Parameters\n",
    "    if param[\"bootstrap_type\"] == \"Bayesian\":\n",
    "        param[\"bagging_temperature\"] = trial.suggest_float(\"bagging_temperature\", 0, 10)\n",
    "    elif param[\"bootstrap_type\"] == \"Bernoulli\":\n",
    "        param[\"subsample\"] = trial.suggest_float(\"subsample\", 0.1, 1)\n",
    "\n",
    "    scores = []\n",
    "        \n",
    "    cv = GroupKFold(n_splits=number_of_splits)\n",
    "    groups = X_train[\"building_id\"]\n",
    "    i = 1\n",
    "    for train_index, test_index in cv.split(X_train, y_train, groups):\n",
    "        print(\"starting on split \",i)\n",
    "        i+=1\n",
    "        X_train2, X_test = X_train.iloc[train_index], X_train.iloc[test_index]\n",
    "        y_train2, y_test = y_train.iloc[train_index], y_train.iloc[test_index]\n",
    "        X_train2.drop(['building_id'], axis=1,inplace=True)\n",
    "        X_test.drop(['building_id'], axis=1,inplace=True)\n",
    "\n",
    "        model = CatBoostRegressor(**param, random_state=random_state,loss_function='RMSE', cat_features=categorical)\n",
    "        \n",
    "        model.fit(\n",
    "            X_train2,\n",
    "            y_train2,\n",
    "            eval_set=[(X_test, y_test)],\n",
    "            verbose=False,\n",
    "            early_stopping_rounds=100,\n",
    "        )\n",
    "        \n",
    "        prediction = np.exp(model.predict(X_test))\n",
    "        score = root_mean_squared_log_error(prediction, np.exp(y_test))\n",
    "        scores.append(score)\n",
    "    return np.average(scores)"
   ]
  },
  {
   "cell_type": "code",
   "execution_count": 20,
   "id": "5201d631-5eb3-4b50-bede-8b94f8b548c1",
   "metadata": {},
   "outputs": [],
   "source": [
    "study = optuna.create_study(sampler=TPESampler(), direction=\"minimize\")\n",
    "func = lambda trial: objective(trial, X_train, y_train_log)\n",
    "study.optimize(func, n_trials=10, timeout=600) # Run for 10 minutes\n",
    "print(\"Number of completed trials: {}\".format(len(study.trials)))\n",
    "print(\"Best trial:\")\n",
    "trial = study.best_trial\n",
    "\n",
    "print(\"\\tBest Score: {}\".format(trial.value))\n",
    "print(\"\\tBest Params: \")\n",
    "for key, value in trial.params.items():\n",
    "    print(\"    {}: {}\".format(key, value))"
   ]
  },
  {
   "cell_type": "code",
   "execution_count": 21,
   "id": "2e5c277b-0c46-474d-b351-810ee083cb50",
   "metadata": {},
   "outputs": [],
   "source": [
    "study.optimize(func, n_trials=20"
   ]
  },
  {
   "cell_type": "code",
   "execution_count": 15,
   "id": "d98e3634-03c1-4172-9d14-ea9c782ea2a7",
   "metadata": {},
   "outputs": [
    {
     "name": "stdout",
     "output_type": "stream",
     "text": [
      "Number of completed trials: 28\n",
      "Best trial:\n",
      "\tBest Score: 0.2700280258709413\n",
      "\tBest Params: \n",
      "    learning_rate: 0.04493315459969882\n",
      "    l2_leaf_reg: 0.1016956128187997\n",
      "    colsample_bylevel: 0.09068864619114643\n",
      "    depth: 8\n",
      "    boosting_type: Ordered\n",
      "    bootstrap_type: Bernoulli\n",
      "    min_data_in_leaf: 16\n",
      "    one_hot_max_size: 5\n",
      "    subsample: 0.708857568242697\n"
     ]
    }
   ],
   "source": [
    "print(\"Number of completed trials: {}\".format(len(study.trials)))\n",
    "print(\"Best trial:\")\n",
    "trial = study.best_trial\n",
    "\n",
    "print(\"\\tBest Score: {}\".format(trial.value))\n",
    "print(\"\\tBest Params: \")\n",
    "for key, value in trial.params.items():\n",
    "    print(\"    {}: {}\".format(key, value))"
   ]
  },
  {
   "cell_type": "code",
   "execution_count": 22,
   "id": "7cc94068-dfe6-4fdd-9fde-f0972413b557",
   "metadata": {},
   "outputs": [],
   "source": [
    "study.optimize(func, n_trials=100)"
   ]
  },
  {
   "cell_type": "code",
   "execution_count": 17,
   "id": "dd984e2f-40e2-4f9f-9a72-6143e5516975",
   "metadata": {},
   "outputs": [
    {
     "name": "stdout",
     "output_type": "stream",
     "text": [
      "Number of completed trials: 128\n",
      "Best trial:\n",
      "\tBest Score: 0.26552493946336475\n",
      "\tBest Params: \n",
      "    learning_rate: 0.0595682504013377\n",
      "    l2_leaf_reg: 0.01619654653510247\n",
      "    colsample_bylevel: 0.08580608350061232\n",
      "    depth: 10\n",
      "    boosting_type: Ordered\n",
      "    bootstrap_type: MVS\n",
      "    min_data_in_leaf: 18\n",
      "    one_hot_max_size: 7\n"
     ]
    }
   ],
   "source": [
    "print(\"Number of completed trials: {}\".format(len(study.trials)))\n",
    "print(\"Best trial:\")\n",
    "trial = study.best_trial\n",
    "\n",
    "print(\"\\tBest Score: {}\".format(trial.value))\n",
    "print(\"\\tBest Params: \")\n",
    "for key, value in trial.params.items():\n",
    "    print(\"    {}: {}\".format(key, value))"
   ]
  },
  {
   "cell_type": "code",
   "execution_count": 23,
   "id": "bba96fb5-6aed-44f5-bf6b-af70c6856705",
   "metadata": {},
   "outputs": [],
   "source": [
    "study.optimize(func, n_trials=100)"
   ]
  },
  {
   "cell_type": "code",
   "execution_count": 19,
   "id": "7950ddf6-5cd9-48c0-919e-1447d87deaaf",
   "metadata": {},
   "outputs": [
    {
     "name": "stdout",
     "output_type": "stream",
     "text": [
      "Number of completed trials: 228\n",
      "Best trial:\n",
      "\tBest Score: 0.26295902459609144\n",
      "\tBest Params: \n",
      "    learning_rate: 0.09983491174888588\n",
      "    l2_leaf_reg: 0.013644264455059599\n",
      "    colsample_bylevel: 0.09788222400849068\n",
      "    depth: 8\n",
      "    boosting_type: Ordered\n",
      "    bootstrap_type: MVS\n",
      "    min_data_in_leaf: 19\n",
      "    one_hot_max_size: 7\n"
     ]
    }
   ],
   "source": [
    "print(\"Number of completed trials: {}\".format(len(study.trials)))\n",
    "print(\"Best trial:\")\n",
    "trial = study.best_trial\n",
    "\n",
    "print(\"\\tBest Score: {}\".format(trial.value))\n",
    "print(\"\\tBest Params: \")\n",
    "for key, value in trial.params.items():\n",
    "    print(\"    {}: {}\".format(key, value))"
   ]
  },
  {
   "cell_type": "code",
   "execution_count": 24,
   "id": "3c391f6c-1944-4d3b-8490-ccf46207d8f2",
   "metadata": {},
   "outputs": [],
   "source": [
    "study.optimize(func, n_trials=1000)"
   ]
  },
  {
   "cell_type": "markdown",
   "id": "c09241e3-daaa-4938-ac12-e24fcbcd4980",
   "metadata": {},
   "source": [
    "# Result from Optuna"
   ]
  },
  {
   "cell_type": "markdown",
   "id": "a572e089-4447-445a-97f9-16404b21ca9f",
   "metadata": {},
   "source": [
    "Let's evaluate some of the results from Optuna. I've selected 5 trials to discuss the tuning, they are ordered by improving score:\n",
    "\n",
    "Trial 449 finished with value: ```0.5542284052526306``` and parameters: ```{'learning_rate': 0.0009728418109572844, 'l2_leaf_reg': 0.30051036860892455, 'colsample_bylevel': 0.08816379281516293, 'depth': 9, 'boosting_type': 'Plain', 'bootstrap_type': 'MVS', 'min_data_in_leaf': 16, 'one_hot_max_size': 9}.```\n",
    "\n",
    "Trial 457 finished with value: ```0.26187749686179945``` and parameters: ```{'learning_rate': 0.058062306498398955, 'l2_leaf_reg': 0.36115004854385463, 'colsample_bylevel': 0.09228172758947267, 'depth': 9, 'boosting_type': 'Plain', 'bootstrap_type': 'MVS', 'min_data_in_leaf': 12, 'one_hot_max_size': 11}.``` \n",
    "\n",
    "Trial 438 finished with value: ```0.26035104710375645``` and parameters: ```{'learning_rate': 0.07979622203930528, 'l2_leaf_reg': 0.4434173979295824, 'colsample_bylevel': 0.08605288211758522, 'depth': 9, 'boosting_type': 'Plain', 'bootstrap_type': 'MVS', 'min_data_in_leaf': 17, 'one_hot_max_size': 11}.``` \n",
    "\n",
    "Trial 446 finished with value: ```0.26033042130942874``` and parameters:``` {'learning_rate': 0.07608938488623739, 'l2_leaf_reg': 0.36052283914139044, 'colsample_bylevel': 0.09183053727905705, 'depth': 9, 'boosting_type': 'Plain', 'bootstrap_type': 'MVS', 'min_data_in_leaf': 17, 'one_hot_max_size': 10}.```\n",
    "\n",
    "Trial 437 finished with value: ```0.2596557027450385``` and parameters: ```{'learning_rate': 0.0772446776104594, 'l2_leaf_reg': 0.5709519938247928, 'colsample_bylevel': 0.09221911838854839, 'depth': 9, 'boosting_type': 'Plain', 'bootstrap_type': 'MVS', 'min_data_in_leaf': 17, 'one_hot_max_size': 11}.```\n"
   ]
  },
  {
   "cell_type": "markdown",
   "id": "178e8275-6ad0-4397-95b9-66be47ec00c7",
   "metadata": {},
   "source": [
    "From this it is obvious that:\n",
    "* decreasing the learning rate too much results in terrible performance\n",
    "* Optimal learning rate should be searched around 0.07-0.08\n",
    "* `bootstrap_type` `MVS` seems to be prefferred over both `Bernoulli` and `Bayesian`\n",
    "* `boosting_type` `Plain` seems to be preffered\n",
    "* `l2_leaf_reg`: typically around 0.36-0.44 but best score has 0.57\n",
    "* `colsample_bylevel`: between 0.086-0.092\n",
    "* `depth`: always 9\n",
    "* `min_data_in_leaf`: 17 selected most often\n",
    "* `one_hot_max_size`: 9-11\n"
   ]
  },
  {
   "cell_type": "code",
   "execution_count": 8,
   "id": "cc71667f-0236-4fed-a955-0ce19707bd2b",
   "metadata": {},
   "outputs": [],
   "source": [
    "best_params = {\n",
    "    'learning_rate': 0.0772446776104594, \n",
    "    'l2_leaf_reg': 0.5709519938247928, \n",
    "    'colsample_bylevel': 0.09221911838854839, \n",
    "    'depth': 9, \n",
    "    'boosting_type': 'Plain', \n",
    "    'bootstrap_type': 'MVS', \n",
    "    'min_data_in_leaf': 17, \n",
    "    'one_hot_max_size': 11}"
   ]
  },
  {
   "cell_type": "code",
   "execution_count": 10,
   "id": "77755d00-8cfc-4efd-a5c1-e7134f6da49b",
   "metadata": {
    "tags": []
   },
   "outputs": [],
   "source": [
    "model = CatBoostRegressor(**best_params, random_state=random_state,loss_function='RMSE', cat_features=categorical)"
   ]
  },
  {
   "cell_type": "code",
   "execution_count": 11,
   "id": "27680ab3-5071-4c01-87ed-a1fbb809bd24",
   "metadata": {},
   "outputs": [
    {
     "name": "stdout",
     "output_type": "stream",
     "text": [
      "starting on split  1\n"
     ]
    },
    {
     "name": "stderr",
     "output_type": "stream",
     "text": [
      "C:\\ProgramData\\Anaconda3\\lib\\site-packages\\pandas\\core\\frame.py:4308: SettingWithCopyWarning: \n",
      "A value is trying to be set on a copy of a slice from a DataFrame\n",
      "\n",
      "See the caveats in the documentation: https://pandas.pydata.org/pandas-docs/stable/user_guide/indexing.html#returning-a-view-versus-a-copy\n",
      "  return super().drop(\n"
     ]
    },
    {
     "name": "stdout",
     "output_type": "stream",
     "text": [
      "starting on split  2\n",
      "starting on split  3\n",
      "starting on split  4\n",
      "starting on split  5\n"
     ]
    }
   ],
   "source": [
    "scores, average_score, best_model, best_index = catboost_groupKFold(number_of_splits, model, X_train, y_train_log, categorical_features=categorical,random_state=random_state)"
   ]
  },
  {
   "cell_type": "code",
   "execution_count": 12,
   "id": "322b37a3-6d5b-45d6-b831-45f7cf726416",
   "metadata": {},
   "outputs": [
    {
     "name": "stdout",
     "output_type": "stream",
     "text": [
      "scores:         [0.2648731051281122, 0.25701082442561174, 0.24328323900871038, 0.2567346687002686, 0.2763766764624897]\n",
      "average score:  0.2596557027450385\n",
      "best model:     <catboost.core.CatBoostRegressor object at 0x000002199686BC40>\n",
      "best index:     4\n"
     ]
    }
   ],
   "source": [
    "print(\"scores:        \", scores)\n",
    "print(\"average score: \", average_score)\n",
    "print(\"best model:    \", best_model)\n",
    "print(\"best index:    \", best_index)"
   ]
  },
  {
   "cell_type": "code",
   "execution_count": 35,
   "id": "2cd827fa-6556-4f37-8f16-58cb5f175023",
   "metadata": {},
   "outputs": [
    {
     "data": {
      "image/png": "[encoded data removed]",
      "text/plain": [
       "<Figure size 720x576 with 1 Axes>"
      ]
     },
     "metadata": {
      "needs_background": "light"
     },
     "output_type": "display_data"
    }
   ],
   "source": [
    "catboost_importance = model.get_feature_importance()\n",
    "plot_feature_importance(catboost_importance, list(X_train.drop(['building_id'], axis=1).columns), 'CatBoost All Features: ')"
   ]
  },
  {
   "cell_type": "markdown",
   "id": "5b868f8f-4812-4210-a065-8345d655636b",
   "metadata": {},
   "source": [
    "Let's try an objective centered around the previous best found parameters"
   ]
  },
  {
   "cell_type": "code",
   "execution_count": 36,
   "id": "31731bf8-030d-4962-9446-d62251bd7f35",
   "metadata": {},
   "outputs": [],
   "source": [
    "def improved_objective(trial,X_train,y_train):\n",
    "    \n",
    "    param = {\n",
    "        \"learning_rate\": trial.suggest_float(\"learning_rate\", 0.06,0.09),\n",
    "        \"l2_leaf_reg\": trial.suggest_float(\"l2_leaf_reg\", 0.3,0.6),\n",
    "        \"colsample_bylevel\": trial.suggest_float(\"colsample_bylevel\", 0.08, 0.97),\n",
    "        \"depth\": trial.suggest_int(\"depth\", 8,10),\n",
    "        \"boosting_type\": trial.suggest_categorical(\"boosting_type\", [\"Plain\"]),\n",
    "        \"bootstrap_type\": trial.suggest_categorical(\"bootstrap_type\", [\"MVS\"]),\n",
    "        \"min_data_in_leaf\": trial.suggest_int(\"min_data_in_leaf\", 15,20),\n",
    "        \"one_hot_max_size\": trial.suggest_int(\"one_hot_max_size\", 8,12),  \n",
    "    }\n",
    "    scores = []\n",
    "        \n",
    "    cv = GroupKFold(n_splits=number_of_splits)\n",
    "    groups = X_train[\"building_id\"]\n",
    "    i = 1\n",
    "    for train_index, test_index in cv.split(X_train, y_train, groups):\n",
    "        print(\"starting on split \",i)\n",
    "        i+=1\n",
    "        X_train2, X_test = X_train.iloc[train_index], X_train.iloc[test_index]\n",
    "        y_train2, y_test = y_train.iloc[train_index], y_train.iloc[test_index]\n",
    "        X_train2.drop(['building_id'], axis=1,inplace=True)\n",
    "        X_test.drop(['building_id'], axis=1,inplace=True)\n",
    "\n",
    "        model = CatBoostRegressor(**param, random_state=random_state,loss_function='RMSE', cat_features=categorical)\n",
    "        \n",
    "        model.fit(\n",
    "            X_train2,\n",
    "            y_train2,\n",
    "            eval_set=[(X_test, y_test)],\n",
    "            verbose=False,\n",
    "            early_stopping_rounds=100,\n",
    "        )\n",
    "        \n",
    "        prediction = np.exp(model.predict(X_test))\n",
    "        score = root_mean_squared_log_error(prediction, np.exp(y_test))\n",
    "        scores.append(score)\n",
    "    return np.average(scores)"
   ]
  },
  {
   "cell_type": "code",
   "execution_count": 52,
   "id": "1c7ba712-9b11-4947-9b88-0eace09aaf88",
   "metadata": {},
   "outputs": [
    {
     "name": "stderr",
     "output_type": "stream",
     "text": [
      "\u001b[32m[I 2021-11-12 18:12:09,271]\u001b[0m A new study created in memory with name: no-name-92935863-5acd-4863-bc4d-64436e1dad02\u001b[0m\n"
     ]
    },
    {
     "name": "stdout",
     "output_type": "stream",
     "text": [
      "starting on split  1\n"
     ]
    },
    {
     "name": "stderr",
     "output_type": "stream",
     "text": [
      "C:\\ProgramData\\Anaconda3\\lib\\site-packages\\pandas\\core\\frame.py:4308: SettingWithCopyWarning: \n",
      "A value is trying to be set on a copy of a slice from a DataFrame\n",
      "\n",
      "See the caveats in the documentation: https://pandas.pydata.org/pandas-docs/stable/user_guide/indexing.html#returning-a-view-versus-a-copy\n",
      "  return super().drop(\n",
      "Custom logger is already specified. Specify more than one logger at same time is not thread safe."
     ]
    },
    {
     "name": "stdout",
     "output_type": "stream",
     "text": [
      "starting on split  2\n",
      "starting on split  3\n",
      "starting on split  4\n",
      "starting on split  5\n"
     ]
    },
    {
     "name": "stderr",
     "output_type": "stream",
     "text": [
      "\u001b[32m[I 2021-11-12 18:20:42,191]\u001b[0m Trial 0 finished with value: 0.2660398829914937 and parameters: {'learning_rate': 0.08949242057972993, 'l2_leaf_reg': 0.512168134938264, 'colsample_bylevel': 0.41253876738467143, 'depth': 10, 'boosting_type': 'Plain', 'bootstrap_type': 'MVS', 'min_data_in_leaf': 18, 'one_hot_max_size': 12}. Best is trial 0 with value: 0.2660398829914937.\u001b[0m\n",
      "C:\\ProgramData\\Anaconda3\\lib\\site-packages\\pandas\\core\\frame.py:4308: SettingWithCopyWarning: \n",
      "A value is trying to be set on a copy of a slice from a DataFrame\n",
      "\n",
      "See the caveats in the documentation: https://pandas.pydata.org/pandas-docs/stable/user_guide/indexing.html#returning-a-view-versus-a-copy\n",
      "  return super().drop(\n"
     ]
    },
    {
     "name": "stdout",
     "output_type": "stream",
     "text": [
      "starting on split  1\n",
      "starting on split  2\n",
      "starting on split  3\n",
      "starting on split  4\n",
      "starting on split  5\n"
     ]
    },
    {
     "name": "stderr",
     "output_type": "stream",
     "text": [
      "\u001b[32m[I 2021-11-12 18:28:23,371]\u001b[0m Trial 1 finished with value: 0.2660220644134821 and parameters: {'learning_rate': 0.06876587468477545, 'l2_leaf_reg': 0.4718403554342223, 'colsample_bylevel': 0.3900045683816517, 'depth': 10, 'boosting_type': 'Plain', 'bootstrap_type': 'MVS', 'min_data_in_leaf': 16, 'one_hot_max_size': 8}. Best is trial 1 with value: 0.2660220644134821.\u001b[0m\n"
     ]
    },
    {
     "name": "stdout",
     "output_type": "stream",
     "text": [
      "Number of completed trials: 2\n",
      "Best trial:\n",
      "\tBest Score: 0.2660220644134821\n",
      "\tBest Params: \n",
      "    learning_rate: 0.06876587468477545\n",
      "    l2_leaf_reg: 0.4718403554342223\n",
      "    colsample_bylevel: 0.3900045683816517\n",
      "    depth: 10\n",
      "    boosting_type: Plain\n",
      "    bootstrap_type: MVS\n",
      "    min_data_in_leaf: 16\n",
      "    one_hot_max_size: 8\n"
     ]
    }
   ],
   "source": [
    "study = optuna.create_study(sampler=TPESampler(), direction=\"minimize\")\n",
    "func = lambda trial: improved_objective(trial, X_train, y_train_log)\n",
    "study.optimize(func, n_trials=10, timeout=600) # Run for 10 minutes\n",
    "print(\"Number of completed trials: {}\".format(len(study.trials)))\n",
    "print(\"Best trial:\")\n",
    "trial = study.best_trial\n",
    "\n",
    "print(\"\\tBest Score: {}\".format(trial.value))\n",
    "print(\"\\tBest Params: \")\n",
    "for key, value in trial.params.items():\n",
    "    print(\"    {}: {}\".format(key, value))"
   ]
  },
  {
   "cell_type": "code",
   "execution_count": null,
   "id": "a2cca4b9-6fdf-416f-bc87-daf59e224f36",
   "metadata": {},
   "outputs": [],
   "source": []
  }
 ],
 "metadata": {
  "kernelspec": {
   "display_name": "Python 3",
   "language": "python",
   "name": "python3"
  },
  "language_info": {
   "codemirror_mode": {
    "name": "ipython",
    "version": 3
   },
   "file_extension": ".py",
   "mimetype": "text/x-python",
   "name": "python",
   "nbconvert_exporter": "python",
   "pygments_lexer": "ipython3",
   "version": "3.8.8"
  }
 },
 "nbformat": 4,
 "nbformat_minor": 5
}
