{
 "cells": [
  {
   "cell_type": "code",
   "execution_count": 2,
   "id": "3bdea8e8-2454-4ab2-af62-3c3e92bd9064",
   "metadata": {},
   "outputs": [],
   "source": [
    "%run ../common_utils.py"
   ]
  },
  {
   "cell_type": "markdown",
   "id": "5e787eb0-8741-4333-b44b-14ebd3910603",
   "metadata": {},
   "source": [
    "# LGBM + LGBM"
   ]
  },
  {
   "cell_type": "code",
   "execution_count": 9,
   "id": "469c5295-100c-44d8-bedc-609a590728e6",
   "metadata": {},
   "outputs": [],
   "source": [
    "kaggle_scores = [0.23450, 0.20502, 0.23278, 0.19968, 0.35042, 0.20015, 0.20159, 0.23787]\n",
    "predicted_scores = [0.19617465089497474, 0.19817709814906143]\n",
    "csv_paths = [\"submissions/LGBM5.0.csv\", \"submissions/LGBM5.1.csv\"]\n",
    "submission_path = \"submissions/bagging_1.csv\"\n",
    "\n",
    "csv_bagging(predicted_scores, csv_paths, submission_path)\n",
    "# csv_bagging(kaggle_scores, csv_paths, submission_path)"
   ]
  },
  {
   "cell_type": "markdown",
   "id": "f5741d4f-6e6b-4f50-97ac-641fb65ce340",
   "metadata": {},
   "source": [
    "# LGBM + LGBM + GB"
   ]
  },
  {
   "cell_type": "code",
   "execution_count": 14,
   "id": "7dbdf699-aa3d-4f77-b8ba-3d113c1a9682",
   "metadata": {},
   "outputs": [],
   "source": [
    "kaggle_scores = [0.23450, 0.20502, 0.23278, 0.19968, 0.35042, 0.20015, 0.20159, 0.23787]\n",
    "predicted_scores = [0.19617465089497474, 0.19817709814906143,0.2052103426074366]\n",
    "csv_paths = [\"submissions/LGBM5.0.csv\", \"submissions/LGBM5.1.csv\", \"submissions/GB4.0.csv\"]\n",
    "submission_path = \"submissions/bagging_2.csv\"\n",
    "\n",
    "csv_bagging(predicted_scores, csv_paths, submission_path)\n",
    "# csv_bagging(kaggle_scores, csv_paths, submission_path)"
   ]
  },
  {
   "cell_type": "markdown",
   "id": "519cf533-248d-45c4-9d2d-28e86f3de6ae",
   "metadata": {},
   "source": [
    "# LGBM + LGBM + GB + CAT"
   ]
  },
  {
   "cell_type": "code",
   "execution_count": 32,
   "id": "0470c30c-5e2a-4fa1-9fdc-994b3f9da6d3",
   "metadata": {
    "tags": []
   },
   "outputs": [],
   "source": [
    "kaggle_scores = [0.23450, 0.20502, 0.23278, 0.19968, 0.35042, 0.20015, 0.20159, 0.23787]\n",
    "predicted_scores = [0.19617465089497474, 0.19817709814906143,0.2052103426074366,0.28020809307228484]\n",
    "csv_paths = [\"submissions/LGBM5.0.csv\", \"submissions/LGBM5.1.csv\", \"submissions/GB4.0.csv\", \"submissions/CB4.0.csv\"]\n",
    "submission_path = \"submissions/bagging_3.csv\"\n",
    "\n",
    "csv_bagging(predicted_scores, csv_paths, submission_path)\n",
    "# csv_bagging(kaggle_scores, csv_paths, submission_path)"
   ]
  },
  {
   "cell_type": "markdown",
   "id": "4e3015ef-d18d-49ce-ae59-e96a86543945",
   "metadata": {},
   "source": [
    "# LGBM1 + GB"
   ]
  },
  {
   "cell_type": "code",
   "execution_count": 15,
   "id": "619863d6-9656-4a2e-82f5-a872485762aa",
   "metadata": {},
   "outputs": [],
   "source": [
    "kaggle_scores = [0.23450, 0.20502, 0.23278, 0.19968, 0.35042, 0.20015, 0.20159, 0.23787]\n",
    "predicted_scores = [0.19617465089497474,0.2052103426074366]\n",
    "csv_paths = [\"submissions/LGBM5.0.csv\", \"submissions/GB4.0.csv\"]\n",
    "submission_path = \"submissions/bagging_4.csv\"\n",
    "\n",
    "csv_bagging(predicted_scores, csv_paths, submission_path)\n",
    "# csv_bagging(kaggle_scores, csv_paths, submission_path)"
   ]
  },
  {
   "cell_type": "markdown",
   "id": "d0056dfb-b34f-4561-b1b0-4e813a1c1bf4",
   "metadata": {},
   "source": [
    "# LGBM2 + GB"
   ]
  },
  {
   "cell_type": "code",
   "execution_count": 16,
   "id": "77cbd7fa-86eb-4064-be4d-72bf843c7d4d",
   "metadata": {},
   "outputs": [],
   "source": [
    "kaggle_scores = [0.23450, 0.20502, 0.23278, 0.19968, 0.35042, 0.20015, 0.20159, 0.23787]\n",
    "predicted_scores = [0.19817709814906143,0.2052103426074366]\n",
    "csv_paths = [\"submissions/LGBM5.1.csv\", \"submissions/GB4.0.csv\"]\n",
    "submission_path = \"submissions/bagging_5.csv\"\n",
    "\n",
    "csv_bagging(predicted_scores, csv_paths, submission_path)\n",
    "# csv_bagging(kaggle_scores, csv_paths, submission_path)"
   ]
  },
  {
   "cell_type": "markdown",
   "id": "05bd6878-959c-4990-b40c-20f654189f0e",
   "metadata": {},
   "source": [
    "# LGBM1 + CAT"
   ]
  },
  {
   "cell_type": "code",
   "execution_count": 12,
   "id": "97dc5bdc-dd98-4782-bf42-0475ae249145",
   "metadata": {},
   "outputs": [],
   "source": [
    "kaggle_scores = [0.23450, 0.20502, 0.23278, 0.19968, 0.35042, 0.20015, 0.20159, 0.23787]\n",
    "predicted_scores = [0.19617465089497474,0.28020809307228484]\n",
    "csv_paths = [\"submissions/LGBM5.0.csv\", \"submissions/CB4.0.csv\"]\n",
    "submission_path = \"submissions/bagging_6.csv\"\n",
    "\n",
    "csv_bagging(predicted_scores, csv_paths, submission_path)\n",
    "# csv_bagging(kaggle_scores, csv_paths, submission_path)"
   ]
  },
  {
   "cell_type": "markdown",
   "id": "c99d617c-bb7b-4e8d-bc87-7275f02c50e3",
   "metadata": {},
   "source": [
    "# LGBM2 + CAT"
   ]
  },
  {
   "cell_type": "code",
   "execution_count": 13,
   "id": "04fd2682-f2e4-46e4-8bb4-e8bc42706e6a",
   "metadata": {},
   "outputs": [],
   "source": [
    "kaggle_scores = [0.23450, 0.20502, 0.23278, 0.19968, 0.35042, 0.20015, 0.20159, 0.23787]\n",
    "predicted_scores = [0.19817709814906143,0.28020809307228484]\n",
    "csv_paths = [\"submissions/LGBM5.1.csv\", \"submissions/CB4.0.csv\"]\n",
    "submission_path = \"submissions/bagging_7.csv\"\n",
    "\n",
    "csv_bagging(predicted_scores, csv_paths, submission_path)\n",
    "# csv_bagging(kaggle_scores, csv_paths, submission_path)"
   ]
  },
  {
   "cell_type": "markdown",
   "id": "5ec662bd-9d6b-4af3-a472-16c0fc80007b",
   "metadata": {},
   "source": [
    "# GB + CAT"
   ]
  },
  {
   "cell_type": "code",
   "execution_count": 17,
   "id": "4830200a-23c3-4069-977d-9b8b00acc015",
   "metadata": {},
   "outputs": [],
   "source": [
    "kaggle_scores = [0.23450, 0.20502, 0.23278, 0.19968, 0.35042, 0.20015, 0.20159, 0.23787]\n",
    "predicted_scores = [0.2052103426074366,0.28020809307228484]\n",
    "csv_paths = [\"submissions/GB4.0.csv\", \"submissions/CB4.0.csv\"]\n",
    "submission_path = \"submissions/bagging_8.csv\"\n",
    "\n",
    "csv_bagging(predicted_scores, csv_paths, submission_path)\n",
    "# csv_bagging(kaggle_scores, csv_paths, submission_path)"
   ]
  },
  {
   "cell_type": "markdown",
   "id": "8b82eb3c-4878-4545-b525-71d76c1926da",
   "metadata": {},
   "source": [
    "# LGBM + LGBM + LGBM + GB + CAT"
   ]
  },
  {
   "cell_type": "code",
   "execution_count": 33,
   "id": "d8754d06-846c-4e7b-9b83-2f18a0f9cd16",
   "metadata": {
    "tags": []
   },
   "outputs": [],
   "source": [
    "kaggle_scores = [0.23450, 0.20502, 0.23278, 0.19968, 0.35042, 0.20015, 0.20159, 0.23787]\n",
    "predicted_scores = [0.19617465089497474, 0.19817709814906143, 0.19548869950947315, 0.2052103426074366,0.28020809307228484]\n",
    "csv_paths = [\"submissions/LGBM5.0.csv\", \"submissions/LGBM5.1.csv\", \"submissions/LGBM5.2.csv\", \"submissions/GB4.0.csv\", \"submissions/CB4.0.csv\"]\n",
    "submission_path = \"submissions/bagging_10.csv\"\n",
    "\n",
    "csv_bagging(predicted_scores, csv_paths, submission_path)\n",
    "# csv_bagging(kaggle_scores, csv_paths, submission_path)"
   ]
  },
  {
   "cell_type": "markdown",
   "id": "4123e6ad-ae34-43b5-a128-95db9d90f1f3",
   "metadata": {},
   "source": [
    "# Include best models from kaggle \n",
    "## LGBM + LGBM + GB + CAT + GB + XGBoost? + XGBoost? + RF Bagging"
   ]
  },
  {
   "cell_type": "code",
   "execution_count": 34,
   "id": "f360a348-15c8-448c-bfb9-a7355a71584e",
   "metadata": {},
   "outputs": [],
   "source": [
    "# NOTE: used predicted scores when known (avoid overfitting on public leaderboard??) \n",
    "# + kaggle scores for models that are not my own.\n",
    "\n",
    "scores = [0.19617465089497474, 0.19817709814906143, 0.2052103426074366, 0.28020809307228484, 0.19968, 0.18649, 0.18511, 0.18898]\n",
    "csv_paths = [\"submissions/LGBM5.0.csv\", \"submissions/LGBM5.1.csv\", \"submissions/GB4.0.csv\", \"submissions/CB4.0.csv\",\"submissions/from_kaggle/submission.csv\",\"submissions/from_kaggle/new_features_1.csv\",\"submissions/from_kaggle/new_features_3.csv\",\"submissions/from_kaggle/bagging_2.csv\"]\n",
    "submission_path = \"submissions/bagging_9.csv\"\n",
    "\n",
    "csv_bagging(scores, csv_paths, submission_path)"
   ]
  },
  {
   "cell_type": "code",
   "execution_count": 35,
   "id": "8a362e19-9231-49f4-a255-ad6b0e2395b7",
   "metadata": {},
   "outputs": [],
   "source": [
    "# NOTE: used predicted scores when known (avoid overfitting on public leaderboard??) \n",
    "# + kaggle scores for models that are not my own.\n",
    "\n",
    "scores = [0.19617465089497474, 0.19817709814906143, 0.19548869950947315, 0.2052103426074366, 0.28020809307228484, 0.19968, 0.18649, 0.18511, 0.18898]\n",
    "csv_paths = [\"submissions/LGBM5.0.csv\", \"submissions/LGBM5.1.csv\", \"submissions/LGBM5.2.csv\", \"submissions/GB4.0.csv\", \"submissions/CB4.0.csv\",\"submissions/from_kaggle/submission.csv\",\"submissions/from_kaggle/new_features_1.csv\",\"submissions/from_kaggle/new_features_3.csv\",\"submissions/from_kaggle/bagging_2.csv\"]\n",
    "submission_path = \"submissions/bagging_11.csv\"\n",
    "\n",
    "csv_bagging(scores, csv_paths, submission_path)"
   ]
  },
  {
   "cell_type": "code",
   "execution_count": null,
   "id": "9550fc9b-bf51-4d24-8493-208a53658b0d",
   "metadata": {},
   "outputs": [],
   "source": []
  },
  {
   "cell_type": "markdown",
   "id": "ad1220d8-b2a0-4c30-bf7e-05e9ed53a592",
   "metadata": {},
   "source": [
    "# LGBM5.4+ Stacking3.0 + CB4.0"
   ]
  },
  {
   "cell_type": "code",
   "execution_count": 36,
   "id": "0c163c48-82f7-4c2a-972d-24500e804f16",
   "metadata": {},
   "outputs": [],
   "source": [
    "predicted_scores = [0.19601691402095867, 0.20068301501801616, 0.28020809307228484]\n",
    "csv_paths = [\"submissions/LGBM5.4.csv\", \"submissions/stacking3.0.csv\", \"submissions/CB4.0.csv\"]\n",
    "submission_path = \"submissions/bagging_12.csv\"\n",
    "\n",
    "csv_bagging(predicted_scores, csv_paths, submission_path)\n",
    "# csv_bagging(kaggle_scores, csv_paths, submission_path)"
   ]
  },
  {
   "cell_type": "code",
   "execution_count": null,
   "id": "9ac906b2-2081-4527-8501-06a47f7de3e7",
   "metadata": {},
   "outputs": [],
   "source": []
  },
  {
   "cell_type": "code",
   "execution_count": null,
   "id": "0352082d-413c-4efb-bd47-5af9cd43e1c2",
   "metadata": {},
   "outputs": [],
   "source": []
  },
  {
   "cell_type": "markdown",
   "id": "bac74990-dbd1-48a5-ad39-d9019842cb5c",
   "metadata": {},
   "source": [
    "# LGBM7.0 + LGBM7.1"
   ]
  },
  {
   "cell_type": "code",
   "execution_count": 3,
   "id": "4b4049c9-a04a-44ef-b528-c224dcc41f7a",
   "metadata": {},
   "outputs": [],
   "source": [
    "kaggle_scores = [0.17113,0.16591]\n",
    "predicted_scores = [0.19632918613794853, 0.18899563943028017]\n",
    "csv_paths = [\"submissions/LGBM7.0.csv\", \"submissions/LGBM7.1.csv\"]\n",
    "submission_path1 = \"submissions/bagging_2.0.csv\"\n",
    "submission_path2 = \"submissions/bagging_2.1.csv\"\n",
    "\n",
    "csv_bagging(predicted_scores, csv_paths, submission_path1)\n",
    "csv_bagging(kaggle_scores, csv_paths, submission_path2)"
   ]
  },
  {
   "cell_type": "code",
   "execution_count": null,
   "id": "812b28eb-0bae-4655-a491-afe5098c9e5a",
   "metadata": {},
   "outputs": [],
   "source": []
  },
  {
   "cell_type": "code",
   "execution_count": 4,
   "id": "34cb1d35-0217-4ad1-99ca-89ec70b1f7d1",
   "metadata": {},
   "outputs": [],
   "source": [
    "kaggle_scores = [0.17113,0.16591]\n",
    "predicted_scores = [0.18931133303722375, 0.18899563943028017]\n",
    "csv_paths = [\"submissions/LGBM7.2.csv\", \"submissions/LGBM7.1.csv\"]\n",
    "submission_path1 = \"submissions/bagging_2.2.csv\"\n",
    "# submission_path2 = \"submissions/bagging_2.1.csv\"\n",
    "\n",
    "csv_bagging(predicted_scores, csv_paths, submission_path1)\n",
    "# csv_bagging(kaggle_scores, csv_paths, submission_path2)"
   ]
  },
  {
   "cell_type": "markdown",
   "id": "75e5f7ea-1b8a-4dd4-aac6-c5340878bf1b",
   "metadata": {},
   "source": [
    "# LGBM 7.1 + brand_new_features_1"
   ]
  },
  {
   "cell_type": "code",
   "execution_count": 3,
   "id": "a92751f7-3641-4c4f-9776-c60368e10bff",
   "metadata": {},
   "outputs": [],
   "source": [
    "predicted_scores = [0.18514, 0.18899563943028017]\n",
    "csv_paths = [\"submissions/from_kaggle/brand_new_features_1.csv\", \"submissions/LGBM7.1.csv\"]\n",
    "submission_path1 = \"submissions/bagging_3.0.csv\"\n",
    "# submission_path2 = \"submissions/bagging_2.1.csv\"\n",
    "\n",
    "csv_bagging(predicted_scores, csv_paths, submission_path1)"
   ]
  },
  {
   "cell_type": "markdown",
   "id": "4678c3ae-e383-4b79-8ff1-62fd638dd022",
   "metadata": {},
   "source": [
    "# LGBM7.1 + training_on_all_data_1 + CB5.1 + GB5.1 + submission + RF bagging_2 + sample_KNN_3 + deep_king_1"
   ]
  },
  {
   "cell_type": "code",
   "execution_count": 7,
   "id": "465233c2-a9c8-4db2-a460-5256282309db",
   "metadata": {},
   "outputs": [],
   "source": [
    "def weighted_average(scores):\n",
    "    return np.average(scores,weights=[1 / s ** 4 for s in scores])"
   ]
  },
  {
   "cell_type": "code",
   "execution_count": 6,
   "id": "f00f1f74-e67f-4719-b837-f9ed9acdfe28",
   "metadata": {},
   "outputs": [],
   "source": [
    "## LEVEL1\n",
    "\n",
    "# Bag 1.0\n",
    "scores_bag_1_0 = [0.16591,0.33883]\n",
    "csv_paths_bag_1_0 = [\"submissions/LGBM7.1.csv\", \"submissions/from_kaggle/sample_KNN_3.csv\"]\n",
    "submission_path_bag_1_0 = \"submissions/bagging_x_0.csv\"\n",
    "csv_bagging(scores_bag_1_0, csv_paths_bag_1_0, submission_path_bag_1_0)\n",
    "\n",
    "# Bag 1.1\n",
    "scores_bag_1_1 = [0.19968,0.16913]\n",
    "csv_paths_bag_1_1 = [\"submissions/from_kaggle/submission.csv\", \"submissions/from_kaggle/training_on_all_data_1.csv\"]\n",
    "submission_path_bag_1_1 = \"submissions/bagging_x_1.csv\"\n",
    "csv_bagging(scores_bag_1_1, csv_paths_bag_1_1, submission_path_bag_1_1)\n",
    "\n",
    "# Bag 1.2\n",
    "scores_bag_1_2 = [0.17140,0.18898]\n",
    "csv_paths_bag_1_2 = [\"submissions/CB5.1.csv\", \"submissions/from_kaggle/bagging_2.csv\"]\n",
    "submission_path_bag_1_2 = \"submissions/bagging_x_2.csv\"\n",
    "csv_bagging(scores_bag_1_2, csv_paths_bag_1_2, submission_path_bag_1_2)\n",
    "\n",
    "# Bag 1.3\n",
    "scores_bag_1_3 = [0.17140,0.18898]\n",
    "csv_paths_bag_1_3 = [\"submissions/GB5.1.csv\", \"submissions/from_kaggle/deep_king_1.csv\"]\n",
    "submission_path_bag_1_3 = \"submissions/bagging_x_3.csv\"\n",
    "csv_bagging(scores_bag_1_3, csv_paths_bag_1_3, submission_path_bag_1_3)\n"
   ]
  },
  {
   "cell_type": "code",
   "execution_count": 10,
   "id": "ce584750-b517-4b05-aa89-214e70301442",
   "metadata": {},
   "outputs": [],
   "source": [
    "## LEVEL 2\n",
    "\n",
    "# Bag 2.0\n",
    "scores_bag_2_0 = [weighted_average(scores_bag_1_0),weighted_average(scores_bag_1_1)]\n",
    "csv_paths_bag_2_0 = [submission_path_bag_1_0, submission_path_bag_1_1]\n",
    "submission_path_bag_2_0 = \"submissions/bagging_x_2.csv\"\n",
    "csv_bagging(scores_bag_2_0, csv_paths_bag_2_0, submission_path_bag_2_0)\n",
    "\n",
    "# Bag 2.1\n",
    "scores_bag_2_1 = [weighted_average(scores_bag_1_2),weighted_average(scores_bag_1_3)]\n",
    "csv_paths_bag_2_1 = [submission_path_bag_1_2, submission_path_bag_1_3]\n",
    "submission_path_bag_2_1 = \"submissions/bagging_x_3.csv\"\n",
    "csv_bagging(scores_bag_2_1, csv_paths_bag_2_1, submission_path_bag_2_1)"
   ]
  },
  {
   "cell_type": "code",
   "execution_count": 11,
   "id": "8fc7da98-f66d-4ad5-ae80-1d35f9098180",
   "metadata": {},
   "outputs": [],
   "source": [
    "## LEVEL 3\n",
    "\n",
    "# Bag 3.0\n",
    "scores_bag_3_0 = [weighted_average(scores_bag_2_0),weighted_average(scores_bag_2_1)]\n",
    "csv_paths_bag_3_0 = [submission_path_bag_2_0, submission_path_bag_2_1]\n",
    "submission_path_bag_3_0 = \"submissions/bagging_x_4.csv\"\n",
    "csv_bagging(scores_bag_3_0, csv_paths_bag_3_0, submission_path_bag_3_0)"
   ]
  },
  {
   "cell_type": "code",
   "execution_count": null,
   "id": "8eb04864-4a53-4b30-b495-b0981cb84717",
   "metadata": {},
   "outputs": [],
   "source": []
  },
  {
   "cell_type": "code",
   "execution_count": null,
   "id": "05292ab6-54b4-4c2e-b72a-25d59ad73d80",
   "metadata": {},
   "outputs": [],
   "source": []
  },
  {
   "cell_type": "markdown",
   "id": "391165df-8c6c-4e9b-ae60-81083700e269",
   "metadata": {},
   "source": [
    "final submissions from long notebook"
   ]
  },
  {
   "cell_type": "code",
   "execution_count": 3,
   "id": "e188b3c6-9771-4929-bc73-717633638970",
   "metadata": {},
   "outputs": [],
   "source": [
    "predicted_scores = [0.15623, 0.16401, 0.16264]\n",
    "csv_paths = [\"submissions/LGBM_2.csv\", \"submissions/GradientBoost.csv\", \"submissions/CatBoost.csv\"]\n",
    "submission_path = \"submissions/Bagging.csv\"\n",
    "\n",
    "csv_bagging(predicted_scores, csv_paths, submission_path)\n",
    "# csv_bagging(kaggle_scores, csv_paths, submission_path)"
   ]
  },
  {
   "cell_type": "markdown",
   "id": "69fa85a2-1753-4e38-beda-0ee2df377c61",
   "metadata": {},
   "source": [
    "extra models"
   ]
  },
  {
   "cell_type": "code",
   "execution_count": 8,
   "id": "0ee4e991-4452-4067-ba32-49844850abda",
   "metadata": {},
   "outputs": [],
   "source": [
    "predicted_scores = [0.15623, 0.16401, 0.16264, 0.33883,0.17781]\n",
    "csv_paths = [\"submissions/LGBM_2.csv\", \"submissions/GradientBoost.csv\", \"submissions/CatBoost.csv\",\"submissions/download/sample_KNN_3.csv\",\"submissions/download/xgb.csv\"]\n",
    "submission_path = \"submissions/Bagging_2.csv\"\n",
    "\n",
    "csv_bagging(predicted_scores, csv_paths, submission_path)"
   ]
  },
  {
   "cell_type": "code",
   "execution_count": 9,
   "id": "1807dc7c-0542-4540-91af-c4b0578ad527",
   "metadata": {},
   "outputs": [],
   "source": [
    "predicted_scores = [0.15623, 0.16401, 0.16264, 0.17781]\n",
    "csv_paths = [\"submissions/LGBM_2.csv\", \"submissions/GradientBoost.csv\", \"submissions/CatBoost.csv\",\"submissions/download/xgb.csv\"]\n",
    "submission_path = \"submissions/Bagging_3.csv\"\n",
    "\n",
    "csv_bagging(predicted_scores, csv_paths, submission_path)"
   ]
  },
  {
   "cell_type": "code",
   "execution_count": null,
   "id": "2fff1eae-a336-4657-9226-c2bab50ee419",
   "metadata": {},
   "outputs": [],
   "source": []
  }
 ],
 "metadata": {
  "kernelspec": {
   "display_name": "Python 3",
   "language": "python",
   "name": "python3"
  },
  "language_info": {
   "codemirror_mode": {
    "name": "ipython",
    "version": 3
   },
   "file_extension": ".py",
   "mimetype": "text/x-python",
   "name": "python",
   "nbconvert_exporter": "python",
   "pygments_lexer": "ipython3",
   "version": "3.8.8"
  }
 },
 "nbformat": 4,
 "nbformat_minor": 5
}
