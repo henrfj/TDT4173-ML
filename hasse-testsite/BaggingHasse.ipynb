{
 "cells": [
  {
   "cell_type": "code",
   "execution_count": 2,
   "id": "3bdea8e8-2454-4ab2-af62-3c3e92bd9064",
   "metadata": {},
   "outputs": [],
   "source": [
    "%run ../common_utils.py"
   ]
  },
  {
   "cell_type": "markdown",
   "id": "5e787eb0-8741-4333-b44b-14ebd3910603",
   "metadata": {},
   "source": [
    "# LGBM + LGBM"
   ]
  },
  {
   "cell_type": "code",
   "execution_count": 9,
   "id": "469c5295-100c-44d8-bedc-609a590728e6",
   "metadata": {},
   "outputs": [],
   "source": [
    "kaggle_scores = [0.23450, 0.20502, 0.23278, 0.19968, 0.35042, 0.20015, 0.20159, 0.23787]\n",
    "predicted_scores = [0.19617465089497474, 0.19817709814906143]\n",
    "csv_paths = [\"submissions/LGBM5.0.csv\", \"submissions/LGBM5.1.csv\"]\n",
    "submission_path = \"submissions/bagging_1.csv\"\n",
    "\n",
    "csv_bagging(predicted_scores, csv_paths, submission_path)\n",
    "# csv_bagging(kaggle_scores, csv_paths, submission_path)"
   ]
  },
  {
   "cell_type": "markdown",
   "id": "f5741d4f-6e6b-4f50-97ac-641fb65ce340",
   "metadata": {},
   "source": [
    "# LGBM + LGBM + GB"
   ]
  },
  {
   "cell_type": "code",
   "execution_count": 14,
   "id": "7dbdf699-aa3d-4f77-b8ba-3d113c1a9682",
   "metadata": {},
   "outputs": [],
   "source": [
    "kaggle_scores = [0.23450, 0.20502, 0.23278, 0.19968, 0.35042, 0.20015, 0.20159, 0.23787]\n",
    "predicted_scores = [0.19617465089497474, 0.19817709814906143,0.2052103426074366]\n",
    "csv_paths = [\"submissions/LGBM5.0.csv\", \"submissions/LGBM5.1.csv\", \"submissions/GB4.0.csv\"]\n",
    "submission_path = \"submissions/bagging_2.csv\"\n",
    "\n",
    "csv_bagging(predicted_scores, csv_paths, submission_path)\n",
    "# csv_bagging(kaggle_scores, csv_paths, submission_path)"
   ]
  },
  {
   "cell_type": "markdown",
   "id": "519cf533-248d-45c4-9d2d-28e86f3de6ae",
   "metadata": {},
   "source": [
    "# LGBM + LGBM + GB + CAT"
   ]
  },
  {
   "cell_type": "code",
   "execution_count": 32,
   "id": "0470c30c-5e2a-4fa1-9fdc-994b3f9da6d3",
   "metadata": {
    "tags": []
   },
   "outputs": [],
   "source": [
    "kaggle_scores = [0.23450, 0.20502, 0.23278, 0.19968, 0.35042, 0.20015, 0.20159, 0.23787]\n",
    "predicted_scores = [0.19617465089497474, 0.19817709814906143,0.2052103426074366,0.28020809307228484]\n",
    "csv_paths = [\"submissions/LGBM5.0.csv\", \"submissions/LGBM5.1.csv\", \"submissions/GB4.0.csv\", \"submissions/CB4.0.csv\"]\n",
    "submission_path = \"submissions/bagging_3.csv\"\n",
    "\n",
    "csv_bagging(predicted_scores, csv_paths, submission_path)\n",
    "# csv_bagging(kaggle_scores, csv_paths, submission_path)"
   ]
  },
  {
   "cell_type": "markdown",
   "id": "4e3015ef-d18d-49ce-ae59-e96a86543945",
   "metadata": {},
   "source": [
    "# LGBM1 + GB"
   ]
  },
  {
   "cell_type": "code",
   "execution_count": 15,
   "id": "619863d6-9656-4a2e-82f5-a872485762aa",
   "metadata": {},
   "outputs": [],
   "source": [
    "kaggle_scores = [0.23450, 0.20502, 0.23278, 0.19968, 0.35042, 0.20015, 0.20159, 0.23787]\n",
    "predicted_scores = [0.19617465089497474,0.2052103426074366]\n",
    "csv_paths = [\"submissions/LGBM5.0.csv\", \"submissions/GB4.0.csv\"]\n",
    "submission_path = \"submissions/bagging_4.csv\"\n",
    "\n",
    "csv_bagging(predicted_scores, csv_paths, submission_path)\n",
    "# csv_bagging(kaggle_scores, csv_paths, submission_path)"
   ]
  },
  {
   "cell_type": "markdown",
   "id": "d0056dfb-b34f-4561-b1b0-4e813a1c1bf4",
   "metadata": {},
   "source": [
    "# LGBM2 + GB"
   ]
  },
  {
   "cell_type": "code",
   "execution_count": 16,
   "id": "77cbd7fa-86eb-4064-be4d-72bf843c7d4d",
   "metadata": {},
   "outputs": [],
   "source": [
    "kaggle_scores = [0.23450, 0.20502, 0.23278, 0.19968, 0.35042, 0.20015, 0.20159, 0.23787]\n",
    "predicted_scores = [0.19817709814906143,0.2052103426074366]\n",
    "csv_paths = [\"submissions/LGBM5.1.csv\", \"submissions/GB4.0.csv\"]\n",
    "submission_path = \"submissions/bagging_5.csv\"\n",
    "\n",
    "csv_bagging(predicted_scores, csv_paths, submission_path)\n",
    "# csv_bagging(kaggle_scores, csv_paths, submission_path)"
   ]
  },
  {
   "cell_type": "markdown",
   "id": "05bd6878-959c-4990-b40c-20f654189f0e",
   "metadata": {},
   "source": [
    "# LGBM1 + CAT"
   ]
  },
  {
   "cell_type": "code",
   "execution_count": 12,
   "id": "97dc5bdc-dd98-4782-bf42-0475ae249145",
   "metadata": {},
   "outputs": [],
   "source": [
    "kaggle_scores = [0.23450, 0.20502, 0.23278, 0.19968, 0.35042, 0.20015, 0.20159, 0.23787]\n",
    "predicted_scores = [0.19617465089497474,0.28020809307228484]\n",
    "csv_paths = [\"submissions/LGBM5.0.csv\", \"submissions/CB4.0.csv\"]\n",
    "submission_path = \"submissions/bagging_6.csv\"\n",
    "\n",
    "csv_bagging(predicted_scores, csv_paths, submission_path)\n",
    "# csv_bagging(kaggle_scores, csv_paths, submission_path)"
   ]
  },
  {
   "cell_type": "markdown",
   "id": "c99d617c-bb7b-4e8d-bc87-7275f02c50e3",
   "metadata": {},
   "source": [
    "# LGBM2 + CAT"
   ]
  },
  {
   "cell_type": "code",
   "execution_count": 13,
   "id": "04fd2682-f2e4-46e4-8bb4-e8bc42706e6a",
   "metadata": {},
   "outputs": [],
   "source": [
    "kaggle_scores = [0.23450, 0.20502, 0.23278, 0.19968, 0.35042, 0.20015, 0.20159, 0.23787]\n",
    "predicted_scores = [0.19817709814906143,0.28020809307228484]\n",
    "csv_paths = [\"submissions/LGBM5.1.csv\", \"submissions/CB4.0.csv\"]\n",
    "submission_path = \"submissions/bagging_7.csv\"\n",
    "\n",
    "csv_bagging(predicted_scores, csv_paths, submission_path)\n",
    "# csv_bagging(kaggle_scores, csv_paths, submission_path)"
   ]
  },
  {
   "cell_type": "markdown",
   "id": "5ec662bd-9d6b-4af3-a472-16c0fc80007b",
   "metadata": {},
   "source": [
    "# GB + CAT"
   ]
  },
  {
   "cell_type": "code",
   "execution_count": 17,
   "id": "4830200a-23c3-4069-977d-9b8b00acc015",
   "metadata": {},
   "outputs": [],
   "source": [
    "kaggle_scores = [0.23450, 0.20502, 0.23278, 0.19968, 0.35042, 0.20015, 0.20159, 0.23787]\n",
    "predicted_scores = [0.2052103426074366,0.28020809307228484]\n",
    "csv_paths = [\"submissions/GB4.0.csv\", \"submissions/CB4.0.csv\"]\n",
    "submission_path = \"submissions/bagging_8.csv\"\n",
    "\n",
    "csv_bagging(predicted_scores, csv_paths, submission_path)\n",
    "# csv_bagging(kaggle_scores, csv_paths, submission_path)"
   ]
  },
  {
   "cell_type": "markdown",
   "id": "8b82eb3c-4878-4545-b525-71d76c1926da",
   "metadata": {},
   "source": [
    "# LGBM + LGBM + LGBM + GB + CAT"
   ]
  },
  {
   "cell_type": "code",
   "execution_count": 33,
   "id": "d8754d06-846c-4e7b-9b83-2f18a0f9cd16",
   "metadata": {
    "tags": []
   },
   "outputs": [],
   "source": [
    "kaggle_scores = [0.23450, 0.20502, 0.23278, 0.19968, 0.35042, 0.20015, 0.20159, 0.23787]\n",
    "predicted_scores = [0.19617465089497474, 0.19817709814906143, 0.19548869950947315, 0.2052103426074366,0.28020809307228484]\n",
    "csv_paths = [\"submissions/LGBM5.0.csv\", \"submissions/LGBM5.1.csv\", \"submissions/LGBM5.2.csv\", \"submissions/GB4.0.csv\", \"submissions/CB4.0.csv\"]\n",
    "submission_path = \"submissions/bagging_10.csv\"\n",
    "\n",
    "csv_bagging(predicted_scores, csv_paths, submission_path)\n",
    "# csv_bagging(kaggle_scores, csv_paths, submission_path)"
   ]
  },
  {
   "cell_type": "markdown",
   "id": "4123e6ad-ae34-43b5-a128-95db9d90f1f3",
   "metadata": {},
   "source": [
    "# Include best models from kaggle \n",
    "## LGBM + LGBM + GB + CAT + GB + XGBoost? + XGBoost? + RF Bagging"
   ]
  },
  {
   "cell_type": "code",
   "execution_count": 34,
   "id": "f360a348-15c8-448c-bfb9-a7355a71584e",
   "metadata": {},
   "outputs": [],
   "source": [
    "# NOTE: used predicted scores when known (avoid overfitting on public leaderboard??) \n",
    "# + kaggle scores for models that are not my own.\n",
    "\n",
    "scores = [0.19617465089497474, 0.19817709814906143, 0.2052103426074366, 0.28020809307228484, 0.19968, 0.18649, 0.18511, 0.18898]\n",
    "csv_paths = [\"submissions/LGBM5.0.csv\", \"submissions/LGBM5.1.csv\", \"submissions/GB4.0.csv\", \"submissions/CB4.0.csv\",\"submissions/from_kaggle/submission.csv\",\"submissions/from_kaggle/new_features_1.csv\",\"submissions/from_kaggle/new_features_3.csv\",\"submissions/from_kaggle/bagging_2.csv\"]\n",
    "submission_path = \"submissions/bagging_9.csv\"\n",
    "\n",
    "csv_bagging(scores, csv_paths, submission_path)"
   ]
  },
  {
   "cell_type": "code",
   "execution_count": 35,
   "id": "8a362e19-9231-49f4-a255-ad6b0e2395b7",
   "metadata": {},
   "outputs": [],
   "source": [
    "# NOTE: used predicted scores when known (avoid overfitting on public leaderboard??) \n",
    "# + kaggle scores for models that are not my own.\n",
    "\n",
    "scores = [0.19617465089497474, 0.19817709814906143, 0.19548869950947315, 0.2052103426074366, 0.28020809307228484, 0.19968, 0.18649, 0.18511, 0.18898]\n",
    "csv_paths = [\"submissions/LGBM5.0.csv\", \"submissions/LGBM5.1.csv\", \"submissions/LGBM5.2.csv\", \"submissions/GB4.0.csv\", \"submissions/CB4.0.csv\",\"submissions/from_kaggle/submission.csv\",\"submissions/from_kaggle/new_features_1.csv\",\"submissions/from_kaggle/new_features_3.csv\",\"submissions/from_kaggle/bagging_2.csv\"]\n",
    "submission_path = \"submissions/bagging_11.csv\"\n",
    "\n",
    "csv_bagging(scores, csv_paths, submission_path)"
   ]
  },
  {
   "cell_type": "code",
   "execution_count": null,
   "id": "9550fc9b-bf51-4d24-8493-208a53658b0d",
   "metadata": {},
   "outputs": [],
   "source": []
  },
  {
   "cell_type": "markdown",
   "id": "ad1220d8-b2a0-4c30-bf7e-05e9ed53a592",
   "metadata": {},
   "source": [
    "# LGBM5.4+ Stacking3.0 + CB4.0"
   ]
  },
  {
   "cell_type": "code",
   "execution_count": 36,
   "id": "0c163c48-82f7-4c2a-972d-24500e804f16",
   "metadata": {},
   "outputs": [],
   "source": [
    "predicted_scores = [0.19601691402095867, 0.20068301501801616, 0.28020809307228484]\n",
    "csv_paths = [\"submissions/LGBM5.4.csv\", \"submissions/stacking3.0.csv\", \"submissions/CB4.0.csv\"]\n",
    "submission_path = \"submissions/bagging_12.csv\"\n",
    "\n",
    "csv_bagging(predicted_scores, csv_paths, submission_path)\n",
    "# csv_bagging(kaggle_scores, csv_paths, submission_path)"
   ]
  },
  {
   "cell_type": "code",
   "execution_count": null,
   "id": "9ac906b2-2081-4527-8501-06a47f7de3e7",
   "metadata": {},
   "outputs": [],
   "source": []
  },
  {
   "cell_type": "code",
   "execution_count": null,
   "id": "0352082d-413c-4efb-bd47-5af9cd43e1c2",
   "metadata": {},
   "outputs": [],
   "source": []
  },
  {
   "cell_type": "markdown",
   "id": "bac74990-dbd1-48a5-ad39-d9019842cb5c",
   "metadata": {},
   "source": [
    "# LGBM7.0 + LGBM7.1"
   ]
  },
  {
   "cell_type": "code",
   "execution_count": 3,
   "id": "4b4049c9-a04a-44ef-b528-c224dcc41f7a",
   "metadata": {},
   "outputs": [],
   "source": [
    "kaggle_scores = [0.17113,0.16591]\n",
    "predicted_scores = [0.19632918613794853, 0.18899563943028017]\n",
    "csv_paths = [\"submissions/LGBM7.0.csv\", \"submissions/LGBM7.1.csv\"]\n",
    "submission_path1 = \"submissions/bagging_2.0.csv\"\n",
    "submission_path2 = \"submissions/bagging_2.1.csv\"\n",
    "\n",
    "csv_bagging(predicted_scores, csv_paths, submission_path1)\n",
    "csv_bagging(kaggle_scores, csv_paths, submission_path2)"
   ]
  },
  {
   "cell_type": "code",
   "execution_count": null,
   "id": "812b28eb-0bae-4655-a491-afe5098c9e5a",
   "metadata": {},
   "outputs": [],
   "source": []
  },
  {
   "cell_type": "code",
   "execution_count": 4,
   "id": "34cb1d35-0217-4ad1-99ca-89ec70b1f7d1",
   "metadata": {},
   "outputs": [],
   "source": [
    "kaggle_scores = [0.17113,0.16591]\n",
    "predicted_scores = [0.18931133303722375, 0.18899563943028017]\n",
    "csv_paths = [\"submissions/LGBM7.2.csv\", \"submissions/LGBM7.1.csv\"]\n",
    "submission_path1 = \"submissions/bagging_2.2.csv\"\n",
    "# submission_path2 = \"submissions/bagging_2.1.csv\"\n",
    "\n",
    "csv_bagging(predicted_scores, csv_paths, submission_path1)\n",
    "# csv_bagging(kaggle_scores, csv_paths, submission_path2)"
   ]
  },
  {
   "cell_type": "code",
   "execution_count": null,
   "id": "24101ab8-4b83-4765-8d14-ff73aab7b117",
   "metadata": {},
   "outputs": [],
   "source": []
  }
 ],
 "metadata": {
  "kernelspec": {
   "display_name": "Python 3",
   "language": "python",
   "name": "python3"
  },
  "language_info": {
   "codemirror_mode": {
    "name": "ipython",
    "version": 3
   },
   "file_extension": ".py",
   "mimetype": "text/x-python",
   "name": "python",
   "nbconvert_exporter": "python",
   "pygments_lexer": "ipython3",
   "version": "3.8.8"
  }
 },
 "nbformat": 4,
 "nbformat_minor": 5
}
