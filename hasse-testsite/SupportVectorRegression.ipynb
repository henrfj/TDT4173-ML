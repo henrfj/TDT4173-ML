{
 "cells": [
  {
   "cell_type": "markdown",
   "id": "2878f376-14c4-4bcc-916c-43b6d39d9db6",
   "metadata": {},
   "source": [
    "# Support vector regression\n",
    "https://scikit-learn.org/stable/modules/generated/sklearn.svm.SVR.html"
   ]
  },
  {
   "cell_type": "markdown",
   "id": "ed5de21a-3ec3-4eab-969b-c9ecaf9b79e8",
   "metadata": {},
   "source": [
    "## Imports"
   ]
  },
  {
   "cell_type": "code",
   "execution_count": 1,
   "id": "4e7f0ffb-7b5a-464b-9ea5-5f906783bfe6",
   "metadata": {},
   "outputs": [],
   "source": [
    "from utils_hasse import *\n",
    "from sklearn.svm import SVR"
   ]
  },
  {
   "cell_type": "markdown",
   "id": "cd11d9d0-8b91-4160-a7c3-63e4fa841e4f",
   "metadata": {},
   "source": [
    "## Import Data"
   ]
  },
  {
   "cell_type": "code",
   "execution_count": 2,
   "id": "210cb86f-02c0-4a3b-8613-756327692094",
   "metadata": {},
   "outputs": [],
   "source": [
    "train = load_and_handle_train()\n",
    "X = "
   ]
  },
  {
   "cell_type": "markdown",
   "id": "c8b0c60e-3560-43fc-b1cf-211e33844932",
   "metadata": {},
   "source": [
    "## Prepare model"
   ]
  },
  {
   "cell_type": "markdown",
   "id": "2a454480-3453-4e72-b79b-0628fbb55a1d",
   "metadata": {},
   "source": [
    "### Default configuration"
   ]
  },
  {
   "cell_type": "code",
   "execution_count": 3,
   "id": "a4d936b1-dc94-4f76-94ad-3052601817c7",
   "metadata": {},
   "outputs": [],
   "source": [
    "svr_rbf = SVR(kernel='rbf')\n",
    "svr_lin = SVR(kernel='linear')\n",
    "svr_poly = SVR(kernel='poly')"
   ]
  },
  {
   "cell_type": "markdown",
   "id": "0a125a89-ee97-44a0-81cd-31c79b1f2fe2",
   "metadata": {},
   "source": [
    "### Scale Data"
   ]
  },
  {
   "cell_type": "code",
   "execution_count": null,
   "id": "19cf718b-5ec8-481a-ac40-960a0210f29f",
   "metadata": {},
   "outputs": [],
   "source": [
    "from sklearn.preprocessing import StandardScaler\n",
    "sc_X = StandardScaler()\n",
    "sc_y = StandardScaler()\n",
    "X = sc_X.fit_transform(X)\n",
    "y = sc_y.fit_transform(y)"
   ]
  }
 ],
 "metadata": {
  "kernelspec": {
   "display_name": "Python 3",
   "language": "python",
   "name": "python3"
  },
  "language_info": {
   "codemirror_mode": {
    "name": "ipython",
    "version": 3
   },
   "file_extension": ".py",
   "mimetype": "text/x-python",
   "name": "python",
   "nbconvert_exporter": "python",
   "pygments_lexer": "ipython3",
   "version": "3.8.8"
  }
 },
 "nbformat": 4,
 "nbformat_minor": 5
}
