{
 "cells": [
  {
   "cell_type": "markdown",
   "id": "ebe3e60c-6093-410f-8a01-18a132aa3a46",
   "metadata": {},
   "source": [
    "# Import requirements"
   ]
  },
  {
   "cell_type": "code",
   "execution_count": 1,
   "id": "444e17d0-d674-4e80-8258-40a5f6e4f382",
   "metadata": {},
   "outputs": [],
   "source": [
    "import pandas as pd\n",
    "import numpy as np\n",
    "from sklearn.model_selection import train_test_split, KFold\n",
    "from sklearn.tree import DecisionTreeRegressor\n",
    "from sklearn.metrics import mean_squared_error\n",
    "from sklearn.ensemble import RandomForestRegressor\n",
    "from sklearn.ensemble import AdaBoostRegressor\n",
    "from sklearn.ensemble import GradientBoostingRegressor\n",
    "from scipy import stats\n",
    "\n",
    "import lightgbm as lgb\n",
    "from catboost import CatBoostRegressor\n",
    "\n",
    "import matplotlib.pylab as plt\n",
    "plt.style.use('ggplot')"
   ]
  },
  {
   "cell_type": "code",
   "execution_count": 2,
   "id": "a9d893cd-d30a-4b91-b534-b8892be4a10b",
   "metadata": {},
   "outputs": [],
   "source": [
    "# !pip install lightgbm\n",
    "# !pip install catboost"
   ]
  },
  {
   "cell_type": "markdown",
   "id": "bdcaf7f2-b6e7-4a29-bafa-8ee01814fbf2",
   "metadata": {},
   "source": [
    "# Define Constants"
   ]
  },
  {
   "cell_type": "code",
   "execution_count": 3,
   "id": "44b1ba81-7b32-41e4-8469-7867df53116a",
   "metadata": {},
   "outputs": [],
   "source": [
    "scaling_factor = 1000000000000"
   ]
  },
  {
   "cell_type": "markdown",
   "id": "96ff0669-187b-4b65-982f-5381c74128f2",
   "metadata": {},
   "source": [
    "# Prepare dataset"
   ]
  },
  {
   "cell_type": "code",
   "execution_count": 28,
   "id": "f06c26d2-2d69-4b96-9ba6-911798339226",
   "metadata": {},
   "outputs": [],
   "source": [
    "data = pd.read_csv('../data/apartments_train.csv')"
   ]
  },
  {
   "cell_type": "code",
   "execution_count": 29,
   "id": "b87defc3-0969-4b27-b202-63765d686aaa",
   "metadata": {},
   "outputs": [],
   "source": [
    "column_names_apartments = ['id', 'seller', 'area_total', 'area_kitchen', 'area_living',\n",
    "       'floor', 'rooms', 'layout', 'ceiling', 'bathrooms_shared',\n",
    "       'bathrooms_private', 'windows_court', 'windows_street', 'balconies',\n",
    "       'loggias', 'condition', 'phones', 'building_id', 'price']\n",
    "column_names_buildings = ['id', 'new', 'latitude', 'longitude', 'district', 'street', 'address',\n",
    "       'constructed', 'material', 'stories', 'elevator_without',\n",
    "       'elevator_passenger', 'elevator_service', 'parking', 'garbage_chute',\n",
    "       'heating']"
   ]
  },
  {
   "cell_type": "code",
   "execution_count": 30,
   "id": "7af98463-f36c-4b2d-a6c6-0a6056f07bed",
   "metadata": {},
   "outputs": [],
   "source": [
    "def preprocess(data,price_outlier_rejection=False,fill=True):\n",
    "    if price_outlier_rejection is True:\n",
    "        data = data[(np.abs(stats.zscore(data['price'])) < 3.9)]\n",
    "    if fill is True:\n",
    "        return data.fillna(data.mean())\n",
    "    else:\n",
    "        return data.dropna()"
   ]
  },
  {
   "cell_type": "code",
   "execution_count": 31,
   "id": "3b513a27-c918-4bb1-8fab-7c8f2db0e5a7",
   "metadata": {},
   "outputs": [
    {
     "name": "stdout",
     "output_type": "stream",
     "text": [
      "442415\n",
      "442415\n"
     ]
    }
   ],
   "source": [
    "features = column_names_apartments\n",
    "data_selected = data[column_names_apartments]\n",
    "print(data_selected.size)\n",
    "data = preprocess(data_selected)\n",
    "print(data.size)\n",
    "X, y = data[features[:-1]], data['price']"
   ]
  },
  {
   "cell_type": "code",
   "execution_count": 32,
   "id": "b08a7892-952e-46a1-9920-55c76796c24f",
   "metadata": {},
   "outputs": [],
   "source": [
    "X_train, X_test, y_train, y_test = train_test_split(X, y, test_size=0.2, random_state=42)"
   ]
  },
  {
   "cell_type": "code",
   "execution_count": null,
   "id": "b535e319-fc86-43ef-a81d-c484c8741581",
   "metadata": {},
   "outputs": [],
   "source": []
  },
  {
   "cell_type": "code",
   "execution_count": null,
   "id": "e8029c0e-479e-4440-b963-ca78958412bd",
   "metadata": {},
   "outputs": [],
   "source": []
  },
  {
   "cell_type": "code",
   "execution_count": null,
   "id": "2e10cca3-b39a-4dae-b23d-c49cfb5c1c0f",
   "metadata": {},
   "outputs": [],
   "source": []
  },
  {
   "cell_type": "markdown",
   "id": "be1dff0c-e21c-46da-8796-0f2e0c789ae8",
   "metadata": {},
   "source": [
    "# Adaboost"
   ]
  },
  {
   "cell_type": "markdown",
   "id": "e8283380-d54b-47fb-a632-757d73eef078",
   "metadata": {},
   "source": [
    "## All data"
   ]
  },
  {
   "cell_type": "code",
   "execution_count": 33,
   "id": "6fc54e9c-b3f6-4ee4-aa93-b8bdce6c7a3a",
   "metadata": {},
   "outputs": [],
   "source": [
    "adaboost = AdaBoostRegressor(\n",
    "    n_estimators=1500,\n",
    "    learning_rate=0.05,\n",
    "    loss='square',\n",
    "    random_state=42\n",
    ")"
   ]
  },
  {
   "cell_type": "code",
   "execution_count": 34,
   "id": "4ff4b5b1-0a1d-44a7-b8e5-3cc42e3621c4",
   "metadata": {},
   "outputs": [
    {
     "data": {
      "text/plain": [
       "AdaBoostRegressor(learning_rate=0.05, loss='square', n_estimators=1500,\n",
       "                  random_state=42)"
      ]
     },
     "execution_count": 34,
     "metadata": {},
     "output_type": "execute_result"
    }
   ],
   "source": [
    "adaboost.fit(X_train, y_train)"
   ]
  },
  {
   "cell_type": "code",
   "execution_count": 35,
   "id": "058d941a-d3b7-42c9-8d6e-1ab5b83d0957",
   "metadata": {},
   "outputs": [],
   "source": [
    "ada_prediction = adaboost.predict(X_test)"
   ]
  },
  {
   "cell_type": "code",
   "execution_count": 36,
   "id": "afb4c2e1-c42c-4541-824a-dccd6a7cce39",
   "metadata": {},
   "outputs": [
    {
     "name": "stdout",
     "output_type": "stream",
     "text": [
      "Test MSE: 907.0485759573763\n"
     ]
    }
   ],
   "source": [
    "ada_mse = round(mean_squared_error(ada_prediction, y_test), 2)\n",
    "print('Test MSE:', ada_mse/scaling_factor)"
   ]
  },
  {
   "cell_type": "code",
   "execution_count": 37,
   "id": "2e8bbbaf-b8ef-401c-a3b6-551121f225cc",
   "metadata": {},
   "outputs": [
    {
     "data": {
      "text/plain": [
       "Text(0, 0.5, 'Ground Truth')"
      ]
     },
     "execution_count": 37,
     "metadata": {},
     "output_type": "execute_result"
    },
    {
     "data": {
      "image/png": "[encoded data removed]",
      "text/plain": [
       "<Figure size 432x288 with 1 Axes>"
      ]
     },
     "metadata": {},
     "output_type": "display_data"
    }
   ],
   "source": [
    "plt.scatter(ada_prediction, y_test)\n",
    "plt.xlabel('Adaboost prediction')\n",
    "plt.ylabel('Ground Truth')"
   ]
  },
  {
   "cell_type": "markdown",
   "id": "12d3a4e7-173a-459c-987d-8ee475db42e6",
   "metadata": {},
   "source": [
    "## All data + outlier price rejection"
   ]
  },
  {
   "cell_type": "code",
   "execution_count": 38,
   "id": "19043d08-207c-46f6-8c80-8425e66dc0ab",
   "metadata": {},
   "outputs": [
    {
     "name": "stdout",
     "output_type": "stream",
     "text": [
      "442415\n",
      "439014\n"
     ]
    }
   ],
   "source": [
    "data = pd.read_csv('../data/apartments_train.csv')\n",
    "features = column_names_apartments\n",
    "data_selected = data[features]\n",
    "print(data_selected.size)\n",
    "data = preprocess(data=data_selected,price_outlier_rejection=True)\n",
    "print(data.size)\n",
    "X, y = data[features[:-1]], data['price']\n",
    "X_train, X_test, y_train, y_test = train_test_split(X, y, test_size=0.2, random_state=42)"
   ]
  },
  {
   "cell_type": "code",
   "execution_count": 39,
   "id": "f26fa45b-2b4a-4344-9b26-d467350e067b",
   "metadata": {},
   "outputs": [
    {
     "name": "stdout",
     "output_type": "stream",
     "text": [
      "Test MSE: 641.5440546647995\n"
     ]
    },
    {
     "data": {
      "text/plain": [
       "Text(0, 0.5, 'Ground Truth')"
      ]
     },
     "execution_count": 39,
     "metadata": {},
     "output_type": "execute_result"
    },
    {
     "data": {
      "image/png": "[encoded data removed]",
      "text/plain": [
       "<Figure size 432x288 with 1 Axes>"
      ]
     },
     "metadata": {},
     "output_type": "display_data"
    }
   ],
   "source": [
    "adaboost4 = AdaBoostRegressor(\n",
    "    n_estimators=1500,\n",
    "    learning_rate=0.05,\n",
    "    loss='square',\n",
    "    random_state=42\n",
    ")\n",
    "adaboost4.fit(X_train, y_train)\n",
    "ada_prediction = adaboost4.predict(X_test)\n",
    "ada_mse = round(mean_squared_error(ada_prediction, y_test), 2)\n",
    "print('Test MSE:', ada_mse/scaling_factor)\n",
    "plt.scatter(ada_prediction, y_test)\n",
    "plt.xlabel('Adaboost prediction')\n",
    "plt.ylabel('Ground Truth')"
   ]
  },
  {
   "cell_type": "markdown",
   "id": "c8b2d6e8-9c58-41ea-a259-2d777a0f4fb3",
   "metadata": {},
   "source": [
    "## Choose features based on importance according to feature_analysis_buildings"
   ]
  },
  {
   "cell_type": "code",
   "execution_count": 48,
   "id": "0afc6daa-013b-4811-a878-a546e148a64f",
   "metadata": {},
   "outputs": [
    {
     "name": "stdout",
     "output_type": "stream",
     "text": [
      "          id  seller       price  area_total  area_kitchen  area_living  \\\n",
      "0          0     3.0   7139520.0        59.2          12.5         31.0   \n",
      "1          1     NaN  10500000.0        88.0          14.2         48.0   \n",
      "2          2     3.0   9019650.0        78.5          22.5         40.8   \n",
      "3          3     NaN  10500000.0        88.0          14.0         48.0   \n",
      "4          4     NaN  13900000.0        78.0          17.0         35.0   \n",
      "...      ...     ...         ...         ...           ...          ...   \n",
      "23280  23280     NaN  13300000.0        65.0          16.0         32.0   \n",
      "23281  23281     3.0  15854300.0        56.9           9.6         36.5   \n",
      "23282  23282     NaN  19800000.0        73.4          23.0         29.3   \n",
      "23283  23283     0.0  29999000.0       100.8          20.0          NaN   \n",
      "23284  23284     0.0  10950000.0        57.7           8.4          NaN   \n",
      "\n",
      "       floor  rooms  layout  ceiling  bathrooms_shared  bathrooms_private  \\\n",
      "0        2.0    2.0     NaN     2.65               0.0                2.0   \n",
      "1       18.0    3.0     1.0      NaN               2.0                0.0   \n",
      "2       12.0    3.0     NaN     2.65               0.0                2.0   \n",
      "3       18.0    3.0     NaN      NaN               0.0                2.0   \n",
      "4        7.0    2.0     1.0     2.90               1.0                0.0   \n",
      "...      ...    ...     ...      ...               ...                ...   \n",
      "23280    3.0    2.0     NaN     3.00               0.0                1.0   \n",
      "23281    6.0    2.0     NaN      NaN               NaN                NaN   \n",
      "23282   16.0    2.0     NaN      NaN               NaN                NaN   \n",
      "23283    4.0    3.0     NaN      NaN               NaN                NaN   \n",
      "23284    4.0    2.0     NaN      NaN               NaN                NaN   \n",
      "\n",
      "       windows_court  windows_street  balconies  loggias  condition  phones  \\\n",
      "0                0.0             1.0        NaN      NaN        NaN     1.0   \n",
      "1                1.0             1.0        1.0      0.0        3.0     1.0   \n",
      "2                1.0             1.0        NaN      NaN        NaN     1.0   \n",
      "3                1.0             1.0        0.0      1.0        2.0     1.0   \n",
      "4                1.0             1.0        0.0      1.0        3.0     1.0   \n",
      "...              ...             ...        ...      ...        ...     ...   \n",
      "23280            1.0             0.0        0.0      1.0        3.0     1.0   \n",
      "23281            NaN             NaN        NaN      NaN        NaN     1.0   \n",
      "23282            NaN             NaN        NaN      NaN        NaN     0.0   \n",
      "23283            NaN             NaN        NaN      NaN        NaN     0.0   \n",
      "23284            NaN             NaN        NaN      NaN        NaN     0.0   \n",
      "\n",
      "       building_id  \n",
      "0             4076  \n",
      "1             1893  \n",
      "2             5176  \n",
      "3             1893  \n",
      "4             6604  \n",
      "...            ...  \n",
      "23280         3139  \n",
      "23281         7624  \n",
      "23282         8021  \n",
      "23283         4591  \n",
      "23284         6553  \n",
      "\n",
      "[23285 rows x 19 columns]\n",
      "       area_total  rooms  ceiling       price\n",
      "0            59.2    2.0     2.65   7139520.0\n",
      "1            88.0    3.0      NaN  10500000.0\n",
      "2            78.5    3.0     2.65   9019650.0\n",
      "3            88.0    3.0      NaN  10500000.0\n",
      "4            78.0    2.0     2.90  13900000.0\n",
      "...           ...    ...      ...         ...\n",
      "23280        65.0    2.0     3.00  13300000.0\n",
      "23281        56.9    2.0      NaN  15854300.0\n",
      "23282        73.4    2.0      NaN  19800000.0\n",
      "23283       100.8    3.0      NaN  29999000.0\n",
      "23284        57.7    2.0      NaN  10950000.0\n",
      "\n",
      "[23285 rows x 4 columns]\n",
      "93140\n",
      "93140\n"
     ]
    }
   ],
   "source": [
    "data = pd.read_csv('../data/apartments_train.csv')\n",
    "print(data)\n",
    "features = ['area_total', 'rooms', 'ceiling','price']\n",
    "data_selected = data[features]\n",
    "print(data_selected)\n",
    "print(data_selected.size)\n",
    "data = preprocess(data_selected)\n",
    "print(data.size)\n",
    "X, y = data[features[:-1]], data['price']"
   ]
  },
  {
   "cell_type": "code",
   "execution_count": 41,
   "id": "58e6d32f-ad28-448c-adfb-159aeace570f",
   "metadata": {},
   "outputs": [],
   "source": [
    "X_train, X_test, y_train, y_test = train_test_split(X, y, test_size=0.2, random_state=42)"
   ]
  },
  {
   "cell_type": "code",
   "execution_count": 42,
   "id": "44b06073-e817-402e-a609-e4b80317e006",
   "metadata": {},
   "outputs": [],
   "source": [
    "adaboost2 = AdaBoostRegressor(\n",
    "    n_estimators=1500,\n",
    "    learning_rate=0.05,\n",
    "    loss='square',\n",
    "    random_state=42\n",
    ")"
   ]
  },
  {
   "cell_type": "code",
   "execution_count": 43,
   "id": "09a308e2-461b-4df5-b747-4b89b601fecc",
   "metadata": {},
   "outputs": [
    {
     "name": "stdout",
     "output_type": "stream",
     "text": [
      "Test MSE: 1164.4611690417707\n"
     ]
    },
    {
     "data": {
      "text/plain": [
       "Text(0, 0.5, 'Ground Truth')"
      ]
     },
     "execution_count": 43,
     "metadata": {},
     "output_type": "execute_result"
    },
    {
     "data": {
      "image/png": "[encoded data removed]",
      "text/plain": [
       "<Figure size 432x288 with 1 Axes>"
      ]
     },
     "metadata": {},
     "output_type": "display_data"
    }
   ],
   "source": [
    "adaboost2.fit(X_train, y_train)\n",
    "ada_prediction = adaboost2.predict(X_test)\n",
    "ada_mse = round(mean_squared_error(ada_prediction, y_test), 2)\n",
    "print('Test MSE:', ada_mse/scaling_factor)\n",
    "plt.scatter(ada_prediction, y_test)\n",
    "plt.xlabel('Adaboost prediction')\n",
    "plt.ylabel('Ground Truth')"
   ]
  },
  {
   "cell_type": "markdown",
   "id": "517e1836-7d92-47cc-886c-381493d3a736",
   "metadata": {},
   "source": [
    "### Reject price outliers"
   ]
  },
  {
   "cell_type": "code",
   "execution_count": 44,
   "id": "b02d4d0e-8282-4967-9d6f-b55fc7ab49eb",
   "metadata": {},
   "outputs": [
    {
     "name": "stdout",
     "output_type": "stream",
     "text": [
      "162995\n",
      "162995\n"
     ]
    }
   ],
   "source": [
    "data = pd.read_csv('../data/apartments_train.csv')\n",
    "features = ['area_total', 'rooms', 'ceiling','area_kitchen','bathrooms_shared','bathrooms_private','price']\n",
    "data_selected = data[features]\n",
    "print(data_selected.size)\n",
    "data = preprocess(data=data_selected, price_outlier_rejection=False,fill=True)\n",
    "print(data.size)\n",
    "X, y = data[features[:-1]], data['price']\n",
    "X_train, X_test, y_train, y_test = train_test_split(X, y, test_size=0.2, random_state=42)"
   ]
  },
  {
   "cell_type": "code",
   "execution_count": 45,
   "id": "08af652a-ac3d-42a4-9566-6ebec5265640",
   "metadata": {},
   "outputs": [
    {
     "name": "stdout",
     "output_type": "stream",
     "text": [
      "Test MSE: 1101.2092172784141\n"
     ]
    },
    {
     "data": {
      "text/plain": [
       "Text(0, 0.5, 'Ground Truth')"
      ]
     },
     "execution_count": 45,
     "metadata": {},
     "output_type": "execute_result"
    },
    {
     "data": {
      "image/png": "[encoded data removed]",
      "text/plain": [
       "<Figure size 432x288 with 1 Axes>"
      ]
     },
     "metadata": {},
     "output_type": "display_data"
    }
   ],
   "source": [
    "adaboost3 = AdaBoostRegressor(\n",
    "    n_estimators=1500,\n",
    "    learning_rate=0.05,\n",
    "    loss='square',\n",
    "    random_state=42\n",
    ")\n",
    "adaboost3.fit(X_train, y_train)\n",
    "ada_prediction = adaboost3.predict(X_test)\n",
    "ada_mse = round(mean_squared_error(ada_prediction, y_test), 2)\n",
    "print('Test MSE:', ada_mse/scaling_factor)\n",
    "plt.scatter(ada_prediction, y_test)\n",
    "plt.xlabel('Adaboost prediction')\n",
    "plt.ylabel('Ground Truth')"
   ]
  },
  {
   "cell_type": "code",
   "execution_count": null,
   "id": "ce655d67-c9b3-43c2-903f-13d1f9250a31",
   "metadata": {},
   "outputs": [],
   "source": []
  },
  {
   "cell_type": "code",
   "execution_count": null,
   "id": "d7a8fa7a-e814-4cf6-b387-3f6edd55bcb2",
   "metadata": {},
   "outputs": [],
   "source": []
  },
  {
   "cell_type": "code",
   "execution_count": null,
   "id": "e06bc575-e049-44b4-8809-b2af6a957dd9",
   "metadata": {},
   "outputs": [],
   "source": []
  },
  {
   "cell_type": "code",
   "execution_count": null,
   "id": "4232d3b5-ed62-4eae-ad34-ba255a859f83",
   "metadata": {},
   "outputs": [],
   "source": []
  },
  {
   "cell_type": "code",
   "execution_count": null,
   "id": "788409db-a602-487b-a6ea-6d9933a1ce97",
   "metadata": {},
   "outputs": [],
   "source": []
  }
 ],
 "metadata": {
  "kernelspec": {
   "display_name": "Python 3",
   "language": "python",
   "name": "python3"
  },
  "language_info": {
   "codemirror_mode": {
    "name": "ipython",
    "version": 3
   },
   "file_extension": ".py",
   "mimetype": "text/x-python",
   "name": "python",
   "nbconvert_exporter": "python",
   "pygments_lexer": "ipython3",
   "version": "3.8.8"
  }
 },
 "nbformat": 4,
 "nbformat_minor": 5
}
