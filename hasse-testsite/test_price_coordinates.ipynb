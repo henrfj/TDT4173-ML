{
 "cells": [
  {
   "cell_type": "code",
   "execution_count": 23,
   "id": "711fd212-6125-4e72-87cb-bdde24c7f988",
   "metadata": {},
   "outputs": [
    {
     "name": "stdout",
     "output_type": "stream",
     "text": [
      "Collecting xyzservices\n",
      "  Downloading xyzservices-2021.9.1-py3-none-any.whl (34 kB)\n",
      "Installing collected packages: xyzservices\n",
      "Successfully installed xyzservices-2021.9.1\n"
     ]
    },
    {
     "name": "stderr",
     "output_type": "stream",
     "text": [
      "WARNING: Ignoring invalid distribution -ywinpty (c:\\programdata\\anaconda3\\lib\\site-packages)\n",
      "WARNING: Ignoring invalid distribution -ywinpty (c:\\programdata\\anaconda3\\lib\\site-packages)\n",
      "WARNING: Ignoring invalid distribution -ywinpty (c:\\programdata\\anaconda3\\lib\\site-packages)\n",
      "WARNING: Ignoring invalid distribution -ywinpty (c:\\programdata\\anaconda3\\lib\\site-packages)\n",
      "WARNING: Ignoring invalid distribution -ywinpty (c:\\programdata\\anaconda3\\lib\\site-packages)\n"
     ]
    }
   ],
   "source": [
    "!pip install xyzservices"
   ]
  },
  {
   "cell_type": "code",
   "execution_count": 32,
   "id": "206e0e9b-f996-417b-8bef-6b5401ede8f2",
   "metadata": {},
   "outputs": [],
   "source": [
    "import numpy as np\n",
    "import pandas as pd\n",
    "import xyzservices.providers as xyz\n",
    "\n",
    "from bokeh.plotting import figure, show, output_notebook, ColumnDataSource\n",
    "from bokeh.tile_providers import CARTODBPOSITRON, get_provider, STAMEN_TERRAIN\n",
    "from bokeh.models import ColorBar, Select\n",
    "from bokeh.palettes import RdYlGn\n",
    "from bokeh.transform import linear_cmap, log_cmap\n",
    "from bokeh.models.widgets import Slider\n",
    "from bokeh.layouts import row, column\n"
   ]
  },
  {
   "cell_type": "code",
   "execution_count": null,
   "id": "98d503ee-dade-4fb6-887b-b1c505d74bc7",
   "metadata": {},
   "outputs": [],
   "source": [
    "fractionOfData = 0.01"
   ]
  },
  {
   "cell_type": "code",
   "execution_count": 25,
   "id": "2f140fb7-5ff3-471a-a696-438cf6e4a8eb",
   "metadata": {},
   "outputs": [],
   "source": [
    "def x_coord(x, y):\n",
    "    \n",
    "    lat = x\n",
    "    lon = y\n",
    "    \n",
    "    r_major = 6378137.000\n",
    "    x = r_major * np.radians(lon)\n",
    "    scale = x/lon\n",
    "    y = 180.0/np.pi * np.log(np.tan(np.pi/4.0 + \n",
    "        lat * (np.pi/180.0)/2.0)) * scale\n",
    "    return (x, y)"
   ]
  },
  {
   "cell_type": "code",
   "execution_count": 26,
   "id": "0ebee6b2-e9ea-4ac3-a74d-d9a083144f5a",
   "metadata": {},
   "outputs": [
    {
     "data": {
      "text/html": [
       "<div>\n",
       "<style scoped>\n",
       "    .dataframe tbody tr th:only-of-type {\n",
       "        vertical-align: middle;\n",
       "    }\n",
       "\n",
       "    .dataframe tbody tr th {\n",
       "        vertical-align: top;\n",
       "    }\n",
       "\n",
       "    .dataframe thead th {\n",
       "        text-align: right;\n",
       "    }\n",
       "</style>\n",
       "<table border=\"1\" class=\"dataframe\">\n",
       "  <thead>\n",
       "    <tr style=\"text-align: right;\">\n",
       "      <th></th>\n",
       "      <th>apartment_id</th>\n",
       "      <th>price</th>\n",
       "      <th>latitude</th>\n",
       "      <th>longitude</th>\n",
       "    </tr>\n",
       "  </thead>\n",
       "  <tbody>\n",
       "    <tr>\n",
       "      <th>0</th>\n",
       "      <td>0</td>\n",
       "      <td>7139520.0</td>\n",
       "      <td>55.544046</td>\n",
       "      <td>37.478055</td>\n",
       "    </tr>\n",
       "    <tr>\n",
       "      <th>1</th>\n",
       "      <td>12</td>\n",
       "      <td>4045140.0</td>\n",
       "      <td>55.544046</td>\n",
       "      <td>37.478055</td>\n",
       "    </tr>\n",
       "    <tr>\n",
       "      <th>2</th>\n",
       "      <td>55</td>\n",
       "      <td>9500240.0</td>\n",
       "      <td>55.544046</td>\n",
       "      <td>37.478055</td>\n",
       "    </tr>\n",
       "    <tr>\n",
       "      <th>3</th>\n",
       "      <td>104</td>\n",
       "      <td>4326660.0</td>\n",
       "      <td>55.544046</td>\n",
       "      <td>37.478055</td>\n",
       "    </tr>\n",
       "    <tr>\n",
       "      <th>4</th>\n",
       "      <td>106</td>\n",
       "      <td>4333980.0</td>\n",
       "      <td>55.544046</td>\n",
       "      <td>37.478055</td>\n",
       "    </tr>\n",
       "  </tbody>\n",
       "</table>\n",
       "</div>"
      ],
      "text/plain": [
       "   apartment_id      price   latitude  longitude\n",
       "0             0  7139520.0  55.544046  37.478055\n",
       "1            12  4045140.0  55.544046  37.478055\n",
       "2            55  9500240.0  55.544046  37.478055\n",
       "3           104  4326660.0  55.544046  37.478055\n",
       "4           106  4333980.0  55.544046  37.478055"
      ]
     },
     "execution_count": 26,
     "metadata": {},
     "output_type": "execute_result"
    }
   ],
   "source": [
    "train_apartment = pd.read_csv('../data/apartments_train.csv')\n",
    "train_building = pd.read_csv('../data/buildings_train.csv')\n",
    "train = pd.merge(train_apartment, train_building, left_on='building_id', right_on='id')\n",
    "#train.rename(columns={'id_x' : 'apartment_id', 'id_y' : 'building_id'}, inplace=True)\n",
    "train.rename(columns={'id_x' : 'apartment_id'}, inplace=True)\n",
    "list = ['id_y', 'seller', 'area_total', 'area_kitchen',\n",
    "       'area_living', 'floor', 'rooms', 'layout', 'ceiling',\n",
    "       'bathrooms_shared', 'bathrooms_private', 'windows_court',\n",
    "       'windows_street', 'balconies', 'loggias', 'condition', 'phones', 'building_id', 'new', 'district', 'street',\n",
    "       'address', 'constructed', 'material', 'stories', 'elevator_without',\n",
    "       'elevator_passenger', 'elevator_service', 'parking', 'garbage_chute',\n",
    "       'heating']\n",
    "train.drop(list, axis=1, inplace=True)\n",
    "\n",
    "train.head()"
   ]
  },
  {
   "cell_type": "code",
   "execution_count": 33,
   "id": "1a2bfced-e749-4f3f-9257-d1b657ed824b",
   "metadata": {},
   "outputs": [],
   "source": [
    "#Establishes color palette and data source.\n",
    "pal= RdYlGn[10]\n",
    "\n",
    "\n",
    "\n",
    "\n",
    "\n",
    "source = ColumnDataSource(data=train)\n",
    "\n",
    "#Establishes color mapper gradient, hover information, and slider widget.\n",
    "mapper = log_cmap(field_name = \"price\", palette = pal, low=min(train.price), high=max(train.price))\n",
    "tooltips = [(\"Price\",\"@price\")]\n",
    "\n",
    "#Defines scatter plot attributes and add map tile. Implement colors and data points.\n",
    "fig = figure(x_axis_type = 'mercator', y_axis_type = 'mercator', tooltips = tooltips, title = 'Moscow Residential Housing Prices')\n",
    "fig.add_tile(get_provider(STAMEN_TERRAIN))\n",
    "fig.circle(x = 'longitude', y = 'latitude', line_color = mapper,color=mapper, source=source)\n",
    "\n",
    "#Defines color bar attributes and location\n",
    "color_bar = ColorBar(color_mapper=mapper['transform'], width=8, location=(0,0))\n",
    "fig.add_layout(color_bar, 'right')\n",
    "\n",
    "#Defines layout of graph and widgets\n",
    "layout = column(fig)\n",
    "\n",
    "#Calls figure\n",
    "show(layout)"
   ]
  },
  {
   "cell_type": "code",
   "execution_count": null,
   "id": "9c2077de-0b97-4540-b916-b5a978632585",
   "metadata": {},
   "outputs": [],
   "source": []
  },
  {
   "cell_type": "code",
   "execution_count": null,
   "id": "0f597e47-03f3-4246-982b-de9f70f9ab8c",
   "metadata": {},
   "outputs": [],
   "source": []
  },
  {
   "cell_type": "code",
   "execution_count": null,
   "id": "29bda16f-1814-4f4e-ba4d-c370e906def7",
   "metadata": {},
   "outputs": [],
   "source": []
  }
 ],
 "metadata": {
  "kernelspec": {
   "display_name": "Python 3",
   "language": "python",
   "name": "python3"
  },
  "language_info": {
   "codemirror_mode": {
    "name": "ipython",
    "version": 3
   },
   "file_extension": ".py",
   "mimetype": "text/x-python",
   "name": "python",
   "nbconvert_exporter": "python",
   "pygments_lexer": "ipython3",
   "version": "3.8.8"
  }
 },
 "nbformat": 4,
 "nbformat_minor": 5
}
