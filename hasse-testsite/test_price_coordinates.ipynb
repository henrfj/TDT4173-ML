{
 "cells": [
  {
   "cell_type": "markdown",
   "id": "1f41329d-9d97-41a7-aad1-ac98199a06d7",
   "metadata": {},
   "source": [
    "Import necessary modules using \"!pip install _module_\""
   ]
  },
  {
   "cell_type": "code",
   "execution_count": 1,
   "id": "206e0e9b-f996-417b-8bef-6b5401ede8f2",
   "metadata": {},
   "outputs": [],
   "source": [
    "import numpy as np\n",
    "import pandas as pd\n",
    "import xyzservices.providers as xyz\n",
    "\n",
    "from bokeh.plotting import figure, show, output_notebook, ColumnDataSource\n",
    "from bokeh.tile_providers import CARTODBPOSITRON, get_provider, STAMEN_TERRAIN\n",
    "from bokeh.models import ColorBar, Select\n",
    "from bokeh.palettes import Turbo256\n",
    "from bokeh.transform import linear_cmap, log_cmap\n",
    "from bokeh.models.widgets import Slider\n",
    "from bokeh.layouts import row, column"
   ]
  },
  {
   "cell_type": "code",
   "execution_count": null,
   "id": "bca17bf2-a23e-4189-9947-755d84e61339",
   "metadata": {},
   "outputs": [],
   "source": []
  },
  {
   "cell_type": "code",
   "execution_count": null,
   "id": "98d503ee-dade-4fb6-887b-b1c505d74bc7",
   "metadata": {},
   "outputs": [],
   "source": [
    "#Use only part of data to keep figure surveyable\n",
    "fractionOfData = 1.0"
   ]
  },
  {
   "cell_type": "code",
   "execution_count": null,
   "id": "3a2c403b-46c1-4ed1-ba43-9fc572255d92",
   "metadata": {},
   "outputs": [],
   "source": [
    "train = pd.merge(train_apartment, train_building, left_on='building_id', right_on='id')\n"
   ]
  },
  {
   "cell_type": "code",
   "execution_count": null,
   "id": "79c53e67-e095-4ed6-b0bc-a3a63cf6e55e",
   "metadata": {},
   "outputs": [],
   "source": [
    "train.columns"
   ]
  },
  {
   "cell_type": "code",
   "execution_count": 3,
   "id": "0ebee6b2-e9ea-4ac3-a74d-d9a083144f5a",
   "metadata": {},
   "outputs": [],
   "source": [
    "train_apartment = pd.read_csv('../data/apartments_train.csv')\n",
    "train_building = pd.read_csv('../data/buildings_train.csv')\n",
    "train = pd.merge(train_apartment, train_building, left_on='building_id', right_on='id')\n",
    "#train.rename(columns={'id_x' : 'apartment_id', 'id_y' : 'building_id'}, inplace=True)\n",
    "train.rename(columns={'id_x' : 'apartment_id'}, inplace=True)\n",
    "list = ['id_y', 'seller', 'area_total', 'area_kitchen',\n",
    "       'area_living', 'floor', 'rooms', 'layout', 'ceiling',\n",
    "       'bathrooms_shared', 'bathrooms_private', 'windows_court',\n",
    "       'windows_street', 'balconies', 'loggias', 'condition', 'phones', 'building_id', 'new', 'district', 'street',\n",
    "       'address', 'constructed', 'material', 'stories', 'elevator_without',\n",
    "       'elevator_passenger', 'elevator_service', 'parking', 'garbage_chute',\n",
    "       'heating']\n",
    "train.drop(list, axis=1, inplace=True)\n"
   ]
  },
  {
   "cell_type": "code",
   "execution_count": null,
   "id": "5ae244d9-1787-49ef-befc-46220b54df6c",
   "metadata": {},
   "outputs": [],
   "source": [
    "train.columns"
   ]
  },
  {
   "cell_type": "code",
   "execution_count": 4,
   "id": "1a2bfced-e749-4f3f-9257-d1b657ed824b",
   "metadata": {},
   "outputs": [],
   "source": [
    "#Establishes color palette and data source.\n",
    "pal= Turbo256\n",
    "\n",
    "source = ColumnDataSource(data=train)\n",
    "\n",
    "#Establishes color mapper gradient, hover information, and slider widget.\n",
    "mapper = log_cmap(field_name = \"price\", palette = pal, low=min(train.price), high=max(train.price))\n",
    "tooltips = [(\"Price\",\"@price\")]\n",
    "\n",
    "#Defines scatter plot attributes and add map tile. Implement colors and data points.\n",
    "fig = figure(x_axis_type = 'mercator', y_axis_type = 'mercator', tooltips = tooltips, title = 'Moscow Residential Housing Prices')\n",
    "fig.add_tile(get_provider(STAMEN_TERRAIN))\n",
    "fig.circle(x = 'longitude', y = 'latitude', line_color = mapper,color=mapper, source=source)\n",
    "\n",
    "#Defines color bar attributes and location\n",
    "color_bar = ColorBar(color_mapper=mapper['transform'], width=8, location=(0,0))\n",
    "fig.add_layout(color_bar, 'right')\n",
    "\n",
    "#Defines layout of graph and widgets\n",
    "layout = column(fig)\n",
    "\n",
    "#Calls figure\n",
    "show(layout)"
   ]
  },
  {
   "cell_type": "code",
   "execution_count": null,
   "id": "5c46b1b0-a96a-472c-802e-4646dc07e1c3",
   "metadata": {},
   "outputs": [],
   "source": []
  },
  {
   "cell_type": "code",
   "execution_count": null,
   "id": "3bd71812-5e6f-498d-979c-0558faa50980",
   "metadata": {},
   "outputs": [],
   "source": []
  }
 ],
 "metadata": {
  "kernelspec": {
   "display_name": "Python 3",
   "language": "python",
   "name": "python3"
  },
  "language_info": {
   "codemirror_mode": {
    "name": "ipython",
    "version": 3
   },
   "file_extension": ".py",
   "mimetype": "text/x-python",
   "name": "python",
   "nbconvert_exporter": "python",
   "pygments_lexer": "ipython3",
   "version": "3.8.8"
  }
 },
 "nbformat": 4,
 "nbformat_minor": 5
}
