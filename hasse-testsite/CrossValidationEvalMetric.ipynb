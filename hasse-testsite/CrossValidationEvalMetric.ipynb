{
 "cells": [
  {
   "cell_type": "code",
   "execution_count": 1,
   "id": "bc11f573-16b4-4042-8bd5-1a1dd9280775",
   "metadata": {},
   "outputs": [],
   "source": [
    "%run ../common_utils.py"
   ]
  },
  {
   "cell_type": "markdown",
   "id": "1538ca05-d9e7-44bd-92c9-d8bcd6beea5c",
   "metadata": {},
   "source": [
    "# Extra functions"
   ]
  },
  {
   "cell_type": "code",
   "execution_count": 2,
   "id": "9f762fa0-36ca-4c34-ac10-0fb9fdc5311c",
   "metadata": {},
   "outputs": [],
   "source": [
    "def lgbm_groupKFold(number_of_splits, model, X_train, y_train):    \n",
    "    X_train = X_train.copy()\n",
    "    y_train = y_train.copy()\n",
    "    \n",
    "    scores = []\n",
    "    gkf = GroupKFold(n_splits=numberSplits)\n",
    "    groups = X_train[\"building_id\"]\n",
    "    best_score = 1\n",
    "    i = 0\n",
    "    \n",
    "    for train_index, test_index in gkf.split(X_train, y_train, groups):\n",
    "        X_train2, X_test = X_train.iloc[train_index], X_train.iloc[test_index]\n",
    "        y_train2, y_test = y_train.iloc[train_index], y_train.iloc[test_index]\n",
    "        model.fit(\n",
    "            X_train2,\n",
    "            y_train2,\n",
    "            eval_set=[(X_test, y_test)],\n",
    "            eval_metric=custom_asymmetric_eval,\n",
    "            verbose=False,\n",
    "        )    \n",
    "        prediction = np.exp(model.predict(X_test))\n",
    "        score = root_mean_squared_log_error(prediction, np.exp(y_test))\n",
    "        if score <  best_score:\n",
    "            best_score = score\n",
    "            best_model = model\n",
    "            best_index = i\n",
    "        scores.append(score)\n",
    "        i += 1\n",
    "    return scores, np.average(scores), best_model, best_index"
   ]
  },
  {
   "cell_type": "code",
   "execution_count": null,
   "id": "ad8532ed-ff4b-47ef-a110-da021ca0ae0b",
   "metadata": {},
   "outputs": [],
   "source": []
  },
  {
   "cell_type": "raw",
   "id": "0438268c-fcea-4a34-be4a-ffa9881658fd",
   "metadata": {},
   "source": []
  },
  {
   "cell_type": "code",
   "execution_count": null,
   "id": "80e0a073-b63c-4ca6-88fc-73210c66afd0",
   "metadata": {},
   "outputs": [],
   "source": []
  },
  {
   "cell_type": "markdown",
   "id": "712b1b1c-4521-48ae-a0db-7cbffa23d060",
   "metadata": {},
   "source": [
    "# Import Data"
   ]
  },
  {
   "cell_type": "code",
   "execution_count": 3,
   "id": "74facc85-621b-4253-8023-517f27944910",
   "metadata": {},
   "outputs": [],
   "source": [
    "train, test, metadata = load_all_data()"
   ]
  },
  {
   "cell_type": "code",
   "execution_count": 4,
   "id": "8bd91d52-41cb-4701-939b-4e99f0c590db",
   "metadata": {},
   "outputs": [],
   "source": [
    "nonCategorical, categorical = get_cat_and_non_cat_data(metadata)\n",
    "categorical.remove('district')\n",
    "all_features = list(train.columns)\n",
    "all_features.remove('price')\n",
    "numerical_features = ['area_total','area_kitchen','area_living','floor','rooms','ceiling',\n",
    "    'bathrooms_shared','bathrooms_private','balconies','loggias','phones','building_id','constructed','stories']"
   ]
  },
  {
   "cell_type": "code",
   "execution_count": 5,
   "id": "fa1cbb77-7900-44ec-a0be-71c426972d22",
   "metadata": {},
   "outputs": [],
   "source": [
    "categorical_to_numerical(train, ['street','address'])\n",
    "categorical_to_numerical(test, ['street','address'])"
   ]
  },
  {
   "cell_type": "code",
   "execution_count": 6,
   "id": "d92ad325-b473-4665-a69e-0f37ab2f4894",
   "metadata": {},
   "outputs": [],
   "source": [
    "%%capture --no-display\n",
    "X_train, y_train, X_test, y_test, test_labels = pre_process_numerical(features = all_features, numerical_features = numerical_features, train = train, test = test,\n",
    "                    outliers_value=7, val_split=0.2, random_state=42, scaler=\"std\",\n",
    "                    add_R=\"True\", add_rel_height=\"True\", droptable=[],\n",
    "                    one_hot_encode=True, cat_features=categorical, drop_old=True)\n",
    "\n",
    "y_train_log = np.log(y_train)\n",
    "y_test_log = np.log(y_test)\n",
    "trainDataLog = pd.concat([X_train, y_train_log],axis=1)\n",
    "testDataLog = pd.concat([X_test, y_test_log],axis=1)"
   ]
  },
  {
   "cell_type": "markdown",
   "id": "91c8d38f-b74b-4df5-b07e-674b5aaaafa6",
   "metadata": {},
   "source": [
    "# Load Models"
   ]
  },
  {
   "cell_type": "markdown",
   "id": "6e678a49-b4ee-48ee-97de-68708ba7864f",
   "metadata": {},
   "source": [
    "## Imports for models"
   ]
  },
  {
   "cell_type": "code",
   "execution_count": 7,
   "id": "3780f3c9-f424-405a-87b3-8ae65aa86fe8",
   "metadata": {},
   "outputs": [],
   "source": [
    "from sklearn.ensemble import RandomForestRegressor\n",
    "from sklearn.ensemble import GradientBoostingRegressor\n",
    "import lightgbm\n",
    "from catboost import CatBoostRegressor\n",
    "from sklearn import metrics\n",
    "from sklearn.model_selection import KFold, StratifiedKFold, GroupKFold"
   ]
  },
  {
   "cell_type": "markdown",
   "id": "94b8955b-7d50-450e-836f-e5ec663637eb",
   "metadata": {},
   "source": [
    "## Imports for plots"
   ]
  },
  {
   "cell_type": "code",
   "execution_count": 8,
   "id": "2dc9ac55-7f2e-4df8-b7b1-c2229aab9252",
   "metadata": {},
   "outputs": [],
   "source": [
    "import seaborn as sns"
   ]
  },
  {
   "cell_type": "markdown",
   "id": "67f584c8-0edf-42c4-a1eb-306827ad8a1c",
   "metadata": {},
   "source": [
    "## Define models and parameters"
   ]
  },
  {
   "cell_type": "code",
   "execution_count": 19,
   "id": "291d6070-792b-43b7-88dc-bbbef1afe71a",
   "metadata": {},
   "outputs": [],
   "source": [
    "catboost = CatBoostRegressor(\n",
    "    loss_function=metrics.mean_squared_log_error,\n",
    "    eval_metric=metrics.mean_squared_log_error,\n",
    "    n_estimators=500,\n",
    "    learning_rate=0.1,\n",
    "    thread_count=-1,\n",
    "    depth=7,\n",
    "    silent=True,\n",
    "    random_seed=42,\n",
    "    bagging_temperature=0.2\n",
    "#     od_type=\"Iter\"\n",
    ")"
   ]
  },
  {
   "cell_type": "code",
   "execution_count": 16,
   "id": "ddf4d038-4acd-4bc4-a59c-b39e55041984",
   "metadata": {},
   "outputs": [],
   "source": [
    "light_gbm = lgb.LGBMRegressor(\n",
    "    num_leaves=10,\n",
    "    max_depth=5, \n",
    "    random_state=42, \n",
    "    silent=True, \n",
    "    metric='mse',\n",
    "    n_jobs=4, \n",
    "    n_estimators=2000,\n",
    "    colsample_bytree=0.95,\n",
    "    subsample=0.9,\n",
    "    learning_rate=0.05\n",
    ")"
   ]
  },
  {
   "cell_type": "code",
   "execution_count": 17,
   "id": "b153e2d4-4632-41e7-97ad-155881c22928",
   "metadata": {},
   "outputs": [],
   "source": [
    "grad_boost_regr = GradientBoostingRegressor(\n",
    "    learning_rate=0.01,\n",
    "    n_estimators=2000,\n",
    "    subsample=1.0, \n",
    "    criterion='mse', \n",
    "    min_samples_split=4, \n",
    "    min_samples_leaf=2, \n",
    "    min_weight_fraction_leaf=0.0, \n",
    "    max_depth=9, \n",
    "    min_impurity_decrease=0.0, \n",
    "    init=None, \n",
    "    random_state=0, \n",
    "    max_features=None,\n",
    "    alpha=0.9,\n",
    "    verbose=0,\n",
    "    max_leaf_nodes=None,\n",
    "    warm_start=False,\n",
    "    validation_fraction=0.1,\n",
    "    n_iter_no_change=None,\n",
    "    tol=0.0001,\n",
    "    ccp_alpha=0.0\n",
    ")"
   ]
  },
  {
   "cell_type": "code",
   "execution_count": null,
   "id": "37c911db-2f81-48ff-b3ad-65af3b2cb660",
   "metadata": {},
   "outputs": [],
   "source": []
  },
  {
   "cell_type": "code",
   "execution_count": null,
   "id": "e581208a-fb21-4729-b277-c9f2d04b84bd",
   "metadata": {},
   "outputs": [],
   "source": []
  },
  {
   "cell_type": "markdown",
   "id": "b312ce5f-a5c5-42ee-8782-8553d6428e69",
   "metadata": {},
   "source": [
    "# Metrics"
   ]
  },
  {
   "cell_type": "code",
   "execution_count": 16,
   "id": "88ac069f-696a-4d37-a532-9c20a549a5ce",
   "metadata": {},
   "outputs": [],
   "source": [
    "def custom_asymmetric_eval(y_true, y_pred):\n",
    "    loss = root_mean_squared_log_error(y_true,y_pred)\n",
    "    return \"custom_asymmetric_eval\", np.mean(loss), False"
   ]
  },
  {
   "cell_type": "code",
   "execution_count": null,
   "id": "8cbaaa9b-1080-486a-aa06-cd29c376e827",
   "metadata": {},
   "outputs": [],
   "source": []
  },
  {
   "cell_type": "code",
   "execution_count": null,
   "id": "60477202-a470-4114-a046-e1c4fe54b431",
   "metadata": {},
   "outputs": [],
   "source": []
  },
  {
   "cell_type": "code",
   "execution_count": null,
   "id": "a8d24eb1-6bce-4f2e-b9d5-0af4d2d15c79",
   "metadata": {},
   "outputs": [],
   "source": []
  },
  {
   "cell_type": "markdown",
   "id": "6b289763-3047-4ee8-b007-4984ba478762",
   "metadata": {},
   "source": [
    "# Apply metric to lgbm"
   ]
  },
  {
   "cell_type": "code",
   "execution_count": 249,
   "id": "8eaddfe4-46e9-4fa9-85a1-f81c986c3619",
   "metadata": {},
   "outputs": [
    {
     "name": "stderr",
     "output_type": "stream",
     "text": [
      "<ipython-input-230-72930f98a8a8>:2: RuntimeWarning: invalid value encountered in log1p\n",
      "  return np.sqrt(np.mean((np.log1p(ypred) - np.log1p(y)) ** 2))\n",
      "<ipython-input-230-72930f98a8a8>:8: RuntimeWarning: invalid value encountered in log1p\n",
      "  grad = (1/(N * RMSLE(ypred, y) )) * (np.log1p(ypred) - np.log1p(y)) / (1 + y)\n"
     ]
    },
    {
     "data": {
      "text/plain": [
       "LGBMRegressor(early_stopping_rounds=10, n_estimators=10000,\n",
       "              objective=<function RMSLEobj at 0x000001445FB613A0>,\n",
       "              random_state=33)"
      ]
     },
     "execution_count": 249,
     "metadata": {},
     "output_type": "execute_result"
    }
   ],
   "source": [
    "gbm6 = lightgbm.LGBMRegressor(random_state=33,\n",
    "                              early_stopping_rounds = 10,\n",
    "                              n_estimators=10000\n",
    "                             )\n",
    "\n",
    "#gbm6.set_params(**{'objective': custom_asymmetric_objective}, metrics = [\"mse\", 'mae'])\n",
    "\n",
    "gbm6.fit(\n",
    "    X_train,\n",
    "    np.log(y_train),\n",
    "    eval_set=[(X_test, np.log(y_test))],\n",
    "    eval_metric=custom_asymmetric_eval,\n",
    "    verbose=False,\n",
    ")"
   ]
  },
  {
   "cell_type": "code",
   "execution_count": 250,
   "id": "b7457b49-8a40-4acb-8ea7-7a360d61ea07",
   "metadata": {},
   "outputs": [
    {
     "name": "stdout",
     "output_type": "stream",
     "text": [
      "LGBM RMSLE: 15.787409988377636\n"
     ]
    }
   ],
   "source": [
    "lgbm_prediction = np.exp(gbm6.predict(X_test))\n",
    "lgbm_rmsle = root_mean_squared_log_error(lgbm_prediction, y_test)\n",
    "print('LGBM RMSLE:', lgbm_rmsle)"
   ]
  },
  {
   "cell_type": "code",
   "execution_count": 219,
   "id": "013035b4-3f6a-42c6-b4ff-d4bdb7ff7238",
   "metadata": {},
   "outputs": [
    {
     "data": {
      "text/plain": [
       "Text(0, 0.5, 'Ground Truth')"
      ]
     },
     "execution_count": 219,
     "metadata": {},
     "output_type": "execute_result"
    },
    {
     "data": {
      "image/png": "[encoded data removed]",
      "text/plain": [
       "<Figure size 432x288 with 1 Axes>"
      ]
     },
     "metadata": {
      "needs_background": "light"
     },
     "output_type": "display_data"
    }
   ],
   "source": [
    "plt.scatter(lgbm_prediction, y_test)\n",
    "plt.xlabel('LGBM prediction')\n",
    "plt.ylabel('Ground Truth')"
   ]
  },
  {
   "cell_type": "markdown",
   "id": "28fdfea9-c9ea-4e13-b898-6a2d797fa878",
   "metadata": {},
   "source": [
    "## Submission lgbm"
   ]
  },
  {
   "cell_type": "code",
   "execution_count": 220,
   "id": "257fda0d-c00f-4ed6-ac20-474834a0a18f",
   "metadata": {},
   "outputs": [],
   "source": [
    "lgb_prediction = np.exp(gbm6.predict(test_labels))\n",
    "df = pd.DataFrame(lgb_prediction, columns = ['price_prediction'])\n",
    "test.rename(columns={'apartment_id' : 'id'}, inplace=True)\n",
    "result = pd.concat([test['id'], df], axis=1)\n",
    "result = result.sort_values(by='id')\n",
    "result[['id','price_prediction']].to_csv('.\\submissions\\LGBM2.0.csv', index=False)"
   ]
  },
  {
   "cell_type": "code",
   "execution_count": null,
   "id": "bbe375a7-8d13-4b65-b761-5af0980abd47",
   "metadata": {},
   "outputs": [],
   "source": []
  },
  {
   "cell_type": "markdown",
   "id": "0bdb7093-4734-4927-8a4a-be27b3ec47df",
   "metadata": {},
   "source": [
    "# Actual Cross Validation"
   ]
  },
  {
   "cell_type": "code",
   "execution_count": 36,
   "id": "4116739d-d3f8-4645-93b1-ae4324e64f78",
   "metadata": {},
   "outputs": [],
   "source": [
    "%%capture --no-display\n",
    "X_train, y_train, test_labels = pre_process_numerical(features = all_features, numerical_features = numerical_features, train = train, test = test,\n",
    "                    outliers_value=7, val_data=False, val_split=0.0, random_state=42, scaler=\"std\",\n",
    "                         add_R=\"True\", add_rel_height=\"True\", droptable=[],\n",
    "                    one_hot_encode=True, cat_features=categorical, drop_old=True)\n",
    "\n",
    "y_train_log = np.log(y_train)\n",
    "trainDataLog = pd.concat([X_train, y_train_log],axis=1)"
   ]
  },
  {
   "cell_type": "markdown",
   "id": "03200dbb-0ac2-4bca-9e09-a88d6fb2e460",
   "metadata": {},
   "source": [
    "## Normal KFold"
   ]
  },
  {
   "cell_type": "code",
   "execution_count": 38,
   "id": "5c362db0-714e-4c73-9b82-bdc27f92d86c",
   "metadata": {},
   "outputs": [
    {
     "name": "stderr",
     "output_type": "stream",
     "text": [
      "C:\\ProgramData\\Anaconda3\\lib\\site-packages\\lightgbm\\engine.py:153: UserWarning: Found `early_stopping_rounds` in params. Will use it instead of argument\n",
      "  _log_warning(\"Found `{}` in params. Will use it instead of argument\".format(alias))\n"
     ]
    },
    {
     "name": "stdout",
     "output_type": "stream",
     "text": [
      "[LightGBM] [Warning] early_stopping_round is set=10, early_stopping_rounds=10 will be ignored. Current value: early_stopping_round=10\n"
     ]
    },
    {
     "name": "stderr",
     "output_type": "stream",
     "text": [
      "C:\\ProgramData\\Anaconda3\\lib\\site-packages\\lightgbm\\engine.py:153: UserWarning: Found `early_stopping_rounds` in params. Will use it instead of argument\n",
      "  _log_warning(\"Found `{}` in params. Will use it instead of argument\".format(alias))\n"
     ]
    },
    {
     "name": "stdout",
     "output_type": "stream",
     "text": [
      "[LightGBM] [Warning] early_stopping_round is set=10, early_stopping_rounds=10 will be ignored. Current value: early_stopping_round=10\n"
     ]
    },
    {
     "name": "stderr",
     "output_type": "stream",
     "text": [
      "C:\\ProgramData\\Anaconda3\\lib\\site-packages\\lightgbm\\engine.py:153: UserWarning: Found `early_stopping_rounds` in params. Will use it instead of argument\n",
      "  _log_warning(\"Found `{}` in params. Will use it instead of argument\".format(alias))\n"
     ]
    },
    {
     "name": "stdout",
     "output_type": "stream",
     "text": [
      "[LightGBM] [Warning] early_stopping_round is set=10, early_stopping_rounds=10 will be ignored. Current value: early_stopping_round=10\n"
     ]
    },
    {
     "name": "stderr",
     "output_type": "stream",
     "text": [
      "C:\\ProgramData\\Anaconda3\\lib\\site-packages\\lightgbm\\engine.py:153: UserWarning: Found `early_stopping_rounds` in params. Will use it instead of argument\n",
      "  _log_warning(\"Found `{}` in params. Will use it instead of argument\".format(alias))\n"
     ]
    },
    {
     "name": "stdout",
     "output_type": "stream",
     "text": [
      "[LightGBM] [Warning] early_stopping_round is set=10, early_stopping_rounds=10 will be ignored. Current value: early_stopping_round=10\n"
     ]
    },
    {
     "name": "stderr",
     "output_type": "stream",
     "text": [
      "C:\\ProgramData\\Anaconda3\\lib\\site-packages\\lightgbm\\engine.py:153: UserWarning: Found `early_stopping_rounds` in params. Will use it instead of argument\n",
      "  _log_warning(\"Found `{}` in params. Will use it instead of argument\".format(alias))\n"
     ]
    },
    {
     "name": "stdout",
     "output_type": "stream",
     "text": [
      "[LightGBM] [Warning] early_stopping_round is set=10, early_stopping_rounds=10 will be ignored. Current value: early_stopping_round=10\n",
      "scores:  [0.13425254321104668, 0.1213167578775224, 0.1335170354354575, 0.12140162852772553, 0.12950561578450467]\n",
      "average score:  0.12799871616725136\n"
     ]
    }
   ],
   "source": [
    "%%capture --no-display\n",
    "numberSplits = 5\n",
    "scores = []\n",
    "\n",
    "model = lightgbm.LGBMRegressor(random_state=33,\n",
    "                              early_stopping_rounds = 10,\n",
    "                              n_estimators=10000\n",
    "                             )\n",
    "\n",
    "kf = KFold(n_splits=numberSplits, shuffle=True)\n",
    "\n",
    "for train_index, test_index in kf.split(trainDataLog):\n",
    "    X_train, X_test = trainDataLog.iloc[train_index].drop('price', axis=1), trainDataLog.iloc[test_index].drop('price', axis=1)\n",
    "    y_train, y_test = trainDataLog.iloc[train_index]['price'], trainDataLog.iloc[test_index]['price']\n",
    "    model.fit(\n",
    "        X_train,\n",
    "        y_train,\n",
    "        eval_set=[(X_test, y_test)],\n",
    "        eval_metric=custom_asymmetric_eval,\n",
    "        verbose=False,\n",
    "    )    \n",
    "    prediction = np.exp(model.predict(X_test))\n",
    "    scores.append(root_mean_squared_log_error(prediction, np.exp(y_test)))\n",
    "print(\"scores: \", scores)\n",
    "print(\"average score: \", np.average(scores))"
   ]
  },
  {
   "cell_type": "markdown",
   "id": "0f6926a2-e38f-4f88-9f7b-63efc1eae7ca",
   "metadata": {},
   "source": [
    "## Stratified KFold Does Not Work"
   ]
  },
  {
   "cell_type": "code",
   "execution_count": 40,
   "id": "92d29e25-7cd3-4ea9-8125-5a7fcc87eb00",
   "metadata": {},
   "outputs": [],
   "source": [
    "# %%capture --no-display\n",
    "# X_train, y_train, test_labels = pre_process_numerical(features = all_features, numerical_features = numerical_features, train = train, test = test,\n",
    "#                     outliers_value=7, val_data=False, val_split=0.0, random_state=42, scaler=\"std\",\n",
    "#                     add_R=\"True\", add_rel_height=\"True\", droptable=[],\n",
    "#                     one_hot_encode=True, cat_features=categorical, drop_old=True)\n",
    "\n",
    "# y_train_log = np.log(y_train)\n",
    "# trainDataLog = pd.concat([X_train, y_train_log],axis=1)"
   ]
  },
  {
   "cell_type": "code",
   "execution_count": 44,
   "id": "1eed6dd6-a305-41de-b89a-adefb37394f0",
   "metadata": {},
   "outputs": [],
   "source": [
    "# numberSplits = 5\n",
    "# scores = []\n",
    "\n",
    "# model = lightgbm.LGBMRegressor(random_state=33,\n",
    "#                               early_stopping_rounds = 10,\n",
    "#                               n_estimators=10000\n",
    "#                              )\n",
    "\n",
    "# skf = StratifiedKFold(n_splits=numberSplits, shuffle=True)\n",
    "\n",
    "# for index, train_index, test_index in enumerate(skf.split(X_train, y_train_log)):\n",
    "#     X_train, X_test = X_train.iloc[train_index].drop('price', axis=1), X_train.iloc[test_index].drop('price', axis=1)\n",
    "#     y_train, y_test = y_train_log.iloc[train_index]['price'], y_train_log.iloc[test_index]['price']\n",
    "#     model.fit(\n",
    "#         X_train,\n",
    "#         y_train,\n",
    "#         eval_set=[(X_test, y_test)],\n",
    "#         eval_metric=custom_asymmetric_eval,\n",
    "#         verbose=False,\n",
    "#     )    \n",
    "#     prediction = np.exp(model.predict(X_test))\n",
    "#     scores.append(root_mean_squared_log_error(prediction, np.exp(y_test)))\n",
    "# print(\"scores: \", scores)\n",
    "# print(\"average score: \", np.average(scores))"
   ]
  },
  {
   "cell_type": "markdown",
   "id": "c32f9b94-b276-4b0b-a414-dfda1e50ef97",
   "metadata": {},
   "source": [
    "## Group KFold"
   ]
  },
  {
   "cell_type": "code",
   "execution_count": 9,
   "id": "b4d1474a-8946-42b2-86d4-5aac22b495b5",
   "metadata": {},
   "outputs": [],
   "source": [
    "%%capture --no-display\n",
    "X_train, y_train, test_labels = pre_process_numerical(features = all_features, numerical_features = numerical_features, train = train, test = test,\n",
    "                    outliers_value=7, val_data=False, val_split=0.0, random_state=42, scaler=\"std\",\n",
    "                    add_R=\"True\", add_rel_height=\"True\", droptable=[],\n",
    "                    one_hot_encode=True, cat_features=categorical, drop_old=True)\n",
    "\n",
    "y_train_log = np.log(y_train)\n",
    "trainDataLog = pd.concat([X_train, y_train_log],axis=1)"
   ]
  },
  {
   "cell_type": "code",
   "execution_count": 10,
   "id": "a2bd775d-be0a-4a98-aaac-23cf949cac99",
   "metadata": {},
   "outputs": [],
   "source": [
    "%%capture --no-display\n",
    "numberSplits = 10\n",
    "current_model = lightgbm.LGBMRegressor(random_state=33,\n",
    "                              early_stopping_rounds = 10,\n",
    "                              n_estimators=10000\n",
    "                             ) \n",
    "scores, average_score, best_model, best_index = lgbm_groupKFold(number_of_splits=numberSplits,\n",
    "                                        model=current_model,\n",
    "                                        X_train=X_train, \n",
    "                                        y_train=y_train_log,\n",
    "                                        eval_metric='neg_root_mean_squared_error')\n"
   ]
  },
  {
   "cell_type": "code",
   "execution_count": 11,
   "id": "23951b77-2040-404a-ad0a-e36d17899e74",
   "metadata": {},
   "outputs": [
    {
     "name": "stdout",
     "output_type": "stream",
     "text": [
      "scores:  [0.19513408643558486, 0.16967795783418368, 0.18612551830939061, 0.24913092712346202, 0.19700096737521117, 0.19691017568868116, 0.2698351433344428, 0.1815176825278489, 0.1970092841549204, 0.1868077884625261]\n",
      "average score:  0.20291495312462518\n",
      "best model:  LGBMRegressor(early_stopping_rounds=10, n_estimators=10000, random_state=33)\n",
      "best index:  1\n"
     ]
    }
   ],
   "source": [
    "print(\"scores: \", scores)\n",
    "print(\"average score: \", average_score)\n",
    "print(\"best model: \", best_model)\n",
    "print(\"best index: \", best_index)"
   ]
  },
  {
   "cell_type": "code",
   "execution_count": 12,
   "id": "77f7bf8d-2f8b-40e9-847f-967a979b0142",
   "metadata": {},
   "outputs": [],
   "source": [
    "predict_and_store(best_model, test_labels, test_labels, path=\".\\submissions\\LGBM3.1.csv\", exponential=True)"
   ]
  },
  {
   "cell_type": "code",
   "execution_count": null,
   "id": "36bb2d03-8940-4681-8c4b-1c7d04a24b25",
   "metadata": {},
   "outputs": [],
   "source": []
  },
  {
   "cell_type": "code",
   "execution_count": null,
   "id": "d6669e5d-7d37-4412-b986-7f5c8f3be804",
   "metadata": {},
   "outputs": [],
   "source": []
  },
  {
   "cell_type": "code",
   "execution_count": null,
   "id": "fb04901c-6bc9-4d7f-bf4d-bb1a11c9fffb",
   "metadata": {},
   "outputs": [],
   "source": []
  },
  {
   "cell_type": "code",
   "execution_count": null,
   "id": "04b802a7-3a69-44c7-95a9-94a4ca420a8f",
   "metadata": {},
   "outputs": [],
   "source": []
  },
  {
   "cell_type": "code",
   "execution_count": null,
   "id": "157de0e7-2b12-4273-af2e-f40ebc869b8b",
   "metadata": {},
   "outputs": [],
   "source": []
  }
 ],
 "metadata": {
  "kernelspec": {
   "display_name": "Python 3",
   "language": "python",
   "name": "python3"
  },
  "language_info": {
   "codemirror_mode": {
    "name": "ipython",
    "version": 3
   },
   "file_extension": ".py",
   "mimetype": "text/x-python",
   "name": "python",
   "nbconvert_exporter": "python",
   "pygments_lexer": "ipython3",
   "version": "3.8.8"
  }
 },
 "nbformat": 4,
 "nbformat_minor": 5
}
