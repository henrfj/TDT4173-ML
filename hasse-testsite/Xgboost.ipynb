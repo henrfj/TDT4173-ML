{
 "cells": [
  {
   "cell_type": "code",
   "execution_count": 52,
   "id": "dc9e84fc-9415-42b2-ba26-fdbf9d988028",
   "metadata": {},
   "outputs": [],
   "source": [
    "def root_mean_squared_log_error(y_true, y_pred):\n",
    "    # Alternatively: sklearn.metrics.mean_squared_log_error(y_true, y_pred) ** 0.5\n",
    "    assert (y_true >= 0).all() \n",
    "    assert (y_pred >= 0).all()\n",
    "    log_error = np.log1p(y_pred) - np.log1p(y_true)  # Note: log1p(x) = log(1 + x)\n",
    "    return np.mean(log_error ** 2) ** 0.5"
   ]
  },
  {
   "cell_type": "code",
   "execution_count": 3,
   "id": "94818fdc-101e-479c-95bd-20de91a1007a",
   "metadata": {},
   "outputs": [],
   "source": [
    "%run ../common_utils.py"
   ]
  },
  {
   "cell_type": "code",
   "execution_count": 4,
   "id": "201dfe7e-8408-4dc3-9acb-31b7010d6d14",
   "metadata": {},
   "outputs": [],
   "source": [
    "train, test, metadata = load_all_data()"
   ]
  },
  {
   "cell_type": "code",
   "execution_count": 7,
   "id": "f517a3fa-c598-45fa-8f46-a056e07df604",
   "metadata": {},
   "outputs": [],
   "source": [
    "nonCategorical, categorical = get_cat_and_non_cat_data(metadata)\n",
    "categorical.remove('district')\n",
    "all_features = list(train.columns)\n",
    "all_features.remove('price')\n",
    "numerical_features = ['area_total','area_kitchen','area_living','floor','rooms','ceiling',\n",
    "    'bathrooms_shared','bathrooms_private','balconies','loggias','phones','building_id','constructed','stories']"
   ]
  },
  {
   "cell_type": "code",
   "execution_count": 26,
   "id": "a2a5f781-cf71-4c9d-80b6-4294813bdd54",
   "metadata": {},
   "outputs": [],
   "source": [
    "%%capture --no-display\n",
    "X_train, y_train, X_test, y_test, test_labels = pre_process_numerical(features = all_features, Numerical_features = numerical_features, train = train, test = test,\n",
    "                    outliers_value=7, val_split=0.2, random_state=42, scaler=\"std\",\n",
    "                    add_R=\"True\", add_rel_height=\"True\", droptable=[],\n",
    "                    one_hot_encode=True, cat_features=categorical, drop_old=True)"
   ]
  },
  {
   "cell_type": "code",
   "execution_count": 46,
   "id": "c8cc3e30-b84c-40fb-8ac4-ddcc1cae3e62",
   "metadata": {},
   "outputs": [],
   "source": [
    "from sklearn.preprocessing import LabelEncoder\n",
    "\n",
    "def categorical_to_numerical(data, features):\n",
    "    le = LabelEncoder()\n",
    "    for feature in features:\n",
    "        data[feature] = le.fit_transform(data[feature])"
   ]
  },
  {
   "cell_type": "code",
   "execution_count": 47,
   "id": "60968461-3416-4684-a519-c40a5d2068d0",
   "metadata": {},
   "outputs": [],
   "source": [
    "categorical_to_numerical(X_train, ['street','address'])\n",
    "categorical_to_numerical(X_test, ['street','address'])"
   ]
  },
  {
   "cell_type": "markdown",
   "id": "667fa695-a56f-4dd2-b405-ab7d4cb1ec89",
   "metadata": {},
   "source": [
    "# NOTE: XGBoost is able to handle missing values!"
   ]
  },
  {
   "cell_type": "code",
   "execution_count": 50,
   "id": "381d3a94-9444-43ad-bf62-757989e7fbc1",
   "metadata": {},
   "outputs": [
    {
     "name": "stdout",
     "output_type": "stream",
     "text": [
      "[20:54:48] WARNING: C:/Users/Administrator/workspace/xgboost-win64_release_1.5.0/src/learner.cc:576: \n",
      "Parameters: { \"verbose\" } might not be used.\n",
      "\n",
      "  This could be a false alarm, with some parameters getting used by language bindings but\n",
      "  then being mistakenly passed down to XGBoost core, or some parameter actually being used\n",
      "  but getting flagged wrongly here. Please open an issue if you find any such cases.\n",
      "\n",
      "\n"
     ]
    },
    {
     "data": {
      "text/plain": [
       "XGBRegressor(base_score=0.5, booster='gbtree', colsample_bylevel=1,\n",
       "             colsample_bynode=1, colsample_bytree=1, enable_categorical=False,\n",
       "             eta=0.1, eval_metric='rmsle', gamma=0, gpu_id=-1,\n",
       "             importance_type=None, interaction_constraints='',\n",
       "             learning_rate=0.16, max_delta_step=0, max_depth=10,\n",
       "             min_child_weight=1, missing=nan, monotone_constraints='()',\n",
       "             n_estimators=500, n_jobs=-1, num_parallel_tree=1, predictor='auto',\n",
       "             random_state=42, reg_alpha=0, reg_lambda=1, scale_pos_weight=1,\n",
       "             seed=42, subsample=1, tree_method='exact', validate_parameters=1, ...)"
      ]
     },
     "execution_count": 50,
     "metadata": {},
     "output_type": "execute_result"
    }
   ],
   "source": [
    "import xgboost as xgb\n",
    "from sklearn import metrics\n",
    "\n",
    "# Parameter Tuning\n",
    "# model = xgb.XGBClassifier()\n",
    "# param_dist = {\"max_depth\": [10,30,50],\n",
    "#               \"min_child_weight\" : [1,3,6],\n",
    "#               \"n_estimators\": [200],\n",
    "#               \"learning_rate\": [0.05, 0.1,0.16],}\n",
    "# grid_search = GridSearchCV(model, param_grid=param_dist, cv = 3, \n",
    "#                                    verbose=10, n_jobs=-1)\n",
    "# grid_search.fit(train, y_train)\n",
    "\n",
    "# grid_search.best_estimator_\n",
    "\n",
    "model = xgb.XGBRegressor(eta = 0.1, max_depth=10, min_child_weight=1,  eval_metric = 'rmsle', n_estimators=500,\\\n",
    "                          n_jobs=-1 , verbose=1,learning_rate=0.16, seed=42)\n",
    "model.fit(X_train,y_train)"
   ]
  },
  {
   "cell_type": "code",
   "execution_count": 53,
   "id": "837f61b4-2ac8-4dc8-9644-84a4cef61446",
   "metadata": {},
   "outputs": [
    {
     "name": "stdout",
     "output_type": "stream",
     "text": [
      "XGBoost RMSLE: 0.16932079045682918\n"
     ]
    }
   ],
   "source": [
    "xgb_prediction = model.predict(X_test)\n",
    "xgb_rmsle = root_mean_squared_log_error(xgb_prediction, y_test)\n",
    "print('XGBoost RMSLE:', xgb_rmsle)"
   ]
  },
  {
   "cell_type": "markdown",
   "id": "83329f3e-2c22-4bc2-b79f-3b160614968c",
   "metadata": {},
   "source": [
    "# XGBoost submission on all features"
   ]
  },
  {
   "cell_type": "code",
   "execution_count": 69,
   "id": "5a531a22-f4fd-49b5-af7b-85587cecf805",
   "metadata": {},
   "outputs": [],
   "source": [
    "X = train.drop(['price'], axis=1)\n",
    "y = train['price']\n",
    "categorical_to_numerical(X, ['street','address'])\n",
    "categorical_to_numerical(test, ['street','address'])"
   ]
  },
  {
   "cell_type": "code",
   "execution_count": 67,
   "id": "a05272fb-b2ef-497f-9d58-eade839144f2",
   "metadata": {},
   "outputs": [
    {
     "name": "stdout",
     "output_type": "stream",
     "text": [
      "[21:04:23] WARNING: C:/Users/Administrator/workspace/xgboost-win64_release_1.5.0/src/learner.cc:576: \n",
      "Parameters: { \"verbose\" } might not be used.\n",
      "\n",
      "  This could be a false alarm, with some parameters getting used by language bindings but\n",
      "  then being mistakenly passed down to XGBoost core, or some parameter actually being used\n",
      "  but getting flagged wrongly here. Please open an issue if you find any such cases.\n",
      "\n",
      "\n"
     ]
    },
    {
     "data": {
      "text/plain": [
       "XGBRegressor(base_score=0.5, booster='gbtree', colsample_bylevel=1,\n",
       "             colsample_bynode=1, colsample_bytree=1, enable_categorical=False,\n",
       "             eta=0.1, eval_metric='rmsle', gamma=0, gpu_id=-1,\n",
       "             importance_type=None, interaction_constraints='',\n",
       "             learning_rate=0.16, max_delta_step=0, max_depth=10,\n",
       "             min_child_weight=1, missing=nan, monotone_constraints='()',\n",
       "             n_estimators=500, n_jobs=-1, num_parallel_tree=1, predictor='auto',\n",
       "             random_state=42, reg_alpha=0, reg_lambda=1, scale_pos_weight=1,\n",
       "             seed=42, subsample=1, tree_method='exact', validate_parameters=1, ...)"
      ]
     },
     "execution_count": 67,
     "metadata": {},
     "output_type": "execute_result"
    }
   ],
   "source": [
    "model.fit(X, y)"
   ]
  },
  {
   "cell_type": "code",
   "execution_count": 70,
   "id": "a1a0eabf-e5a5-4625-9a23-38537b756511",
   "metadata": {},
   "outputs": [],
   "source": [
    "xgb_prediction = model.predict(test)\n",
    "df = pd.DataFrame(xgb_prediction, columns = ['price_prediction'])\n",
    "test.rename(columns={'apartment_id' : 'id'}, inplace=True)\n",
    "result = pd.concat([test['id'], df], axis=1)\n",
    "result[['id','price_prediction']].to_csv('.\\submissions\\XGB1.0.csv', index=False)"
   ]
  },
  {
   "cell_type": "code",
   "execution_count": 71,
   "id": "b634e932-7e82-4bf9-8c76-1d229ce9dad8",
   "metadata": {},
   "outputs": [
    {
     "data": {
      "text/plain": [
       "Index(['apartment_id', 'seller', 'area_total', 'area_kitchen', 'area_living',\n",
       "       'floor', 'rooms', 'layout', 'ceiling', 'bathrooms_shared',\n",
       "       'bathrooms_private', 'windows_court', 'windows_street', 'balconies',\n",
       "       'loggias', 'condition', 'phones', 'building_id', 'new', 'latitude',\n",
       "       'longitude', 'district', 'street', 'address', 'constructed', 'material',\n",
       "       'stories', 'elevator_without', 'elevator_passenger', 'elevator_service',\n",
       "       'parking', 'garbage_chute', 'heating'],\n",
       "      dtype='object')"
      ]
     },
     "execution_count": 71,
     "metadata": {},
     "output_type": "execute_result"
    }
   ],
   "source": [
    "X.columns"
   ]
  },
  {
   "cell_type": "code",
   "execution_count": null,
   "id": "6a244417-fe26-4724-8ef4-85b9e3fcb316",
   "metadata": {},
   "outputs": [],
   "source": []
  }
 ],
 "metadata": {
  "kernelspec": {
   "display_name": "Python 3",
   "language": "python",
   "name": "python3"
  },
  "language_info": {
   "codemirror_mode": {
    "name": "ipython",
    "version": 3
   },
   "file_extension": ".py",
   "mimetype": "text/x-python",
   "name": "python",
   "nbconvert_exporter": "python",
   "pygments_lexer": "ipython3",
   "version": "3.8.8"
  }
 },
 "nbformat": 4,
 "nbformat_minor": 5
}
