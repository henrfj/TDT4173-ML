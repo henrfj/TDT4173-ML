{
 "cells": [
  {
   "cell_type": "code",
   "execution_count": 1,
   "id": "a4de12bf-f804-4a07-bfe0-9cc602604a06",
   "metadata": {},
   "outputs": [],
   "source": [
    "import pandas as pd\n",
    "import numpy as np\n",
    "from sklearn.model_selection import train_test_split, KFold\n",
    "from sklearn.tree import DecisionTreeRegressor\n",
    "from sklearn.metrics import mean_squared_error\n",
    "from sklearn.ensemble import RandomForestRegressor\n",
    "from sklearn.ensemble import AdaBoostRegressor\n",
    "from sklearn.ensemble import GradientBoostingRegressor\n",
    "from scipy import stats\n",
    "\n",
    "import lightgbm as lgb\n",
    "from catboost import CatBoostRegressor\n",
    "\n",
    "import matplotlib.pylab as plt\n",
    "plt.style.use('ggplot')\n"
   ]
  },
  {
   "cell_type": "code",
   "execution_count": 2,
   "id": "79ad060b-a030-4fd8-8b2f-723db8eb7ca4",
   "metadata": {},
   "outputs": [],
   "source": [
    "scaling_factor = 1000000000000"
   ]
  },
  {
   "cell_type": "code",
   "execution_count": 3,
   "id": "8825ee09-de5d-4409-83a1-dd74316dc2b8",
   "metadata": {},
   "outputs": [],
   "source": [
    "train_apartment = pd.read_csv('../data/apartments_train.csv')\n",
    "train_building = pd.read_csv('../data/buildings_train.csv')\n",
    "train = pd.merge(train_apartment, train_building, left_on='building_id', right_on='id')\n",
    "train.rename(columns={'id_x' : 'apartment_id'}, inplace=True)\n",
    "train.drop('id_y', axis=1, inplace=True)\n",
    "# Remove duplicate column after merge."
   ]
  },
  {
   "cell_type": "code",
   "execution_count": 4,
   "id": "134d323d-7c57-4349-a116-0b177314ab86",
   "metadata": {},
   "outputs": [
    {
     "name": "stdout",
     "output_type": "stream",
     "text": [
      "app length 9937\n",
      "buildings length 2931\n",
      "merged length 9937\n"
     ]
    }
   ],
   "source": [
    "test_apartment = pd.read_csv('../data/apartments_test.csv')\n",
    "test_building = pd.read_csv('../data/buildings_test.csv')\n",
    "print('app length', len(test_apartment))\n",
    "print('buildings length', len(test_building))\n",
    "test = pd.merge(test_apartment, test_building, left_on='building_id', right_on='id')\n",
    "print('merged length', len(test))\n",
    "test.rename(columns={'id_x' : 'id'}, inplace=True)\n",
    "test.drop('id_y', axis=1, inplace=True)\n",
    "test = test.drop(['street', 'address'], axis=1)\n"
   ]
  },
  {
   "cell_type": "code",
   "execution_count": 44,
   "id": "8f6e11a6-1014-4664-b892-413b0216936b",
   "metadata": {},
   "outputs": [
    {
     "data": {
      "text/html": [
       "<div>\n",
       "<style scoped>\n",
       "    .dataframe tbody tr th:only-of-type {\n",
       "        vertical-align: middle;\n",
       "    }\n",
       "\n",
       "    .dataframe tbody tr th {\n",
       "        vertical-align: top;\n",
       "    }\n",
       "\n",
       "    .dataframe thead th {\n",
       "        text-align: right;\n",
       "    }\n",
       "</style>\n",
       "<table border=\"1\" class=\"dataframe\">\n",
       "  <thead>\n",
       "    <tr style=\"text-align: right;\">\n",
       "      <th></th>\n",
       "      <th>id</th>\n",
       "      <th>seller</th>\n",
       "      <th>area_total</th>\n",
       "      <th>area_kitchen</th>\n",
       "      <th>area_living</th>\n",
       "      <th>floor</th>\n",
       "      <th>rooms</th>\n",
       "      <th>layout</th>\n",
       "      <th>ceiling</th>\n",
       "      <th>bathrooms_shared</th>\n",
       "      <th>bathrooms_private</th>\n",
       "      <th>windows_court</th>\n",
       "      <th>windows_street</th>\n",
       "      <th>balconies</th>\n",
       "      <th>loggias</th>\n",
       "      <th>condition</th>\n",
       "      <th>phones</th>\n",
       "      <th>building_id</th>\n",
       "    </tr>\n",
       "  </thead>\n",
       "  <tbody>\n",
       "    <tr>\n",
       "      <th>0</th>\n",
       "      <td>23285</td>\n",
       "      <td>NaN</td>\n",
       "      <td>71.4</td>\n",
       "      <td>NaN</td>\n",
       "      <td>NaN</td>\n",
       "      <td>2.0</td>\n",
       "      <td>1.0</td>\n",
       "      <td>NaN</td>\n",
       "      <td>NaN</td>\n",
       "      <td>NaN</td>\n",
       "      <td>NaN</td>\n",
       "      <td>1.0</td>\n",
       "      <td>0.0</td>\n",
       "      <td>1.0</td>\n",
       "      <td>0.0</td>\n",
       "      <td>0.0</td>\n",
       "      <td>1.0</td>\n",
       "      <td>5148</td>\n",
       "    </tr>\n",
       "    <tr>\n",
       "      <th>1</th>\n",
       "      <td>23286</td>\n",
       "      <td>NaN</td>\n",
       "      <td>54.0</td>\n",
       "      <td>4.0</td>\n",
       "      <td>50.0</td>\n",
       "      <td>4.0</td>\n",
       "      <td>1.0</td>\n",
       "      <td>NaN</td>\n",
       "      <td>3.00</td>\n",
       "      <td>NaN</td>\n",
       "      <td>NaN</td>\n",
       "      <td>1.0</td>\n",
       "      <td>0.0</td>\n",
       "      <td>NaN</td>\n",
       "      <td>NaN</td>\n",
       "      <td>3.0</td>\n",
       "      <td>1.0</td>\n",
       "      <td>1290</td>\n",
       "    </tr>\n",
       "    <tr>\n",
       "      <th>2</th>\n",
       "      <td>23287</td>\n",
       "      <td>3.0</td>\n",
       "      <td>39.4</td>\n",
       "      <td>19.6</td>\n",
       "      <td>11.2</td>\n",
       "      <td>10.0</td>\n",
       "      <td>1.0</td>\n",
       "      <td>NaN</td>\n",
       "      <td>2.65</td>\n",
       "      <td>1.0</td>\n",
       "      <td>0.0</td>\n",
       "      <td>1.0</td>\n",
       "      <td>0.0</td>\n",
       "      <td>NaN</td>\n",
       "      <td>NaN</td>\n",
       "      <td>NaN</td>\n",
       "      <td>1.0</td>\n",
       "      <td>681</td>\n",
       "    </tr>\n",
       "    <tr>\n",
       "      <th>3</th>\n",
       "      <td>23288</td>\n",
       "      <td>NaN</td>\n",
       "      <td>60.9</td>\n",
       "      <td>NaN</td>\n",
       "      <td>NaN</td>\n",
       "      <td>5.0</td>\n",
       "      <td>2.0</td>\n",
       "      <td>1.0</td>\n",
       "      <td>NaN</td>\n",
       "      <td>1.0</td>\n",
       "      <td>0.0</td>\n",
       "      <td>0.0</td>\n",
       "      <td>1.0</td>\n",
       "      <td>NaN</td>\n",
       "      <td>NaN</td>\n",
       "      <td>0.0</td>\n",
       "      <td>1.0</td>\n",
       "      <td>4261</td>\n",
       "    </tr>\n",
       "    <tr>\n",
       "      <th>4</th>\n",
       "      <td>23289</td>\n",
       "      <td>NaN</td>\n",
       "      <td>34.0</td>\n",
       "      <td>9.0</td>\n",
       "      <td>17.0</td>\n",
       "      <td>14.0</td>\n",
       "      <td>1.0</td>\n",
       "      <td>NaN</td>\n",
       "      <td>2.75</td>\n",
       "      <td>1.0</td>\n",
       "      <td>0.0</td>\n",
       "      <td>1.0</td>\n",
       "      <td>0.0</td>\n",
       "      <td>0.0</td>\n",
       "      <td>1.0</td>\n",
       "      <td>1.0</td>\n",
       "      <td>1.0</td>\n",
       "      <td>7530</td>\n",
       "    </tr>\n",
       "    <tr>\n",
       "      <th>...</th>\n",
       "      <td>...</td>\n",
       "      <td>...</td>\n",
       "      <td>...</td>\n",
       "      <td>...</td>\n",
       "      <td>...</td>\n",
       "      <td>...</td>\n",
       "      <td>...</td>\n",
       "      <td>...</td>\n",
       "      <td>...</td>\n",
       "      <td>...</td>\n",
       "      <td>...</td>\n",
       "      <td>...</td>\n",
       "      <td>...</td>\n",
       "      <td>...</td>\n",
       "      <td>...</td>\n",
       "      <td>...</td>\n",
       "      <td>...</td>\n",
       "      <td>...</td>\n",
       "    </tr>\n",
       "    <tr>\n",
       "      <th>9932</th>\n",
       "      <td>33217</td>\n",
       "      <td>3.0</td>\n",
       "      <td>106.0</td>\n",
       "      <td>19.9</td>\n",
       "      <td>56.7</td>\n",
       "      <td>16.0</td>\n",
       "      <td>3.0</td>\n",
       "      <td>NaN</td>\n",
       "      <td>3.30</td>\n",
       "      <td>NaN</td>\n",
       "      <td>NaN</td>\n",
       "      <td>NaN</td>\n",
       "      <td>NaN</td>\n",
       "      <td>0.0</td>\n",
       "      <td>1.0</td>\n",
       "      <td>NaN</td>\n",
       "      <td>1.0</td>\n",
       "      <td>4252</td>\n",
       "    </tr>\n",
       "    <tr>\n",
       "      <th>9933</th>\n",
       "      <td>33218</td>\n",
       "      <td>NaN</td>\n",
       "      <td>82.0</td>\n",
       "      <td>NaN</td>\n",
       "      <td>NaN</td>\n",
       "      <td>3.0</td>\n",
       "      <td>3.0</td>\n",
       "      <td>NaN</td>\n",
       "      <td>NaN</td>\n",
       "      <td>2.0</td>\n",
       "      <td>0.0</td>\n",
       "      <td>1.0</td>\n",
       "      <td>0.0</td>\n",
       "      <td>NaN</td>\n",
       "      <td>NaN</td>\n",
       "      <td>1.0</td>\n",
       "      <td>2.0</td>\n",
       "      <td>7380</td>\n",
       "    </tr>\n",
       "    <tr>\n",
       "      <th>9934</th>\n",
       "      <td>33219</td>\n",
       "      <td>NaN</td>\n",
       "      <td>49.3</td>\n",
       "      <td>NaN</td>\n",
       "      <td>NaN</td>\n",
       "      <td>15.0</td>\n",
       "      <td>1.0</td>\n",
       "      <td>NaN</td>\n",
       "      <td>0.00</td>\n",
       "      <td>NaN</td>\n",
       "      <td>NaN</td>\n",
       "      <td>NaN</td>\n",
       "      <td>NaN</td>\n",
       "      <td>NaN</td>\n",
       "      <td>NaN</td>\n",
       "      <td>NaN</td>\n",
       "      <td>1.0</td>\n",
       "      <td>1480</td>\n",
       "    </tr>\n",
       "    <tr>\n",
       "      <th>9935</th>\n",
       "      <td>33220</td>\n",
       "      <td>NaN</td>\n",
       "      <td>38.8</td>\n",
       "      <td>10.5</td>\n",
       "      <td>15.1</td>\n",
       "      <td>14.0</td>\n",
       "      <td>1.0</td>\n",
       "      <td>NaN</td>\n",
       "      <td>3.30</td>\n",
       "      <td>1.0</td>\n",
       "      <td>0.0</td>\n",
       "      <td>0.0</td>\n",
       "      <td>1.0</td>\n",
       "      <td>0.0</td>\n",
       "      <td>1.0</td>\n",
       "      <td>0.0</td>\n",
       "      <td>2.0</td>\n",
       "      <td>2154</td>\n",
       "    </tr>\n",
       "    <tr>\n",
       "      <th>9936</th>\n",
       "      <td>33221</td>\n",
       "      <td>1.0</td>\n",
       "      <td>71.5</td>\n",
       "      <td>7.0</td>\n",
       "      <td>49.0</td>\n",
       "      <td>2.0</td>\n",
       "      <td>3.0</td>\n",
       "      <td>NaN</td>\n",
       "      <td>NaN</td>\n",
       "      <td>NaN</td>\n",
       "      <td>NaN</td>\n",
       "      <td>NaN</td>\n",
       "      <td>NaN</td>\n",
       "      <td>NaN</td>\n",
       "      <td>NaN</td>\n",
       "      <td>NaN</td>\n",
       "      <td>0.0</td>\n",
       "      <td>3007</td>\n",
       "    </tr>\n",
       "  </tbody>\n",
       "</table>\n",
       "<p>9937 rows × 18 columns</p>\n",
       "</div>"
      ],
      "text/plain": [
       "         id  seller  area_total  area_kitchen  area_living  floor  rooms  \\\n",
       "0     23285     NaN        71.4           NaN          NaN    2.0    1.0   \n",
       "1     23286     NaN        54.0           4.0         50.0    4.0    1.0   \n",
       "2     23287     3.0        39.4          19.6         11.2   10.0    1.0   \n",
       "3     23288     NaN        60.9           NaN          NaN    5.0    2.0   \n",
       "4     23289     NaN        34.0           9.0         17.0   14.0    1.0   \n",
       "...     ...     ...         ...           ...          ...    ...    ...   \n",
       "9932  33217     3.0       106.0          19.9         56.7   16.0    3.0   \n",
       "9933  33218     NaN        82.0           NaN          NaN    3.0    3.0   \n",
       "9934  33219     NaN        49.3           NaN          NaN   15.0    1.0   \n",
       "9935  33220     NaN        38.8          10.5         15.1   14.0    1.0   \n",
       "9936  33221     1.0        71.5           7.0         49.0    2.0    3.0   \n",
       "\n",
       "      layout  ceiling  bathrooms_shared  bathrooms_private  windows_court  \\\n",
       "0        NaN      NaN               NaN                NaN            1.0   \n",
       "1        NaN     3.00               NaN                NaN            1.0   \n",
       "2        NaN     2.65               1.0                0.0            1.0   \n",
       "3        1.0      NaN               1.0                0.0            0.0   \n",
       "4        NaN     2.75               1.0                0.0            1.0   \n",
       "...      ...      ...               ...                ...            ...   \n",
       "9932     NaN     3.30               NaN                NaN            NaN   \n",
       "9933     NaN      NaN               2.0                0.0            1.0   \n",
       "9934     NaN     0.00               NaN                NaN            NaN   \n",
       "9935     NaN     3.30               1.0                0.0            0.0   \n",
       "9936     NaN      NaN               NaN                NaN            NaN   \n",
       "\n",
       "      windows_street  balconies  loggias  condition  phones  building_id  \n",
       "0                0.0        1.0      0.0        0.0     1.0         5148  \n",
       "1                0.0        NaN      NaN        3.0     1.0         1290  \n",
       "2                0.0        NaN      NaN        NaN     1.0          681  \n",
       "3                1.0        NaN      NaN        0.0     1.0         4261  \n",
       "4                0.0        0.0      1.0        1.0     1.0         7530  \n",
       "...              ...        ...      ...        ...     ...          ...  \n",
       "9932             NaN        0.0      1.0        NaN     1.0         4252  \n",
       "9933             0.0        NaN      NaN        1.0     2.0         7380  \n",
       "9934             NaN        NaN      NaN        NaN     1.0         1480  \n",
       "9935             1.0        0.0      1.0        0.0     2.0         2154  \n",
       "9936             NaN        NaN      NaN        NaN     0.0         3007  \n",
       "\n",
       "[9937 rows x 18 columns]"
      ]
     },
     "execution_count": 44,
     "metadata": {},
     "output_type": "execute_result"
    }
   ],
   "source": [
    "test_apartment"
   ]
  },
  {
   "cell_type": "code",
   "execution_count": 5,
   "id": "84e22600-bb89-416c-a47c-ccf9112ee189",
   "metadata": {},
   "outputs": [],
   "source": [
    "column_names_apartments = ['apartment_id', 'seller', 'area_total', 'area_kitchen', 'area_living',\n",
    "       'floor', 'rooms', 'layout', 'ceiling', 'bathrooms_shared',\n",
    "       'bathrooms_private', 'windows_court', 'windows_street', 'balconies',\n",
    "       'loggias', 'condition', 'phones', 'building_id', 'price']\n",
    "column_names_buildings = ['new', 'latitude', 'longitude', 'district', 'street', 'address',\n",
    "       'constructed', 'material', 'stories', 'elevator_without',\n",
    "       'elevator_passenger', 'elevator_service', 'parking', 'garbage_chute',\n",
    "       'heating']\n",
    "all_features = column_names_apartments[:-1] + column_names_buildings\n",
    "#features selected based on gini importance in LGBM model in sequential_all_data\n",
    "selected_features = ['area_total','area_kitchen','floor','bathrooms_private','longitude','latitude','district','constructed','stories']"
   ]
  },
  {
   "cell_type": "code",
   "execution_count": 6,
   "id": "f2eebe3c-b0a3-4b05-b764-824f7fe6cff7",
   "metadata": {},
   "outputs": [],
   "source": [
    "def preprocess(data,price_outlier_rejection=False,fill=True):\n",
    "    if price_outlier_rejection is True:\n",
    "        data = data[(np.abs(stats.zscore(data['price'])) < 3.9)]\n",
    "    if fill is True:\n",
    "        return data.fillna(data.mean())\n",
    "    else:\n",
    "        return data.dropna()"
   ]
  },
  {
   "cell_type": "code",
   "execution_count": 7,
   "id": "d9e8d937-0e76-44fc-8edc-d57084a3f8d7",
   "metadata": {},
   "outputs": [],
   "source": [
    "processed_data = preprocess(train)"
   ]
  },
  {
   "cell_type": "code",
   "execution_count": 8,
   "id": "1a0755ed-b1f0-4fa2-b63c-c4dea3b3ccb0",
   "metadata": {},
   "outputs": [],
   "source": [
    "processed_test = preprocess(test)\n",
    "processed_test = processed_test[selected_features]"
   ]
  },
  {
   "cell_type": "code",
   "execution_count": 9,
   "id": "c2342ee5-0182-4dc6-8adc-5e8aaebb8c37",
   "metadata": {},
   "outputs": [],
   "source": [
    "X = processed_data[selected_features]\n",
    "y = processed_data['price']"
   ]
  },
  {
   "cell_type": "code",
   "execution_count": 10,
   "id": "9c9840a6-a4bf-4aca-8774-954f6d73c115",
   "metadata": {},
   "outputs": [],
   "source": [
    "X_train, X_test, y_train, y_test = train_test_split(X, y, test_size=0.2, random_state=42)"
   ]
  },
  {
   "cell_type": "code",
   "execution_count": null,
   "id": "e75f6013-aed6-4557-9afb-318aa2ba5ee0",
   "metadata": {},
   "outputs": [],
   "source": []
  },
  {
   "cell_type": "code",
   "execution_count": null,
   "id": "ef13e766-1125-4f05-8a3d-710b60cc9cb9",
   "metadata": {},
   "outputs": [],
   "source": []
  },
  {
   "cell_type": "markdown",
   "id": "8e8b5f72-3ec5-4b8d-823e-8500b9390368",
   "metadata": {},
   "source": [
    "# Adaboost"
   ]
  },
  {
   "cell_type": "code",
   "execution_count": 11,
   "id": "33aa08f7-31ab-462c-af54-a7bf1bd7571d",
   "metadata": {},
   "outputs": [],
   "source": [
    "adaboost = AdaBoostRegressor(\n",
    "    n_estimators=1500,\n",
    "    learning_rate=0.05,\n",
    "    loss='square',\n",
    "    random_state=42\n",
    ")"
   ]
  },
  {
   "cell_type": "code",
   "execution_count": 12,
   "id": "a41603af-4ff4-4cc2-9222-2b99291809af",
   "metadata": {},
   "outputs": [
    {
     "data": {
      "text/plain": [
       "AdaBoostRegressor(learning_rate=0.05, loss='square', n_estimators=1500,\n",
       "                  random_state=42)"
      ]
     },
     "execution_count": 12,
     "metadata": {},
     "output_type": "execute_result"
    }
   ],
   "source": [
    "adaboost.fit(X_train, y_train)"
   ]
  },
  {
   "cell_type": "code",
   "execution_count": 13,
   "id": "28fd372b-611b-4294-9f6e-fd5192c39c47",
   "metadata": {},
   "outputs": [],
   "source": [
    "ada_prediction = adaboost.predict(X_test)"
   ]
  },
  {
   "cell_type": "code",
   "execution_count": 14,
   "id": "c48fd64e-639d-486d-b319-4ff5eb715d96",
   "metadata": {},
   "outputs": [
    {
     "name": "stdout",
     "output_type": "stream",
     "text": [
      "Test MSE: 5989.747843801746\n"
     ]
    }
   ],
   "source": [
    "ada_mse = round(mean_squared_error(ada_prediction, y_test), 2)\n",
    "print('Test MSE:', ada_mse/scaling_factor)"
   ]
  },
  {
   "cell_type": "code",
   "execution_count": 15,
   "id": "6d731794-7347-4bcf-bb6e-57be5b81e5e8",
   "metadata": {},
   "outputs": [
    {
     "data": {
      "text/plain": [
       "Text(0, 0.5, 'Ground Truth')"
      ]
     },
     "execution_count": 15,
     "metadata": {},
     "output_type": "execute_result"
    },
    {
     "data": {
      "image/png": "[encoded data removed]",
      "text/plain": [
       "<Figure size 432x288 with 1 Axes>"
      ]
     },
     "metadata": {},
     "output_type": "display_data"
    }
   ],
   "source": [
    "plt.scatter(ada_prediction, y_test)\n",
    "plt.xlabel('Adaboost prediction')\n",
    "plt.ylabel('Ground Truth')"
   ]
  },
  {
   "cell_type": "markdown",
   "id": "b1c3ef8b-40e8-4ddf-ae70-3cc83f285d4b",
   "metadata": {},
   "source": [
    "# Gradient Boosting Machine"
   ]
  },
  {
   "cell_type": "code",
   "execution_count": 16,
   "id": "8fbdb1c5-3068-4353-9899-07a42b2ee304",
   "metadata": {},
   "outputs": [],
   "source": [
    "grad_boost_regr = GradientBoostingRegressor(\n",
    "    learning_rate=0.01,\n",
    "    n_estimators=2000,\n",
    "    subsample=1.0, \n",
    "    criterion='mse', \n",
    "    min_samples_split=4, \n",
    "    min_samples_leaf=2, \n",
    "    min_weight_fraction_leaf=0.0, \n",
    "    max_depth=9, \n",
    "    min_impurity_decrease=0.0, \n",
    "    init=None, \n",
    "    random_state=0, \n",
    "    max_features=None,\n",
    "    alpha=0.9,\n",
    "    verbose=0,\n",
    "    max_leaf_nodes=None,\n",
    "    warm_start=False,\n",
    "    validation_fraction=0.1,\n",
    "    n_iter_no_change=None,\n",
    "    tol=0.0001,\n",
    "    ccp_alpha=0.0\n",
    ")"
   ]
  },
  {
   "cell_type": "code",
   "execution_count": 17,
   "id": "4b187fc2-3571-4dc3-859a-090728b0d54a",
   "metadata": {},
   "outputs": [
    {
     "data": {
      "text/plain": [
       "GradientBoostingRegressor(criterion='mse', learning_rate=0.01, max_depth=9,\n",
       "                          min_samples_leaf=2, min_samples_split=4,\n",
       "                          n_estimators=2000, random_state=0)"
      ]
     },
     "execution_count": 17,
     "metadata": {},
     "output_type": "execute_result"
    }
   ],
   "source": [
    "grad_boost_regr.fit(X_train, y_train)"
   ]
  },
  {
   "cell_type": "code",
   "execution_count": 18,
   "id": "d9578647-3735-40b0-a684-3b823985bec4",
   "metadata": {},
   "outputs": [],
   "source": [
    "gb_prediction = grad_boost_regr.predict(X_test)"
   ]
  },
  {
   "cell_type": "code",
   "execution_count": 19,
   "id": "c2894342-3270-4163-86d4-7110f9824387",
   "metadata": {},
   "outputs": [
    {
     "name": "stdout",
     "output_type": "stream",
     "text": [
      "Test MSE: 248.97338429524638\n"
     ]
    }
   ],
   "source": [
    "gb_mse = round(mean_squared_error(gb_prediction, y_test), 2)\n",
    "print('Test MSE:', gb_mse/scaling_factor)"
   ]
  },
  {
   "cell_type": "code",
   "execution_count": 20,
   "id": "f145ab60-8d92-409a-8d8c-310239cbe626",
   "metadata": {},
   "outputs": [
    {
     "data": {
      "text/plain": [
       "Text(0, 0.5, 'Ground Truth')"
      ]
     },
     "execution_count": 20,
     "metadata": {},
     "output_type": "execute_result"
    },
    {
     "data": {
      "image/png": "[encoded data removed]",
      "text/plain": [
       "<Figure size 432x288 with 1 Axes>"
      ]
     },
     "metadata": {},
     "output_type": "display_data"
    }
   ],
   "source": [
    "plt.scatter(gb_prediction, y_test)\n",
    "plt.xlabel('Gradient Boosting prediction')\n",
    "plt.ylabel('Ground Truth')"
   ]
  },
  {
   "cell_type": "code",
   "execution_count": 21,
   "id": "fe53cf1a-6104-430a-b70a-e2a069af584e",
   "metadata": {},
   "outputs": [
    {
     "data": {
      "image/png": "[encoded data removed]",
      "text/plain": [
       "<Figure size 432x288 with 1 Axes>"
      ]
     },
     "metadata": {},
     "output_type": "display_data"
    }
   ],
   "source": [
    "importances = grad_boost_regr.feature_importances_\n",
    "forest_importances = pd.Series(importances, index=X.columns)\n",
    "\n",
    "fig, ax = plt.subplots()\n",
    "forest_importances.plot.bar(ax=ax)\n",
    "ax.set_title(\"MDI or Gini Importance\")\n",
    "ax.set_ylabel(\"Mean decrease in impurity\")\n",
    "fig.tight_layout()"
   ]
  },
  {
   "cell_type": "markdown",
   "id": "202a2405-7faf-4996-a08c-215f41704452",
   "metadata": {},
   "source": [
    "# LightGBM"
   ]
  },
  {
   "cell_type": "code",
   "execution_count": 22,
   "id": "7974aa24-5950-49fe-9d77-c00a71a0bdd9",
   "metadata": {},
   "outputs": [],
   "source": [
    "light_gbm = lgb.LGBMRegressor(\n",
    "    num_leaves=10,\n",
    "    max_depth=5, \n",
    "    random_state=42, \n",
    "    silent=True, \n",
    "    metric='mse',\n",
    "    n_jobs=4, \n",
    "    n_estimators=2000,\n",
    "    colsample_bytree=0.95,\n",
    "    subsample=0.9,\n",
    "    learning_rate=0.05\n",
    ")"
   ]
  },
  {
   "cell_type": "code",
   "execution_count": 23,
   "id": "84b92401-396b-4f51-b217-a9a8accd58b9",
   "metadata": {},
   "outputs": [
    {
     "data": {
      "text/plain": [
       "LGBMRegressor(colsample_bytree=0.95, learning_rate=0.05, max_depth=5,\n",
       "              metric='mse', n_estimators=2000, n_jobs=4, num_leaves=10,\n",
       "              random_state=42, subsample=0.9)"
      ]
     },
     "execution_count": 23,
     "metadata": {},
     "output_type": "execute_result"
    }
   ],
   "source": [
    "light_gbm.fit(X_train, y_train)"
   ]
  },
  {
   "cell_type": "code",
   "execution_count": 24,
   "id": "4c67ce00-1c28-43a2-a285-a9b3d6b0fdd0",
   "metadata": {},
   "outputs": [],
   "source": [
    "lgbm_prediction = light_gbm.predict(X_test)"
   ]
  },
  {
   "cell_type": "code",
   "execution_count": 25,
   "id": "24eed065-783e-46d3-b886-cd35f36483d8",
   "metadata": {},
   "outputs": [
    {
     "name": "stdout",
     "output_type": "stream",
     "text": [
      "Test MSE: 361.60272153453536\n"
     ]
    }
   ],
   "source": [
    "lgb_mse = round(mean_squared_error(lgbm_prediction, y_test), 2)\n",
    "print('Test MSE:', lgb_mse/scaling_factor)"
   ]
  },
  {
   "cell_type": "code",
   "execution_count": 26,
   "id": "5b153fa6-73cf-409e-b909-7bce62a0c2da",
   "metadata": {},
   "outputs": [
    {
     "data": {
      "text/plain": [
       "Text(0, 0.5, 'Ground Truth')"
      ]
     },
     "execution_count": 26,
     "metadata": {},
     "output_type": "execute_result"
    },
    {
     "data": {
      "image/png": "[encoded data removed]",
      "text/plain": [
       "<Figure size 432x288 with 1 Axes>"
      ]
     },
     "metadata": {},
     "output_type": "display_data"
    }
   ],
   "source": [
    "plt.scatter(lgbm_prediction, y_test)\n",
    "plt.xlabel('LightGBM prediction')\n",
    "plt.ylabel('Ground Truth')"
   ]
  },
  {
   "cell_type": "code",
   "execution_count": 27,
   "id": "c97f3ffc-a9bf-47e8-a6ef-4c74565009bc",
   "metadata": {},
   "outputs": [
    {
     "data": {
      "image/png": "[encoded data removed]",
      "text/plain": [
       "<Figure size 432x288 with 1 Axes>"
      ]
     },
     "metadata": {},
     "output_type": "display_data"
    }
   ],
   "source": [
    "importances = light_gbm.feature_importances_\n",
    "forest_importances = pd.Series(importances, index=X.columns)\n",
    "\n",
    "fig, ax = plt.subplots()\n",
    "forest_importances.plot.bar(ax=ax)\n",
    "ax.set_title(\"Gini Importance\")\n",
    "ax.set_ylabel(\"Importance\")\n",
    "fig.tight_layout()"
   ]
  },
  {
   "cell_type": "markdown",
   "id": "ce78e0fa-df1f-4f31-a91d-a87d9fabee05",
   "metadata": {},
   "source": [
    "# CatBoost"
   ]
  },
  {
   "cell_type": "code",
   "execution_count": 28,
   "id": "162834db-acdb-4b7f-80ff-473a44319b23",
   "metadata": {},
   "outputs": [],
   "source": [
    "model6 = CatBoostRegressor(\n",
    "    n_estimators=500,\n",
    "    learning_rate=0.1,\n",
    "    thread_count=-1,\n",
    "    depth=7,\n",
    "    silent=True,\n",
    "    random_seed=42,\n",
    "    bagging_temperature=0.2\n",
    "#     od_type=\"Iter\"\n",
    ")"
   ]
  },
  {
   "cell_type": "code",
   "execution_count": 29,
   "id": "1850b0ad-f23d-41fc-a905-b663046c2c96",
   "metadata": {},
   "outputs": [
    {
     "data": {
      "text/plain": [
       "<catboost.core.CatBoostRegressor at 0x22f92fdfd90>"
      ]
     },
     "execution_count": 29,
     "metadata": {},
     "output_type": "execute_result"
    }
   ],
   "source": [
    "model6.fit(X_train, y_train)"
   ]
  },
  {
   "cell_type": "code",
   "execution_count": 30,
   "id": "2d347c4a-14e6-4271-828e-3034e5f47932",
   "metadata": {},
   "outputs": [],
   "source": [
    "cat_prediction = model6.predict(X_test)"
   ]
  },
  {
   "cell_type": "code",
   "execution_count": 31,
   "id": "ab8ac9c3-6a8d-4162-a586-77ecf4b969af",
   "metadata": {},
   "outputs": [
    {
     "name": "stdout",
     "output_type": "stream",
     "text": [
      "Test MSE: 351.7503284990915\n"
     ]
    }
   ],
   "source": [
    "cat_mse = round(mean_squared_error(cat_prediction, y_test), 2)\n",
    "print('Test MSE:', cat_mse/scaling_factor)"
   ]
  },
  {
   "cell_type": "code",
   "execution_count": 32,
   "id": "504f850b-20c7-4d95-97d6-b3e379e0fb08",
   "metadata": {},
   "outputs": [
    {
     "data": {
      "text/plain": [
       "Text(0, 0.5, 'Ground Truth')"
      ]
     },
     "execution_count": 32,
     "metadata": {},
     "output_type": "execute_result"
    },
    {
     "data": {
      "image/png": "[encoded data removed]",
      "text/plain": [
       "<Figure size 432x288 with 1 Axes>"
      ]
     },
     "metadata": {},
     "output_type": "display_data"
    }
   ],
   "source": [
    "plt.scatter(cat_prediction, y_test)\n",
    "plt.xlabel('CatBoost prediction')\n",
    "plt.ylabel('Ground Truth')"
   ]
  },
  {
   "cell_type": "markdown",
   "id": "f5870800-2c11-4242-a84a-a12bafb4e8b6",
   "metadata": {},
   "source": [
    "# Try gradient boost to obtain submission"
   ]
  },
  {
   "cell_type": "code",
   "execution_count": 33,
   "id": "4569a336-a3f3-4086-87e2-450eb6ce3ce4",
   "metadata": {},
   "outputs": [
    {
     "data": {
      "text/plain": [
       "GradientBoostingRegressor(criterion='mse', learning_rate=0.01, max_depth=9,\n",
       "                          min_samples_leaf=2, min_samples_split=4,\n",
       "                          n_estimators=2000, random_state=0)"
      ]
     },
     "execution_count": 33,
     "metadata": {},
     "output_type": "execute_result"
    }
   ],
   "source": [
    "grad_boost_regr.fit(X, y)"
   ]
  },
  {
   "cell_type": "code",
   "execution_count": 34,
   "id": "07e1dcc6-f2a4-4ed1-98dc-d22135a59fd1",
   "metadata": {},
   "outputs": [],
   "source": [
    "gb_prediction = grad_boost_regr.predict(processed_test)"
   ]
  },
  {
   "cell_type": "code",
   "execution_count": 35,
   "id": "306cc02a-325f-462d-b8ba-901ea0ada481",
   "metadata": {},
   "outputs": [
    {
     "data": {
      "text/plain": [
       "array([32168105.21436077, 31352111.7233562 , 51327479.2859403 , ...,\n",
       "        8785657.97231116, 12409244.91126426,  7429545.27876493])"
      ]
     },
     "execution_count": 35,
     "metadata": {},
     "output_type": "execute_result"
    }
   ],
   "source": [
    "gb_prediction"
   ]
  },
  {
   "cell_type": "code",
   "execution_count": 36,
   "id": "d5c1c97e-da33-482f-ac33-dc20501b7dc6",
   "metadata": {},
   "outputs": [
    {
     "name": "stdout",
     "output_type": "stream",
     "text": [
      "9937\n",
      "9937\n"
     ]
    }
   ],
   "source": [
    "print(len(gb_prediction))\n",
    "print(len(test))"
   ]
  },
  {
   "cell_type": "code",
   "execution_count": 45,
   "id": "00ce438c-59ff-413d-ae7e-d1449c9ec0b1",
   "metadata": {},
   "outputs": [],
   "source": [
    "df = pd.DataFrame(gb_prediction, columns = ['price_prediction'])"
   ]
  },
  {
   "cell_type": "code",
   "execution_count": 46,
   "id": "0ba5442e-90fb-48bd-9755-bec37b1ebdc8",
   "metadata": {},
   "outputs": [
    {
     "data": {
      "text/html": [
       "<div>\n",
       "<style scoped>\n",
       "    .dataframe tbody tr th:only-of-type {\n",
       "        vertical-align: middle;\n",
       "    }\n",
       "\n",
       "    .dataframe tbody tr th {\n",
       "        vertical-align: top;\n",
       "    }\n",
       "\n",
       "    .dataframe thead th {\n",
       "        text-align: right;\n",
       "    }\n",
       "</style>\n",
       "<table border=\"1\" class=\"dataframe\">\n",
       "  <thead>\n",
       "    <tr style=\"text-align: right;\">\n",
       "      <th></th>\n",
       "      <th>price_prediction</th>\n",
       "    </tr>\n",
       "  </thead>\n",
       "  <tbody>\n",
       "    <tr>\n",
       "      <th>0</th>\n",
       "      <td>3.216811e+07</td>\n",
       "    </tr>\n",
       "    <tr>\n",
       "      <th>1</th>\n",
       "      <td>3.135211e+07</td>\n",
       "    </tr>\n",
       "    <tr>\n",
       "      <th>2</th>\n",
       "      <td>5.132748e+07</td>\n",
       "    </tr>\n",
       "    <tr>\n",
       "      <th>3</th>\n",
       "      <td>2.012628e+07</td>\n",
       "    </tr>\n",
       "    <tr>\n",
       "      <th>4</th>\n",
       "      <td>1.998989e+07</td>\n",
       "    </tr>\n",
       "    <tr>\n",
       "      <th>...</th>\n",
       "      <td>...</td>\n",
       "    </tr>\n",
       "    <tr>\n",
       "      <th>9932</th>\n",
       "      <td>4.503917e+06</td>\n",
       "    </tr>\n",
       "    <tr>\n",
       "      <th>9933</th>\n",
       "      <td>1.053431e+07</td>\n",
       "    </tr>\n",
       "    <tr>\n",
       "      <th>9934</th>\n",
       "      <td>8.785658e+06</td>\n",
       "    </tr>\n",
       "    <tr>\n",
       "      <th>9935</th>\n",
       "      <td>1.240924e+07</td>\n",
       "    </tr>\n",
       "    <tr>\n",
       "      <th>9936</th>\n",
       "      <td>7.429545e+06</td>\n",
       "    </tr>\n",
       "  </tbody>\n",
       "</table>\n",
       "<p>9937 rows × 1 columns</p>\n",
       "</div>"
      ],
      "text/plain": [
       "      price_prediction\n",
       "0         3.216811e+07\n",
       "1         3.135211e+07\n",
       "2         5.132748e+07\n",
       "3         2.012628e+07\n",
       "4         1.998989e+07\n",
       "...                ...\n",
       "9932      4.503917e+06\n",
       "9933      1.053431e+07\n",
       "9934      8.785658e+06\n",
       "9935      1.240924e+07\n",
       "9936      7.429545e+06\n",
       "\n",
       "[9937 rows x 1 columns]"
      ]
     },
     "execution_count": 46,
     "metadata": {},
     "output_type": "execute_result"
    }
   ],
   "source": [
    "df"
   ]
  },
  {
   "cell_type": "code",
   "execution_count": 47,
   "id": "c8fcbb8b-c2b5-48b5-b83b-125e6601e817",
   "metadata": {},
   "outputs": [],
   "source": [
    "result = pd.concat([test['id'], df], axis=1)"
   ]
  },
  {
   "cell_type": "code",
   "execution_count": 48,
   "id": "e4076dd9-9679-4baf-94d0-95620bec4866",
   "metadata": {},
   "outputs": [
    {
     "data": {
      "text/html": [
       "<div>\n",
       "<style scoped>\n",
       "    .dataframe tbody tr th:only-of-type {\n",
       "        vertical-align: middle;\n",
       "    }\n",
       "\n",
       "    .dataframe tbody tr th {\n",
       "        vertical-align: top;\n",
       "    }\n",
       "\n",
       "    .dataframe thead th {\n",
       "        text-align: right;\n",
       "    }\n",
       "</style>\n",
       "<table border=\"1\" class=\"dataframe\">\n",
       "  <thead>\n",
       "    <tr style=\"text-align: right;\">\n",
       "      <th></th>\n",
       "      <th>id</th>\n",
       "      <th>price_prediction</th>\n",
       "    </tr>\n",
       "  </thead>\n",
       "  <tbody>\n",
       "    <tr>\n",
       "      <th>0</th>\n",
       "      <td>23285</td>\n",
       "      <td>3.216811e+07</td>\n",
       "    </tr>\n",
       "    <tr>\n",
       "      <th>1</th>\n",
       "      <td>23850</td>\n",
       "      <td>3.135211e+07</td>\n",
       "    </tr>\n",
       "    <tr>\n",
       "      <th>2</th>\n",
       "      <td>24470</td>\n",
       "      <td>5.132748e+07</td>\n",
       "    </tr>\n",
       "    <tr>\n",
       "      <th>3</th>\n",
       "      <td>24563</td>\n",
       "      <td>2.012628e+07</td>\n",
       "    </tr>\n",
       "    <tr>\n",
       "      <th>4</th>\n",
       "      <td>24564</td>\n",
       "      <td>1.998989e+07</td>\n",
       "    </tr>\n",
       "    <tr>\n",
       "      <th>...</th>\n",
       "      <td>...</td>\n",
       "      <td>...</td>\n",
       "    </tr>\n",
       "    <tr>\n",
       "      <th>9932</th>\n",
       "      <td>33150</td>\n",
       "      <td>4.503917e+06</td>\n",
       "    </tr>\n",
       "    <tr>\n",
       "      <th>9933</th>\n",
       "      <td>33153</td>\n",
       "      <td>1.053431e+07</td>\n",
       "    </tr>\n",
       "    <tr>\n",
       "      <th>9934</th>\n",
       "      <td>33163</td>\n",
       "      <td>8.785658e+06</td>\n",
       "    </tr>\n",
       "    <tr>\n",
       "      <th>9935</th>\n",
       "      <td>33208</td>\n",
       "      <td>1.240924e+07</td>\n",
       "    </tr>\n",
       "    <tr>\n",
       "      <th>9936</th>\n",
       "      <td>33221</td>\n",
       "      <td>7.429545e+06</td>\n",
       "    </tr>\n",
       "  </tbody>\n",
       "</table>\n",
       "<p>9937 rows × 2 columns</p>\n",
       "</div>"
      ],
      "text/plain": [
       "         id  price_prediction\n",
       "0     23285      3.216811e+07\n",
       "1     23850      3.135211e+07\n",
       "2     24470      5.132748e+07\n",
       "3     24563      2.012628e+07\n",
       "4     24564      1.998989e+07\n",
       "...     ...               ...\n",
       "9932  33150      4.503917e+06\n",
       "9933  33153      1.053431e+07\n",
       "9934  33163      8.785658e+06\n",
       "9935  33208      1.240924e+07\n",
       "9936  33221      7.429545e+06\n",
       "\n",
       "[9937 rows x 2 columns]"
      ]
     },
     "execution_count": 48,
     "metadata": {},
     "output_type": "execute_result"
    }
   ],
   "source": [
    "result"
   ]
  },
  {
   "cell_type": "code",
   "execution_count": 52,
   "id": "98f709d3-c50b-4487-b554-9cdb58b9041f",
   "metadata": {},
   "outputs": [],
   "source": [
    "result[['id','price_prediction']].to_csv('submission.csv', index=False)"
   ]
  },
  {
   "cell_type": "code",
   "execution_count": null,
   "id": "c3d5bf1e-1de1-4512-b37a-5fa06d4718e4",
   "metadata": {},
   "outputs": [],
   "source": []
  }
 ],
 "metadata": {
  "kernelspec": {
   "display_name": "Python 3",
   "language": "python",
   "name": "python3"
  },
  "language_info": {
   "codemirror_mode": {
    "name": "ipython",
    "version": 3
   },
   "file_extension": ".py",
   "mimetype": "text/x-python",
   "name": "python",
   "nbconvert_exporter": "python",
   "pygments_lexer": "ipython3",
   "version": "3.8.8"
  }
 },
 "nbformat": 4,
 "nbformat_minor": 5
}
