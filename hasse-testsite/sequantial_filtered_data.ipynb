{
 "cells": [
  {
   "cell_type": "code",
   "execution_count": 2,
   "id": "a4de12bf-f804-4a07-bfe0-9cc602604a06",
   "metadata": {},
   "outputs": [],
   "source": [
    "from utils_hasse import * \n",
    "import seaborn as sns\n",
    "from sklearn.model_selection import train_test_split, KFold\n",
    "from sklearn.tree import DecisionTreeRegressor\n",
    "from sklearn.metrics import mean_squared_log_error\n",
    "from sklearn.ensemble import RandomForestRegressor\n",
    "from sklearn.ensemble import AdaBoostRegressor\n",
    "from sklearn.ensemble import GradientBoostingRegressor\n",
    "from sklearn.preprocessing import LabelEncoder\n",
    "\n",
    "from scipy import stats\n",
    "\n",
    "import lightgbm as lgb\n",
    "from catboost import CatBoostRegressor\n"
   ]
  },
  {
   "cell_type": "markdown",
   "id": "d82793cb-a2f6-463a-894b-96bb880c9792",
   "metadata": {},
   "source": [
    "# Util functions"
   ]
  },
  {
   "cell_type": "markdown",
   "id": "7616ca28-28fd-4cd2-babe-eb7b330d89d7",
   "metadata": {},
   "source": [
    "## Extra functions"
   ]
  },
  {
   "cell_type": "markdown",
   "id": "3a23917b-0883-47fa-a1b5-1e8a063e39dc",
   "metadata": {},
   "source": [
    "### Error function"
   ]
  },
  {
   "cell_type": "code",
   "execution_count": 3,
   "id": "24a6e959-8366-4540-9b9f-9c608df7d3bd",
   "metadata": {},
   "outputs": [],
   "source": [
    "def root_mean_squared_log_error(y_true, y_pred):\n",
    "    # Alternatively: sklearn.metrics.mean_squared_log_error(y_true, y_pred) ** 0.5\n",
    "    assert (y_true >= 0).all() \n",
    "    assert (y_pred >= 0).all()\n",
    "    log_error = np.log1p(y_pred) - np.log1p(y_true)  # Note: log1p(x) = log(1 + x)\n",
    "    return np.mean(log_error ** 2) ** 0.5"
   ]
  },
  {
   "cell_type": "markdown",
   "id": "09696132-7de1-4b27-9d45-307bcc196978",
   "metadata": {},
   "source": [
    "### Plot importance"
   ]
  },
  {
   "cell_type": "code",
   "execution_count": 180,
   "id": "dcc906ff-fc73-4cfb-b9a3-588547de452a",
   "metadata": {},
   "outputs": [],
   "source": [
    "def plot_feature_importance(importance,names,model_type):\n",
    "    \n",
    "    #Create arrays from feature importance and feature names\n",
    "    feature_importance = np.array(importance)\n",
    "    feature_names = np.array(names)\n",
    "    \n",
    "    #Create a DataFrame using a Dictionary\n",
    "    data={'feature_names':feature_names,'feature_importance':feature_importance}\n",
    "    fi_df = pd.DataFrame(data)\n",
    "    \n",
    "    #Sort the DataFrame in order decreasing feature importance\n",
    "    fi_df.sort_values(by=['feature_importance'], ascending=False,inplace=True)\n",
    "    \n",
    "    #Define size of bar plot\n",
    "    plt.figure(figsize=(10,8))\n",
    "    #Plot Searborn bar chart\n",
    "    sns.barplot(x=fi_df['feature_importance'], y=fi_df['feature_names'])\n",
    "    #Add chart labels\n",
    "    plt.title(model_type + 'Feature Importance')\n",
    "    plt.xlabel('FEATURE IMPORTANCE')\n",
    "    plt.ylabel('FEATURE NAMES')"
   ]
  },
  {
   "cell_type": "markdown",
   "id": "b6c81ea9-e4a5-418f-b8a9-144642a690d5",
   "metadata": {},
   "source": [
    "## Preprocessing Data"
   ]
  },
  {
   "cell_type": "code",
   "execution_count": 29,
   "id": "0abd091e-1936-4c8d-ba3d-7e3afa5cb5c9",
   "metadata": {},
   "outputs": [],
   "source": [
    "def preprocess(data,price_outlier_rejection=False,fill=True):\n",
    "    if price_outlier_rejection is True:\n",
    "        data = data[(np.abs(stats.zscore(data['price'])) < 3.9)]\n",
    "    if fill is True:\n",
    "        return data.fillna(data.median())\n",
    "    else:\n",
    "        return data.dropna()"
   ]
  },
  {
   "cell_type": "markdown",
   "id": "893616db-7845-4da6-bbdb-d0fb0ea571e2",
   "metadata": {},
   "source": [
    "## Creating new features"
   ]
  },
  {
   "cell_type": "markdown",
   "id": "d7d4ccc1-efa8-4002-bf10-586d4ec7c124",
   "metadata": {},
   "source": [
    "### Polar coordinates\n",
    "Instead of longitude and latitude, use the polar coordinates to represent the distance from the center"
   ]
  },
  {
   "cell_type": "code",
   "execution_count": 127,
   "id": "335d593f-0d44-4aba-94f0-2cee8441c654",
   "metadata": {},
   "outputs": [],
   "source": [
    "def polar_coordinates(data):\n",
    "    # Make a copy\n",
    "    data_normed_r = data.copy()\n",
    "\n",
    "    # Move origin to centre\n",
    "    data_normed_r['latitude'] = data_normed_r['latitude'] -  data_normed_r['latitude'].mean()\n",
    "    data_normed_r['longitude'] = data_normed_r['longitude'] -  data_normed_r['longitude'].mean()\n",
    "  \n",
    "    # Convert to polar coordinates\n",
    "    data_normed_r['r'] =  np.sqrt(data_normed_r['latitude']**2 + data_normed_r['longitude']**2)\n",
    "    data_normed_r['theta'] = np.arctan(data_normed_r['longitude']/data_normed_r['latitude'])\n",
    "    return data_normed_r"
   ]
  },
  {
   "cell_type": "markdown",
   "id": "a43622b9-9188-43dd-a35e-adb889662e19",
   "metadata": {},
   "source": [
    "### Penthouse\n",
    "Penthouses: (floor == stories and floor > 5)"
   ]
  },
  {
   "cell_type": "code",
   "execution_count": 1,
   "id": "97e38311-45eb-4256-b869-37f6ea344682",
   "metadata": {},
   "outputs": [],
   "source": [
    "def penthouse(data_set):\n",
    "    data = data_set.copy()\n",
    "    # New col - rel_height\n",
    "    data['rel_height'] = data[\"floor\"] / data[\"stories\"]\n",
    "    data['penthouse'] = data[\"floor\"]==data[\"stories\"]\n",
    "    data['high_up'] = (data['rel_height']>0.5) & (data['stories']>10)\n",
    "    data['real_penthouse'] = (data['stories']>10) & (data['penthouse'])\n",
    "\n",
    "    # Elevator\n",
    "    data['penthouse_e'] = (data['penthouse']) & (data['elevator_passenger'])\n",
    "    data['high_up_e'] = (data['high_up']) & (data['elevator_passenger'])\n",
    "    data['real_penthouse_e'] = (data['real_penthouse']) & (data['elevator_passenger'])\n",
    "\n",
    "    # Lacks elevator\n",
    "    data['penthouse_e_w'] = (data['penthouse']) & (data['elevator_without'])\n",
    "    data['high_up_e_w'] = (data['high_up']) & (data['elevator_without'])\n",
    "    data['real_penthouse_e_w'] = (data['real_penthouse']) & (data['elevator_without'])\n",
    "    return data"
   ]
  },
  {
   "cell_type": "markdown",
   "id": "5a517a64-cb7a-4f37-afe1-45b551548c22",
   "metadata": {},
   "source": [
    "# Import training and testing sets"
   ]
  },
  {
   "cell_type": "code",
   "execution_count": 6,
   "id": "8825ee09-de5d-4409-83a1-dd74316dc2b8",
   "metadata": {},
   "outputs": [],
   "source": [
    "train_apartment = pd.read_csv('../data/apartments_train.csv')\n",
    "train_building = pd.read_csv('../data/buildings_train.csv')\n",
    "train = pd.merge(train_apartment, train_building, left_on='building_id', right_on='id')\n",
    "train.rename(columns={'id_x' : 'apartment_id'}, inplace=True)\n",
    "train.drop('id_y', axis=1, inplace=True)\n",
    "# Remove duplicate column after merge."
   ]
  },
  {
   "cell_type": "code",
   "execution_count": 7,
   "id": "d9653a94-73c2-4fff-bd1f-adc398b0de5d",
   "metadata": {},
   "outputs": [],
   "source": [
    "#train['district']\n",
    "#train.dtypes"
   ]
  },
  {
   "cell_type": "code",
   "execution_count": 8,
   "id": "134d323d-7c57-4349-a116-0b177314ab86",
   "metadata": {},
   "outputs": [
    {
     "name": "stdout",
     "output_type": "stream",
     "text": [
      "app length 9937\n",
      "buildings length 2931\n",
      "merged length 9937\n"
     ]
    }
   ],
   "source": [
    "test_apartment = pd.read_csv('../data/apartments_test.csv')\n",
    "test_building = pd.read_csv('../data/buildings_test.csv')\n",
    "print('app length', len(test_apartment))\n",
    "print('buildings length', len(test_building))\n",
    "test = pd.merge(test_apartment, test_building, left_on='building_id', right_on='id')\n",
    "print('merged length', len(test))\n",
    "test.rename(columns={'id_x' : 'id'}, inplace=True)\n",
    "test.drop('id_y', axis=1, inplace=True)\n",
    "test = test.drop(['street', 'address'], axis=1)"
   ]
  },
  {
   "cell_type": "code",
   "execution_count": 9,
   "id": "8f6e11a6-1014-4664-b892-413b0216936b",
   "metadata": {},
   "outputs": [],
   "source": [
    "# test_apartment"
   ]
  },
  {
   "cell_type": "code",
   "execution_count": 10,
   "id": "84e22600-bb89-416c-a47c-ccf9112ee189",
   "metadata": {},
   "outputs": [],
   "source": [
    "column_names_apartments = ['apartment_id', 'seller', 'area_total', 'area_kitchen', 'area_living',\n",
    "       'floor', 'rooms', 'layout', 'ceiling', 'bathrooms_shared',\n",
    "       'bathrooms_private', 'windows_court', 'windows_street', 'balconies',\n",
    "       'loggias', 'condition', 'phones', 'building_id', 'price']\n",
    "column_names_buildings = ['new', 'latitude', 'longitude', 'district', 'street', 'address',\n",
    "       'constructed', 'material', 'stories', 'elevator_without',\n",
    "       'elevator_passenger', 'elevator_service', 'parking', 'garbage_chute',\n",
    "       'heating']\n",
    "all_features = column_names_apartments[:-1] + column_names_buildings\n",
    "#features selected based on gini importance in LGBM model in sequential_all_data\n",
    "selected_features = ['area_total','area_kitchen','floor','bathrooms_private','longitude','latitude','district','constructed','stories']"
   ]
  },
  {
   "cell_type": "markdown",
   "id": "1114d7a8-ebcb-4dc2-9653-ad558743e8dd",
   "metadata": {},
   "source": [
    "# Prepare data"
   ]
  },
  {
   "cell_type": "code",
   "execution_count": 11,
   "id": "d9e8d937-0e76-44fc-8edc-d57084a3f8d7",
   "metadata": {},
   "outputs": [
    {
     "name": "stdout",
     "output_type": "stream",
     "text": [
      "23285\n",
      "23285\n"
     ]
    }
   ],
   "source": [
    "print(len(train))\n",
    "processed_data = preprocess(train)\n",
    "print(len(processed_data))"
   ]
  },
  {
   "cell_type": "code",
   "execution_count": 10,
   "id": "1a0755ed-b1f0-4fa2-b63c-c4dea3b3ccb0",
   "metadata": {},
   "outputs": [],
   "source": [
    "processed_test = preprocess(test)\n",
    "processed_test = processed_test[selected_features]"
   ]
  },
  {
   "cell_type": "code",
   "execution_count": 203,
   "id": "c2342ee5-0182-4dc6-8adc-5e8aaebb8c37",
   "metadata": {},
   "outputs": [],
   "source": [
    "X = processed_data[selected_features]\n",
    "y = processed_data['price']"
   ]
  },
  {
   "cell_type": "code",
   "execution_count": 12,
   "id": "9c9840a6-a4bf-4aca-8774-954f6d73c115",
   "metadata": {},
   "outputs": [],
   "source": [
    "X_train, X_test, y_train, y_test = train_test_split(X, y, test_size=0.2, random_state=42)"
   ]
  },
  {
   "cell_type": "code",
   "execution_count": null,
   "id": "e75f6013-aed6-4557-9afb-318aa2ba5ee0",
   "metadata": {},
   "outputs": [],
   "source": []
  },
  {
   "cell_type": "markdown",
   "id": "8e855b06-31f5-47d8-af00-c718c3536826",
   "metadata": {},
   "source": [
    "# Sequential models on `fillna(data.median())` + selected_features"
   ]
  },
  {
   "cell_type": "markdown",
   "id": "8e8b5f72-3ec5-4b8d-823e-8500b9390368",
   "metadata": {},
   "source": [
    "# Adaboost"
   ]
  },
  {
   "cell_type": "code",
   "execution_count": 47,
   "id": "33aa08f7-31ab-462c-af54-a7bf1bd7571d",
   "metadata": {},
   "outputs": [],
   "source": [
    "adaboost = AdaBoostRegressor(\n",
    "    n_estimators=1500,\n",
    "    learning_rate=0.05,\n",
    "    loss='exponential',\n",
    "    random_state=42\n",
    ")"
   ]
  },
  {
   "cell_type": "code",
   "execution_count": 48,
   "id": "a41603af-4ff4-4cc2-9222-2b99291809af",
   "metadata": {},
   "outputs": [
    {
     "data": {
      "text/plain": [
       "AdaBoostRegressor(learning_rate=0.05, loss='exponential', n_estimators=1500,\n",
       "                  random_state=42)"
      ]
     },
     "execution_count": 48,
     "metadata": {},
     "output_type": "execute_result"
    }
   ],
   "source": [
    "adaboost.fit(X_train, y_train)"
   ]
  },
  {
   "cell_type": "code",
   "execution_count": 49,
   "id": "28fd372b-611b-4294-9f6e-fd5192c39c47",
   "metadata": {},
   "outputs": [],
   "source": [
    "ada_prediction = adaboost.predict(X_test)"
   ]
  },
  {
   "cell_type": "code",
   "execution_count": 147,
   "id": "c48fd64e-639d-486d-b319-4ff5eb715d96",
   "metadata": {},
   "outputs": [
    {
     "name": "stdout",
     "output_type": "stream",
     "text": [
      "Adaboost MSLE: 1.974092113141052\n"
     ]
    }
   ],
   "source": [
    "ada_mse = root_mean_squared_log_error(y_test, ada_prediction)\n",
    "print('Adaboost MSLE:', ada_mse)"
   ]
  },
  {
   "cell_type": "code",
   "execution_count": 51,
   "id": "6d731794-7347-4bcf-bb6e-57be5b81e5e8",
   "metadata": {},
   "outputs": [
    {
     "data": {
      "text/plain": [
       "Text(0, 0.5, 'Ground Truth')"
      ]
     },
     "execution_count": 51,
     "metadata": {},
     "output_type": "execute_result"
    },
    {
     "data": {
      "image/png": "[encoded data removed]",
      "text/plain": [
       "<Figure size 432x288 with 1 Axes>"
      ]
     },
     "metadata": {},
     "output_type": "display_data"
    }
   ],
   "source": [
    "plt.scatter(ada_prediction, y_test)\n",
    "plt.xlabel('Adaboost prediction')\n",
    "plt.ylabel('Ground Truth')"
   ]
  },
  {
   "cell_type": "markdown",
   "id": "b1c3ef8b-40e8-4ddf-ae70-3cc83f285d4b",
   "metadata": {},
   "source": [
    "# Gradient Boosting Machine"
   ]
  },
  {
   "cell_type": "code",
   "execution_count": 53,
   "id": "8fbdb1c5-3068-4353-9899-07a42b2ee304",
   "metadata": {},
   "outputs": [],
   "source": [
    "grad_boost_regr = GradientBoostingRegressor(\n",
    "    learning_rate=0.01,\n",
    "    n_estimators=2000,\n",
    "    subsample=1.0, \n",
    "    criterion='mse', \n",
    "    min_samples_split=4, \n",
    "    min_samples_leaf=2, \n",
    "    min_weight_fraction_leaf=0.0, \n",
    "    max_depth=9, \n",
    "    min_impurity_decrease=0.0, \n",
    "    init=None, \n",
    "    random_state=0, \n",
    "    max_features=None,\n",
    "    alpha=0.9,\n",
    "    verbose=0,\n",
    "    max_leaf_nodes=None,\n",
    "    warm_start=False,\n",
    "    validation_fraction=0.1,\n",
    "    n_iter_no_change=None,\n",
    "    tol=0.0001,\n",
    "    ccp_alpha=0.0\n",
    ")"
   ]
  },
  {
   "cell_type": "code",
   "execution_count": 54,
   "id": "4b187fc2-3571-4dc3-859a-090728b0d54a",
   "metadata": {},
   "outputs": [
    {
     "data": {
      "text/plain": [
       "GradientBoostingRegressor(criterion='mse', learning_rate=0.01, max_depth=9,\n",
       "                          min_samples_leaf=2, min_samples_split=4,\n",
       "                          n_estimators=2000, random_state=0)"
      ]
     },
     "execution_count": 54,
     "metadata": {},
     "output_type": "execute_result"
    }
   ],
   "source": [
    "grad_boost_regr.fit(X_train, y_train)"
   ]
  },
  {
   "cell_type": "code",
   "execution_count": 55,
   "id": "d9578647-3735-40b0-a684-3b823985bec4",
   "metadata": {},
   "outputs": [],
   "source": [
    "gb_prediction = grad_boost_regr.predict(X_test)"
   ]
  },
  {
   "cell_type": "code",
   "execution_count": 88,
   "id": "65d328a1-2bf2-4e7f-9099-cd11c27b5756",
   "metadata": {},
   "outputs": [
    {
     "data": {
      "text/plain": [
       "array([11214196.4400788 ,  7227579.05745758, 41775834.12136191, ...,\n",
       "       12598655.14128944, 11670612.1717401 ,  9856988.76512617])"
      ]
     },
     "execution_count": 88,
     "metadata": {},
     "output_type": "execute_result"
    }
   ],
   "source": [
    "gb_prediction"
   ]
  },
  {
   "cell_type": "code",
   "execution_count": 148,
   "id": "c2894342-3270-4163-86d4-7110f9824387",
   "metadata": {},
   "outputs": [
    {
     "name": "stdout",
     "output_type": "stream",
     "text": [
      "Gradient Boost MSE: 0.4187272673484639\n"
     ]
    }
   ],
   "source": [
    "gb_mse = root_mean_squared_log_error(gb_prediction, y_test)\n",
    "print('Gradient Boost MSE:', math.sqrt(gb_mse))"
   ]
  },
  {
   "cell_type": "code",
   "execution_count": 57,
   "id": "f145ab60-8d92-409a-8d8c-310239cbe626",
   "metadata": {},
   "outputs": [
    {
     "data": {
      "image/png": "[encoded data removed]",
      "text/plain": [
       "<Figure size 432x288 with 1 Axes>"
      ]
     },
     "metadata": {},
     "output_type": "display_data"
    }
   ],
   "source": [
    "plt.scatter(gb_prediction, y_test)\n",
    "plt.xlabel('Gradient Boosting prediction')\n",
    "plt.ylabel('Ground Truth')\n",
    "plt.xscale('log')\n",
    "plt.yscale('log')"
   ]
  },
  {
   "cell_type": "code",
   "execution_count": 58,
   "id": "fe53cf1a-6104-430a-b70a-e2a069af584e",
   "metadata": {},
   "outputs": [
    {
     "data": {
      "image/png": "[encoded data removed]",
      "text/plain": [
       "<Figure size 432x288 with 1 Axes>"
      ]
     },
     "metadata": {},
     "output_type": "display_data"
    }
   ],
   "source": [
    "importances = grad_boost_regr.feature_importances_\n",
    "forest_importances = pd.Series(importances, index=X.columns)\n",
    "\n",
    "fig, ax = plt.subplots()\n",
    "forest_importances.plot.bar(ax=ax)\n",
    "ax.set_title(\"MDI or Gini Importance\")\n",
    "ax.set_ylabel(\"Mean decrease in impurity\")\n",
    "fig.tight_layout()"
   ]
  },
  {
   "cell_type": "markdown",
   "id": "202a2405-7faf-4996-a08c-215f41704452",
   "metadata": {},
   "source": [
    "# LightGBM"
   ]
  },
  {
   "cell_type": "code",
   "execution_count": 59,
   "id": "7974aa24-5950-49fe-9d77-c00a71a0bdd9",
   "metadata": {},
   "outputs": [],
   "source": [
    "light_gbm = lgb.LGBMRegressor(\n",
    "    num_leaves=10,\n",
    "    max_depth=5, \n",
    "    random_state=42, \n",
    "    silent=True, \n",
    "    metric='mse',\n",
    "    n_jobs=4, \n",
    "    n_estimators=2000,\n",
    "    colsample_bytree=0.95,\n",
    "    subsample=0.9,\n",
    "    learning_rate=0.05\n",
    ")"
   ]
  },
  {
   "cell_type": "code",
   "execution_count": 60,
   "id": "84b92401-396b-4f51-b217-a9a8accd58b9",
   "metadata": {},
   "outputs": [
    {
     "data": {
      "text/plain": [
       "LGBMRegressor(colsample_bytree=0.95, learning_rate=0.05, max_depth=5,\n",
       "              metric='mse', n_estimators=2000, n_jobs=4, num_leaves=10,\n",
       "              random_state=42, subsample=0.9)"
      ]
     },
     "execution_count": 60,
     "metadata": {},
     "output_type": "execute_result"
    }
   ],
   "source": [
    "light_gbm.fit(X_train, y_train)"
   ]
  },
  {
   "cell_type": "code",
   "execution_count": 100,
   "id": "4c67ce00-1c28-43a2-a285-a9b3d6b0fdd0",
   "metadata": {},
   "outputs": [],
   "source": [
    "lgbm_prediction = light_gbm.predict(X_test)"
   ]
  },
  {
   "cell_type": "code",
   "execution_count": null,
   "id": "5848c136-0003-4b07-8c4d-347479071a5f",
   "metadata": {},
   "outputs": [],
   "source": []
  },
  {
   "cell_type": "code",
   "execution_count": 149,
   "id": "24eed065-783e-46d3-b886-cd35f36483d8",
   "metadata": {},
   "outputs": [
    {
     "name": "stdout",
     "output_type": "stream",
     "text": [
      "LGBM MSE: 0.27009139459664533\n"
     ]
    }
   ],
   "source": [
    "lgb_mse = root_mean_squared_log_error(np.abs(y_test), np.abs(lgbm_prediction))\n",
    "print('LGBM MSE:', lgb_mse)"
   ]
  },
  {
   "cell_type": "code",
   "execution_count": 110,
   "id": "5b153fa6-73cf-409e-b909-7bce62a0c2da",
   "metadata": {},
   "outputs": [
    {
     "data": {
      "text/plain": [
       "Text(0, 0.5, 'Ground Truth')"
      ]
     },
     "execution_count": 110,
     "metadata": {},
     "output_type": "execute_result"
    },
    {
     "data": {
      "image/png": "[encoded data removed]",
      "text/plain": [
       "<Figure size 432x288 with 1 Axes>"
      ]
     },
     "metadata": {},
     "output_type": "display_data"
    }
   ],
   "source": [
    "plt.scatter(lgbm_prediction, y_test)\n",
    "plt.xlabel('LightGBM prediction')\n",
    "plt.ylabel('Ground Truth')"
   ]
  },
  {
   "cell_type": "code",
   "execution_count": 111,
   "id": "c97f3ffc-a9bf-47e8-a6ef-4c74565009bc",
   "metadata": {},
   "outputs": [
    {
     "data": {
      "image/png": "[encoded data removed]",
      "text/plain": [
       "<Figure size 432x288 with 1 Axes>"
      ]
     },
     "metadata": {},
     "output_type": "display_data"
    }
   ],
   "source": [
    "importances = light_gbm.feature_importances_\n",
    "forest_importances = pd.Series(importances, index=X.columns)\n",
    "\n",
    "fig, ax = plt.subplots()\n",
    "forest_importances.plot.bar(ax=ax)\n",
    "ax.set_title(\"Gini Importance\")\n",
    "ax.set_ylabel(\"Importance\")\n",
    "fig.tight_layout()"
   ]
  },
  {
   "cell_type": "markdown",
   "id": "ce78e0fa-df1f-4f31-a91d-a87d9fabee05",
   "metadata": {},
   "source": [
    "# CatBoost"
   ]
  },
  {
   "cell_type": "code",
   "execution_count": 112,
   "id": "162834db-acdb-4b7f-80ff-473a44319b23",
   "metadata": {},
   "outputs": [],
   "source": [
    "catboost = CatBoostRegressor(\n",
    "    n_estimators=500,\n",
    "    learning_rate=0.1,\n",
    "    thread_count=-1,\n",
    "    depth=7,\n",
    "    silent=True,\n",
    "    random_seed=42,\n",
    "    bagging_temperature=0.2\n",
    "#     od_type=\"Iter\"\n",
    ")"
   ]
  },
  {
   "cell_type": "code",
   "execution_count": 113,
   "id": "1850b0ad-f23d-41fc-a905-b663046c2c96",
   "metadata": {},
   "outputs": [
    {
     "data": {
      "text/plain": [
       "<catboost.core.CatBoostRegressor at 0x23f6fa42940>"
      ]
     },
     "execution_count": 113,
     "metadata": {},
     "output_type": "execute_result"
    }
   ],
   "source": [
    "catboost.fit(X_train, y_train)"
   ]
  },
  {
   "cell_type": "code",
   "execution_count": 114,
   "id": "2d347c4a-14e6-4271-828e-3034e5f47932",
   "metadata": {},
   "outputs": [],
   "source": [
    "cat_prediction = catboost.predict(X_test)"
   ]
  },
  {
   "cell_type": "code",
   "execution_count": 150,
   "id": "ab8ac9c3-6a8d-4162-a586-77ecf4b969af",
   "metadata": {},
   "outputs": [
    {
     "name": "stdout",
     "output_type": "stream",
     "text": [
      "Catboost MSE: 0.21536234150804115\n"
     ]
    }
   ],
   "source": [
    "cat_mse = root_mean_squared_log_error(cat_prediction, y_test)\n",
    "print('Catboost MSE:', cat_mse)"
   ]
  },
  {
   "cell_type": "code",
   "execution_count": 116,
   "id": "504f850b-20c7-4d95-97d6-b3e379e0fb08",
   "metadata": {},
   "outputs": [
    {
     "data": {
      "text/plain": [
       "Text(0, 0.5, 'Ground Truth')"
      ]
     },
     "execution_count": 116,
     "metadata": {},
     "output_type": "execute_result"
    },
    {
     "data": {
      "image/png": "[encoded data removed]",
      "text/plain": [
       "<Figure size 432x288 with 1 Axes>"
      ]
     },
     "metadata": {},
     "output_type": "display_data"
    }
   ],
   "source": [
    "plt.scatter(cat_prediction, y_test)\n",
    "plt.xlabel('CatBoost prediction')\n",
    "plt.ylabel('Ground Truth')"
   ]
  },
  {
   "cell_type": "markdown",
   "id": "f5870800-2c11-4242-a84a-a12bafb4e8b6",
   "metadata": {},
   "source": [
    "# Try gradient boost to obtain submission"
   ]
  },
  {
   "cell_type": "code",
   "execution_count": null,
   "id": "4569a336-a3f3-4086-87e2-450eb6ce3ce4",
   "metadata": {},
   "outputs": [],
   "source": [
    "grad_boost_regr.fit(X, y)"
   ]
  },
  {
   "cell_type": "code",
   "execution_count": null,
   "id": "07e1dcc6-f2a4-4ed1-98dc-d22135a59fd1",
   "metadata": {},
   "outputs": [],
   "source": [
    "gb_prediction = grad_boost_regr.predict(processed_test)"
   ]
  },
  {
   "cell_type": "code",
   "execution_count": null,
   "id": "306cc02a-325f-462d-b8ba-901ea0ada481",
   "metadata": {},
   "outputs": [],
   "source": [
    "gb_prediction"
   ]
  },
  {
   "cell_type": "code",
   "execution_count": null,
   "id": "d5c1c97e-da33-482f-ac33-dc20501b7dc6",
   "metadata": {},
   "outputs": [],
   "source": [
    "print(len(gb_prediction))\n",
    "print(len(test))"
   ]
  },
  {
   "cell_type": "code",
   "execution_count": null,
   "id": "00ce438c-59ff-413d-ae7e-d1449c9ec0b1",
   "metadata": {},
   "outputs": [],
   "source": [
    "df = pd.DataFrame(gb_prediction, columns = ['price_prediction'])"
   ]
  },
  {
   "cell_type": "code",
   "execution_count": null,
   "id": "0ba5442e-90fb-48bd-9755-bec37b1ebdc8",
   "metadata": {},
   "outputs": [],
   "source": [
    "df"
   ]
  },
  {
   "cell_type": "code",
   "execution_count": null,
   "id": "c8fcbb8b-c2b5-48b5-b83b-125e6601e817",
   "metadata": {},
   "outputs": [],
   "source": [
    "result = pd.concat([test['id'], df], axis=1)"
   ]
  },
  {
   "cell_type": "code",
   "execution_count": null,
   "id": "e4076dd9-9679-4baf-94d0-95620bec4866",
   "metadata": {},
   "outputs": [],
   "source": [
    "result"
   ]
  },
  {
   "cell_type": "code",
   "execution_count": null,
   "id": "98f709d3-c50b-4487-b554-9cdb58b9041f",
   "metadata": {},
   "outputs": [],
   "source": [
    "result[['id','price_prediction']].to_csv('submission.csv', index=False)"
   ]
  },
  {
   "cell_type": "markdown",
   "id": "bea7bb27-f254-40eb-a369-f9bfce5794cb",
   "metadata": {},
   "source": [
    "# Same for Catboost"
   ]
  },
  {
   "cell_type": "code",
   "execution_count": 152,
   "id": "78c9d056-1d1f-42cf-a97e-e308966f4254",
   "metadata": {},
   "outputs": [
    {
     "name": "stdout",
     "output_type": "stream",
     "text": [
      "[28689792.53837101 30989777.67480221 61225477.62420059 ...\n",
      "  9385962.26123848  9429313.03382172  5288718.14789962]\n",
      "9937\n",
      "9937\n"
     ]
    }
   ],
   "source": [
    "catboost.fit(X, y)\n",
    "cat_prediction = catboost.predict(processed_test)\n",
    "df = pd.DataFrame(cat_prediction, columns = ['price_prediction'])\n",
    "result = pd.concat([test['id'], df], axis=1)\n",
    "result[['id','price_prediction']].to_csv('CB1.csv', index=False)"
   ]
  },
  {
   "cell_type": "code",
   "execution_count": null,
   "id": "4efdacc8-8f30-488c-9ea0-459039f20595",
   "metadata": {},
   "outputs": [],
   "source": []
  },
  {
   "cell_type": "code",
   "execution_count": null,
   "id": "102b40a3-6814-471f-98ee-7acb69009c4e",
   "metadata": {},
   "outputs": [],
   "source": []
  },
  {
   "cell_type": "code",
   "execution_count": null,
   "id": "a4d173c6-9585-42a4-beff-c8dab7854e97",
   "metadata": {},
   "outputs": [],
   "source": []
  },
  {
   "cell_type": "code",
   "execution_count": null,
   "id": "58ff60cd-f62b-4927-ae51-27aa9d2f9069",
   "metadata": {},
   "outputs": [],
   "source": []
  },
  {
   "cell_type": "markdown",
   "id": "b5de3653-0678-4809-a7d3-4c7689c4a47d",
   "metadata": {},
   "source": [
    "# Numerical + transform categorical"
   ]
  },
  {
   "cell_type": "code",
   "execution_count": null,
   "id": "964bf006-6d8d-480d-a774-a5faf20dcbee",
   "metadata": {},
   "outputs": [],
   "source": [
    "numerical_features = [\"area_total\", \"area_kitchen\", \"area_living\", \"floor\", \"rooms\", \"ceiling\", \"bathrooms_shared\", \"bathrooms_private\", \"balconies\", \"latitude\", \"longitude\", \"constructed\"]"
   ]
  },
  {
   "cell_type": "markdown",
   "id": "ddf1e9d6-06fc-45b8-a97d-6297fd204270",
   "metadata": {},
   "source": [
    "## Categorical to numerical index map"
   ]
  },
  {
   "cell_type": "code",
   "execution_count": 145,
   "id": "3a367e17-2737-4b4b-8a4a-d410f01eed00",
   "metadata": {},
   "outputs": [],
   "source": [
    "le = LabelEncoder()\n",
    "train_categorical_removed = train\n",
    "train_categorical_removed['street'] = le.fit_transform(train_categorical_removed['street'])\n",
    "train_categorical_removed['address'] = le.fit_transform(train_categorical_removed['address'])"
   ]
  },
  {
   "cell_type": "code",
   "execution_count": 146,
   "id": "55266351-e5d6-49cf-b414-13e817fb19c5",
   "metadata": {},
   "outputs": [
    {
     "data": {
      "text/html": [
       "<div>\n",
       "<style scoped>\n",
       "    .dataframe tbody tr th:only-of-type {\n",
       "        vertical-align: middle;\n",
       "    }\n",
       "\n",
       "    .dataframe tbody tr th {\n",
       "        vertical-align: top;\n",
       "    }\n",
       "\n",
       "    .dataframe thead th {\n",
       "        text-align: right;\n",
       "    }\n",
       "</style>\n",
       "<table border=\"1\" class=\"dataframe\">\n",
       "  <thead>\n",
       "    <tr style=\"text-align: right;\">\n",
       "      <th></th>\n",
       "      <th>apartment_id</th>\n",
       "      <th>seller</th>\n",
       "      <th>price</th>\n",
       "      <th>area_total</th>\n",
       "      <th>area_kitchen</th>\n",
       "      <th>area_living</th>\n",
       "      <th>floor</th>\n",
       "      <th>rooms</th>\n",
       "      <th>layout</th>\n",
       "      <th>ceiling</th>\n",
       "      <th>...</th>\n",
       "      <th>address</th>\n",
       "      <th>constructed</th>\n",
       "      <th>material</th>\n",
       "      <th>stories</th>\n",
       "      <th>elevator_without</th>\n",
       "      <th>elevator_passenger</th>\n",
       "      <th>elevator_service</th>\n",
       "      <th>parking</th>\n",
       "      <th>garbage_chute</th>\n",
       "      <th>heating</th>\n",
       "    </tr>\n",
       "  </thead>\n",
       "  <tbody>\n",
       "    <tr>\n",
       "      <th>0</th>\n",
       "      <td>0</td>\n",
       "      <td>3.0</td>\n",
       "      <td>7139520.0</td>\n",
       "      <td>59.2</td>\n",
       "      <td>12.5</td>\n",
       "      <td>31.00</td>\n",
       "      <td>2.0</td>\n",
       "      <td>2.0</td>\n",
       "      <td>NaN</td>\n",
       "      <td>2.65</td>\n",
       "      <td>...</td>\n",
       "      <td>1714</td>\n",
       "      <td>2021.0</td>\n",
       "      <td>3.0</td>\n",
       "      <td>9.0</td>\n",
       "      <td>0.0</td>\n",
       "      <td>1.0</td>\n",
       "      <td>1.0</td>\n",
       "      <td>1.0</td>\n",
       "      <td>NaN</td>\n",
       "      <td>NaN</td>\n",
       "    </tr>\n",
       "    <tr>\n",
       "      <th>1</th>\n",
       "      <td>12</td>\n",
       "      <td>3.0</td>\n",
       "      <td>4045140.0</td>\n",
       "      <td>19.8</td>\n",
       "      <td>5.2</td>\n",
       "      <td>9.60</td>\n",
       "      <td>17.0</td>\n",
       "      <td>1.0</td>\n",
       "      <td>NaN</td>\n",
       "      <td>2.65</td>\n",
       "      <td>...</td>\n",
       "      <td>1714</td>\n",
       "      <td>2021.0</td>\n",
       "      <td>3.0</td>\n",
       "      <td>9.0</td>\n",
       "      <td>0.0</td>\n",
       "      <td>1.0</td>\n",
       "      <td>1.0</td>\n",
       "      <td>1.0</td>\n",
       "      <td>NaN</td>\n",
       "      <td>NaN</td>\n",
       "    </tr>\n",
       "    <tr>\n",
       "      <th>2</th>\n",
       "      <td>55</td>\n",
       "      <td>3.0</td>\n",
       "      <td>9500240.0</td>\n",
       "      <td>79.7</td>\n",
       "      <td>17.0</td>\n",
       "      <td>41.50</td>\n",
       "      <td>9.0</td>\n",
       "      <td>3.0</td>\n",
       "      <td>NaN</td>\n",
       "      <td>2.65</td>\n",
       "      <td>...</td>\n",
       "      <td>1714</td>\n",
       "      <td>2021.0</td>\n",
       "      <td>3.0</td>\n",
       "      <td>9.0</td>\n",
       "      <td>0.0</td>\n",
       "      <td>1.0</td>\n",
       "      <td>1.0</td>\n",
       "      <td>1.0</td>\n",
       "      <td>NaN</td>\n",
       "      <td>NaN</td>\n",
       "    </tr>\n",
       "    <tr>\n",
       "      <th>3</th>\n",
       "      <td>104</td>\n",
       "      <td>3.0</td>\n",
       "      <td>4326660.0</td>\n",
       "      <td>23.4</td>\n",
       "      <td>6.1</td>\n",
       "      <td>11.30</td>\n",
       "      <td>9.0</td>\n",
       "      <td>1.0</td>\n",
       "      <td>NaN</td>\n",
       "      <td>2.65</td>\n",
       "      <td>...</td>\n",
       "      <td>1714</td>\n",
       "      <td>2021.0</td>\n",
       "      <td>3.0</td>\n",
       "      <td>9.0</td>\n",
       "      <td>0.0</td>\n",
       "      <td>1.0</td>\n",
       "      <td>1.0</td>\n",
       "      <td>1.0</td>\n",
       "      <td>NaN</td>\n",
       "      <td>NaN</td>\n",
       "    </tr>\n",
       "    <tr>\n",
       "      <th>4</th>\n",
       "      <td>106</td>\n",
       "      <td>3.0</td>\n",
       "      <td>4333980.0</td>\n",
       "      <td>23.8</td>\n",
       "      <td>6.1</td>\n",
       "      <td>11.30</td>\n",
       "      <td>9.0</td>\n",
       "      <td>1.0</td>\n",
       "      <td>NaN</td>\n",
       "      <td>2.65</td>\n",
       "      <td>...</td>\n",
       "      <td>1714</td>\n",
       "      <td>2021.0</td>\n",
       "      <td>3.0</td>\n",
       "      <td>9.0</td>\n",
       "      <td>0.0</td>\n",
       "      <td>1.0</td>\n",
       "      <td>1.0</td>\n",
       "      <td>1.0</td>\n",
       "      <td>NaN</td>\n",
       "      <td>NaN</td>\n",
       "    </tr>\n",
       "    <tr>\n",
       "      <th>...</th>\n",
       "      <td>...</td>\n",
       "      <td>...</td>\n",
       "      <td>...</td>\n",
       "      <td>...</td>\n",
       "      <td>...</td>\n",
       "      <td>...</td>\n",
       "      <td>...</td>\n",
       "      <td>...</td>\n",
       "      <td>...</td>\n",
       "      <td>...</td>\n",
       "      <td>...</td>\n",
       "      <td>...</td>\n",
       "      <td>...</td>\n",
       "      <td>...</td>\n",
       "      <td>...</td>\n",
       "      <td>...</td>\n",
       "      <td>...</td>\n",
       "      <td>...</td>\n",
       "      <td>...</td>\n",
       "      <td>...</td>\n",
       "      <td>...</td>\n",
       "    </tr>\n",
       "    <tr>\n",
       "      <th>23280</th>\n",
       "      <td>23228</td>\n",
       "      <td>0.0</td>\n",
       "      <td>12500000.0</td>\n",
       "      <td>73.0</td>\n",
       "      <td>14.5</td>\n",
       "      <td>24.16</td>\n",
       "      <td>2.0</td>\n",
       "      <td>2.0</td>\n",
       "      <td>1.0</td>\n",
       "      <td>2.90</td>\n",
       "      <td>...</td>\n",
       "      <td>756</td>\n",
       "      <td>2016.0</td>\n",
       "      <td>NaN</td>\n",
       "      <td>6.0</td>\n",
       "      <td>0.0</td>\n",
       "      <td>1.0</td>\n",
       "      <td>1.0</td>\n",
       "      <td>NaN</td>\n",
       "      <td>NaN</td>\n",
       "      <td>0.0</td>\n",
       "    </tr>\n",
       "    <tr>\n",
       "      <th>23281</th>\n",
       "      <td>23229</td>\n",
       "      <td>NaN</td>\n",
       "      <td>5250000.0</td>\n",
       "      <td>35.7</td>\n",
       "      <td>9.0</td>\n",
       "      <td>26.70</td>\n",
       "      <td>8.0</td>\n",
       "      <td>1.0</td>\n",
       "      <td>NaN</td>\n",
       "      <td>NaN</td>\n",
       "      <td>...</td>\n",
       "      <td>1443</td>\n",
       "      <td>1991.0</td>\n",
       "      <td>4.0</td>\n",
       "      <td>16.0</td>\n",
       "      <td>0.0</td>\n",
       "      <td>1.0</td>\n",
       "      <td>0.0</td>\n",
       "      <td>NaN</td>\n",
       "      <td>1.0</td>\n",
       "      <td>0.0</td>\n",
       "    </tr>\n",
       "    <tr>\n",
       "      <th>23282</th>\n",
       "      <td>23248</td>\n",
       "      <td>NaN</td>\n",
       "      <td>13500000.0</td>\n",
       "      <td>58.1</td>\n",
       "      <td>18.3</td>\n",
       "      <td>30.70</td>\n",
       "      <td>17.0</td>\n",
       "      <td>2.0</td>\n",
       "      <td>2.0</td>\n",
       "      <td>2.75</td>\n",
       "      <td>...</td>\n",
       "      <td>1471</td>\n",
       "      <td>2011.0</td>\n",
       "      <td>3.0</td>\n",
       "      <td>17.0</td>\n",
       "      <td>0.0</td>\n",
       "      <td>1.0</td>\n",
       "      <td>1.0</td>\n",
       "      <td>NaN</td>\n",
       "      <td>1.0</td>\n",
       "      <td>0.0</td>\n",
       "    </tr>\n",
       "    <tr>\n",
       "      <th>23283</th>\n",
       "      <td>23250</td>\n",
       "      <td>1.0</td>\n",
       "      <td>18900000.0</td>\n",
       "      <td>116.0</td>\n",
       "      <td>12.6</td>\n",
       "      <td>NaN</td>\n",
       "      <td>2.0</td>\n",
       "      <td>3.0</td>\n",
       "      <td>NaN</td>\n",
       "      <td>NaN</td>\n",
       "      <td>...</td>\n",
       "      <td>1342</td>\n",
       "      <td>2001.0</td>\n",
       "      <td>NaN</td>\n",
       "      <td>6.0</td>\n",
       "      <td>NaN</td>\n",
       "      <td>NaN</td>\n",
       "      <td>NaN</td>\n",
       "      <td>NaN</td>\n",
       "      <td>NaN</td>\n",
       "      <td>NaN</td>\n",
       "    </tr>\n",
       "    <tr>\n",
       "      <th>23284</th>\n",
       "      <td>23271</td>\n",
       "      <td>NaN</td>\n",
       "      <td>10890000.0</td>\n",
       "      <td>45.7</td>\n",
       "      <td>11.8</td>\n",
       "      <td>21.80</td>\n",
       "      <td>9.0</td>\n",
       "      <td>1.0</td>\n",
       "      <td>NaN</td>\n",
       "      <td>2.70</td>\n",
       "      <td>...</td>\n",
       "      <td>1169</td>\n",
       "      <td>2005.0</td>\n",
       "      <td>3.0</td>\n",
       "      <td>22.0</td>\n",
       "      <td>0.0</td>\n",
       "      <td>1.0</td>\n",
       "      <td>1.0</td>\n",
       "      <td>NaN</td>\n",
       "      <td>0.0</td>\n",
       "      <td>0.0</td>\n",
       "    </tr>\n",
       "  </tbody>\n",
       "</table>\n",
       "<p>23285 rows × 34 columns</p>\n",
       "</div>"
      ],
      "text/plain": [
       "       apartment_id  seller       price  area_total  area_kitchen  \\\n",
       "0                 0     3.0   7139520.0        59.2          12.5   \n",
       "1                12     3.0   4045140.0        19.8           5.2   \n",
       "2                55     3.0   9500240.0        79.7          17.0   \n",
       "3               104     3.0   4326660.0        23.4           6.1   \n",
       "4               106     3.0   4333980.0        23.8           6.1   \n",
       "...             ...     ...         ...         ...           ...   \n",
       "23280         23228     0.0  12500000.0        73.0          14.5   \n",
       "23281         23229     NaN   5250000.0        35.7           9.0   \n",
       "23282         23248     NaN  13500000.0        58.1          18.3   \n",
       "23283         23250     1.0  18900000.0       116.0          12.6   \n",
       "23284         23271     NaN  10890000.0        45.7          11.8   \n",
       "\n",
       "       area_living  floor  rooms  layout  ceiling  ...  address  constructed  \\\n",
       "0            31.00    2.0    2.0     NaN     2.65  ...     1714       2021.0   \n",
       "1             9.60   17.0    1.0     NaN     2.65  ...     1714       2021.0   \n",
       "2            41.50    9.0    3.0     NaN     2.65  ...     1714       2021.0   \n",
       "3            11.30    9.0    1.0     NaN     2.65  ...     1714       2021.0   \n",
       "4            11.30    9.0    1.0     NaN     2.65  ...     1714       2021.0   \n",
       "...            ...    ...    ...     ...      ...  ...      ...          ...   \n",
       "23280        24.16    2.0    2.0     1.0     2.90  ...      756       2016.0   \n",
       "23281        26.70    8.0    1.0     NaN      NaN  ...     1443       1991.0   \n",
       "23282        30.70   17.0    2.0     2.0     2.75  ...     1471       2011.0   \n",
       "23283          NaN    2.0    3.0     NaN      NaN  ...     1342       2001.0   \n",
       "23284        21.80    9.0    1.0     NaN     2.70  ...     1169       2005.0   \n",
       "\n",
       "       material  stories  elevator_without  elevator_passenger  \\\n",
       "0           3.0      9.0               0.0                 1.0   \n",
       "1           3.0      9.0               0.0                 1.0   \n",
       "2           3.0      9.0               0.0                 1.0   \n",
       "3           3.0      9.0               0.0                 1.0   \n",
       "4           3.0      9.0               0.0                 1.0   \n",
       "...         ...      ...               ...                 ...   \n",
       "23280       NaN      6.0               0.0                 1.0   \n",
       "23281       4.0     16.0               0.0                 1.0   \n",
       "23282       3.0     17.0               0.0                 1.0   \n",
       "23283       NaN      6.0               NaN                 NaN   \n",
       "23284       3.0     22.0               0.0                 1.0   \n",
       "\n",
       "       elevator_service  parking  garbage_chute  heating  \n",
       "0                   1.0      1.0            NaN      NaN  \n",
       "1                   1.0      1.0            NaN      NaN  \n",
       "2                   1.0      1.0            NaN      NaN  \n",
       "3                   1.0      1.0            NaN      NaN  \n",
       "4                   1.0      1.0            NaN      NaN  \n",
       "...                 ...      ...            ...      ...  \n",
       "23280               1.0      NaN            NaN      0.0  \n",
       "23281               0.0      NaN            1.0      0.0  \n",
       "23282               1.0      NaN            1.0      0.0  \n",
       "23283               NaN      NaN            NaN      NaN  \n",
       "23284               1.0      NaN            0.0      0.0  \n",
       "\n",
       "[23285 rows x 34 columns]"
      ]
     },
     "execution_count": 146,
     "metadata": {},
     "output_type": "execute_result"
    }
   ],
   "source": [
    "train_categorical_removed"
   ]
  },
  {
   "cell_type": "code",
   "execution_count": null,
   "id": "2be1485d-86b4-4c4a-a217-fc673c43b7a4",
   "metadata": {},
   "outputs": [],
   "source": []
  },
  {
   "cell_type": "markdown",
   "id": "8469ccb5-9466-4b43-acee-101407fa0350",
   "metadata": {},
   "source": [
    "# Sequential models on `fillna(data.median())` + all and created features"
   ]
  },
  {
   "cell_type": "markdown",
   "id": "0b5fd9f7-8ad3-44ed-b548-6ffd4393a35f",
   "metadata": {},
   "source": [
    "## Prepare data "
   ]
  },
  {
   "cell_type": "code",
   "execution_count": 160,
   "id": "4975a386-1d86-4258-9874-e7e2cac95814",
   "metadata": {},
   "outputs": [
    {
     "data": {
      "text/html": [
       "<div>\n",
       "<style scoped>\n",
       "    .dataframe tbody tr th:only-of-type {\n",
       "        vertical-align: middle;\n",
       "    }\n",
       "\n",
       "    .dataframe tbody tr th {\n",
       "        vertical-align: top;\n",
       "    }\n",
       "\n",
       "    .dataframe thead th {\n",
       "        text-align: right;\n",
       "    }\n",
       "</style>\n",
       "<table border=\"1\" class=\"dataframe\">\n",
       "  <thead>\n",
       "    <tr style=\"text-align: right;\">\n",
       "      <th></th>\n",
       "      <th>apartment_id</th>\n",
       "      <th>seller</th>\n",
       "      <th>price</th>\n",
       "      <th>area_total</th>\n",
       "      <th>area_kitchen</th>\n",
       "      <th>area_living</th>\n",
       "      <th>floor</th>\n",
       "      <th>rooms</th>\n",
       "      <th>layout</th>\n",
       "      <th>ceiling</th>\n",
       "      <th>...</th>\n",
       "      <th>address</th>\n",
       "      <th>constructed</th>\n",
       "      <th>material</th>\n",
       "      <th>stories</th>\n",
       "      <th>elevator_without</th>\n",
       "      <th>elevator_passenger</th>\n",
       "      <th>elevator_service</th>\n",
       "      <th>parking</th>\n",
       "      <th>garbage_chute</th>\n",
       "      <th>heating</th>\n",
       "    </tr>\n",
       "  </thead>\n",
       "  <tbody>\n",
       "    <tr>\n",
       "      <th>0</th>\n",
       "      <td>0</td>\n",
       "      <td>3.000000</td>\n",
       "      <td>7139520.0</td>\n",
       "      <td>59.2</td>\n",
       "      <td>12.5</td>\n",
       "      <td>31.000000</td>\n",
       "      <td>2.0</td>\n",
       "      <td>2.0</td>\n",
       "      <td>1.039695</td>\n",
       "      <td>2.650000</td>\n",
       "      <td>...</td>\n",
       "      <td>к2.5/2</td>\n",
       "      <td>2021.0</td>\n",
       "      <td>3.000000</td>\n",
       "      <td>9.0</td>\n",
       "      <td>0.00000</td>\n",
       "      <td>1.000000</td>\n",
       "      <td>1.000000</td>\n",
       "      <td>1.000000</td>\n",
       "      <td>0.806411</td>\n",
       "      <td>0.176012</td>\n",
       "    </tr>\n",
       "    <tr>\n",
       "      <th>1</th>\n",
       "      <td>12</td>\n",
       "      <td>3.000000</td>\n",
       "      <td>4045140.0</td>\n",
       "      <td>19.8</td>\n",
       "      <td>5.2</td>\n",
       "      <td>9.600000</td>\n",
       "      <td>17.0</td>\n",
       "      <td>1.0</td>\n",
       "      <td>1.039695</td>\n",
       "      <td>2.650000</td>\n",
       "      <td>...</td>\n",
       "      <td>к2.5/2</td>\n",
       "      <td>2021.0</td>\n",
       "      <td>3.000000</td>\n",
       "      <td>9.0</td>\n",
       "      <td>0.00000</td>\n",
       "      <td>1.000000</td>\n",
       "      <td>1.000000</td>\n",
       "      <td>1.000000</td>\n",
       "      <td>0.806411</td>\n",
       "      <td>0.176012</td>\n",
       "    </tr>\n",
       "    <tr>\n",
       "      <th>2</th>\n",
       "      <td>55</td>\n",
       "      <td>3.000000</td>\n",
       "      <td>9500240.0</td>\n",
       "      <td>79.7</td>\n",
       "      <td>17.0</td>\n",
       "      <td>41.500000</td>\n",
       "      <td>9.0</td>\n",
       "      <td>3.0</td>\n",
       "      <td>1.039695</td>\n",
       "      <td>2.650000</td>\n",
       "      <td>...</td>\n",
       "      <td>к2.5/2</td>\n",
       "      <td>2021.0</td>\n",
       "      <td>3.000000</td>\n",
       "      <td>9.0</td>\n",
       "      <td>0.00000</td>\n",
       "      <td>1.000000</td>\n",
       "      <td>1.000000</td>\n",
       "      <td>1.000000</td>\n",
       "      <td>0.806411</td>\n",
       "      <td>0.176012</td>\n",
       "    </tr>\n",
       "    <tr>\n",
       "      <th>3</th>\n",
       "      <td>104</td>\n",
       "      <td>3.000000</td>\n",
       "      <td>4326660.0</td>\n",
       "      <td>23.4</td>\n",
       "      <td>6.1</td>\n",
       "      <td>11.300000</td>\n",
       "      <td>9.0</td>\n",
       "      <td>1.0</td>\n",
       "      <td>1.039695</td>\n",
       "      <td>2.650000</td>\n",
       "      <td>...</td>\n",
       "      <td>к2.5/2</td>\n",
       "      <td>2021.0</td>\n",
       "      <td>3.000000</td>\n",
       "      <td>9.0</td>\n",
       "      <td>0.00000</td>\n",
       "      <td>1.000000</td>\n",
       "      <td>1.000000</td>\n",
       "      <td>1.000000</td>\n",
       "      <td>0.806411</td>\n",
       "      <td>0.176012</td>\n",
       "    </tr>\n",
       "    <tr>\n",
       "      <th>4</th>\n",
       "      <td>106</td>\n",
       "      <td>3.000000</td>\n",
       "      <td>4333980.0</td>\n",
       "      <td>23.8</td>\n",
       "      <td>6.1</td>\n",
       "      <td>11.300000</td>\n",
       "      <td>9.0</td>\n",
       "      <td>1.0</td>\n",
       "      <td>1.039695</td>\n",
       "      <td>2.650000</td>\n",
       "      <td>...</td>\n",
       "      <td>к2.5/2</td>\n",
       "      <td>2021.0</td>\n",
       "      <td>3.000000</td>\n",
       "      <td>9.0</td>\n",
       "      <td>0.00000</td>\n",
       "      <td>1.000000</td>\n",
       "      <td>1.000000</td>\n",
       "      <td>1.000000</td>\n",
       "      <td>0.806411</td>\n",
       "      <td>0.176012</td>\n",
       "    </tr>\n",
       "    <tr>\n",
       "      <th>...</th>\n",
       "      <td>...</td>\n",
       "      <td>...</td>\n",
       "      <td>...</td>\n",
       "      <td>...</td>\n",
       "      <td>...</td>\n",
       "      <td>...</td>\n",
       "      <td>...</td>\n",
       "      <td>...</td>\n",
       "      <td>...</td>\n",
       "      <td>...</td>\n",
       "      <td>...</td>\n",
       "      <td>...</td>\n",
       "      <td>...</td>\n",
       "      <td>...</td>\n",
       "      <td>...</td>\n",
       "      <td>...</td>\n",
       "      <td>...</td>\n",
       "      <td>...</td>\n",
       "      <td>...</td>\n",
       "      <td>...</td>\n",
       "      <td>...</td>\n",
       "    </tr>\n",
       "    <tr>\n",
       "      <th>23280</th>\n",
       "      <td>23228</td>\n",
       "      <td>0.000000</td>\n",
       "      <td>12500000.0</td>\n",
       "      <td>73.0</td>\n",
       "      <td>14.5</td>\n",
       "      <td>24.160000</td>\n",
       "      <td>2.0</td>\n",
       "      <td>2.0</td>\n",
       "      <td>1.000000</td>\n",
       "      <td>2.900000</td>\n",
       "      <td>...</td>\n",
       "      <td>3</td>\n",
       "      <td>2016.0</td>\n",
       "      <td>2.203956</td>\n",
       "      <td>6.0</td>\n",
       "      <td>0.00000</td>\n",
       "      <td>1.000000</td>\n",
       "      <td>1.000000</td>\n",
       "      <td>0.572589</td>\n",
       "      <td>0.806411</td>\n",
       "      <td>0.000000</td>\n",
       "    </tr>\n",
       "    <tr>\n",
       "      <th>23281</th>\n",
       "      <td>23229</td>\n",
       "      <td>1.875683</td>\n",
       "      <td>5250000.0</td>\n",
       "      <td>35.7</td>\n",
       "      <td>9.0</td>\n",
       "      <td>26.700000</td>\n",
       "      <td>8.0</td>\n",
       "      <td>1.0</td>\n",
       "      <td>1.039695</td>\n",
       "      <td>3.268374</td>\n",
       "      <td>...</td>\n",
       "      <td>9</td>\n",
       "      <td>1991.0</td>\n",
       "      <td>4.000000</td>\n",
       "      <td>16.0</td>\n",
       "      <td>0.00000</td>\n",
       "      <td>1.000000</td>\n",
       "      <td>0.000000</td>\n",
       "      <td>0.572589</td>\n",
       "      <td>1.000000</td>\n",
       "      <td>0.000000</td>\n",
       "    </tr>\n",
       "    <tr>\n",
       "      <th>23282</th>\n",
       "      <td>23248</td>\n",
       "      <td>1.875683</td>\n",
       "      <td>13500000.0</td>\n",
       "      <td>58.1</td>\n",
       "      <td>18.3</td>\n",
       "      <td>30.700000</td>\n",
       "      <td>17.0</td>\n",
       "      <td>2.0</td>\n",
       "      <td>2.000000</td>\n",
       "      <td>2.750000</td>\n",
       "      <td>...</td>\n",
       "      <td>93К2</td>\n",
       "      <td>2011.0</td>\n",
       "      <td>3.000000</td>\n",
       "      <td>17.0</td>\n",
       "      <td>0.00000</td>\n",
       "      <td>1.000000</td>\n",
       "      <td>1.000000</td>\n",
       "      <td>0.572589</td>\n",
       "      <td>1.000000</td>\n",
       "      <td>0.000000</td>\n",
       "    </tr>\n",
       "    <tr>\n",
       "      <th>23283</th>\n",
       "      <td>23250</td>\n",
       "      <td>1.000000</td>\n",
       "      <td>18900000.0</td>\n",
       "      <td>116.0</td>\n",
       "      <td>12.6</td>\n",
       "      <td>38.741367</td>\n",
       "      <td>2.0</td>\n",
       "      <td>3.0</td>\n",
       "      <td>1.039695</td>\n",
       "      <td>3.268374</td>\n",
       "      <td>...</td>\n",
       "      <td>75</td>\n",
       "      <td>2001.0</td>\n",
       "      <td>2.203956</td>\n",
       "      <td>6.0</td>\n",
       "      <td>0.39262</td>\n",
       "      <td>0.929867</td>\n",
       "      <td>0.743109</td>\n",
       "      <td>0.572589</td>\n",
       "      <td>0.806411</td>\n",
       "      <td>0.176012</td>\n",
       "    </tr>\n",
       "    <tr>\n",
       "      <th>23284</th>\n",
       "      <td>23271</td>\n",
       "      <td>1.875683</td>\n",
       "      <td>10890000.0</td>\n",
       "      <td>45.7</td>\n",
       "      <td>11.8</td>\n",
       "      <td>21.800000</td>\n",
       "      <td>9.0</td>\n",
       "      <td>1.0</td>\n",
       "      <td>1.039695</td>\n",
       "      <td>2.700000</td>\n",
       "      <td>...</td>\n",
       "      <td>58К2</td>\n",
       "      <td>2005.0</td>\n",
       "      <td>3.000000</td>\n",
       "      <td>22.0</td>\n",
       "      <td>0.00000</td>\n",
       "      <td>1.000000</td>\n",
       "      <td>1.000000</td>\n",
       "      <td>0.572589</td>\n",
       "      <td>0.000000</td>\n",
       "      <td>0.000000</td>\n",
       "    </tr>\n",
       "  </tbody>\n",
       "</table>\n",
       "<p>23285 rows × 34 columns</p>\n",
       "</div>"
      ],
      "text/plain": [
       "       apartment_id    seller       price  area_total  area_kitchen  \\\n",
       "0                 0  3.000000   7139520.0        59.2          12.5   \n",
       "1                12  3.000000   4045140.0        19.8           5.2   \n",
       "2                55  3.000000   9500240.0        79.7          17.0   \n",
       "3               104  3.000000   4326660.0        23.4           6.1   \n",
       "4               106  3.000000   4333980.0        23.8           6.1   \n",
       "...             ...       ...         ...         ...           ...   \n",
       "23280         23228  0.000000  12500000.0        73.0          14.5   \n",
       "23281         23229  1.875683   5250000.0        35.7           9.0   \n",
       "23282         23248  1.875683  13500000.0        58.1          18.3   \n",
       "23283         23250  1.000000  18900000.0       116.0          12.6   \n",
       "23284         23271  1.875683  10890000.0        45.7          11.8   \n",
       "\n",
       "       area_living  floor  rooms    layout   ceiling  ...  address  \\\n",
       "0        31.000000    2.0    2.0  1.039695  2.650000  ...   к2.5/2   \n",
       "1         9.600000   17.0    1.0  1.039695  2.650000  ...   к2.5/2   \n",
       "2        41.500000    9.0    3.0  1.039695  2.650000  ...   к2.5/2   \n",
       "3        11.300000    9.0    1.0  1.039695  2.650000  ...   к2.5/2   \n",
       "4        11.300000    9.0    1.0  1.039695  2.650000  ...   к2.5/2   \n",
       "...            ...    ...    ...       ...       ...  ...      ...   \n",
       "23280    24.160000    2.0    2.0  1.000000  2.900000  ...        3   \n",
       "23281    26.700000    8.0    1.0  1.039695  3.268374  ...        9   \n",
       "23282    30.700000   17.0    2.0  2.000000  2.750000  ...     93К2   \n",
       "23283    38.741367    2.0    3.0  1.039695  3.268374  ...       75   \n",
       "23284    21.800000    9.0    1.0  1.039695  2.700000  ...     58К2   \n",
       "\n",
       "       constructed  material  stories  elevator_without  elevator_passenger  \\\n",
       "0           2021.0  3.000000      9.0           0.00000            1.000000   \n",
       "1           2021.0  3.000000      9.0           0.00000            1.000000   \n",
       "2           2021.0  3.000000      9.0           0.00000            1.000000   \n",
       "3           2021.0  3.000000      9.0           0.00000            1.000000   \n",
       "4           2021.0  3.000000      9.0           0.00000            1.000000   \n",
       "...            ...       ...      ...               ...                 ...   \n",
       "23280       2016.0  2.203956      6.0           0.00000            1.000000   \n",
       "23281       1991.0  4.000000     16.0           0.00000            1.000000   \n",
       "23282       2011.0  3.000000     17.0           0.00000            1.000000   \n",
       "23283       2001.0  2.203956      6.0           0.39262            0.929867   \n",
       "23284       2005.0  3.000000     22.0           0.00000            1.000000   \n",
       "\n",
       "       elevator_service   parking  garbage_chute   heating  \n",
       "0              1.000000  1.000000       0.806411  0.176012  \n",
       "1              1.000000  1.000000       0.806411  0.176012  \n",
       "2              1.000000  1.000000       0.806411  0.176012  \n",
       "3              1.000000  1.000000       0.806411  0.176012  \n",
       "4              1.000000  1.000000       0.806411  0.176012  \n",
       "...                 ...       ...            ...       ...  \n",
       "23280          1.000000  0.572589       0.806411  0.000000  \n",
       "23281          0.000000  0.572589       1.000000  0.000000  \n",
       "23282          1.000000  0.572589       1.000000  0.000000  \n",
       "23283          0.743109  0.572589       0.806411  0.176012  \n",
       "23284          1.000000  0.572589       0.000000  0.000000  \n",
       "\n",
       "[23285 rows x 34 columns]"
      ]
     },
     "execution_count": 160,
     "metadata": {},
     "output_type": "execute_result"
    }
   ],
   "source": [
    "processed_data\n",
    "# processed_data contains all the data with interpolated (median) nan values"
   ]
  },
  {
   "cell_type": "code",
   "execution_count": 161,
   "id": "7b4c42b0-53fa-4a07-9c77-d38029990b4c",
   "metadata": {},
   "outputs": [],
   "source": [
    "data_this_test = polar_coordinates(processed_data)\n",
    "data_this_test['street'] = le.fit_transform(data_this_test['street'])\n",
    "data_this_test['address'] = le.fit_transform(data_this_test['address'])"
   ]
  },
  {
   "cell_type": "code",
   "execution_count": 162,
   "id": "72a2a9a2-02a0-47ec-a958-5314d4dcf5a7",
   "metadata": {},
   "outputs": [],
   "source": [
    "unwanted_features = ['longitude', 'latitude']\n",
    "features_this_test = [el for el in all_features if el not in unwanted_features]\n",
    "features_this_test += ['r', 'theta']"
   ]
  },
  {
   "cell_type": "code",
   "execution_count": 163,
   "id": "2b140219-e407-49cb-be60-94de243ddd60",
   "metadata": {},
   "outputs": [
    {
     "data": {
      "text/plain": [
       "Index(['apartment_id', 'seller', 'price', 'area_total', 'area_kitchen',\n",
       "       'area_living', 'floor', 'rooms', 'layout', 'ceiling',\n",
       "       'bathrooms_shared', 'bathrooms_private', 'windows_court',\n",
       "       'windows_street', 'balconies', 'loggias', 'condition', 'phones',\n",
       "       'building_id', 'new', 'latitude', 'longitude', 'district', 'street',\n",
       "       'address', 'constructed', 'material', 'stories', 'elevator_without',\n",
       "       'elevator_passenger', 'elevator_service', 'parking', 'garbage_chute',\n",
       "       'heating', 'r', 'theta'],\n",
       "      dtype='object')"
      ]
     },
     "execution_count": 163,
     "metadata": {},
     "output_type": "execute_result"
    }
   ],
   "source": [
    "data_this_test.columns"
   ]
  },
  {
   "cell_type": "code",
   "execution_count": 205,
   "id": "5da20ba0-7b56-44e4-9500-6b4b76a64552",
   "metadata": {},
   "outputs": [],
   "source": [
    "X = data_this_test[features_this_test]\n",
    "y = data_this_test['price']\n",
    "X_train, X_test, y_train, y_test = train_test_split(X, y, test_size=0.2, random_state=42)"
   ]
  },
  {
   "cell_type": "code",
   "execution_count": 217,
   "id": "ef426e99-b5e1-42cf-8006-609583d193e6",
   "metadata": {},
   "outputs": [
    {
     "name": "stdout",
     "output_type": "stream",
     "text": [
      "['apartment_id', 'seller', 'area_total', 'area_kitchen', 'area_living', 'floor', 'rooms', 'layout', 'ceiling', 'bathrooms_shared', 'bathrooms_private', 'windows_court', 'windows_street', 'balconies', 'loggias', 'condition', 'phones', 'building_id', 'new', 'district', 'street', 'address', 'constructed', 'material', 'stories', 'elevator_without', 'elevator_passenger', 'elevator_service', 'parking', 'garbage_chute', 'heating', 'r', 'theta']\n"
     ]
    }
   ],
   "source": [
    "print(features_this_test)"
   ]
  },
  {
   "cell_type": "markdown",
   "id": "f0d987b2-7bdf-4807-9289-fb3fa7e26c0e",
   "metadata": {},
   "source": [
    "## Catboost"
   ]
  },
  {
   "cell_type": "code",
   "execution_count": 167,
   "id": "ec9dbcca-6f0d-4a4f-b130-347aecd89313",
   "metadata": {},
   "outputs": [
    {
     "name": "stdout",
     "output_type": "stream",
     "text": [
      "Catboost MSE: 0.19711539316211263\n"
     ]
    }
   ],
   "source": [
    "catboost.fit(X_train, y_train)\n",
    "cat_prediction = catboost.predict(X_test)\n",
    "cat_mse = root_mean_squared_log_error(cat_prediction, y_test)\n",
    "print('Catboost MSE:', cat_mse)"
   ]
  },
  {
   "cell_type": "code",
   "execution_count": 168,
   "id": "e906796a-d813-42c6-8a05-f35ecf8769bf",
   "metadata": {},
   "outputs": [
    {
     "data": {
      "text/plain": [
       "Text(0, 0.5, 'Ground Truth')"
      ]
     },
     "execution_count": 168,
     "metadata": {},
     "output_type": "execute_result"
    },
    {
     "data": {
      "image/png": "[encoded data removed]",
      "text/plain": [
       "<Figure size 432x288 with 1 Axes>"
      ]
     },
     "metadata": {},
     "output_type": "display_data"
    }
   ],
   "source": [
    "plt.scatter(cat_prediction, y_test)\n",
    "plt.xlabel('CatBoost prediction')\n",
    "plt.ylabel('Ground Truth')"
   ]
  },
  {
   "cell_type": "code",
   "execution_count": 4,
   "id": "f651aaf5-25e8-49b7-a8e8-7a795fd1b2bb",
   "metadata": {},
   "outputs": [
    {
     "ename": "NameError",
     "evalue": "name 'catboost' is not defined",
     "output_type": "error",
     "traceback": [
      "\u001b[1;31m---------------------------------------------------------------------------\u001b[0m",
      "\u001b[1;31mNameError\u001b[0m                                 Traceback (most recent call last)",
      "\u001b[1;32m<ipython-input-4-9aa4c861246b>\u001b[0m in \u001b[0;36m<module>\u001b[1;34m\u001b[0m\n\u001b[1;32m----> 1\u001b[1;33m \u001b[0mcatboost_importance\u001b[0m \u001b[1;33m=\u001b[0m \u001b[0mcatboost\u001b[0m\u001b[1;33m.\u001b[0m\u001b[0mget_feature_importance\u001b[0m\u001b[1;33m(\u001b[0m\u001b[1;33m)\u001b[0m\u001b[1;33m\u001b[0m\u001b[1;33m\u001b[0m\u001b[0m\n\u001b[0m\u001b[0;32m      2\u001b[0m \u001b[0mplot_feature_importance\u001b[0m\u001b[1;33m(\u001b[0m\u001b[0mcatboost_importance\u001b[0m\u001b[1;33m,\u001b[0m \u001b[0mfeatures_this_test\u001b[0m\u001b[1;33m,\u001b[0m \u001b[1;34m'CatBoost: '\u001b[0m\u001b[1;33m)\u001b[0m\u001b[1;33m\u001b[0m\u001b[1;33m\u001b[0m\u001b[0m\n",
      "\u001b[1;31mNameError\u001b[0m: name 'catboost' is not defined"
     ]
    }
   ],
   "source": [
    "catboost_importance = catboost.get_feature_importance()\n",
    "plot_feature_importance(catboost_importance, features_this_test, 'CatBoost: ')"
   ]
  },
  {
   "cell_type": "markdown",
   "id": "76f08e06-e663-456b-8886-9a378ee5f66a",
   "metadata": {},
   "source": [
    "### Submission Catboost with all features"
   ]
  },
  {
   "cell_type": "code",
   "execution_count": 207,
   "id": "9b373d11-37e2-436c-88f0-66e6c898e140",
   "metadata": {},
   "outputs": [
    {
     "name": "stdout",
     "output_type": "stream",
     "text": [
      "app length 9937\n",
      "buildings length 2931\n",
      "merged length 9937\n"
     ]
    }
   ],
   "source": [
    "test_apartment = pd.read_csv('../data/apartments_test.csv')\n",
    "test_building = pd.read_csv('../data/buildings_test.csv')\n",
    "print('app length', len(test_apartment))\n",
    "print('buildings length', len(test_building))\n",
    "test = pd.merge(test_apartment, test_building, left_on='building_id', right_on='id')\n",
    "print('merged length', len(test))\n",
    "test.rename(columns={'id_x' : 'id'}, inplace=True)\n",
    "test.drop('id_y', axis=1, inplace=True)"
   ]
  },
  {
   "cell_type": "code",
   "execution_count": 208,
   "id": "9d77f16a-7527-4eb5-9e27-cf3e8de7aa73",
   "metadata": {},
   "outputs": [
    {
     "name": "stderr",
     "output_type": "stream",
     "text": [
      "C:\\ProgramData\\Anaconda3\\lib\\site-packages\\pandas\\core\\frame.py:4441: SettingWithCopyWarning: \n",
      "A value is trying to be set on a copy of a slice from a DataFrame\n",
      "\n",
      "See the caveats in the documentation: https://pandas.pydata.org/pandas-docs/stable/user_guide/indexing.html#returning-a-view-versus-a-copy\n",
      "  return super().rename(\n"
     ]
    }
   ],
   "source": [
    "X.rename(columns={'apartment_id' : 'id'}, inplace=True)"
   ]
  },
  {
   "cell_type": "code",
   "execution_count": 210,
   "id": "fef2400b-6356-472f-b594-5c1e877f6aca",
   "metadata": {},
   "outputs": [],
   "source": [
    "processed_test = preprocess(test)\n",
    "new_test_data = polar_coordinates(processed_test)\n",
    "\n",
    "new_test_data['street'] = le.fit_transform(new_test_data['street'])\n",
    "new_test_data['address'] = le.fit_transform(new_test_data['address'])"
   ]
  },
  {
   "cell_type": "code",
   "execution_count": null,
   "id": "47af22b7-ad71-46a9-be06-4f48e255d08f",
   "metadata": {},
   "outputs": [],
   "source": []
  },
  {
   "cell_type": "code",
   "execution_count": null,
   "id": "cd5f0c44-2f66-4b88-bbd3-0010559667ce",
   "metadata": {},
   "outputs": [],
   "source": []
  },
  {
   "cell_type": "code",
   "execution_count": 213,
   "id": "93a730ce-6493-4856-b851-32fc5f8d8730",
   "metadata": {},
   "outputs": [],
   "source": [
    "catboost.fit(X, y)\n",
    "cat_prediction = catboost.predict(new_test_data)"
   ]
  },
  {
   "cell_type": "code",
   "execution_count": 215,
   "id": "cdfb126f-60d5-46d7-8154-e9db9638aac9",
   "metadata": {},
   "outputs": [],
   "source": [
    "df = pd.DataFrame(cat_prediction, columns = ['price_prediction'])\n",
    "result = pd.concat([test['id'], df], axis=1)\n",
    "result[['id','price_prediction']].to_csv('.\\submissions\\CB2.csv', index=False)"
   ]
  },
  {
   "cell_type": "markdown",
   "id": "90a68c7d-54f1-4c80-8e20-260631de35f5",
   "metadata": {},
   "source": [
    "## Catboost select certain features"
   ]
  },
  {
   "cell_type": "code",
   "execution_count": 221,
   "id": "dfb8b024-4ff5-4d00-b848-d3aa6b9f2064",
   "metadata": {},
   "outputs": [],
   "source": [
    "unwanted_features = ['longitude', 'latitude', 'new', 'elevator_passenger','seller','layout','phones','balconies',\n",
    "                     'loggias','windows_court','windows_street','bathrooms_shared','apartment_id','material']\n",
    "features_this_test = [el for el in all_features if el not in unwanted_features]\n",
    "features_this_test += ['r', 'theta']\n",
    "X = data_this_test[features_this_test]\n",
    "y = data_this_test['price']\n",
    "X_train, X_test, y_train, y_test = train_test_split(X, y, test_size=0.2, random_state=42)"
   ]
  },
  {
   "cell_type": "code",
   "execution_count": 225,
   "id": "2173fc16-8683-4dea-86d2-734951c6cc17",
   "metadata": {},
   "outputs": [
    {
     "name": "stdout",
     "output_type": "stream",
     "text": [
      "Catboost MSE: 0.19450430709257754\n"
     ]
    }
   ],
   "source": [
    "catboost.fit(X_train, y_train)\n",
    "cat_prediction = catboost.predict(X_test)\n",
    "cat_mse = root_mean_squared_log_error(np.abs(cat_prediction), y_test)\n",
    "print('Catboost MSE:', cat_mse)"
   ]
  },
  {
   "cell_type": "code",
   "execution_count": 226,
   "id": "18a254c5-1bb6-45ab-bc63-34aff0895311",
   "metadata": {},
   "outputs": [
    {
     "data": {
      "text/plain": [
       "Text(0, 0.5, 'Ground Truth')"
      ]
     },
     "execution_count": 226,
     "metadata": {},
     "output_type": "execute_result"
    },
    {
     "data": {
      "image/png": "[encoded data removed]",
      "text/plain": [
       "<Figure size 432x288 with 1 Axes>"
      ]
     },
     "metadata": {},
     "output_type": "display_data"
    }
   ],
   "source": [
    "plt.scatter(cat_prediction, y_test)\n",
    "plt.xlabel('CatBoost prediction')\n",
    "plt.ylabel('Ground Truth')"
   ]
  },
  {
   "cell_type": "code",
   "execution_count": 227,
   "id": "a9379d07-0355-4a6d-8e88-44d55c5f9356",
   "metadata": {},
   "outputs": [
    {
     "data": {
      "image/png": "[encoded data removed]",
      "text/plain": [
       "<Figure size 720x576 with 1 Axes>"
      ]
     },
     "metadata": {},
     "output_type": "display_data"
    }
   ],
   "source": [
    "catboost_importance = catboost.get_feature_importance()\n",
    "plot_feature_importance(catboost_importance, features_this_test, 'CatBoost: ')"
   ]
  },
  {
   "cell_type": "markdown",
   "id": "6dfe7a03-b800-4df4-a315-f1306ab3a65d",
   "metadata": {},
   "source": [
    "### Submission select certain features"
   ]
  },
  {
   "cell_type": "code",
   "execution_count": 235,
   "id": "d1fa39cb-b67d-485f-ae0b-b06bcc934cca",
   "metadata": {},
   "outputs": [
    {
     "name": "stderr",
     "output_type": "stream",
     "text": [
      "C:\\ProgramData\\Anaconda3\\lib\\site-packages\\pandas\\core\\frame.py:4441: SettingWithCopyWarning: \n",
      "A value is trying to be set on a copy of a slice from a DataFrame\n",
      "\n",
      "See the caveats in the documentation: https://pandas.pydata.org/pandas-docs/stable/user_guide/indexing.html#returning-a-view-versus-a-copy\n",
      "  return super().rename(\n"
     ]
    }
   ],
   "source": [
    "test_apartment = pd.read_csv('../data/apartments_test.csv')\n",
    "test_building = pd.read_csv('../data/buildings_test.csv')\n",
    "test = pd.merge(test_apartment, test_building, left_on='building_id', right_on='id')\n",
    "test.rename(columns={'id_x' : 'id'}, inplace=True)\n",
    "test.drop('id_y', axis=1, inplace=True)\n",
    "X.rename(columns={'apartment_id' : 'id'}, inplace=True)"
   ]
  },
  {
   "cell_type": "code",
   "execution_count": 5,
   "id": "3be38b91-bd6b-442e-850e-a2ecc334f4a5",
   "metadata": {},
   "outputs": [
    {
     "ename": "NameError",
     "evalue": "name 'test' is not defined",
     "output_type": "error",
     "traceback": [
      "\u001b[1;31m---------------------------------------------------------------------------\u001b[0m",
      "\u001b[1;31mNameError\u001b[0m                                 Traceback (most recent call last)",
      "\u001b[1;32m<ipython-input-5-be0e41de6a80>\u001b[0m in \u001b[0;36m<module>\u001b[1;34m\u001b[0m\n\u001b[1;32m----> 1\u001b[1;33m \u001b[0mprocessed_test\u001b[0m \u001b[1;33m=\u001b[0m \u001b[0mpreprocess\u001b[0m\u001b[1;33m(\u001b[0m\u001b[0mtest\u001b[0m\u001b[1;33m)\u001b[0m\u001b[1;33m\u001b[0m\u001b[1;33m\u001b[0m\u001b[0m\n\u001b[0m\u001b[0;32m      2\u001b[0m \u001b[0mnew_test_data\u001b[0m \u001b[1;33m=\u001b[0m \u001b[0mpolar_coordinates\u001b[0m\u001b[1;33m(\u001b[0m\u001b[0mprocessed_test\u001b[0m\u001b[1;33m)\u001b[0m\u001b[1;33m\u001b[0m\u001b[1;33m\u001b[0m\u001b[0m\n\u001b[0;32m      3\u001b[0m \u001b[1;33m\u001b[0m\u001b[0m\n\u001b[0;32m      4\u001b[0m \u001b[0mnew_test_data\u001b[0m\u001b[1;33m[\u001b[0m\u001b[1;34m'street'\u001b[0m\u001b[1;33m]\u001b[0m \u001b[1;33m=\u001b[0m \u001b[0mle\u001b[0m\u001b[1;33m.\u001b[0m\u001b[0mfit_transform\u001b[0m\u001b[1;33m(\u001b[0m\u001b[0mnew_test_data\u001b[0m\u001b[1;33m[\u001b[0m\u001b[1;34m'street'\u001b[0m\u001b[1;33m]\u001b[0m\u001b[1;33m)\u001b[0m\u001b[1;33m\u001b[0m\u001b[1;33m\u001b[0m\u001b[0m\n\u001b[0;32m      5\u001b[0m \u001b[0mnew_test_data\u001b[0m\u001b[1;33m[\u001b[0m\u001b[1;34m'address'\u001b[0m\u001b[1;33m]\u001b[0m \u001b[1;33m=\u001b[0m \u001b[0mle\u001b[0m\u001b[1;33m.\u001b[0m\u001b[0mfit_transform\u001b[0m\u001b[1;33m(\u001b[0m\u001b[0mnew_test_data\u001b[0m\u001b[1;33m[\u001b[0m\u001b[1;34m'address'\u001b[0m\u001b[1;33m]\u001b[0m\u001b[1;33m)\u001b[0m\u001b[1;33m\u001b[0m\u001b[1;33m\u001b[0m\u001b[0m\n",
      "\u001b[1;31mNameError\u001b[0m: name 'test' is not defined"
     ]
    }
   ],
   "source": [
    "processed_test = preprocess(test)\n",
    "new_test_data = polar_coordinates(processed_test)\n",
    "\n",
    "new_test_data['street'] = le.fit_transform(new_test_data['street'])\n",
    "new_test_data['address'] = le.fit_transform(new_test_data['address'])\n",
    "\n",
    "new_test_data = new_test_data[features_this_test]"
   ]
  },
  {
   "cell_type": "code",
   "execution_count": 237,
   "id": "cc57755d-8882-4ff1-b4ff-f1cb8d77d5d9",
   "metadata": {},
   "outputs": [],
   "source": [
    "catboost.fit(X, y)\n",
    "cat_prediction = catboost.predict(new_test_data)"
   ]
  },
  {
   "cell_type": "code",
   "execution_count": 238,
   "id": "9e264124-5af4-4ce6-84a7-6a48bac96f26",
   "metadata": {},
   "outputs": [],
   "source": [
    "df = pd.DataFrame(cat_prediction, columns = ['price_prediction'])\n",
    "result = pd.concat([test['id'], df], axis=1)\n",
    "result[['id','price_prediction']].to_csv('.\\submissions\\CB3.csv', index=False)"
   ]
  },
  {
   "cell_type": "code",
   "execution_count": 239,
   "id": "580ab41d-00df-4899-8f5f-f0d87b5d336f",
   "metadata": {},
   "outputs": [
    {
     "name": "stdout",
     "output_type": "stream",
     "text": [
      "['area_total', 'area_kitchen', 'area_living', 'floor', 'rooms', 'ceiling', 'bathrooms_private', 'condition', 'building_id', 'district', 'street', 'address', 'constructed', 'stories', 'elevator_without', 'elevator_service', 'parking', 'garbage_chute', 'heating', 'r', 'theta']\n"
     ]
    }
   ],
   "source": [
    "print(features_this_test)"
   ]
  },
  {
   "cell_type": "code",
   "execution_count": null,
   "id": "84f95283-3040-4250-9d34-ce57c3f14ca5",
   "metadata": {},
   "outputs": [],
   "source": []
  }
 ],
 "metadata": {
  "kernelspec": {
   "display_name": "Python 3",
   "language": "python",
   "name": "python3"
  },
  "language_info": {
   "codemirror_mode": {
    "name": "ipython",
    "version": 3
   },
   "file_extension": ".py",
   "mimetype": "text/x-python",
   "name": "python",
   "nbconvert_exporter": "python",
   "pygments_lexer": "ipython3",
   "version": "3.8.8"
  }
 },
 "nbformat": 4,
 "nbformat_minor": 5
}
