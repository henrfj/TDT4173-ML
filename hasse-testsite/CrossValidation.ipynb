{
 "cells": [
  {
   "cell_type": "code",
   "execution_count": 9,
   "id": "bc11f573-16b4-4042-8bd5-1a1dd9280775",
   "metadata": {},
   "outputs": [],
   "source": [
    "%run ../common_utils.py"
   ]
  },
  {
   "cell_type": "markdown",
   "id": "712b1b1c-4521-48ae-a0db-7cbffa23d060",
   "metadata": {},
   "source": [
    "# Import Data"
   ]
  },
  {
   "cell_type": "code",
   "execution_count": 10,
   "id": "74facc85-621b-4253-8023-517f27944910",
   "metadata": {},
   "outputs": [],
   "source": [
    "train, test, metadata = load_all_data()"
   ]
  },
  {
   "cell_type": "code",
   "execution_count": 11,
   "id": "8bd91d52-41cb-4701-939b-4e99f0c590db",
   "metadata": {},
   "outputs": [],
   "source": [
    "nonCategorical, categorical = get_cat_and_non_cat_data(metadata)\n",
    "categorical.remove('district')\n",
    "all_features = list(train.columns)\n",
    "all_features.remove('price')\n",
    "numerical_features = ['area_total','area_kitchen','area_living','floor','rooms','ceiling',\n",
    "    'bathrooms_shared','bathrooms_private','balconies','loggias','phones','building_id','constructed','stories']"
   ]
  },
  {
   "cell_type": "code",
   "execution_count": 12,
   "id": "fa1cbb77-7900-44ec-a0be-71c426972d22",
   "metadata": {},
   "outputs": [],
   "source": [
    "categorical_to_numerical(train, ['street','address'])\n",
    "categorical_to_numerical(test, ['street','address'])"
   ]
  },
  {
   "cell_type": "code",
   "execution_count": 13,
   "id": "d92ad325-b473-4665-a69e-0f37ab2f4894",
   "metadata": {},
   "outputs": [],
   "source": [
    "%%capture --no-display\n",
    "X_train, y_train, X_test, y_test, test_labels = pre_process_numerical(features = all_features, Numerical_features = numerical_features, train = train, test = test,\n",
    "                    outliers_value=7, val_split=0.2, random_state=42, scaler=\"std\",\n",
    "                    add_R=\"True\", add_rel_height=\"True\", droptable=[],\n",
    "                    one_hot_encode=True, cat_features=categorical, drop_old=True)"
   ]
  },
  {
   "cell_type": "markdown",
   "id": "91c8d38f-b74b-4df5-b07e-674b5aaaafa6",
   "metadata": {},
   "source": [
    "# Load Models"
   ]
  },
  {
   "cell_type": "markdown",
   "id": "6e678a49-b4ee-48ee-97de-68708ba7864f",
   "metadata": {},
   "source": [
    "## Imports for models"
   ]
  },
  {
   "cell_type": "code",
   "execution_count": 24,
   "id": "3780f3c9-f424-405a-87b3-8ae65aa86fe8",
   "metadata": {},
   "outputs": [],
   "source": [
    "from sklearn.ensemble import RandomForestRegressor\n",
    "from sklearn.ensemble import GradientBoostingRegressor\n",
    "import lightgbm\n",
    "from catboost import CatBoostRegressor\n",
    "from sklearn import metrics\n"
   ]
  },
  {
   "cell_type": "markdown",
   "id": "94b8955b-7d50-450e-836f-e5ec663637eb",
   "metadata": {},
   "source": [
    "## Imports for plots"
   ]
  },
  {
   "cell_type": "code",
   "execution_count": 35,
   "id": "2dc9ac55-7f2e-4df8-b7b1-c2229aab9252",
   "metadata": {},
   "outputs": [],
   "source": [
    "import seaborn as sns"
   ]
  },
  {
   "cell_type": "code",
   "execution_count": 19,
   "id": "291d6070-792b-43b7-88dc-bbbef1afe71a",
   "metadata": {},
   "outputs": [],
   "source": [
    "catboost = CatBoostRegressor(\n",
    "    loss_function=metrics.mean_squared_log_error,\n",
    "    eval_metric=metrics.mean_squared_log_error,\n",
    "    n_estimators=500,\n",
    "    learning_rate=0.1,\n",
    "    thread_count=-1,\n",
    "    depth=7,\n",
    "    silent=True,\n",
    "    random_seed=42,\n",
    "    bagging_temperature=0.2\n",
    "#     od_type=\"Iter\"\n",
    ")"
   ]
  },
  {
   "cell_type": "code",
   "execution_count": 16,
   "id": "ddf4d038-4acd-4bc4-a59c-b39e55041984",
   "metadata": {},
   "outputs": [],
   "source": [
    "light_gbm = lgb.LGBMRegressor(\n",
    "    num_leaves=10,\n",
    "    max_depth=5, \n",
    "    random_state=42, \n",
    "    silent=True, \n",
    "    metric='mse',\n",
    "    n_jobs=4, \n",
    "    n_estimators=2000,\n",
    "    colsample_bytree=0.95,\n",
    "    subsample=0.9,\n",
    "    learning_rate=0.05\n",
    ")"
   ]
  },
  {
   "cell_type": "code",
   "execution_count": 17,
   "id": "b153e2d4-4632-41e7-97ad-155881c22928",
   "metadata": {},
   "outputs": [],
   "source": [
    "grad_boost_regr = GradientBoostingRegressor(\n",
    "    learning_rate=0.01,\n",
    "    n_estimators=2000,\n",
    "    subsample=1.0, \n",
    "    criterion='mse', \n",
    "    min_samples_split=4, \n",
    "    min_samples_leaf=2, \n",
    "    min_weight_fraction_leaf=0.0, \n",
    "    max_depth=9, \n",
    "    min_impurity_decrease=0.0, \n",
    "    init=None, \n",
    "    random_state=0, \n",
    "    max_features=None,\n",
    "    alpha=0.9,\n",
    "    verbose=0,\n",
    "    max_leaf_nodes=None,\n",
    "    warm_start=False,\n",
    "    validation_fraction=0.1,\n",
    "    n_iter_no_change=None,\n",
    "    tol=0.0001,\n",
    "    ccp_alpha=0.0\n",
    ")"
   ]
  },
  {
   "cell_type": "code",
   "execution_count": null,
   "id": "37c911db-2f81-48ff-b3ad-65af3b2cb660",
   "metadata": {},
   "outputs": [],
   "source": []
  },
  {
   "cell_type": "code",
   "execution_count": null,
   "id": "e581208a-fb21-4729-b277-c9f2d04b84bd",
   "metadata": {},
   "outputs": [],
   "source": []
  },
  {
   "cell_type": "markdown",
   "id": "b312ce5f-a5c5-42ee-8782-8553d6428e69",
   "metadata": {},
   "source": [
    "# Metrics"
   ]
  },
  {
   "cell_type": "code",
   "execution_count": 22,
   "id": "8ad41cf6-f11a-4567-a52b-8ec41fb90d93",
   "metadata": {},
   "outputs": [],
   "source": []
  },
  {
   "cell_type": "code",
   "execution_count": 23,
   "id": "1370071e-cdb3-4742-ac8f-36c43e373acb",
   "metadata": {},
   "outputs": [
    {
     "data": {
      "text/plain": [
       "<function sklearn.metrics._regression.mean_squared_log_error(y_true, y_pred, *, sample_weight=None, multioutput='uniform_average')>"
      ]
     },
     "execution_count": 23,
     "metadata": {},
     "output_type": "execute_result"
    }
   ],
   "source": [
    "metrics.mean_squared_log_error"
   ]
  },
  {
   "cell_type": "code",
   "execution_count": 159,
   "id": "8d1053f3-4dfb-4c5f-ba05-8cb94f6f041e",
   "metadata": {},
   "outputs": [],
   "source": [
    "# catboost.fit(X_train, y_train)"
   ]
  },
  {
   "cell_type": "code",
   "execution_count": null,
   "id": "d6c3bc28-a7be-4a54-a82e-efec2bc8b16c",
   "metadata": {},
   "outputs": [],
   "source": []
  },
  {
   "cell_type": "code",
   "execution_count": null,
   "id": "dd336dfd-fac8-4ebe-944a-58182fe7c341",
   "metadata": {},
   "outputs": [],
   "source": []
  },
  {
   "cell_type": "code",
   "execution_count": 209,
   "id": "88ac069f-696a-4d37-a532-9c20a549a5ce",
   "metadata": {},
   "outputs": [],
   "source": [
    "# def custom_asymmetric_objective(y_true, y_pred):\n",
    "#     grad = np.where(y_pred <y_true, -1/(y_pred + 1), 1/(y_pred + 1))\n",
    "#     hess = np.where(y_pred <y_true, 1/(y_pred + 1)**2, 1/(y_pred + 1)**2)\n",
    "#     return grad, hess\n",
    "\n",
    "def custom_asymmetric_eval(y_true, y_pred):\n",
    "    loss = root_mean_squared_log_error(y_true,y_pred)\n",
    "    return \"custom_asymmetric_eval\", np.mean(loss), False\n",
    "\n",
    "def custom_asymmetric_objective(y_true, y_pred):\n",
    "    residual = (y_true - y_pred).astype(\"float\")\n",
    "    grad = np.where(residual<0, -2*10.0*residual, -2*residual)\n",
    "    hess = np.where(residual<0, 2*10.0, 2.0)\n",
    "    return grad, hess\n",
    "\n",
    "# def custom_asymmetric_eval(y_true, y_pred):\n",
    "#     residual = (y_true - y_pred).astype(\"float\")\n",
    "#     loss = np.where(residual < 0, (residual**2)*10.0, residual**2) \n",
    "#     return \"custom_asymmetric_eval\", np.mean(loss), False"
   ]
  },
  {
   "cell_type": "code",
   "execution_count": null,
   "id": "8cbaaa9b-1080-486a-aa06-cd29c376e827",
   "metadata": {},
   "outputs": [],
   "source": []
  },
  {
   "cell_type": "code",
   "execution_count": 210,
   "id": "60477202-a470-4114-a046-e1c4fe54b431",
   "metadata": {},
   "outputs": [
    {
     "name": "stderr",
     "output_type": "stream",
     "text": [
      "C:\\ProgramData\\Anaconda3\\lib\\site-packages\\seaborn\\_decorators.py:36: FutureWarning: Pass the following variables as keyword args: x, y. From version 0.12, the only valid positional argument will be `data`, and passing other arguments without an explicit keyword will result in an error or misinterpretation.\n",
      "  warnings.warn(\n",
      "C:\\ProgramData\\Anaconda3\\lib\\site-packages\\seaborn\\_decorators.py:36: FutureWarning: Pass the following variables as keyword args: x, y. From version 0.12, the only valid positional argument will be `data`, and passing other arguments without an explicit keyword will result in an error or misinterpretation.\n",
      "  warnings.warn(\n"
     ]
    },
    {
     "data": {
      "image/png": "[encoded data removed]",
      "text/plain": [
       "<Figure size 576x288 with 1 Axes>"
      ]
     },
     "metadata": {
      "needs_background": "light"
     },
     "output_type": "display_data"
    }
   ],
   "source": [
    "# let's see how our custom loss function looks with respect to different prediction values\n",
    "\n",
    "y_true = np.repeat(50,1000)\n",
    "y_pred = np.linspace(0,100,1000)\n",
    "residual = (y_true - y_pred).astype(\"float\")\n",
    "\n",
    "custom_loss = np.log(((y_pred)+1) )-np.log(y_true + 1)\n",
    "# custom_loss = np.log1p(y_pred) - np.log1p(y_true)\n",
    "custom_loss2 =  [root_mean_squared_log_error(np.array([50]),np.array([p])) for p in list(y_pred)]\n",
    "\n",
    "fig, ax = plt.subplots(1,1, figsize=(8,4))\n",
    "sns.lineplot(y_pred, custom_loss, alpha=1, label=\"asymmetric mse\")\n",
    "\n",
    "sns.lineplot(y_pred, custom_loss2, alpha=1, label=\"asymmetric mse22\")\n",
    "\n",
    "ax.set_xlabel(\"Predictions\")\n",
    "ax.set_ylabel(\"Loss value\")\n",
    "\n",
    "fig.tight_layout()\n",
    "# custom_loss2"
   ]
  },
  {
   "cell_type": "code",
   "execution_count": 211,
   "id": "a8d24eb1-6bce-4f2e-b9d5-0af4d2d15c79",
   "metadata": {},
   "outputs": [
    {
     "data": {
      "image/png": "[encoded data removed]",
      "text/plain": [
       "<Figure size 576x288 with 1 Axes>"
      ]
     },
     "metadata": {
      "needs_background": "light"
     },
     "output_type": "display_data"
    }
   ],
   "source": [
    "grad, hess = custom_asymmetric_objective(y_true, y_pred)\n",
    "\n",
    "fig, ax = plt.subplots(1,1, figsize=(8,4))\n",
    "\n",
    "# ax.plot(y_hat, errors)\n",
    "ax.plot(y_pred, grad)\n",
    "ax.plot(y_pred, hess)\n",
    "ax.legend(('gradient', 'hessian'))\n",
    "ax.set_xlabel('Predictions')\n",
    "ax.set_ylabel('first or second derivates')\n",
    "\n",
    "fig.tight_layout()"
   ]
  },
  {
   "cell_type": "markdown",
   "id": "6b289763-3047-4ee8-b007-4984ba478762",
   "metadata": {},
   "source": [
    "# Apply metric to lgbm"
   ]
  },
  {
   "cell_type": "code",
   "execution_count": 216,
   "id": "8eaddfe4-46e9-4fa9-85a1-f81c986c3619",
   "metadata": {},
   "outputs": [
    {
     "name": "stderr",
     "output_type": "stream",
     "text": [
      "C:\\ProgramData\\Anaconda3\\lib\\site-packages\\lightgbm\\engine.py:153: UserWarning: Found `early_stopping_rounds` in params. Will use it instead of argument\n",
      "  _log_warning(\"Found `{}` in params. Will use it instead of argument\".format(alias))\n"
     ]
    },
    {
     "name": "stdout",
     "output_type": "stream",
     "text": [
      "[LightGBM] [Warning] early_stopping_round is set=10, early_stopping_rounds=10 will be ignored. Current value: early_stopping_round=10\n"
     ]
    },
    {
     "data": {
      "text/plain": [
       "LGBMRegressor(early_stopping_rounds=10, n_estimators=10000, random_state=33)"
      ]
     },
     "execution_count": 216,
     "metadata": {},
     "output_type": "execute_result"
    }
   ],
   "source": [
    "gbm6 = lightgbm.LGBMRegressor(random_state=33,\n",
    "                              early_stopping_rounds = 10,\n",
    "                              n_estimators=10000\n",
    "                             )\n",
    "\n",
    "# gbm6.set_params(**{'objective': custom_asymmetric_objective}, metrics = [\"mse\", 'mae'])\n",
    "\n",
    "gbm6.fit(\n",
    "    X_train,\n",
    "    np.log(y_train),\n",
    "    eval_set=[(X_test, np.log(y_test))],\n",
    "    eval_metric=custom_asymmetric_eval,\n",
    "    verbose=False,\n",
    ")"
   ]
  },
  {
   "cell_type": "code",
   "execution_count": 217,
   "id": "b7457b49-8a40-4acb-8ea7-7a360d61ea07",
   "metadata": {},
   "outputs": [
    {
     "name": "stdout",
     "output_type": "stream",
     "text": [
      "XGBoost RMSLE: 0.12217083807945368\n"
     ]
    }
   ],
   "source": [
    "lgbm_prediction = np.exp(gbm6.predict(X_test))\n",
    "lgbm_rmsle = root_mean_squared_log_error(lgbm_prediction, y_test)\n",
    "print('LGBM RMSLE:', lgbm_rmsle)"
   ]
  },
  {
   "cell_type": "code",
   "execution_count": 219,
   "id": "013035b4-3f6a-42c6-b4ff-d4bdb7ff7238",
   "metadata": {},
   "outputs": [
    {
     "data": {
      "text/plain": [
       "Text(0, 0.5, 'Ground Truth')"
      ]
     },
     "execution_count": 219,
     "metadata": {},
     "output_type": "execute_result"
    },
    {
     "data": {
      "image/png": "[encoded data removed]",
      "text/plain": [
       "<Figure size 432x288 with 1 Axes>"
      ]
     },
     "metadata": {
      "needs_background": "light"
     },
     "output_type": "display_data"
    }
   ],
   "source": [
    "plt.scatter(lgbm_prediction, y_test)\n",
    "plt.xlabel('LGBM prediction')\n",
    "plt.ylabel('Ground Truth')"
   ]
  },
  {
   "cell_type": "markdown",
   "id": "28fdfea9-c9ea-4e13-b898-6a2d797fa878",
   "metadata": {},
   "source": [
    "## Submission lgbm"
   ]
  },
  {
   "cell_type": "code",
   "execution_count": 220,
   "id": "257fda0d-c00f-4ed6-ac20-474834a0a18f",
   "metadata": {},
   "outputs": [],
   "source": [
    "lgb_prediction = np.exp(gbm6.predict(test_labels))\n",
    "df = pd.DataFrame(lgb_prediction, columns = ['price_prediction'])\n",
    "test.rename(columns={'apartment_id' : 'id'}, inplace=True)\n",
    "result = pd.concat([test['id'], df], axis=1)\n",
    "result = result.sort_values(by='id')\n",
    "result[['id','price_prediction']].to_csv('.\\submissions\\LGBM2.0.csv', index=False)"
   ]
  },
  {
   "cell_type": "code",
   "execution_count": null,
   "id": "bbe375a7-8d13-4b65-b761-5af0980abd47",
   "metadata": {},
   "outputs": [],
   "source": []
  },
  {
   "cell_type": "code",
   "execution_count": null,
   "id": "9bd11d21-2b7e-437c-b5bc-54f922d6c6ad",
   "metadata": {},
   "outputs": [],
   "source": []
  },
  {
   "cell_type": "code",
   "execution_count": null,
   "id": "962ebbb4-f7bf-4436-9e2c-efb4798f12e0",
   "metadata": {},
   "outputs": [],
   "source": []
  },
  {
   "cell_type": "code",
   "execution_count": null,
   "id": "cac53d19-47c4-4caf-9345-8150e18646f7",
   "metadata": {},
   "outputs": [],
   "source": []
  },
  {
   "cell_type": "code",
   "execution_count": null,
   "id": "a7480360-542b-401f-b104-9d9ce36c8215",
   "metadata": {},
   "outputs": [],
   "source": []
  }
 ],
 "metadata": {
  "kernelspec": {
   "display_name": "Python 3",
   "language": "python",
   "name": "python3"
  },
  "language_info": {
   "codemirror_mode": {
    "name": "ipython",
    "version": 3
   },
   "file_extension": ".py",
   "mimetype": "text/x-python",
   "name": "python",
   "nbconvert_exporter": "python",
   "pygments_lexer": "ipython3",
   "version": "3.8.8"
  }
 },
 "nbformat": 4,
 "nbformat_minor": 5
}
