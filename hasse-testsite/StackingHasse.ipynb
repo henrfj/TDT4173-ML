{
 "cells": [
  {
   "cell_type": "code",
   "execution_count": 30,
   "id": "8b2f1ed4-0dcf-4092-aecc-2461d4e4fe9b",
   "metadata": {},
   "outputs": [],
   "source": [
    "%run ../common_utils.py"
   ]
  },
  {
   "cell_type": "code",
   "execution_count": null,
   "id": "dd1f1c55-4f4e-4ea4-845b-4b78e1ef6419",
   "metadata": {},
   "outputs": [],
   "source": [
    "import lightgbm as lgbm\n",
    "from sklearn.ensemble import GradientBoostingRegressor\n",
    "import xgboost"
   ]
  },
  {
   "cell_type": "markdown",
   "id": "f4c68cd0-159f-494f-8fb8-064d4deb5aa8",
   "metadata": {},
   "source": [
    "# Global Parameters"
   ]
  },
  {
   "cell_type": "code",
   "execution_count": 5,
   "id": "487a8f5e-b884-4a79-941c-bf5d800d0b24",
   "metadata": {},
   "outputs": [],
   "source": [
    "random_state = 1\n",
    "number_of_splits = 5"
   ]
  },
  {
   "cell_type": "markdown",
   "id": "8ca19f70-42d6-4bdb-92ac-baad041631e9",
   "metadata": {},
   "source": [
    "# Load All Data"
   ]
  },
  {
   "cell_type": "code",
   "execution_count": 39,
   "id": "9e46eeac-5a79-4a55-862e-7a3c4d162a65",
   "metadata": {},
   "outputs": [
    {
     "name": "stdout",
     "output_type": "stream",
     "text": [
      "minMax\n"
     ]
    }
   ],
   "source": [
    "features =           [\"building_id\", # For grouping\n",
    "                      \"area_total\", \"area_kitchen\", \"area_living\", \"floor\", \"ceiling\", \"stories\", \"rooms\",\n",
    "                      \"bathrooms_private\", \"bathrooms_shared\", \"balconies\",\"loggias\", \"phones\", \"latitude\", \"longitude\", \"constructed\", # Numerical\n",
    "                     \"layout\", \"condition\", \"district\", \"material\", \"parking\", \"heating\", \"seller\", #Categorical\n",
    "                      \"windows_court\", \"windows_street\", \"new\", \"elevator_without\", \"elevator_passenger\", \"elevator_service\", \"garbage_chute\"] # Bool\n",
    "                     #\"street\", \"address\"] # Strings\n",
    "\n",
    "all_numerical_features = [\"area_total\", \"area_kitchen\", \"area_living\", \"floor\",\n",
    "                      \"ceiling\", \"stories\", \"rooms\", \"bathrooms_private\", \"bathrooms_shared\", \"balconies\",\"loggias\", \"phones\", \"latitude\", \"longitude\", \"constructed\"]\n",
    "\n",
    "float_numerical_features = [\"area_total\", \"area_kitchen\", \"area_living\", \"ceiling\", \"latitude\", \"longitude\", \"constructed\"]\n",
    "int_numerical_features = [\"floor\", \"stories\", \"rooms\", \"bathrooms_private\", \"bathrooms_shared\", \"balconies\", \"loggias\", \"phones\"] # Ordinal categories\n",
    "\n",
    "cat_features = [\"layout\", \"condition\", \"district\", \"material\", \"parking\", \"heating\", \"seller\"] # All are non-ordinal\n",
    "\n",
    "droptable = []\n",
    "\n",
    "# Load data\n",
    "train, test, metaData = load_all_data()\n",
    "# Clean data\n",
    "train_labels, train_targets, test_labels = clean_data(train, test, features, float_numerical_features, int_numerical_features, cat_features, log_targets=False, log_area=True, fillNan=True)\n",
    "# Add new features\n",
    "train_labels, test_labels, added_features = feature_engineering(train_labels, test_labels, float_numerical_features, int_numerical_features, cat_features)\n",
    "# Normalize\n",
    "train_labels, test_labels = normalize(train_labels, test_labels, float_numerical_features, scaler=\"minMax\")\n",
    "# One-hot encoding\n",
    "train_labels_one_hot, test_labels_one_hot = one_hot_encoder(train_labels, test_labels, [\"condition\", \"district\", \"material\", \"parking\", \"heating\", \"seller\"], drop_old=True)\n",
    "# Drop some features\n",
    "train_labels.drop(droptable, inplace=True, axis=1)\n",
    "test_labels.drop(droptable, inplace=True, axis=1)\n",
    "train_labels_one_hot.drop(droptable, inplace=True, axis=1)\n",
    "test_labels_one_hot.drop(droptable, inplace=True, axis=1)"
   ]
  },
  {
   "cell_type": "markdown",
   "id": "dc251c5a-7fa0-48c7-aa47-b80a40635d41",
   "metadata": {},
   "source": [
    "# Model 1 LGBM"
   ]
  },
  {
   "cell_type": "code",
   "execution_count": 8,
   "id": "1e183767-100a-45e9-93e3-112697a3fe71",
   "metadata": {},
   "outputs": [],
   "source": [
    "params= {\n",
    " 'num_iterations': 10000,\n",
    " 'n_estimators': 152,\n",
    " 'learning_rate': 0.05,\n",
    " 'num_leaves': 40,\n",
    " 'max_depth': 10,\n",
    " 'min_data_in_leaf': 20,\n",
    " 'bagging_fraction': 0.9,\n",
    " 'bagging_freq': 5,\n",
    " 'feature_fraction': 0.8,\n",
    "}\n",
    "model1 = lgbm.LGBMRegressor(\n",
    "    **params, \n",
    "    random_state=random_state,\n",
    "    early_stopping_round=100,\n",
    "    silent=True,\n",
    "    metric='regression',\n",
    "    num_threads=4)"
   ]
  },
  {
   "cell_type": "code",
   "execution_count": 22,
   "id": "c7f6d28c-74cf-4244-a34a-087259c508dd",
   "metadata": {},
   "outputs": [],
   "source": [
    "%%capture --no-display\n",
    "oof_train_lgbm, oof_test_lgbm, scores_lgbm = get_oof_lgbm(model1, train_labels_one_hot, np.log(train_targets), test_labels_one_hot, NFOLDS=number_of_splits, eval_metric='neg_root_mean_squared_error')"
   ]
  },
  {
   "cell_type": "markdown",
   "id": "7a56cc56-9819-46c9-a330-91620dbe8d6c",
   "metadata": {},
   "source": [
    "# Model 2 Gradient Boost"
   ]
  },
  {
   "cell_type": "code",
   "execution_count": 25,
   "id": "7d2a1323-4326-4604-b072-fbddc9e8477d",
   "metadata": {},
   "outputs": [],
   "source": [
    "optimal_n_estimators = 300\n",
    "optimal_max_depth = 13\n",
    "optimal_min_samples_split = 1000\n",
    "optimal_min_samples_leaf = 40\n",
    "optimal_max_features = 40\n",
    "optimal_subsample = 0.95\n",
    "original_learning_rate = 0.1\n",
    "\n",
    "model2 = GradientBoostingRegressor(\n",
    "            n_estimators = optimal_n_estimators*10,\n",
    "            max_depth = optimal_max_depth,\n",
    "            min_samples_split = optimal_min_samples_split,\n",
    "            min_samples_leaf = optimal_min_samples_leaf,\n",
    "            max_features = optimal_max_features,\n",
    "            subsample = optimal_subsample,\n",
    "            learning_rate = original_learning_rate / 10,\n",
    "            loss = 'squared_error',\n",
    "            criterion = 'squared_error',\n",
    "            verbose = 0,\n",
    "            warm_start = False,\n",
    "            random_state = random_state,\n",
    "        )"
   ]
  },
  {
   "cell_type": "code",
   "execution_count": 31,
   "id": "bd5628e0-54d7-4d2c-974f-538c5189a8e0",
   "metadata": {},
   "outputs": [],
   "source": [
    "oof_train_gb, oof_test_gb, scores_gb = get_oof_gradientboost(model2, train_labels_one_hot, np.log(train_targets), test_labels_one_hot, NFOLDS=number_of_splits)"
   ]
  },
  {
   "cell_type": "markdown",
   "id": "9dcff741-0ba2-4304-a229-a5c3386c8e63",
   "metadata": {
    "tags": []
   },
   "source": [
    "# Model 3 XGBoost"
   ]
  },
  {
   "cell_type": "code",
   "execution_count": null,
   "id": "8093bd55-cf47-4f85-8ac7-f8e923a7a8d6",
   "metadata": {},
   "outputs": [],
   "source": [
    "model3 = xgboost.XGBRegressor(\n",
    "    max_depth=5, \n",
    "    min_child_weight=12, \n",
    "    gamma=0.15, \n",
    "    subsample=0.8, \n",
    "    colsample_bytree=0.8, \n",
    "    reg_alpha=1.1, \n",
    "    reg_lambda=0.3, \n",
    "    learning_rate=0.01, \n",
    "    n_estimators=10000\n",
    ")"
   ]
  },
  {
   "cell_type": "code",
   "execution_count": null,
   "id": "5dc21221-ee91-4e55-8a7c-42562f300f8b",
   "metadata": {},
   "outputs": [],
   "source": [
    "oof_train_xgb, oof_test_xgb, scores_xgb = get_oof_gradientboost(model3, train_labels_one_hot, np.log(train_targets), test_labels_one_hot, NFOLDS=number_of_splits)"
   ]
  },
  {
   "cell_type": "markdown",
   "id": "392ec84f-ae64-4d5f-92fb-89828d6b9109",
   "metadata": {},
   "source": [
    "# Model 4 RF"
   ]
  },
  {
   "cell_type": "code",
   "execution_count": null,
   "id": "79c5496e-820d-471e-9040-4ff5f77e1503",
   "metadata": {},
   "outputs": [],
   "source": [
    "model4 = RandomForestRegressor(\n",
    "        n_estimators=2000,\n",
    "        max_depth=400,\n",
    "        min_samples_split=2,\n",
    "        min_samples_leaf= 2,\n",
    "        min_weight_fraction_leaf=0.00008,\n",
    "        max_features='auto',\n",
    "        max_leaf_nodes=None,\n",
    "        min_impurity_decrease=1100,\n",
    "        bootstrap=True,\n",
    "        oob_score=False,\n",
    "        n_jobs=None,\n",
    "        random_state=None,\n",
    "        verbose=0,\n",
    "        warm_start=True,\n",
    "        ccp_alpha=20000,\n",
    "        max_samples=None\n",
    "    )\n",
    "features = [\"area_total\", \"latitude\", \"longitude\", \"floor\", \"district\", \"stories\", 'condition'] "
   ]
  },
  {
   "cell_type": "code",
   "execution_count": null,
   "id": "b0b09da8-f5f4-4c21-aa2f-ef4f18c404e8",
   "metadata": {},
   "outputs": [],
   "source": [
    "oof_train_rf, oof_test_rf, scores_rf = get_oof_rf(train_labels[features], train_targets, test_labels[features], NFOLDS=number_of_splits)"
   ]
  },
  {
   "cell_type": "markdown",
   "id": "535effa3-4451-45c1-85c5-25773861809e",
   "metadata": {},
   "source": [
    "# King Model"
   ]
  },
  {
   "cell_type": "code",
   "execution_count": null,
   "id": "b22b7533-3450-4b56-955b-2648af66d8fb",
   "metadata": {},
   "outputs": [],
   "source": [
    "params_king= {\n",
    " 'num_iterations': 10000,\n",
    " 'n_estimators': 152*5,\n",
    " 'learning_rate': 0.05/5,\n",
    " 'num_leaves': 40,\n",
    " 'max_depth': 10,\n",
    " 'min_data_in_leaf': 20,\n",
    " 'bagging_fraction': 0.9,\n",
    " 'bagging_freq': 5,\n",
    " 'feature_fraction': 0.8,\n",
    "}\n",
    "model_king = lgbm.LGBMRegressor(\n",
    "    **params_king, \n",
    "    random_state=random_state,\n",
    "    early_stopping_round=100,\n",
    "    silent=True,\n",
    "    metric='regression',\n",
    "    num_threads=4)"
   ]
  },
  {
   "cell_type": "code",
   "execution_count": null,
   "id": "0256525b-0271-485d-af56-cc1ef694e240",
   "metadata": {},
   "outputs": [],
   "source": [
    "stacking_labels = train_labels_one_hot\n",
    "stacking_labels_log = train_labels_one_hot"
   ]
  },
  {
   "cell_type": "code",
   "execution_count": null,
   "id": "30910be3-45c2-4366-b272-7b0967d16910",
   "metadata": {},
   "outputs": [],
   "source": [
    "stacking_labels['lgbm_prediction'] = oof_train_lgbm\n",
    "stacking_labels['gb_prediction'] = oof_train_gb\n",
    "stacking_labels['rf_prediction'] = oof_train_rf\n",
    "stacking_labels_log['lgbm_prediction'] = oof_train_lgbm\n",
    "stacking_labels_log['gb_prediction'] = oof_train_gb\n",
    "stacking_labels_log['rf_prediction'] = oof_train_rf\n",
    "oof_predictions = ['lgbm_prediction','gb_prediction','rf_prediction']"
   ]
  },
  {
   "cell_type": "code",
   "execution_count": null,
   "id": "d57fb7e3-0b50-4817-b30f-61a99ad7c1f9",
   "metadata": {},
   "outputs": [],
   "source": [
    "print(stacking_labels['lgbm_prediction'].head())\n",
    "print(stacking_labels['gb_prediction'].head())\n",
    "print(stacking_labels['rf_prediction'].head())"
   ]
  },
  {
   "cell_type": "code",
   "execution_count": null,
   "id": "d50bd259-d4dd-44f2-9ea9-562b427115d1",
   "metadata": {},
   "outputs": [],
   "source": [
    "# all logged\n",
    "%%capture --no-display\n",
    "scores, average_score, best_model, best_index = lgbm_groupKFold(\n",
    "    number_of_splits=number_of_splits,\n",
    "    model=model,\n",
    "    X_train=stacking_labels_log, \n",
    "    y_train=np.log(train_targets))"
   ]
  },
  {
   "cell_type": "code",
   "execution_count": null,
   "id": "27db5933-bd51-4af1-8c06-45426e7951de",
   "metadata": {},
   "outputs": [],
   "source": [
    "print(\"scores:        \", scores)\n",
    "print(\"average score: \", average_score)\n",
    "print(\"best model:    \", best_model)\n",
    "print(\"best index:    \", best_index)"
   ]
  },
  {
   "cell_type": "code",
   "execution_count": null,
   "id": "e0b65dd5-a632-4583-9241-d564392c62cb",
   "metadata": {},
   "outputs": [],
   "source": [
    "# all exponential\n",
    "%%capture --no-display\n",
    "scores, average_score, best_model, best_index = lgbm_groupKFold(\n",
    "    number_of_splits=number_of_splits,\n",
    "    model=model,\n",
    "    X_train=stacking_labels, \n",
    "    y_train=np.log(train_targets))"
   ]
  },
  {
   "cell_type": "code",
   "execution_count": null,
   "id": "a5a5d24e-0294-47ad-97c3-b56dab3fac40",
   "metadata": {},
   "outputs": [],
   "source": [
    "print(\"scores:        \", scores)\n",
    "print(\"average score: \", average_score)\n",
    "print(\"best model:    \", best_model)\n",
    "print(\"best index:    \", best_index)"
   ]
  },
  {
   "cell_type": "code",
   "execution_count": null,
   "id": "465d85d8-c326-4574-93ea-3e6386a951f2",
   "metadata": {},
   "outputs": [],
   "source": [
    "# on only oof data (logged)"
   ]
  },
  {
   "cell_type": "code",
   "execution_count": null,
   "id": "eb3cfc06-d87c-45fe-bbe3-f3ca8e88c92e",
   "metadata": {},
   "outputs": [],
   "source": [
    "%%capture --no-display\n",
    "scores, average_score, best_model, best_index = lgbm_groupKFold(\n",
    "    number_of_splits=number_of_splits,\n",
    "    model=model,\n",
    "    X_train=stacking_labels_log[oof_predictions], \n",
    "    y_train=np.log(train_targets))"
   ]
  },
  {
   "cell_type": "code",
   "execution_count": null,
   "id": "f7eabb14-d6f8-45be-80ec-496ffab018bf",
   "metadata": {},
   "outputs": [],
   "source": [
    "print(\"scores:        \", scores)\n",
    "print(\"average score: \", average_score)\n",
    "print(\"best model:    \", best_model)\n",
    "print(\"best index:    \", best_index)"
   ]
  },
  {
   "cell_type": "code",
   "execution_count": null,
   "id": "73c6f872-38ed-4491-adce-7041894aa58d",
   "metadata": {},
   "outputs": [],
   "source": [
    "# on only oof data (exponential)"
   ]
  },
  {
   "cell_type": "code",
   "execution_count": null,
   "id": "b28655f7-0de4-4637-995b-01ed679765c1",
   "metadata": {},
   "outputs": [],
   "source": [
    "%%capture --no-display\n",
    "scores, average_score, best_model, best_index = lgbm_groupKFold(\n",
    "    number_of_splits=number_of_splits,\n",
    "    model=model,\n",
    "    X_train=stacking_labels[oof_predictions], \n",
    "    y_train=np.log(train_targets))"
   ]
  },
  {
   "cell_type": "code",
   "execution_count": null,
   "id": "01cf8ae8-5517-4c1c-9696-caaad89b9f43",
   "metadata": {},
   "outputs": [],
   "source": [
    "print(\"scores:        \", scores)\n",
    "print(\"average score: \", average_score)\n",
    "print(\"best model:    \", best_model)\n",
    "print(\"best index:    \", best_index)"
   ]
  }
 ],
 "metadata": {
  "kernelspec": {
   "display_name": "Python 3",
   "language": "python",
   "name": "python3"
  },
  "language_info": {
   "codemirror_mode": {
    "name": "ipython",
    "version": 3
   },
   "file_extension": ".py",
   "mimetype": "text/x-python",
   "name": "python",
   "nbconvert_exporter": "python",
   "pygments_lexer": "ipython3",
   "version": "3.8.8"
  }
 },
 "nbformat": 4,
 "nbformat_minor": 5
}
