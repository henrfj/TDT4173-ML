{
 "cells": [
  {
   "cell_type": "code",
   "execution_count": 2,
   "id": "720a4c17-9273-4f22-a6be-33278e991d01",
   "metadata": {},
   "outputs": [],
   "source": [
    "import pandas as pd\n",
    "import numpy as np\n",
    "from sklearn.model_selection import train_test_split, KFold\n",
    "from sklearn.tree import DecisionTreeRegressor\n",
    "from sklearn.metrics import mean_squared_log_error\n",
    "from sklearn.ensemble import RandomForestRegressor\n",
    "from sklearn.ensemble import AdaBoostRegressor\n",
    "from sklearn.ensemble import GradientBoostingRegressor\n",
    "from scipy import stats\n",
    "\n",
    "import lightgbm as lgb\n",
    "from catboost import CatBoostRegressor\n",
    "\n",
    "import math\n",
    "\n",
    "import matplotlib.pylab as plt\n",
    "plt.style.use('ggplot')"
   ]
  },
  {
   "cell_type": "code",
   "execution_count": null,
   "id": "3bf3721a-86c8-4a1b-9191-4c68d709f46f",
   "metadata": {},
   "outputs": [],
   "source": []
  },
  {
   "cell_type": "code",
   "execution_count": 3,
   "id": "fb27403f-9915-443a-8994-1ee38aa8ccb0",
   "metadata": {},
   "outputs": [],
   "source": [
    "train_apartment = pd.read_csv('../data/apartments_train.csv')\n",
    "train_building = pd.read_csv('../data/buildings_train.csv')\n",
    "train = pd.merge(train_apartment, train_building, left_on='building_id', right_on='id')\n",
    "train.rename(columns={'id_x' : 'apartment_id'}, inplace=True)\n",
    "train.drop('id_y', axis=1, inplace=True)"
   ]
  },
  {
   "cell_type": "code",
   "execution_count": 4,
   "id": "72f9a242-01c6-4191-8ee2-b6612dd9750a",
   "metadata": {},
   "outputs": [],
   "source": [
    "test_apartment = pd.read_csv('../data/apartments_test.csv')\n",
    "test_building = pd.read_csv('../data/buildings_test.csv')\n",
    "test = pd.merge(test_apartment, test_building, left_on='building_id', right_on='id')\n",
    "test.rename(columns={'id_x' : 'id'}, inplace=True)\n",
    "test.drop('id_y', axis=1, inplace=True)\n",
    "test = test.drop(['street', 'address'], axis=1)"
   ]
  },
  {
   "cell_type": "code",
   "execution_count": 5,
   "id": "a5209c35-977e-4584-a197-8b35ea2cb3bb",
   "metadata": {},
   "outputs": [],
   "source": [
    "column_names_apartments = ['apartment_id', 'seller', 'area_total', 'area_kitchen', 'area_living',\n",
    "       'floor', 'rooms', 'layout', 'ceiling', 'bathrooms_shared',\n",
    "       'bathrooms_private', 'windows_court', 'windows_street', 'balconies',\n",
    "       'loggias', 'condition', 'phones', 'building_id', 'price']\n",
    "column_names_buildings = ['new', 'latitude', 'longitude', 'district', 'street', 'address',\n",
    "       'constructed', 'material', 'stories', 'elevator_without',\n",
    "       'elevator_passenger', 'elevator_service', 'parking', 'garbage_chute',\n",
    "       'heating']\n",
    "all_features = column_names_apartments[:-1] + column_names_buildings\n",
    "#features selected based on gini importance in LGBM model in sequential_all_data\n",
    "selected_features = ['area_total','area_kitchen','floor','bathrooms_private','longitude','latitude','district','constructed','stories']"
   ]
  },
  {
   "cell_type": "code",
   "execution_count": 14,
   "id": "47fc3415-23ad-4ad2-bd02-8edd0a03c068",
   "metadata": {},
   "outputs": [],
   "source": [
    "def preprocess(data,price_outlier_rejection=False,fill=True):\n",
    "    if price_outlier_rejection is True:\n",
    "        data = data[(np.abs(stats.zscore(data['price'])) < 20)]\n",
    "    if fill is True:\n",
    "        return data.fillna(data.mean())\n",
    "    else:\n",
    "        return data.dropna()"
   ]
  },
  {
   "cell_type": "code",
   "execution_count": 7,
   "id": "b04f5bad-95d2-4189-a16a-a71dd64d7028",
   "metadata": {},
   "outputs": [],
   "source": [
    "processed_data = preprocess(train)\n",
    "X = processed_data[selected_features]\n",
    "y = processed_data['price']"
   ]
  },
  {
   "cell_type": "code",
   "execution_count": 8,
   "id": "f80c0fe7-cc97-447e-a0cc-e2fc35ab015a",
   "metadata": {},
   "outputs": [],
   "source": [
    "processed_test = preprocess(test)\n",
    "processed_test = processed_test[selected_features]"
   ]
  },
  {
   "cell_type": "code",
   "execution_count": 9,
   "id": "2509630b-97b5-466e-b769-be23fe67e82a",
   "metadata": {},
   "outputs": [],
   "source": [
    "X_train, X_test, y_train, y_test = train_test_split(X, y, test_size=0.2, random_state=42)"
   ]
  },
  {
   "cell_type": "markdown",
   "id": "65645489-ebf5-4e44-b12e-994bd9771086",
   "metadata": {},
   "source": [
    "# Model 1"
   ]
  },
  {
   "cell_type": "code",
   "execution_count": 10,
   "id": "cb328177-f986-47ab-ae31-f57193705dcd",
   "metadata": {},
   "outputs": [],
   "source": [
    "model1 = GradientBoostingRegressor(\n",
    "    learning_rate=0.01,\n",
    "    n_estimators=2000,\n",
    "    subsample=1.0, \n",
    "    criterion='friedman_mse', \n",
    "    min_samples_split=4, \n",
    "    min_samples_leaf=2, \n",
    "    min_weight_fraction_leaf=0.0, \n",
    "    max_depth=9, \n",
    "    min_impurity_decrease=0.0, \n",
    "    init=None, \n",
    "    random_state=0, \n",
    "    max_features=None,\n",
    "    alpha=0.9,\n",
    "    verbose=0,\n",
    "    max_leaf_nodes=None,\n",
    "    warm_start=False,\n",
    "    validation_fraction=0.1,\n",
    "    n_iter_no_change=None,\n",
    "    tol=0.0001,\n",
    "    ccp_alpha=0.0\n",
    ")"
   ]
  },
  {
   "cell_type": "code",
   "execution_count": 11,
   "id": "789a2284-2ced-4332-b18b-f927bc391eea",
   "metadata": {},
   "outputs": [
    {
     "ename": "KeyboardInterrupt",
     "evalue": "",
     "output_type": "error",
     "traceback": [
      "\u001b[1;31m---------------------------------------------------------------------------\u001b[0m",
      "\u001b[1;31mKeyboardInterrupt\u001b[0m                         Traceback (most recent call last)",
      "\u001b[1;32m<ipython-input-11-222a4dc1087d>\u001b[0m in \u001b[0;36m<module>\u001b[1;34m\u001b[0m\n\u001b[1;32m----> 1\u001b[1;33m \u001b[0mmodel1\u001b[0m\u001b[1;33m.\u001b[0m\u001b[0mfit\u001b[0m\u001b[1;33m(\u001b[0m\u001b[0mX_train\u001b[0m\u001b[1;33m,\u001b[0m \u001b[0my_train\u001b[0m\u001b[1;33m)\u001b[0m\u001b[1;33m\u001b[0m\u001b[1;33m\u001b[0m\u001b[0m\n\u001b[0m",
      "\u001b[1;32mC:\\ProgramData\\Anaconda3\\lib\\site-packages\\sklearn\\ensemble\\_gb.py\u001b[0m in \u001b[0;36mfit\u001b[1;34m(self, X, y, sample_weight, monitor)\u001b[0m\n\u001b[0;32m    502\u001b[0m \u001b[1;33m\u001b[0m\u001b[0m\n\u001b[0;32m    503\u001b[0m         \u001b[1;31m# fit the boosting stages\u001b[0m\u001b[1;33m\u001b[0m\u001b[1;33m\u001b[0m\u001b[1;33m\u001b[0m\u001b[0m\n\u001b[1;32m--> 504\u001b[1;33m         n_stages = self._fit_stages(\n\u001b[0m\u001b[0;32m    505\u001b[0m             \u001b[0mX\u001b[0m\u001b[1;33m,\u001b[0m \u001b[0my\u001b[0m\u001b[1;33m,\u001b[0m \u001b[0mraw_predictions\u001b[0m\u001b[1;33m,\u001b[0m \u001b[0msample_weight\u001b[0m\u001b[1;33m,\u001b[0m \u001b[0mself\u001b[0m\u001b[1;33m.\u001b[0m\u001b[0m_rng\u001b[0m\u001b[1;33m,\u001b[0m \u001b[0mX_val\u001b[0m\u001b[1;33m,\u001b[0m \u001b[0my_val\u001b[0m\u001b[1;33m,\u001b[0m\u001b[1;33m\u001b[0m\u001b[1;33m\u001b[0m\u001b[0m\n\u001b[0;32m    506\u001b[0m             sample_weight_val, begin_at_stage, monitor)\n",
      "\u001b[1;32mC:\\ProgramData\\Anaconda3\\lib\\site-packages\\sklearn\\ensemble\\_gb.py\u001b[0m in \u001b[0;36m_fit_stages\u001b[1;34m(self, X, y, raw_predictions, sample_weight, random_state, X_val, y_val, sample_weight_val, begin_at_stage, monitor)\u001b[0m\n\u001b[0;32m    559\u001b[0m \u001b[1;33m\u001b[0m\u001b[0m\n\u001b[0;32m    560\u001b[0m             \u001b[1;31m# fit next stage of trees\u001b[0m\u001b[1;33m\u001b[0m\u001b[1;33m\u001b[0m\u001b[1;33m\u001b[0m\u001b[0m\n\u001b[1;32m--> 561\u001b[1;33m             raw_predictions = self._fit_stage(\n\u001b[0m\u001b[0;32m    562\u001b[0m                 \u001b[0mi\u001b[0m\u001b[1;33m,\u001b[0m \u001b[0mX\u001b[0m\u001b[1;33m,\u001b[0m \u001b[0my\u001b[0m\u001b[1;33m,\u001b[0m \u001b[0mraw_predictions\u001b[0m\u001b[1;33m,\u001b[0m \u001b[0msample_weight\u001b[0m\u001b[1;33m,\u001b[0m \u001b[0msample_mask\u001b[0m\u001b[1;33m,\u001b[0m\u001b[1;33m\u001b[0m\u001b[1;33m\u001b[0m\u001b[0m\n\u001b[0;32m    563\u001b[0m                 random_state, X_csc, X_csr)\n",
      "\u001b[1;32mC:\\ProgramData\\Anaconda3\\lib\\site-packages\\sklearn\\ensemble\\_gb.py\u001b[0m in \u001b[0;36m_fit_stage\u001b[1;34m(self, i, X, y, raw_predictions, sample_weight, sample_mask, random_state, X_csc, X_csr)\u001b[0m\n\u001b[0;32m    212\u001b[0m \u001b[1;33m\u001b[0m\u001b[0m\n\u001b[0;32m    213\u001b[0m             \u001b[0mX\u001b[0m \u001b[1;33m=\u001b[0m \u001b[0mX_csr\u001b[0m \u001b[1;32mif\u001b[0m \u001b[0mX_csr\u001b[0m \u001b[1;32mis\u001b[0m \u001b[1;32mnot\u001b[0m \u001b[1;32mNone\u001b[0m \u001b[1;32melse\u001b[0m \u001b[0mX\u001b[0m\u001b[1;33m\u001b[0m\u001b[1;33m\u001b[0m\u001b[0m\n\u001b[1;32m--> 214\u001b[1;33m             tree.fit(X, residual, sample_weight=sample_weight,\n\u001b[0m\u001b[0;32m    215\u001b[0m                      check_input=False)\n\u001b[0;32m    216\u001b[0m \u001b[1;33m\u001b[0m\u001b[0m\n",
      "\u001b[1;32mC:\\ProgramData\\Anaconda3\\lib\\site-packages\\sklearn\\tree\\_classes.py\u001b[0m in \u001b[0;36mfit\u001b[1;34m(self, X, y, sample_weight, check_input, X_idx_sorted)\u001b[0m\n\u001b[0;32m   1245\u001b[0m         \"\"\"\n\u001b[0;32m   1246\u001b[0m \u001b[1;33m\u001b[0m\u001b[0m\n\u001b[1;32m-> 1247\u001b[1;33m         super().fit(\n\u001b[0m\u001b[0;32m   1248\u001b[0m             \u001b[0mX\u001b[0m\u001b[1;33m,\u001b[0m \u001b[0my\u001b[0m\u001b[1;33m,\u001b[0m\u001b[1;33m\u001b[0m\u001b[1;33m\u001b[0m\u001b[0m\n\u001b[0;32m   1249\u001b[0m             \u001b[0msample_weight\u001b[0m\u001b[1;33m=\u001b[0m\u001b[0msample_weight\u001b[0m\u001b[1;33m,\u001b[0m\u001b[1;33m\u001b[0m\u001b[1;33m\u001b[0m\u001b[0m\n",
      "\u001b[1;32mC:\\ProgramData\\Anaconda3\\lib\\site-packages\\sklearn\\tree\\_classes.py\u001b[0m in \u001b[0;36mfit\u001b[1;34m(self, X, y, sample_weight, check_input, X_idx_sorted)\u001b[0m\n\u001b[0;32m    387\u001b[0m                                            min_impurity_split)\n\u001b[0;32m    388\u001b[0m \u001b[1;33m\u001b[0m\u001b[0m\n\u001b[1;32m--> 389\u001b[1;33m         \u001b[0mbuilder\u001b[0m\u001b[1;33m.\u001b[0m\u001b[0mbuild\u001b[0m\u001b[1;33m(\u001b[0m\u001b[0mself\u001b[0m\u001b[1;33m.\u001b[0m\u001b[0mtree_\u001b[0m\u001b[1;33m,\u001b[0m \u001b[0mX\u001b[0m\u001b[1;33m,\u001b[0m \u001b[0my\u001b[0m\u001b[1;33m,\u001b[0m \u001b[0msample_weight\u001b[0m\u001b[1;33m)\u001b[0m\u001b[1;33m\u001b[0m\u001b[1;33m\u001b[0m\u001b[0m\n\u001b[0m\u001b[0;32m    390\u001b[0m \u001b[1;33m\u001b[0m\u001b[0m\n\u001b[0;32m    391\u001b[0m         \u001b[1;32mif\u001b[0m \u001b[0mself\u001b[0m\u001b[1;33m.\u001b[0m\u001b[0mn_outputs_\u001b[0m \u001b[1;33m==\u001b[0m \u001b[1;36m1\u001b[0m \u001b[1;32mand\u001b[0m \u001b[0mis_classifier\u001b[0m\u001b[1;33m(\u001b[0m\u001b[0mself\u001b[0m\u001b[1;33m)\u001b[0m\u001b[1;33m:\u001b[0m\u001b[1;33m\u001b[0m\u001b[1;33m\u001b[0m\u001b[0m\n",
      "\u001b[1;31mKeyboardInterrupt\u001b[0m: "
     ]
    }
   ],
   "source": [
    "model1.fit(X_train, y_train)"
   ]
  },
  {
   "cell_type": "code",
   "execution_count": null,
   "id": "e6504afe-84da-46b3-8c9c-45f44131d380",
   "metadata": {},
   "outputs": [],
   "source": [
    "gb_prediction = model1.predict(X_test)"
   ]
  },
  {
   "cell_type": "code",
   "execution_count": 75,
   "id": "a3642fef-0bde-4b2b-ae8d-baac19005a43",
   "metadata": {},
   "outputs": [
    {
     "name": "stdout",
     "output_type": "stream",
     "text": [
      "Test MSE: 0.17491101246061397\n"
     ]
    }
   ],
   "source": [
    "gb_mse = math.sqrt(mean_squared_log_error(gb_prediction, y_test))\n",
    "print('Test MSE:', gb_mse)"
   ]
  },
  {
   "cell_type": "markdown",
   "id": "20c9f90a-8666-484f-a64d-e9e80a638494",
   "metadata": {},
   "source": [
    "change compared to model in sequential_filtered_data:\n",
    "criterion = 'friedman_mse' instead of 'mse'\n",
    "Test MSE is now 0.17491 as compared to 0.12145"
   ]
  },
  {
   "cell_type": "code",
   "execution_count": 76,
   "id": "197bdf39-9156-43fa-ad28-6818d2d2e0f8",
   "metadata": {},
   "outputs": [
    {
     "data": {
      "image/png": "[encoded data removed]",
      "text/plain": [
       "<Figure size 432x288 with 1 Axes>"
      ]
     },
     "metadata": {},
     "output_type": "display_data"
    }
   ],
   "source": [
    "plt.scatter(gb_prediction, y_test, alpha=0.15)\n",
    "plt.xlabel('Gradient Boosting prediction')\n",
    "plt.ylabel('Ground Truth')\n",
    "plt.xscale('log')\n",
    "plt.yscale('log')"
   ]
  },
  {
   "cell_type": "markdown",
   "id": "7125a3c8-0405-4864-9f9a-add9118a1363",
   "metadata": {},
   "source": [
    "# Model 2\n",
    "Perform Gradient Boosting in same way as in sequential_filtered_data: but perform price outlier rejection on the training data"
   ]
  },
  {
   "cell_type": "code",
   "execution_count": null,
   "id": "caabafdb-fc4b-447b-b20c-e1d573d8448d",
   "metadata": {},
   "outputs": [],
   "source": []
  },
  {
   "cell_type": "code",
   "execution_count": 15,
   "id": "3b729c81-f919-4fe9-ba69-7799f18b44ab",
   "metadata": {},
   "outputs": [
    {
     "name": "stdout",
     "output_type": "stream",
     "text": [
      "18628\n",
      "18624\n"
     ]
    }
   ],
   "source": [
    "select_train = train[selected_features]\n",
    "X_train, X_test, y_train, y_test = train_test_split(select_train, train['price'], test_size=0.2, random_state=42)\n",
    "unprocessed = pd.concat([X_train, y_train], axis=1)\n",
    "print(len(unprocessed))\n",
    "reject_price_outliers = preprocess(unprocessed,True,True)\n",
    "print(len(reject_price_outliers))"
   ]
  },
  {
   "cell_type": "code",
   "execution_count": 50,
   "id": "b7f668c4-1fe9-401c-9a21-59230f949bad",
   "metadata": {},
   "outputs": [],
   "source": [
    "X_test = preprocess(X_test)"
   ]
  },
  {
   "cell_type": "code",
   "execution_count": 41,
   "id": "48b52f26-54c0-417b-bd57-a0c5cf42c3cf",
   "metadata": {},
   "outputs": [
    {
     "name": "stdout",
     "output_type": "stream",
     "text": [
      "18493\n",
      "18628\n"
     ]
    }
   ],
   "source": [
    "print(len(reject_price_outliers))\n",
    "print(len(unprocessed))"
   ]
  },
  {
   "cell_type": "code",
   "execution_count": 48,
   "id": "3f272053-c7c9-4395-b765-3d3495a82b31",
   "metadata": {},
   "outputs": [
    {
     "name": "stdout",
     "output_type": "stream",
     "text": [
      "18493\n",
      "18493\n"
     ]
    }
   ],
   "source": [
    "X_train = reject_price_outliers[selected_features]\n",
    "y_train = reject_price_outliers['price']\n",
    "print(len(X_train))\n",
    "print(len(y_train))"
   ]
  },
  {
   "cell_type": "code",
   "execution_count": 46,
   "id": "e9c2a6f5-dc5f-45d4-989b-b7a13b3d51e0",
   "metadata": {},
   "outputs": [],
   "source": [
    "model2 = GradientBoostingRegressor(\n",
    "    learning_rate=0.01,\n",
    "    n_estimators=2000,\n",
    "    subsample=1.0, \n",
    "    criterion='mse', \n",
    "    min_samples_split=4, \n",
    "    min_samples_leaf=2, \n",
    "    min_weight_fraction_leaf=0.0, \n",
    "    max_depth=9, \n",
    "    min_impurity_decrease=0.0, \n",
    "    init=None, \n",
    "    random_state=0, \n",
    "    max_features=None,\n",
    "    alpha=0.9,\n",
    "    verbose=0,\n",
    "    max_leaf_nodes=None,\n",
    "    warm_start=False,\n",
    "    validation_fraction=0.1,\n",
    "    n_iter_no_change=None,\n",
    "    tol=0.0001,\n",
    "    ccp_alpha=0.0\n",
    ")"
   ]
  },
  {
   "cell_type": "code",
   "execution_count": 47,
   "id": "4d29aab7-d618-47bc-ab69-9aef375b84b2",
   "metadata": {},
   "outputs": [
    {
     "data": {
      "text/plain": [
       "GradientBoostingRegressor(criterion='mse', learning_rate=0.01, max_depth=9,\n",
       "                          min_samples_leaf=2, min_samples_split=4,\n",
       "                          n_estimators=2000, random_state=0)"
      ]
     },
     "execution_count": 47,
     "metadata": {},
     "output_type": "execute_result"
    }
   ],
   "source": [
    "model2.fit(X_train, y_train)"
   ]
  },
  {
   "cell_type": "code",
   "execution_count": 77,
   "id": "fb1fae01-4f28-4cb8-acb2-203240d66a59",
   "metadata": {},
   "outputs": [],
   "source": [
    "gb_prediction = model2.predict(X_test)"
   ]
  },
  {
   "cell_type": "code",
   "execution_count": 78,
   "id": "9f77370c-3af1-4476-a9d0-48b87229a84e",
   "metadata": {},
   "outputs": [
    {
     "name": "stdout",
     "output_type": "stream",
     "text": [
      "Test MSE: 0.1655923051689505\n"
     ]
    }
   ],
   "source": [
    "gb_mse = math.sqrt(mean_squared_log_error(gb_prediction, y_test))\n",
    "print('Test MSE:', gb_mse)"
   ]
  },
  {
   "cell_type": "code",
   "execution_count": 79,
   "id": "b0f17150-0a05-4451-aae5-441721fe2b9a",
   "metadata": {},
   "outputs": [
    {
     "data": {
      "image/png": "[encoded data removed]",
      "text/plain": [
       "<Figure size 432x288 with 1 Axes>"
      ]
     },
     "metadata": {},
     "output_type": "display_data"
    }
   ],
   "source": [
    "plot = plt.scatter(gb_prediction, y_test, alpha=0.15)\n",
    "plt.xlabel('Gradient Boosting prediction')\n",
    "plt.ylabel('Ground Truth')\n",
    "plt.xscale('log')\n",
    "plt.yscale('log')"
   ]
  },
  {
   "cell_type": "markdown",
   "id": "348ef7aa-c328-41d6-bda0-5986a1b59e19",
   "metadata": {},
   "source": [
    "# Tuning  without outlier rejection"
   ]
  },
  {
   "cell_type": "markdown",
   "id": "49e9e172-088f-4ff0-b2ba-a26b84b95fe9",
   "metadata": {},
   "source": [
    "learning_rate=0.05,\n",
    "    n_estimators=2000,\n",
    "   "
   ]
  },
  {
   "cell_type": "code",
   "execution_count": 80,
   "id": "c05557bb-d1e6-48c3-be62-8f63b4ee1b2d",
   "metadata": {},
   "outputs": [],
   "source": [
    "train_apartment = pd.read_csv('../data/apartments_train.csv')\n",
    "train_building = pd.read_csv('../data/buildings_train.csv')\n",
    "train = pd.merge(train_apartment, train_building, left_on='building_id', right_on='id')\n",
    "train.rename(columns={'id_x' : 'apartment_id'}, inplace=True)\n",
    "train.drop('id_y', axis=1, inplace=True)\n",
    "processed_test = preprocess(test)\n",
    "processed_test = processed_test[selected_features]\n",
    "X_train, X_test, y_train, y_test = train_test_split(X, y, test_size=0.2, random_state=42)"
   ]
  },
  {
   "cell_type": "code",
   "execution_count": 81,
   "id": "e6cdc28a-da3a-498f-b142-aa1c2f81d7e4",
   "metadata": {},
   "outputs": [],
   "source": [
    "model3 = GradientBoostingRegressor(\n",
    "    learning_rate=0.05,\n",
    "    n_estimators=2000,\n",
    "    subsample=1.0, \n",
    "    criterion='mse', \n",
    "    min_samples_split=4, \n",
    "    min_samples_leaf=2, \n",
    "    min_weight_fraction_leaf=0.0, \n",
    "    max_depth=9, \n",
    "    min_impurity_decrease=0.0, \n",
    "    init=None, \n",
    "    random_state=0, \n",
    "    max_features=None,\n",
    "    alpha=0.9,\n",
    "    verbose=0,\n",
    "    max_leaf_nodes=None,\n",
    "    warm_start=False,\n",
    "    validation_fraction=0.1,\n",
    "    n_iter_no_change=None,\n",
    "    tol=0.0001,\n",
    "    ccp_alpha=0.0\n",
    ")"
   ]
  },
  {
   "cell_type": "code",
   "execution_count": 82,
   "id": "be194498-0059-46e1-88d8-52ea9ce93ded",
   "metadata": {},
   "outputs": [],
   "source": [
    "model3.fit(X_train, y_train)\n",
    "gb_prediction3 = model3.predict(X_test)"
   ]
  },
  {
   "cell_type": "code",
   "execution_count": 83,
   "id": "037fb399-955c-4ec5-9cd0-69d72dbb1b8d",
   "metadata": {},
   "outputs": [
    {
     "name": "stdout",
     "output_type": "stream",
     "text": [
      "Test MSE: 0.15419014904718775\n"
     ]
    },
    {
     "data": {
      "image/png": "[encoded data removed]",
      "text/plain": [
       "<Figure size 432x288 with 1 Axes>"
      ]
     },
     "metadata": {},
     "output_type": "display_data"
    }
   ],
   "source": [
    "gb_mse3 = math.sqrt(mean_squared_log_error(gb_prediction3, y_test))\n",
    "print('Test MSE:', gb_mse3)\n",
    "plot = plt.scatter(gb_prediction3, y_test, alpha=0.15)\n",
    "plt.xlabel('Gradient Boosting prediction')\n",
    "plt.ylabel('Ground Truth')\n",
    "plt.xscale('log')\n",
    "plt.yscale('log')"
   ]
  },
  {
   "cell_type": "code",
   "execution_count": null,
   "id": "fdaab93f-ca5e-4cb9-89e0-88820d0c10bd",
   "metadata": {},
   "outputs": [],
   "source": []
  },
  {
   "cell_type": "code",
   "execution_count": null,
   "id": "4f8fe659-2783-441d-8ce1-73f7d54f9986",
   "metadata": {},
   "outputs": [],
   "source": []
  }
 ],
 "metadata": {
  "kernelspec": {
   "display_name": "Python 3",
   "language": "python",
   "name": "python3"
  },
  "language_info": {
   "codemirror_mode": {
    "name": "ipython",
    "version": 3
   },
   "file_extension": ".py",
   "mimetype": "text/x-python",
   "name": "python",
   "nbconvert_exporter": "python",
   "pygments_lexer": "ipython3",
   "version": "3.8.8"
  }
 },
 "nbformat": 4,
 "nbformat_minor": 5
}
