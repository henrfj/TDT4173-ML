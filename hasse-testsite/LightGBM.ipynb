{
 "cells": [
  {
   "cell_type": "code",
   "execution_count": 52,
   "id": "72c80722-8bb2-458b-be67-fc828b9ab52d",
   "metadata": {},
   "outputs": [],
   "source": [
    "%run ../common_utils.py"
   ]
  },
  {
   "cell_type": "code",
   "execution_count": 5,
   "id": "fb92ec11-b2cc-4ea3-9a79-c3989ec061a4",
   "metadata": {},
   "outputs": [],
   "source": [
    "import lightgbm as lgbm\n",
    "from sklearn.metrics import make_scorer"
   ]
  },
  {
   "cell_type": "markdown",
   "id": "404fc1bc-914a-462b-a603-252e1c4bf2ce",
   "metadata": {},
   "source": [
    "## Global parameters"
   ]
  },
  {
   "cell_type": "code",
   "execution_count": 6,
   "id": "0d37c818-6dc4-4f28-9ac4-ab3a1bddce0c",
   "metadata": {},
   "outputs": [],
   "source": [
    "random_state = 1"
   ]
  },
  {
   "cell_type": "code",
   "execution_count": 7,
   "id": "a0cd44af-7e52-44fe-bb6d-760a74a33eed",
   "metadata": {},
   "outputs": [],
   "source": [
    "number_of_splits = 5"
   ]
  },
  {
   "cell_type": "markdown",
   "id": "e75c9931-3104-4925-85e1-e0dfb857b608",
   "metadata": {},
   "source": [
    "# Parameter Tuning\n",
    "\n",
    "## Parameters and defaults:\n",
    " * Regularization:\n",
    "    * reg_lambda (L2) = 0\n",
    "    * reg_alpha (L1) = 0\n",
    "    * num_leaves = 31\n",
    "    * subsample = 1\n",
    "    * max_depth = -1\n",
    "* Training\n",
    "    * n_estimators = 100\n",
    "    * early_stopping_rounds = None\n",
    "    * categorical_feature (don't use one hot!) = 'auto'\n",
    "    * learning_rate = eta = 0.1\n",
    "* Reproducability\n",
    "    * random_state = None"
   ]
  },
  {
   "cell_type": "markdown",
   "id": "e88c2b43-7fdc-4fe3-9c9c-660aeac90bc3",
   "metadata": {},
   "source": [
    "# Load Data"
   ]
  },
  {
   "cell_type": "code",
   "execution_count": 64,
   "id": "07dab9fe-2027-4140-aa98-fb8b9c94f450",
   "metadata": {},
   "outputs": [],
   "source": [
    "def load_data(val_data=False):\n",
    "    train, test, metadata = load_all_data()\n",
    "    nonCategorical, categorical = get_cat_and_non_cat_data(metadata)\n",
    "    categorical.remove('district')\n",
    "    all_features = list(train.columns)\n",
    "    all_features.remove('price')\n",
    "    numerical_features = ['area_total','area_kitchen','area_living','floor','rooms','ceiling',\n",
    "        'bathrooms_shared','bathrooms_private','balconies','loggias','phones','building_id','constructed','stories']\n",
    "    categorical_to_numerical(train, ['street','address'])\n",
    "    categorical_to_numerical(test, ['street','address'])\n",
    "    if not val_data:\n",
    "        X_train, y_train, test_labels = pre_process_numerical(features = all_features, numerical_features = numerical_features, train = train, test = test,\n",
    "                            outliers_value=7, val_data=val_data, val_split=0.2, random_state=42, scaler=\"std\",\n",
    "                            add_R=\"True\", add_rel_height=\"True\", droptable=[],\n",
    "                            one_hot_encode=False, cat_features=categorical, drop_old=True)\n",
    "        y_train_log = np.log(y_train)\n",
    "        return X_train, y_train, y_train_log, test_labels\n",
    "    else:\n",
    "        X_train, y_train, X_test, y_test, test_labels = pre_process_numerical(features = all_features, numerical_features = numerical_features, train = train, test = test,\n",
    "                            outliers_value=7, val_data=val_data, val_split=0.2, random_state=42, scaler=\"std\",\n",
    "                            add_R=\"True\", add_rel_height=\"True\", droptable=[],\n",
    "                            one_hot_encode=False, cat_features=categorical, drop_old=True)\n",
    "        y_train_log = np.log(y_train)\n",
    "        return X_train, y_train, y_train_log, X_test, y_test, test_labels\n"
   ]
  },
  {
   "cell_type": "code",
   "execution_count": 65,
   "id": "b456e1a1-552f-444c-8178-c457ecb00fd9",
   "metadata": {},
   "outputs": [
    {
     "name": "stdout",
     "output_type": "stream",
     "text": [
      "Std\n"
     ]
    }
   ],
   "source": [
    "X_train, y_train, y_train_log, test_labels = load_data()"
   ]
  },
  {
   "cell_type": "markdown",
   "id": "6a3ddc33-1655-4c7a-9a41-a580fd4bcc64",
   "metadata": {},
   "source": [
    "# Different models"
   ]
  },
  {
   "cell_type": "code",
   "execution_count": 66,
   "id": "2b4f5673-6e57-44b0-ae05-0bb04765acd7",
   "metadata": {},
   "outputs": [],
   "source": [
    "lgbm1 = lgbm.LGBMRegressor(\n",
    "    num_leaves=10,\n",
    "    max_depth=5, \n",
    "    random_state=42, \n",
    "    silent=True, \n",
    "    metric='mse',\n",
    "    n_jobs=4, \n",
    "    num_iterations=2000,\n",
    "    colsample_bytree=0.95,\n",
    "    subsample=0.9,\n",
    "    learning_rate=0.05\n",
    ")"
   ]
  },
  {
   "cell_type": "code",
   "execution_count": 67,
   "id": "b3fcf947-52b9-41d9-af5a-b954fa9e4300",
   "metadata": {},
   "outputs": [],
   "source": [
    "lgbm2 = lgbm.LGBMRegressor(\n",
    "    random_state=33,\n",
    "    early_stopping_rounds = 10,\n",
    "    num_iterations=10000\n",
    ")"
   ]
  },
  {
   "cell_type": "code",
   "execution_count": 68,
   "id": "1983578e-c1d8-4acf-8a04-775e9cc407ae",
   "metadata": {},
   "outputs": [],
   "source": [
    "lgbm3 = lgbm.LGBMRegressor(\n",
    "    num_leaves=40,\n",
    "    max_depth=10, \n",
    "    random_state=42, \n",
    "    silent=True, \n",
    "    metric='regression',\n",
    "    num_threads=4, \n",
    "    num_iterations=10000,\n",
    "    feature_fraction=0.8,\n",
    "    bagging_fraction=0.9,\n",
    "    bagging_freq=5,\n",
    "    learning_rate=0.05,\n",
    "    early_stopping_round=20\n",
    ")"
   ]
  },
  {
   "cell_type": "markdown",
   "id": "ee7dcb4f-7710-4743-afbb-cfe391b7357b",
   "metadata": {},
   "source": [
    "# Select features and perform cross validation"
   ]
  },
  {
   "cell_type": "code",
   "execution_count": 69,
   "id": "32c7c69f-e8f6-48a5-8880-c7a51955b805",
   "metadata": {},
   "outputs": [],
   "source": [
    "selected_features = ['area_total','area_kitchen','floor','bathrooms_private',\n",
    "            'r','district','constructed','stories','rel_height','parking','building_id']\n",
    "X_train_selected = X_train[selected_features]"
   ]
  },
  {
   "cell_type": "markdown",
   "id": "68e13626-9d8f-4e6a-bb51-6ce8d4454330",
   "metadata": {},
   "source": [
    "## LGBM1"
   ]
  },
  {
   "cell_type": "code",
   "execution_count": 70,
   "id": "c03c6b6f-75c5-4b35-a88c-9ddbbb1a71f4",
   "metadata": {},
   "outputs": [],
   "source": [
    "%%capture --no-display\n",
    "\n",
    "number_splits = 5\n",
    "\n",
    "scores, average_score, best_model, best_index = lgbm_groupKFold(\n",
    "    number_of_splits=number_splits,\n",
    "    model=lgbm1,\n",
    "    X_train=X_train_selected, \n",
    "    y_train=y_train_log,\n",
    ")"
   ]
  },
  {
   "cell_type": "code",
   "execution_count": 71,
   "id": "9cc1267b-cdc1-406d-a702-173e21cbbc37",
   "metadata": {},
   "outputs": [
    {
     "name": "stdout",
     "output_type": "stream",
     "text": [
      "scores:         [0.23118292412679553, 0.23263064167534026, 0.20547779947511238, 0.2312861287649293, 0.25151078165405255]\n",
      "average score:  0.230417655139246\n",
      "best model:     LGBMRegressor(colsample_bytree=0.95, learning_rate=0.05, max_depth=5,\n",
      "              metric='mse', n_jobs=4, num_iterations=2000, num_leaves=10,\n",
      "              random_state=42, subsample=0.9)\n",
      "best index:     2\n"
     ]
    }
   ],
   "source": [
    "print(\"scores:        \", scores)\n",
    "print(\"average score: \", average_score)\n",
    "print(\"best model:    \", best_model)\n",
    "print(\"best index:    \", best_index)"
   ]
  },
  {
   "cell_type": "code",
   "execution_count": 72,
   "id": "77db6f7d-0f99-4284-aa96-45f0091054b2",
   "metadata": {},
   "outputs": [],
   "source": [
    "# predict_and_store(best_model, test_labels[selected_features], test_labels, path=\".\\submissions\\LGBM3.0.csv\", exponential=True)"
   ]
  },
  {
   "cell_type": "markdown",
   "id": "90f5ec27-e2be-403a-abb5-5e8164b57b1e",
   "metadata": {},
   "source": [
    "## LGBM2 "
   ]
  },
  {
   "cell_type": "code",
   "execution_count": 73,
   "id": "a1705199-5375-4db4-b385-0b059bc7cd93",
   "metadata": {},
   "outputs": [],
   "source": [
    "%%capture --no-display\n",
    "\n",
    "number_splits = 5\n",
    "\n",
    "scores, average_score, best_model, best_index = lgbm_groupKFold(\n",
    "    number_of_splits=number_splits,\n",
    "    model=lgbm2,\n",
    "    X_train=X_train_selected, \n",
    "    y_train=y_train_log)"
   ]
  },
  {
   "cell_type": "code",
   "execution_count": 74,
   "id": "48640e7b-33d7-42e2-b18e-13fca53b7962",
   "metadata": {},
   "outputs": [
    {
     "name": "stdout",
     "output_type": "stream",
     "text": [
      "scores:         [0.22640759671874694, 0.23259010459041174, 0.21018417726199096, 0.23148867266928222, 0.24413585259687426]\n",
      "average score:  0.2289612807674612\n",
      "best model:     LGBMRegressor(early_stopping_rounds=10, num_iterations=10000, random_state=33)\n",
      "best index:     2\n"
     ]
    }
   ],
   "source": [
    "print(\"scores:        \", scores)\n",
    "print(\"average score: \", average_score)\n",
    "print(\"best model:    \", best_model)\n",
    "print(\"best index:    \", best_index)"
   ]
  },
  {
   "cell_type": "markdown",
   "id": "219172c6-3114-4298-9b30-cf4682ac764f",
   "metadata": {},
   "source": [
    "## LGBM3"
   ]
  },
  {
   "cell_type": "code",
   "execution_count": 75,
   "id": "89730547-785a-46a6-bdc9-b467992066f0",
   "metadata": {},
   "outputs": [],
   "source": [
    "%%capture --no-display\n",
    "\n",
    "number_splits = 5\n",
    "\n",
    "scores, average_score, best_model, best_index = lgbm_groupKFold(\n",
    "    number_of_splits=number_splits,\n",
    "    model=lgbm3,\n",
    "    X_train=X_train_selected, \n",
    "    y_train=y_train_log)"
   ]
  },
  {
   "cell_type": "code",
   "execution_count": 76,
   "id": "8818b984-d762-4529-918b-36bb9e8cdfd0",
   "metadata": {},
   "outputs": [
    {
     "name": "stdout",
     "output_type": "stream",
     "text": [
      "scores:         [0.2292257013193565, 0.22792769163594595, 0.2076961273873549, 0.22706377876549386, 0.2419961271235586]\n",
      "average score:  0.22678188524634196\n",
      "best model:     LGBMRegressor(bagging_fraction=0.9, bagging_freq=5, early_stopping_round=20,\n",
      "              feature_fraction=0.8, learning_rate=0.05, max_depth=10,\n",
      "              metric='regression', num_iterations=10000, num_leaves=40,\n",
      "              num_threads=4, random_state=42)\n",
      "best index:     2\n"
     ]
    }
   ],
   "source": [
    "print(\"scores:        \", scores)\n",
    "print(\"average score: \", average_score)\n",
    "print(\"best model:    \", best_model)\n",
    "print(\"best index:    \", best_index)"
   ]
  },
  {
   "cell_type": "markdown",
   "id": "b99d9b0d-dd26-4d7e-811f-e33e745f1e71",
   "metadata": {},
   "source": [
    "# Scikit-learn random grid search with cross validation"
   ]
  },
  {
   "cell_type": "code",
   "execution_count": 3,
   "id": "4b90d0fb-945b-4083-9be0-3b2f62a6a708",
   "metadata": {},
   "outputs": [],
   "source": [
    "from sklearn.model_selection import RandomizedSearchCV\n",
    "from scipy.stats import uniform\n",
    "\n",
    "lgbm4 = lgbm.LGBMRegressor(\n",
    "    random_state=42, \n",
    "    silent=True, \n",
    "    metric='regression',\n",
    "    num_threads=4, \n",
    ")\n",
    "\n",
    "\n",
    "\n",
    "learning_rate=0.05,\n",
    "\n",
    "\n",
    "distributions = dict(num_iterations = np.logspace(2,5,10).astype(int),\n",
    "                     num_leaves = np.linspace(10,50,21).astype(int),\n",
    "                     max_depth = np.linspace(5,19,8).astype(int),\n",
    "                     feature_fraction = np.arange(0.7,0.999,0.05),\n",
    "                     bagging_fraction = np.arange(0.7,0.999,0.05),\n",
    "                     bagging_freq = np.arange(1,11,1),\n",
    "                     learning_rate = np.geomspace(0.001,0.1,10))\n",
    "\n",
    "clf = RandomizedSearchCV(lgbm4, distributions, random_state=42, scoring=custom_asymmetric_eval)\n",
    "\n",
    "groups = X_train[\"building_id\"]\n",
    "\n",
    "search = clf.fit(  \n",
    "    X=X_train_selected, \n",
    "    y=y_train_log, \n",
    "    groups=groups)\n",
    "\n",
    "search.best_params_"
   ]
  },
  {
   "cell_type": "code",
   "execution_count": 78,
   "id": "ecfc10d2-d396-42c8-8ed0-0657f7398aa1",
   "metadata": {},
   "outputs": [
    {
     "data": {
      "text/plain": [
       "LGBMRegressor(bagging_fraction=0.75, bagging_freq=7,\n",
       "              feature_fraction=0.9000000000000001,\n",
       "              learning_rate=0.03593813663804626, max_depth=13,\n",
       "              metric='regression', num_iterations=10000, num_leaves=44,\n",
       "              num_threads=4, random_state=42)"
      ]
     },
     "execution_count": 78,
     "metadata": {},
     "output_type": "execute_result"
    }
   ],
   "source": [
    "search.best_estimator_"
   ]
  },
  {
   "cell_type": "code",
   "execution_count": null,
   "id": "b90b1b11-1f0c-4ec7-a29a-46a2db22e01a",
   "metadata": {},
   "outputs": [],
   "source": []
  },
  {
   "cell_type": "code",
   "execution_count": null,
   "id": "c9d61b6c-dea6-41f7-836b-bc9ef5514e27",
   "metadata": {},
   "outputs": [],
   "source": []
  },
  {
   "cell_type": "code",
   "execution_count": 79,
   "id": "c21fdc15-91cc-4a32-8738-015b21693330",
   "metadata": {},
   "outputs": [],
   "source": [
    "lgbm5 = lgbm.LGBMRegressor(\n",
    "  bagging_fraction=0.75, bagging_freq=7,\n",
    "  feature_fraction=0.9000000000000001,\n",
    "  learning_rate=0.03593813663804626, max_depth=13,\n",
    "  metric='regression', num_iterations=10000, num_leaves=44,\n",
    "  num_threads=4, random_state=42\n",
    ")"
   ]
  },
  {
   "cell_type": "code",
   "execution_count": 80,
   "id": "bac4364d-7d6b-4f59-88e2-453899565cd9",
   "metadata": {},
   "outputs": [],
   "source": [
    "%%capture --no-display\n",
    "\n",
    "number_splits = 5\n",
    "\n",
    "scores, average_score, best_model, best_index = lgbm_groupKFold(\n",
    "    number_of_splits=number_splits,\n",
    "    model=lgbm5,\n",
    "    X_train=X_train_selected, \n",
    "    y_train=y_train_log)"
   ]
  },
  {
   "cell_type": "code",
   "execution_count": 81,
   "id": "4115d357-7821-4986-b2bf-a27d190e3a47",
   "metadata": {
    "tags": []
   },
   "outputs": [
    {
     "name": "stdout",
     "output_type": "stream",
     "text": [
      "scores:         [0.23014950375934523, 0.23284639473020902, 0.20518920634947269, 0.23264523255916678, 0.24686212028764995]\n",
      "average score:  0.2295384915371687\n",
      "best model:     LGBMRegressor(bagging_fraction=0.75, bagging_freq=7,\n",
      "              feature_fraction=0.9000000000000001,\n",
      "              learning_rate=0.03593813663804626, max_depth=13,\n",
      "              metric='regression', num_iterations=10000, num_leaves=44,\n",
      "              num_threads=4, random_state=42)\n",
      "best index:     2\n"
     ]
    }
   ],
   "source": [
    "print(\"scores:        \", scores)\n",
    "print(\"average score: \", average_score)\n",
    "print(\"best model:    \", best_model)\n",
    "print(\"best index:    \", best_index)"
   ]
  },
  {
   "cell_type": "code",
   "execution_count": null,
   "id": "fbaa7a86-50e3-479c-84ad-028611cccee0",
   "metadata": {},
   "outputs": [],
   "source": []
  },
  {
   "cell_type": "code",
   "execution_count": 82,
   "id": "e51d81b5-f134-409b-bb46-43bb73233663",
   "metadata": {},
   "outputs": [],
   "source": [
    "lgbm6 = lgbm.LGBMRegressor(\n",
    "  bagging_fraction=0.75, bagging_freq=7,\n",
    "  feature_fraction=0.9000000000000001,\n",
    "  learning_rate=0.03593813663804626, max_depth=13,\n",
    "  metric='regression', num_iterations=10000, num_leaves=44,\n",
    "  num_threads=4, random_state=42, early_stopping_rounds=10\n",
    ")"
   ]
  },
  {
   "cell_type": "code",
   "execution_count": 83,
   "id": "b01e3ad2-c61b-48a3-adb0-4c417649d864",
   "metadata": {},
   "outputs": [],
   "source": [
    "%%capture --no-display\n",
    "\n",
    "number_splits = 5\n",
    "\n",
    "scores, average_score, best_model, best_index = lgbm_groupKFold(\n",
    "    number_of_splits=number_splits,\n",
    "    model=lgbm6,\n",
    "    X_train=X_train_selected, \n",
    "    y_train=y_train_log)"
   ]
  },
  {
   "cell_type": "code",
   "execution_count": 84,
   "id": "c8f92b8e-bee9-4003-b8bc-a730c271fa51",
   "metadata": {},
   "outputs": [
    {
     "name": "stdout",
     "output_type": "stream",
     "text": [
      "scores:         [0.2299538499967988, 0.23343199481553234, 0.20729615982822808, 0.22900294778472285, 0.24999434796687037]\n",
      "average score:  0.22993586007843048\n",
      "best model:     LGBMRegressor(bagging_fraction=0.75, bagging_freq=7, early_stopping_rounds=10,\n",
      "              feature_fraction=0.9000000000000001,\n",
      "              learning_rate=0.03593813663804626, max_depth=13,\n",
      "              metric='regression', num_iterations=10000, num_leaves=44,\n",
      "              num_threads=4, random_state=42)\n",
      "best index:     2\n"
     ]
    }
   ],
   "source": [
    "print(\"scores:        \", scores)\n",
    "print(\"average score: \", average_score)\n",
    "print(\"best model:    \", best_model)\n",
    "print(\"best index:    \", best_index)"
   ]
  },
  {
   "cell_type": "code",
   "execution_count": null,
   "id": "70b7ea25-653e-42b6-806b-3bb12b8f4552",
   "metadata": {},
   "outputs": [],
   "source": []
  },
  {
   "cell_type": "code",
   "execution_count": 85,
   "id": "902417ce-40db-4f20-8397-4b06360809c0",
   "metadata": {},
   "outputs": [],
   "source": [
    "%%capture --no-display\n",
    "\n",
    "lgbm7 = lgbm.LGBMRegressor(\n",
    "    random_state=42, \n",
    "    silent=True, \n",
    "    metric='regression',\n",
    "    num_threads=4, \n",
    ")\n",
    "\n",
    "\n",
    "\n",
    "\n",
    "\n",
    "distributions = dict(num_iterations = np.logspace(2,5,10).astype(int),\n",
    "                     num_leaves = np.linspace(10,50,21).astype(int),\n",
    "                     max_depth = np.linspace(5,19,8).astype(int),\n",
    "                     feature_fraction = np.arange(0.7,0.999,0.05),\n",
    "                     bagging_fraction = np.arange(0.7,0.999,0.05),\n",
    "                     bagging_freq = np.arange(1,11,1),\n",
    "                     learning_rate = np.geomspace(0.001,0.1,10))\n",
    "\n",
    "scorer = make_scorer(custom_asymmetric_eval, greater_is_better=False)\n",
    "clf = RandomizedSearchCV(lgbm7, distributions, random_state=42, scoring='neg_root_mean_squared_error')\n",
    "\n",
    "groups = X_train[\"building_id\"]\n",
    "\n",
    "search = clf.fit(  \n",
    "    X=X_train_selected, \n",
    "    y=y_train_log, \n",
    "    groups=groups,\n",
    "    eval_metric='neg_root_mean_squared_error')\n",
    "\n",
    "print(search.best_params_)\n",
    "print(search.best_estimator_)"
   ]
  },
  {
   "cell_type": "code",
   "execution_count": 86,
   "id": "dddace52-8bfd-40b7-adb8-bb44422494b2",
   "metadata": {},
   "outputs": [],
   "source": [
    "%%capture --no-display\n",
    "\n",
    "number_splits = 5\n",
    "\n",
    "scores, average_score, best_model, best_index = lgbm_groupKFold(\n",
    "    number_of_splits=number_splits,\n",
    "    model=search.best_estimator_,\n",
    "    X_train=X_train_selected, \n",
    "    y_train=y_train_log)"
   ]
  },
  {
   "cell_type": "code",
   "execution_count": 87,
   "id": "ee4a753e-34cb-4e23-ba07-12cd641e9a4c",
   "metadata": {},
   "outputs": [
    {
     "name": "stdout",
     "output_type": "stream",
     "text": [
      "scores:         [0.22759056074892725, 0.22147621178237537, 0.2045195675868623, 0.2272348246808108, 0.24952146691042046]\n",
      "average score:  0.22606852634187927\n",
      "best model:     LGBMRegressor(bagging_fraction=0.9000000000000001, bagging_freq=1,\n",
      "              feature_fraction=0.7, learning_rate=0.03593813663804626,\n",
      "              max_depth=15, metric='regression', num_iterations=1000,\n",
      "              num_leaves=38, num_threads=4, random_state=42)\n",
      "best index:     2\n"
     ]
    }
   ],
   "source": [
    "print(\"scores:        \", scores)\n",
    "print(\"average score: \", average_score)\n",
    "print(\"best model:    \", best_model)\n",
    "print(\"best index:    \", best_index)"
   ]
  },
  {
   "cell_type": "code",
   "execution_count": null,
   "id": "91cae0b3-bee3-432c-b07b-ed4d68ef4fc4",
   "metadata": {},
   "outputs": [],
   "source": []
  },
  {
   "cell_type": "code",
   "execution_count": null,
   "id": "995c9885-30be-4163-9df4-26676d589338",
   "metadata": {},
   "outputs": [],
   "source": []
  },
  {
   "cell_type": "markdown",
   "id": "ba74fb75-ce6e-4e22-9e58-6afa0521203a",
   "metadata": {},
   "source": [
    "# Manual tuning"
   ]
  },
  {
   "cell_type": "code",
   "execution_count": 88,
   "id": "deed2193-f6d6-4fe2-949d-a0fecda41fe3",
   "metadata": {},
   "outputs": [],
   "source": [
    "num_iterations = np.logspace(2,5,10).astype(int)\n",
    "num_leaves = np.linspace(10,50,21).astype(int)\n",
    "max_depth = np.linspace(5,19,8).astype(int)\n",
    "feature_fraction = np.arange(0.7,0.999,0.05)\n",
    "bagging_fraction = np.arange(0.7,0.999,0.05)\n",
    "bagging_freq = np.arange(1,11,1)\n",
    "learning_rate = np.geomspace(0.001,0.1,10)\n",
    "\n",
    "number_splits = 5"
   ]
  },
  {
   "cell_type": "code",
   "execution_count": 89,
   "id": "d0ea6892-4975-4635-a197-d4aae1a132b6",
   "metadata": {},
   "outputs": [],
   "source": [
    "lgbm8 = lgbm.LGBMRegressor(\n",
    "    random_state=random_state, \n",
    "    silent=True, \n",
    "    metric='regression',\n",
    "    num_threads=4, \n",
    ")"
   ]
  },
  {
   "cell_type": "code",
   "execution_count": 90,
   "id": "0728e265-44e0-4e41-b0e7-595502d4407a",
   "metadata": {},
   "outputs": [],
   "source": [
    "# best_average_score = 1\n",
    "# for n_it in num_iterations:\n",
    "#     print(\"level 0\")\n",
    "#     for n_leaves in num_leaves:\n",
    "#         print(\"level 1\")\n",
    "#         for max_d in max_depth:\n",
    "#             for feat_frac in feature_fraction:\n",
    "#                 for bag_frac in bagging_fraction:\n",
    "#                     for bag_freq in bagging_freq:\n",
    "#                         for l_rate in learning_rate:\n",
    "#                             model = lgbm.LGBMRegressor(\n",
    "#                                         num_iterations = n_it,\n",
    "#                                         num_leaves = n_leaves,\n",
    "#                                         max_depth = max_d,\n",
    "#                                         feature_fraction = feat_frac,\n",
    "#                                         bagging_fraction = bag_frac,\n",
    "#                                         bagging_freq = bag_freq,\n",
    "#                                         learning_rate = l_rate,\n",
    "#                                         random_state=random_state, \n",
    "#                                         silent=True, \n",
    "#                                         metric='regression',\n",
    "#                                         num_threads=4, \n",
    "#                                     )\n",
    "                            \n",
    "                                          \n",
    "#                             scores, average_score, _, _ = lgbm_groupKFold(\n",
    "#                                 number_of_splits=number_splits,\n",
    "#                                 model=model,\n",
    "#                                 X_train=X_train, \n",
    "#                                 y_train=y_train_log,\n",
    "#                                 eval_metric = 'neg_root_mean_squared_error'\n",
    "#                             )\n",
    "                            \n",
    "#                             if average_score < best_average_score:\n",
    "#                                 best_average_score = average_score\n",
    "#                                 best_params = dict(\n",
    "#                                         num_iterations = n_it,\n",
    "#                                         num_leaves = n_leaves,\n",
    "#                                         max_depth = max_d,\n",
    "#                                         feature_fraction = feat_frac,\n",
    "#                                         bagging_fraction = bag_frac,\n",
    "#                                         bagging_freq = bag_freq,\n",
    "#                                         learning_rate = l_rate,\n",
    "#                                 )\n",
    "#                                 print(\">>>>>>>>>>>>>>>>>>>>>>>>>>>>>>>>>>>>>>>>>>>>>>>><<<<<<<<<<<<<<<<<<<<<<<<<<<<<<<<<<<<\")\n",
    "#                                 print(average_score)\n",
    "#                                 print(best_params)"
   ]
  },
  {
   "cell_type": "markdown",
   "id": "8fb5af14-a21e-49d8-bc2e-c8c6812632cc",
   "metadata": {},
   "source": [
    "Promising: https://towardsdatascience.com/kagglers-guide-to-lightgbm-hyperparameter-tuning-with-optuna-in-2021-ed048d9838b5"
   ]
  },
  {
   "cell_type": "code",
   "execution_count": null,
   "id": "81404d9b-da12-4831-a3d3-76328c1fcd90",
   "metadata": {},
   "outputs": [],
   "source": []
  },
  {
   "cell_type": "code",
   "execution_count": null,
   "id": "c46bb07c-8b54-41a3-bd0c-0f51aea620dc",
   "metadata": {},
   "outputs": [],
   "source": []
  },
  {
   "cell_type": "code",
   "execution_count": null,
   "id": "f89372c9-6c57-4cbe-8720-7ebc47bafd35",
   "metadata": {},
   "outputs": [],
   "source": []
  },
  {
   "cell_type": "code",
   "execution_count": null,
   "id": "ee8a04b5-41f8-49cd-a58a-925da2ba9148",
   "metadata": {},
   "outputs": [],
   "source": []
  },
  {
   "cell_type": "markdown",
   "id": "971c0fa1-f8a7-44e3-9a09-c6b873a06636",
   "metadata": {},
   "source": [
    "# Optuna Result"
   ]
  },
  {
   "cell_type": "code",
   "execution_count": 91,
   "id": "49a4ce94-6116-4d00-a016-12c2eebe4a3d",
   "metadata": {},
   "outputs": [],
   "source": [
    "params= {\n",
    " 'num_iterations': 10000,\n",
    " 'n_estimators': 152,\n",
    " 'learning_rate': 0.05,\n",
    " 'num_leaves': 40,\n",
    " 'max_depth': 10,\n",
    " 'min_data_in_leaf': 20,\n",
    " 'bagging_fraction': 0.9,\n",
    " 'bagging_freq': 5,\n",
    " 'feature_fraction': 0.8,\n",
    "}"
   ]
  },
  {
   "cell_type": "code",
   "execution_count": 92,
   "id": "4c6da4c2-bb07-4806-9b8b-8711d6387bef",
   "metadata": {},
   "outputs": [],
   "source": [
    "model = lgbm.LGBMRegressor(**params, random_state=random_state,early_stopping_round=100,silent=True,metric='regression',num_threads=4)"
   ]
  },
  {
   "cell_type": "code",
   "execution_count": 93,
   "id": "31ed3076-087d-451e-bb0d-8c5264e14c46",
   "metadata": {},
   "outputs": [],
   "source": [
    "%%capture --no-display\n",
    "\n",
    "number_splits = 5\n",
    "\n",
    "scores, average_score, best_model, best_index = lgbm_groupKFold(\n",
    "    number_of_splits=number_splits,\n",
    "    model=model,\n",
    "    X_train=X_train, \n",
    "    y_train=y_train_log)"
   ]
  },
  {
   "cell_type": "code",
   "execution_count": 94,
   "id": "6c3f11ae-610c-4f39-a640-a1a57c8b1d43",
   "metadata": {},
   "outputs": [
    {
     "name": "stdout",
     "output_type": "stream",
     "text": [
      "scores:         [0.20465011437743388, 0.1977448937517322, 0.16734444016195668, 0.19721009339813358, 0.23082700368348158]\n",
      "average score:  0.19955530907454758\n",
      "best model:     LGBMRegressor(bagging_fraction=0.9, bagging_freq=5, early_stopping_round=100,\n",
      "              feature_fraction=0.8, learning_rate=0.05, max_depth=10,\n",
      "              metric='regression', min_data_in_leaf=20, n_estimators=152,\n",
      "              num_iterations=10000, num_leaves=40, num_threads=4,\n",
      "              random_state=1)\n",
      "best index:     2\n"
     ]
    }
   ],
   "source": [
    "print(\"scores:        \", scores)\n",
    "print(\"average score: \", average_score)\n",
    "print(\"best model:    \", best_model)\n",
    "print(\"best index:    \", best_index)"
   ]
  },
  {
   "cell_type": "code",
   "execution_count": 95,
   "id": "b6d12090-466f-47ce-a716-bc07f7299ea0",
   "metadata": {},
   "outputs": [],
   "source": [
    "predict_and_store(best_model, test_labels, test_labels, path=\".\\submissions\\LGBM4.0.csv\", exponential=True)"
   ]
  },
  {
   "cell_type": "code",
   "execution_count": 96,
   "id": "4ae62cbd-27c7-4c61-9993-71806206ae9b",
   "metadata": {},
   "outputs": [],
   "source": [
    "model_no_early_stopping = lgbm.LGBMRegressor(**params, random_state=random_state,silent=True,metric='regression',num_threads=4)"
   ]
  },
  {
   "cell_type": "code",
   "execution_count": 97,
   "id": "c7c2ba89-52a5-4fb0-b954-17cb43acc292",
   "metadata": {},
   "outputs": [
    {
     "name": "stdout",
     "output_type": "stream",
     "text": [
      "[LightGBM] [Warning] feature_fraction is set=0.8, colsample_bytree=1.0 will be ignored. Current value: feature_fraction=0.8\n",
      "[LightGBM] [Warning] min_data_in_leaf is set=20, min_child_samples=20 will be ignored. Current value: min_data_in_leaf=20\n",
      "[LightGBM] [Warning] bagging_fraction is set=0.9, subsample=1.0 will be ignored. Current value: bagging_fraction=0.9\n",
      "[LightGBM] [Warning] num_threads is set=4, n_jobs=-1 will be ignored. Current value: num_threads=4\n",
      "[LightGBM] [Warning] bagging_freq is set=5, subsample_freq=0 will be ignored. Current value: bagging_freq=5\n"
     ]
    },
    {
     "data": {
      "text/plain": [
       "LGBMRegressor(bagging_fraction=0.9, bagging_freq=5, feature_fraction=0.8,\n",
       "              learning_rate=0.05, max_depth=10, metric='regression',\n",
       "              min_data_in_leaf=20, n_estimators=152, num_iterations=10000,\n",
       "              num_leaves=40, num_threads=4, random_state=1)"
      ]
     },
     "execution_count": 97,
     "metadata": {},
     "output_type": "execute_result"
    }
   ],
   "source": [
    "model_no_early_stopping.fit(X_train,y_train_log)"
   ]
  },
  {
   "cell_type": "code",
   "execution_count": 98,
   "id": "edd2a618-969c-4353-98d1-8f59e01c398d",
   "metadata": {},
   "outputs": [],
   "source": [
    "predict_and_store(model_no_early_stopping, test_labels, test_labels, path=\".\\submissions\\LGBM4.1.csv\", exponential=True)"
   ]
  },
  {
   "cell_type": "markdown",
   "id": "855934ec-13e9-4c77-b24b-b2bfa03b7c95",
   "metadata": {},
   "source": [
    "# Oof vs actual price in training data"
   ]
  },
  {
   "cell_type": "code",
   "execution_count": 99,
   "id": "d86720b7-8226-498c-bc02-1e8fef8a4b89",
   "metadata": {},
   "outputs": [
    {
     "name": "stderr",
     "output_type": "stream",
     "text": [
      "C:\\ProgramData\\Anaconda3\\lib\\site-packages\\lightgbm\\engine.py:148: UserWarning: Found `num_iterations` in params. Will use it instead of argument\n",
      "  _log_warning(\"Found `{}` in params. Will use it instead of argument\".format(alias))\n",
      "C:\\ProgramData\\Anaconda3\\lib\\site-packages\\lightgbm\\engine.py:153: UserWarning: Found `early_stopping_round` in params. Will use it instead of argument\n",
      "  _log_warning(\"Found `{}` in params. Will use it instead of argument\".format(alias))\n"
     ]
    },
    {
     "name": "stdout",
     "output_type": "stream",
     "text": [
      "[LightGBM] [Warning] feature_fraction is set=0.8, colsample_bytree=1.0 will be ignored. Current value: feature_fraction=0.8\n",
      "[LightGBM] [Warning] min_data_in_leaf is set=20, min_child_samples=20 will be ignored. Current value: min_data_in_leaf=20\n",
      "[LightGBM] [Warning] bagging_fraction is set=0.9, subsample=1.0 will be ignored. Current value: bagging_fraction=0.9\n",
      "[LightGBM] [Warning] num_threads is set=4, n_jobs=-1 will be ignored. Current value: num_threads=4\n",
      "[LightGBM] [Warning] bagging_freq is set=5, subsample_freq=0 will be ignored. Current value: bagging_freq=5\n",
      "Training until validation scores don't improve for 15 rounds\n",
      "Early stopping, best iteration is:\n",
      "[264]\tvalid_0's l2: 0.0422055\n",
      "[LightGBM] [Warning] feature_fraction is set=0.8, colsample_bytree=1.0 will be ignored. Current value: feature_fraction=0.8\n",
      "[LightGBM] [Warning] min_data_in_leaf is set=20, min_child_samples=20 will be ignored. Current value: min_data_in_leaf=20\n",
      "[LightGBM] [Warning] bagging_fraction is set=0.9, subsample=1.0 will be ignored. Current value: bagging_fraction=0.9\n",
      "[LightGBM] [Warning] num_threads is set=4, n_jobs=-1 will be ignored. Current value: num_threads=4\n",
      "[LightGBM] [Warning] bagging_freq is set=5, subsample_freq=0 will be ignored. Current value: bagging_freq=5\n",
      "Training until validation scores don't improve for 15 rounds\n",
      "Early stopping, best iteration is:\n",
      "[241]\tvalid_0's l2: 0.0411832\n",
      "[LightGBM] [Warning] feature_fraction is set=0.8, colsample_bytree=1.0 will be ignored. Current value: feature_fraction=0.8\n",
      "[LightGBM] [Warning] min_data_in_leaf is set=20, min_child_samples=20 will be ignored. Current value: min_data_in_leaf=20\n",
      "[LightGBM] [Warning] bagging_fraction is set=0.9, subsample=1.0 will be ignored. Current value: bagging_fraction=0.9\n",
      "[LightGBM] [Warning] num_threads is set=4, n_jobs=-1 will be ignored. Current value: num_threads=4\n",
      "[LightGBM] [Warning] bagging_freq is set=5, subsample_freq=0 will be ignored. Current value: bagging_freq=5\n",
      "Training until validation scores don't improve for 15 rounds\n",
      "Early stopping, best iteration is:\n",
      "[310]\tvalid_0's l2: 0.0290933\n",
      "[LightGBM] [Warning] feature_fraction is set=0.8, colsample_bytree=1.0 will be ignored. Current value: feature_fraction=0.8\n",
      "[LightGBM] [Warning] min_data_in_leaf is set=20, min_child_samples=20 will be ignored. Current value: min_data_in_leaf=20\n",
      "[LightGBM] [Warning] bagging_fraction is set=0.9, subsample=1.0 will be ignored. Current value: bagging_fraction=0.9\n",
      "[LightGBM] [Warning] num_threads is set=4, n_jobs=-1 will be ignored. Current value: num_threads=4\n",
      "[LightGBM] [Warning] bagging_freq is set=5, subsample_freq=0 will be ignored. Current value: bagging_freq=5\n",
      "Training until validation scores don't improve for 15 rounds\n",
      "Early stopping, best iteration is:\n",
      "[357]\tvalid_0's l2: 0.0395062\n",
      "[LightGBM] [Warning] feature_fraction is set=0.8, colsample_bytree=1.0 will be ignored. Current value: feature_fraction=0.8\n",
      "[LightGBM] [Warning] min_data_in_leaf is set=20, min_child_samples=20 will be ignored. Current value: min_data_in_leaf=20\n",
      "[LightGBM] [Warning] bagging_fraction is set=0.9, subsample=1.0 will be ignored. Current value: bagging_fraction=0.9\n",
      "[LightGBM] [Warning] num_threads is set=4, n_jobs=-1 will be ignored. Current value: num_threads=4\n",
      "[LightGBM] [Warning] bagging_freq is set=5, subsample_freq=0 will be ignored. Current value: bagging_freq=5\n",
      "Training until validation scores don't improve for 15 rounds\n",
      "Early stopping, best iteration is:\n",
      "[250]\tvalid_0's l2: 0.0587301\n"
     ]
    }
   ],
   "source": [
    "oof_train, oof_test, scores = get_oof_lgbm(model, X_train, y_train_log, test_labels, NFOLDS=5, eval_metric='neg_root_mean_squared_error')"
   ]
  },
  {
   "cell_type": "code",
   "execution_count": 100,
   "id": "630a684d-5093-4260-9c36-049a17aa620d",
   "metadata": {},
   "outputs": [
    {
     "data": {
      "text/plain": [
       "Index(['apartment_id', 'seller', 'area_total', 'area_kitchen', 'area_living',\n",
       "       'floor', 'rooms', 'layout', 'ceiling', 'bathrooms_shared',\n",
       "       'bathrooms_private', 'windows_court', 'windows_street', 'balconies',\n",
       "       'loggias', 'condition', 'phones', 'building_id', 'new', 'latitude',\n",
       "       'longitude', 'district', 'street', 'address', 'constructed', 'material',\n",
       "       'stories', 'elevator_without', 'elevator_passenger', 'elevator_service',\n",
       "       'parking', 'garbage_chute', 'heating', 'r', 'theta', 'rel_height'],\n",
       "      dtype='object')"
      ]
     },
     "execution_count": 100,
     "metadata": {},
     "output_type": "execute_result"
    }
   ],
   "source": [
    "X_train.columns"
   ]
  },
  {
   "cell_type": "code",
   "execution_count": 101,
   "id": "31f3c858-f0af-4329-811c-d8c3de9659e6",
   "metadata": {},
   "outputs": [
    {
     "name": "stderr",
     "output_type": "stream",
     "text": [
      "<ipython-input-101-8f2e4d4bf5d6>:4: SettingWithCopyWarning: \n",
      "A value is trying to be set on a copy of a slice from a DataFrame.\n",
      "Try using .loc[row_indexer,col_indexer] = value instead\n",
      "\n",
      "See the caveats in the documentation: https://pandas.pydata.org/pandas-docs/stable/user_guide/indexing.html#returning-a-view-versus-a-copy\n",
      "  relevant['price']=np.log(y_train)\n"
     ]
    }
   ],
   "source": [
    "train, test, metadata = load_all_data()\n",
    "X_train['prediction'] = oof_train\n",
    "relevant = X_train[['apartment_id','prediction']]\n",
    "relevant['price']=np.log(y_train)"
   ]
  },
  {
   "cell_type": "code",
   "execution_count": 102,
   "id": "4c76c65b-deb4-4374-83f8-91242b90e58b",
   "metadata": {},
   "outputs": [
    {
     "data": {
      "text/html": [
       "<div>\n",
       "<style scoped>\n",
       "    .dataframe tbody tr th:only-of-type {\n",
       "        vertical-align: middle;\n",
       "    }\n",
       "\n",
       "    .dataframe tbody tr th {\n",
       "        vertical-align: top;\n",
       "    }\n",
       "\n",
       "    .dataframe thead th {\n",
       "        text-align: right;\n",
       "    }\n",
       "</style>\n",
       "<table border=\"1\" class=\"dataframe\">\n",
       "  <thead>\n",
       "    <tr style=\"text-align: right;\">\n",
       "      <th></th>\n",
       "      <th>apartment_id</th>\n",
       "      <th>prediction</th>\n",
       "      <th>price</th>\n",
       "    </tr>\n",
       "  </thead>\n",
       "  <tbody>\n",
       "    <tr>\n",
       "      <th>0</th>\n",
       "      <td>0</td>\n",
       "      <td>15.764034</td>\n",
       "      <td>15.781156</td>\n",
       "    </tr>\n",
       "    <tr>\n",
       "      <th>1</th>\n",
       "      <td>12</td>\n",
       "      <td>15.199493</td>\n",
       "      <td>15.213027</td>\n",
       "    </tr>\n",
       "    <tr>\n",
       "      <th>2</th>\n",
       "      <td>55</td>\n",
       "      <td>16.006021</td>\n",
       "      <td>16.066828</td>\n",
       "    </tr>\n",
       "    <tr>\n",
       "      <th>3</th>\n",
       "      <td>104</td>\n",
       "      <td>15.301301</td>\n",
       "      <td>15.280306</td>\n",
       "    </tr>\n",
       "    <tr>\n",
       "      <th>4</th>\n",
       "      <td>106</td>\n",
       "      <td>15.301301</td>\n",
       "      <td>15.281997</td>\n",
       "    </tr>\n",
       "    <tr>\n",
       "      <th>...</th>\n",
       "      <td>...</td>\n",
       "      <td>...</td>\n",
       "      <td>...</td>\n",
       "    </tr>\n",
       "    <tr>\n",
       "      <th>23280</th>\n",
       "      <td>23228</td>\n",
       "      <td>15.999328</td>\n",
       "      <td>16.341239</td>\n",
       "    </tr>\n",
       "    <tr>\n",
       "      <th>23281</th>\n",
       "      <td>23229</td>\n",
       "      <td>15.335171</td>\n",
       "      <td>15.473739</td>\n",
       "    </tr>\n",
       "    <tr>\n",
       "      <th>23282</th>\n",
       "      <td>23248</td>\n",
       "      <td>16.487494</td>\n",
       "      <td>16.418200</td>\n",
       "    </tr>\n",
       "    <tr>\n",
       "      <th>23283</th>\n",
       "      <td>23250</td>\n",
       "      <td>16.611554</td>\n",
       "      <td>16.754672</td>\n",
       "    </tr>\n",
       "    <tr>\n",
       "      <th>23284</th>\n",
       "      <td>23271</td>\n",
       "      <td>16.209374</td>\n",
       "      <td>16.203355</td>\n",
       "    </tr>\n",
       "  </tbody>\n",
       "</table>\n",
       "<p>23224 rows × 3 columns</p>\n",
       "</div>"
      ],
      "text/plain": [
       "       apartment_id  prediction      price\n",
       "0                 0   15.764034  15.781156\n",
       "1                12   15.199493  15.213027\n",
       "2                55   16.006021  16.066828\n",
       "3               104   15.301301  15.280306\n",
       "4               106   15.301301  15.281997\n",
       "...             ...         ...        ...\n",
       "23280         23228   15.999328  16.341239\n",
       "23281         23229   15.335171  15.473739\n",
       "23282         23248   16.487494  16.418200\n",
       "23283         23250   16.611554  16.754672\n",
       "23284         23271   16.209374  16.203355\n",
       "\n",
       "[23224 rows x 3 columns]"
      ]
     },
     "execution_count": 102,
     "metadata": {},
     "output_type": "execute_result"
    }
   ],
   "source": [
    "relevant"
   ]
  },
  {
   "cell_type": "code",
   "execution_count": 103,
   "id": "bce78b46-40c0-463e-9c57-842aed29fb93",
   "metadata": {},
   "outputs": [],
   "source": [
    "relevant_sorted = relevant.sort_values(by=['price'],ignore_index=True)"
   ]
  },
  {
   "cell_type": "code",
   "execution_count": 104,
   "id": "e5877884-82b8-49ab-acaf-f555ffb28431",
   "metadata": {},
   "outputs": [],
   "source": [
    "relevant_sorted['x_axis']=list(relevant_sorted.index)"
   ]
  },
  {
   "cell_type": "code",
   "execution_count": 105,
   "id": "57543a37-d6c3-490a-9631-a543f7be6693",
   "metadata": {},
   "outputs": [
    {
     "data": {
      "text/html": [
       "<div>\n",
       "<style scoped>\n",
       "    .dataframe tbody tr th:only-of-type {\n",
       "        vertical-align: middle;\n",
       "    }\n",
       "\n",
       "    .dataframe tbody tr th {\n",
       "        vertical-align: top;\n",
       "    }\n",
       "\n",
       "    .dataframe thead th {\n",
       "        text-align: right;\n",
       "    }\n",
       "</style>\n",
       "<table border=\"1\" class=\"dataframe\">\n",
       "  <thead>\n",
       "    <tr style=\"text-align: right;\">\n",
       "      <th></th>\n",
       "      <th>apartment_id</th>\n",
       "      <th>prediction</th>\n",
       "      <th>price</th>\n",
       "      <th>x_axis</th>\n",
       "    </tr>\n",
       "  </thead>\n",
       "  <tbody>\n",
       "    <tr>\n",
       "      <th>0</th>\n",
       "      <td>13205</td>\n",
       "      <td>14.468298</td>\n",
       "      <td>13.710150</td>\n",
       "      <td>0</td>\n",
       "    </tr>\n",
       "    <tr>\n",
       "      <th>1</th>\n",
       "      <td>7572</td>\n",
       "      <td>15.070069</td>\n",
       "      <td>13.815511</td>\n",
       "      <td>1</td>\n",
       "    </tr>\n",
       "    <tr>\n",
       "      <th>2</th>\n",
       "      <td>13206</td>\n",
       "      <td>14.938502</td>\n",
       "      <td>13.955273</td>\n",
       "      <td>2</td>\n",
       "    </tr>\n",
       "    <tr>\n",
       "      <th>3</th>\n",
       "      <td>20329</td>\n",
       "      <td>15.057846</td>\n",
       "      <td>13.997832</td>\n",
       "      <td>3</td>\n",
       "    </tr>\n",
       "    <tr>\n",
       "      <th>4</th>\n",
       "      <td>21102</td>\n",
       "      <td>15.126555</td>\n",
       "      <td>14.151983</td>\n",
       "      <td>4</td>\n",
       "    </tr>\n",
       "    <tr>\n",
       "      <th>...</th>\n",
       "      <td>...</td>\n",
       "      <td>...</td>\n",
       "      <td>...</td>\n",
       "      <td>...</td>\n",
       "    </tr>\n",
       "    <tr>\n",
       "      <th>23219</th>\n",
       "      <td>13963</td>\n",
       "      <td>18.949484</td>\n",
       "      <td>19.769936</td>\n",
       "      <td>23219</td>\n",
       "    </tr>\n",
       "    <tr>\n",
       "      <th>23220</th>\n",
       "      <td>2467</td>\n",
       "      <td>18.896513</td>\n",
       "      <td>19.769936</td>\n",
       "      <td>23220</td>\n",
       "    </tr>\n",
       "    <tr>\n",
       "      <th>23221</th>\n",
       "      <td>10279</td>\n",
       "      <td>19.428128</td>\n",
       "      <td>19.776598</td>\n",
       "      <td>23221</td>\n",
       "    </tr>\n",
       "    <tr>\n",
       "      <th>23222</th>\n",
       "      <td>3551</td>\n",
       "      <td>18.755040</td>\n",
       "      <td>19.781657</td>\n",
       "      <td>23222</td>\n",
       "    </tr>\n",
       "    <tr>\n",
       "      <th>23223</th>\n",
       "      <td>2992</td>\n",
       "      <td>19.238191</td>\n",
       "      <td>19.781657</td>\n",
       "      <td>23223</td>\n",
       "    </tr>\n",
       "  </tbody>\n",
       "</table>\n",
       "<p>23224 rows × 4 columns</p>\n",
       "</div>"
      ],
      "text/plain": [
       "       apartment_id  prediction      price  x_axis\n",
       "0             13205   14.468298  13.710150       0\n",
       "1              7572   15.070069  13.815511       1\n",
       "2             13206   14.938502  13.955273       2\n",
       "3             20329   15.057846  13.997832       3\n",
       "4             21102   15.126555  14.151983       4\n",
       "...             ...         ...        ...     ...\n",
       "23219         13963   18.949484  19.769936   23219\n",
       "23220          2467   18.896513  19.769936   23220\n",
       "23221         10279   19.428128  19.776598   23221\n",
       "23222          3551   18.755040  19.781657   23222\n",
       "23223          2992   19.238191  19.781657   23223\n",
       "\n",
       "[23224 rows x 4 columns]"
      ]
     },
     "execution_count": 105,
     "metadata": {},
     "output_type": "execute_result"
    }
   ],
   "source": [
    "relevant_sorted"
   ]
  },
  {
   "cell_type": "code",
   "execution_count": 106,
   "id": "9d08b8c3-cec0-47b1-9cc8-23917d5370d4",
   "metadata": {},
   "outputs": [
    {
     "name": "stderr",
     "output_type": "stream",
     "text": [
      "C:\\ProgramData\\Anaconda3\\lib\\site-packages\\seaborn\\categorical.py:3714: UserWarning: The `factorplot` function has been renamed to `catplot`. The original name will be removed in a future release. Please update your code. Note that the default `kind` in `factorplot` (`'point'`) has changed `'strip'` in `catplot`.\n",
      "  warnings.warn(msg)\n"
     ]
    },
    {
     "data": {
      "image/png": "[encoded data removed]",
      "text/plain": [
       "<Figure size 462.75x360 with 1 Axes>"
      ]
     },
     "metadata": {
      "needs_background": "light"
     },
     "output_type": "display_data"
    }
   ],
   "source": [
    "df = relevant_sorted.melt('x_axis', var_name='cols',  value_name='vals')\n",
    "g = sns.factorplot(x=\"x_axis\", y=\"vals\", hue='cols', data=df)"
   ]
  },
  {
   "cell_type": "code",
   "execution_count": null,
   "id": "971fb26e-a2fe-441a-93cf-462e4f4acbc1",
   "metadata": {},
   "outputs": [],
   "source": []
  },
  {
   "cell_type": "code",
   "execution_count": null,
   "id": "16f58a2b-8c1e-42a6-b88d-d142e9598d8c",
   "metadata": {},
   "outputs": [],
   "source": []
  },
  {
   "cell_type": "code",
   "execution_count": null,
   "id": "d5fa7aef-826e-43cc-b349-657dd7d7de4a",
   "metadata": {},
   "outputs": [],
   "source": []
  },
  {
   "cell_type": "code",
   "execution_count": null,
   "id": "e9c8529b-e4e9-43b6-87ee-8e45dae14e0f",
   "metadata": {},
   "outputs": [],
   "source": []
  },
  {
   "cell_type": "code",
   "execution_count": null,
   "id": "c49da175-7d21-4a77-adc8-f3ad53324088",
   "metadata": {},
   "outputs": [],
   "source": []
  },
  {
   "cell_type": "markdown",
   "id": "acc9b1c4-db2f-45ac-ad0b-c82a258335d7",
   "metadata": {},
   "source": [
    "# New features and data cleaning"
   ]
  },
  {
   "cell_type": "code",
   "execution_count": 8,
   "id": "48d18b57-e6ba-422a-83dc-03935af017b1",
   "metadata": {},
   "outputs": [],
   "source": [
    "params= {\n",
    " 'num_iterations': 10000,\n",
    " 'n_estimators': 152,\n",
    " 'learning_rate': 0.05,\n",
    " 'num_leaves': 40,\n",
    " 'max_depth': 10,\n",
    " 'min_data_in_leaf': 20,\n",
    " 'bagging_fraction': 0.9,\n",
    " 'bagging_freq': 5,\n",
    " 'feature_fraction': 0.8,\n",
    "}"
   ]
  },
  {
   "cell_type": "code",
   "execution_count": 121,
   "id": "b58b051c-114b-45d0-ac7d-8d377f02717a",
   "metadata": {},
   "outputs": [],
   "source": [
    "model = lgbm.LGBMRegressor(\n",
    "    **params, \n",
    "    random_state=random_state,\n",
    "    early_stopping_round=100,\n",
    "    silent=True,\n",
    "    metric='regression',\n",
    "    num_threads=4)"
   ]
  },
  {
   "cell_type": "code",
   "execution_count": 22,
   "id": "4e12179c-384b-4943-b73e-c25c7716ecd3",
   "metadata": {},
   "outputs": [],
   "source": [
    "model_no_cv = lgbm.LGBMRegressor(\n",
    "    **params, \n",
    "    random_state=random_state,\n",
    "    silent=True,\n",
    "    metric='regression',\n",
    "    num_threads=4)"
   ]
  },
  {
   "cell_type": "code",
   "execution_count": 8,
   "id": "72ae02e6-ad85-456c-ab2d-e39ed5287b99",
   "metadata": {},
   "outputs": [
    {
     "name": "stdout",
     "output_type": "stream",
     "text": [
      "minMax\n"
     ]
    }
   ],
   "source": [
    "# Define the features (this is all)\n",
    "features =           [\"building_id\", # For grouping\n",
    "                      \"area_total\", \"area_kitchen\", \"area_living\", \"floor\", \"ceiling\", \"stories\", \"rooms\",\n",
    "                      \"bathrooms_private\", \"bathrooms_shared\", \"balconies\",\"loggias\", \"phones\", \"latitude\", \"longitude\", \"constructed\", # Numerical\n",
    "                     \"layout\", \"condition\", \"district\", \"material\", \"parking\", \"heating\", \"seller\", #Categorical\n",
    "                      \"windows_court\", \"windows_street\", \"new\", \"elevator_without\", \"elevator_passenger\", \"elevator_service\", \"garbage_chute\"] # Bool\n",
    "                     #\"street\", \"address\"] # Strings\n",
    "\n",
    "all_numerical_features = [\"area_total\", \"area_kitchen\", \"area_living\", \"floor\",\n",
    "                      \"ceiling\", \"stories\", \"rooms\", \"bathrooms_private\", \"bathrooms_shared\", \"balconies\",\"loggias\", \"phones\", \"latitude\", \"longitude\", \"constructed\"]\n",
    "\n",
    "float_numerical_features = [\"area_total\", \"area_kitchen\", \"area_living\", \"ceiling\", \"latitude\", \"longitude\", \"constructed\"]\n",
    "int_numerical_features = [\"floor\", \"stories\", \"rooms\", \"bathrooms_private\", \"bathrooms_shared\", \"balconies\", \"loggias\", \"phones\"] # Ordinal categories\n",
    "\n",
    "cat_features = [\"layout\", \"condition\", \"district\", \"material\", \"parking\", \"heating\", \"seller\"] # All are non-ordinal\n",
    "\n",
    "droptable = []\n",
    "\n",
    "# Load data\n",
    "train, test, metaData = load_all_data()\n",
    "# Clean data\n",
    "train_labels, train_targets, test_labels = clean_data(train, test, features, float_numerical_features, int_numerical_features, cat_features, log_targets=False, log_area=True, fillNan=True)\n",
    "# Add new features\n",
    "train_labels, test_labels, added_features = feature_engineering(train_labels, test_labels, float_numerical_features, int_numerical_features, cat_features)\n",
    "# Normalize\n",
    "train_labels, test_labels = normalize(train_labels, test_labels, float_numerical_features, scaler=\"minMax\")\n",
    "# One-hot encoding\n",
    "train_labels, test_labels = one_hot_encoder(train_labels, test_labels, [\"condition\", \"district\", \"material\", \"parking\", \"heating\", \"seller\"], drop_old=True)\n",
    "# Drop some features\n",
    "train_labels.drop(droptable, inplace=True, axis=1)\n",
    "test_labels.drop(droptable, inplace=True, axis=1)"
   ]
  },
  {
   "cell_type": "code",
   "execution_count": 18,
   "id": "b760ceec-816f-412b-aaca-de10df122b08",
   "metadata": {
    "tags": []
   },
   "outputs": [],
   "source": [
    "%%capture --no-display\n",
    "scores, average_score, best_model, best_index = lgbm_groupKFold(\n",
    "    number_of_splits=number_of_splits,\n",
    "    model=model,\n",
    "    X_train=train_labels, \n",
    "    y_train=np.log(train_targets))"
   ]
  },
  {
   "cell_type": "code",
   "execution_count": 20,
   "id": "f1b65d95-95a5-4617-af8c-b8c3f2a582c2",
   "metadata": {},
   "outputs": [
    {
     "name": "stdout",
     "output_type": "stream",
     "text": [
      "scores:         [0.20357889960952982, 0.177624948782267, 0.19300905559648662, 0.17974983167022934, 0.22691051881636098]\n",
      "average score:  0.19617465089497474\n",
      "best model:     LGBMRegressor(bagging_fraction=0.9, bagging_freq=5, early_stopping_round=100,\n",
      "              feature_fraction=0.8, learning_rate=0.05, max_depth=10,\n",
      "              metric='regression', min_data_in_leaf=20, n_estimators=152,\n",
      "              num_iterations=10000, num_leaves=40, num_threads=4,\n",
      "              random_state=1)\n",
      "best index:     1\n"
     ]
    }
   ],
   "source": [
    "print(\"scores:        \", scores)\n",
    "print(\"average score: \", average_score)\n",
    "print(\"best model:    \", best_model)\n",
    "print(\"best index:    \", best_index)"
   ]
  },
  {
   "cell_type": "code",
   "execution_count": 23,
   "id": "17076766-72da-4d4d-8538-d8c621e9a409",
   "metadata": {},
   "outputs": [
    {
     "data": {
      "text/plain": [
       "LGBMRegressor(bagging_fraction=0.9, bagging_freq=5, feature_fraction=0.8,\n",
       "              learning_rate=0.05, max_depth=10, metric='regression',\n",
       "              min_data_in_leaf=20, n_estimators=152, num_iterations=10000,\n",
       "              num_leaves=40, num_threads=4, random_state=1)"
      ]
     },
     "execution_count": 23,
     "metadata": {},
     "output_type": "execute_result"
    }
   ],
   "source": [
    "model_no_cv.fit(train_labels,np.log(train_targets))"
   ]
  },
  {
   "cell_type": "code",
   "execution_count": 28,
   "id": "d1f9b192-e84e-45ab-aa0a-3045695c75d1",
   "metadata": {},
   "outputs": [],
   "source": [
    "predict_and_store(model_no_cv, test_labels, test, path=\".\\submissions\\LGBM5.0.csv\", exponential=True)"
   ]
  },
  {
   "cell_type": "code",
   "execution_count": 45,
   "id": "7982e962-561f-43ba-a2be-8cdcd51583d5",
   "metadata": {},
   "outputs": [
    {
     "data": {
      "image/png": "[encoded data removed]",
      "text/plain": [
       "<Figure size 720x1440 with 1 Axes>"
      ]
     },
     "metadata": {
      "needs_background": "light"
     },
     "output_type": "display_data"
    }
   ],
   "source": [
    "lgbm_importances = model.feature_importances_\n",
    "plot_feature_importance(lgbm_importances, list(train_labels.drop(['building_id'],axis=1).columns), 'LightGBM All Features: ')"
   ]
  },
  {
   "cell_type": "markdown",
   "id": "851d0462-8d65-4e7c-9e37-3fc61f9a59a5",
   "metadata": {},
   "source": [
    "# LGBM on less features"
   ]
  },
  {
   "cell_type": "code",
   "execution_count": 122,
   "id": "d431628d-8c89-47a6-ab5f-218865e57c1c",
   "metadata": {},
   "outputs": [],
   "source": [
    "droptable = ['district_10','district_11','district_4','district_7','district_6','district_2','district_5','district_9', 'district_12',\n",
    "             'material_2','material_7','material_6','material_5','material_4','material_1',\n",
    "             'heating_3','heating_2','heating_4','heating_1',\n",
    "             'parking_3',\n",
    "             'seller_3','seller_4','seller_1','seller_2',\n",
    "             'windows_court','total_bathrooms', 'windows_street','elevator_service','r','elevator_without','bathrooms_private','loggias','phones']\n",
    "# Drop some features\n",
    "train_labels.drop(droptable, inplace=True, axis=1)\n",
    "test_labels.drop(droptable, inplace=True, axis=1)"
   ]
  },
  {
   "cell_type": "code",
   "execution_count": 126,
   "id": "1d635de6-d1c3-417b-87f1-747b26098c26",
   "metadata": {},
   "outputs": [],
   "source": [
    "%%capture --no-display\n",
    "scores, average_score, best_model, best_index = lgbm_groupKFold(\n",
    "    number_of_splits=number_of_splits,\n",
    "    model=model,\n",
    "    X_train=train_labels, \n",
    "    y_train=np.log(train_targets))"
   ]
  },
  {
   "cell_type": "code",
   "execution_count": 127,
   "id": "63474d0c-5e2c-448b-8962-7c2d74104dbe",
   "metadata": {},
   "outputs": [
    {
     "name": "stdout",
     "output_type": "stream",
     "text": [
      "scores:         [0.20605667380710743, 0.18131902955465284, 0.1944496808312735, 0.17879311475631657, 0.2246496252480902]\n",
      "average score:  0.19705362483948813\n",
      "best model:     LGBMRegressor(bagging_fraction=0.9, bagging_freq=5, early_stopping_round=100,\n",
      "              feature_fraction=0.8, learning_rate=0.005, max_depth=10,\n",
      "              metric='regression', min_data_in_leaf=20, n_estimators=1520,\n",
      "              num_iterations=10000, num_leaves=40, num_threads=4,\n",
      "              random_state=1)\n",
      "best index:     3\n"
     ]
    }
   ],
   "source": [
    "print(\"scores:        \", scores)\n",
    "print(\"average score: \", average_score)\n",
    "print(\"best model:    \", best_model)\n",
    "print(\"best index:    \", best_index)"
   ]
  },
  {
   "cell_type": "code",
   "execution_count": 50,
   "id": "a423ea7e-4de9-4cb0-98ea-75b07b89ae1c",
   "metadata": {},
   "outputs": [
    {
     "name": "stdout",
     "output_type": "stream",
     "text": [
      "[LightGBM] [Warning] feature_fraction is set=0.8, colsample_bytree=1.0 will be ignored. Current value: feature_fraction=0.8\n",
      "[LightGBM] [Warning] min_data_in_leaf is set=20, min_child_samples=20 will be ignored. Current value: min_data_in_leaf=20\n",
      "[LightGBM] [Warning] bagging_fraction is set=0.9, subsample=1.0 will be ignored. Current value: bagging_fraction=0.9\n",
      "[LightGBM] [Warning] num_threads is set=4, n_jobs=-1 will be ignored. Current value: num_threads=4\n",
      "[LightGBM] [Warning] bagging_freq is set=5, subsample_freq=0 will be ignored. Current value: bagging_freq=5\n"
     ]
    },
    {
     "data": {
      "text/plain": [
       "LGBMRegressor(bagging_fraction=0.9, bagging_freq=5, feature_fraction=0.8,\n",
       "              learning_rate=0.05, max_depth=10, metric='regression',\n",
       "              min_data_in_leaf=20, n_estimators=152, num_iterations=10000,\n",
       "              num_leaves=40, num_threads=4, random_state=1)"
      ]
     },
     "execution_count": 50,
     "metadata": {},
     "output_type": "execute_result"
    }
   ],
   "source": [
    "model_no_cv.fit(train_labels,np.log(train_targets))"
   ]
  },
  {
   "cell_type": "code",
   "execution_count": 51,
   "id": "fa973f15-a319-454e-8efd-16435b821786",
   "metadata": {},
   "outputs": [],
   "source": [
    "predict_and_store(model_no_cv, test_labels, test, path=\".\\submissions\\LGBM5.1.csv\", exponential=True)"
   ]
  },
  {
   "cell_type": "code",
   "execution_count": 59,
   "id": "925ff974-e57e-4079-84e6-64b0b118b910",
   "metadata": {},
   "outputs": [
    {
     "data": {
      "image/png": "[encoded data removed]",
      "text/plain": [
       "<Figure size 720x1440 with 1 Axes>"
      ]
     },
     "metadata": {
      "needs_background": "light"
     },
     "output_type": "display_data"
    }
   ],
   "source": [
    "lgbm_importances = model.feature_importances_\n",
    "plot_feature_importance(lgbm_importances, list(train_labels.columns), 'LightGBM Selected Features: ')"
   ]
  },
  {
   "cell_type": "markdown",
   "id": "03155a0a-9cf9-4a13-80fc-811282a2ca7c",
   "metadata": {},
   "source": [
    "# LGBM Decrease Learning Rate"
   ]
  },
  {
   "cell_type": "code",
   "execution_count": 107,
   "id": "585b1901-01f8-4680-a1c1-344b0a9d1387",
   "metadata": {},
   "outputs": [],
   "source": [
    "params= {\n",
    " 'num_iterations': 10000,\n",
    " 'n_estimators': 152*5,\n",
    " 'learning_rate': 0.05/5,\n",
    " 'num_leaves': 40,\n",
    " 'max_depth': 10,\n",
    " 'min_data_in_leaf': 20,\n",
    " 'bagging_fraction': 0.9,\n",
    " 'bagging_freq': 5,\n",
    " 'feature_fraction': 0.8,\n",
    "}\n",
    "model = lgbm.LGBMRegressor(\n",
    "    **params, \n",
    "    random_state=random_state,\n",
    "    early_stopping_round=100,\n",
    "    silent=True,\n",
    "    metric='regression',\n",
    "    num_threads=4)\n",
    "model_no_cv = lgbm.LGBMRegressor(\n",
    "    **params, \n",
    "    random_state=random_state,\n",
    "    silent=True,\n",
    "    metric='regression',\n",
    "    num_threads=4)"
   ]
  },
  {
   "cell_type": "code",
   "execution_count": 133,
   "id": "c9ce1cfe-a0c8-483a-9088-0359af865089",
   "metadata": {
    "tags": []
   },
   "outputs": [
    {
     "name": "stdout",
     "output_type": "stream",
     "text": [
      "minMax\n"
     ]
    }
   ],
   "source": [
    "# Define the features (this is all)\n",
    "features =           [\"building_id\", # For grouping\n",
    "                      \"area_total\", \"area_kitchen\", \"area_living\", \"floor\", \"ceiling\", \"stories\", \"rooms\",\n",
    "                      \"bathrooms_private\", \"bathrooms_shared\", \"balconies\",\"loggias\", \"phones\", \"latitude\", \"longitude\", \"constructed\", # Numerical\n",
    "                     \"layout\", \"condition\", \"district\", \"material\", \"parking\", \"heating\", \"seller\", #Categorical\n",
    "                      \"windows_court\", \"windows_street\", \"new\", \"elevator_without\", \"elevator_passenger\", \"elevator_service\", \"garbage_chute\"] # Bool\n",
    "                     #\"street\", \"address\"] # Strings\n",
    "\n",
    "all_numerical_features = [\"area_total\", \"area_kitchen\", \"area_living\", \"floor\",\n",
    "                      \"ceiling\", \"stories\", \"rooms\", \"bathrooms_private\", \"bathrooms_shared\", \"balconies\",\"loggias\", \"phones\", \"latitude\", \"longitude\", \"constructed\"]\n",
    "\n",
    "float_numerical_features = [\"area_total\", \"area_kitchen\", \"area_living\", \"ceiling\", \"latitude\", \"longitude\", \"constructed\"]\n",
    "int_numerical_features = [\"floor\", \"stories\", \"rooms\", \"bathrooms_private\", \"bathrooms_shared\", \"balconies\", \"loggias\", \"phones\"] # Ordinal categories\n",
    "\n",
    "cat_features = [\"layout\", \"condition\", \"district\", \"material\", \"parking\", \"heating\", \"seller\"] # All are non-ordinal\n",
    "\n",
    "droptable = []\n",
    "\n",
    "# Load data\n",
    "train, test, metaData = load_all_data()\n",
    "# Clean data\n",
    "train_labels, train_targets, test_labels = clean_data(train, test, features, float_numerical_features, int_numerical_features, cat_features, log_targets=False, log_area=True, fillNan=True)\n",
    "# Add new features\n",
    "train_labels, test_labels, added_features = feature_engineering(train_labels, test_labels, float_numerical_features, int_numerical_features, cat_features)\n",
    "# Normalize\n",
    "train_labels, test_labels = normalize(train_labels, test_labels, float_numerical_features, scaler=\"minMax\")\n",
    "# One-hot encoding\n",
    "train_labels, test_labels = one_hot_encoder(train_labels, test_labels, [\"condition\", \"district\", \"material\", \"parking\", \"heating\", \"seller\"], drop_old=True)\n",
    "# Drop some features\n",
    "train_labels.drop(droptable, inplace=True, axis=1)\n",
    "test_labels.drop(droptable, inplace=True, axis=1)"
   ]
  },
  {
   "cell_type": "code",
   "execution_count": 109,
   "id": "f44740a9-c4a6-423d-b9bf-a00a0e8b813d",
   "metadata": {},
   "outputs": [],
   "source": [
    "%%capture --no-display\n",
    "scores, average_score, best_model, best_index = lgbm_groupKFold(\n",
    "    number_of_splits=number_of_splits,\n",
    "    model=model,\n",
    "    X_train=train_labels, \n",
    "    y_train=np.log(train_targets))"
   ]
  },
  {
   "cell_type": "code",
   "execution_count": 110,
   "id": "31ecc54d-cfc1-4d91-a1d8-69d1d860519c",
   "metadata": {},
   "outputs": [
    {
     "name": "stdout",
     "output_type": "stream",
     "text": [
      "scores:         [0.20220429806684384, 0.17891071942742653, 0.190858758038888, 0.17753557430888034, 0.22793414770532708]\n",
      "average score:  0.19548869950947315\n",
      "best model:     LGBMRegressor(bagging_fraction=0.9, bagging_freq=5, early_stopping_round=100,\n",
      "              feature_fraction=0.8, learning_rate=0.01, max_depth=10,\n",
      "              metric='regression', min_data_in_leaf=20, n_estimators=760,\n",
      "              num_iterations=10000, num_leaves=40, num_threads=4,\n",
      "              random_state=1)\n",
      "best index:     3\n"
     ]
    }
   ],
   "source": [
    "print(\"scores:        \", scores)\n",
    "print(\"average score: \", average_score)\n",
    "print(\"best model:    \", best_model)\n",
    "print(\"best index:    \", best_index)"
   ]
  },
  {
   "cell_type": "code",
   "execution_count": 120,
   "id": "470ebc04-e902-4aa0-a5f1-cf249ce80dc4",
   "metadata": {
    "tags": []
   },
   "outputs": [
    {
     "name": "stdout",
     "output_type": "stream",
     "text": [
      "[LightGBM] [Warning] feature_fraction is set=0.8, colsample_bytree=1.0 will be ignored. Current value: feature_fraction=0.8\n",
      "[LightGBM] [Warning] min_data_in_leaf is set=20, min_child_samples=20 will be ignored. Current value: min_data_in_leaf=20\n",
      "[LightGBM] [Warning] bagging_fraction is set=0.9, subsample=1.0 will be ignored. Current value: bagging_fraction=0.9\n",
      "[LightGBM] [Warning] num_threads is set=4, n_jobs=-1 will be ignored. Current value: num_threads=4\n",
      "[LightGBM] [Warning] bagging_freq is set=5, subsample_freq=0 will be ignored. Current value: bagging_freq=5\n"
     ]
    }
   ],
   "source": [
    "model_no_cv.fit(train_labels,np.log(train_targets))\n",
    "predict_and_store(model_no_cv, test_labels, test, path=\".\\submissions\\LGBM5.2.csv\", exponential=True)"
   ]
  },
  {
   "cell_type": "code",
   "execution_count": 113,
   "id": "7194a997-d4ff-49e8-92b7-4cdddb912597",
   "metadata": {
    "tags": []
   },
   "outputs": [
    {
     "data": {
      "image/png": "[encoded data removed]",
      "text/plain": [
       "<Figure size 720x1440 with 1 Axes>"
      ]
     },
     "metadata": {
      "needs_background": "light"
     },
     "output_type": "display_data"
    }
   ],
   "source": [
    "lgbm_importances = model.feature_importances_\n",
    "plot_feature_importance(lgbm_importances, list(train_labels.columns), 'LightGBM All Features: ')"
   ]
  },
  {
   "cell_type": "code",
   "execution_count": 114,
   "id": "bd22ab62-e435-4c11-aa34-b6c292a06c69",
   "metadata": {},
   "outputs": [],
   "source": [
    "params= {\n",
    " 'num_iterations': 10000,\n",
    " 'n_estimators': 152*10,\n",
    " 'learning_rate': 0.05/10,\n",
    " 'num_leaves': 40,\n",
    " 'max_depth': 10,\n",
    " 'min_data_in_leaf': 20,\n",
    " 'bagging_fraction': 0.9,\n",
    " 'bagging_freq': 5,\n",
    " 'feature_fraction': 0.8,\n",
    "}\n",
    "model = lgbm.LGBMRegressor(\n",
    "    **params, \n",
    "    random_state=random_state,\n",
    "    early_stopping_round=100,\n",
    "    silent=True,\n",
    "    metric='regression',\n",
    "    num_threads=4)\n",
    "model_no_cv = lgbm.LGBMRegressor(\n",
    "    **params, \n",
    "    random_state=random_state,\n",
    "    silent=True,\n",
    "    metric='regression',\n",
    "    num_threads=4)"
   ]
  },
  {
   "cell_type": "code",
   "execution_count": 116,
   "id": "05a6c3a7-aa15-4da9-845d-d275d7f87a22",
   "metadata": {},
   "outputs": [],
   "source": [
    "%%capture --no-display\n",
    "scores, average_score, best_model, best_index = lgbm_groupKFold(\n",
    "    number_of_splits=number_of_splits,\n",
    "    model=model,\n",
    "    X_train=train_labels, \n",
    "    y_train=np.log(train_targets))"
   ]
  },
  {
   "cell_type": "code",
   "execution_count": 117,
   "id": "3aca417d-a335-4f73-8e18-58b694de174d",
   "metadata": {},
   "outputs": [
    {
     "name": "stdout",
     "output_type": "stream",
     "text": [
      "scores:         [0.20288038090240507, 0.17937356732143844, 0.19128547286617087, 0.1772900347436588, 0.23034859632940918]\n",
      "average score:  0.19623561043261648\n",
      "best model:     LGBMRegressor(bagging_fraction=0.9, bagging_freq=5, early_stopping_round=100,\n",
      "              feature_fraction=0.8, learning_rate=0.005, max_depth=10,\n",
      "              metric='regression', min_data_in_leaf=20, n_estimators=1520,\n",
      "              num_iterations=10000, num_leaves=40, num_threads=4,\n",
      "              random_state=1)\n",
      "best index:     3\n"
     ]
    }
   ],
   "source": [
    "print(\"scores:        \", scores)\n",
    "print(\"average score: \", average_score)\n",
    "print(\"best model:    \", best_model)\n",
    "print(\"best index:    \", best_index)"
   ]
  },
  {
   "cell_type": "code",
   "execution_count": 119,
   "id": "c57d7589-334c-4ac3-a5e0-39b4faacbc95",
   "metadata": {
    "tags": []
   },
   "outputs": [
    {
     "name": "stdout",
     "output_type": "stream",
     "text": [
      "[LightGBM] [Warning] feature_fraction is set=0.8, colsample_bytree=1.0 will be ignored. Current value: feature_fraction=0.8\n",
      "[LightGBM] [Warning] min_data_in_leaf is set=20, min_child_samples=20 will be ignored. Current value: min_data_in_leaf=20\n",
      "[LightGBM] [Warning] bagging_fraction is set=0.9, subsample=1.0 will be ignored. Current value: bagging_fraction=0.9\n",
      "[LightGBM] [Warning] num_threads is set=4, n_jobs=-1 will be ignored. Current value: num_threads=4\n",
      "[LightGBM] [Warning] bagging_freq is set=5, subsample_freq=0 will be ignored. Current value: bagging_freq=5\n"
     ]
    }
   ],
   "source": [
    "model_no_cv.fit(train_labels,np.log(train_targets))\n",
    "predict_and_store(model_no_cv, test_labels, test, path=\".\\submissions\\LGBM5.3.csv\", exponential=True)"
   ]
  },
  {
   "cell_type": "markdown",
   "id": "2b198003-07f1-4f65-b6ec-75707de40b0d",
   "metadata": {},
   "source": [
    "# Decreased learning rate on not all features"
   ]
  },
  {
   "cell_type": "code",
   "execution_count": 129,
   "id": "3d06e447-c008-401a-92c1-7822530b95d0",
   "metadata": {},
   "outputs": [],
   "source": [
    "params= {\n",
    " 'num_iterations': 10000,\n",
    " 'n_estimators': 152*5,\n",
    " 'learning_rate': 0.05/5,\n",
    " 'num_leaves': 40,\n",
    " 'max_depth': 10,\n",
    " 'min_data_in_leaf': 20,\n",
    " 'bagging_fraction': 0.9,\n",
    " 'bagging_freq': 5,\n",
    " 'feature_fraction': 0.8,\n",
    "}\n",
    "model = lgbm.LGBMRegressor(\n",
    "    **params, \n",
    "    random_state=random_state,\n",
    "    early_stopping_round=100,\n",
    "    silent=True,\n",
    "    metric='regression',\n",
    "    num_threads=4)\n",
    "model_no_cv = lgbm.LGBMRegressor(\n",
    "    **params, \n",
    "    random_state=random_state,\n",
    "    silent=True,\n",
    "    metric='regression',\n",
    "    num_threads=4)"
   ]
  },
  {
   "cell_type": "code",
   "execution_count": 145,
   "id": "e586914d-3a80-47fe-b27e-283d36ec485d",
   "metadata": {},
   "outputs": [],
   "source": [
    "selected_features=[]\n",
    "for i in range(0,len(lgbm_importances)):\n",
    "    if lgbm_importances[i] > 100:\n",
    "        features = (train_labels.columns)\n",
    "        selected_features += [features[i]]\n"
   ]
  },
  {
   "cell_type": "code",
   "execution_count": 152,
   "id": "81276b0c-1d62-4b8e-aaba-4a674d76aab9",
   "metadata": {},
   "outputs": [],
   "source": [
    "%%capture --no-display\n",
    "scores, average_score, best_model, best_index = lgbm_groupKFold(\n",
    "    number_of_splits=number_of_splits,\n",
    "    model=model,\n",
    "    X_train=train_labels[selected_features], \n",
    "    y_train=np.log(train_targets))"
   ]
  },
  {
   "cell_type": "code",
   "execution_count": 153,
   "id": "ef0b5493-8905-4b2b-990a-fa9c72c6940f",
   "metadata": {},
   "outputs": [
    {
     "name": "stdout",
     "output_type": "stream",
     "text": [
      "scores:         [0.20390000289252636, 0.18149527626673134, 0.1908486745650924, 0.1780265666589475, 0.22581404972149582]\n",
      "average score:  0.19601691402095867\n",
      "best model:     LGBMRegressor(bagging_fraction=0.9, bagging_freq=5, early_stopping_round=100,\n",
      "              feature_fraction=0.8, learning_rate=0.01, max_depth=10,\n",
      "              metric='regression', min_data_in_leaf=20, n_estimators=760,\n",
      "              num_iterations=10000, num_leaves=40, num_threads=4,\n",
      "              random_state=1)\n",
      "best index:     3\n"
     ]
    }
   ],
   "source": [
    "print(\"scores:        \", scores)\n",
    "print(\"average score: \", average_score)\n",
    "print(\"best model:    \", best_model)\n",
    "print(\"best index:    \", best_index)"
   ]
  },
  {
   "cell_type": "code",
   "execution_count": 156,
   "id": "5d65b693-9d59-43b6-b33c-31ec80111dfb",
   "metadata": {},
   "outputs": [],
   "source": [
    "model_no_cv.fit(train_labels[selected_features],np.log(train_targets))\n",
    "predict_and_store(model_no_cv, test_labels[selected_features], test, path=\".\\submissions\\LGBM5.4.csv\", exponential=True)"
   ]
  },
  {
   "cell_type": "code",
   "execution_count": null,
   "id": "2d778691-9f07-4d4e-9b6b-b35c06c206cd",
   "metadata": {},
   "outputs": [],
   "source": []
  },
  {
   "cell_type": "markdown",
   "id": "88c70cbd-331a-4fae-8b31-c4b2a3cd16ab",
   "metadata": {},
   "source": [
    "# Targets: price per square meter"
   ]
  },
  {
   "cell_type": "code",
   "execution_count": 24,
   "id": "c895a615-1f39-451a-a69c-48acb9ee07ee",
   "metadata": {},
   "outputs": [
    {
     "name": "stdout",
     "output_type": "stream",
     "text": [
      "minMax\n"
     ]
    }
   ],
   "source": [
    "# make sure all data is what we expect\n",
    "features =           [\"building_id\", # For grouping\n",
    "                      \"area_total\", \"area_kitchen\", \"area_living\", \"floor\", \"ceiling\", \"stories\", \"rooms\",\n",
    "                      \"bathrooms_private\", \"bathrooms_shared\", \"balconies\",\"loggias\", \"phones\", \"latitude\", \"longitude\", \"constructed\", # Numerical\n",
    "                     \"layout\", \"condition\", \"district\", \"material\", \"parking\", \"heating\", \"seller\", #Categorical\n",
    "                      \"windows_court\", \"windows_street\", \"new\", \"elevator_without\", \"elevator_passenger\", \"elevator_service\", \"garbage_chute\"] # Bool\n",
    "                     #\"street\", \"address\"] # Strings\n",
    "\n",
    "all_numerical_features = [\"area_total\", \"area_kitchen\", \"area_living\", \"floor\",\n",
    "                      \"ceiling\", \"stories\", \"rooms\", \"bathrooms_private\", \"bathrooms_shared\", \"balconies\",\"loggias\", \"phones\", \"latitude\", \"longitude\", \"constructed\"]\n",
    "\n",
    "float_numerical_features = [\"area_total\", \"area_kitchen\", \"area_living\", \"ceiling\", \"latitude\", \"longitude\", \"constructed\"]\n",
    "int_numerical_features = [\"floor\", \"stories\", \"rooms\", \"bathrooms_private\", \"bathrooms_shared\", \"balconies\", \"loggias\", \"phones\"] # Ordinal categories\n",
    "\n",
    "cat_features = [\"layout\", \"condition\", \"district\", \"material\", \"parking\", \"heating\", \"seller\"] # All are non-ordinal\n",
    "\n",
    "droptable = []\n",
    "\n",
    "# Load data\n",
    "train, test, metaData = load_all_data()\n",
    "# Clean data\n",
    "train_labels, train_targets, test_labels = clean_data(train, test, features, float_numerical_features, int_numerical_features, cat_features, log_targets=False, log_area=True, fillNan=True)\n",
    "# Add new features\n",
    "train_labels, test_labels, added_features = feature_engineering(train_labels, test_labels, float_numerical_features, int_numerical_features, cat_features)\n",
    "# Normalize\n",
    "train_labels, test_labels = normalize(train_labels, test_labels, float_numerical_features, scaler=\"minMax\")\n",
    "# One-hot encoding\n",
    "train_labels, test_labels = one_hot_encoder(train_labels, test_labels, [\"condition\", \"district\", \"material\", \"parking\", \"heating\", \"seller\"], drop_old=True)\n",
    "# Drop some features\n",
    "train_labels.drop(droptable, inplace=True, axis=1)\n",
    "test_labels.drop(droptable, inplace=True, axis=1)"
   ]
  },
  {
   "cell_type": "code",
   "execution_count": 23,
   "id": "1236a9e2-2b9d-4bf8-9149-e686c7a8123e",
   "metadata": {},
   "outputs": [],
   "source": [
    "price_per_square_meter = train_targets/train['area_total']"
   ]
  },
  {
   "cell_type": "code",
   "execution_count": 29,
   "id": "38b7d9d5-5510-4ac3-a1dd-d6490545d904",
   "metadata": {},
   "outputs": [],
   "source": [
    "params= {\n",
    " 'num_iterations': 10000,\n",
    " 'n_estimators': 152*5,\n",
    " 'learning_rate': 0.05/5,\n",
    " 'num_leaves': 40,\n",
    " 'max_depth': 10,\n",
    " 'min_data_in_leaf': 20,\n",
    " 'bagging_fraction': 0.9,\n",
    " 'bagging_freq': 5,\n",
    " 'feature_fraction': 0.8,\n",
    "}\n",
    "model = lgbm.LGBMRegressor(\n",
    "    **params, \n",
    "    random_state=random_state,\n",
    "    early_stopping_round=100,\n",
    "    silent=True,\n",
    "    metric='regression',\n",
    "    num_threads=4)\n",
    "model_no_cv = lgbm.LGBMRegressor(\n",
    "    **params, \n",
    "    random_state=random_state,\n",
    "    silent=True,\n",
    "    metric='regression',\n",
    "    num_threads=4)"
   ]
  },
  {
   "cell_type": "code",
   "execution_count": 43,
   "id": "5f8b2bbf-edc5-45c1-94f0-01e82f5e9f39",
   "metadata": {},
   "outputs": [
    {
     "name": "stderr",
     "output_type": "stream",
     "text": [
      "C:\\ProgramData\\Anaconda3\\lib\\site-packages\\lightgbm\\engine.py:148: UserWarning: Found `num_iterations` in params. Will use it instead of argument\n",
      "  _log_warning(\"Found `{}` in params. Will use it instead of argument\".format(alias))\n",
      "C:\\ProgramData\\Anaconda3\\lib\\site-packages\\lightgbm\\engine.py:153: UserWarning: Found `early_stopping_round` in params. Will use it instead of argument\n",
      "  _log_warning(\"Found `{}` in params. Will use it instead of argument\".format(alias))\n"
     ]
    },
    {
     "name": "stdout",
     "output_type": "stream",
     "text": [
      "[LightGBM] [Warning] feature_fraction is set=0.8, colsample_bytree=1.0 will be ignored. Current value: feature_fraction=0.8\n",
      "[LightGBM] [Warning] min_data_in_leaf is set=20, min_child_samples=20 will be ignored. Current value: min_data_in_leaf=20\n",
      "[LightGBM] [Warning] bagging_fraction is set=0.9, subsample=1.0 will be ignored. Current value: bagging_fraction=0.9\n",
      "[LightGBM] [Warning] num_threads is set=4, n_jobs=-1 will be ignored. Current value: num_threads=4\n",
      "[LightGBM] [Warning] bagging_freq is set=5, subsample_freq=0 will be ignored. Current value: bagging_freq=5\n",
      "[LightGBM] [Warning] feature_fraction is set=0.8, colsample_bytree=1.0 will be ignored. Current value: feature_fraction=0.8\n",
      "[LightGBM] [Warning] min_data_in_leaf is set=20, min_child_samples=20 will be ignored. Current value: min_data_in_leaf=20\n",
      "[LightGBM] [Warning] bagging_fraction is set=0.9, subsample=1.0 will be ignored. Current value: bagging_fraction=0.9\n",
      "[LightGBM] [Warning] num_threads is set=4, n_jobs=-1 will be ignored. Current value: num_threads=4\n",
      "[LightGBM] [Warning] bagging_freq is set=5, subsample_freq=0 will be ignored. Current value: bagging_freq=5\n",
      "[LightGBM] [Warning] feature_fraction is set=0.8, colsample_bytree=1.0 will be ignored. Current value: feature_fraction=0.8\n",
      "[LightGBM] [Warning] min_data_in_leaf is set=20, min_child_samples=20 will be ignored. Current value: min_data_in_leaf=20\n",
      "[LightGBM] [Warning] bagging_fraction is set=0.9, subsample=1.0 will be ignored. Current value: bagging_fraction=0.9\n",
      "[LightGBM] [Warning] num_threads is set=4, n_jobs=-1 will be ignored. Current value: num_threads=4\n",
      "[LightGBM] [Warning] bagging_freq is set=5, subsample_freq=0 will be ignored. Current value: bagging_freq=5\n",
      "[LightGBM] [Warning] feature_fraction is set=0.8, colsample_bytree=1.0 will be ignored. Current value: feature_fraction=0.8\n",
      "[LightGBM] [Warning] min_data_in_leaf is set=20, min_child_samples=20 will be ignored. Current value: min_data_in_leaf=20\n",
      "[LightGBM] [Warning] bagging_fraction is set=0.9, subsample=1.0 will be ignored. Current value: bagging_fraction=0.9\n",
      "[LightGBM] [Warning] num_threads is set=4, n_jobs=-1 will be ignored. Current value: num_threads=4\n",
      "[LightGBM] [Warning] bagging_freq is set=5, subsample_freq=0 will be ignored. Current value: bagging_freq=5\n",
      "[LightGBM] [Warning] feature_fraction is set=0.8, colsample_bytree=1.0 will be ignored. Current value: feature_fraction=0.8\n",
      "[LightGBM] [Warning] min_data_in_leaf is set=20, min_child_samples=20 will be ignored. Current value: min_data_in_leaf=20\n",
      "[LightGBM] [Warning] bagging_fraction is set=0.9, subsample=1.0 will be ignored. Current value: bagging_fraction=0.9\n",
      "[LightGBM] [Warning] num_threads is set=4, n_jobs=-1 will be ignored. Current value: num_threads=4\n",
      "[LightGBM] [Warning] bagging_freq is set=5, subsample_freq=0 will be ignored. Current value: bagging_freq=5\n"
     ]
    }
   ],
   "source": [
    "%%capture --no-display\n",
    "scores, average_score, best_model, best_index = lgbm_groupKFold_not_log_input(\n",
    "    number_of_splits=number_of_splits,\n",
    "    model=model,\n",
    "    X_train=train_labels.drop(['area_total'],axis=1), \n",
    "    y_train=price_per_square_meter)"
   ]
  },
  {
   "cell_type": "code",
   "execution_count": 44,
   "id": "dc676c50-6355-442c-880f-8e4dc4b84ed2",
   "metadata": {},
   "outputs": [
    {
     "name": "stdout",
     "output_type": "stream",
     "text": [
      "scores:         [0.21459887182545095, 0.20198242294697863, 0.2003436258883362, 0.19349876920389042, 0.24668943551444764]\n",
      "average score:  0.21142262507582074\n",
      "best model:     LGBMRegressor(bagging_fraction=0.9, bagging_freq=5, early_stopping_round=100,\n",
      "              feature_fraction=0.8, learning_rate=0.01, max_depth=10,\n",
      "              metric='regression', min_data_in_leaf=20, n_estimators=760,\n",
      "              num_iterations=10000, num_leaves=40, num_threads=4,\n",
      "              random_state=1)\n",
      "best index:     3\n"
     ]
    }
   ],
   "source": [
    "print(\"scores:        \", scores)\n",
    "print(\"average score: \", average_score)\n",
    "print(\"best model:    \", best_model)\n",
    "print(\"best index:    \", best_index)"
   ]
  },
  {
   "cell_type": "code",
   "execution_count": 45,
   "id": "d03585e1-a9bc-45f6-818d-e342f5fb3eec",
   "metadata": {},
   "outputs": [],
   "source": [
    "%%capture --no-display\n",
    "scores, average_score, best_model, best_index = lgbm_groupKFold(\n",
    "    number_of_splits=number_of_splits,\n",
    "    model=model,\n",
    "    X_train=train_labels, \n",
    "    y_train=np.log(price_per_square_meter))"
   ]
  },
  {
   "cell_type": "code",
   "execution_count": 46,
   "id": "1ade7541-e2e0-4250-a5c6-26e64647188d",
   "metadata": {},
   "outputs": [
    {
     "name": "stdout",
     "output_type": "stream",
     "text": [
      "scores:         [0.19201519918971857, 0.17009349466709958, 0.18869479867839964, 0.17557165720744788, 0.21373726961124992]\n",
      "average score:  0.1880224838707831\n",
      "best model:     LGBMRegressor(bagging_fraction=0.9, bagging_freq=5, early_stopping_round=100,\n",
      "              feature_fraction=0.8, learning_rate=0.01, max_depth=10,\n",
      "              metric='regression', min_data_in_leaf=20, n_estimators=760,\n",
      "              num_iterations=10000, num_leaves=40, num_threads=4,\n",
      "              random_state=1)\n",
      "best index:     1\n"
     ]
    }
   ],
   "source": [
    "print(\"scores:        \", scores)\n",
    "print(\"average score: \", average_score)\n",
    "print(\"best model:    \", best_model)\n",
    "print(\"best index:    \", best_index)"
   ]
  },
  {
   "cell_type": "code",
   "execution_count": 47,
   "id": "b8058201-0359-4e2c-b25b-2b586b0854de",
   "metadata": {},
   "outputs": [],
   "source": [
    "%%capture --no-display\n",
    "scores, average_score, best_model, best_index = lgbm_groupKFold(\n",
    "    number_of_splits=number_of_splits,\n",
    "    model=model,\n",
    "    X_train=train_labels.drop(['area_total'],axis=1), \n",
    "    y_train=np.log(price_per_square_meter))"
   ]
  },
  {
   "cell_type": "code",
   "execution_count": 48,
   "id": "687cefc7-d110-450c-90e8-ecab49727c4b",
   "metadata": {},
   "outputs": [
    {
     "name": "stdout",
     "output_type": "stream",
     "text": [
      "scores:         [0.19329126509741973, 0.1735005279205817, 0.1872286563432924, 0.1758962041260451, 0.21692730845981315]\n",
      "average score:  0.18936879238943044\n",
      "best model:     LGBMRegressor(bagging_fraction=0.9, bagging_freq=5, early_stopping_round=100,\n",
      "              feature_fraction=0.8, learning_rate=0.01, max_depth=10,\n",
      "              metric='regression', min_data_in_leaf=20, n_estimators=760,\n",
      "              num_iterations=10000, num_leaves=40, num_threads=4,\n",
      "              random_state=1)\n",
      "best index:     1\n"
     ]
    }
   ],
   "source": [
    "print(\"scores:        \", scores)\n",
    "print(\"average score: \", average_score)\n",
    "print(\"best model:    \", best_model)\n",
    "print(\"best index:    \", best_index)"
   ]
  },
  {
   "cell_type": "code",
   "execution_count": null,
   "id": "43b0a690-9383-4fa8-8185-5dae0d00b96b",
   "metadata": {},
   "outputs": [],
   "source": []
  },
  {
   "cell_type": "code",
   "execution_count": 57,
   "id": "06716617-ec56-4d34-a2e2-3186e326e1e3",
   "metadata": {},
   "outputs": [
    {
     "name": "stdout",
     "output_type": "stream",
     "text": [
      "[LightGBM] [Warning] feature_fraction is set=0.8, colsample_bytree=1.0 will be ignored. Current value: feature_fraction=0.8\n",
      "[LightGBM] [Warning] min_data_in_leaf is set=20, min_child_samples=20 will be ignored. Current value: min_data_in_leaf=20\n",
      "[LightGBM] [Warning] bagging_fraction is set=0.9, subsample=1.0 will be ignored. Current value: bagging_fraction=0.9\n",
      "[LightGBM] [Warning] num_threads is set=4, n_jobs=-1 will be ignored. Current value: num_threads=4\n",
      "[LightGBM] [Warning] bagging_freq is set=5, subsample_freq=0 will be ignored. Current value: bagging_freq=5\n"
     ]
    }
   ],
   "source": [
    "model_no_cv.fit(train_labels,price_per_square_meter)\n",
    "predict_and_store(model_no_cv, test_labels, test, path=\".\\submissions\\LGBM6.3.csv\", exponential=False, price_per_sq = True, total_area_df = test['area_total'])"
   ]
  },
  {
   "cell_type": "code",
   "execution_count": 61,
   "id": "76a613bf-aa48-43d4-9fbb-b7cbd70668a0",
   "metadata": {},
   "outputs": [
    {
     "name": "stdout",
     "output_type": "stream",
     "text": [
      "[LightGBM] [Warning] feature_fraction is set=0.8, colsample_bytree=1.0 will be ignored. Current value: feature_fraction=0.8\n",
      "[LightGBM] [Warning] min_data_in_leaf is set=20, min_child_samples=20 will be ignored. Current value: min_data_in_leaf=20\n",
      "[LightGBM] [Warning] bagging_fraction is set=0.9, subsample=1.0 will be ignored. Current value: bagging_fraction=0.9\n",
      "[LightGBM] [Warning] num_threads is set=4, n_jobs=-1 will be ignored. Current value: num_threads=4\n",
      "[LightGBM] [Warning] bagging_freq is set=5, subsample_freq=0 will be ignored. Current value: bagging_freq=5\n"
     ]
    }
   ],
   "source": [
    "model_no_cv.fit(train_labels.drop(['area_total'],axis=1),price_per_square_meter)\n",
    "predict_and_store(model_no_cv, test_labels.drop(['area_total'],axis=1), test, path=\".\\submissions\\LGBM6.4.csv\", exponential=False, price_per_sq = True, total_area_df = test['area_total'])"
   ]
  },
  {
   "cell_type": "code",
   "execution_count": null,
   "id": "46dcd166-62ea-4892-a17f-f96caca61abb",
   "metadata": {},
   "outputs": [],
   "source": []
  },
  {
   "cell_type": "code",
   "execution_count": 62,
   "id": "6fc71186-8aae-4833-ae82-4a9beef78034",
   "metadata": {},
   "outputs": [
    {
     "name": "stdout",
     "output_type": "stream",
     "text": [
      "[LightGBM] [Warning] feature_fraction is set=0.8, colsample_bytree=1.0 will be ignored. Current value: feature_fraction=0.8\n",
      "[LightGBM] [Warning] min_data_in_leaf is set=20, min_child_samples=20 will be ignored. Current value: min_data_in_leaf=20\n",
      "[LightGBM] [Warning] bagging_fraction is set=0.9, subsample=1.0 will be ignored. Current value: bagging_fraction=0.9\n",
      "[LightGBM] [Warning] num_threads is set=4, n_jobs=-1 will be ignored. Current value: num_threads=4\n",
      "[LightGBM] [Warning] bagging_freq is set=5, subsample_freq=0 will be ignored. Current value: bagging_freq=5\n"
     ]
    }
   ],
   "source": [
    "model_no_cv.fit(train_labels,np.log(price_per_square_meter))\n",
    "predict_and_store(model_no_cv, test_labels, test, path=\".\\submissions\\LGBM6.0.csv\", exponential=True, price_per_sq = True, total_area_df = test['area_total'])"
   ]
  },
  {
   "cell_type": "code",
   "execution_count": 96,
   "id": "a814ba55-2137-4a09-a69a-61687e1ae517",
   "metadata": {},
   "outputs": [
    {
     "name": "stderr",
     "output_type": "stream",
     "text": [
      "C:\\ProgramData\\Anaconda3\\lib\\site-packages\\lightgbm\\engine.py:148: UserWarning: Found `num_iterations` in params. Will use it instead of argument\n",
      "  _log_warning(\"Found `{}` in params. Will use it instead of argument\".format(alias))\n"
     ]
    },
    {
     "name": "stdout",
     "output_type": "stream",
     "text": [
      "[LightGBM] [Warning] feature_fraction is set=0.8, colsample_bytree=1.0 will be ignored. Current value: feature_fraction=0.8\n",
      "[LightGBM] [Warning] min_data_in_leaf is set=20, min_child_samples=20 will be ignored. Current value: min_data_in_leaf=20\n",
      "[LightGBM] [Warning] bagging_fraction is set=0.9, subsample=1.0 will be ignored. Current value: bagging_fraction=0.9\n",
      "[LightGBM] [Warning] num_threads is set=4, n_jobs=-1 will be ignored. Current value: num_threads=4\n",
      "[LightGBM] [Warning] bagging_freq is set=5, subsample_freq=0 will be ignored. Current value: bagging_freq=5\n"
     ]
    },
    {
     "ename": "KeyboardInterrupt",
     "evalue": "",
     "output_type": "error",
     "traceback": [
      "\u001b[1;31m---------------------------------------------------------------------------\u001b[0m",
      "\u001b[1;31mKeyboardInterrupt\u001b[0m                         Traceback (most recent call last)",
      "\u001b[1;32m<ipython-input-96-69a6d7da8a68>\u001b[0m in \u001b[0;36m<module>\u001b[1;34m\u001b[0m\n\u001b[1;32m----> 1\u001b[1;33m \u001b[0mmodel_no_cv\u001b[0m\u001b[1;33m.\u001b[0m\u001b[0mfit\u001b[0m\u001b[1;33m(\u001b[0m\u001b[0mtrain_labels\u001b[0m\u001b[1;33m.\u001b[0m\u001b[0mdrop\u001b[0m\u001b[1;33m(\u001b[0m\u001b[1;33m[\u001b[0m\u001b[1;34m'area_total'\u001b[0m\u001b[1;33m]\u001b[0m\u001b[1;33m,\u001b[0m\u001b[0maxis\u001b[0m\u001b[1;33m=\u001b[0m\u001b[1;36m1\u001b[0m\u001b[1;33m)\u001b[0m\u001b[1;33m,\u001b[0m\u001b[0mnp\u001b[0m\u001b[1;33m.\u001b[0m\u001b[0mlog\u001b[0m\u001b[1;33m(\u001b[0m\u001b[0mprice_per_square_meter\u001b[0m\u001b[1;33m)\u001b[0m\u001b[1;33m)\u001b[0m\u001b[1;33m\u001b[0m\u001b[1;33m\u001b[0m\u001b[0m\n\u001b[0m\u001b[0;32m      2\u001b[0m \u001b[0mpredict_and_store\u001b[0m\u001b[1;33m(\u001b[0m\u001b[0mmodel_no_cv\u001b[0m\u001b[1;33m,\u001b[0m \u001b[0mtest_labels\u001b[0m\u001b[1;33m.\u001b[0m\u001b[0mdrop\u001b[0m\u001b[1;33m(\u001b[0m\u001b[1;33m[\u001b[0m\u001b[1;34m'area_total'\u001b[0m\u001b[1;33m]\u001b[0m\u001b[1;33m,\u001b[0m\u001b[0maxis\u001b[0m\u001b[1;33m=\u001b[0m\u001b[1;36m1\u001b[0m\u001b[1;33m)\u001b[0m\u001b[1;33m,\u001b[0m \u001b[0mtest\u001b[0m\u001b[1;33m,\u001b[0m \u001b[0mpath\u001b[0m\u001b[1;33m=\u001b[0m\u001b[1;34m\".\\submissions\\LGBM6.1.csv\"\u001b[0m\u001b[1;33m,\u001b[0m \u001b[0mexponential\u001b[0m\u001b[1;33m=\u001b[0m\u001b[1;32mTrue\u001b[0m\u001b[1;33m,\u001b[0m \u001b[0mprice_per_sq\u001b[0m \u001b[1;33m=\u001b[0m \u001b[1;32mTrue\u001b[0m\u001b[1;33m,\u001b[0m \u001b[0mtotal_area_df\u001b[0m \u001b[1;33m=\u001b[0m \u001b[0mtest\u001b[0m\u001b[1;33m[\u001b[0m\u001b[1;34m'area_total'\u001b[0m\u001b[1;33m]\u001b[0m\u001b[1;33m)\u001b[0m\u001b[1;33m\u001b[0m\u001b[1;33m\u001b[0m\u001b[0m\n",
      "\u001b[1;32mC:\\ProgramData\\Anaconda3\\lib\\site-packages\\lightgbm\\sklearn.py\u001b[0m in \u001b[0;36mfit\u001b[1;34m(self, X, y, sample_weight, init_score, eval_set, eval_names, eval_sample_weight, eval_init_score, eval_metric, early_stopping_rounds, verbose, feature_name, categorical_feature, callbacks, init_model)\u001b[0m\n\u001b[0;32m    816\u001b[0m             callbacks=None, init_model=None):\n\u001b[0;32m    817\u001b[0m         \u001b[1;34m\"\"\"Docstring is inherited from the LGBMModel.\"\"\"\u001b[0m\u001b[1;33m\u001b[0m\u001b[1;33m\u001b[0m\u001b[0m\n\u001b[1;32m--> 818\u001b[1;33m         super().fit(X, y, sample_weight=sample_weight, init_score=init_score,\n\u001b[0m\u001b[0;32m    819\u001b[0m                     \u001b[0meval_set\u001b[0m\u001b[1;33m=\u001b[0m\u001b[0meval_set\u001b[0m\u001b[1;33m,\u001b[0m \u001b[0meval_names\u001b[0m\u001b[1;33m=\u001b[0m\u001b[0meval_names\u001b[0m\u001b[1;33m,\u001b[0m \u001b[0meval_sample_weight\u001b[0m\u001b[1;33m=\u001b[0m\u001b[0meval_sample_weight\u001b[0m\u001b[1;33m,\u001b[0m\u001b[1;33m\u001b[0m\u001b[1;33m\u001b[0m\u001b[0m\n\u001b[0;32m    820\u001b[0m                     \u001b[0meval_init_score\u001b[0m\u001b[1;33m=\u001b[0m\u001b[0meval_init_score\u001b[0m\u001b[1;33m,\u001b[0m \u001b[0meval_metric\u001b[0m\u001b[1;33m=\u001b[0m\u001b[0meval_metric\u001b[0m\u001b[1;33m,\u001b[0m\u001b[1;33m\u001b[0m\u001b[1;33m\u001b[0m\u001b[0m\n",
      "\u001b[1;32mC:\\ProgramData\\Anaconda3\\lib\\site-packages\\lightgbm\\sklearn.py\u001b[0m in \u001b[0;36mfit\u001b[1;34m(self, X, y, sample_weight, init_score, group, eval_set, eval_names, eval_sample_weight, eval_class_weight, eval_init_score, eval_group, eval_metric, early_stopping_rounds, verbose, feature_name, categorical_feature, callbacks, init_model)\u001b[0m\n\u001b[0;32m    681\u001b[0m             \u001b[0minit_model\u001b[0m \u001b[1;33m=\u001b[0m \u001b[0minit_model\u001b[0m\u001b[1;33m.\u001b[0m\u001b[0mbooster_\u001b[0m\u001b[1;33m\u001b[0m\u001b[1;33m\u001b[0m\u001b[0m\n\u001b[0;32m    682\u001b[0m \u001b[1;33m\u001b[0m\u001b[0m\n\u001b[1;32m--> 683\u001b[1;33m         self._Booster = train(params, train_set,\n\u001b[0m\u001b[0;32m    684\u001b[0m                               \u001b[0mself\u001b[0m\u001b[1;33m.\u001b[0m\u001b[0mn_estimators\u001b[0m\u001b[1;33m,\u001b[0m \u001b[0mvalid_sets\u001b[0m\u001b[1;33m=\u001b[0m\u001b[0mvalid_sets\u001b[0m\u001b[1;33m,\u001b[0m \u001b[0mvalid_names\u001b[0m\u001b[1;33m=\u001b[0m\u001b[0meval_names\u001b[0m\u001b[1;33m,\u001b[0m\u001b[1;33m\u001b[0m\u001b[1;33m\u001b[0m\u001b[0m\n\u001b[0;32m    685\u001b[0m                               \u001b[0mearly_stopping_rounds\u001b[0m\u001b[1;33m=\u001b[0m\u001b[0mearly_stopping_rounds\u001b[0m\u001b[1;33m,\u001b[0m\u001b[1;33m\u001b[0m\u001b[1;33m\u001b[0m\u001b[0m\n",
      "\u001b[1;32mC:\\ProgramData\\Anaconda3\\lib\\site-packages\\lightgbm\\engine.py\u001b[0m in \u001b[0;36mtrain\u001b[1;34m(params, train_set, num_boost_round, valid_sets, valid_names, fobj, feval, init_model, feature_name, categorical_feature, early_stopping_rounds, evals_result, verbose_eval, learning_rates, keep_training_booster, callbacks)\u001b[0m\n\u001b[0;32m    247\u001b[0m                                     evaluation_result_list=None))\n\u001b[0;32m    248\u001b[0m \u001b[1;33m\u001b[0m\u001b[0m\n\u001b[1;32m--> 249\u001b[1;33m         \u001b[0mbooster\u001b[0m\u001b[1;33m.\u001b[0m\u001b[0mupdate\u001b[0m\u001b[1;33m(\u001b[0m\u001b[0mfobj\u001b[0m\u001b[1;33m=\u001b[0m\u001b[0mfobj\u001b[0m\u001b[1;33m)\u001b[0m\u001b[1;33m\u001b[0m\u001b[1;33m\u001b[0m\u001b[0m\n\u001b[0m\u001b[0;32m    250\u001b[0m \u001b[1;33m\u001b[0m\u001b[0m\n\u001b[0;32m    251\u001b[0m         \u001b[0mevaluation_result_list\u001b[0m \u001b[1;33m=\u001b[0m \u001b[1;33m[\u001b[0m\u001b[1;33m]\u001b[0m\u001b[1;33m\u001b[0m\u001b[1;33m\u001b[0m\u001b[0m\n",
      "\u001b[1;32mC:\\ProgramData\\Anaconda3\\lib\\site-packages\\lightgbm\\basic.py\u001b[0m in \u001b[0;36mupdate\u001b[1;34m(self, train_set, fobj)\u001b[0m\n\u001b[0;32m   2641\u001b[0m             \u001b[1;32mif\u001b[0m \u001b[0mself\u001b[0m\u001b[1;33m.\u001b[0m\u001b[0m__set_objective_to_none\u001b[0m\u001b[1;33m:\u001b[0m\u001b[1;33m\u001b[0m\u001b[1;33m\u001b[0m\u001b[0m\n\u001b[0;32m   2642\u001b[0m                 \u001b[1;32mraise\u001b[0m \u001b[0mLightGBMError\u001b[0m\u001b[1;33m(\u001b[0m\u001b[1;34m'Cannot update due to null objective function.'\u001b[0m\u001b[1;33m)\u001b[0m\u001b[1;33m\u001b[0m\u001b[1;33m\u001b[0m\u001b[0m\n\u001b[1;32m-> 2643\u001b[1;33m             _safe_call(_LIB.LGBM_BoosterUpdateOneIter(\n\u001b[0m\u001b[0;32m   2644\u001b[0m                 \u001b[0mself\u001b[0m\u001b[1;33m.\u001b[0m\u001b[0mhandle\u001b[0m\u001b[1;33m,\u001b[0m\u001b[1;33m\u001b[0m\u001b[1;33m\u001b[0m\u001b[0m\n\u001b[0;32m   2645\u001b[0m                 ctypes.byref(is_finished)))\n",
      "\u001b[1;31mKeyboardInterrupt\u001b[0m: "
     ]
    }
   ],
   "source": [
    "model_no_cv.fit(train_labels.drop(['area_total'],axis=1),np.log(price_per_square_meter))\n",
    "predict_and_store(model_no_cv, test_labels.drop(['area_total'],axis=1), test, path=\".\\submissions\\LGBM6.1.csv\", exponential=True, price_per_sq = True, total_area_df = test['area_total'])"
   ]
  },
  {
   "cell_type": "code",
   "execution_count": null,
   "id": "40843fdc-fdc1-418f-a8ca-52b7ced0fdc4",
   "metadata": {},
   "outputs": [],
   "source": []
  },
  {
   "cell_type": "markdown",
   "id": "e8b81127-bcf8-4b4c-9cc9-5129ae2f3a0b",
   "metadata": {},
   "source": [
    "# Add result of more feature engineering"
   ]
  },
  {
   "cell_type": "code",
   "execution_count": 75,
   "id": "f2ab70be-e902-4a8d-89cf-68924983de4a",
   "metadata": {},
   "outputs": [
    {
     "name": "stdout",
     "output_type": "stream",
     "text": [
      "minMax\n"
     ]
    }
   ],
   "source": [
    "features =           [\"building_id\", # For grouping\n",
    "                      \"area_total\", \"area_kitchen\", \"area_living\", \"floor\", \"ceiling\", \"stories\", \"rooms\",\n",
    "                      \"bathrooms_private\", \"bathrooms_shared\", \"balconies\",\"loggias\", \"phones\", \"latitude\", \"longitude\", \"constructed\", # Numerical\n",
    "                     \"layout\", \"condition\", \"district\", \"material\", \"parking\", \"heating\", \"seller\", #Categorical\n",
    "                      \"windows_court\", \"windows_street\", \"new\", \"elevator_without\", \"elevator_passenger\", \"elevator_service\", \"garbage_chute\", # Bool\n",
    "                     \"street\", \"address\"] # Strings\n",
    "\n",
    "all_numerical_features = [\"area_total\", \"area_kitchen\", \"area_living\", \"floor\",\n",
    "                      \"ceiling\", \"stories\", \"rooms\", \"bathrooms_private\", \"bathrooms_shared\", \"balconies\",\"loggias\", \"phones\", \"latitude\", \"longitude\", \"constructed\"]\n",
    "\n",
    "float_numerical_features = [\"area_total\", \"area_kitchen\", \"area_living\", \"ceiling\", \"latitude\", \"longitude\", \"constructed\"]\n",
    "int_numerical_features = [\"floor\", \"stories\", \"rooms\", \"bathrooms_private\", \"bathrooms_shared\", \"balconies\", \"loggias\", \"phones\"] # Ordinal categories\n",
    "\n",
    "cat_features = [\"layout\", \"condition\", \"district\", \"material\", \"parking\", \"heating\", \"seller\"] # All are non-ordinal\n",
    "\n",
    "droptable = []\n",
    "\n",
    "# Load data\n",
    "train, test, metaData = load_all_data()\n",
    "# Clean data\n",
    "train_labels, train_targets, test_labels = clean_data(train, test, features, float_numerical_features, int_numerical_features, cat_features, log_targets=False, log_area=True, fillNan=True)\n",
    "# Add new features\n",
    "train_labels, test_labels, added_features = feature_engineering(\n",
    "    train_labels, \n",
    "    test_labels,\n",
    "    add_base_features=True, \n",
    "    add_bool_features=True,\n",
    "    add_weak_features=True,\n",
    "    add_dist_to_metro=True,\n",
    "    add_close_to_uni=True,\n",
    "    add_dist_to_hospital=True,\n",
    "    add_floor_features=True,\n",
    "    add_street_info=True,\n",
    "    )\n",
    "\n",
    "# Normalize\n",
    "train_labels, test_labels = normalize(train_labels, test_labels, float_numerical_features, scaler=\"minMax\")\n",
    "# One-hot encoding\n",
    "train_labels, test_labels = one_hot_encoder(train_labels, test_labels, [\"condition\", \"district\", \"material\", \"parking\", \"heating\", \"seller\"], drop_old=True)\n",
    "# Drop some features\n",
    "train_labels.drop(droptable, inplace=True, axis=1)\n",
    "test_labels.drop(droptable, inplace=True, axis=1)"
   ]
  },
  {
   "cell_type": "code",
   "execution_count": 76,
   "id": "9a932beb-947f-4890-83d9-3ef07b3f0d9f",
   "metadata": {},
   "outputs": [],
   "source": [
    "droptable = ['street','address']\n",
    "train_labels.drop(droptable, inplace=True, axis=1)\n",
    "test_labels.drop(droptable, inplace=True, axis=1)"
   ]
  },
  {
   "cell_type": "code",
   "execution_count": 77,
   "id": "672779c8-c33d-45ba-ae16-e2016342eccd",
   "metadata": {},
   "outputs": [],
   "source": [
    "%%capture --no-display\n",
    "scores, average_score, best_model, best_index = lgbm_groupKFold(\n",
    "    number_of_splits=number_of_splits,\n",
    "    model=model,\n",
    "    X_train=train_labels, \n",
    "    y_train=np.log(train_targets))"
   ]
  },
  {
   "cell_type": "code",
   "execution_count": 78,
   "id": "e91d607a-98b6-4a3c-9ac5-1c7809dc4e6f",
   "metadata": {},
   "outputs": [
    {
     "name": "stdout",
     "output_type": "stream",
     "text": [
      "scores:         [0.20778410443267165, 0.1726446816887817, 0.19017859428667133, 0.18094128081752037, 0.23009726946409764]\n",
      "average score:  0.19632918613794853\n",
      "best model:     LGBMRegressor(bagging_fraction=0.9, bagging_freq=5, early_stopping_round=100,\n",
      "              feature_fraction=0.8, learning_rate=0.01, max_depth=10,\n",
      "              metric='regression', min_data_in_leaf=20, n_estimators=760,\n",
      "              num_iterations=10000, num_leaves=40, num_threads=4,\n",
      "              random_state=1)\n",
      "best index:     1\n"
     ]
    }
   ],
   "source": [
    "print(\"scores:        \", scores)\n",
    "print(\"average score: \", average_score)\n",
    "print(\"best model:    \", best_model)\n",
    "print(\"best index:    \", best_index)"
   ]
  },
  {
   "cell_type": "code",
   "execution_count": 79,
   "id": "f99483d5-3e6c-43ef-84c4-385fe9926098",
   "metadata": {},
   "outputs": [
    {
     "name": "stdout",
     "output_type": "stream",
     "text": [
      "[LightGBM] [Warning] feature_fraction is set=0.8, colsample_bytree=1.0 will be ignored. Current value: feature_fraction=0.8\n",
      "[LightGBM] [Warning] min_data_in_leaf is set=20, min_child_samples=20 will be ignored. Current value: min_data_in_leaf=20\n",
      "[LightGBM] [Warning] bagging_fraction is set=0.9, subsample=1.0 will be ignored. Current value: bagging_fraction=0.9\n",
      "[LightGBM] [Warning] num_threads is set=4, n_jobs=-1 will be ignored. Current value: num_threads=4\n",
      "[LightGBM] [Warning] bagging_freq is set=5, subsample_freq=0 will be ignored. Current value: bagging_freq=5\n"
     ]
    }
   ],
   "source": [
    "model_no_cv.fit(train_labels,np.log(train_targets))\n",
    "predict_and_store(model_no_cv, test_labels, test, path=\".\\submissions\\LGBM7.0.csv\", exponential=True)"
   ]
  },
  {
   "cell_type": "markdown",
   "id": "e456138e-0ff8-41fc-923e-10fc588add87",
   "metadata": {},
   "source": [
    "## train target price per square meter"
   ]
  },
  {
   "cell_type": "code",
   "execution_count": 80,
   "id": "cbb99f94-4895-4d01-a7f4-54eaccb35e06",
   "metadata": {},
   "outputs": [],
   "source": [
    "%%capture --no-display\n",
    "scores, average_score, best_model, best_index = lgbm_groupKFold(\n",
    "    number_of_splits=number_of_splits,\n",
    "    model=model,\n",
    "    X_train=train_labels.drop(['area_total'],axis=1), \n",
    "    y_train=np.log(price_per_square_meter))"
   ]
  },
  {
   "cell_type": "code",
   "execution_count": 81,
   "id": "2b814727-8f0c-4a8c-bbd9-d1dfeac92d8a",
   "metadata": {},
   "outputs": [
    {
     "name": "stdout",
     "output_type": "stream",
     "text": [
      "scores:         [0.1980706886932435, 0.16610643559268282, 0.18555526214662027, 0.17806633874074773, 0.21717947197810658]\n",
      "average score:  0.18899563943028017\n",
      "best model:     LGBMRegressor(bagging_fraction=0.9, bagging_freq=5, early_stopping_round=100,\n",
      "              feature_fraction=0.8, learning_rate=0.01, max_depth=10,\n",
      "              metric='regression', min_data_in_leaf=20, n_estimators=760,\n",
      "              num_iterations=10000, num_leaves=40, num_threads=4,\n",
      "              random_state=1)\n",
      "best index:     1\n"
     ]
    }
   ],
   "source": [
    "print(\"scores:        \", scores)\n",
    "print(\"average score: \", average_score)\n",
    "print(\"best model:    \", best_model)\n",
    "print(\"best index:    \", best_index)"
   ]
  },
  {
   "cell_type": "code",
   "execution_count": 92,
   "id": "3812cf26-7972-4c5b-9f6e-7bb5cbbc77b9",
   "metadata": {},
   "outputs": [
    {
     "name": "stdout",
     "output_type": "stream",
     "text": [
      "[LightGBM] [Warning] feature_fraction is set=0.8, colsample_bytree=1.0 will be ignored. Current value: feature_fraction=0.8\n",
      "[LightGBM] [Warning] min_data_in_leaf is set=20, min_child_samples=20 will be ignored. Current value: min_data_in_leaf=20\n",
      "[LightGBM] [Warning] bagging_fraction is set=0.9, subsample=1.0 will be ignored. Current value: bagging_fraction=0.9\n",
      "[LightGBM] [Warning] num_threads is set=4, n_jobs=-1 will be ignored. Current value: num_threads=4\n",
      "[LightGBM] [Warning] bagging_freq is set=5, subsample_freq=0 will be ignored. Current value: bagging_freq=5\n"
     ]
    }
   ],
   "source": [
    "model_no_cv.fit(train_labels.drop(['area_total'],axis=1),np.log(price_per_square_meter))\n",
    "predict_and_store(model_no_cv, test_labels.drop(['area_total'],axis=1), test, path=\".\\submissions\\LGBM7.1.csv\", exponential=True, price_per_sq = True, total_area_df = test['area_total'])"
   ]
  },
  {
   "cell_type": "code",
   "execution_count": null,
   "id": "45547742-9aa3-4724-811c-dcb233988abd",
   "metadata": {},
   "outputs": [],
   "source": [
    "train_labels.columns"
   ]
  },
  {
   "cell_type": "code",
   "execution_count": 93,
   "id": "d1adf313-e2b1-454c-b474-c7d020d3e711",
   "metadata": {},
   "outputs": [
    {
     "data": {
      "image/png": "[encoded data removed]",
      "text/plain": [
       "<Figure size 720x1440 with 1 Axes>"
      ]
     },
     "metadata": {
      "needs_background": "light"
     },
     "output_type": "display_data"
    }
   ],
   "source": [
    "lgbm_importances = model_no_cv.feature_importances_\n",
    "plot_feature_importance(lgbm_importances, list(train_labels.drop(['area_total'],axis=1).columns), 'LightGBM All Features: ')"
   ]
  },
  {
   "cell_type": "code",
   "execution_count": 94,
   "id": "8b60b4d5-a9da-4230-93e8-d9ef862a7184",
   "metadata": {},
   "outputs": [],
   "source": [
    "selected_features=[]\n",
    "for i in range(0,len(lgbm_importances)):\n",
    "    if lgbm_importances[i] > 100:\n",
    "        features = (train_labels.columns)\n",
    "        selected_features += [features[i]]\n"
   ]
  },
  {
   "cell_type": "code",
   "execution_count": 99,
   "id": "ea826190-9bfb-4fc4-915c-418754c497cf",
   "metadata": {},
   "outputs": [],
   "source": [
    "if 'building_id' not in selected_features:\n",
    "    selected_features_building_id = selected_features + ['building_id']\n",
    "else:\n",
    "    selected_features_building_id = selected_features"
   ]
  },
  {
   "cell_type": "code",
   "execution_count": 112,
   "id": "1b62489d-577b-438f-a13b-17047ea89da0",
   "metadata": {},
   "outputs": [],
   "source": [
    "train_labels_selected = train_labels[selected_features_building_id]\n",
    "test_labels_selected = test_labels[selected_features_building_id]"
   ]
  },
  {
   "cell_type": "code",
   "execution_count": 103,
   "id": "86cf71aa-0596-44b4-bbe7-44c643c6c9b8",
   "metadata": {},
   "outputs": [],
   "source": [
    "%%capture --no-display\n",
    "scores, average_score, best_model, best_index = lgbm_groupKFold(\n",
    "    number_of_splits=number_of_splits,\n",
    "    model=model,\n",
    "    X_train=train_labels_selected.drop(['area_total'],axis=1), \n",
    "    y_train=np.log(price_per_square_meter))"
   ]
  },
  {
   "cell_type": "code",
   "execution_count": 104,
   "id": "c2d4d651-49d8-451d-881f-0b8ea0ae8c00",
   "metadata": {},
   "outputs": [
    {
     "name": "stdout",
     "output_type": "stream",
     "text": [
      "scores:         [0.19409646824943821, 0.16751205935126726, 0.1884044522300174, 0.17605024271549852, 0.22049344263989726]\n",
      "average score:  0.18931133303722375\n",
      "best model:     LGBMRegressor(bagging_fraction=0.9, bagging_freq=5, early_stopping_round=100,\n",
      "              feature_fraction=0.8, learning_rate=0.01, max_depth=10,\n",
      "              metric='regression', min_data_in_leaf=20, n_estimators=760,\n",
      "              num_iterations=10000, num_leaves=40, num_threads=4,\n",
      "              random_state=1)\n",
      "best index:     1\n"
     ]
    }
   ],
   "source": [
    "print(\"scores:        \", scores)\n",
    "print(\"average score: \", average_score)\n",
    "print(\"best model:    \", best_model)\n",
    "print(\"best index:    \", best_index)"
   ]
  },
  {
   "cell_type": "code",
   "execution_count": 113,
   "id": "0b99c98a-086d-4040-910b-466703394bea",
   "metadata": {},
   "outputs": [
    {
     "name": "stdout",
     "output_type": "stream",
     "text": [
      "[LightGBM] [Warning] feature_fraction is set=0.8, colsample_bytree=1.0 will be ignored. Current value: feature_fraction=0.8\n",
      "[LightGBM] [Warning] min_data_in_leaf is set=20, min_child_samples=20 will be ignored. Current value: min_data_in_leaf=20\n",
      "[LightGBM] [Warning] bagging_fraction is set=0.9, subsample=1.0 will be ignored. Current value: bagging_fraction=0.9\n",
      "[LightGBM] [Warning] num_threads is set=4, n_jobs=-1 will be ignored. Current value: num_threads=4\n",
      "[LightGBM] [Warning] bagging_freq is set=5, subsample_freq=0 will be ignored. Current value: bagging_freq=5\n"
     ]
    }
   ],
   "source": [
    "model_no_cv.fit(train_labels_selected.drop(['area_total'],axis=1),np.log(price_per_square_meter))\n",
    "predict_and_store(model_no_cv, test_labels_selected.drop(['area_total'],axis=1), test, path=\".\\submissions\\LGBM7.2.csv\", exponential=True, price_per_sq = True, total_area_df = test['area_total'])"
   ]
  },
  {
   "cell_type": "code",
   "execution_count": null,
   "id": "3ac244de-d1ae-4bc0-b872-24bf640548c1",
   "metadata": {},
   "outputs": [],
   "source": []
  },
  {
   "cell_type": "code",
   "execution_count": null,
   "id": "9d220945-deb5-4aa5-b67c-6e75b4742f78",
   "metadata": {},
   "outputs": [],
   "source": []
  },
  {
   "cell_type": "code",
   "execution_count": null,
   "id": "ecb9da7c-f50a-4b2d-a0df-1ed032ab5d9b",
   "metadata": {},
   "outputs": [],
   "source": []
  }
 ],
 "metadata": {
  "interpreter": {
   "hash": "2be5faf79681da6f2a61fdfdd5405d65d042280f7fba6178067603e3a2925119"
  },
  "kernelspec": {
   "display_name": "Python 3",
   "language": "python",
   "name": "python3"
  },
  "language_info": {
   "codemirror_mode": {
    "name": "ipython",
    "version": 3
   },
   "file_extension": ".py",
   "mimetype": "text/x-python",
   "name": "python",
   "nbconvert_exporter": "python",
   "pygments_lexer": "ipython3",
   "version": "3.8.8"
  }
 },
 "nbformat": 4,
 "nbformat_minor": 5
}
