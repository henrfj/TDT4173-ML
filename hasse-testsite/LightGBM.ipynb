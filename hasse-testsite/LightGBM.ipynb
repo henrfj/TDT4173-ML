{
 "cells": [
  {
   "cell_type": "code",
   "execution_count": 35,
   "id": "72c80722-8bb2-458b-be67-fc828b9ab52d",
   "metadata": {},
   "outputs": [],
   "source": [
    "%run ../common_utils.py"
   ]
  },
  {
   "cell_type": "code",
   "execution_count": 6,
   "id": "fb92ec11-b2cc-4ea3-9a79-c3989ec061a4",
   "metadata": {},
   "outputs": [],
   "source": [
    "import lightgbm as lgbm"
   ]
  },
  {
   "cell_type": "markdown",
   "id": "e75c9931-3104-4925-85e1-e0dfb857b608",
   "metadata": {},
   "source": [
    "# Parameter Tuning\n",
    "\n",
    "## Parameters and defaults:\n",
    " * Regularization:\n",
    "    * reg_lambda (L2) = 0\n",
    "    * reg_alpha (L1) = 0\n",
    "    * num_leaves = 31\n",
    "    * subsample = 1\n",
    "    * max_depth = -1\n",
    "* Training\n",
    "    * n_estimators = 100\n",
    "    * early_stopping_rounds = None\n",
    "    * categorical_feature (don't use one hot!) = 'auto'\n",
    "    * learning_rate = eta = 0.1\n",
    "* Reproducability\n",
    "    * random_state = None"
   ]
  },
  {
   "cell_type": "markdown",
   "id": "e88c2b43-7fdc-4fe3-9c9c-660aeac90bc3",
   "metadata": {},
   "source": [
    "# Load Data"
   ]
  },
  {
   "cell_type": "code",
   "execution_count": 9,
   "id": "07dab9fe-2027-4140-aa98-fb8b9c94f450",
   "metadata": {},
   "outputs": [],
   "source": [
    "def load_data():\n",
    "    train, test, metadata = load_all_data()\n",
    "    nonCategorical, categorical = get_cat_and_non_cat_data(metadata)\n",
    "    categorical.remove('district')\n",
    "    all_features = list(train.columns)\n",
    "    all_features.remove('price')\n",
    "    numerical_features = ['area_total','area_kitchen','area_living','floor','rooms','ceiling',\n",
    "        'bathrooms_shared','bathrooms_private','balconies','loggias','phones','building_id','constructed','stories']\n",
    "    categorical_to_numerical(train, ['street','address'])\n",
    "    categorical_to_numerical(test, ['street','address'])\n",
    "    X_train, y_train, test_labels = pre_process_numerical(features = all_features, numerical_features = numerical_features, train = train, test = test,\n",
    "                        outliers_value=7, val_data=False, val_split=0.0, random_state=42, scaler=\"std\",\n",
    "                        add_R=\"True\", add_rel_height=\"True\", droptable=[],\n",
    "                        one_hot_encode=False, cat_features=categorical, drop_old=True)\n",
    "\n",
    "    y_train_log = np.log(y_train)\n",
    "    return X_train, y_train, y_train_log, test_labels"
   ]
  },
  {
   "cell_type": "code",
   "execution_count": 10,
   "id": "b456e1a1-552f-444c-8178-c457ecb00fd9",
   "metadata": {},
   "outputs": [],
   "source": [
    "X_train, y_train, y_train_log, test_labels = load_data()"
   ]
  },
  {
   "cell_type": "markdown",
   "id": "6a3ddc33-1655-4c7a-9a41-a580fd4bcc64",
   "metadata": {},
   "source": [
    "# Different models"
   ]
  },
  {
   "cell_type": "code",
   "execution_count": 7,
   "id": "2b4f5673-6e57-44b0-ae05-0bb04765acd7",
   "metadata": {},
   "outputs": [],
   "source": [
    "lgbm1 = lgbm.LGBMRegressor(\n",
    "    num_leaves=10,\n",
    "    max_depth=5, \n",
    "    random_state=42, \n",
    "    silent=True, \n",
    "    metric='mse',\n",
    "    n_jobs=4, \n",
    "    n_estimators=2000,\n",
    "    colsample_bytree=0.95,\n",
    "    subsample=0.9,\n",
    "    learning_rate=0.05\n",
    ")"
   ]
  },
  {
   "cell_type": "code",
   "execution_count": null,
   "id": "b3fcf947-52b9-41d9-af5a-b954fa9e4300",
   "metadata": {},
   "outputs": [],
   "source": []
  },
  {
   "cell_type": "code",
   "execution_count": null,
   "id": "1983578e-c1d8-4acf-8a04-775e9cc407ae",
   "metadata": {},
   "outputs": [],
   "source": []
  },
  {
   "cell_type": "markdown",
   "id": "ee7dcb4f-7710-4743-afbb-cfe391b7357b",
   "metadata": {},
   "source": [
    "# Select features and perform cross validation"
   ]
  },
  {
   "cell_type": "code",
   "execution_count": 27,
   "id": "32c7c69f-e8f6-48a5-8880-c7a51955b805",
   "metadata": {},
   "outputs": [],
   "source": [
    "selected_features = ['area_total','area_kitchen','floor','bathrooms_private',\n",
    "            'r','district','constructed','stories','rel_height','parking','building_id']\n",
    "X_train_selected = X_train[selected_features]"
   ]
  },
  {
   "cell_type": "code",
   "execution_count": 31,
   "id": "c03c6b6f-75c5-4b35-a88c-9ddbbb1a71f4",
   "metadata": {},
   "outputs": [],
   "source": [
    "%%capture --no-display\n",
    "\n",
    "number_splits = 5\n",
    "\n",
    "scores, average_score, best_model, best_index = lgbm_groupKFold(\n",
    "    number_of_splits=number_splits,\n",
    "    model=lgbm1,\n",
    "    X_train=X_train_selected, \n",
    "    y_train=y_train_log)"
   ]
  },
  {
   "cell_type": "code",
   "execution_count": 32,
   "id": "9cc1267b-cdc1-406d-a702-173e21cbbc37",
   "metadata": {},
   "outputs": [
    {
     "name": "stdout",
     "output_type": "stream",
     "text": [
      "scores:  [0.23472800746853872, 0.22887643149785344, 0.20719755838490833, 0.23352677808408173, 0.24369446889177043]\n",
      "average score:  0.2296046488654305\n",
      "best model:  LGBMRegressor(colsample_bytree=0.95, learning_rate=0.05, max_depth=5,\n",
      "              metric='mse', n_estimators=2000, n_jobs=4, num_leaves=10,\n",
      "              random_state=42, subsample=0.9)\n",
      "best index:  2\n"
     ]
    }
   ],
   "source": [
    "print(\"scores: \", scores)\n",
    "print(\"average score: \", average_score)\n",
    "print(\"best model: \", best_model)\n",
    "print(\"best index: \", best_index)"
   ]
  },
  {
   "cell_type": "code",
   "execution_count": 36,
   "id": "77db6f7d-0f99-4284-aa96-45f0091054b2",
   "metadata": {},
   "outputs": [],
   "source": [
    "predict_and_store(best_model, test_labels[selected_features], test_labels, path=\".\\submissions\\LGBM3.0.csv\", exponential=True)"
   ]
  },
  {
   "cell_type": "code",
   "execution_count": null,
   "id": "35c13cfb-3311-4bf9-a649-022223578506",
   "metadata": {},
   "outputs": [],
   "source": []
  }
 ],
 "metadata": {
  "kernelspec": {
   "display_name": "Python 3",
   "language": "python",
   "name": "python3"
  },
  "language_info": {
   "codemirror_mode": {
    "name": "ipython",
    "version": 3
   },
   "file_extension": ".py",
   "mimetype": "text/x-python",
   "name": "python",
   "nbconvert_exporter": "python",
   "pygments_lexer": "ipython3",
   "version": "3.8.8"
  }
 },
 "nbformat": 4,
 "nbformat_minor": 5
}
