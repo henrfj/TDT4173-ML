{
 "cells": [
  {
   "cell_type": "code",
   "execution_count": 1,
   "id": "72c80722-8bb2-458b-be67-fc828b9ab52d",
   "metadata": {},
   "outputs": [],
   "source": [
    "%run ../common_utils.py"
   ]
  },
  {
   "cell_type": "code",
   "execution_count": 2,
   "id": "fb92ec11-b2cc-4ea3-9a79-c3989ec061a4",
   "metadata": {},
   "outputs": [],
   "source": [
    "import lightgbm as lgbm\n",
    "from sklearn.metrics import make_scorer"
   ]
  },
  {
   "cell_type": "markdown",
   "id": "404fc1bc-914a-462b-a603-252e1c4bf2ce",
   "metadata": {},
   "source": [
    "## Global parameters"
   ]
  },
  {
   "cell_type": "code",
   "execution_count": 3,
   "id": "0d37c818-6dc4-4f28-9ac4-ab3a1bddce0c",
   "metadata": {},
   "outputs": [],
   "source": [
    "random_state = 1"
   ]
  },
  {
   "cell_type": "markdown",
   "id": "e75c9931-3104-4925-85e1-e0dfb857b608",
   "metadata": {},
   "source": [
    "# Parameter Tuning\n",
    "\n",
    "## Parameters and defaults:\n",
    " * Regularization:\n",
    "    * reg_lambda (L2) = 0\n",
    "    * reg_alpha (L1) = 0\n",
    "    * num_leaves = 31\n",
    "    * subsample = 1\n",
    "    * max_depth = -1\n",
    "* Training\n",
    "    * n_estimators = 100\n",
    "    * early_stopping_rounds = None\n",
    "    * categorical_feature (don't use one hot!) = 'auto'\n",
    "    * learning_rate = eta = 0.1\n",
    "* Reproducability\n",
    "    * random_state = None"
   ]
  },
  {
   "cell_type": "markdown",
   "id": "e88c2b43-7fdc-4fe3-9c9c-660aeac90bc3",
   "metadata": {},
   "source": [
    "# Load Data"
   ]
  },
  {
   "cell_type": "code",
   "execution_count": 4,
   "id": "07dab9fe-2027-4140-aa98-fb8b9c94f450",
   "metadata": {},
   "outputs": [],
   "source": [
    "def load_data(val_data=False):\n",
    "    train, test, metadata = load_all_data()\n",
    "    nonCategorical, categorical = get_cat_and_non_cat_data(metadata)\n",
    "    categorical.remove('district')\n",
    "    all_features = list(train.columns)\n",
    "    all_features.remove('price')\n",
    "    numerical_features = ['area_total','area_kitchen','area_living','floor','rooms','ceiling',\n",
    "        'bathrooms_shared','bathrooms_private','balconies','loggias','phones','building_id','constructed','stories']\n",
    "    categorical_to_numerical(train, ['street','address'])\n",
    "    categorical_to_numerical(test, ['street','address'])\n",
    "    if not val_data:\n",
    "        X_train, y_train, test_labels = pre_process_numerical(features = all_features, numerical_features = numerical_features, train = train, test = test,\n",
    "                            outliers_value=7, val_data=val_data, val_split=0.2, random_state=42, scaler=\"std\",\n",
    "                            add_R=\"True\", add_rel_height=\"True\", droptable=[],\n",
    "                            one_hot_encode=False, cat_features=categorical, drop_old=True)\n",
    "        y_train_log = np.log(y_train)\n",
    "        return X_train, y_train, y_train_log, test_labels\n",
    "    else:\n",
    "        X_train, y_train, X_test, y_test, test_labels = pre_process_numerical(features = all_features, numerical_features = numerical_features, train = train, test = test,\n",
    "                            outliers_value=7, val_data=val_data, val_split=0.2, random_state=42, scaler=\"std\",\n",
    "                            add_R=\"True\", add_rel_height=\"True\", droptable=[],\n",
    "                            one_hot_encode=False, cat_features=categorical, drop_old=True)\n",
    "        y_train_log = np.log(y_train)\n",
    "        return X_train, y_train, y_train_log, X_test, y_test, test_labels\n"
   ]
  },
  {
   "cell_type": "code",
   "execution_count": 5,
   "id": "b456e1a1-552f-444c-8178-c457ecb00fd9",
   "metadata": {},
   "outputs": [
    {
     "name": "stdout",
     "output_type": "stream",
     "text": [
      "Std\n"
     ]
    }
   ],
   "source": [
    "X_train, y_train, y_train_log, test_labels = load_data()"
   ]
  },
  {
   "cell_type": "markdown",
   "id": "6a3ddc33-1655-4c7a-9a41-a580fd4bcc64",
   "metadata": {},
   "source": [
    "# Different models"
   ]
  },
  {
   "cell_type": "code",
   "execution_count": 6,
   "id": "2b4f5673-6e57-44b0-ae05-0bb04765acd7",
   "metadata": {},
   "outputs": [],
   "source": [
    "lgbm1 = lgbm.LGBMRegressor(\n",
    "    num_leaves=10,\n",
    "    max_depth=5, \n",
    "    random_state=42, \n",
    "    silent=True, \n",
    "    metric='mse',\n",
    "    n_jobs=4, \n",
    "    num_iterations=2000,\n",
    "    colsample_bytree=0.95,\n",
    "    subsample=0.9,\n",
    "    learning_rate=0.05\n",
    ")"
   ]
  },
  {
   "cell_type": "code",
   "execution_count": 7,
   "id": "b3fcf947-52b9-41d9-af5a-b954fa9e4300",
   "metadata": {},
   "outputs": [],
   "source": [
    "lgbm2 = lgbm.LGBMRegressor(\n",
    "    random_state=33,\n",
    "    early_stopping_rounds = 10,\n",
    "    num_iterations=10000\n",
    ")"
   ]
  },
  {
   "cell_type": "code",
   "execution_count": 8,
   "id": "1983578e-c1d8-4acf-8a04-775e9cc407ae",
   "metadata": {},
   "outputs": [],
   "source": [
    "lgbm3 = lgbm.LGBMRegressor(\n",
    "    num_leaves=40,\n",
    "    max_depth=10, \n",
    "    random_state=42, \n",
    "    silent=True, \n",
    "    metric='regression',\n",
    "    num_threads=4, \n",
    "    num_iterations=10000,\n",
    "    feature_fraction=0.8,\n",
    "    bagging_fraction=0.9,\n",
    "    bagging_freq=5,\n",
    "    learning_rate=0.05,\n",
    "    early_stopping_round=20\n",
    ")"
   ]
  },
  {
   "cell_type": "markdown",
   "id": "ee7dcb4f-7710-4743-afbb-cfe391b7357b",
   "metadata": {},
   "source": [
    "# Select features and perform cross validation"
   ]
  },
  {
   "cell_type": "code",
   "execution_count": 9,
   "id": "32c7c69f-e8f6-48a5-8880-c7a51955b805",
   "metadata": {},
   "outputs": [],
   "source": [
    "selected_features = ['area_total','area_kitchen','floor','bathrooms_private',\n",
    "            'r','district','constructed','stories','rel_height','parking','building_id']\n",
    "X_train_selected = X_train[selected_features]"
   ]
  },
  {
   "cell_type": "markdown",
   "id": "68e13626-9d8f-4e6a-bb51-6ce8d4454330",
   "metadata": {},
   "source": [
    "## LGBM1"
   ]
  },
  {
   "cell_type": "code",
   "execution_count": 10,
   "id": "c03c6b6f-75c5-4b35-a88c-9ddbbb1a71f4",
   "metadata": {},
   "outputs": [],
   "source": [
    "%%capture --no-display\n",
    "\n",
    "number_splits = 5\n",
    "\n",
    "scores, average_score, best_model, best_index = lgbm_groupKFold(\n",
    "    number_of_splits=number_splits,\n",
    "    model=lgbm1,\n",
    "    X_train=X_train_selected, \n",
    "    y_train=y_train_log,\n",
    ")"
   ]
  },
  {
   "cell_type": "code",
   "execution_count": 11,
   "id": "9cc1267b-cdc1-406d-a702-173e21cbbc37",
   "metadata": {},
   "outputs": [
    {
     "name": "stdout",
     "output_type": "stream",
     "text": [
      "scores:         [0.23472800746853872, 0.22887643149785344, 0.20719755838490833, 0.23352677808408173, 0.24369446889177043]\n",
      "average score:  0.2296046488654305\n",
      "best model:     LGBMRegressor(colsample_bytree=0.95, learning_rate=0.05, max_depth=5,\n",
      "              metric='mse', n_jobs=4, num_iterations=2000, num_leaves=10,\n",
      "              random_state=42, subsample=0.9)\n",
      "best index:     2\n"
     ]
    }
   ],
   "source": [
    "print(\"scores:        \", scores)\n",
    "print(\"average score: \", average_score)\n",
    "print(\"best model:    \", best_model)\n",
    "print(\"best index:    \", best_index)"
   ]
  },
  {
   "cell_type": "code",
   "execution_count": 12,
   "id": "77db6f7d-0f99-4284-aa96-45f0091054b2",
   "metadata": {},
   "outputs": [],
   "source": [
    "# predict_and_store(best_model, test_labels[selected_features], test_labels, path=\".\\submissions\\LGBM3.0.csv\", exponential=True)"
   ]
  },
  {
   "cell_type": "markdown",
   "id": "90f5ec27-e2be-403a-abb5-5e8164b57b1e",
   "metadata": {},
   "source": [
    "## LGBM2 "
   ]
  },
  {
   "cell_type": "code",
   "execution_count": 13,
   "id": "a1705199-5375-4db4-b385-0b059bc7cd93",
   "metadata": {},
   "outputs": [],
   "source": [
    "%%capture --no-display\n",
    "\n",
    "number_splits = 5\n",
    "\n",
    "scores, average_score, best_model, best_index = lgbm_groupKFold(\n",
    "    number_of_splits=number_splits,\n",
    "    model=lgbm2,\n",
    "    X_train=X_train_selected, \n",
    "    y_train=y_train_log)"
   ]
  },
  {
   "cell_type": "code",
   "execution_count": 14,
   "id": "48640e7b-33d7-42e2-b18e-13fca53b7962",
   "metadata": {},
   "outputs": [
    {
     "name": "stdout",
     "output_type": "stream",
     "text": [
      "scores:         [0.22651257767456692, 0.2353128963600227, 0.21032635729741744, 0.22784189465539958, 0.24042514218130573]\n",
      "average score:  0.2280837736337425\n",
      "best model:     LGBMRegressor(early_stopping_rounds=10, num_iterations=10000, random_state=33)\n",
      "best index:     2\n"
     ]
    }
   ],
   "source": [
    "print(\"scores:        \", scores)\n",
    "print(\"average score: \", average_score)\n",
    "print(\"best model:    \", best_model)\n",
    "print(\"best index:    \", best_index)"
   ]
  },
  {
   "cell_type": "markdown",
   "id": "219172c6-3114-4298-9b30-cf4682ac764f",
   "metadata": {},
   "source": [
    "## LGBM3"
   ]
  },
  {
   "cell_type": "code",
   "execution_count": 15,
   "id": "89730547-785a-46a6-bdc9-b467992066f0",
   "metadata": {},
   "outputs": [],
   "source": [
    "%%capture --no-display\n",
    "\n",
    "number_splits = 5\n",
    "\n",
    "scores, average_score, best_model, best_index = lgbm_groupKFold(\n",
    "    number_of_splits=number_splits,\n",
    "    model=lgbm3,\n",
    "    X_train=X_train_selected, \n",
    "    y_train=y_train_log)"
   ]
  },
  {
   "cell_type": "code",
   "execution_count": 16,
   "id": "8818b984-d762-4529-918b-36bb9e8cdfd0",
   "metadata": {},
   "outputs": [
    {
     "name": "stdout",
     "output_type": "stream",
     "text": [
      "scores:         [0.23185107984399478, 0.22446232592298868, 0.20850908530040685, 0.22853958860850024, 0.2407515034729897]\n",
      "average score:  0.22682271662977604\n",
      "best model:     LGBMRegressor(bagging_fraction=0.9, bagging_freq=5, early_stopping_round=20,\n",
      "              feature_fraction=0.8, learning_rate=0.05, max_depth=10,\n",
      "              metric='regression', num_iterations=10000, num_leaves=40,\n",
      "              num_threads=4, random_state=42)\n",
      "best index:     2\n"
     ]
    }
   ],
   "source": [
    "print(\"scores:        \", scores)\n",
    "print(\"average score: \", average_score)\n",
    "print(\"best model:    \", best_model)\n",
    "print(\"best index:    \", best_index)"
   ]
  },
  {
   "cell_type": "markdown",
   "id": "b99d9b0d-dd26-4d7e-811f-e33e745f1e71",
   "metadata": {},
   "source": [
    "# Scikit-learn random grid search with cross validation"
   ]
  },
  {
   "cell_type": "code",
   "execution_count": null,
   "id": "4b90d0fb-945b-4083-9be0-3b2f62a6a708",
   "metadata": {},
   "outputs": [],
   "source": [
    "from sklearn.model_selection import RandomizedSearchCV\n",
    "from scipy.stats import uniform\n",
    "\n",
    "lgbm4 = lgbm.LGBMRegressor(\n",
    "    random_state=42, \n",
    "    silent=True, \n",
    "    metric='regression',\n",
    "    num_threads=4, \n",
    ")\n",
    "\n",
    "\n",
    "\n",
    "learning_rate=0.05,\n",
    "\n",
    "\n",
    "distributions = dict(num_iterations = np.logspace(2,5,10).astype(int),\n",
    "                     num_leaves = np.linspace(10,50,21).astype(int),\n",
    "                     max_depth = np.linspace(5,19,8).astype(int),\n",
    "                     feature_fraction = np.arange(0.7,0.999,0.05),\n",
    "                     bagging_fraction = np.arange(0.7,0.999,0.05),\n",
    "                     bagging_freq = np.arange(1,11,1),\n",
    "                     learning_rate = np.geomspace(0.001,0.1,10))\n",
    "\n",
    "clf = RandomizedSearchCV(lgbm4, distributions, random_state=42, scoring=custom_asymmetric_eval)\n",
    "\n",
    "groups = X_train[\"building_id\"]\n",
    "\n",
    "search = clf.fit(  \n",
    "    X=X_train_selected, \n",
    "    y=y_train_log, \n",
    "    groups=groups)\n",
    "\n",
    "search.best_params_"
   ]
  },
  {
   "cell_type": "code",
   "execution_count": null,
   "id": "ecfc10d2-d396-42c8-8ed0-0657f7398aa1",
   "metadata": {},
   "outputs": [],
   "source": [
    "search.best_estimator_"
   ]
  },
  {
   "cell_type": "code",
   "execution_count": null,
   "id": "b90b1b11-1f0c-4ec7-a29a-46a2db22e01a",
   "metadata": {},
   "outputs": [],
   "source": []
  },
  {
   "cell_type": "code",
   "execution_count": null,
   "id": "c9d61b6c-dea6-41f7-836b-bc9ef5514e27",
   "metadata": {},
   "outputs": [],
   "source": []
  },
  {
   "cell_type": "code",
   "execution_count": null,
   "id": "c21fdc15-91cc-4a32-8738-015b21693330",
   "metadata": {},
   "outputs": [],
   "source": [
    "lgbm5 = lgbm.LGBMRegressor(\n",
    "  bagging_fraction=0.75, bagging_freq=7,\n",
    "  feature_fraction=0.9000000000000001,\n",
    "  learning_rate=0.03593813663804626, max_depth=13,\n",
    "  metric='regression', num_iterations=10000, num_leaves=44,\n",
    "  num_threads=4, random_state=42\n",
    ")"
   ]
  },
  {
   "cell_type": "code",
   "execution_count": null,
   "id": "bac4364d-7d6b-4f59-88e2-453899565cd9",
   "metadata": {},
   "outputs": [],
   "source": [
    "%%capture --no-display\n",
    "\n",
    "number_splits = 5\n",
    "\n",
    "scores, average_score, best_model, best_index = lgbm_groupKFold(\n",
    "    number_of_splits=number_splits,\n",
    "    model=lgbm5,\n",
    "    X_train=X_train_selected, \n",
    "    y_train=y_train_log)"
   ]
  },
  {
   "cell_type": "code",
   "execution_count": null,
   "id": "4115d357-7821-4986-b2bf-a27d190e3a47",
   "metadata": {
    "tags": []
   },
   "outputs": [],
   "source": [
    "print(\"scores:        \", scores)\n",
    "print(\"average score: \", average_score)\n",
    "print(\"best model:    \", best_model)\n",
    "print(\"best index:    \", best_index)"
   ]
  },
  {
   "cell_type": "code",
   "execution_count": null,
   "id": "fbaa7a86-50e3-479c-84ad-028611cccee0",
   "metadata": {},
   "outputs": [],
   "source": []
  },
  {
   "cell_type": "code",
   "execution_count": null,
   "id": "e51d81b5-f134-409b-bb46-43bb73233663",
   "metadata": {},
   "outputs": [],
   "source": [
    "lgbm6 = lgbm.LGBMRegressor(\n",
    "  bagging_fraction=0.75, bagging_freq=7,\n",
    "  feature_fraction=0.9000000000000001,\n",
    "  learning_rate=0.03593813663804626, max_depth=13,\n",
    "  metric='regression', num_iterations=10000, num_leaves=44,\n",
    "  num_threads=4, random_state=42, early_stopping_rounds=10\n",
    ")"
   ]
  },
  {
   "cell_type": "code",
   "execution_count": null,
   "id": "b01e3ad2-c61b-48a3-adb0-4c417649d864",
   "metadata": {},
   "outputs": [],
   "source": [
    "%%capture --no-display\n",
    "\n",
    "number_splits = 5\n",
    "\n",
    "scores, average_score, best_model, best_index = lgbm_groupKFold(\n",
    "    number_of_splits=number_splits,\n",
    "    model=lgbm6,\n",
    "    X_train=X_train_selected, \n",
    "    y_train=y_train_log)"
   ]
  },
  {
   "cell_type": "code",
   "execution_count": null,
   "id": "c8f92b8e-bee9-4003-b8bc-a730c271fa51",
   "metadata": {},
   "outputs": [],
   "source": [
    "print(\"scores:        \", scores)\n",
    "print(\"average score: \", average_score)\n",
    "print(\"best model:    \", best_model)\n",
    "print(\"best index:    \", best_index)"
   ]
  },
  {
   "cell_type": "code",
   "execution_count": null,
   "id": "70b7ea25-653e-42b6-806b-3bb12b8f4552",
   "metadata": {},
   "outputs": [],
   "source": []
  },
  {
   "cell_type": "code",
   "execution_count": null,
   "id": "902417ce-40db-4f20-8397-4b06360809c0",
   "metadata": {},
   "outputs": [],
   "source": [
    "%%capture --no-display\n",
    "\n",
    "lgbm7 = lgbm.LGBMRegressor(\n",
    "    random_state=42, \n",
    "    silent=True, \n",
    "    metric='regression',\n",
    "    num_threads=4, \n",
    ")\n",
    "\n",
    "\n",
    "\n",
    "\n",
    "\n",
    "distributions = dict(num_iterations = np.logspace(2,5,10).astype(int),\n",
    "                     num_leaves = np.linspace(10,50,21).astype(int),\n",
    "                     max_depth = np.linspace(5,19,8).astype(int),\n",
    "                     feature_fraction = np.arange(0.7,0.999,0.05),\n",
    "                     bagging_fraction = np.arange(0.7,0.999,0.05),\n",
    "                     bagging_freq = np.arange(1,11,1),\n",
    "                     learning_rate = np.geomspace(0.001,0.1,10))\n",
    "\n",
    "scorer = make_scorer(custom_asymmetric_eval, greater_is_better=False)\n",
    "clf = RandomizedSearchCV(lgbm7, distributions, random_state=42, scoring='neg_root_mean_squared_error')\n",
    "\n",
    "groups = X_train[\"building_id\"]\n",
    "\n",
    "search = clf.fit(  \n",
    "    X=X_train_selected, \n",
    "    y=y_train_log, \n",
    "    groups=groups,\n",
    "    eval_metric='neg_root_mean_squared_error')\n",
    "\n",
    "print(search.best_params_)\n",
    "print(search.best_estimator_)"
   ]
  },
  {
   "cell_type": "code",
   "execution_count": null,
   "id": "dddace52-8bfd-40b7-adb8-bb44422494b2",
   "metadata": {},
   "outputs": [],
   "source": [
    "%%capture --no-display\n",
    "\n",
    "number_splits = 5\n",
    "\n",
    "scores, average_score, best_model, best_index = lgbm_groupKFold(\n",
    "    number_of_splits=number_splits,\n",
    "    model=search.best_estimator_,\n",
    "    X_train=X_train_selected, \n",
    "    y_train=y_train_log)"
   ]
  },
  {
   "cell_type": "code",
   "execution_count": null,
   "id": "ee4a753e-34cb-4e23-ba07-12cd641e9a4c",
   "metadata": {},
   "outputs": [],
   "source": [
    "print(\"scores:        \", scores)\n",
    "print(\"average score: \", average_score)\n",
    "print(\"best model:    \", best_model)\n",
    "print(\"best index:    \", best_index)"
   ]
  },
  {
   "cell_type": "code",
   "execution_count": null,
   "id": "91cae0b3-bee3-432c-b07b-ed4d68ef4fc4",
   "metadata": {},
   "outputs": [],
   "source": []
  },
  {
   "cell_type": "code",
   "execution_count": null,
   "id": "995c9885-30be-4163-9df4-26676d589338",
   "metadata": {},
   "outputs": [],
   "source": []
  },
  {
   "cell_type": "markdown",
   "id": "ba74fb75-ce6e-4e22-9e58-6afa0521203a",
   "metadata": {},
   "source": [
    "# Manual tuning"
   ]
  },
  {
   "cell_type": "code",
   "execution_count": 17,
   "id": "deed2193-f6d6-4fe2-949d-a0fecda41fe3",
   "metadata": {},
   "outputs": [],
   "source": [
    "num_iterations = np.logspace(2,5,10).astype(int)\n",
    "num_leaves = np.linspace(10,50,21).astype(int)\n",
    "max_depth = np.linspace(5,19,8).astype(int)\n",
    "feature_fraction = np.arange(0.7,0.999,0.05)\n",
    "bagging_fraction = np.arange(0.7,0.999,0.05)\n",
    "bagging_freq = np.arange(1,11,1)\n",
    "learning_rate = np.geomspace(0.001,0.1,10)\n",
    "\n",
    "number_splits = 5"
   ]
  },
  {
   "cell_type": "code",
   "execution_count": 18,
   "id": "d0ea6892-4975-4635-a197-d4aae1a132b6",
   "metadata": {},
   "outputs": [],
   "source": [
    "lgbm8 = lgbm.LGBMRegressor(\n",
    "    random_state=random_state, \n",
    "    silent=True, \n",
    "    metric='regression',\n",
    "    num_threads=4, \n",
    ")"
   ]
  },
  {
   "cell_type": "code",
   "execution_count": null,
   "id": "0728e265-44e0-4e41-b0e7-595502d4407a",
   "metadata": {},
   "outputs": [],
   "source": [
    "# best_average_score = 1\n",
    "# for n_it in num_iterations:\n",
    "#     print(\"level 0\")\n",
    "#     for n_leaves in num_leaves:\n",
    "#         print(\"level 1\")\n",
    "#         for max_d in max_depth:\n",
    "#             for feat_frac in feature_fraction:\n",
    "#                 for bag_frac in bagging_fraction:\n",
    "#                     for bag_freq in bagging_freq:\n",
    "#                         for l_rate in learning_rate:\n",
    "#                             model = lgbm.LGBMRegressor(\n",
    "#                                         num_iterations = n_it,\n",
    "#                                         num_leaves = n_leaves,\n",
    "#                                         max_depth = max_d,\n",
    "#                                         feature_fraction = feat_frac,\n",
    "#                                         bagging_fraction = bag_frac,\n",
    "#                                         bagging_freq = bag_freq,\n",
    "#                                         learning_rate = l_rate,\n",
    "#                                         random_state=random_state, \n",
    "#                                         silent=True, \n",
    "#                                         metric='regression',\n",
    "#                                         num_threads=4, \n",
    "#                                     )\n",
    "                            \n",
    "                                          \n",
    "#                             scores, average_score, _, _ = lgbm_groupKFold(\n",
    "#                                 number_of_splits=number_splits,\n",
    "#                                 model=model,\n",
    "#                                 X_train=X_train, \n",
    "#                                 y_train=y_train_log,\n",
    "#                                 eval_metric = 'neg_root_mean_squared_error'\n",
    "#                             )\n",
    "                            \n",
    "#                             if average_score < best_average_score:\n",
    "#                                 best_average_score = average_score\n",
    "#                                 best_params = dict(\n",
    "#                                         num_iterations = n_it,\n",
    "#                                         num_leaves = n_leaves,\n",
    "#                                         max_depth = max_d,\n",
    "#                                         feature_fraction = feat_frac,\n",
    "#                                         bagging_fraction = bag_frac,\n",
    "#                                         bagging_freq = bag_freq,\n",
    "#                                         learning_rate = l_rate,\n",
    "#                                 )\n",
    "#                                 print(\">>>>>>>>>>>>>>>>>>>>>>>>>>>>>>>>>>>>>>>>>>>>>>>><<<<<<<<<<<<<<<<<<<<<<<<<<<<<<<<<<<<\")\n",
    "#                                 print(average_score)\n",
    "#                                 print(best_params)"
   ]
  },
  {
   "cell_type": "markdown",
   "id": "8fb5af14-a21e-49d8-bc2e-c8c6812632cc",
   "metadata": {},
   "source": [
    "Promising: https://towardsdatascience.com/kagglers-guide-to-lightgbm-hyperparameter-tuning-with-optuna-in-2021-ed048d9838b5"
   ]
  },
  {
   "cell_type": "code",
   "execution_count": null,
   "id": "81404d9b-da12-4831-a3d3-76328c1fcd90",
   "metadata": {},
   "outputs": [],
   "source": []
  },
  {
   "cell_type": "code",
   "execution_count": null,
   "id": "c46bb07c-8b54-41a3-bd0c-0f51aea620dc",
   "metadata": {},
   "outputs": [],
   "source": []
  },
  {
   "cell_type": "code",
   "execution_count": null,
   "id": "f89372c9-6c57-4cbe-8720-7ebc47bafd35",
   "metadata": {},
   "outputs": [],
   "source": []
  },
  {
   "cell_type": "code",
   "execution_count": null,
   "id": "ee8a04b5-41f8-49cd-a58a-925da2ba9148",
   "metadata": {},
   "outputs": [],
   "source": []
  },
  {
   "cell_type": "code",
   "execution_count": null,
   "id": "c7728494-4735-4966-8e08-cc6f8419c7a8",
   "metadata": {},
   "outputs": [],
   "source": []
  }
 ],
 "metadata": {
  "interpreter": {
   "hash": "2be5faf79681da6f2a61fdfdd5405d65d042280f7fba6178067603e3a2925119"
  },
  "kernelspec": {
   "display_name": "Python 3",
   "language": "python",
   "name": "python3"
  },
  "language_info": {
   "codemirror_mode": {
    "name": "ipython",
    "version": 3
   },
   "file_extension": ".py",
   "mimetype": "text/x-python",
   "name": "python",
   "nbconvert_exporter": "python",
   "pygments_lexer": "ipython3",
   "version": "3.8.8"
  }
 },
 "nbformat": 4,
 "nbformat_minor": 5
}
