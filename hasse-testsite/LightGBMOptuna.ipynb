{
 "cells": [
  {
   "cell_type": "code",
   "execution_count": 32,
   "id": "4a8ca182-08dc-4e65-9c4a-ef722938cf97",
   "metadata": {},
   "outputs": [],
   "source": [
    "%run ../common_utils.py\n",
    "import lightgbm as lgbm\n",
    "import optuna\n",
    "from IPython.utils import io"
   ]
  },
  {
   "cell_type": "code",
   "execution_count": 11,
   "id": "9531f0a0-a32a-492d-ac61-68f2261ddd95",
   "metadata": {},
   "outputs": [],
   "source": [
    "random_state = 1\n",
    "number_of_splits = 5"
   ]
  },
  {
   "cell_type": "code",
   "execution_count": 12,
   "id": "cf27b416-4a8f-4366-884f-4bba0030702d",
   "metadata": {},
   "outputs": [
    {
     "name": "stdout",
     "output_type": "stream",
     "text": [
      "Std\n"
     ]
    }
   ],
   "source": [
    "def load_data(val_data=False):\n",
    "    train, test, metadata = load_all_data()\n",
    "    nonCategorical, categorical = get_cat_and_non_cat_data(metadata)\n",
    "    categorical.remove('district')\n",
    "    all_features = list(train.columns)\n",
    "    all_features.remove('price')\n",
    "    numerical_features = ['area_total','area_kitchen','area_living','floor','rooms','ceiling',\n",
    "        'bathrooms_shared','bathrooms_private','balconies','loggias','phones','building_id','constructed','stories']\n",
    "    categorical_to_numerical(train, ['street','address'])\n",
    "    categorical_to_numerical(test, ['street','address'])\n",
    "    if not val_data:\n",
    "        X_train, y_train, test_labels = pre_process_numerical(features = all_features, numerical_features = numerical_features, train = train, test = test,\n",
    "                            outliers_value=7, val_data=val_data, val_split=0.2, random_state=42, scaler=\"std\",\n",
    "                            add_R=\"True\", add_rel_height=\"True\", droptable=[],\n",
    "                            one_hot_encode=False, cat_features=categorical, drop_old=True)\n",
    "        y_train_log = np.log(y_train)\n",
    "        return X_train, y_train, y_train_log, test_labels\n",
    "    else:\n",
    "        X_train, y_train, X_test, y_test, test_labels = pre_process_numerical(features = all_features, numerical_features = numerical_features, train = train, test = test,\n",
    "                            outliers_value=7, val_data=val_data, val_split=0.2, random_state=42, scaler=\"std\",\n",
    "                            add_R=\"True\", add_rel_height=\"True\", droptable=[],\n",
    "                            one_hot_encode=False, cat_features=categorical, drop_old=True)\n",
    "        y_train_log = np.log(y_train)\n",
    "        return X_train, y_train, y_train_log, X_test, y_test, test_labels\n",
    "X_train, y_train, y_train_log, test_labels = load_data()"
   ]
  },
  {
   "cell_type": "code",
   "execution_count": 50,
   "id": "06692e6c-02a1-4e8c-a603-b22e0cc7cf89",
   "metadata": {},
   "outputs": [],
   "source": [
    "from optuna.integration import LightGBMPruningCallback\n",
    "\n",
    "def objective(trial, X, y):\n",
    "    \n",
    "    param_grid = {\n",
    "        # \"device_type\": trial.suggest_categorical(\"device_type\", ['gpu']),\n",
    "        \"num_iterations\": trial.suggest_int(\"num_iterations\",1e2,1e5,log=True),\n",
    "        \"n_estimators\": trial.suggest_categorical(\"n_estimators\", [10000]),\n",
    "        \"learning_rate\": trial.suggest_float(\"learning_rate\", 0.001, 0.3,log=True),\n",
    "        \"num_leaves\": trial.suggest_int(\"num_leaves\", 20, 3000, step=20),\n",
    "        \"max_depth\": trial.suggest_int(\"max_depth\", 3, 12),\n",
    "        \"min_data_in_leaf\": trial.suggest_int(\"min_data_in_leaf\", 200, 10000, step=100),\n",
    "        \"lambda_l1\": trial.suggest_int(\"lambda_l1\", 0, 100, step=5),\n",
    "        \"lambda_l2\": trial.suggest_int(\"lambda_l2\", 0, 100, step=5),\n",
    "        \"min_gain_to_split\": trial.suggest_float(\"min_gain_to_split\", 0, 15),\n",
    "        \"bagging_fraction\": trial.suggest_float(\n",
    "            \"bagging_fraction\", 0.2, 0.95, step=0.1\n",
    "        ),\n",
    "        \"bagging_freq\": trial.suggest_categorical(\"bagging_freq\", [1]),\n",
    "        \"feature_fraction\": trial.suggest_float(\n",
    "            \"feature_fraction\", 0.2, 0.95, step=0.1\n",
    "        ),\n",
    "    }\n",
    "    \n",
    "    X_train = X\n",
    "    y_train = y\n",
    "    \n",
    "    scores = []\n",
    "        \n",
    "    cv = GroupKFold(n_splits=number_of_splits)\n",
    "    groups = X_train[\"building_id\"]\n",
    "\n",
    "    with io.capture_output() as captured:\n",
    "        for train_index, test_index in cv.split(X_train, y_train, groups):\n",
    "            X_train2, X_test = X_train.iloc[train_index], X_train.iloc[test_index]\n",
    "            y_train2, y_test = y_train.iloc[train_index], y_train.iloc[test_index]\n",
    "\n",
    "            model = lgbm.LGBMRegressor(**param_grid, random_state=random_state)\n",
    "\n",
    "            model.fit(\n",
    "                X_train2,\n",
    "                y_train2,\n",
    "                eval_set=[(X_test, y_test)],\n",
    "                eval_metric='rmse',\n",
    "                verbose=False,\n",
    "                early_stopping_rounds=100,\n",
    "                callbacks = [LightGBMPruningCallback(trial, 'rmse')],\n",
    "            )\n",
    "            prediction = np.exp(model.predict(X_test))\n",
    "            score = root_mean_squared_log_error(prediction, np.exp(y_test))\n",
    "            scores.append(score)\n",
    "    return np.average(scores)"
   ]
  },
  {
   "cell_type": "code",
   "execution_count": 51,
   "id": "897e586e-71a3-491e-88f6-f96db43ca6a3",
   "metadata": {},
   "outputs": [
    {
     "name": "stderr",
     "output_type": "stream",
     "text": [
      "\u001b[32m[I 2021-11-08 16:50:44,471]\u001b[0m A new study created in memory with name: LGBM Classifier\u001b[0m\n",
      "\u001b[32m[I 2021-11-08 16:50:52,452]\u001b[0m Trial 0 finished with value: 0.4728145117165127 and parameters: {'num_iterations': 10356, 'n_estimators': 10000, 'learning_rate': 0.014750231021632037, 'num_leaves': 880, 'max_depth': 12, 'min_data_in_leaf': 5400, 'lambda_l1': 90, 'lambda_l2': 30, 'min_gain_to_split': 10.001016608034877, 'bagging_fraction': 0.7, 'bagging_freq': 1, 'feature_fraction': 0.30000000000000004}. Best is trial 0 with value: 0.4728145117165127.\u001b[0m\n",
      "\u001b[32m[I 2021-11-08 16:50:53,138]\u001b[0m Trial 1 finished with value: 0.8433245390866679 and parameters: {'num_iterations': 12039, 'n_estimators': 10000, 'learning_rate': 0.1441497317897493, 'num_leaves': 1880, 'max_depth': 7, 'min_data_in_leaf': 8300, 'lambda_l1': 95, 'lambda_l2': 75, 'min_gain_to_split': 8.44187032554026, 'bagging_fraction': 0.2, 'bagging_freq': 1, 'feature_fraction': 0.9}. Best is trial 0 with value: 0.4728145117165127.\u001b[0m\n",
      "\u001b[32m[I 2021-11-08 16:50:53,942]\u001b[0m Trial 2 finished with value: 0.8433245390866679 and parameters: {'num_iterations': 159, 'n_estimators': 10000, 'learning_rate': 0.052859408232849146, 'num_leaves': 780, 'max_depth': 8, 'min_data_in_leaf': 5900, 'lambda_l1': 30, 'lambda_l2': 15, 'min_gain_to_split': 11.317722359039102, 'bagging_fraction': 0.5, 'bagging_freq': 1, 'feature_fraction': 0.7}. Best is trial 0 with value: 0.4728145117165127.\u001b[0m\n",
      "\u001b[32m[I 2021-11-08 16:50:54,511]\u001b[0m Trial 3 finished with value: 0.8433245390866679 and parameters: {'num_iterations': 6362, 'n_estimators': 10000, 'learning_rate': 0.28514098530708687, 'num_leaves': 2840, 'max_depth': 8, 'min_data_in_leaf': 9500, 'lambda_l1': 5, 'lambda_l2': 65, 'min_gain_to_split': 13.85300322760249, 'bagging_fraction': 0.30000000000000004, 'bagging_freq': 1, 'feature_fraction': 0.7}. Best is trial 0 with value: 0.4728145117165127.\u001b[0m\n",
      "\u001b[32m[I 2021-11-08 16:50:55,056]\u001b[0m Trial 4 finished with value: 0.8433245390866679 and parameters: {'num_iterations': 2006, 'n_estimators': 10000, 'learning_rate': 0.05697631909362453, 'num_leaves': 1700, 'max_depth': 11, 'min_data_in_leaf': 9400, 'lambda_l1': 10, 'lambda_l2': 35, 'min_gain_to_split': 1.2424116110444017, 'bagging_fraction': 0.9, 'bagging_freq': 1, 'feature_fraction': 0.6000000000000001}. Best is trial 0 with value: 0.4728145117165127.\u001b[0m\n",
      "\u001b[32m[I 2021-11-08 16:50:55,317]\u001b[0m Trial 5 pruned. Trial was pruned at iteration 101.\u001b[0m\n",
      "\u001b[32m[I 2021-11-08 16:51:03,383]\u001b[0m Trial 6 finished with value: 0.440430997017441 and parameters: {'num_iterations': 1357, 'n_estimators': 10000, 'learning_rate': 0.10989462065375363, 'num_leaves': 2620, 'max_depth': 5, 'min_data_in_leaf': 6700, 'lambda_l1': 55, 'lambda_l2': 10, 'min_gain_to_split': 1.2923010859311546, 'bagging_fraction': 0.9, 'bagging_freq': 1, 'feature_fraction': 0.4}. Best is trial 6 with value: 0.440430997017441.\u001b[0m\n",
      "\u001b[32m[I 2021-11-08 16:51:04,318]\u001b[0m Trial 7 finished with value: 0.8433245390866679 and parameters: {'num_iterations': 11469, 'n_estimators': 10000, 'learning_rate': 0.016039207025384267, 'num_leaves': 1060, 'max_depth': 5, 'min_data_in_leaf': 7600, 'lambda_l1': 70, 'lambda_l2': 100, 'min_gain_to_split': 2.6924007227705142, 'bagging_fraction': 0.5, 'bagging_freq': 1, 'feature_fraction': 0.2}. Best is trial 6 with value: 0.440430997017441.\u001b[0m\n",
      "\u001b[32m[I 2021-11-08 16:51:04,671]\u001b[0m Trial 8 pruned. Trial was pruned at iteration 101.\u001b[0m\n",
      "\u001b[32m[I 2021-11-08 16:51:04,923]\u001b[0m Trial 9 pruned. Trial was pruned at iteration 101.\u001b[0m\n",
      "\u001b[32m[I 2021-11-08 16:51:11,748]\u001b[0m Trial 10 finished with value: 0.3392458547786841 and parameters: {'num_iterations': 59177, 'n_estimators': 10000, 'learning_rate': 0.056701894871878336, 'num_leaves': 100, 'max_depth': 5, 'min_data_in_leaf': 2600, 'lambda_l1': 25, 'lambda_l2': 10, 'min_gain_to_split': 4.709159532055714, 'bagging_fraction': 0.7, 'bagging_freq': 1, 'feature_fraction': 0.5}. Best is trial 10 with value: 0.3392458547786841.\u001b[0m\n",
      "\u001b[32m[I 2021-11-08 16:51:16,640]\u001b[0m Trial 11 finished with value: 0.33769021399266197 and parameters: {'num_iterations': 81562, 'n_estimators': 10000, 'learning_rate': 0.06273037678575519, 'num_leaves': 100, 'max_depth': 5, 'min_data_in_leaf': 2500, 'lambda_l1': 30, 'lambda_l2': 0, 'min_gain_to_split': 4.988911614129778, 'bagging_fraction': 0.7, 'bagging_freq': 1, 'feature_fraction': 0.5}. Best is trial 11 with value: 0.33769021399266197.\u001b[0m\n",
      "\u001b[32m[I 2021-11-08 16:51:23,910]\u001b[0m Trial 12 finished with value: 0.34553865255936145 and parameters: {'num_iterations': 99573, 'n_estimators': 10000, 'learning_rate': 0.04229643998299875, 'num_leaves': 20, 'max_depth': 5, 'min_data_in_leaf': 2800, 'lambda_l1': 30, 'lambda_l2': 5, 'min_gain_to_split': 4.587285564174387, 'bagging_fraction': 0.7, 'bagging_freq': 1, 'feature_fraction': 0.5}. Best is trial 11 with value: 0.33769021399266197.\u001b[0m\n",
      "\u001b[32m[I 2021-11-08 16:51:24,242]\u001b[0m Trial 13 pruned. Trial was pruned at iteration 101.\u001b[0m\n",
      "\u001b[32m[I 2021-11-08 16:51:24,617]\u001b[0m Trial 14 pruned. Trial was pruned at iteration 101.\u001b[0m\n",
      "\u001b[32m[I 2021-11-08 16:51:24,964]\u001b[0m Trial 15 pruned. Trial was pruned at iteration 101.\u001b[0m\n",
      "\u001b[32m[I 2021-11-08 16:51:25,295]\u001b[0m Trial 16 pruned. Trial was pruned at iteration 101.\u001b[0m\n",
      "\u001b[32m[I 2021-11-08 16:51:25,632]\u001b[0m Trial 17 pruned. Trial was pruned at iteration 111.\u001b[0m\n",
      "\u001b[32m[I 2021-11-08 16:51:25,943]\u001b[0m Trial 18 pruned. Trial was pruned at iteration 101.\u001b[0m\n",
      "\u001b[32m[I 2021-11-08 16:51:31,080]\u001b[0m Trial 19 finished with value: 0.24273186852976608 and parameters: {'num_iterations': 533, 'n_estimators': 10000, 'learning_rate': 0.07132775528350026, 'num_leaves': 260, 'max_depth': 9, 'min_data_in_leaf': 400, 'lambda_l1': 15, 'lambda_l2': 15, 'min_gain_to_split': 0.3981077952081069, 'bagging_fraction': 0.7, 'bagging_freq': 1, 'feature_fraction': 0.30000000000000004}. Best is trial 19 with value: 0.24273186852976608.\u001b[0m\n"
     ]
    }
   ],
   "source": [
    "study = optuna.create_study(direction=\"minimize\", study_name=\"LGBM Classifier\")\n",
    "with io.capture_output() as captured:\n",
    "    func = lambda trial: objective(trial, X_train, y_train_log)\n",
    "    study.optimize(func, n_trials=20)"
   ]
  },
  {
   "cell_type": "code",
   "execution_count": 52,
   "id": "fc875b75-c020-4c8d-8ff7-a03e9a7442b8",
   "metadata": {},
   "outputs": [
    {
     "name": "stdout",
     "output_type": "stream",
     "text": [
      "\tBest value (rmse): 0.24273\n",
      "\tBest params:\n",
      "\t\tnum_iterations: 533\n",
      "\t\tn_estimators: 10000\n",
      "\t\tlearning_rate: 0.07132775528350026\n",
      "\t\tnum_leaves: 260\n",
      "\t\tmax_depth: 9\n",
      "\t\tmin_data_in_leaf: 400\n",
      "\t\tlambda_l1: 15\n",
      "\t\tlambda_l2: 15\n",
      "\t\tmin_gain_to_split: 0.3981077952081069\n",
      "\t\tbagging_fraction: 0.7\n",
      "\t\tbagging_freq: 1\n",
      "\t\tfeature_fraction: 0.30000000000000004\n"
     ]
    }
   ],
   "source": [
    "print(f\"\\tBest value (rmse): {study.best_value:.5f}\")\n",
    "print(f\"\\tBest params:\")\n",
    "\n",
    "for key, value in study.best_params.items():\n",
    "    print(f\"\\t\\t{key}: {value}\")"
   ]
  },
  {
   "cell_type": "code",
   "execution_count": 53,
   "id": "fd2e1450-61f5-44bd-9391-dedba2e61460",
   "metadata": {},
   "outputs": [
    {
     "name": "stderr",
     "output_type": "stream",
     "text": [
      "\u001b[32m[I 2021-11-08 16:51:36,354]\u001b[0m Trial 20 finished with value: 0.2625959016767369 and parameters: {'num_iterations': 562, 'n_estimators': 10000, 'learning_rate': 0.14645860434928423, 'num_leaves': 640, 'max_depth': 9, 'min_data_in_leaf': 400, 'lambda_l1': 35, 'lambda_l2': 90, 'min_gain_to_split': 0.133397776501884, 'bagging_fraction': 0.4, 'bagging_freq': 1, 'feature_fraction': 0.30000000000000004}. Best is trial 19 with value: 0.24273186852976608.\u001b[0m\n",
      "\u001b[32m[I 2021-11-08 16:51:41,907]\u001b[0m Trial 21 finished with value: 0.26510378891220715 and parameters: {'num_iterations': 615, 'n_estimators': 10000, 'learning_rate': 0.14243499371211632, 'num_leaves': 640, 'max_depth': 9, 'min_data_in_leaf': 200, 'lambda_l1': 40, 'lambda_l2': 95, 'min_gain_to_split': 0.20164301580740196, 'bagging_fraction': 0.4, 'bagging_freq': 1, 'feature_fraction': 0.30000000000000004}. Best is trial 19 with value: 0.24273186852976608.\u001b[0m\n",
      "\u001b[32m[I 2021-11-08 16:51:47,929]\u001b[0m Trial 22 finished with value: 0.27314452625984964 and parameters: {'num_iterations': 658, 'n_estimators': 10000, 'learning_rate': 0.16080169647436618, 'num_leaves': 640, 'max_depth': 9, 'min_data_in_leaf': 500, 'lambda_l1': 40, 'lambda_l2': 100, 'min_gain_to_split': 0.21596663945981615, 'bagging_fraction': 0.4, 'bagging_freq': 1, 'feature_fraction': 0.30000000000000004}. Best is trial 19 with value: 0.24273186852976608.\u001b[0m\n",
      "\u001b[32m[I 2021-11-08 16:51:52,708]\u001b[0m Trial 23 finished with value: 0.3130295982439974 and parameters: {'num_iterations': 567, 'n_estimators': 10000, 'learning_rate': 0.18232777795225988, 'num_leaves': 920, 'max_depth': 10, 'min_data_in_leaf': 1100, 'lambda_l1': 15, 'lambda_l2': 85, 'min_gain_to_split': 0.3967255793216722, 'bagging_fraction': 0.30000000000000004, 'bagging_freq': 1, 'feature_fraction': 0.30000000000000004}. Best is trial 19 with value: 0.24273186852976608.\u001b[0m\n",
      "\u001b[32m[I 2021-11-08 16:51:54,215]\u001b[0m Trial 24 finished with value: 0.2877491366256371 and parameters: {'num_iterations': 106, 'n_estimators': 10000, 'learning_rate': 0.08922430682276414, 'num_leaves': 1160, 'max_depth': 9, 'min_data_in_leaf': 200, 'lambda_l1': 50, 'lambda_l2': 85, 'min_gain_to_split': 1.91174807010092, 'bagging_fraction': 0.4, 'bagging_freq': 1, 'feature_fraction': 0.30000000000000004}. Best is trial 19 with value: 0.24273186852976608.\u001b[0m\n",
      "\u001b[32m[I 2021-11-08 16:51:54,533]\u001b[0m Trial 25 pruned. Trial was pruned at iteration 101.\u001b[0m\n",
      "\u001b[32m[I 2021-11-08 16:51:54,723]\u001b[0m Trial 26 pruned. Trial was pruned at iteration 0.\u001b[0m\n",
      "\u001b[32m[I 2021-11-08 16:51:54,916]\u001b[0m Trial 27 pruned. Trial was pruned at iteration 0.\u001b[0m\n",
      "\u001b[32m[I 2021-11-08 16:51:55,108]\u001b[0m Trial 28 pruned. Trial was pruned at iteration 2.\u001b[0m\n",
      "\u001b[32m[I 2021-11-08 16:51:55,310]\u001b[0m Trial 29 pruned. Trial was pruned at iteration 0.\u001b[0m\n",
      "\u001b[32m[I 2021-11-08 16:51:55,521]\u001b[0m Trial 30 pruned. Trial was pruned at iteration 0.\u001b[0m\n",
      "\u001b[32m[I 2021-11-08 16:52:00,441]\u001b[0m Trial 31 finished with value: 0.2620846992561248 and parameters: {'num_iterations': 521, 'n_estimators': 10000, 'learning_rate': 0.15925063289685554, 'num_leaves': 680, 'max_depth': 9, 'min_data_in_leaf': 200, 'lambda_l1': 45, 'lambda_l2': 100, 'min_gain_to_split': 0.0593298229614696, 'bagging_fraction': 0.4, 'bagging_freq': 1, 'feature_fraction': 0.30000000000000004}. Best is trial 19 with value: 0.24273186852976608.\u001b[0m\n",
      "\u001b[32m[I 2021-11-08 16:52:04,360]\u001b[0m Trial 32 finished with value: 0.2785129179153759 and parameters: {'num_iterations': 532, 'n_estimators': 10000, 'learning_rate': 0.12758514067097967, 'num_leaves': 280, 'max_depth': 10, 'min_data_in_leaf': 200, 'lambda_l1': 50, 'lambda_l2': 95, 'min_gain_to_split': 1.274295814899007, 'bagging_fraction': 0.4, 'bagging_freq': 1, 'feature_fraction': 0.2}. Best is trial 19 with value: 0.24273186852976608.\u001b[0m\n",
      "\u001b[32m[I 2021-11-08 16:52:04,540]\u001b[0m Trial 33 pruned. Trial was pruned at iteration 0.\u001b[0m\n",
      "\u001b[32m[I 2021-11-08 16:52:08,796]\u001b[0m Trial 34 finished with value: 0.26984859619933443 and parameters: {'num_iterations': 421, 'n_estimators': 10000, 'learning_rate': 0.21230062392302257, 'num_leaves': 740, 'max_depth': 7, 'min_data_in_leaf': 900, 'lambda_l1': 35, 'lambda_l2': 95, 'min_gain_to_split': 0.05180363665753429, 'bagging_fraction': 0.5, 'bagging_freq': 1, 'feature_fraction': 0.4}. Best is trial 19 with value: 0.24273186852976608.\u001b[0m\n",
      "\u001b[32m[I 2021-11-08 16:52:09,035]\u001b[0m Trial 35 pruned. Trial was pruned at iteration 37.\u001b[0m\n",
      "\u001b[32m[I 2021-11-08 16:52:09,226]\u001b[0m Trial 36 pruned. Trial was pruned at iteration 0.\u001b[0m\n",
      "\u001b[32m[I 2021-11-08 16:52:09,414]\u001b[0m Trial 37 pruned. Trial was pruned at iteration 0.\u001b[0m\n",
      "\u001b[32m[I 2021-11-08 16:52:09,686]\u001b[0m Trial 38 pruned. Trial was pruned at iteration 0.\u001b[0m\n",
      "\u001b[32m[I 2021-11-08 16:52:09,886]\u001b[0m Trial 39 pruned. Trial was pruned at iteration 0.\u001b[0m\n",
      "\u001b[32m[I 2021-11-08 16:52:10,079]\u001b[0m Trial 40 pruned. Trial was pruned at iteration 0.\u001b[0m\n",
      "\u001b[32m[I 2021-11-08 16:52:13,397]\u001b[0m Trial 41 finished with value: 0.2675890808402026 and parameters: {'num_iterations': 294, 'n_estimators': 10000, 'learning_rate': 0.26784255696606574, 'num_leaves': 680, 'max_depth': 7, 'min_data_in_leaf': 800, 'lambda_l1': 35, 'lambda_l2': 95, 'min_gain_to_split': 0.009304236918663777, 'bagging_fraction': 0.5, 'bagging_freq': 1, 'feature_fraction': 0.4}. Best is trial 19 with value: 0.24273186852976608.\u001b[0m\n",
      "\u001b[32m[I 2021-11-08 16:52:13,742]\u001b[0m Trial 42 pruned. Trial was pruned at iteration 101.\u001b[0m\n",
      "\u001b[32m[I 2021-11-08 16:52:14,086]\u001b[0m Trial 43 pruned. Trial was pruned at iteration 101.\u001b[0m\n",
      "\u001b[32m[I 2021-11-08 16:52:14,272]\u001b[0m Trial 44 pruned. Trial was pruned at iteration 0.\u001b[0m\n",
      "\u001b[32m[I 2021-11-08 16:52:14,453]\u001b[0m Trial 45 pruned. Trial was pruned at iteration 0.\u001b[0m\n",
      "\u001b[32m[I 2021-11-08 16:52:14,641]\u001b[0m Trial 46 pruned. Trial was pruned at iteration 0.\u001b[0m\n",
      "\u001b[32m[I 2021-11-08 16:52:14,832]\u001b[0m Trial 47 pruned. Trial was pruned at iteration 0.\u001b[0m\n",
      "\u001b[32m[I 2021-11-08 16:52:15,004]\u001b[0m Trial 48 pruned. Trial was pruned at iteration 0.\u001b[0m\n",
      "\u001b[32m[I 2021-11-08 16:52:16,930]\u001b[0m Trial 49 finished with value: 0.2703825895945506 and parameters: {'num_iterations': 303, 'n_estimators': 10000, 'learning_rate': 0.23709200870463643, 'num_leaves': 440, 'max_depth': 7, 'min_data_in_leaf': 600, 'lambda_l1': 20, 'lambda_l2': 70, 'min_gain_to_split': 3.68580744523596, 'bagging_fraction': 0.7, 'bagging_freq': 1, 'feature_fraction': 0.2}. Best is trial 19 with value: 0.24273186852976608.\u001b[0m\n",
      "\u001b[32m[I 2021-11-08 16:52:17,211]\u001b[0m Trial 50 pruned. Trial was pruned at iteration 69.\u001b[0m\n",
      "\u001b[32m[I 2021-11-08 16:52:21,502]\u001b[0m Trial 51 finished with value: 0.2703079572209748 and parameters: {'num_iterations': 412, 'n_estimators': 10000, 'learning_rate': 0.22481335758696389, 'num_leaves': 720, 'max_depth': 7, 'min_data_in_leaf': 900, 'lambda_l1': 40, 'lambda_l2': 95, 'min_gain_to_split': 0.03046265766645073, 'bagging_fraction': 0.5, 'bagging_freq': 1, 'feature_fraction': 0.4}. Best is trial 19 with value: 0.24273186852976608.\u001b[0m\n",
      "\u001b[32m[I 2021-11-08 16:52:21,930]\u001b[0m Trial 52 pruned. Trial was pruned at iteration 153.\u001b[0m\n",
      "\u001b[32m[I 2021-11-08 16:52:28,481]\u001b[0m Trial 53 finished with value: 0.23855344696950556 and parameters: {'num_iterations': 677, 'n_estimators': 10000, 'learning_rate': 0.1638297627426783, 'num_leaves': 400, 'max_depth': 8, 'min_data_in_leaf': 200, 'lambda_l1': 25, 'lambda_l2': 85, 'min_gain_to_split': 0.009538882474017303, 'bagging_fraction': 0.6000000000000001, 'bagging_freq': 1, 'feature_fraction': 0.30000000000000004}. Best is trial 53 with value: 0.23855344696950556.\u001b[0m\n",
      "\u001b[32m[I 2021-11-08 16:52:28,669]\u001b[0m Trial 54 pruned. Trial was pruned at iteration 0.\u001b[0m\n",
      "\u001b[32m[I 2021-11-08 16:52:28,904]\u001b[0m Trial 55 pruned. Trial was pruned at iteration 34.\u001b[0m\n",
      "\u001b[32m[I 2021-11-08 16:52:29,096]\u001b[0m Trial 56 pruned. Trial was pruned at iteration 0.\u001b[0m\n",
      "\u001b[32m[I 2021-11-08 16:52:29,297]\u001b[0m Trial 57 pruned. Trial was pruned at iteration 0.\u001b[0m\n",
      "\u001b[32m[I 2021-11-08 16:52:32,147]\u001b[0m Trial 58 finished with value: 0.26589005115276604 and parameters: {'num_iterations': 346, 'n_estimators': 10000, 'learning_rate': 0.1791175323190819, 'num_leaves': 540, 'max_depth': 11, 'min_data_in_leaf': 500, 'lambda_l1': 40, 'lambda_l2': 85, 'min_gain_to_split': 1.3435960748893674, 'bagging_fraction': 0.7, 'bagging_freq': 1, 'feature_fraction': 0.2}. Best is trial 53 with value: 0.23855344696950556.\u001b[0m\n",
      "\u001b[32m[I 2021-11-08 16:52:32,330]\u001b[0m Trial 59 pruned. Trial was pruned at iteration 0.\u001b[0m\n",
      "\u001b[32m[I 2021-11-08 16:52:34,611]\u001b[0m Trial 60 finished with value: 0.267141297036615 and parameters: {'num_iterations': 1213, 'n_estimators': 10000, 'learning_rate': 0.16680405535665582, 'num_leaves': 560, 'max_depth': 11, 'min_data_in_leaf': 400, 'lambda_l1': 25, 'lambda_l2': 85, 'min_gain_to_split': 3.1627334139310825, 'bagging_fraction': 0.8, 'bagging_freq': 1, 'feature_fraction': 0.2}. Best is trial 53 with value: 0.23855344696950556.\u001b[0m\n",
      "\u001b[32m[I 2021-11-08 16:52:37,195]\u001b[0m Trial 61 finished with value: 0.26457015786734633 and parameters: {'num_iterations': 1322, 'n_estimators': 10000, 'learning_rate': 0.1771049039337582, 'num_leaves': 560, 'max_depth': 11, 'min_data_in_leaf': 500, 'lambda_l1': 20, 'lambda_l2': 75, 'min_gain_to_split': 2.9427219537704605, 'bagging_fraction': 0.8, 'bagging_freq': 1, 'feature_fraction': 0.2}. Best is trial 53 with value: 0.23855344696950556.\u001b[0m\n",
      "\u001b[32m[I 2021-11-08 16:52:40,056]\u001b[0m Trial 62 finished with value: 0.2704512902297444 and parameters: {'num_iterations': 548, 'n_estimators': 10000, 'learning_rate': 0.18829197955159654, 'num_leaves': 520, 'max_depth': 12, 'min_data_in_leaf': 1100, 'lambda_l1': 20, 'lambda_l2': 75, 'min_gain_to_split': 2.1932923422794937, 'bagging_fraction': 0.8, 'bagging_freq': 1, 'feature_fraction': 0.8}. Best is trial 53 with value: 0.23855344696950556.\u001b[0m\n",
      "\u001b[32m[I 2021-11-08 16:52:40,245]\u001b[0m Trial 63 pruned. Trial was pruned at iteration 0.\u001b[0m\n",
      "\u001b[32m[I 2021-11-08 16:52:40,524]\u001b[0m Trial 64 pruned. Trial was pruned at iteration 0.\u001b[0m\n",
      "\u001b[32m[I 2021-11-08 16:52:44,933]\u001b[0m Trial 65 finished with value: 0.2498423189978361 and parameters: {'num_iterations': 679, 'n_estimators': 10000, 'learning_rate': 0.19899963515540556, 'num_leaves': 1000, 'max_depth': 10, 'min_data_in_leaf': 200, 'lambda_l1': 25, 'lambda_l2': 85, 'min_gain_to_split': 0.6006431348393523, 'bagging_fraction': 0.9, 'bagging_freq': 1, 'feature_fraction': 0.2}. Best is trial 53 with value: 0.23855344696950556.\u001b[0m\n",
      "\u001b[32m[I 2021-11-08 16:52:45,125]\u001b[0m Trial 66 pruned. Trial was pruned at iteration 0.\u001b[0m\n",
      "\u001b[32m[I 2021-11-08 16:52:45,415]\u001b[0m Trial 67 pruned. Trial was pruned at iteration 0.\u001b[0m\n",
      "\u001b[32m[I 2021-11-08 16:52:45,936]\u001b[0m Trial 68 pruned. Trial was pruned at iteration 235.\u001b[0m\n",
      "\u001b[32m[I 2021-11-08 16:52:50,020]\u001b[0m Trial 69 finished with value: 0.2559197426230302 and parameters: {'num_iterations': 4419, 'n_estimators': 10000, 'learning_rate': 0.1173060810001915, 'num_leaves': 1440, 'max_depth': 10, 'min_data_in_leaf': 200, 'lambda_l1': 15, 'lambda_l2': 10, 'min_gain_to_split': 2.9228050814017683, 'bagging_fraction': 0.9, 'bagging_freq': 1, 'feature_fraction': 0.30000000000000004}. Best is trial 53 with value: 0.23855344696950556.\u001b[0m\n",
      "\u001b[32m[I 2021-11-08 16:52:50,223]\u001b[0m Trial 70 pruned. Trial was pruned at iteration 0.\u001b[0m\n",
      "\u001b[32m[I 2021-11-08 16:52:50,440]\u001b[0m Trial 71 pruned. Trial was pruned at iteration 3.\u001b[0m\n",
      "\u001b[32m[I 2021-11-08 16:52:56,462]\u001b[0m Trial 72 finished with value: 0.2510537926065671 and parameters: {'num_iterations': 8088, 'n_estimators': 10000, 'learning_rate': 0.15333118689549255, 'num_leaves': 1260, 'max_depth': 10, 'min_data_in_leaf': 900, 'lambda_l1': 5, 'lambda_l2': 20, 'min_gain_to_split': 0.41964331639405883, 'bagging_fraction': 0.8, 'bagging_freq': 1, 'feature_fraction': 0.30000000000000004}. Best is trial 53 with value: 0.23855344696950556.\u001b[0m\n",
      "\u001b[32m[I 2021-11-08 16:52:56,660]\u001b[0m Trial 73 pruned. Trial was pruned at iteration 0.\u001b[0m\n",
      "\u001b[32m[I 2021-11-08 16:52:57,033]\u001b[0m Trial 74 pruned. Trial was pruned at iteration 116.\u001b[0m\n",
      "\u001b[32m[I 2021-11-08 16:52:57,251]\u001b[0m Trial 75 pruned. Trial was pruned at iteration 0.\u001b[0m\n",
      "\u001b[32m[I 2021-11-08 16:52:59,913]\u001b[0m Trial 76 finished with value: 0.2582471678862463 and parameters: {'num_iterations': 5690, 'n_estimators': 10000, 'learning_rate': 0.23741575143428445, 'num_leaves': 1620, 'max_depth': 11, 'min_data_in_leaf': 400, 'lambda_l1': 15, 'lambda_l2': 25, 'min_gain_to_split': 1.8081241629791014, 'bagging_fraction': 0.8, 'bagging_freq': 1, 'feature_fraction': 0.2}. Best is trial 53 with value: 0.23855344696950556.\u001b[0m\n",
      "\u001b[32m[I 2021-11-08 16:53:00,259]\u001b[0m Trial 77 pruned. Trial was pruned at iteration 103.\u001b[0m\n",
      "\u001b[32m[I 2021-11-08 16:53:00,480]\u001b[0m Trial 78 pruned. Trial was pruned at iteration 0.\u001b[0m\n",
      "\u001b[32m[I 2021-11-08 16:53:00,767]\u001b[0m Trial 79 pruned. Trial was pruned at iteration 0.\u001b[0m\n",
      "\u001b[32m[I 2021-11-08 16:53:01,017]\u001b[0m Trial 80 pruned. Trial was pruned at iteration 26.\u001b[0m\n",
      "\u001b[32m[I 2021-11-08 16:53:01,250]\u001b[0m Trial 81 pruned. Trial was pruned at iteration 0.\u001b[0m\n",
      "\u001b[32m[I 2021-11-08 16:53:01,559]\u001b[0m Trial 82 pruned. Trial was pruned at iteration 0.\u001b[0m\n",
      "\u001b[32m[I 2021-11-08 16:53:04,499]\u001b[0m Trial 83 finished with value: 0.2587491817977757 and parameters: {'num_iterations': 7033, 'n_estimators': 10000, 'learning_rate': 0.2997018410719711, 'num_leaves': 1220, 'max_depth': 11, 'min_data_in_leaf': 200, 'lambda_l1': 30, 'lambda_l2': 10, 'min_gain_to_split': 0.4483062550613625, 'bagging_fraction': 0.8, 'bagging_freq': 1, 'feature_fraction': 0.2}. Best is trial 53 with value: 0.23855344696950556.\u001b[0m\n",
      "\u001b[32m[I 2021-11-08 16:53:04,928]\u001b[0m Trial 84 pruned. Trial was pruned at iteration 128.\u001b[0m\n",
      "\u001b[32m[I 2021-11-08 16:53:05,241]\u001b[0m Trial 85 pruned. Trial was pruned at iteration 0.\u001b[0m\n",
      "\u001b[32m[I 2021-11-08 16:53:10,544]\u001b[0m Trial 86 finished with value: 0.24572135658234856 and parameters: {'num_iterations': 7097, 'n_estimators': 10000, 'learning_rate': 0.1982880156571915, 'num_leaves': 2300, 'max_depth': 10, 'min_data_in_leaf': 700, 'lambda_l1': 15, 'lambda_l2': 10, 'min_gain_to_split': 0.20796190312455456, 'bagging_fraction': 0.7, 'bagging_freq': 1, 'feature_fraction': 0.7}. Best is trial 53 with value: 0.23855344696950556.\u001b[0m\n",
      "\u001b[32m[I 2021-11-08 16:53:13,957]\u001b[0m Trial 87 finished with value: 0.26536602672299847 and parameters: {'num_iterations': 15145, 'n_estimators': 10000, 'learning_rate': 0.2738719745359544, 'num_leaves': 2480, 'max_depth': 10, 'min_data_in_leaf': 1300, 'lambda_l1': 15, 'lambda_l2': 10, 'min_gain_to_split': 0.3955268704473972, 'bagging_fraction': 0.7, 'bagging_freq': 1, 'feature_fraction': 0.8}. Best is trial 53 with value: 0.23855344696950556.\u001b[0m\n",
      "\u001b[32m[I 2021-11-08 16:53:17,115]\u001b[0m Trial 88 finished with value: 0.26236930883503023 and parameters: {'num_iterations': 19811, 'n_estimators': 10000, 'learning_rate': 0.29899456149169384, 'num_leaves': 2180, 'max_depth': 11, 'min_data_in_leaf': 800, 'lambda_l1': 5, 'lambda_l2': 5, 'min_gain_to_split': 0.959861589611199, 'bagging_fraction': 0.6000000000000001, 'bagging_freq': 1, 'feature_fraction': 0.6000000000000001}. Best is trial 53 with value: 0.23855344696950556.\u001b[0m\n",
      "\u001b[32m[I 2021-11-08 16:53:20,380]\u001b[0m Trial 89 finished with value: 0.25337504527730265 and parameters: {'num_iterations': 7237, 'n_estimators': 10000, 'learning_rate': 0.20584744549608755, 'num_leaves': 2240, 'max_depth': 10, 'min_data_in_leaf': 600, 'lambda_l1': 15, 'lambda_l2': 10, 'min_gain_to_split': 1.6281553332053043, 'bagging_fraction': 0.7, 'bagging_freq': 1, 'feature_fraction': 0.9}. Best is trial 53 with value: 0.23855344696950556.\u001b[0m\n",
      "\u001b[32m[I 2021-11-08 16:53:24,090]\u001b[0m Trial 90 finished with value: 0.26005103338642055 and parameters: {'num_iterations': 9729, 'n_estimators': 10000, 'learning_rate': 0.20633108833207336, 'num_leaves': 2300, 'max_depth': 11, 'min_data_in_leaf': 700, 'lambda_l1': 15, 'lambda_l2': 10, 'min_gain_to_split': 2.4445739878274266, 'bagging_fraction': 0.7, 'bagging_freq': 1, 'feature_fraction': 0.7}. Best is trial 53 with value: 0.23855344696950556.\u001b[0m\n",
      "\u001b[32m[I 2021-11-08 16:53:27,540]\u001b[0m Trial 91 finished with value: 0.25861272567039856 and parameters: {'num_iterations': 7213, 'n_estimators': 10000, 'learning_rate': 0.20949487770002392, 'num_leaves': 2280, 'max_depth': 11, 'min_data_in_leaf': 700, 'lambda_l1': 15, 'lambda_l2': 10, 'min_gain_to_split': 2.392293024308558, 'bagging_fraction': 0.7, 'bagging_freq': 1, 'feature_fraction': 0.7}. Best is trial 53 with value: 0.23855344696950556.\u001b[0m\n",
      "\u001b[32m[I 2021-11-08 16:53:32,375]\u001b[0m Trial 92 finished with value: 0.2697674803832125 and parameters: {'num_iterations': 6591, 'n_estimators': 10000, 'learning_rate': 0.22195606045812347, 'num_leaves': 2660, 'max_depth': 11, 'min_data_in_leaf': 1000, 'lambda_l1': 10, 'lambda_l2': 0, 'min_gain_to_split': 1.7210526695512893, 'bagging_fraction': 0.7, 'bagging_freq': 1, 'feature_fraction': 0.9}. Best is trial 53 with value: 0.23855344696950556.\u001b[0m\n",
      "\u001b[32m[I 2021-11-08 16:53:34,769]\u001b[0m Trial 93 finished with value: 0.25372649951875 and parameters: {'num_iterations': 10410, 'n_estimators': 10000, 'learning_rate': 0.1891801915559061, 'num_leaves': 2320, 'max_depth': 10, 'min_data_in_leaf': 400, 'lambda_l1': 5, 'lambda_l2': 5, 'min_gain_to_split': 3.3788624319275704, 'bagging_fraction': 0.7, 'bagging_freq': 1, 'feature_fraction': 0.7}. Best is trial 53 with value: 0.23855344696950556.\u001b[0m\n",
      "\u001b[32m[I 2021-11-08 16:53:34,988]\u001b[0m Trial 94 pruned. Trial was pruned at iteration 10.\u001b[0m\n",
      "\u001b[32m[I 2021-11-08 16:53:38,324]\u001b[0m Trial 95 finished with value: 0.25585386819360917 and parameters: {'num_iterations': 5061, 'n_estimators': 10000, 'learning_rate': 0.16539251302886404, 'num_leaves': 2060, 'max_depth': 10, 'min_data_in_leaf': 400, 'lambda_l1': 10, 'lambda_l2': 15, 'min_gain_to_split': 4.094179763339205, 'bagging_fraction': 0.6000000000000001, 'bagging_freq': 1, 'feature_fraction': 0.7}. Best is trial 53 with value: 0.23855344696950556.\u001b[0m\n",
      "\u001b[32m[I 2021-11-08 16:53:38,675]\u001b[0m Trial 96 pruned. Trial was pruned at iteration 60.\u001b[0m\n",
      "\u001b[32m[I 2021-11-08 16:53:41,798]\u001b[0m Trial 97 finished with value: 0.2574260645710577 and parameters: {'num_iterations': 5191, 'n_estimators': 10000, 'learning_rate': 0.17338479092038894, 'num_leaves': 2420, 'max_depth': 10, 'min_data_in_leaf': 400, 'lambda_l1': 10, 'lambda_l2': 20, 'min_gain_to_split': 3.894644641311825, 'bagging_fraction': 0.6000000000000001, 'bagging_freq': 1, 'feature_fraction': 0.8}. Best is trial 53 with value: 0.23855344696950556.\u001b[0m\n",
      "\u001b[32m[I 2021-11-08 16:53:44,676]\u001b[0m Trial 98 finished with value: 0.2574056394093389 and parameters: {'num_iterations': 9865, 'n_estimators': 10000, 'learning_rate': 0.1843562386557696, 'num_leaves': 2720, 'max_depth': 10, 'min_data_in_leaf': 400, 'lambda_l1': 10, 'lambda_l2': 20, 'min_gain_to_split': 4.022029891030563, 'bagging_fraction': 0.6000000000000001, 'bagging_freq': 1, 'feature_fraction': 0.8}. Best is trial 53 with value: 0.23855344696950556.\u001b[0m\n",
      "\u001b[32m[I 2021-11-08 16:53:44,880]\u001b[0m Trial 99 pruned. Trial was pruned at iteration 0.\u001b[0m\n",
      "\u001b[32m[I 2021-11-08 16:53:45,098]\u001b[0m Trial 100 pruned. Trial was pruned at iteration 0.\u001b[0m\n",
      "\u001b[32m[I 2021-11-08 16:53:47,858]\u001b[0m Trial 101 finished with value: 0.253687621205596 and parameters: {'num_iterations': 4162, 'n_estimators': 10000, 'learning_rate': 0.1866113544928681, 'num_leaves': 2500, 'max_depth': 10, 'min_data_in_leaf': 400, 'lambda_l1': 0, 'lambda_l2': 20, 'min_gain_to_split': 3.849586976583881, 'bagging_fraction': 0.6000000000000001, 'bagging_freq': 1, 'feature_fraction': 0.8}. Best is trial 53 with value: 0.23855344696950556.\u001b[0m\n",
      "\u001b[32m[I 2021-11-08 16:53:50,179]\u001b[0m Trial 102 finished with value: 0.2542341390107672 and parameters: {'num_iterations': 4495, 'n_estimators': 10000, 'learning_rate': 0.1910832945267173, 'num_leaves': 2560, 'max_depth': 10, 'min_data_in_leaf': 400, 'lambda_l1': 0, 'lambda_l2': 15, 'min_gain_to_split': 4.558738004184985, 'bagging_fraction': 0.6000000000000001, 'bagging_freq': 1, 'feature_fraction': 0.8}. Best is trial 53 with value: 0.23855344696950556.\u001b[0m\n",
      "\u001b[32m[I 2021-11-08 16:53:54,359]\u001b[0m Trial 103 finished with value: 0.26092621707629504 and parameters: {'num_iterations': 4111, 'n_estimators': 10000, 'learning_rate': 0.13569849096875633, 'num_leaves': 2580, 'max_depth': 10, 'min_data_in_leaf': 600, 'lambda_l1': 0, 'lambda_l2': 15, 'min_gain_to_split': 3.140761103707831, 'bagging_fraction': 0.6000000000000001, 'bagging_freq': 1, 'feature_fraction': 0.6000000000000001}. Best is trial 53 with value: 0.23855344696950556.\u001b[0m\n",
      "\u001b[32m[I 2021-11-08 16:53:56,855]\u001b[0m Trial 104 finished with value: 0.2469347842730946 and parameters: {'num_iterations': 2313, 'n_estimators': 10000, 'learning_rate': 0.18978888785492765, 'num_leaves': 2540, 'max_depth': 9, 'min_data_in_leaf': 300, 'lambda_l1': 0, 'lambda_l2': 15, 'min_gain_to_split': 4.53288001592089, 'bagging_fraction': 0.7, 'bagging_freq': 1, 'feature_fraction': 0.9}. Best is trial 53 with value: 0.23855344696950556.\u001b[0m\n",
      "\u001b[32m[I 2021-11-08 16:53:57,247]\u001b[0m Trial 105 pruned. Trial was pruned at iteration 125.\u001b[0m\n",
      "\u001b[32m[I 2021-11-08 16:53:57,443]\u001b[0m Trial 106 pruned. Trial was pruned at iteration 0.\u001b[0m\n",
      "\u001b[32m[I 2021-11-08 16:53:59,480]\u001b[0m Trial 107 finished with value: 0.26410096038032155 and parameters: {'num_iterations': 2383, 'n_estimators': 10000, 'learning_rate': 0.23139431658994497, 'num_leaves': 2240, 'max_depth': 9, 'min_data_in_leaf': 600, 'lambda_l1': 0, 'lambda_l2': 15, 'min_gain_to_split': 5.099439412244205, 'bagging_fraction': 0.6000000000000001, 'bagging_freq': 1, 'feature_fraction': 0.9}. Best is trial 53 with value: 0.23855344696950556.\u001b[0m\n",
      "\u001b[32m[I 2021-11-08 16:53:59,677]\u001b[0m Trial 108 pruned. Trial was pruned at iteration 1.\u001b[0m\n",
      "\u001b[32m[I 2021-11-08 16:53:59,949]\u001b[0m Trial 109 pruned. Trial was pruned at iteration 40.\u001b[0m\n",
      "\u001b[32m[I 2021-11-08 16:54:00,165]\u001b[0m Trial 110 pruned. Trial was pruned at iteration 0.\u001b[0m\n",
      "\u001b[32m[I 2021-11-08 16:54:00,388]\u001b[0m Trial 111 pruned. Trial was pruned at iteration 1.\u001b[0m\n",
      "\u001b[32m[I 2021-11-08 16:54:00,593]\u001b[0m Trial 112 pruned. Trial was pruned at iteration 0.\u001b[0m\n",
      "\u001b[32m[I 2021-11-08 16:54:00,798]\u001b[0m Trial 113 pruned. Trial was pruned at iteration 1.\u001b[0m\n",
      "\u001b[32m[I 2021-11-08 16:54:04,095]\u001b[0m Trial 114 finished with value: 0.2513193604990839 and parameters: {'num_iterations': 2232, 'n_estimators': 10000, 'learning_rate': 0.15358183805917244, 'num_leaves': 2860, 'max_depth': 3, 'min_data_in_leaf': 200, 'lambda_l1': 0, 'lambda_l2': 5, 'min_gain_to_split': 4.881644633879562, 'bagging_fraction': 0.7, 'bagging_freq': 1, 'feature_fraction': 0.6000000000000001}. Best is trial 53 with value: 0.23855344696950556.\u001b[0m\n",
      "\u001b[32m[I 2021-11-08 16:54:06,250]\u001b[0m Trial 115 finished with value: 0.26418096875862845 and parameters: {'num_iterations': 2170, 'n_estimators': 10000, 'learning_rate': 0.2599149570185168, 'num_leaves': 3000, 'max_depth': 3, 'min_data_in_leaf': 600, 'lambda_l1': 0, 'lambda_l2': 25, 'min_gain_to_split': 6.852649881904948, 'bagging_fraction': 0.7, 'bagging_freq': 1, 'feature_fraction': 0.6000000000000001}. Best is trial 53 with value: 0.23855344696950556.\u001b[0m\n",
      "\u001b[32m[I 2021-11-08 16:54:06,551]\u001b[0m Trial 116 pruned. Trial was pruned at iteration 51.\u001b[0m\n",
      "\u001b[32m[I 2021-11-08 16:54:06,825]\u001b[0m Trial 117 pruned. Trial was pruned at iteration 45.\u001b[0m\n",
      "\u001b[32m[I 2021-11-08 16:54:07,026]\u001b[0m Trial 118 pruned. Trial was pruned at iteration 1.\u001b[0m\n",
      "\u001b[32m[I 2021-11-08 16:54:09,109]\u001b[0m Trial 119 finished with value: 0.2471057453565361 and parameters: {'num_iterations': 2918, 'n_estimators': 10000, 'learning_rate': 0.22511979877216767, 'num_leaves': 2320, 'max_depth': 9, 'min_data_in_leaf': 200, 'lambda_l1': 0, 'lambda_l2': 55, 'min_gain_to_split': 4.513828423204128, 'bagging_fraction': 0.7, 'bagging_freq': 1, 'feature_fraction': 0.7}. Best is trial 53 with value: 0.23855344696950556.\u001b[0m\n"
     ]
    }
   ],
   "source": [
    "with io.capture_output() as captured:\n",
    "    study.optimize(func, n_trials=100)"
   ]
  },
  {
   "cell_type": "code",
   "execution_count": 54,
   "id": "84e73747-447a-4ae8-9083-63b042dae757",
   "metadata": {},
   "outputs": [
    {
     "name": "stdout",
     "output_type": "stream",
     "text": [
      "\tBest value (rmse): 0.23855\n",
      "\tBest params:\n",
      "\t\tnum_iterations: 677\n",
      "\t\tn_estimators: 10000\n",
      "\t\tlearning_rate: 0.1638297627426783\n",
      "\t\tnum_leaves: 400\n",
      "\t\tmax_depth: 8\n",
      "\t\tmin_data_in_leaf: 200\n",
      "\t\tlambda_l1: 25\n",
      "\t\tlambda_l2: 85\n",
      "\t\tmin_gain_to_split: 0.009538882474017303\n",
      "\t\tbagging_fraction: 0.6000000000000001\n",
      "\t\tbagging_freq: 1\n",
      "\t\tfeature_fraction: 0.30000000000000004\n"
     ]
    }
   ],
   "source": [
    "print(f\"\\tBest value (rmse): {study.best_value:.5f}\")\n",
    "print(f\"\\tBest params:\")\n",
    "\n",
    "for key, value in study.best_params.items():\n",
    "    print(f\"\\t\\t{key}: {value}\")"
   ]
  },
  {
   "cell_type": "code",
   "execution_count": null,
   "id": "23e95897-a056-4f5c-91cc-3c4383385b1a",
   "metadata": {},
   "outputs": [],
   "source": []
  }
 ],
 "metadata": {
  "kernelspec": {
   "display_name": "Python 3",
   "language": "python",
   "name": "python3"
  },
  "language_info": {
   "codemirror_mode": {
    "name": "ipython",
    "version": 3
   },
   "file_extension": ".py",
   "mimetype": "text/x-python",
   "name": "python",
   "nbconvert_exporter": "python",
   "pygments_lexer": "ipython3",
   "version": "3.8.8"
  }
 },
 "nbformat": 4,
 "nbformat_minor": 5
}
