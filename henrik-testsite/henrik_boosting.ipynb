{
 "cells": [
  {
   "cell_type": "code",
   "execution_count": 1,
   "metadata": {},
   "outputs": [],
   "source": [
    "import pandas as pd\n",
    "import time\n",
    "import random\n",
    "import math\n",
    "import matplotlib.pyplot as plt\n",
    "import tensorflow as tf\n",
    "import seaborn as sns\n",
    "import numpy as np\n",
    "from scipy import stats\n",
    "from sklearn import preprocessing\n",
    "from sklearn.preprocessing import MinMaxScaler, OneHotEncoder\n",
    "from sklearn.model_selection import train_test_split\n",
    "from sklearn.model_selection import StratifiedKFold\n",
    "from sklearn.model_selection import cross_val_score\n",
    "# Boosting!\n",
    "import xgboost\n",
    "from xgboost import plot_importance\n",
    "from sklearn.model_selection import cross_val_score,KFold\n",
    "from sklearn.metrics import mean_absolute_error\n",
    "from sklearn.model_selection import GridSearchCV\n",
    "import matplotlib.pyplot as plt\n",
    "from scipy.stats import skew\n",
    "from collections import OrderedDict\n",
    "pd.options.mode.chained_assignment = None"
   ]
  },
  {
   "cell_type": "code",
   "execution_count": 2,
   "metadata": {},
   "outputs": [],
   "source": [
    "%run ../common_utils.py"
   ]
  },
  {
   "cell_type": "code",
   "execution_count": 3,
   "metadata": {},
   "outputs": [],
   "source": [
    "def handout_RMSLE(y_true, y_pred):\n",
    "    # Alternatively: sklearn.metrics.mean_squared_log_error(y_true, y_pred) ** 0.5\n",
    "    log_error = np.log1p(y_pred) - np.log1p(y_true)  # Note: log1p(x) = log(1 + x)\n",
    "    return np.mean(log_error ** 2) ** 0.5"
   ]
  },
  {
   "cell_type": "markdown",
   "metadata": {
    "tags": []
   },
   "source": [
    "## 1 - First test of XGBOOST: *eXtreme Gradient Boosting*\n",
    "Just getting it to work. Understand the hyperparameters.\n",
    "\n",
    "Tip from Hasse: you can use reg:squaredlogerror as objective and rsmle as eval_metric for the xgboost model\n",
    "\n",
    "Unlike CatBoost or LGBM, XGBoost cannot handle categorical features by itself, it only accepts numerical values similar to Random Forest. Therefore one has to perform various encodings like label encoding, mean encoding or one-hot encoding before supplying categorical data to XGBoost.\n",
    "\n",
    "The magic of XGBoost: handles nan values! As long as nan is distributed the same across both train and test: ez pz!\n",
    "\n",
    "Good sources;\n",
    "- https://machinelearningmastery.com/avoid-overfitting-by-early-stopping-with-xgboost-in-python/\n",
    "- https://stats.stackexchange.com/questions/235489/xgboost-can-handle-missing-data-in-the-forecasting-phase\n",
    "- https://www.kaggle.com/pablocastilla/predict-house-prices-with-xgboost-regression\n",
    "- https://analyticsindiamag.com/how-to-use-xgboost-to-predict-housing-prices-in-bengaluru-a-practical-guide/\n"
   ]
  },
  {
   "cell_type": "code",
   "execution_count": 10,
   "metadata": {},
   "outputs": [],
   "source": [
    "train, test, metaData = load_all_data()\n",
    "SEED = 42 # for reproducibility\n",
    "NFOLDS = 5 # set number of folds for out-of-fold prediction"
   ]
  },
  {
   "cell_type": "code",
   "execution_count": 219,
   "metadata": {},
   "outputs": [],
   "source": [
    "## Remove some of the ones correlated to themselves.\n",
    "#features =           [\"area_total\", \"area_kitchen\", \"area_living\", \"floor\", \"stories\", \"rooms\", \"bathrooms_shared\", \"balconies\", \"latitude\", \"longitude\", \"constructed\", # Numerical\n",
    "#                    \"district\", \"material\", \"parking\"] \n",
    "#\n",
    "#numerical_features = [\"area_total\", \"area_kitchen\", \"area_living\",\n",
    "#                      \"floor\", \"stories\", \"rooms\", \"bathrooms_shared\", \"balconies\", \"latitude\", \"longitude\", \"constructed\"]\n",
    "#\n",
    "#cat_features = [\"district\", \"material\", \"parking\"]\n",
    "#\n",
    "#droptable = ['longitude', 'latitude', 'area_kitchen', 'area_living', 'floor', 'stories'] # Not dropping theta!\n",
    "\n",
    "# ALL\n",
    "features =           [\"area_total\", \"area_kitchen\", \"area_living\", \"floor\", \"ceiling\", \"stories\", \"rooms\", \"bathrooms_private\", \"bathrooms_shared\", \"balconies\",\"loggias\", \"phones\", \"latitude\", \"longitude\", \"constructed\", # Numerical\n",
    "                     \"layout\", \"condition\", \"district\", \"material\", \"parking\", \"heating\", #Categorical\n",
    "                      \"windows_court\", \"windows_street\", \"new\", \"elevator_without\", \"elevator_passenger\", \"elevator_service\", \"garbage_chute\"] # Bool\n",
    "                     #\"street\", \"address\"] #String\n",
    "\n",
    "numerical_features = [\"area_total\", \"area_kitchen\", \"area_living\", \"floor\",\n",
    "                      \"ceiling\", \"stories\", \"rooms\", \"bathrooms_private\", \"bathrooms_shared\", \"balconies\",\"loggias\", \"phones\", \"latitude\", \"longitude\", \"constructed\"]\n",
    "\n",
    "cat_features = [\"layout\", \"condition\", \"district\", \"material\", \"parking\", \"heating\"]\n",
    "\n",
    "droptable = ['longitude', 'latitude']"
   ]
  },
  {
   "cell_type": "code",
   "execution_count": 220,
   "metadata": {},
   "outputs": [],
   "source": [
    "# Remove outlayers from training data\n",
    "outliers_value = 7\n",
    "no_outlayers = train[(np.abs(stats.zscore(train['price'])) < outliers_value)]\n",
    "\n",
    "# Not filling nan!\n",
    "# Training and validation data preprocessing\n",
    "labels = no_outlayers[features]\n",
    "targets = no_outlayers['price']\n",
    "# Skew normaliation\n",
    "labels[numerical_features] = np.log1p(labels[numerical_features])\n",
    "\n",
    "# Test data preprocessing\n",
    "test_labels = test[features]\n",
    "# Skew normaliation\n",
    "test_labels[numerical_features] = np.log1p(test_labels[numerical_features])"
   ]
  },
  {
   "cell_type": "code",
   "execution_count": 221,
   "metadata": {},
   "outputs": [],
   "source": [
    "# One-hot encoding categorical features.\n",
    "#labels, test_labels = one_hot_encoder(labels, test_labels, cat_features, drop_old=drop_old)\n",
    "#NB! pd.get_dummies() does pretty much the same job!\n",
    "#https://stackoverflow.com/questions/36285155/pandas-get-dummies\n",
    "\n",
    "labels = pd.get_dummies(labels,columns=cat_features)\n",
    "test_labels = pd.get_dummies(test_labels,columns =cat_features)"
   ]
  },
  {
   "cell_type": "code",
   "execution_count": 222,
   "metadata": {},
   "outputs": [],
   "source": [
    "# ADD R\n",
    "labels, test_labels = polar_coordinates(labels, test_labels)\n",
    "numerical_features.append(\"r\")\n",
    "# ADD rel_height\n",
    "labels['rel_height'] = labels[\"floor\"] / labels[\"stories\"]\n",
    "test_labels['rel_height'] = test_labels[\"floor\"] / test_labels[\"stories\"]\n",
    "numerical_features.append(\"rel_height\")"
   ]
  },
  {
   "cell_type": "code",
   "execution_count": 223,
   "metadata": {},
   "outputs": [],
   "source": [
    "# Normalize\n",
    "train_labels_n = labels.filter(numerical_features)\n",
    "test_labels_n = test_labels.filter(numerical_features)\n",
    "\n",
    "scaler = MinMaxScaler(feature_range=(0, 1))\n",
    "train_labels_scaled = scaler.fit_transform(train_labels_n)\n",
    "test_labels_scaled = scaler.transform(test_labels_n)\n",
    "\n",
    "# Re-enter proceedure\n",
    "training_norm_col = pd.DataFrame(train_labels_scaled, index=train_labels_n.index, columns=train_labels_n.columns) \n",
    "labels.update(training_norm_col)\n",
    "\n",
    "testing_norm_col = pd.DataFrame(test_labels_scaled, index=test_labels_n.index, columns=test_labels_n.columns) \n",
    "test_labels.update(testing_norm_col)"
   ]
  },
  {
   "cell_type": "markdown",
   "metadata": {
    "jp-MarkdownHeadingCollapsed": true,
    "tags": []
   },
   "source": [
    "### Looking for most relevant features"
   ]
  },
  {
   "cell_type": "code",
   "execution_count": 224,
   "metadata": {},
   "outputs": [],
   "source": [
    "model = xgboost.XGBRegressor(\n",
    "                 colsample_bytree=0.4,\n",
    "                 gamma=0,                 \n",
    "                 learning_rate=0.07,\n",
    "                 max_depth=3,\n",
    "                 min_child_weight=1.5,\n",
    "                 n_estimators=10000,                                                                    \n",
    "                 reg_alpha=0.75,\n",
    "                 reg_lambda=0.45,\n",
    "                 subsample=0.6,\n",
    "                 seed=42\n",
    "                )"
   ]
  },
  {
   "cell_type": "code",
   "execution_count": 120,
   "metadata": {},
   "outputs": [],
   "source": [
    "# Convert all nan to \"nan\"?\n",
    "features_with_nan = labels.columns[labels.isna().any()].tolist() # Same for train and test\n",
    "#def ConverNaNToNAString(data, columnList):\n",
    "#    for x in columnList:    \n",
    "#        data[x] =str(data[x])\n",
    "#\n",
    "#ConverNaNToNAString(labels, features_with_nan)\n",
    "#ConverNaNToNAString(test_labels, features_with_nan)"
   ]
  },
  {
   "cell_type": "code",
   "execution_count": 121,
   "metadata": {},
   "outputs": [
    {
     "data": {
      "text/plain": [
       "XGBRegressor(base_score=0.5, booster='gbtree', colsample_bylevel=1,\n",
       "             colsample_bynode=1, colsample_bytree=0.4, enable_categorical=False,\n",
       "             gamma=0, gpu_id=-1, importance_type=None,\n",
       "             interaction_constraints='', learning_rate=0.07, max_delta_step=0,\n",
       "             max_depth=3, min_child_weight=1.5, missing=nan,\n",
       "             monotone_constraints='()', n_estimators=10000, n_jobs=8,\n",
       "             num_parallel_tree=1, predictor='auto', random_state=42,\n",
       "             reg_alpha=0.75, reg_lambda=0.45, scale_pos_weight=1, seed=42,\n",
       "             subsample=0.6, tree_method='exact', validate_parameters=1,\n",
       "             verbosity=None)"
      ]
     },
     "execution_count": 121,
     "metadata": {},
     "output_type": "execute_result"
    }
   ],
   "source": [
    "model.fit(labels,targets)"
   ]
  },
  {
   "cell_type": "code",
   "execution_count": 122,
   "metadata": {},
   "outputs": [],
   "source": [
    "#OrderedDict(sorted(model.booster().get_fscore().items(), key=lambda t: t[1], reverse=True))"
   ]
  },
  {
   "cell_type": "code",
   "execution_count": 123,
   "metadata": {},
   "outputs": [
    {
     "data": {
      "image/png": "[encoded data removed]",
      "text/plain": [
       "<Figure size 1872x288 with 1 Axes>"
      ]
     },
     "metadata": {
      "needs_background": "light"
     },
     "output_type": "display_data"
    }
   ],
   "source": [
    "plt.figure(figsize=(26, 4))\n",
    "plt.bar(labels.columns.tolist(), model.feature_importances_)\n",
    "plt.xticks(rotation=90)\n",
    "plt.show()"
   ]
  },
  {
   "cell_type": "markdown",
   "metadata": {
    "jp-MarkdownHeadingCollapsed": true,
    "tags": []
   },
   "source": [
    "### Remove less relevant features"
   ]
  },
  {
   "cell_type": "code",
   "execution_count": 124,
   "metadata": {},
   "outputs": [
    {
     "name": "stdout",
     "output_type": "stream",
     "text": [
      "['area_total', 'area_kitchen', 'area_living', 'stories', 'rooms', 'bathrooms_private', 'bathrooms_shared', 'latitude', 'longitude', 'constructed', 'windows_court', 'elevator_without', 'elevator_service', 'layout_1.0', 'condition_3.0', 'district_0.0', 'district_5.0', 'district_7.0', 'material_0.0', 'material_3.0', 'material_4.0', 'material_5.0', 'parking_0.0', 'parking_1.0', 'heating_1.0', 'r', 'theta']\n"
     ]
    }
   ],
   "source": [
    "# r : 0.022947283 \n",
    "importance = dict(zip(labels.columns.tolist(), \n",
    "model.feature_importances_))\n",
    "\n",
    "important_features = []\n",
    "for key in importance.keys():\n",
    "    if importance[key] > 0.01:\n",
    "        important_features.append(key)\n",
    "print(important_features)"
   ]
  },
  {
   "cell_type": "code",
   "execution_count": 126,
   "metadata": {},
   "outputs": [],
   "source": [
    "labels = labels[important_features]\n",
    "test_labels = test_labels[important_features]"
   ]
  },
  {
   "cell_type": "markdown",
   "metadata": {
    "jp-MarkdownHeadingCollapsed": true,
    "tags": []
   },
   "source": [
    "### CUSTOM RMSLE OBJECTIVE\n",
    "https://xgboost.readthedocs.io/en/latest/tutorials/custom_metric_obj.html"
   ]
  },
  {
   "cell_type": "code",
   "execution_count": 225,
   "metadata": {},
   "outputs": [],
   "source": [
    "from typing import Tuple\n",
    "def gradient(predt: np.ndarray, dtrain: xgboost.DMatrix) -> np.ndarray:\n",
    "    '''Compute the gradient squared log error.'''\n",
    "    #y = dtrain.get_label()\n",
    "    y = dtrain.copy()\n",
    "    return (np.log1p(predt) - np.log1p(y)) / (predt + 1)\n",
    "\n",
    "def hessian(predt: np.ndarray, dtrain: xgboost.DMatrix) -> np.ndarray:\n",
    "    '''Compute the hessian for squared log error.'''\n",
    "    #y = dtrain.get_label()\n",
    "    y = dtrain.copy()\n",
    "    return ((-np.log1p(predt) + np.log1p(y) + 1) /\n",
    "    np.power(predt + 1, 2))\n",
    "\n",
    "def squared_log(predt: np.ndarray, dtrain: xgboost.DMatrix) -> Tuple[np.ndarray, np.ndarray]:\n",
    "    '''\n",
    "    Squared Log Error objective. A simplified version for RMSLE used as objective function.\n",
    "    '''\n",
    "    predt[predt < -1] = -1 + 1e-6\n",
    "    grad = gradient(predt, dtrain)\n",
    "    hess = hessian(predt, dtrain)\n",
    "    return grad, hess"
   ]
  },
  {
   "cell_type": "code",
   "execution_count": 196,
   "metadata": {},
   "outputs": [],
   "source": [
    "def rmsle_metric(predt: np.ndarray, dtrain: xgboost.DMatrix) -> Tuple[str, float]:\n",
    "    ''' Root mean squared log error metric.'''\n",
    "    #y = dtrain.get_label()\n",
    "    y = dtrain.copy()\n",
    "    predt[predt < -1] = -1 + 1e-6\n",
    "    elements = np.power(np.log1p(y) - np.log1p(predt), 2)\n",
    "    return 'PyRMSLE', float(np.sqrt(np.sum(elements) / len(y)))"
   ]
  },
  {
   "cell_type": "markdown",
   "metadata": {
    "jp-MarkdownHeadingCollapsed": true,
    "tags": []
   },
   "source": [
    "### Training "
   ]
  },
  {
   "cell_type": "code",
   "execution_count": 253,
   "metadata": {},
   "outputs": [],
   "source": [
    "# \n",
    "train_labels, val_labels, train_targets, val_targets = train_test_split(labels, targets, test_size=0.33, shuffle=True)\n",
    "\n",
    "xgb_model = xgboost.XGBRegressor(eval_metric=\"rmsle\")\n",
    "\n",
    "smt = xgb_model.fit(train_labels, train_targets, eval_set=[(train_labels, train_targets), (val_labels, val_targets)], early_stopping_rounds=10, verbose=False)"
   ]
  },
  {
   "cell_type": "code",
   "execution_count": 254,
   "metadata": {},
   "outputs": [
    {
     "name": "stdout",
     "output_type": "stream",
     "text": [
      "XGBoost RMSLE: 0.18702611509417402\n"
     ]
    }
   ],
   "source": [
    "xgb_prediction = xgb_model.predict(val_labels)\n",
    "xgb_rmsle = handout_RMSLE(val_targets, xgb_prediction)\n",
    "print('XGBoost RMSLE:', xgb_rmsle)"
   ]
  },
  {
   "cell_type": "code",
   "execution_count": 255,
   "metadata": {},
   "outputs": [],
   "source": [
    "results = xgb_model.evals_result()"
   ]
  },
  {
   "cell_type": "code",
   "execution_count": 259,
   "metadata": {},
   "outputs": [
    {
     "data": {
      "image/png": "[encoded data removed]",
      "text/plain": [
       "<Figure size 432x288 with 1 Axes>"
      ]
     },
     "metadata": {
      "needs_background": "light"
     },
     "output_type": "display_data"
    }
   ],
   "source": [
    "epochs = len(results['validation_0']['rmsle'])\n",
    "x_axis = range(0, epochs)\n",
    "# plot rmsle\n",
    "fig, ax = plt.subplots()\n",
    "ax.plot(x_axis, results['validation_0']['rmsle'], label='Train')\n",
    "ax.plot(x_axis, results['validation_1']['rmsle'], label='Test')\n",
    "ax.legend()\n",
    "plt.ylabel('rmsle')\n",
    "plt.title('XGBoost rmsle')\n",
    "plt.show()"
   ]
  },
  {
   "cell_type": "code",
   "execution_count": 260,
   "metadata": {},
   "outputs": [],
   "source": [
    "predict_and_store(xgb_model, test_labels, test, path=\"boosting_predictions/xgboost_0_1\") # 0.18702611509417402"
   ]
  },
  {
   "cell_type": "markdown",
   "metadata": {
    "jp-MarkdownHeadingCollapsed": true,
    "tags": []
   },
   "source": [
    "### Train on all features."
   ]
  },
  {
   "cell_type": "code",
   "execution_count": 96,
   "metadata": {},
   "outputs": [],
   "source": [
    "%run ../common_utils.py"
   ]
  },
  {
   "cell_type": "code",
   "execution_count": 97,
   "metadata": {},
   "outputs": [],
   "source": [
    "# ALL\n",
    "features =           [\"area_total\", \"area_kitchen\", \"area_living\", \"floor\", \"ceiling\", \"stories\", \"rooms\", \"bathrooms_private\", \"bathrooms_shared\", \"balconies\",\"loggias\", \"phones\", \"latitude\", \"longitude\", \"constructed\", # Numerical\n",
    "                     \"layout\", \"condition\", \"district\", \"material\", \"parking\", \"heating\", \"seller\", #Categorical\n",
    "                      \"windows_court\", \"windows_street\", \"new\", \"elevator_without\", \"elevator_passenger\", \"elevator_service\", \"garbage_chute\"] # Bool\n",
    "                     #\"street\", \"address\"] #String\n",
    "\n",
    "numerical_features = [\"area_total\", \"area_kitchen\", \"area_living\", \"floor\",\n",
    "                      \"ceiling\", \"stories\", \"rooms\", \"bathrooms_private\", \"bathrooms_shared\", \"balconies\",\"loggias\", \"phones\", \"latitude\", \"longitude\", \"constructed\"]\n",
    "\n",
    "cat_features = [\"layout\", \"condition\", \"district\", \"material\", \"parking\", \"heating\", \"seller\"]\n",
    "\n",
    "droptable = ['longitude', 'latitude']"
   ]
  },
  {
   "cell_type": "code",
   "execution_count": 98,
   "metadata": {},
   "outputs": [],
   "source": [
    "train_labels, train_targets, val_labels, val_targets, test_labels = pre_process_numerical(features, numerical_features, train, test,\n",
    "                    outliers_value=7, val_data=True, val_split=0.1, random_state=42, scaler=\"minMax\",\n",
    "                    add_R=True, add_rel_height=True, add_spacious=True, droptable=droptable,\n",
    "                    one_hot_encode=True, cat_features=cat_features, drop_old=True)"
   ]
  },
  {
   "cell_type": "code",
   "execution_count": 99,
   "metadata": {},
   "outputs": [
    {
     "data": {
      "text/plain": [
       "XGBRegressor(base_score=0.5, booster='gbtree', colsample_bylevel=1,\n",
       "             colsample_bynode=1, colsample_bytree=1, enable_categorical=False,\n",
       "             eval_metric='rmsle', gamma=0, gpu_id=-1, importance_type=None,\n",
       "             interaction_constraints='', learning_rate=0.300000012,\n",
       "             max_delta_step=0, max_depth=6, min_child_weight=1, missing=nan,\n",
       "             monotone_constraints='()', n_estimators=100, n_jobs=8,\n",
       "             num_parallel_tree=1, predictor='auto', random_state=0, reg_alpha=0,\n",
       "             reg_lambda=1, scale_pos_weight=1, subsample=1, tree_method='exact',\n",
       "             validate_parameters=1, verbosity=None)"
      ]
     },
     "execution_count": 99,
     "metadata": {},
     "output_type": "execute_result"
    }
   ],
   "source": [
    "xgb_model = xgboost.XGBRegressor(eval_metric=\"rmsle\")\n",
    "xgb_model.fit(train_labels, train_targets, eval_set=[(train_labels, train_targets), (val_labels, val_targets)], early_stopping_rounds=10, verbose=False)"
   ]
  },
  {
   "cell_type": "code",
   "execution_count": 100,
   "metadata": {},
   "outputs": [
    {
     "name": "stdout",
     "output_type": "stream",
     "text": [
      "XGBoost RMSLE: 0.1938091472595307\n"
     ]
    }
   ],
   "source": [
    "xgb_prediction = xgb_model.predict(val_labels)\n",
    "xgb_rmsle = handout_RMSLE(val_targets, xgb_prediction)\n",
    "print('XGBoost RMSLE:', xgb_rmsle)"
   ]
  },
  {
   "cell_type": "code",
   "execution_count": 101,
   "metadata": {},
   "outputs": [],
   "source": [
    "results = xgb_model.evals_result()"
   ]
  },
  {
   "cell_type": "code",
   "execution_count": 102,
   "metadata": {
    "tags": []
   },
   "outputs": [
    {
     "data": {
      "image/png": "[encoded data removed]",
      "text/plain": [
       "<Figure size 432x288 with 1 Axes>"
      ]
     },
     "metadata": {
      "needs_background": "light"
     },
     "output_type": "display_data"
    }
   ],
   "source": [
    "epochs = len(results['validation_0']['rmsle'])\n",
    "x_axis = range(0, epochs)\n",
    "# plot rmsle\n",
    "fig, ax = plt.subplots()\n",
    "ax.plot(x_axis, results['validation_0']['rmsle'], label='Train')\n",
    "ax.plot(x_axis, results['validation_1']['rmsle'], label='Test')\n",
    "ax.legend()\n",
    "plt.ylabel('rmsle')\n",
    "plt.title('XGBoost rmsle')\n",
    "plt.show()"
   ]
  },
  {
   "cell_type": "code",
   "execution_count": 103,
   "metadata": {},
   "outputs": [
    {
     "data": {
      "image/png": "[encoded data removed]",
      "text/plain": [
       "<Figure size 1872x288 with 1 Axes>"
      ]
     },
     "metadata": {
      "needs_background": "light"
     },
     "output_type": "display_data"
    }
   ],
   "source": [
    "plt.figure(figsize=(26, 4))\n",
    "plt.bar(train_labels.columns.tolist(), xgb_model.feature_importances_)\n",
    "plt.xticks(rotation=90)\n",
    "plt.show()"
   ]
  },
  {
   "cell_type": "code",
   "execution_count": 104,
   "metadata": {},
   "outputs": [],
   "source": [
    "#predict_and_store(xgb_model, test_labels, test, path=\"boosting_predictions/xgboost_1_0\") #0.17482169125398114"
   ]
  },
  {
   "cell_type": "code",
   "execution_count": 105,
   "metadata": {},
   "outputs": [],
   "source": [
    "importance = dict(zip(train_labels.columns.tolist(), xgb_model.feature_importances_))\n",
    "\n",
    "important_features = []\n",
    "for key in importance.keys():\n",
    "    if importance[key] > 0.005:\n",
    "        important_features.append(key)"
   ]
  },
  {
   "cell_type": "code",
   "execution_count": 106,
   "metadata": {},
   "outputs": [],
   "source": [
    "train_labels = train_labels[important_features]\n",
    "test_labels = test_labels[important_features]\n",
    "val_labels = val_labels[important_features]"
   ]
  },
  {
   "cell_type": "code",
   "execution_count": 114,
   "metadata": {},
   "outputs": [
    {
     "data": {
      "text/plain": [
       "XGBRegressor(base_score=0.5, booster='gbtree', colsample_bylevel=1,\n",
       "             colsample_bynode=1, colsample_bytree=1, enable_categorical=False,\n",
       "             eval_metric='rmsle', gamma=0, gpu_id=-1, importance_type=None,\n",
       "             interaction_constraints='', learning_rate=0.300000012,\n",
       "             max_delta_step=0, max_depth=6, min_child_weight=1, missing=nan,\n",
       "             monotone_constraints='()', n_estimators=100, n_jobs=8,\n",
       "             num_parallel_tree=1, predictor='auto', random_state=0, reg_alpha=0,\n",
       "             reg_lambda=1, scale_pos_weight=1, subsample=1, tree_method='exact',\n",
       "             validate_parameters=1, verbosity=None)"
      ]
     },
     "execution_count": 114,
     "metadata": {},
     "output_type": "execute_result"
    }
   ],
   "source": [
    "xgb_model_2 = xgboost.XGBRegressor(eval_metric=\"rmsle\")\n",
    "xgb_model_2.fit(train_labels, train_targets, eval_set=[(train_labels, train_targets), (val_labels, val_targets)], early_stopping_rounds=10, verbose=False)"
   ]
  },
  {
   "cell_type": "code",
   "execution_count": 115,
   "metadata": {},
   "outputs": [
    {
     "name": "stdout",
     "output_type": "stream",
     "text": [
      "XGBoost RMSLE: 0.18889299183479616\n"
     ]
    }
   ],
   "source": [
    "results = xgb_model_2.evals_result()\n",
    "xgb_prediction = xgb_model_2.predict(val_labels)\n",
    "xgb_rmsle = handout_RMSLE(val_targets, xgb_prediction)\n",
    "print('XGBoost RMSLE:', xgb_rmsle)\n",
    "epochs = len(results['validation_0']['rmsle'])\n",
    "x_axis = range(0, epochs)"
   ]
  },
  {
   "cell_type": "code",
   "execution_count": 116,
   "metadata": {},
   "outputs": [
    {
     "data": {
      "image/png": "[encoded data removed]",
      "text/plain": [
       "<Figure size 432x288 with 1 Axes>"
      ]
     },
     "metadata": {
      "needs_background": "light"
     },
     "output_type": "display_data"
    }
   ],
   "source": [
    "# plot rmsle\n",
    "fig, ax = plt.subplots()\n",
    "ax.plot(x_axis, results['validation_0']['rmsle'], label='Train')\n",
    "ax.plot(x_axis, results['validation_1']['rmsle'], label='Test')\n",
    "ax.legend()\n",
    "plt.ylabel('rmsle')\n",
    "plt.title('XGBoost rmsle')\n",
    "plt.show()"
   ]
  },
  {
   "cell_type": "code",
   "execution_count": 117,
   "metadata": {},
   "outputs": [
    {
     "data": {
      "image/png": "[encoded data removed]",
      "text/plain": [
       "<Figure size 1872x288 with 1 Axes>"
      ]
     },
     "metadata": {
      "needs_background": "light"
     },
     "output_type": "display_data"
    }
   ],
   "source": [
    "plt.figure(figsize=(26, 4))\n",
    "plt.bar(train_labels.columns.tolist(), xgb_model_2.feature_importances_)\n",
    "plt.xticks(rotation=90)\n",
    "plt.show()"
   ]
  },
  {
   "cell_type": "code",
   "execution_count": 119,
   "metadata": {},
   "outputs": [],
   "source": [
    "predict_and_store(xgb_model_2, test_labels, test, path=\"boosting_predictions/xgboost_1_1\") # removing some features 0.18889299183479616 "
   ]
  },
  {
   "cell_type": "code",
   "execution_count": 120,
   "metadata": {},
   "outputs": [
    {
     "data": {
      "text/plain": [
       "XGBRegressor(base_score=0.5, booster='gbtree', colsample_bylevel=1,\n",
       "             colsample_bynode=1, colsample_bytree=1, enable_categorical=False,\n",
       "             eval_metric='rmsle', gamma=0, gpu_id=-1, importance_type=None,\n",
       "             interaction_constraints='', learning_rate=0.300000012,\n",
       "             max_delta_step=0, max_depth=6, min_child_weight=1, missing=nan,\n",
       "             monotone_constraints='()', n_estimators=100, n_jobs=8,\n",
       "             num_parallel_tree=1, predictor='auto', random_state=0, reg_alpha=0,\n",
       "             reg_lambda=1, scale_pos_weight=1, subsample=1, tree_method='exact',\n",
       "             validate_parameters=1, verbosity=None)"
      ]
     },
     "execution_count": 120,
     "metadata": {},
     "output_type": "execute_result"
    }
   ],
   "source": [
    "## Without early stop\n",
    "xgb_model_3 = xgboost.XGBRegressor(eval_metric=\"rmsle\")\n",
    "xgb_model_3.fit(train_labels, train_targets, eval_set=[(train_labels, train_targets), (val_labels, val_targets)], verbose=False)"
   ]
  },
  {
   "cell_type": "code",
   "execution_count": 121,
   "metadata": {},
   "outputs": [
    {
     "name": "stdout",
     "output_type": "stream",
     "text": [
      "XGBoost RMSLE: 0.18908033067070468\n"
     ]
    }
   ],
   "source": [
    "results = xgb_model_3.evals_result()\n",
    "xgb_prediction = xgb_model_3.predict(val_labels)\n",
    "xgb_rmsle = handout_RMSLE(val_targets, xgb_prediction)\n",
    "print('XGBoost RMSLE:', xgb_rmsle)\n",
    "epochs = len(results['validation_0']['rmsle'])\n",
    "x_axis = range(0, epochs)"
   ]
  },
  {
   "cell_type": "code",
   "execution_count": 122,
   "metadata": {},
   "outputs": [
    {
     "data": {
      "image/png": "[encoded data removed]",
      "text/plain": [
       "<Figure size 432x288 with 1 Axes>"
      ]
     },
     "metadata": {
      "needs_background": "light"
     },
     "output_type": "display_data"
    }
   ],
   "source": [
    "# plot rmsle\n",
    "fig, ax = plt.subplots()\n",
    "ax.plot(x_axis, results['validation_0']['rmsle'], label='Train')\n",
    "ax.plot(x_axis, results['validation_1']['rmsle'], label='Test')\n",
    "ax.legend()\n",
    "plt.ylabel('rmsle')\n",
    "plt.title('XGBoost rmsle')\n",
    "plt.show()"
   ]
  },
  {
   "cell_type": "code",
   "execution_count": 124,
   "metadata": {},
   "outputs": [
    {
     "data": {
      "image/png": "[encoded data removed]",
      "text/plain": [
       "<Figure size 1872x288 with 1 Axes>"
      ]
     },
     "metadata": {
      "needs_background": "light"
     },
     "output_type": "display_data"
    }
   ],
   "source": [
    "plt.figure(figsize=(26, 4))\n",
    "plt.bar(train_labels.columns.tolist(), xgb_model_3.feature_importances_)\n",
    "plt.xticks(rotation=90)\n",
    "plt.show()"
   ]
  },
  {
   "cell_type": "code",
   "execution_count": 126,
   "metadata": {
    "tags": []
   },
   "outputs": [],
   "source": [
    "predict_and_store(xgb_model_3, test_labels, test, path=\"boosting_predictions/xgboost_1_2\") # Remove ealry stopping? Still stopped early..?"
   ]
  },
  {
   "cell_type": "markdown",
   "metadata": {
    "jp-MarkdownHeadingCollapsed": true,
    "tags": []
   },
   "source": [
    "### Grouped validation"
   ]
  },
  {
   "cell_type": "code",
   "execution_count": 170,
   "metadata": {},
   "outputs": [],
   "source": [
    "%run ../common_utils.py"
   ]
  },
  {
   "cell_type": "code",
   "execution_count": 171,
   "metadata": {},
   "outputs": [],
   "source": [
    "# ALL, and building ID!\n",
    "features =           [\"building_id\", \"area_total\", \"area_kitchen\", \"area_living\", \"floor\", \"ceiling\", \"stories\", \"rooms\", \"bathrooms_private\", \"bathrooms_shared\", \"balconies\",\"loggias\", \"phones\", \"latitude\", \"longitude\", \"constructed\", # Numerical\n",
    "                     \"layout\", \"condition\", \"district\", \"material\", \"parking\", \"heating\", \"seller\", #Categorical\n",
    "                      \"windows_court\", \"windows_street\", \"new\", \"elevator_without\", \"elevator_passenger\", \"elevator_service\", \"garbage_chute\"] # Bool\n",
    "                     #\"street\", \"address\"] #String\n",
    "\n",
    "numerical_features = [\"area_total\", \"area_kitchen\", \"area_living\", \"floor\",\n",
    "                      \"ceiling\", \"stories\", \"rooms\", \"bathrooms_private\", \"bathrooms_shared\", \"balconies\",\"loggias\", \"phones\", \"latitude\", \"longitude\", \"constructed\"]\n",
    "\n",
    "cat_features = [\"layout\", \"condition\", \"district\", \"material\", \"parking\", \"heating\", \"seller\"]\n",
    "\n",
    "droptable = ['longitude', 'latitude']"
   ]
  },
  {
   "cell_type": "code",
   "execution_count": 172,
   "metadata": {},
   "outputs": [],
   "source": [
    "train_labels, train_targets, test_labels = pre_process_numerical(features, numerical_features, train, test,\n",
    "                    outliers_value=7, val_data=False, val_split=0.1, random_state=42, scaler=\"minMax\",\n",
    "                    add_R=True, add_rel_height=True, add_spacious=True, droptable=droptable,\n",
    "                    one_hot_encode=True, cat_features=cat_features, drop_old=True)"
   ]
  },
  {
   "cell_type": "code",
   "execution_count": 173,
   "metadata": {},
   "outputs": [],
   "source": [
    "xgb_model = xgboost.XGBRegressor(eval_metric=\"rmsle\")"
   ]
  },
  {
   "cell_type": "code",
   "execution_count": 174,
   "metadata": {},
   "outputs": [],
   "source": [
    "scores, avg, best_model, best_index = XGB_groupKFold(5, xgb_model, train_labels, np.log(train_targets),\n",
    "    eval_metric='rmsle')"
   ]
  },
  {
   "cell_type": "code",
   "execution_count": 175,
   "metadata": {},
   "outputs": [
    {
     "name": "stdout",
     "output_type": "stream",
     "text": [
      "[0.2173668035170326, 0.22084274126952558, 0.19567189829890033, 0.2254769135547558, 0.22879392874440108]\n",
      "=> 0.2176304570769231\n"
     ]
    }
   ],
   "source": [
    "print(scores)\n",
    "print(\"=>\",avg)"
   ]
  },
  {
   "cell_type": "markdown",
   "metadata": {
    "jp-MarkdownHeadingCollapsed": true,
    "tags": []
   },
   "source": [
    "### Train again, removing less important features"
   ]
  },
  {
   "cell_type": "code",
   "execution_count": 176,
   "metadata": {},
   "outputs": [],
   "source": [
    "# remove less important features\n",
    "importance = dict(zip(train_labels.columns.tolist(), best_model.feature_importances_))"
   ]
  },
  {
   "cell_type": "code",
   "execution_count": 177,
   "metadata": {},
   "outputs": [],
   "source": [
    "important_features = []\n",
    "for key in importance.keys():\n",
    "    if importance[key] > 0.005:\n",
    "        important_features.append(key)\n",
    "important_features.append(\"building_id\")"
   ]
  },
  {
   "cell_type": "code",
   "execution_count": 178,
   "metadata": {},
   "outputs": [],
   "source": [
    "train_labels = train_labels[important_features]\n",
    "test_labels = test_labels[important_features]"
   ]
  },
  {
   "cell_type": "code",
   "execution_count": 179,
   "metadata": {},
   "outputs": [],
   "source": [
    "xgb_model = xgboost.XGBRegressor()"
   ]
  },
  {
   "cell_type": "code",
   "execution_count": 180,
   "metadata": {},
   "outputs": [],
   "source": [
    "scores, avg, best_model, best_index = XGB_groupKFold(5, xgb_model, train_labels, np.log(train_targets),\n",
    "    eval_metric='rmsle')"
   ]
  },
  {
   "cell_type": "code",
   "execution_count": 181,
   "metadata": {},
   "outputs": [
    {
     "name": "stdout",
     "output_type": "stream",
     "text": [
      "[0.2300635842928966, 0.2147728723163454, 0.19870266770789563, 0.222449935363716, 0.25161717595296035]\n",
      "=> 0.22352124712676277\n"
     ]
    }
   ],
   "source": [
    "print(scores)\n",
    "print(\"=>\",avg)"
   ]
  },
  {
   "cell_type": "markdown",
   "metadata": {
    "jp-MarkdownHeadingCollapsed": true,
    "tags": []
   },
   "source": [
    "### Instead of one-hot, just keep numerical encoding!"
   ]
  },
  {
   "cell_type": "code",
   "execution_count": 183,
   "metadata": {},
   "outputs": [],
   "source": [
    "%run ../common_utils.py"
   ]
  },
  {
   "cell_type": "code",
   "execution_count": 184,
   "metadata": {},
   "outputs": [],
   "source": [
    "# ALL, and building ID!\n",
    "features =           [\"building_id\", \"area_total\", \"area_kitchen\", \"area_living\", \"floor\", \"ceiling\", \"stories\", \"rooms\", \"bathrooms_private\", \"bathrooms_shared\", \"balconies\",\"loggias\", \"phones\", \"latitude\", \"longitude\", \"constructed\", # Numerical\n",
    "                     \"layout\", \"condition\", \"district\", \"material\", \"parking\", \"heating\", \"seller\", #Categorical\n",
    "                      \"windows_court\", \"windows_street\", \"new\", \"elevator_without\", \"elevator_passenger\", \"elevator_service\", \"garbage_chute\"] # Bool\n",
    "                     #\"street\", \"address\"] #String\n",
    "\n",
    "numerical_features = [\"area_total\", \"area_kitchen\", \"area_living\", \"floor\",\n",
    "                      \"ceiling\", \"stories\", \"rooms\", \"bathrooms_private\", \"bathrooms_shared\", \"balconies\",\"loggias\", \"phones\", \"latitude\", \"longitude\", \"constructed\"]\n",
    "\n",
    "cat_features = [\"layout\", \"condition\", \"district\", \"material\", \"parking\", \"heating\", \"seller\"]\n",
    "\n",
    "droptable = ['longitude', 'latitude']"
   ]
  },
  {
   "cell_type": "code",
   "execution_count": 185,
   "metadata": {},
   "outputs": [],
   "source": [
    "train_labels, train_targets, test_labels = pre_process_numerical(features, numerical_features, train, test,\n",
    "                    outliers_value=7, val_data=False, val_split=0.1, random_state=42, scaler=\"minMax\",\n",
    "                    add_R=True, add_rel_height=True, add_spacious=True, droptable=droptable,\n",
    "                    one_hot_encode=False, cat_features=cat_features, drop_old=True) # FALSE!"
   ]
  },
  {
   "cell_type": "code",
   "execution_count": 186,
   "metadata": {},
   "outputs": [],
   "source": [
    "xgb_model = xgboost.XGBRegressor()"
   ]
  },
  {
   "cell_type": "code",
   "execution_count": 187,
   "metadata": {},
   "outputs": [],
   "source": [
    "scores, avg, best_model, best_index = XGB_groupKFold(5, xgb_model, train_labels, np.log(train_targets),\n",
    "    eval_metric='rmsle')"
   ]
  },
  {
   "cell_type": "code",
   "execution_count": 188,
   "metadata": {},
   "outputs": [
    {
     "name": "stdout",
     "output_type": "stream",
     "text": [
      "[0.21809380864569033, 0.2215233953756159, 0.19050211303649378, 0.20765674423950248, 0.24716529027741654]\n",
      "=> 0.2169882703149438\n"
     ]
    }
   ],
   "source": [
    "print(scores)\n",
    "print(\"=>\",avg)"
   ]
  },
  {
   "cell_type": "code",
   "execution_count": 189,
   "metadata": {},
   "outputs": [
    {
     "data": {
      "image/png": "[encoded data removed]",
      "text/plain": [
       "<Figure size 1872x288 with 1 Axes>"
      ]
     },
     "metadata": {
      "needs_background": "light"
     },
     "output_type": "display_data"
    }
   ],
   "source": [
    "plt.figure(figsize=(26, 4))\n",
    "plt.bar(train_labels.columns.tolist(), best_model.feature_importances_)\n",
    "plt.xticks(rotation=90)\n",
    "plt.show()"
   ]
  },
  {
   "cell_type": "code",
   "execution_count": 191,
   "metadata": {},
   "outputs": [],
   "source": [
    "# Remove most features\n",
    "important_features = [\"building_id\", \"area_total\", \"condition\", \"district\", \"material\", \"parking\", \"r\"]\n",
    "train_labels = train_labels[important_features]\n",
    "test_labels = test_labels[important_features]"
   ]
  },
  {
   "cell_type": "code",
   "execution_count": 192,
   "metadata": {},
   "outputs": [],
   "source": [
    "xgb_model = xgboost.XGBRegressor()"
   ]
  },
  {
   "cell_type": "code",
   "execution_count": 193,
   "metadata": {},
   "outputs": [
    {
     "name": "stdout",
     "output_type": "stream",
     "text": [
      "[0.22491496629761598, 0.23427090637392414, 0.22401013112338758, 0.2332019822090892, 0.2698426529090872]\n",
      "=> 0.23724812778262078\n"
     ]
    }
   ],
   "source": [
    "scores, avg, best_model, best_index = XGB_groupKFold(5, xgb_model, train_labels, np.log(train_targets),\n",
    "    eval_metric='rmsle')\n",
    "print(scores)\n",
    "print(\"=>\",avg)"
   ]
  },
  {
   "cell_type": "code",
   "execution_count": 194,
   "metadata": {},
   "outputs": [
    {
     "data": {
      "image/png": "[encoded data removed]",
      "text/plain": [
       "<Figure size 1872x288 with 1 Axes>"
      ]
     },
     "metadata": {
      "needs_background": "light"
     },
     "output_type": "display_data"
    }
   ],
   "source": [
    "plt.figure(figsize=(26, 4))\n",
    "plt.bar(train_labels.columns.tolist(), best_model.feature_importances_)\n",
    "plt.xticks(rotation=90)\n",
    "plt.show()"
   ]
  },
  {
   "cell_type": "markdown",
   "metadata": {
    "jp-MarkdownHeadingCollapsed": true,
    "tags": []
   },
   "source": [
    "### Hyperparameter tuning\n",
    "1. What we have learned: One-hot gives pretty much same score as just numerical encoding. Ordinality seems useless for this method.\n",
    "2. Using more features is almost always better.\n",
    "\n",
    "https://www.analyticsvidhya.com/blog/2016/03/complete-guide-parameter-tuning-xgboost-with-codes-python/\n",
    "https://towardsdatascience.com/xgboost-fine-tune-and-optimize-your-model-23d996fab663\n",
    "https://blog.cambridgespark.com/hyperparameter-tuning-in-xgboost-4ff9100a3b2f"
   ]
  },
  {
   "cell_type": "code",
   "execution_count": 199,
   "metadata": {},
   "outputs": [],
   "source": [
    "%run ../common_utils.py\n",
    "train_labels, train_targets, test_labels = pre_process_numerical(features, numerical_features, train, test,\n",
    "                    outliers_value=7, val_data=False, val_split=0.1, random_state=42, scaler=\"minMax\",\n",
    "                    add_R=True, add_rel_height=True, add_spacious=True, droptable=droptable,\n",
    "                    one_hot_encode=False, cat_features=cat_features, drop_old=True)"
   ]
  },
  {
   "cell_type": "code",
   "execution_count": 218,
   "metadata": {},
   "outputs": [],
   "source": [
    "#parameters_for_testing = {\n",
    "#    'colsample_bytree':[0.4,0.6,0.8],\n",
    "#    'gamma':[0,0.03,0.1,0.3],\n",
    "#    'min_child_weight':[1.5,6,10],\n",
    "#    'learning_rate':[0.1,0.07],\n",
    "#    'max_depth':[3, 10, 5],\n",
    "#    'n_estimators':[10000],\n",
    "#    'reg_alpha':[1e-5, 1e-2,  0.75],\n",
    "#    'reg_lambda':[1e-5, 1e-2, 0.45],\n",
    "#    'subsample':[0.6,0.95]  \n",
    "#}"
   ]
  },
  {
   "cell_type": "code",
   "execution_count": 246,
   "metadata": {},
   "outputs": [],
   "source": [
    "xgb_model = xgboost.XGBRegressor(max_depth=5, min_child_weight=12, gamma=0.15, subsample=0.8, colsample_bytree=0.8, reg_alpha=1.1, reg_lambda=0.3) #learning_rate=0.01, n_estimators=10000\n",
    "\n",
    "parameters_for_testing = {\n",
    "    #'min_child_weight':[12, 13, 14, 15, 16, 17, 18, 19, 20], #\n",
    "    #'max_depth':[3, 4, 5, 6],\n",
    "    #'subsample':[0.78,0.8, 0.83],  # – Subsample ratio of the training instance\n",
    "    #'colsample_bytree':[0.78,0.8, 0.83], #– Subsample ratio of columns when constructing each tree\n",
    "    #'gamma':[0, 0.01, 0.05, 0.1, 0.15, 0.2], # -Minimum loss reduction required to make a further partition on a leaf node of the tree\n",
    "    #'learning_rate':[0.01, 0.05, 0.1, 0.15],\n",
    "    #'n_estimators':[200, 500, 10000, 5000],\n",
    "    #'reg_alpha':[0.9, 1, 1.1, 1.2],\n",
    "    #'reg_lambda':[0.3, 0.35, 0.4, 0.45, 0.5],\n",
    "}\n",
    "\n",
    "gsearch1 = GridSearchCV(\n",
    "    estimator=xgb_model, \n",
    "    param_grid=parameters_for_testing, \n",
    "    cv=5, verbose=10, \n",
    "    n_jobs=-1, \n",
    "    scoring=\"neg_mean_squared_error\",\n",
    "    #early_stopping_rounds=10\n",
    ")"
   ]
  },
  {
   "cell_type": "code",
   "execution_count": 247,
   "metadata": {
    "tags": []
   },
   "outputs": [
    {
     "name": "stdout",
     "output_type": "stream",
     "text": [
      "Fitting 5 folds for each of 5 candidates, totalling 25 fits\n"
     ]
    }
   ],
   "source": [
    "fit = gsearch1.fit(train_labels, np.log(train_targets)) #NB! logging to get ms(l)e"
   ]
  },
  {
   "cell_type": "code",
   "execution_count": 248,
   "metadata": {},
   "outputs": [
    {
     "name": "stdout",
     "output_type": "stream",
     "text": [
      "best params\n",
      "{'reg_lambda': 0.3}\n",
      "best score\n",
      "-0.057519258075576195\n"
     ]
    }
   ],
   "source": [
    "print('best params')\n",
    "print (gsearch1.best_params_)\n",
    "print('best score')\n",
    "print (gsearch1.best_score_)"
   ]
  },
  {
   "cell_type": "markdown",
   "metadata": {},
   "source": [
    "-----------------------------------------\n",
    "#1\n",
    "'min_child_weight':[1,6,10], -> 10\n",
    "'max_depth':[5,10,30], -> 5\n",
    "#2\n",
    "'min_child_weight':[9, 10, 11, 12], -> 12\n",
    "'max_depth':[3, 4, 5, 6], -> 5!\n",
    "#3\n",
    "'min_child_weight':[12, 13, 14, 15, 16, 17, 18, 19, 20] -> 12!\n",
    "-----------------------------------------\n",
    "#1\n",
    "'subsample':[0.6, 0.7,0.8,0.9],  -> 0.8\n",
    "'colsample_bytree':[0.6, 0.7,0.8,0.9], -> 0.8\n",
    "#2\n",
    "'subsample':[0.78,0.8, 0.83], -> 0.8!\n",
    "'colsample_bytree':[0.78,0.8, 0.83], -> 0.8!\n",
    "-----------------------------------------\n",
    "#1\n",
    "'gamma':[0, 0.01, 0.05, 0.1, 0.15, 0.2], -> 0.15\n",
    "-----------------------------------------\n",
    "#1\n",
    "'learning_rate':[0.01, 0.05, 0.1, 0.15], -> 0.01\n",
    "'n_estimators':[200, 500, 10000, 5000], -> 10000\n",
    "-----------------------------------------\n",
    "#1\n",
    "'reg_alpha':[1e-5, 1e-2,  0.75], -> 0.75\n",
    "'reg_lambda':[1e-5, 1e-2, 0.45], -> 0.01\n",
    "\n",
    "#2\n",
    "'reg_alpha':[0.1, 0.4, 0.75, 0.9], -> 0.9\n",
    "'reg_lambda':[0.005, 1e-2, 0.1, 0.15], -> 0.15\n",
    "\n",
    "#3\n",
    "'reg_alpha':[0.9, 1, 1.1, 1.2], ->1.1\n",
    "'reg_lambda':[0.15, 0.2, 0.25, 0.3], -> 0.3\n",
    "\n",
    "#4\n",
    "'reg_lambda':[0.3, 0.35, 0.4, 0.45, 0.5], -> 0.3"
   ]
  },
  {
   "cell_type": "markdown",
   "metadata": {
    "tags": []
   },
   "source": [
    "### Now test these \"best\" parameters"
   ]
  },
  {
   "cell_type": "code",
   "execution_count": 35,
   "metadata": {},
   "outputs": [],
   "source": [
    "%run ../common_utils.py"
   ]
  },
  {
   "cell_type": "code",
   "execution_count": 36,
   "metadata": {},
   "outputs": [],
   "source": [
    "# ALL, and building ID!\n",
    "features =           [\"building_id\", # For grouping\n",
    "                      \"area_total\", \"area_kitchen\", \"area_living\", \"floor\", \"ceiling\", \"stories\", \"rooms\", \"bathrooms_private\", \"bathrooms_shared\", \"balconies\",\"loggias\", \"phones\", \"latitude\", \"longitude\", \"constructed\", # Numerical\n",
    "                     \"layout\", \"condition\", \"district\", \"material\", \"parking\", \"heating\", \"seller\", #Categorical\n",
    "                      \"windows_court\", \"windows_street\", \"new\", \"elevator_without\", \"elevator_passenger\", \"elevator_service\", \"garbage_chute\"] # Bool\n",
    "                     #\"street\", \"address\"] #String\n",
    "\n",
    "numerical_features = [\"area_total\", \"area_kitchen\", \"area_living\", \"floor\",\n",
    "                      \"ceiling\", \"stories\", \"rooms\", \"bathrooms_private\", \"bathrooms_shared\", \"balconies\",\"loggias\", \"phones\", \"latitude\", \"longitude\", \"constructed\"]\n",
    "\n",
    "cat_features = [\"layout\", \"condition\", \"district\", \"material\", \"parking\", \"heating\", \"seller\"]\n",
    "\n",
    "droptable = ['longitude', 'latitude']"
   ]
  },
  {
   "cell_type": "code",
   "execution_count": 37,
   "metadata": {},
   "outputs": [],
   "source": [
    "train, test, metaData = load_all_data()"
   ]
  },
  {
   "cell_type": "code",
   "execution_count": 38,
   "metadata": {},
   "outputs": [],
   "source": [
    "train_labels, train_targets, test_labels = pre_process_numerical(features, numerical_features, train, test,\n",
    "                    outliers_value=7, val_data=False, val_split=0.1, random_state=42, scaler=\"minMax\",\n",
    "                    add_R=True, add_rel_height=True, add_spacious=True, droptable=droptable,\n",
    "                    one_hot_encode=False, cat_features=cat_features, drop_old=True) # FALSE!"
   ]
  },
  {
   "cell_type": "code",
   "execution_count": 39,
   "metadata": {},
   "outputs": [],
   "source": [
    "# The seperately tuned model.\n",
    "xgb_model = xgboost.XGBRegressor(max_depth=5, min_child_weight=12, gamma=0.15, subsample=0.8, colsample_bytree=0.8, reg_alpha=1.1, reg_lambda=0.3, learning_rate=0.01, n_estimators=10000)"
   ]
  },
  {
   "cell_type": "code",
   "execution_count": 40,
   "metadata": {},
   "outputs": [],
   "source": [
    "# We are passing targets as log, as we dont have a rmsle loss, only an rmse\n",
    "scores, avg, best_model, best_index = XGB_groupKFold(5, xgb_model, train_labels, np.log(train_targets),\n",
    "    eval_metric='rmse')"
   ]
  },
  {
   "cell_type": "code",
   "execution_count": 41,
   "metadata": {},
   "outputs": [
    {
     "name": "stdout",
     "output_type": "stream",
     "text": [
      "[0.20997854778572503, 0.20411401428401665, 0.1810377837518819, 0.20409205016570606, 0.23974537130488005]\n",
      "=> 0.20779355345844194\n"
     ]
    }
   ],
   "source": [
    "print(scores)\n",
    "print(\"=>\",avg)"
   ]
  },
  {
   "cell_type": "code",
   "execution_count": 43,
   "metadata": {},
   "outputs": [
    {
     "data": {
      "image/png": "[encoded data removed]",
      "text/plain": [
       "<Figure size 1872x288 with 1 Axes>"
      ]
     },
     "metadata": {
      "needs_background": "light"
     },
     "output_type": "display_data"
    }
   ],
   "source": [
    "plt.figure(figsize=(26, 4))\n",
    "plt.bar(train_labels.drop([\"building_id\"], axis=1).columns.tolist(), best_model.feature_importances_)\n",
    "plt.xticks(rotation=90)\n",
    "plt.show()"
   ]
  },
  {
   "cell_type": "code",
   "execution_count": 46,
   "metadata": {},
   "outputs": [],
   "source": [
    "predict_and_store(best_model, test_labels.drop([\"building_id\"], axis=1), test, path=\"boosting_predictions/hypertuned_1_1\", exponential=True)"
   ]
  },
  {
   "cell_type": "code",
   "execution_count": 21,
   "metadata": {},
   "outputs": [],
   "source": [
    "# For hypertuned_1_0: Using hypertuned parameters, on all features, just using categorical data as is (numeical that is)\n",
    "# For hypertuned_1_1: metric rmse was used instead of rmsle as we pass log(y) as target, and also! Drop \"buildig_id\" after grouping"
   ]
  },
  {
   "cell_type": "markdown",
   "metadata": {
    "jp-MarkdownHeadingCollapsed": true,
    "tags": []
   },
   "source": [
    "### Hyperparameter tuning on all at the same time! Night-time run..."
   ]
  },
  {
   "cell_type": "code",
   "execution_count": null,
   "metadata": {},
   "outputs": [],
   "source": []
  },
  {
   "cell_type": "code",
   "execution_count": 52,
   "metadata": {},
   "outputs": [],
   "source": [
    "train, test, metaData = load_all_data()"
   ]
  },
  {
   "cell_type": "code",
   "execution_count": 53,
   "metadata": {},
   "outputs": [
    {
     "name": "stdout",
     "output_type": "stream",
     "text": [
      "minMax\n"
     ]
    }
   ],
   "source": [
    "%run ../common_utils.py\n",
    "train_labels, train_targets, test_labels = pre_process_numerical(features, numerical_features, train, test,\n",
    "                    outliers_value=7, val_data=False, val_split=0.1, random_state=42, scaler=\"minMax\",\n",
    "                    add_R=True, add_rel_height=True, add_spacious=True, droptable=droptable,\n",
    "                    one_hot_encode=False, cat_features=cat_features, drop_old=True)"
   ]
  },
  {
   "cell_type": "code",
   "execution_count": 54,
   "metadata": {},
   "outputs": [],
   "source": [
    "xgb_model = xgboost.XGBRegressor(max_depth=5, min_child_weight=12, gamma=0.15, subsample=0.8, colsample_bytree=0.8, reg_alpha=1.1, reg_lambda=0.3, learning_rate=0.01, n_estimators=10000)\n",
    "\n",
    "parameters_for_testing = {\n",
    "    'min_child_weight':[11, 12, 13], #\n",
    "    'max_depth':[4, 5, 6],\n",
    "    'subsample':[0.7,0.8, 0.9],  # – Subsample ratio of the training instance\n",
    "    'colsample_bytree':[0.7,0.8, 0.9], #– Subsample ratio of columns when constructing each tree\n",
    "    'gamma':[0.1, 0.15, 0.2], # -Minimum loss reduction required to make a further partition on a leaf node of the tree\n",
    "    'learning_rate':[0.01, 0.1, 0.2],\n",
    "    'n_estimators':[500, 1000, 5000],\n",
    "    'reg_alpha':[0.9, 1.1, 1.3],\n",
    "    'reg_lambda':[0.1, 0.3, 0.5],\n",
    "}\n",
    "\n",
    "gsearch1 = GridSearchCV(\n",
    "    estimator=xgb_model, \n",
    "    param_grid=parameters_for_testing, \n",
    "    cv=5, verbose=10, \n",
    "    n_jobs=-1, \n",
    "    scoring=\"neg_mean_squared_error\",\n",
    ")"
   ]
  },
  {
   "cell_type": "code",
   "execution_count": null,
   "metadata": {},
   "outputs": [
    {
     "name": "stdout",
     "output_type": "stream",
     "text": [
      "Fitting 5 folds for each of 19683 candidates, totalling 98415 fits\n"
     ]
    }
   ],
   "source": [
    "fit = gsearch1.fit(train_labels, np.log(train_targets)) #NB! logging to get ms(l)e"
   ]
  },
  {
   "cell_type": "code",
   "execution_count": null,
   "metadata": {},
   "outputs": [],
   "source": [
    "print('best params')\n",
    "print (gsearch1.best_params_)\n",
    "print('best score')\n",
    "\n",
    "print (gsearch1.best_score_)"
   ]
  },
  {
   "cell_type": "markdown",
   "metadata": {
    "tags": []
   },
   "source": [
    "### Experiment with the new fillnans\n"
   ]
  },
  {
   "cell_type": "code",
   "execution_count": 62,
   "metadata": {},
   "outputs": [],
   "source": [
    "%run ../common_utils.py"
   ]
  },
  {
   "cell_type": "code",
   "execution_count": 63,
   "metadata": {},
   "outputs": [],
   "source": [
    "# ALL, and building ID!\n",
    "features =           [\"building_id\", # For grouping\n",
    "                      \"area_total\", \"area_kitchen\", \"area_living\", \"floor\", \"ceiling\", \"stories\", \"rooms\",\n",
    "                      \"bathrooms_private\", \"bathrooms_shared\", \"balconies\",\"loggias\", \"phones\", \"latitude\", \"longitude\", \"constructed\", # Numerical\n",
    "                     \"layout\", \"condition\", \"district\", \"material\", \"parking\", \"heating\", \"seller\", #Categorical\n",
    "                      \"windows_court\", \"windows_street\", \"new\", \"elevator_without\", \"elevator_passenger\", \"elevator_service\", \"garbage_chute\"] # Bool\n",
    "                     #\"street\", \"address\"] # Strings\n",
    "\n",
    "float_numerical_features = [\"area_total\", \"area_kitchen\", \"area_living\", \"ceiling\", \"latitude\", \"longitude\"]\n",
    "int_numerical_features = [\"floor\", \"stories\", \"rooms\", \"bathrooms_private\", \"bathrooms_shared\", \"balconies\", \"loggias\", \"phones\", \"constructed\"] # Ordinal categories\n",
    "\n",
    "cat_features = [\"layout\", \"condition\", \"district\", \"material\", \"parking\", \"heating\", \"seller\"] # All are non-ordinal cat features\n",
    "\n",
    "droptable = ['longitude', 'latitude']"
   ]
  },
  {
   "cell_type": "code",
   "execution_count": 64,
   "metadata": {},
   "outputs": [],
   "source": [
    "train, test, metaData = load_all_data()"
   ]
  },
  {
   "cell_type": "code",
   "execution_count": 65,
   "metadata": {},
   "outputs": [
    {
     "name": "stdout",
     "output_type": "stream",
     "text": [
      "minMax\n"
     ]
    }
   ],
   "source": [
    "train_labels, train_targets, test_labels = pre_process_2(train, test, \n",
    "                    features, float_numerical_features, int_numerical_features, cat_features, \n",
    "                    metadata=[], scaler=\"minMax\", \n",
    "                    common_mean=True, professor_laures_fillna=True, \n",
    "                    log_it=[\"area_total\", \"area_living\", \"area_kitchen\"], log_target=True,\n",
    "                    add_R=True, add_rel_height=True, add_spacious=True,\n",
    "                    droptable=[], one_hot_encode=False, drop_old=True)"
   ]
  },
  {
   "cell_type": "code",
   "execution_count": 66,
   "metadata": {},
   "outputs": [],
   "source": [
    "# The seperately tuned model.\n",
    "xgb_model = xgboost.XGBRegressor(max_depth=5, min_child_weight=12, gamma=0.15, subsample=0.8, colsample_bytree=0.8, reg_alpha=1.1, reg_lambda=0.3, learning_rate=0.01, n_estimators=10000)"
   ]
  },
  {
   "cell_type": "code",
   "execution_count": 67,
   "metadata": {},
   "outputs": [],
   "source": [
    "# We are passing targets as log, as we dont have a rmsle loss, only an rmse\n",
    "scores, avg, best_model, best_index = XGB_groupKFold(5, xgb_model, train_labels, train_targets,\n",
    "    eval_metric='rmse')"
   ]
  },
  {
   "cell_type": "code",
   "execution_count": 68,
   "metadata": {},
   "outputs": [
    {
     "name": "stdout",
     "output_type": "stream",
     "text": [
      "[0.20715815563467202, 0.17949259385276173, 0.19895887014373886, 0.18409226266828368, 0.2386161884501295]\n",
      "=> 0.20166361414991715\n"
     ]
    }
   ],
   "source": [
    "print(scores)\n",
    "print(\"=>\",avg)"
   ]
  },
  {
   "cell_type": "code",
   "execution_count": 69,
   "metadata": {},
   "outputs": [
    {
     "data": {
      "image/png": "[encoded data removed]",
      "text/plain": [
       "<Figure size 1872x288 with 1 Axes>"
      ]
     },
     "metadata": {
      "needs_background": "light"
     },
     "output_type": "display_data"
    }
   ],
   "source": [
    "plt.figure(figsize=(26, 4))\n",
    "plt.bar(train_labels.drop([\"building_id\"], axis=1).columns.tolist(), best_model.feature_importances_)\n",
    "plt.xticks(rotation=90)\n",
    "plt.show()"
   ]
  },
  {
   "cell_type": "code",
   "execution_count": 70,
   "metadata": {},
   "outputs": [],
   "source": [
    "# Nan_model_1 uses only the common_mean=TRUE\n",
    "# Nan_model_2 uses only the common_mean=FALSE\n",
    "# Nan_model_3 uses common and also laure's method\n",
    "# nan_model_4: move \"constructed\" to int-features. Got a liiiiitle better\n",
    "predict_and_store(best_model, test_labels.drop([\"building_id\"], axis=1), test, path=\"boosting_predictions/nan_model_5\", exponential=True)"
   ]
  },
  {
   "cell_type": "markdown",
   "metadata": {},
   "source": [
    "# NEWER TECH"
   ]
  },
  {
   "cell_type": "code",
   "execution_count": 19,
   "metadata": {},
   "outputs": [],
   "source": [
    "%run ../common_utils.py"
   ]
  },
  {
   "cell_type": "code",
   "execution_count": 32,
   "metadata": {
    "tags": []
   },
   "outputs": [],
   "source": [
    "# ALL, and building ID!\n",
    "features =           [\"building_id\", # For grouping\n",
    "                      \"area_total\", \"area_kitchen\", \"area_living\", \"floor\", \"ceiling\", \"stories\", \"rooms\",\n",
    "                      \"bathrooms_private\", \"bathrooms_shared\", \"balconies\",\"loggias\", \"phones\", \"latitude\", \"longitude\", \"constructed\", # Numerical\n",
    "                     \"layout\", \"condition\", \"district\", \"material\", \"parking\", \"heating\", \"seller\", #Categorical\n",
    "                      \"windows_court\", \"windows_street\", \"new\", \"elevator_without\", \"elevator_passenger\", \"elevator_service\", \"garbage_chute\", # Bool\n",
    "                     \"street\"] #\"address\"] # Strings\n",
    "\n",
    "float_numerical_features = [\"area_total\", \"area_kitchen\", \"area_living\", \"ceiling\", \"latitude\", \"longitude\", \"constructed\"]\n",
    "int_numerical_features = [\"floor\", \"stories\", \"rooms\", \"bathrooms_private\", \"bathrooms_shared\", \"balconies\", \"loggias\", \"phones\"] # Ordinal categories\n",
    "\n",
    "cat_features = [\"layout\", \"condition\", \"district\", \"material\", \"parking\", \"heating\", \"seller\"] # All are non-ordinal\n",
    "\n",
    "droptable = []"
   ]
  },
  {
   "cell_type": "code",
   "execution_count": 33,
   "metadata": {
    "collapsed": true,
    "jupyter": {
     "outputs_hidden": true
    },
    "tags": []
   },
   "outputs": [
    {
     "name": "stderr",
     "output_type": "stream",
     "text": [
      "C:\\School\\høst 2021\\TDT4173-ML\\common_utils.py:1342: FutureWarning: Dropping of nuisance columns in DataFrame reductions (with 'numeric_only=None') is deprecated; in a future version this will raise TypeError.  Select only valid columns before calling the reduction.\n",
      "  train_labels = train_labels.fillna(train_labels.median()) # Boolean\n",
      "C:\\School\\høst 2021\\TDT4173-ML\\common_utils.py:1351: FutureWarning: Dropping of nuisance columns in DataFrame reductions (with 'numeric_only=None') is deprecated; in a future version this will raise TypeError.  Select only valid columns before calling the reduction.\n",
      "  test_labels = test_labels.fillna(test_labels.median()) # Boolean\n"
     ]
    }
   ],
   "source": [
    "# Load data\n",
    "train, test, metaData = load_all_data()\n",
    "# Clean data\n",
    "train_labels, train_targets, test_labels = clean_data(train, test,\n",
    "                                            features, float_numerical_features, int_numerical_features, cat_features,\n",
    "                                                      log_targets=True, log_area=True, fillNan=True)  # False for XGBoost!"
   ]
  },
  {
   "cell_type": "code",
   "execution_count": 34,
   "metadata": {},
   "outputs": [],
   "source": [
    "train_labels, test_labels, added_features = feature_engineering(train_labels, test_labels,\n",
    "    add_base_features=True, \n",
    "    add_bool_features=True,\n",
    "    add_weak_features=True,\n",
    "    add_dist_to_metro=True,\n",
    "    add_close_to_uni=True,\n",
    "    add_dist_to_hospital=True,\n",
    "    add_floor_features=True,\n",
    "    add_street_info=True,\n",
    "    )"
   ]
  },
  {
   "cell_type": "code",
   "execution_count": 35,
   "metadata": {},
   "outputs": [],
   "source": [
    "#f, ax = plt.subplots(figsize=(2, 12), dpi=100)\n",
    "#heatmap = sns.heatmap(pd.merge(train_labels[added_features], train_targets,\n",
    "#                              left_index=True, right_index=True).corr()[['price']].sort_values(by='price', ascending=False), vmin=-1, vmax=1, annot=True, cmap='BrBG', ax=ax)"
   ]
  },
  {
   "cell_type": "code",
   "execution_count": 36,
   "metadata": {},
   "outputs": [
    {
     "name": "stdout",
     "output_type": "stream",
     "text": [
      "minMax\n"
     ]
    }
   ],
   "source": [
    "# Normalize \n",
    "#NB! why not normalize integer features as well. Also remember new features...\n",
    "#normalize_features = float_numerical_features + int_numerical_features + [\"r\", \"theta\", \"spacious_rooms\", \"rel_living\", \"total_bathrooms\", \"rel_kitchen\", \"rel_height\",\n",
    "#                                                                          \"dist_to_metro_m\", \"dist_to_hospital_m\"]\n",
    "    \n",
    "train_labels, test_labels = normalize(train_labels, test_labels, float_numerical_features, scaler=\"minMax\")\n",
    "\n",
    "# One-hot encoding - not that good with XGBoost.\n",
    "#train_labels, test_labels = one_hot_encoder(train_labels, test_labels, cat_features, drop_old=True)"
   ]
  },
  {
   "cell_type": "code",
   "execution_count": 37,
   "metadata": {},
   "outputs": [],
   "source": [
    "droptable = [\"street\"]\n",
    "train_labels.drop(droptable, inplace=True, axis=1)\n",
    "test_labels.drop(droptable, inplace=True, axis=1)"
   ]
  },
  {
   "cell_type": "code",
   "execution_count": 38,
   "metadata": {},
   "outputs": [],
   "source": [
    "model_params = [5, 12, 0.15, 0.8, 0.8, 1.1, 0.3, 0.01, 10000]\n",
    "scores, avg, best_model, models = XGB_groupKFold(5, model_params, train_labels, train_targets,\n",
    "    eval_metric='rmse')"
   ]
  },
  {
   "cell_type": "code",
   "execution_count": 39,
   "metadata": {},
   "outputs": [
    {
     "name": "stdout",
     "output_type": "stream",
     "text": [
      "[0.21284180942752962, 0.17498083405023973, 0.20026156805107664, 0.18514938148086652, 0.2404937471682823]\n",
      "=> 0.20274546803559898\n"
     ]
    }
   ],
   "source": [
    "print(scores)\n",
    "print(\"=>\",avg)"
   ]
  },
  {
   "cell_type": "code",
   "execution_count": 40,
   "metadata": {},
   "outputs": [
    {
     "data": {
      "image/png": "[encoded data removed]",
      "text/plain": [
       "<Figure size 1872x216 with 1 Axes>"
      ]
     },
     "metadata": {
      "needs_background": "light"
     },
     "output_type": "display_data"
    }
   ],
   "source": [
    "plt.figure(figsize=(26, 3))\n",
    "plt.bar(train_labels.drop([\"building_id\"], axis=1).columns.tolist(), best_model.feature_importances_)\n",
    "plt.xticks(rotation=90)\n",
    "plt.show()"
   ]
  },
  {
   "cell_type": "code",
   "execution_count": 41,
   "metadata": {},
   "outputs": [],
   "source": [
    "## brand_new_features_1 - all new features included. Logging everything. Not filling nans.: 0.177 on kaggle! Really good stuff.\n",
    "## brand_new_features_2 - same, but also normalizing integer values, and new features: 0.18153 - ai, ai, ai!\n",
    "#     => From feature importance: No obvious changes.\n",
    "## brand_new_features_3 - back to 1, but also fillna()!: "
   ]
  },
  {
   "cell_type": "code",
   "execution_count": 42,
   "metadata": {},
   "outputs": [],
   "source": [
    "predict_and_store(best_model, test_labels.drop([\"building_id\"], axis=1), test, path=\"boosting_predictions/brand_new_features_3\", exponential=True)\n",
    "#for i in range(5):\n",
    "#    predict_and_store(models[i], test_labels.drop([\"building_id\"], axis=1), test, path=\"boosting_predictions/new_features_\"+str(i), exponential=True)"
   ]
  },
  {
   "cell_type": "code",
   "execution_count": null,
   "metadata": {},
   "outputs": [],
   "source": []
  },
  {
   "cell_type": "code",
   "execution_count": null,
   "metadata": {},
   "outputs": [],
   "source": []
  },
  {
   "cell_type": "markdown",
   "metadata": {},
   "source": [
    "# TODO\n",
    "- Multicoliinearity https://datascience.stackexchange.com/questions/12554/does-xgboost-handle-multicollinearity-by-itself\n",
    "- Normalize integer values as well? Notice how important room was for the last model; rooms is not normalized!\n",
    "- Get inspired? https://www.kaggle.com/bguberfain/naive-xgb-lb-0-317"
   ]
  },
  {
   "cell_type": "markdown",
   "metadata": {},
   "source": [
    "## Predict price/area instead of price!\n",
    "\n",
    "Not logging price!\n",
    "Needs a new Grouped_K_Fold"
   ]
  },
  {
   "cell_type": "code",
   "execution_count": 69,
   "metadata": {},
   "outputs": [],
   "source": [
    "%run ../common_utils.py"
   ]
  },
  {
   "cell_type": "code",
   "execution_count": 75,
   "metadata": {},
   "outputs": [
    {
     "name": "stdout",
     "output_type": "stream",
     "text": [
      "minMax\n"
     ]
    }
   ],
   "source": [
    "# make sure all data is what we expect\n",
    "features =           [\"building_id\", # For grouping\n",
    "                      \"area_total\", \"area_kitchen\", \"area_living\", \"floor\", \"ceiling\", \"stories\", \"rooms\",\n",
    "                      \"bathrooms_private\", \"bathrooms_shared\", \"balconies\",\"loggias\", \"phones\", \"latitude\", \"longitude\", \"constructed\", # Numerical\n",
    "                     \"layout\", \"condition\", \"district\", \"material\", \"parking\", \"heating\", \"seller\", #Categorical\n",
    "                      \"windows_court\", \"windows_street\", \"new\", \"elevator_without\", \"elevator_passenger\", \"elevator_service\", \"garbage_chute\", # Bool\n",
    "                     \"street\"] #, \"address\"] # Strings\n",
    "\n",
    "all_numerical_features = [\"area_total\", \"area_kitchen\", \"area_living\", \"floor\",\n",
    "                      \"ceiling\", \"stories\", \"rooms\", \"bathrooms_private\", \"bathrooms_shared\", \"balconies\",\"loggias\", \"phones\", \"latitude\", \"longitude\", \"constructed\"]\n",
    "\n",
    "float_numerical_features = [\"area_total\", \"area_kitchen\", \"area_living\", \"ceiling\", \"latitude\", \"longitude\", \"constructed\"]\n",
    "int_numerical_features = [\"floor\", \"stories\", \"rooms\", \"bathrooms_private\", \"bathrooms_shared\", \"balconies\", \"loggias\", \"phones\"] # Ordinal categories\n",
    "\n",
    "cat_features = [\"layout\", \"condition\", \"district\", \"material\", \"parking\", \"heating\", \"seller\"] # All are non-ordinal\n",
    "\n",
    "droptable = [\"street\"]\n",
    "\n",
    "# Load data\n",
    "train, test, metaData = load_all_data()\n",
    "# Clean data. \n",
    "train_labels, train_targets, test_labels = clean_data(train, test, features, float_numerical_features, int_numerical_features, cat_features,\n",
    "                                                      log_targets=False, log_area=True, fillNan=False)\n",
    "# Add new features\n",
    "train_labels, test_labels, added_features = feature_engineering(train_labels, test_labels,\n",
    "    add_base_features=True, \n",
    "    add_bool_features=True,\n",
    "    add_weak_features=True,\n",
    "    add_dist_to_metro=True,\n",
    "    add_close_to_uni=True,\n",
    "    add_dist_to_hospital=True,\n",
    "    add_floor_features=True,\n",
    "    add_street_info=True,\n",
    "    )\n",
    "# Normalize\n",
    "train_labels, test_labels = normalize(train_labels, test_labels, float_numerical_features, scaler=\"minMax\")\n",
    "# One-hot encoding\n",
    "#train_labels, test_labels = one_hot_encoder(train_labels, test_labels, [\"condition\", \"district\", \"material\", \"parking\", \"heating\", \"seller\"], drop_old=True)\n",
    "# Drop some features\n",
    "train_labels.drop(droptable, inplace=True, axis=1)\n",
    "test_labels.drop(droptable, inplace=True, axis=1)"
   ]
  },
  {
   "cell_type": "code",
   "execution_count": 77,
   "metadata": {},
   "outputs": [],
   "source": [
    "price_per_square_meter = train_targets/train['area_total'] # real price / logged area"
   ]
  },
  {
   "cell_type": "code",
   "execution_count": 78,
   "metadata": {},
   "outputs": [],
   "source": [
    "model_params = [5, 12, 0.15, 0.8, 0.8, 1.1, 0.3, 0.01, 10000]"
   ]
  },
  {
   "cell_type": "code",
   "execution_count": 79,
   "metadata": {},
   "outputs": [],
   "source": [
    "scores, avg, best_model, models = XGB_groupKFold(5, model_params,\n",
    "                                                 train_labels.drop(['area_total'],axis=1), np.log(price_per_square_meter),\n",
    "                                                 eval_metric='rmse')\n"
   ]
  },
  {
   "cell_type": "code",
   "execution_count": 80,
   "metadata": {},
   "outputs": [
    {
     "name": "stdout",
     "output_type": "stream",
     "text": [
      "[0.20252494570910018, 0.1719402910622423, 0.19194384452156768, 0.18187339676857273, 0.23624429647388234]\n",
      "=> 0.19690535490707303\n"
     ]
    }
   ],
   "source": [
    "print(scores)\n",
    "print(\"=>\",avg)"
   ]
  },
  {
   "cell_type": "code",
   "execution_count": 81,
   "metadata": {},
   "outputs": [],
   "source": [
    "predict_and_store(best_model, test_labels.drop([\"building_id\", \"area_total\"], axis=1),\n",
    "                  test, path=\"boosting_predictions/price_per_area_1\", exponential=True,\n",
    "                  price_per_sq=True, total_area_df=test_labels[\"area_total\"])"
   ]
  },
  {
   "cell_type": "code",
   "execution_count": null,
   "metadata": {},
   "outputs": [],
   "source": []
  }
 ],
 "metadata": {
  "kernelspec": {
   "display_name": "Python 3 (ipykernel)",
   "language": "python",
   "name": "python3"
  },
  "language_info": {
   "codemirror_mode": {
    "name": "ipython",
    "version": 3
   },
   "file_extension": ".py",
   "mimetype": "text/x-python",
   "name": "python",
   "nbconvert_exporter": "python",
   "pygments_lexer": "ipython3",
   "version": "3.8.7"
  }
 },
 "nbformat": 4,
 "nbformat_minor": 4
}
