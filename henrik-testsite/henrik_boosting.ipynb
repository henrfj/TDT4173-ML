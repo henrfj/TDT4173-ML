{
 "cells": [
  {
   "cell_type": "code",
   "execution_count": 140,
   "metadata": {},
   "outputs": [],
   "source": [
    "import pandas as pd\n",
    "import time\n",
    "import random\n",
    "import math\n",
    "import matplotlib.pyplot as plt\n",
    "import tensorflow as tf\n",
    "import seaborn as sns\n",
    "import numpy as np\n",
    "from scipy import stats\n",
    "from sklearn import preprocessing\n",
    "from sklearn.preprocessing import MinMaxScaler, OneHotEncoder\n",
    "from sklearn.model_selection import train_test_split\n",
    "from sklearn.model_selection import StratifiedKFold\n",
    "from sklearn.model_selection import cross_val_score\n",
    "# Boosting!\n",
    "import xgboost\n",
    "from xgboost import plot_importance\n",
    "from sklearn.model_selection import cross_val_score,KFold\n",
    "from sklearn.metrics import mean_absolute_error\n",
    "import matplotlib.pyplot as plt\n",
    "from scipy.stats import skew\n",
    "from collections import OrderedDict\n",
    "pd.options.mode.chained_assignment = None"
   ]
  },
  {
   "cell_type": "code",
   "execution_count": 6,
   "metadata": {},
   "outputs": [],
   "source": [
    "%run ../common_utils.py"
   ]
  },
  {
   "cell_type": "code",
   "execution_count": 215,
   "metadata": {},
   "outputs": [],
   "source": [
    "def handout_RMSLE(y_true, y_pred):\n",
    "    # Alternatively: sklearn.metrics.mean_squared_log_error(y_true, y_pred) ** 0.5\n",
    "    log_error = np.log1p(y_pred) - np.log1p(y_true)  # Note: log1p(x) = log(1 + x)\n",
    "    return np.mean(log_error ** 2) ** 0.5"
   ]
  },
  {
   "cell_type": "markdown",
   "metadata": {
    "tags": []
   },
   "source": [
    "## 1 - First test of XGBOOST: *eXtreme Gradient Boosting*\n",
    "Just getting it to work. Understand the hyperparameters.\n",
    "\n",
    "Tip from Hasse: you can use reg:squaredlogerror as objective and rsmle as eval_metric for the xgboost model\n",
    "\n",
    "Unlike CatBoost or LGBM, XGBoost cannot handle categorical features by itself, it only accepts numerical values similar to Random Forest. Therefore one has to perform various encodings like label encoding, mean encoding or one-hot encoding before supplying categorical data to XGBoost.\n",
    "\n",
    "The magic of XGBoost: handles nan values! As long as nan is distributed the same across both train and test: ez pz!\n",
    "\n",
    "Good sources;\n",
    "- https://machinelearningmastery.com/avoid-overfitting-by-early-stopping-with-xgboost-in-python/\n",
    "- https://stats.stackexchange.com/questions/235489/xgboost-can-handle-missing-data-in-the-forecasting-phase\n",
    "- https://www.kaggle.com/pablocastilla/predict-house-prices-with-xgboost-regression\n",
    "- https://analyticsindiamag.com/how-to-use-xgboost-to-predict-housing-prices-in-bengaluru-a-practical-guide/\n"
   ]
  },
  {
   "cell_type": "code",
   "execution_count": 218,
   "metadata": {},
   "outputs": [],
   "source": [
    "train, test, metaData = load_all_data()"
   ]
  },
  {
   "cell_type": "code",
   "execution_count": 219,
   "metadata": {},
   "outputs": [],
   "source": [
    "## Remove some of the ones correlated to themselves.\n",
    "#features =           [\"area_total\", \"area_kitchen\", \"area_living\", \"floor\", \"stories\", \"rooms\", \"bathrooms_shared\", \"balconies\", \"latitude\", \"longitude\", \"constructed\", # Numerical\n",
    "#                    \"district\", \"material\", \"parking\"] \n",
    "#\n",
    "#numerical_features = [\"area_total\", \"area_kitchen\", \"area_living\",\n",
    "#                      \"floor\", \"stories\", \"rooms\", \"bathrooms_shared\", \"balconies\", \"latitude\", \"longitude\", \"constructed\"]\n",
    "#\n",
    "#cat_features = [\"district\", \"material\", \"parking\"]\n",
    "#\n",
    "#droptable = ['longitude', 'latitude', 'area_kitchen', 'area_living', 'floor', 'stories'] # Not dropping theta!\n",
    "\n",
    "# ALL\n",
    "features =           [\"area_total\", \"area_kitchen\", \"area_living\", \"floor\", \"ceiling\", \"stories\", \"rooms\", \"bathrooms_private\", \"bathrooms_shared\", \"balconies\",\"loggias\", \"phones\", \"latitude\", \"longitude\", \"constructed\", # Numerical\n",
    "                     \"layout\", \"condition\", \"district\", \"material\", \"parking\", \"heating\", #Categorical\n",
    "                      \"windows_court\", \"windows_street\", \"new\", \"elevator_without\", \"elevator_passenger\", \"elevator_service\", \"garbage_chute\"] # Bool\n",
    "                     #\"street\", \"address\"] #String\n",
    "\n",
    "numerical_features = [\"area_total\", \"area_kitchen\", \"area_living\", \"floor\",\n",
    "                      \"ceiling\", \"stories\", \"rooms\", \"bathrooms_private\", \"bathrooms_shared\", \"balconies\",\"loggias\", \"phones\", \"latitude\", \"longitude\", \"constructed\"]\n",
    "\n",
    "cat_features = [\"layout\", \"condition\", \"district\", \"material\", \"parking\", \"heating\"]\n",
    "\n",
    "droptable = ['longitude', 'latitude']"
   ]
  },
  {
   "cell_type": "code",
   "execution_count": 220,
   "metadata": {},
   "outputs": [],
   "source": [
    "# Remove outlayers from training data\n",
    "outliers_value = 7\n",
    "no_outlayers = train[(np.abs(stats.zscore(train['price'])) < outliers_value)]\n",
    "\n",
    "# Not filling nan!\n",
    "# Training and validation data preprocessing\n",
    "labels = no_outlayers[features]\n",
    "targets = no_outlayers['price']\n",
    "# Skew normaliation\n",
    "labels[numerical_features] = np.log1p(labels[numerical_features])\n",
    "\n",
    "# Test data preprocessing\n",
    "test_labels = test[features]\n",
    "# Skew normaliation\n",
    "test_labels[numerical_features] = np.log1p(test_labels[numerical_features])"
   ]
  },
  {
   "cell_type": "code",
   "execution_count": 221,
   "metadata": {},
   "outputs": [],
   "source": [
    "# One-hot encoding categorical features.\n",
    "#labels, test_labels = one_hot_encoder(labels, test_labels, cat_features, drop_old=drop_old)\n",
    "#NB! pd.get_dummies() does pretty much the same job!\n",
    "#https://stackoverflow.com/questions/36285155/pandas-get-dummies\n",
    "\n",
    "labels = pd.get_dummies(labels,columns=cat_features)\n",
    "test_labels = pd.get_dummies(test_labels,columns =cat_features)"
   ]
  },
  {
   "cell_type": "code",
   "execution_count": 222,
   "metadata": {},
   "outputs": [],
   "source": [
    "# ADD R\n",
    "labels, test_labels = polar_coordinates(labels, test_labels)\n",
    "numerical_features.append(\"r\")\n",
    "# ADD rel_height\n",
    "labels['rel_height'] = labels[\"floor\"] / labels[\"stories\"]\n",
    "test_labels['rel_height'] = test_labels[\"floor\"] / test_labels[\"stories\"]\n",
    "numerical_features.append(\"rel_height\")"
   ]
  },
  {
   "cell_type": "code",
   "execution_count": 223,
   "metadata": {},
   "outputs": [],
   "source": [
    "# Normalize\n",
    "train_labels_n = labels.filter(numerical_features)\n",
    "test_labels_n = test_labels.filter(numerical_features)\n",
    "\n",
    "scaler = MinMaxScaler(feature_range=(0, 1))\n",
    "train_labels_scaled = scaler.fit_transform(train_labels_n)\n",
    "test_labels_scaled = scaler.transform(test_labels_n)\n",
    "\n",
    "# Re-enter proceedure\n",
    "training_norm_col = pd.DataFrame(train_labels_scaled, index=train_labels_n.index, columns=train_labels_n.columns) \n",
    "labels.update(training_norm_col)\n",
    "\n",
    "testing_norm_col = pd.DataFrame(test_labels_scaled, index=test_labels_n.index, columns=test_labels_n.columns) \n",
    "test_labels.update(testing_norm_col)"
   ]
  },
  {
   "cell_type": "markdown",
   "metadata": {},
   "source": [
    "### Looking for most relevant features"
   ]
  },
  {
   "cell_type": "code",
   "execution_count": 224,
   "metadata": {},
   "outputs": [],
   "source": [
    "model = xgboost.XGBRegressor(\n",
    "                 colsample_bytree=0.4,\n",
    "                 gamma=0,                 \n",
    "                 learning_rate=0.07,\n",
    "                 max_depth=3,\n",
    "                 min_child_weight=1.5,\n",
    "                 n_estimators=10000,                                                                    \n",
    "                 reg_alpha=0.75,\n",
    "                 reg_lambda=0.45,\n",
    "                 subsample=0.6,\n",
    "                 seed=42\n",
    "                )"
   ]
  },
  {
   "cell_type": "code",
   "execution_count": 120,
   "metadata": {},
   "outputs": [],
   "source": [
    "# Convert all nan to \"nan\"?\n",
    "features_with_nan = labels.columns[labels.isna().any()].tolist() # Same for train and test\n",
    "#def ConverNaNToNAString(data, columnList):\n",
    "#    for x in columnList:    \n",
    "#        data[x] =str(data[x])\n",
    "#\n",
    "#ConverNaNToNAString(labels, features_with_nan)\n",
    "#ConverNaNToNAString(test_labels, features_with_nan)"
   ]
  },
  {
   "cell_type": "code",
   "execution_count": 121,
   "metadata": {},
   "outputs": [
    {
     "data": {
      "text/plain": [
       "XGBRegressor(base_score=0.5, booster='gbtree', colsample_bylevel=1,\n",
       "             colsample_bynode=1, colsample_bytree=0.4, enable_categorical=False,\n",
       "             gamma=0, gpu_id=-1, importance_type=None,\n",
       "             interaction_constraints='', learning_rate=0.07, max_delta_step=0,\n",
       "             max_depth=3, min_child_weight=1.5, missing=nan,\n",
       "             monotone_constraints='()', n_estimators=10000, n_jobs=8,\n",
       "             num_parallel_tree=1, predictor='auto', random_state=42,\n",
       "             reg_alpha=0.75, reg_lambda=0.45, scale_pos_weight=1, seed=42,\n",
       "             subsample=0.6, tree_method='exact', validate_parameters=1,\n",
       "             verbosity=None)"
      ]
     },
     "execution_count": 121,
     "metadata": {},
     "output_type": "execute_result"
    }
   ],
   "source": [
    "model.fit(labels,targets)"
   ]
  },
  {
   "cell_type": "code",
   "execution_count": 122,
   "metadata": {},
   "outputs": [],
   "source": [
    "#OrderedDict(sorted(model.booster().get_fscore().items(), key=lambda t: t[1], reverse=True))"
   ]
  },
  {
   "cell_type": "code",
   "execution_count": 123,
   "metadata": {},
   "outputs": [
    {
     "data": {
      "image/png": "[encoded data removed]",
      "text/plain": [
       "<Figure size 1872x288 with 1 Axes>"
      ]
     },
     "metadata": {
      "needs_background": "light"
     },
     "output_type": "display_data"
    }
   ],
   "source": [
    "plt.figure(figsize=(26, 4))\n",
    "plt.bar(labels.columns.tolist(), model.feature_importances_)\n",
    "plt.xticks(rotation=90)\n",
    "plt.show()"
   ]
  },
  {
   "cell_type": "markdown",
   "metadata": {},
   "source": [
    "### Remove less relevant features"
   ]
  },
  {
   "cell_type": "code",
   "execution_count": 124,
   "metadata": {},
   "outputs": [
    {
     "name": "stdout",
     "output_type": "stream",
     "text": [
      "['area_total', 'area_kitchen', 'area_living', 'stories', 'rooms', 'bathrooms_private', 'bathrooms_shared', 'latitude', 'longitude', 'constructed', 'windows_court', 'elevator_without', 'elevator_service', 'layout_1.0', 'condition_3.0', 'district_0.0', 'district_5.0', 'district_7.0', 'material_0.0', 'material_3.0', 'material_4.0', 'material_5.0', 'parking_0.0', 'parking_1.0', 'heating_1.0', 'r', 'theta']\n"
     ]
    }
   ],
   "source": [
    "# r : 0.022947283 \n",
    "importance = dict(zip(labels.columns.tolist(), \n",
    "model.feature_importances_))\n",
    "\n",
    "important_features = []\n",
    "for key in importance.keys():\n",
    "    if importance[key] > 0.01:\n",
    "        important_features.append(key)\n",
    "print(important_features)"
   ]
  },
  {
   "cell_type": "code",
   "execution_count": 126,
   "metadata": {},
   "outputs": [],
   "source": [
    "labels = labels[important_features]\n",
    "test_labels = test_labels[important_features]"
   ]
  },
  {
   "cell_type": "markdown",
   "metadata": {},
   "source": [
    "### CUSTOM RMSLE OBJECTIVE\n",
    "https://xgboost.readthedocs.io/en/latest/tutorials/custom_metric_obj.html"
   ]
  },
  {
   "cell_type": "code",
   "execution_count": 225,
   "metadata": {},
   "outputs": [],
   "source": [
    "from typing import Tuple\n",
    "def gradient(predt: np.ndarray, dtrain: xgboost.DMatrix) -> np.ndarray:\n",
    "    '''Compute the gradient squared log error.'''\n",
    "    #y = dtrain.get_label()\n",
    "    y = dtrain.copy()\n",
    "    return (np.log1p(predt) - np.log1p(y)) / (predt + 1)\n",
    "\n",
    "def hessian(predt: np.ndarray, dtrain: xgboost.DMatrix) -> np.ndarray:\n",
    "    '''Compute the hessian for squared log error.'''\n",
    "    #y = dtrain.get_label()\n",
    "    y = dtrain.copy()\n",
    "    return ((-np.log1p(predt) + np.log1p(y) + 1) /\n",
    "    np.power(predt + 1, 2))\n",
    "\n",
    "def squared_log(predt: np.ndarray, dtrain: xgboost.DMatrix) -> Tuple[np.ndarray, np.ndarray]:\n",
    "    '''\n",
    "    Squared Log Error objective. A simplified version for RMSLE used as objective function.\n",
    "    '''\n",
    "    predt[predt < -1] = -1 + 1e-6\n",
    "    grad = gradient(predt, dtrain)\n",
    "    hess = hessian(predt, dtrain)\n",
    "    return grad, hess"
   ]
  },
  {
   "cell_type": "code",
   "execution_count": 196,
   "metadata": {},
   "outputs": [],
   "source": [
    "def rmsle_metric(predt: np.ndarray, dtrain: xgboost.DMatrix) -> Tuple[str, float]:\n",
    "    ''' Root mean squared log error metric.'''\n",
    "    #y = dtrain.get_label()\n",
    "    y = dtrain.copy()\n",
    "    predt[predt < -1] = -1 + 1e-6\n",
    "    elements = np.power(np.log1p(y) - np.log1p(predt), 2)\n",
    "    return 'PyRMSLE', float(np.sqrt(np.sum(elements) / len(y)))"
   ]
  },
  {
   "cell_type": "markdown",
   "metadata": {},
   "source": [
    "### Training "
   ]
  },
  {
   "cell_type": "code",
   "execution_count": 253,
   "metadata": {},
   "outputs": [],
   "source": [
    "# \n",
    "train_labels, val_labels, train_targets, val_targets = train_test_split(labels, targets, test_size=0.33, shuffle=True)\n",
    "\n",
    "xgb_model = xgboost.XGBRegressor(eval_metric=\"rmsle\")\n",
    "\n",
    "smt = xgb_model.fit(train_labels, train_targets, eval_set=[(train_labels, train_targets), (val_labels, val_targets)], early_stopping_rounds=10, verbose=False)"
   ]
  },
  {
   "cell_type": "code",
   "execution_count": 254,
   "metadata": {},
   "outputs": [
    {
     "name": "stdout",
     "output_type": "stream",
     "text": [
      "XGBoost RMSLE: 0.18702611509417402\n"
     ]
    }
   ],
   "source": [
    "xgb_prediction = xgb_model.predict(val_labels)\n",
    "xgb_rmsle = handout_RMSLE(val_targets, xgb_prediction)\n",
    "print('XGBoost RMSLE:', xgb_rmsle)"
   ]
  },
  {
   "cell_type": "code",
   "execution_count": 255,
   "metadata": {},
   "outputs": [],
   "source": [
    "results = xgb_model.evals_result()"
   ]
  },
  {
   "cell_type": "code",
   "execution_count": 259,
   "metadata": {},
   "outputs": [
    {
     "data": {
      "image/png": "[encoded data removed]",
      "text/plain": [
       "<Figure size 432x288 with 1 Axes>"
      ]
     },
     "metadata": {
      "needs_background": "light"
     },
     "output_type": "display_data"
    }
   ],
   "source": [
    "epochs = len(results['validation_0']['rmsle'])\n",
    "x_axis = range(0, epochs)\n",
    "# plot rmsle\n",
    "fig, ax = plt.subplots()\n",
    "ax.plot(x_axis, results['validation_0']['rmsle'], label='Train')\n",
    "ax.plot(x_axis, results['validation_1']['rmsle'], label='Test')\n",
    "ax.legend()\n",
    "plt.ylabel('rmsle')\n",
    "plt.title('XGBoost rmsle')\n",
    "plt.show()"
   ]
  },
  {
   "cell_type": "code",
   "execution_count": 260,
   "metadata": {},
   "outputs": [],
   "source": [
    "predict_and_store(xgb_model, test_labels, test, path=\"boosting_predictions/xgboost_0_1\")"
   ]
  },
  {
   "cell_type": "markdown",
   "metadata": {},
   "source": [
    "# TODO\n",
    "- Add eval sets succesfully: https://machinelearningmastery.com/avoid-overfitting-by-early-stopping-with-xgboost-in-python/\n",
    "- Stratified/grouped k-fold\n",
    "- Use GridSearchCV to optimize parameters...\n",
    "- Also! Hasse got better score when just using numerical data instead of one-hot! Worth a shot."
   ]
  },
  {
   "cell_type": "code",
   "execution_count": 144,
   "metadata": {},
   "outputs": [
    {
     "data": {
      "text/plain": [
       "array([0.89184131, 0.93247577, 0.8934875 , 0.92536204, 0.91249591,\n",
       "       0.89587078, 0.89219108, 0.86814353, 0.89092057, 0.89964924])"
      ]
     },
     "execution_count": 144,
     "metadata": {},
     "output_type": "execute_result"
    }
   ],
   "source": [
    "# Get CV score, but doesnt fit...\n",
    "kfold = StratifiedKFold(n_splits=10)\n",
    "results = cross_val_score(xgb_model, train_labels, train_targets, cv=kfold)\n",
    "results"
   ]
  },
  {
   "cell_type": "markdown",
   "metadata": {},
   "source": []
  },
  {
   "cell_type": "code",
   "execution_count": 158,
   "metadata": {},
   "outputs": [],
   "source": [
    "#train_labels, val_labels, train_targets, val_targets = train_test_split(labels, targets, test_size=0.33, random_state=42)\n",
    "#eval_set = [(train_labels, train_targets),(val_labels, val_targets)]\n",
    "#eval_set = [(val_labels, val_targets)]\n",
    "#xgb_model.fit(train_labels, train_targets,\n",
    "#          verbose=0, early_stopping_rounds=10, eval_metric='rmsle', eval_set=eval_set)"
   ]
  },
  {
   "cell_type": "code",
   "execution_count": null,
   "metadata": {},
   "outputs": [],
   "source": []
  }
 ],
 "metadata": {
  "kernelspec": {
   "display_name": "Python 3 (ipykernel)",
   "language": "python",
   "name": "python3"
  },
  "language_info": {
   "codemirror_mode": {
    "name": "ipython",
    "version": 3
   },
   "file_extension": ".py",
   "mimetype": "text/x-python",
   "name": "python",
   "nbconvert_exporter": "python",
   "pygments_lexer": "ipython3",
   "version": "3.8.7"
  }
 },
 "nbformat": 4,
 "nbformat_minor": 4
}
