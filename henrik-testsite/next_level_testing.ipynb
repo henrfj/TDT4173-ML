{
 "cells": [
  {
   "cell_type": "markdown",
   "metadata": {},
   "source": [
    "# This notebook"
   ]
  },
  {
   "cell_type": "markdown",
   "metadata": {},
   "source": [
    "## LOOK INTO. \n",
    "- Using more or less data.\n",
    "    - Adding categorical data, removing nan data\n",
    "- K-fold validation.\n",
    "- Different activation functions.\n",
    "- Combine some data for better training:\n",
    "    - longiture/lattitude combined to distance from centre?\n",
    "    - Combine stories/floor for a \"penthouse\" trait.\n",
    "- one hot encoding for categorical data.\n",
    "- alternative for filling in nan: mean doesnt work if 90% is nan, and the rest is 1 (balcony)\n",
    "    - One idea: use a model to predict the value based on other data!\n",
    "    - Simple idea: drop the features with too much nan (>30%)"
   ]
  },
  {
   "cell_type": "markdown",
   "metadata": {},
   "source": [
    "# Import"
   ]
  },
  {
   "cell_type": "code",
   "execution_count": 2,
   "metadata": {},
   "outputs": [],
   "source": [
    "import pandas as pd\n",
    "import time\n",
    "import random\n",
    "import math\n",
    "import matplotlib.pyplot as plt\n",
    "import tensorflow as tf\n",
    "import seaborn as sns\n",
    "import numpy as np\n",
    "from scipy import stats\n",
    "# Specific tf libraries\n",
    "from tensorflow.keras.models import Sequential\n",
    "from tensorflow.keras.layers import Dense\n",
    "from tensorflow.keras.optimizers import Adam\n",
    "from tensorflow.keras.layers import Dropout"
   ]
  },
  {
   "cell_type": "markdown",
   "metadata": {},
   "source": [
    "# Helper functions"
   ]
  },
  {
   "cell_type": "code",
   "execution_count": 3,
   "metadata": {},
   "outputs": [],
   "source": [
    "%run utils.py\n",
    "fractionOfData = 1"
   ]
  },
  {
   "cell_type": "markdown",
   "metadata": {},
   "source": [
    "# Load data"
   ]
  },
  {
   "cell_type": "markdown",
   "metadata": {},
   "source": [
    "## Metadata"
   ]
  },
  {
   "cell_type": "code",
   "execution_count": 4,
   "metadata": {},
   "outputs": [],
   "source": [
    "metaData_apartment = pd.read_json('../data/apartments_meta.json')\n",
    "metaData_building = pd.read_json('../data/buildings_meta.json')"
   ]
  },
  {
   "cell_type": "code",
   "execution_count": 5,
   "metadata": {},
   "outputs": [],
   "source": [
    "metaData_apartment.at[0, 'name'] = 'apartment_id'\n",
    "metaData_building.at[0, 'name'] = 'building_id'"
   ]
  },
  {
   "cell_type": "code",
   "execution_count": 6,
   "metadata": {},
   "outputs": [],
   "source": [
    "metaData = pd.concat([metaData_apartment, metaData_building])"
   ]
  },
  {
   "cell_type": "markdown",
   "metadata": {},
   "source": [
    "## Train data"
   ]
  },
  {
   "cell_type": "code",
   "execution_count": 7,
   "metadata": {},
   "outputs": [],
   "source": [
    "train_apartment = pd.read_csv('../data/apartments_train.csv')"
   ]
  },
  {
   "cell_type": "code",
   "execution_count": 8,
   "metadata": {},
   "outputs": [],
   "source": [
    "train_building = pd.read_csv('../data/buildings_train.csv')"
   ]
  },
  {
   "cell_type": "code",
   "execution_count": 9,
   "metadata": {},
   "outputs": [],
   "source": [
    "train = pd.merge(train_apartment, train_building, left_on='building_id', right_on='id')\n",
    "#train.rename(columns={'id_x' : 'apartment_id', 'id_y' : 'building_id'}, inplace=True)\n",
    "train.rename(columns={'id_x' : 'apartment_id'}, inplace=True)\n",
    "train.drop('id_y', axis=1, inplace=True)\n",
    "# Remove duplicate column after merge."
   ]
  },
  {
   "cell_type": "code",
   "execution_count": 10,
   "metadata": {},
   "outputs": [
    {
     "data": {
      "text/html": [
       "<div>\n",
       "<style scoped>\n",
       "    .dataframe tbody tr th:only-of-type {\n",
       "        vertical-align: middle;\n",
       "    }\n",
       "\n",
       "    .dataframe tbody tr th {\n",
       "        vertical-align: top;\n",
       "    }\n",
       "\n",
       "    .dataframe thead th {\n",
       "        text-align: right;\n",
       "    }\n",
       "</style>\n",
       "<table border=\"1\" class=\"dataframe\">\n",
       "  <thead>\n",
       "    <tr style=\"text-align: right;\">\n",
       "      <th></th>\n",
       "      <th>apartment_id</th>\n",
       "      <th>seller</th>\n",
       "      <th>price</th>\n",
       "      <th>area_total</th>\n",
       "      <th>area_kitchen</th>\n",
       "      <th>area_living</th>\n",
       "      <th>floor</th>\n",
       "      <th>rooms</th>\n",
       "      <th>layout</th>\n",
       "      <th>ceiling</th>\n",
       "      <th>...</th>\n",
       "      <th>address</th>\n",
       "      <th>constructed</th>\n",
       "      <th>material</th>\n",
       "      <th>stories</th>\n",
       "      <th>elevator_without</th>\n",
       "      <th>elevator_passenger</th>\n",
       "      <th>elevator_service</th>\n",
       "      <th>parking</th>\n",
       "      <th>garbage_chute</th>\n",
       "      <th>heating</th>\n",
       "    </tr>\n",
       "  </thead>\n",
       "  <tbody>\n",
       "    <tr>\n",
       "      <th>0</th>\n",
       "      <td>0</td>\n",
       "      <td>3.0</td>\n",
       "      <td>7139520.0</td>\n",
       "      <td>59.2</td>\n",
       "      <td>12.5</td>\n",
       "      <td>31.0</td>\n",
       "      <td>2.0</td>\n",
       "      <td>2.0</td>\n",
       "      <td>NaN</td>\n",
       "      <td>2.65</td>\n",
       "      <td>...</td>\n",
       "      <td>к2.5/2</td>\n",
       "      <td>2021.0</td>\n",
       "      <td>3.0</td>\n",
       "      <td>9.0</td>\n",
       "      <td>0.0</td>\n",
       "      <td>1.0</td>\n",
       "      <td>1.0</td>\n",
       "      <td>1.0</td>\n",
       "      <td>NaN</td>\n",
       "      <td>NaN</td>\n",
       "    </tr>\n",
       "    <tr>\n",
       "      <th>1</th>\n",
       "      <td>12</td>\n",
       "      <td>3.0</td>\n",
       "      <td>4045140.0</td>\n",
       "      <td>19.8</td>\n",
       "      <td>5.2</td>\n",
       "      <td>9.6</td>\n",
       "      <td>17.0</td>\n",
       "      <td>1.0</td>\n",
       "      <td>NaN</td>\n",
       "      <td>2.65</td>\n",
       "      <td>...</td>\n",
       "      <td>к2.5/2</td>\n",
       "      <td>2021.0</td>\n",
       "      <td>3.0</td>\n",
       "      <td>9.0</td>\n",
       "      <td>0.0</td>\n",
       "      <td>1.0</td>\n",
       "      <td>1.0</td>\n",
       "      <td>1.0</td>\n",
       "      <td>NaN</td>\n",
       "      <td>NaN</td>\n",
       "    </tr>\n",
       "    <tr>\n",
       "      <th>2</th>\n",
       "      <td>55</td>\n",
       "      <td>3.0</td>\n",
       "      <td>9500240.0</td>\n",
       "      <td>79.7</td>\n",
       "      <td>17.0</td>\n",
       "      <td>41.5</td>\n",
       "      <td>9.0</td>\n",
       "      <td>3.0</td>\n",
       "      <td>NaN</td>\n",
       "      <td>2.65</td>\n",
       "      <td>...</td>\n",
       "      <td>к2.5/2</td>\n",
       "      <td>2021.0</td>\n",
       "      <td>3.0</td>\n",
       "      <td>9.0</td>\n",
       "      <td>0.0</td>\n",
       "      <td>1.0</td>\n",
       "      <td>1.0</td>\n",
       "      <td>1.0</td>\n",
       "      <td>NaN</td>\n",
       "      <td>NaN</td>\n",
       "    </tr>\n",
       "    <tr>\n",
       "      <th>3</th>\n",
       "      <td>104</td>\n",
       "      <td>3.0</td>\n",
       "      <td>4326660.0</td>\n",
       "      <td>23.4</td>\n",
       "      <td>6.1</td>\n",
       "      <td>11.3</td>\n",
       "      <td>9.0</td>\n",
       "      <td>1.0</td>\n",
       "      <td>NaN</td>\n",
       "      <td>2.65</td>\n",
       "      <td>...</td>\n",
       "      <td>к2.5/2</td>\n",
       "      <td>2021.0</td>\n",
       "      <td>3.0</td>\n",
       "      <td>9.0</td>\n",
       "      <td>0.0</td>\n",
       "      <td>1.0</td>\n",
       "      <td>1.0</td>\n",
       "      <td>1.0</td>\n",
       "      <td>NaN</td>\n",
       "      <td>NaN</td>\n",
       "    </tr>\n",
       "    <tr>\n",
       "      <th>4</th>\n",
       "      <td>106</td>\n",
       "      <td>3.0</td>\n",
       "      <td>4333980.0</td>\n",
       "      <td>23.8</td>\n",
       "      <td>6.1</td>\n",
       "      <td>11.3</td>\n",
       "      <td>9.0</td>\n",
       "      <td>1.0</td>\n",
       "      <td>NaN</td>\n",
       "      <td>2.65</td>\n",
       "      <td>...</td>\n",
       "      <td>к2.5/2</td>\n",
       "      <td>2021.0</td>\n",
       "      <td>3.0</td>\n",
       "      <td>9.0</td>\n",
       "      <td>0.0</td>\n",
       "      <td>1.0</td>\n",
       "      <td>1.0</td>\n",
       "      <td>1.0</td>\n",
       "      <td>NaN</td>\n",
       "      <td>NaN</td>\n",
       "    </tr>\n",
       "  </tbody>\n",
       "</table>\n",
       "<p>5 rows × 34 columns</p>\n",
       "</div>"
      ],
      "text/plain": [
       "   apartment_id  seller      price  area_total  area_kitchen  area_living  \\\n",
       "0             0     3.0  7139520.0        59.2          12.5         31.0   \n",
       "1            12     3.0  4045140.0        19.8           5.2          9.6   \n",
       "2            55     3.0  9500240.0        79.7          17.0         41.5   \n",
       "3           104     3.0  4326660.0        23.4           6.1         11.3   \n",
       "4           106     3.0  4333980.0        23.8           6.1         11.3   \n",
       "\n",
       "   floor  rooms  layout  ceiling  ...  address  constructed  material  \\\n",
       "0    2.0    2.0     NaN     2.65  ...   к2.5/2       2021.0       3.0   \n",
       "1   17.0    1.0     NaN     2.65  ...   к2.5/2       2021.0       3.0   \n",
       "2    9.0    3.0     NaN     2.65  ...   к2.5/2       2021.0       3.0   \n",
       "3    9.0    1.0     NaN     2.65  ...   к2.5/2       2021.0       3.0   \n",
       "4    9.0    1.0     NaN     2.65  ...   к2.5/2       2021.0       3.0   \n",
       "\n",
       "   stories  elevator_without  elevator_passenger  elevator_service  parking  \\\n",
       "0      9.0               0.0                 1.0               1.0      1.0   \n",
       "1      9.0               0.0                 1.0               1.0      1.0   \n",
       "2      9.0               0.0                 1.0               1.0      1.0   \n",
       "3      9.0               0.0                 1.0               1.0      1.0   \n",
       "4      9.0               0.0                 1.0               1.0      1.0   \n",
       "\n",
       "   garbage_chute  heating  \n",
       "0            NaN      NaN  \n",
       "1            NaN      NaN  \n",
       "2            NaN      NaN  \n",
       "3            NaN      NaN  \n",
       "4            NaN      NaN  \n",
       "\n",
       "[5 rows x 34 columns]"
      ]
     },
     "execution_count": 10,
     "metadata": {},
     "output_type": "execute_result"
    }
   ],
   "source": [
    "# Reduce amount of data for performance reasons during implementation.\n",
    "train = train.head(int(train.shape[0] * fractionOfData))\n",
    "train.head()"
   ]
  },
  {
   "cell_type": "markdown",
   "metadata": {},
   "source": [
    "## Test data"
   ]
  },
  {
   "cell_type": "code",
   "execution_count": 11,
   "metadata": {},
   "outputs": [],
   "source": [
    "test_apartment = pd.read_csv('../data/apartments_test.csv')"
   ]
  },
  {
   "cell_type": "code",
   "execution_count": 12,
   "metadata": {},
   "outputs": [],
   "source": [
    "test_building = pd.read_csv('../data/buildings_test.csv')"
   ]
  },
  {
   "cell_type": "code",
   "execution_count": 13,
   "metadata": {},
   "outputs": [
    {
     "data": {
      "text/html": [
       "<div>\n",
       "<style scoped>\n",
       "    .dataframe tbody tr th:only-of-type {\n",
       "        vertical-align: middle;\n",
       "    }\n",
       "\n",
       "    .dataframe tbody tr th {\n",
       "        vertical-align: top;\n",
       "    }\n",
       "\n",
       "    .dataframe thead th {\n",
       "        text-align: right;\n",
       "    }\n",
       "</style>\n",
       "<table border=\"1\" class=\"dataframe\">\n",
       "  <thead>\n",
       "    <tr style=\"text-align: right;\">\n",
       "      <th></th>\n",
       "      <th>apartment_id</th>\n",
       "      <th>seller</th>\n",
       "      <th>area_total</th>\n",
       "      <th>area_kitchen</th>\n",
       "      <th>area_living</th>\n",
       "      <th>floor</th>\n",
       "      <th>rooms</th>\n",
       "      <th>layout</th>\n",
       "      <th>ceiling</th>\n",
       "      <th>bathrooms_shared</th>\n",
       "      <th>...</th>\n",
       "      <th>address</th>\n",
       "      <th>constructed</th>\n",
       "      <th>material</th>\n",
       "      <th>stories</th>\n",
       "      <th>elevator_without</th>\n",
       "      <th>elevator_passenger</th>\n",
       "      <th>elevator_service</th>\n",
       "      <th>parking</th>\n",
       "      <th>garbage_chute</th>\n",
       "      <th>heating</th>\n",
       "    </tr>\n",
       "  </thead>\n",
       "  <tbody>\n",
       "    <tr>\n",
       "      <th>9932</th>\n",
       "      <td>33150</td>\n",
       "      <td>NaN</td>\n",
       "      <td>29.0</td>\n",
       "      <td>NaN</td>\n",
       "      <td>NaN</td>\n",
       "      <td>5.0</td>\n",
       "      <td>1.0</td>\n",
       "      <td>NaN</td>\n",
       "      <td>2.64</td>\n",
       "      <td>0.0</td>\n",
       "      <td>...</td>\n",
       "      <td>6</td>\n",
       "      <td>2014.0</td>\n",
       "      <td>NaN</td>\n",
       "      <td>7.0</td>\n",
       "      <td>NaN</td>\n",
       "      <td>NaN</td>\n",
       "      <td>NaN</td>\n",
       "      <td>NaN</td>\n",
       "      <td>NaN</td>\n",
       "      <td>NaN</td>\n",
       "    </tr>\n",
       "    <tr>\n",
       "      <th>9933</th>\n",
       "      <td>33153</td>\n",
       "      <td>NaN</td>\n",
       "      <td>87.0</td>\n",
       "      <td>12.0</td>\n",
       "      <td>NaN</td>\n",
       "      <td>6.0</td>\n",
       "      <td>3.0</td>\n",
       "      <td>NaN</td>\n",
       "      <td>2.50</td>\n",
       "      <td>0.0</td>\n",
       "      <td>...</td>\n",
       "      <td>105к2</td>\n",
       "      <td>NaN</td>\n",
       "      <td>NaN</td>\n",
       "      <td>17.0</td>\n",
       "      <td>0.0</td>\n",
       "      <td>1.0</td>\n",
       "      <td>1.0</td>\n",
       "      <td>NaN</td>\n",
       "      <td>NaN</td>\n",
       "      <td>NaN</td>\n",
       "    </tr>\n",
       "    <tr>\n",
       "      <th>9934</th>\n",
       "      <td>33163</td>\n",
       "      <td>NaN</td>\n",
       "      <td>58.1</td>\n",
       "      <td>12.0</td>\n",
       "      <td>30.0</td>\n",
       "      <td>14.0</td>\n",
       "      <td>2.0</td>\n",
       "      <td>1.0</td>\n",
       "      <td>2.70</td>\n",
       "      <td>0.0</td>\n",
       "      <td>...</td>\n",
       "      <td>12</td>\n",
       "      <td>2016.0</td>\n",
       "      <td>NaN</td>\n",
       "      <td>17.0</td>\n",
       "      <td>0.0</td>\n",
       "      <td>1.0</td>\n",
       "      <td>1.0</td>\n",
       "      <td>NaN</td>\n",
       "      <td>NaN</td>\n",
       "      <td>NaN</td>\n",
       "    </tr>\n",
       "    <tr>\n",
       "      <th>9935</th>\n",
       "      <td>33208</td>\n",
       "      <td>1.0</td>\n",
       "      <td>54.7</td>\n",
       "      <td>5.5</td>\n",
       "      <td>36.9</td>\n",
       "      <td>2.0</td>\n",
       "      <td>3.0</td>\n",
       "      <td>NaN</td>\n",
       "      <td>2.64</td>\n",
       "      <td>1.0</td>\n",
       "      <td>...</td>\n",
       "      <td>10К2</td>\n",
       "      <td>1963.0</td>\n",
       "      <td>4.0</td>\n",
       "      <td>5.0</td>\n",
       "      <td>1.0</td>\n",
       "      <td>0.0</td>\n",
       "      <td>0.0</td>\n",
       "      <td>NaN</td>\n",
       "      <td>NaN</td>\n",
       "      <td>0.0</td>\n",
       "    </tr>\n",
       "    <tr>\n",
       "      <th>9936</th>\n",
       "      <td>33221</td>\n",
       "      <td>1.0</td>\n",
       "      <td>71.5</td>\n",
       "      <td>7.0</td>\n",
       "      <td>49.0</td>\n",
       "      <td>2.0</td>\n",
       "      <td>3.0</td>\n",
       "      <td>NaN</td>\n",
       "      <td>NaN</td>\n",
       "      <td>NaN</td>\n",
       "      <td>...</td>\n",
       "      <td>2</td>\n",
       "      <td>NaN</td>\n",
       "      <td>NaN</td>\n",
       "      <td>2.0</td>\n",
       "      <td>NaN</td>\n",
       "      <td>NaN</td>\n",
       "      <td>NaN</td>\n",
       "      <td>NaN</td>\n",
       "      <td>NaN</td>\n",
       "      <td>NaN</td>\n",
       "    </tr>\n",
       "  </tbody>\n",
       "</table>\n",
       "<p>5 rows × 33 columns</p>\n",
       "</div>"
      ],
      "text/plain": [
       "      apartment_id  seller  area_total  area_kitchen  area_living  floor  \\\n",
       "9932         33150     NaN        29.0           NaN          NaN    5.0   \n",
       "9933         33153     NaN        87.0          12.0          NaN    6.0   \n",
       "9934         33163     NaN        58.1          12.0         30.0   14.0   \n",
       "9935         33208     1.0        54.7           5.5         36.9    2.0   \n",
       "9936         33221     1.0        71.5           7.0         49.0    2.0   \n",
       "\n",
       "      rooms  layout  ceiling  bathrooms_shared  ...  address  constructed  \\\n",
       "9932    1.0     NaN     2.64               0.0  ...        6       2014.0   \n",
       "9933    3.0     NaN     2.50               0.0  ...    105к2          NaN   \n",
       "9934    2.0     1.0     2.70               0.0  ...       12       2016.0   \n",
       "9935    3.0     NaN     2.64               1.0  ...     10К2       1963.0   \n",
       "9936    3.0     NaN      NaN               NaN  ...        2          NaN   \n",
       "\n",
       "      material  stories  elevator_without  elevator_passenger  \\\n",
       "9932       NaN      7.0               NaN                 NaN   \n",
       "9933       NaN     17.0               0.0                 1.0   \n",
       "9934       NaN     17.0               0.0                 1.0   \n",
       "9935       4.0      5.0               1.0                 0.0   \n",
       "9936       NaN      2.0               NaN                 NaN   \n",
       "\n",
       "      elevator_service  parking  garbage_chute  heating  \n",
       "9932               NaN      NaN            NaN      NaN  \n",
       "9933               1.0      NaN            NaN      NaN  \n",
       "9934               1.0      NaN            NaN      NaN  \n",
       "9935               0.0      NaN            NaN      0.0  \n",
       "9936               NaN      NaN            NaN      NaN  \n",
       "\n",
       "[5 rows x 33 columns]"
      ]
     },
     "execution_count": 13,
     "metadata": {},
     "output_type": "execute_result"
    }
   ],
   "source": [
    "test = pd.merge(test_apartment, test_building, left_on='building_id', right_on='id')\n",
    "test.rename(columns={'id_x' : 'apartment_id'}, inplace=True)\n",
    "test.drop('id_y', axis=1, inplace=True)\n",
    "test.tail()"
   ]
  },
  {
   "cell_type": "markdown",
   "metadata": {},
   "source": [
    "### The nan problem. Some of the data is too shallow for deep learning."
   ]
  },
  {
   "cell_type": "code",
   "execution_count": 14,
   "metadata": {},
   "outputs": [
    {
     "data": {
      "image/png": "[encoded data removed]",
      "text/plain": [
       "<Figure size 1200x200 with 2 Axes>"
      ]
     },
     "metadata": {
      "needs_background": "light"
     },
     "output_type": "display_data"
    }
   ],
   "source": [
    "fig, (ax1, ax2) = plt.subplots(figsize=(12, 2), ncols=2, dpi=100)\n",
    "train.isna().mean().plot.bar(ax=ax1, title='Fraction of NaN values in the training set')\n",
    "test.isna().mean().plot.bar(ax=ax2, title='Fraction of NaN values in the testing set');"
   ]
  },
  {
   "cell_type": "markdown",
   "metadata": {},
   "source": [
    "## 1 - Expanding on the numerical data\n",
    "Using longitude and lattitude better."
   ]
  },
  {
   "cell_type": "code",
   "execution_count": 71,
   "metadata": {},
   "outputs": [
    {
     "name": "stdout",
     "output_type": "stream",
     "text": [
      "23197\n",
      "23285\n"
     ]
    },
    {
     "data": {
      "image/png": "[encoded data removed]",
      "text/plain": [
       "<Figure size 432x288 with 1 Axes>"
      ]
     },
     "metadata": {
      "needs_background": "light"
     },
     "output_type": "display_data"
    }
   ],
   "source": [
    "# Remove outlayers\n",
    "outliers_value = 7\n",
    "some_features = [\"area_total\", \"area_kitchen\", \"area_living\", \"floor\", \"rooms\", \"ceiling\", \"bathrooms_shared\", \"bathrooms_private\", \"balconies\", \"latitude\", \"longitude\", \"constructed\", \"price\"]\n",
    "\n",
    "normalized_train = train[some_features]\n",
    "normalized_train = (normalized_train-normalized_train.min())/(normalized_train.max()-normalized_train.min())\n",
    "\n",
    "\n",
    "no_outlayers = normalized_train[(np.abs(stats.zscore(normalized_train[[\"area_total\", \"price\"]])) < outliers_value).all(axis=1)]\n",
    "\n",
    "#no_outlayers = normalized_train[(np.abs(stats.zscore(normalized_train['price'])) < outliers_value))]\n",
    "print(len(no_outlayers))\n",
    "print(len(normalized_train))\n",
    "\n",
    "\n",
    "plt.plot(normalized_train['area_total'], normalized_train['price'], 'r.')\n",
    "plt.plot(no_outlayers['area_total'], no_outlayers['price'], 'b.')\n",
    "#plt.xscale(\"log\")\n",
    "#plt.yscale(\"log\")\n",
    "plt.show()\n"
   ]
  },
  {
   "cell_type": "code",
   "execution_count": 16,
   "metadata": {},
   "outputs": [],
   "source": [
    "# All numerical features\n",
    "numerical_features = [\"area_total\", \"area_kitchen\", \"area_living\", \"floor\", \"rooms\", \"ceiling\", \"bathrooms_shared\", \"bathrooms_private\", \"balconies\", \"latitude\", \"longitude\", \"constructed\"]\n",
    "\n",
    "# Training\n",
    "# Labels and targets\n",
    "labels1 = no_outlayers[numerical_features]\n",
    "labels1 = labels1.fillna(labels1.mean())\n",
    "targets1= no_outlayers['price'] # Non nan values here.\n",
    "\n",
    "# Test\n",
    "test1 = test[numerical_features]\n",
    "test1 = test1.fillna(test1.mean())\n",
    "\n",
    "# Normalize\n",
    "normalized_labels1 = (labels1-labels1.min())/(labels1.max()-labels1.min())\n",
    "normalized_test1 = (test1-test1.min())/(test1.max()-test1.min())"
   ]
  },
  {
   "cell_type": "code",
   "execution_count": 17,
   "metadata": {},
   "outputs": [],
   "source": [
    "# Using distance from centrum istead of latitude/longitude\n",
    "labels1_normed_r = normalized_labels1.copy()\n",
    "labels1_normed_r['r'] =  np.sqrt(labels1_normed_r['latitude']**2 + labels1_normed_r['longitude']**2)\n"
   ]
  },
  {
   "cell_type": "code",
   "execution_count": null,
   "metadata": {},
   "outputs": [],
   "source": []
  },
  {
   "cell_type": "code",
   "execution_count": null,
   "metadata": {},
   "outputs": [],
   "source": []
  },
  {
   "cell_type": "code",
   "execution_count": null,
   "metadata": {},
   "outputs": [],
   "source": []
  },
  {
   "cell_type": "markdown",
   "metadata": {},
   "source": [
    "## 2 - Adding categorical data\n",
    "Concern: not enough data to be able to utilize"
   ]
  },
  {
   "cell_type": "code",
   "execution_count": 17,
   "metadata": {},
   "outputs": [],
   "source": [
    "# Remove outlayers\n",
    "no_outlayers = train[(np.abs(stats.zscore(train['price'])) < outliers_value)]"
   ]
  },
  {
   "cell_type": "code",
   "execution_count": 20,
   "metadata": {},
   "outputs": [],
   "source": [
    "# All numerical features\n",
    "numerical_features = [\"area_total\", \"area_living\", \"floor\", \"rooms\", \"ceiling\", \"bathrooms_shared\", \"bathrooms_private\", \"balconies\", \"latitude\", \"longitude\", \"constructed\"]\n",
    "\n",
    "# Training\n",
    "# Labels and targets\n",
    "labels2 = no_outlayers[numerical_features]\n",
    "labels2 = labels2.fillna(labels2.mean())\n",
    "targets2= no_outlayers['price'] # Non nan values here.\n",
    "\n",
    "# Test\n",
    "test2 = test[numerical_features]\n",
    "test2 = test2.fillna(test2.mean())\n",
    "\n",
    "# Normalize\n",
    "normalized_labels2 = (labels2-labels2.min())/(labels2.max()-labels2.min())\n",
    "normalized_test2 = (test2-test2.min())/(test2.max()-test2.min())"
   ]
  },
  {
   "cell_type": "code",
   "execution_count": 21,
   "metadata": {},
   "outputs": [],
   "source": [
    "# All categorical features\n",
    "cat_features = [\"seller\", \"layout\", \"condition\", \"district\", \"material\", \"parking\", \"heating\"]\n",
    "\n",
    "\n"
   ]
  },
  {
   "cell_type": "code",
   "execution_count": null,
   "metadata": {},
   "outputs": [],
   "source": []
  },
  {
   "cell_type": "code",
   "execution_count": null,
   "metadata": {},
   "outputs": [],
   "source": []
  }
 ],
 "metadata": {
  "kernelspec": {
   "display_name": "Python 3 (ipykernel)",
   "language": "python",
   "name": "python3"
  },
  "language_info": {
   "codemirror_mode": {
    "name": "ipython",
    "version": 3
   },
   "file_extension": ".py",
   "mimetype": "text/x-python",
   "name": "python",
   "nbconvert_exporter": "python",
   "pygments_lexer": "ipython3",
   "version": "3.8.7"
  }
 },
 "nbformat": 4,
 "nbformat_minor": 4
}
