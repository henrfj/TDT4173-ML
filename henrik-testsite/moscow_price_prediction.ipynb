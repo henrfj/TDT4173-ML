{
 "cells": [
  {
   "cell_type": "markdown",
   "metadata": {},
   "source": [
    "# Configuration"
   ]
  },
  {
   "cell_type": "code",
   "execution_count": 34,
   "metadata": {},
   "outputs": [],
   "source": [
    "fractionOfData = 1"
   ]
  },
  {
   "cell_type": "markdown",
   "metadata": {},
   "source": [
    "# Import"
   ]
  },
  {
   "cell_type": "code",
   "execution_count": 146,
   "metadata": {},
   "outputs": [],
   "source": [
    "import pandas as pd\n",
    "import time\n",
    "import random\n",
    "import math\n",
    "import matplotlib.pyplot as plt\n",
    "import tensorflow as tf\n",
    "import seaborn as sns\n",
    "import numpy as np"
   ]
  },
  {
   "cell_type": "markdown",
   "metadata": {},
   "source": [
    "# Helper functions"
   ]
  },
  {
   "cell_type": "code",
   "execution_count": 104,
   "metadata": {},
   "outputs": [],
   "source": [
    "%run utils.py"
   ]
  },
  {
   "cell_type": "markdown",
   "metadata": {},
   "source": [
    "# Load data"
   ]
  },
  {
   "cell_type": "markdown",
   "metadata": {},
   "source": [
    "## Metadata"
   ]
  },
  {
   "cell_type": "code",
   "execution_count": 105,
   "metadata": {},
   "outputs": [],
   "source": [
    "metaData_apartment = pd.read_json('../data/apartments_meta.json')\n",
    "metaData_building = pd.read_json('../data/buildings_meta.json')"
   ]
  },
  {
   "cell_type": "code",
   "execution_count": 106,
   "metadata": {},
   "outputs": [],
   "source": [
    "metaData_apartment.at[0, 'name'] = 'apartment_id'\n",
    "metaData_building.at[0, 'name'] = 'building_id'"
   ]
  },
  {
   "cell_type": "code",
   "execution_count": 107,
   "metadata": {},
   "outputs": [],
   "source": [
    "metaData = pd.concat([metaData_apartment, metaData_building])"
   ]
  },
  {
   "cell_type": "code",
   "execution_count": 108,
   "metadata": {},
   "outputs": [],
   "source": [
    "metaDataDict = {}\n",
    "for index, row in metaData.iterrows():\n",
    "    metaDataDict[row['name']] = {'type':list(row)[1], 'categories':list(row)[3]}"
   ]
  },
  {
   "cell_type": "code",
   "execution_count": 109,
   "metadata": {},
   "outputs": [
    {
     "data": {
      "text/plain": [
       "{'type': 'categorical',\n",
       " 'categories': ['Owner', 'Company', 'Agents', 'Developer']}"
      ]
     },
     "execution_count": 109,
     "metadata": {},
     "output_type": "execute_result"
    }
   ],
   "source": [
    "metaDataDict['seller']"
   ]
  },
  {
   "cell_type": "code",
   "execution_count": 110,
   "metadata": {},
   "outputs": [
    {
     "data": {
      "text/plain": [
       "nan"
      ]
     },
     "execution_count": 110,
     "metadata": {},
     "output_type": "execute_result"
    }
   ],
   "source": [
    "metaDataDict['apartment_id']['categories']"
   ]
  },
  {
   "cell_type": "markdown",
   "metadata": {},
   "source": [
    "## Train data"
   ]
  },
  {
   "cell_type": "code",
   "execution_count": 111,
   "metadata": {},
   "outputs": [],
   "source": [
    "train_apartment = pd.read_csv('../data/apartments_train.csv')"
   ]
  },
  {
   "cell_type": "code",
   "execution_count": 112,
   "metadata": {},
   "outputs": [],
   "source": [
    "train_building = pd.read_csv('../data/buildings_train.csv')"
   ]
  },
  {
   "cell_type": "code",
   "execution_count": 113,
   "metadata": {},
   "outputs": [],
   "source": [
    "train = pd.merge(train_apartment, train_building, left_on='building_id', right_on='id')\n",
    "#train.rename(columns={'id_x' : 'apartment_id', 'id_y' : 'building_id'}, inplace=True)\n",
    "train.rename(columns={'id_x' : 'apartment_id'}, inplace=True)\n",
    "train.drop('id_y', axis=1, inplace=True)\n",
    "# Remove duplicate column after merge."
   ]
  },
  {
   "cell_type": "code",
   "execution_count": 114,
   "metadata": {},
   "outputs": [
    {
     "data": {
      "text/html": [
       "<div>\n",
       "<style scoped>\n",
       "    .dataframe tbody tr th:only-of-type {\n",
       "        vertical-align: middle;\n",
       "    }\n",
       "\n",
       "    .dataframe tbody tr th {\n",
       "        vertical-align: top;\n",
       "    }\n",
       "\n",
       "    .dataframe thead th {\n",
       "        text-align: right;\n",
       "    }\n",
       "</style>\n",
       "<table border=\"1\" class=\"dataframe\">\n",
       "  <thead>\n",
       "    <tr style=\"text-align: right;\">\n",
       "      <th></th>\n",
       "      <th>apartment_id</th>\n",
       "      <th>seller</th>\n",
       "      <th>price</th>\n",
       "      <th>area_total</th>\n",
       "      <th>area_kitchen</th>\n",
       "      <th>area_living</th>\n",
       "      <th>floor</th>\n",
       "      <th>rooms</th>\n",
       "      <th>layout</th>\n",
       "      <th>ceiling</th>\n",
       "      <th>...</th>\n",
       "      <th>address</th>\n",
       "      <th>constructed</th>\n",
       "      <th>material</th>\n",
       "      <th>stories</th>\n",
       "      <th>elevator_without</th>\n",
       "      <th>elevator_passenger</th>\n",
       "      <th>elevator_service</th>\n",
       "      <th>parking</th>\n",
       "      <th>garbage_chute</th>\n",
       "      <th>heating</th>\n",
       "    </tr>\n",
       "  </thead>\n",
       "  <tbody>\n",
       "    <tr>\n",
       "      <th>0</th>\n",
       "      <td>0</td>\n",
       "      <td>3.0</td>\n",
       "      <td>7139520.0</td>\n",
       "      <td>59.2</td>\n",
       "      <td>12.5</td>\n",
       "      <td>31.0</td>\n",
       "      <td>2.0</td>\n",
       "      <td>2.0</td>\n",
       "      <td>NaN</td>\n",
       "      <td>2.65</td>\n",
       "      <td>...</td>\n",
       "      <td>к2.5/2</td>\n",
       "      <td>2021.0</td>\n",
       "      <td>3.0</td>\n",
       "      <td>9.0</td>\n",
       "      <td>0.0</td>\n",
       "      <td>1.0</td>\n",
       "      <td>1.0</td>\n",
       "      <td>1.0</td>\n",
       "      <td>NaN</td>\n",
       "      <td>NaN</td>\n",
       "    </tr>\n",
       "    <tr>\n",
       "      <th>1</th>\n",
       "      <td>12</td>\n",
       "      <td>3.0</td>\n",
       "      <td>4045140.0</td>\n",
       "      <td>19.8</td>\n",
       "      <td>5.2</td>\n",
       "      <td>9.6</td>\n",
       "      <td>17.0</td>\n",
       "      <td>1.0</td>\n",
       "      <td>NaN</td>\n",
       "      <td>2.65</td>\n",
       "      <td>...</td>\n",
       "      <td>к2.5/2</td>\n",
       "      <td>2021.0</td>\n",
       "      <td>3.0</td>\n",
       "      <td>9.0</td>\n",
       "      <td>0.0</td>\n",
       "      <td>1.0</td>\n",
       "      <td>1.0</td>\n",
       "      <td>1.0</td>\n",
       "      <td>NaN</td>\n",
       "      <td>NaN</td>\n",
       "    </tr>\n",
       "    <tr>\n",
       "      <th>2</th>\n",
       "      <td>55</td>\n",
       "      <td>3.0</td>\n",
       "      <td>9500240.0</td>\n",
       "      <td>79.7</td>\n",
       "      <td>17.0</td>\n",
       "      <td>41.5</td>\n",
       "      <td>9.0</td>\n",
       "      <td>3.0</td>\n",
       "      <td>NaN</td>\n",
       "      <td>2.65</td>\n",
       "      <td>...</td>\n",
       "      <td>к2.5/2</td>\n",
       "      <td>2021.0</td>\n",
       "      <td>3.0</td>\n",
       "      <td>9.0</td>\n",
       "      <td>0.0</td>\n",
       "      <td>1.0</td>\n",
       "      <td>1.0</td>\n",
       "      <td>1.0</td>\n",
       "      <td>NaN</td>\n",
       "      <td>NaN</td>\n",
       "    </tr>\n",
       "    <tr>\n",
       "      <th>3</th>\n",
       "      <td>104</td>\n",
       "      <td>3.0</td>\n",
       "      <td>4326660.0</td>\n",
       "      <td>23.4</td>\n",
       "      <td>6.1</td>\n",
       "      <td>11.3</td>\n",
       "      <td>9.0</td>\n",
       "      <td>1.0</td>\n",
       "      <td>NaN</td>\n",
       "      <td>2.65</td>\n",
       "      <td>...</td>\n",
       "      <td>к2.5/2</td>\n",
       "      <td>2021.0</td>\n",
       "      <td>3.0</td>\n",
       "      <td>9.0</td>\n",
       "      <td>0.0</td>\n",
       "      <td>1.0</td>\n",
       "      <td>1.0</td>\n",
       "      <td>1.0</td>\n",
       "      <td>NaN</td>\n",
       "      <td>NaN</td>\n",
       "    </tr>\n",
       "    <tr>\n",
       "      <th>4</th>\n",
       "      <td>106</td>\n",
       "      <td>3.0</td>\n",
       "      <td>4333980.0</td>\n",
       "      <td>23.8</td>\n",
       "      <td>6.1</td>\n",
       "      <td>11.3</td>\n",
       "      <td>9.0</td>\n",
       "      <td>1.0</td>\n",
       "      <td>NaN</td>\n",
       "      <td>2.65</td>\n",
       "      <td>...</td>\n",
       "      <td>к2.5/2</td>\n",
       "      <td>2021.0</td>\n",
       "      <td>3.0</td>\n",
       "      <td>9.0</td>\n",
       "      <td>0.0</td>\n",
       "      <td>1.0</td>\n",
       "      <td>1.0</td>\n",
       "      <td>1.0</td>\n",
       "      <td>NaN</td>\n",
       "      <td>NaN</td>\n",
       "    </tr>\n",
       "  </tbody>\n",
       "</table>\n",
       "<p>5 rows × 34 columns</p>\n",
       "</div>"
      ],
      "text/plain": [
       "   apartment_id  seller      price  area_total  area_kitchen  area_living  \\\n",
       "0             0     3.0  7139520.0        59.2          12.5         31.0   \n",
       "1            12     3.0  4045140.0        19.8           5.2          9.6   \n",
       "2            55     3.0  9500240.0        79.7          17.0         41.5   \n",
       "3           104     3.0  4326660.0        23.4           6.1         11.3   \n",
       "4           106     3.0  4333980.0        23.8           6.1         11.3   \n",
       "\n",
       "   floor  rooms  layout  ceiling  ...  address  constructed  material  \\\n",
       "0    2.0    2.0     NaN     2.65  ...   к2.5/2       2021.0       3.0   \n",
       "1   17.0    1.0     NaN     2.65  ...   к2.5/2       2021.0       3.0   \n",
       "2    9.0    3.0     NaN     2.65  ...   к2.5/2       2021.0       3.0   \n",
       "3    9.0    1.0     NaN     2.65  ...   к2.5/2       2021.0       3.0   \n",
       "4    9.0    1.0     NaN     2.65  ...   к2.5/2       2021.0       3.0   \n",
       "\n",
       "   stories  elevator_without  elevator_passenger  elevator_service  parking  \\\n",
       "0      9.0               0.0                 1.0               1.0      1.0   \n",
       "1      9.0               0.0                 1.0               1.0      1.0   \n",
       "2      9.0               0.0                 1.0               1.0      1.0   \n",
       "3      9.0               0.0                 1.0               1.0      1.0   \n",
       "4      9.0               0.0                 1.0               1.0      1.0   \n",
       "\n",
       "   garbage_chute  heating  \n",
       "0            NaN      NaN  \n",
       "1            NaN      NaN  \n",
       "2            NaN      NaN  \n",
       "3            NaN      NaN  \n",
       "4            NaN      NaN  \n",
       "\n",
       "[5 rows x 34 columns]"
      ]
     },
     "execution_count": 114,
     "metadata": {},
     "output_type": "execute_result"
    }
   ],
   "source": [
    "# Reduce amount of data for performance reasons during implementation.\n",
    "train = train.head(int(train.shape[0] * fractionOfData))\n",
    "train.head()"
   ]
  },
  {
   "cell_type": "markdown",
   "metadata": {},
   "source": [
    "## Test data"
   ]
  },
  {
   "cell_type": "code",
   "execution_count": 115,
   "metadata": {},
   "outputs": [],
   "source": [
    "test_apartment = pd.read_csv('../data/apartments_test.csv')"
   ]
  },
  {
   "cell_type": "code",
   "execution_count": 116,
   "metadata": {},
   "outputs": [],
   "source": [
    "test_building = pd.read_csv('../data/buildings_test.csv')"
   ]
  },
  {
   "cell_type": "code",
   "execution_count": 118,
   "metadata": {},
   "outputs": [
    {
     "data": {
      "text/html": [
       "<div>\n",
       "<style scoped>\n",
       "    .dataframe tbody tr th:only-of-type {\n",
       "        vertical-align: middle;\n",
       "    }\n",
       "\n",
       "    .dataframe tbody tr th {\n",
       "        vertical-align: top;\n",
       "    }\n",
       "\n",
       "    .dataframe thead th {\n",
       "        text-align: right;\n",
       "    }\n",
       "</style>\n",
       "<table border=\"1\" class=\"dataframe\">\n",
       "  <thead>\n",
       "    <tr style=\"text-align: right;\">\n",
       "      <th></th>\n",
       "      <th>apartment_id</th>\n",
       "      <th>seller</th>\n",
       "      <th>price</th>\n",
       "      <th>area_total</th>\n",
       "      <th>area_kitchen</th>\n",
       "      <th>area_living</th>\n",
       "      <th>floor</th>\n",
       "      <th>rooms</th>\n",
       "      <th>layout</th>\n",
       "      <th>ceiling</th>\n",
       "      <th>...</th>\n",
       "      <th>address</th>\n",
       "      <th>constructed</th>\n",
       "      <th>material</th>\n",
       "      <th>stories</th>\n",
       "      <th>elevator_without</th>\n",
       "      <th>elevator_passenger</th>\n",
       "      <th>elevator_service</th>\n",
       "      <th>parking</th>\n",
       "      <th>garbage_chute</th>\n",
       "      <th>heating</th>\n",
       "    </tr>\n",
       "  </thead>\n",
       "  <tbody>\n",
       "    <tr>\n",
       "      <th>0</th>\n",
       "      <td>0</td>\n",
       "      <td>3.0</td>\n",
       "      <td>7139520.0</td>\n",
       "      <td>59.2</td>\n",
       "      <td>12.5</td>\n",
       "      <td>31.0</td>\n",
       "      <td>2.0</td>\n",
       "      <td>2.0</td>\n",
       "      <td>NaN</td>\n",
       "      <td>2.65</td>\n",
       "      <td>...</td>\n",
       "      <td>к2.5/2</td>\n",
       "      <td>2021.0</td>\n",
       "      <td>3.0</td>\n",
       "      <td>9.0</td>\n",
       "      <td>0.0</td>\n",
       "      <td>1.0</td>\n",
       "      <td>1.0</td>\n",
       "      <td>1.0</td>\n",
       "      <td>NaN</td>\n",
       "      <td>NaN</td>\n",
       "    </tr>\n",
       "    <tr>\n",
       "      <th>1</th>\n",
       "      <td>12</td>\n",
       "      <td>3.0</td>\n",
       "      <td>4045140.0</td>\n",
       "      <td>19.8</td>\n",
       "      <td>5.2</td>\n",
       "      <td>9.6</td>\n",
       "      <td>17.0</td>\n",
       "      <td>1.0</td>\n",
       "      <td>NaN</td>\n",
       "      <td>2.65</td>\n",
       "      <td>...</td>\n",
       "      <td>к2.5/2</td>\n",
       "      <td>2021.0</td>\n",
       "      <td>3.0</td>\n",
       "      <td>9.0</td>\n",
       "      <td>0.0</td>\n",
       "      <td>1.0</td>\n",
       "      <td>1.0</td>\n",
       "      <td>1.0</td>\n",
       "      <td>NaN</td>\n",
       "      <td>NaN</td>\n",
       "    </tr>\n",
       "    <tr>\n",
       "      <th>2</th>\n",
       "      <td>55</td>\n",
       "      <td>3.0</td>\n",
       "      <td>9500240.0</td>\n",
       "      <td>79.7</td>\n",
       "      <td>17.0</td>\n",
       "      <td>41.5</td>\n",
       "      <td>9.0</td>\n",
       "      <td>3.0</td>\n",
       "      <td>NaN</td>\n",
       "      <td>2.65</td>\n",
       "      <td>...</td>\n",
       "      <td>к2.5/2</td>\n",
       "      <td>2021.0</td>\n",
       "      <td>3.0</td>\n",
       "      <td>9.0</td>\n",
       "      <td>0.0</td>\n",
       "      <td>1.0</td>\n",
       "      <td>1.0</td>\n",
       "      <td>1.0</td>\n",
       "      <td>NaN</td>\n",
       "      <td>NaN</td>\n",
       "    </tr>\n",
       "    <tr>\n",
       "      <th>3</th>\n",
       "      <td>104</td>\n",
       "      <td>3.0</td>\n",
       "      <td>4326660.0</td>\n",
       "      <td>23.4</td>\n",
       "      <td>6.1</td>\n",
       "      <td>11.3</td>\n",
       "      <td>9.0</td>\n",
       "      <td>1.0</td>\n",
       "      <td>NaN</td>\n",
       "      <td>2.65</td>\n",
       "      <td>...</td>\n",
       "      <td>к2.5/2</td>\n",
       "      <td>2021.0</td>\n",
       "      <td>3.0</td>\n",
       "      <td>9.0</td>\n",
       "      <td>0.0</td>\n",
       "      <td>1.0</td>\n",
       "      <td>1.0</td>\n",
       "      <td>1.0</td>\n",
       "      <td>NaN</td>\n",
       "      <td>NaN</td>\n",
       "    </tr>\n",
       "    <tr>\n",
       "      <th>4</th>\n",
       "      <td>106</td>\n",
       "      <td>3.0</td>\n",
       "      <td>4333980.0</td>\n",
       "      <td>23.8</td>\n",
       "      <td>6.1</td>\n",
       "      <td>11.3</td>\n",
       "      <td>9.0</td>\n",
       "      <td>1.0</td>\n",
       "      <td>NaN</td>\n",
       "      <td>2.65</td>\n",
       "      <td>...</td>\n",
       "      <td>к2.5/2</td>\n",
       "      <td>2021.0</td>\n",
       "      <td>3.0</td>\n",
       "      <td>9.0</td>\n",
       "      <td>0.0</td>\n",
       "      <td>1.0</td>\n",
       "      <td>1.0</td>\n",
       "      <td>1.0</td>\n",
       "      <td>NaN</td>\n",
       "      <td>NaN</td>\n",
       "    </tr>\n",
       "  </tbody>\n",
       "</table>\n",
       "<p>5 rows × 34 columns</p>\n",
       "</div>"
      ],
      "text/plain": [
       "   apartment_id  seller      price  area_total  area_kitchen  area_living  \\\n",
       "0             0     3.0  7139520.0        59.2          12.5         31.0   \n",
       "1            12     3.0  4045140.0        19.8           5.2          9.6   \n",
       "2            55     3.0  9500240.0        79.7          17.0         41.5   \n",
       "3           104     3.0  4326660.0        23.4           6.1         11.3   \n",
       "4           106     3.0  4333980.0        23.8           6.1         11.3   \n",
       "\n",
       "   floor  rooms  layout  ceiling  ...  address  constructed  material  \\\n",
       "0    2.0    2.0     NaN     2.65  ...   к2.5/2       2021.0       3.0   \n",
       "1   17.0    1.0     NaN     2.65  ...   к2.5/2       2021.0       3.0   \n",
       "2    9.0    3.0     NaN     2.65  ...   к2.5/2       2021.0       3.0   \n",
       "3    9.0    1.0     NaN     2.65  ...   к2.5/2       2021.0       3.0   \n",
       "4    9.0    1.0     NaN     2.65  ...   к2.5/2       2021.0       3.0   \n",
       "\n",
       "   stories  elevator_without  elevator_passenger  elevator_service  parking  \\\n",
       "0      9.0               0.0                 1.0               1.0      1.0   \n",
       "1      9.0               0.0                 1.0               1.0      1.0   \n",
       "2      9.0               0.0                 1.0               1.0      1.0   \n",
       "3      9.0               0.0                 1.0               1.0      1.0   \n",
       "4      9.0               0.0                 1.0               1.0      1.0   \n",
       "\n",
       "   garbage_chute  heating  \n",
       "0            NaN      NaN  \n",
       "1            NaN      NaN  \n",
       "2            NaN      NaN  \n",
       "3            NaN      NaN  \n",
       "4            NaN      NaN  \n",
       "\n",
       "[5 rows x 34 columns]"
      ]
     },
     "execution_count": 118,
     "metadata": {},
     "output_type": "execute_result"
    }
   ],
   "source": [
    "test = pd.merge(test_apartment, test_building, left_on='building_id', right_on='id')\n",
    "test.rename(columns={'id_x' : 'apartment_id'}, inplace=True)\n",
    "test.drop('id_y', axis=1, inplace=True)\n",
    "test = train.head(int(train.shape[0] * fractionOfData))\n",
    "test.head()"
   ]
  },
  {
   "cell_type": "markdown",
   "metadata": {},
   "source": [
    "# Initial simple test\n",
    "## Data processing\n",
    "We want to do a simple test where we only use area_total, ceiling and rooms.\n",
    "We need to do something about the nan-values. First lets check if there are any, and how severe the situation is."
   ]
  },
  {
   "cell_type": "code",
   "execution_count": 175,
   "metadata": {},
   "outputs": [],
   "source": [
    "simple_train = train[['apartment_id','area_total','ceiling','rooms', 'price']]\n",
    "simple_test = test[['apartment_id','area_total','ceiling','rooms']]"
   ]
  },
  {
   "cell_type": "code",
   "execution_count": 176,
   "metadata": {},
   "outputs": [
    {
     "name": "stdout",
     "output_type": "stream",
     "text": [
      "Is all training data labeled? True\n"
     ]
    }
   ],
   "source": [
    "# If we found nan-values in price, we couldn't use it as training data.\n",
    "print(\"Is all training data labeled? \", end=\"\")\n",
    "print(len(simple_train['price'].dropna()) == len(simple_train['price']))"
   ]
  },
  {
   "cell_type": "code",
   "execution_count": 177,
   "metadata": {},
   "outputs": [
    {
     "name": "stdout",
     "output_type": "stream",
     "text": [
      "True\n",
      "False\n",
      "True\n"
     ]
    }
   ],
   "source": [
    "#Now, what about the features?\n",
    "print(len(simple_train['area_total'].dropna()) == len(simple_train['area_total']))\n",
    "print(len(simple_train['ceiling'].dropna()) == len(simple_train['ceiling']))\n",
    "print(len(simple_train['rooms'].dropna()) == len(simple_train['rooms']))"
   ]
  },
  {
   "cell_type": "code",
   "execution_count": 178,
   "metadata": {},
   "outputs": [
    {
     "name": "stdout",
     "output_type": "stream",
     "text": [
      "12192 23285\n",
      "3.2683735236220475\n"
     ]
    }
   ],
   "source": [
    "print(len(simple_train['ceiling'].dropna()), len(simple_train['ceiling']))\n",
    "print(simple_train['ceiling'].mean())"
   ]
  },
  {
   "cell_type": "code",
   "execution_count": 179,
   "metadata": {},
   "outputs": [],
   "source": [
    "# Alright, then we need to fix ceilings. Lets just drop all values with nan, or replace them with mean.\n",
    "#simple_train = simple_train.dropna()\n",
    "simple_train=simple_train.fillna(simple_train.mean())\n",
    "simple_test=simple_test.fillna(simple_test.mean())"
   ]
  },
  {
   "cell_type": "code",
   "execution_count": 96,
   "metadata": {},
   "outputs": [
    {
     "data": {
      "text/plain": [
       "<seaborn.axisgrid.PairGrid at 0x2966380e820>"
      ]
     },
     "execution_count": 96,
     "metadata": {},
     "output_type": "execute_result"
    },
    {
     "data": {
      "image/png": "[encoded data removed]",
      "text/plain": [
       "<Figure size 720x720 with 20 Axes>"
      ]
     },
     "metadata": {
      "needs_background": "light"
     },
     "output_type": "display_data"
    }
   ],
   "source": [
    "sns.pairplot(simple_train[['price', 'area_total', 'ceiling', 'rooms']])"
   ]
  },
  {
   "cell_type": "markdown",
   "metadata": {},
   "source": [
    "## Training\n",
    "Using a sequential deep ANN model to extraxt and train on features."
   ]
  },
  {
   "cell_type": "code",
   "execution_count": 133,
   "metadata": {},
   "outputs": [],
   "source": [
    "from tensorflow.keras.layers import Conv2D, MaxPooling2D, Dropout, Flatten, Dense"
   ]
  },
  {
   "cell_type": "code",
   "execution_count": 166,
   "metadata": {},
   "outputs": [],
   "source": [
    "# Split data into labels and features. Normalize feature data.\n",
    "simple_train_labels = simple_train['price']\n",
    "simple_train_features = simple_train[['area_total','ceiling','rooms']]"
   ]
  },
  {
   "cell_type": "code",
   "execution_count": 185,
   "metadata": {},
   "outputs": [],
   "source": [
    "# Model\n",
    "model = tf.keras.Sequential([\n",
    "    Dense(6, activation=tf.nn.relu, input_shape=[3]),\n",
    "    Dense(6, activation=tf.nn.relu),\n",
    "    Dense(1)\n",
    "])\n",
    "model.compile(optimizer='adam', \n",
    "              loss=tf.keras.losses.MeanSquaredLogarithmicError, #mse\n",
    "              metrics=['mae', 'mse', 'msle']) #-msle\n"
   ]
  },
  {
   "cell_type": "code",
   "execution_count": 163,
   "metadata": {},
   "outputs": [
    {
     "name": "stdout",
     "output_type": "stream",
     "text": [
      "\n",
      "....................................................................................................\n",
      "....................................................................................................\n",
      "....................................................................................................\n",
      "....................................................................................................\n",
      "....................................................................................................\n",
      "....................................................................................................\n",
      "....................................................................................................\n",
      "....................................................................................................\n",
      "....................................................................................................\n",
      "...................................................................................................."
     ]
    }
   ],
   "source": [
    "# Train\n",
    "class PrintDot(tf.keras.callbacks.Callback):\n",
    "    def on_epoch_end(self, epoch, logs):\n",
    "        if epoch % 100 == 0: print('')\n",
    "        print('.', end='')\n",
    "        \n",
    "early_stop = tf.keras.callbacks.EarlyStopping(monitor='val_loss', patience=50)\n",
    "\n",
    "\n",
    "history = model.fit(simple_train_features, simple_train_labels, epochs=1000, verbose=0, validation_split = 0.1,\n",
    "                    callbacks=[early_stop, PrintDot()])\n",
    "\n"
   ]
  },
  {
   "cell_type": "code",
   "execution_count": 164,
   "metadata": {},
   "outputs": [
    {
     "name": "stdout",
     "output_type": "stream",
     "text": [
      "Final Root Mean Square Error on validation set: 17344643.43\n"
     ]
    },
    {
     "data": {
      "text/html": [
       "<div>\n",
       "<style scoped>\n",
       "    .dataframe tbody tr th:only-of-type {\n",
       "        vertical-align: middle;\n",
       "    }\n",
       "\n",
       "    .dataframe tbody tr th {\n",
       "        vertical-align: top;\n",
       "    }\n",
       "\n",
       "    .dataframe thead th {\n",
       "        text-align: right;\n",
       "    }\n",
       "</style>\n",
       "<table border=\"1\" class=\"dataframe\">\n",
       "  <thead>\n",
       "    <tr style=\"text-align: right;\">\n",
       "      <th></th>\n",
       "      <th>loss</th>\n",
       "      <th>mae</th>\n",
       "      <th>mse</th>\n",
       "      <th>val_loss</th>\n",
       "      <th>val_mae</th>\n",
       "      <th>val_mse</th>\n",
       "      <th>epoch</th>\n",
       "    </tr>\n",
       "  </thead>\n",
       "  <tbody>\n",
       "    <tr>\n",
       "      <th>995</th>\n",
       "      <td>8.386665e+14</td>\n",
       "      <td>10135608.0</td>\n",
       "      <td>8.386665e+14</td>\n",
       "      <td>3.010952e+14</td>\n",
       "      <td>6151397.0</td>\n",
       "      <td>3.010952e+14</td>\n",
       "      <td>995</td>\n",
       "    </tr>\n",
       "    <tr>\n",
       "      <th>996</th>\n",
       "      <td>8.385477e+14</td>\n",
       "      <td>10152115.0</td>\n",
       "      <td>8.385477e+14</td>\n",
       "      <td>3.009332e+14</td>\n",
       "      <td>6146323.0</td>\n",
       "      <td>3.009332e+14</td>\n",
       "      <td>996</td>\n",
       "    </tr>\n",
       "    <tr>\n",
       "      <th>997</th>\n",
       "      <td>8.385822e+14</td>\n",
       "      <td>10142568.0</td>\n",
       "      <td>8.385822e+14</td>\n",
       "      <td>3.008354e+14</td>\n",
       "      <td>6143166.0</td>\n",
       "      <td>3.008354e+14</td>\n",
       "      <td>997</td>\n",
       "    </tr>\n",
       "    <tr>\n",
       "      <th>998</th>\n",
       "      <td>8.385151e+14</td>\n",
       "      <td>10148669.0</td>\n",
       "      <td>8.385151e+14</td>\n",
       "      <td>3.007746e+14</td>\n",
       "      <td>6141073.5</td>\n",
       "      <td>3.007746e+14</td>\n",
       "      <td>998</td>\n",
       "    </tr>\n",
       "    <tr>\n",
       "      <th>999</th>\n",
       "      <td>8.385735e+14</td>\n",
       "      <td>10131827.0</td>\n",
       "      <td>8.385735e+14</td>\n",
       "      <td>3.008367e+14</td>\n",
       "      <td>6142693.0</td>\n",
       "      <td>3.008367e+14</td>\n",
       "      <td>999</td>\n",
       "    </tr>\n",
       "  </tbody>\n",
       "</table>\n",
       "</div>"
      ],
      "text/plain": [
       "             loss         mae           mse      val_loss    val_mae  \\\n",
       "995  8.386665e+14  10135608.0  8.386665e+14  3.010952e+14  6151397.0   \n",
       "996  8.385477e+14  10152115.0  8.385477e+14  3.009332e+14  6146323.0   \n",
       "997  8.385822e+14  10142568.0  8.385822e+14  3.008354e+14  6143166.0   \n",
       "998  8.385151e+14  10148669.0  8.385151e+14  3.007746e+14  6141073.5   \n",
       "999  8.385735e+14  10131827.0  8.385735e+14  3.008367e+14  6142693.0   \n",
       "\n",
       "          val_mse  epoch  \n",
       "995  3.010952e+14    995  \n",
       "996  3.009332e+14    996  \n",
       "997  3.008354e+14    997  \n",
       "998  3.007746e+14    998  \n",
       "999  3.008367e+14    999  "
      ]
     },
     "execution_count": 164,
     "metadata": {},
     "output_type": "execute_result"
    }
   ],
   "source": [
    "# Reults\n",
    "hist = pd.DataFrame(history.history)\n",
    "hist['epoch'] = history.epoch\n",
    "\n",
    "\n",
    "# show RMSE measure to compare to Kaggle leaderboard on https://www.kaggle.com/c/boston-housing/leaderboard\n",
    "rmse_final = np.sqrt(float(hist['val_mse'].tail(1)))\n",
    "\n",
    "print('Final Root Mean Square Error on validation set: {}'.format(round(rmse_final, 3)))\n",
    "hist.tail()"
   ]
  },
  {
   "cell_type": "code",
   "execution_count": 165,
   "metadata": {},
   "outputs": [
    {
     "data": {
      "image/png": "[encoded data removed]",
      "text/plain": [
       "<Figure size 432x288 with 1 Axes>"
      ]
     },
     "metadata": {
      "needs_background": "light"
     },
     "output_type": "display_data"
    }
   ],
   "source": [
    "def plot_history():\n",
    "    plt.figure()\n",
    "    plt.xlabel('Epoch')\n",
    "    plt.ylabel('Mean Square Error')\n",
    "    plt.plot(hist['epoch'], hist['mse'], label='Train Error')\n",
    "    plt.plot(hist['epoch'], hist['val_mse'], label = 'Val Error')\n",
    "    plt.legend()\n",
    "\n",
    "plot_history()"
   ]
  },
  {
   "cell_type": "code",
   "execution_count": 197,
   "metadata": {},
   "outputs": [],
   "source": [
    "# Second model: using MSLE instead of mse! Less sensitive to outlayers.\n",
    "# Model\n",
    "model2 = tf.keras.Sequential([\n",
    "    Dense(6, activation=tf.nn.relu, input_shape=[3]),\n",
    "    Dense(6, activation=tf.nn.relu),\n",
    "    Dense(1)\n",
    "])\n",
    "model2.compile(optimizer='adam', \n",
    "              loss=tf.keras.losses.MeanSquaredLogarithmicError(), #mse\n",
    "              metrics=['mae', 'mse', 'msle']) #-msle\n"
   ]
  },
  {
   "cell_type": "code",
   "execution_count": 201,
   "metadata": {},
   "outputs": [
    {
     "name": "stdout",
     "output_type": "stream",
     "text": [
      "\n",
      "....................................................................................................\n",
      "....................................................................................................\n",
      "...................................................................................................."
     ]
    }
   ],
   "source": [
    "history = model2.fit(simple_train_features, simple_train_labels, epochs=300, verbose=0, validation_split = 0.1,\n",
    "                    callbacks=[PrintDot()])\n"
   ]
  },
  {
   "cell_type": "code",
   "execution_count": 202,
   "metadata": {},
   "outputs": [
    {
     "name": "stdout",
     "output_type": "stream",
     "text": [
      "Final Root Mean Square Error on validation set: 21715932.051\n"
     ]
    },
    {
     "data": {
      "text/html": [
       "<div>\n",
       "<style scoped>\n",
       "    .dataframe tbody tr th:only-of-type {\n",
       "        vertical-align: middle;\n",
       "    }\n",
       "\n",
       "    .dataframe tbody tr th {\n",
       "        vertical-align: top;\n",
       "    }\n",
       "\n",
       "    .dataframe thead th {\n",
       "        text-align: right;\n",
       "    }\n",
       "</style>\n",
       "<table border=\"1\" class=\"dataframe\">\n",
       "  <thead>\n",
       "    <tr style=\"text-align: right;\">\n",
       "      <th></th>\n",
       "      <th>loss</th>\n",
       "      <th>mae</th>\n",
       "      <th>mse</th>\n",
       "      <th>msle</th>\n",
       "      <th>val_loss</th>\n",
       "      <th>val_mae</th>\n",
       "      <th>val_mse</th>\n",
       "      <th>val_msle</th>\n",
       "      <th>epoch</th>\n",
       "    </tr>\n",
       "  </thead>\n",
       "  <tbody>\n",
       "    <tr>\n",
       "      <th>295</th>\n",
       "      <td>0.209480</td>\n",
       "      <td>11038666.0</td>\n",
       "      <td>1.859907e+15</td>\n",
       "      <td>0.209480</td>\n",
       "      <td>0.135380</td>\n",
       "      <td>5545179.0</td>\n",
       "      <td>4.721428e+14</td>\n",
       "      <td>0.135380</td>\n",
       "      <td>295</td>\n",
       "    </tr>\n",
       "    <tr>\n",
       "      <th>296</th>\n",
       "      <td>0.209422</td>\n",
       "      <td>11034050.0</td>\n",
       "      <td>1.856949e+15</td>\n",
       "      <td>0.209422</td>\n",
       "      <td>0.135281</td>\n",
       "      <td>5542836.5</td>\n",
       "      <td>4.720968e+14</td>\n",
       "      <td>0.135281</td>\n",
       "      <td>296</td>\n",
       "    </tr>\n",
       "    <tr>\n",
       "      <th>297</th>\n",
       "      <td>0.209363</td>\n",
       "      <td>11032847.0</td>\n",
       "      <td>1.857393e+15</td>\n",
       "      <td>0.209363</td>\n",
       "      <td>0.135222</td>\n",
       "      <td>5541223.5</td>\n",
       "      <td>4.719961e+14</td>\n",
       "      <td>0.135222</td>\n",
       "      <td>297</td>\n",
       "    </tr>\n",
       "    <tr>\n",
       "      <th>298</th>\n",
       "      <td>0.209301</td>\n",
       "      <td>11031494.0</td>\n",
       "      <td>1.857694e+15</td>\n",
       "      <td>0.209301</td>\n",
       "      <td>0.135339</td>\n",
       "      <td>5542801.0</td>\n",
       "      <td>4.716373e+14</td>\n",
       "      <td>0.135339</td>\n",
       "      <td>298</td>\n",
       "    </tr>\n",
       "    <tr>\n",
       "      <th>299</th>\n",
       "      <td>0.209244</td>\n",
       "      <td>11027755.0</td>\n",
       "      <td>1.855762e+15</td>\n",
       "      <td>0.209244</td>\n",
       "      <td>0.135247</td>\n",
       "      <td>5540583.0</td>\n",
       "      <td>4.715817e+14</td>\n",
       "      <td>0.135247</td>\n",
       "      <td>299</td>\n",
       "    </tr>\n",
       "  </tbody>\n",
       "</table>\n",
       "</div>"
      ],
      "text/plain": [
       "         loss         mae           mse      msle  val_loss    val_mae  \\\n",
       "295  0.209480  11038666.0  1.859907e+15  0.209480  0.135380  5545179.0   \n",
       "296  0.209422  11034050.0  1.856949e+15  0.209422  0.135281  5542836.5   \n",
       "297  0.209363  11032847.0  1.857393e+15  0.209363  0.135222  5541223.5   \n",
       "298  0.209301  11031494.0  1.857694e+15  0.209301  0.135339  5542801.0   \n",
       "299  0.209244  11027755.0  1.855762e+15  0.209244  0.135247  5540583.0   \n",
       "\n",
       "          val_mse  val_msle  epoch  \n",
       "295  4.721428e+14  0.135380    295  \n",
       "296  4.720968e+14  0.135281    296  \n",
       "297  4.719961e+14  0.135222    297  \n",
       "298  4.716373e+14  0.135339    298  \n",
       "299  4.715817e+14  0.135247    299  "
      ]
     },
     "execution_count": 202,
     "metadata": {},
     "output_type": "execute_result"
    }
   ],
   "source": [
    "# Reults\n",
    "hist = pd.DataFrame(history.history)\n",
    "hist['epoch'] = history.epoch\n",
    "\n",
    "\n",
    "# show RMSE measure to compare to Kaggle leaderboard on https://www.kaggle.com/c/boston-housing/leaderboard\n",
    "rmse_final = np.sqrt(float(hist['val_mse'].tail(1)))\n",
    "\n",
    "print('Final Root Mean Square Error on validation set: {}'.format(round(rmse_final, 3)))\n",
    "hist.tail()"
   ]
  },
  {
   "cell_type": "code",
   "execution_count": 203,
   "metadata": {},
   "outputs": [
    {
     "data": {
      "image/png": "[encoded data removed]",
      "text/plain": [
       "<Figure size 432x288 with 1 Axes>"
      ]
     },
     "metadata": {
      "needs_background": "light"
     },
     "output_type": "display_data"
    }
   ],
   "source": [
    "plot_history()"
   ]
  },
  {
   "cell_type": "markdown",
   "metadata": {},
   "source": [
    "## Predicting / inference\n",
    "Lets see how well our model does in the competition!"
   ]
  },
  {
   "cell_type": "code",
   "execution_count": 181,
   "metadata": {},
   "outputs": [],
   "source": [
    "result = model.predict(simple_test[['area_total','ceiling','rooms']])"
   ]
  },
  {
   "cell_type": "code",
   "execution_count": 182,
   "metadata": {},
   "outputs": [
    {
     "data": {
      "text/plain": [
       "array([[1.3375417e+07],\n",
       "       [6.4026460e+03],\n",
       "       [2.0629982e+07],\n",
       "       ...,\n",
       "       [1.2705064e+07],\n",
       "       [3.8919472e+07],\n",
       "       [9.8013530e+06]], dtype=float32)"
      ]
     },
     "execution_count": 182,
     "metadata": {},
     "output_type": "execute_result"
    }
   ],
   "source": [
    "result"
   ]
  },
  {
   "cell_type": "code",
   "execution_count": null,
   "metadata": {},
   "outputs": [],
   "source": []
  }
 ],
 "metadata": {
  "kernelspec": {
   "display_name": "Python 3 (ipykernel)",
   "language": "python",
   "name": "python3"
  },
  "language_info": {
   "codemirror_mode": {
    "name": "ipython",
    "version": 3
   },
   "file_extension": ".py",
   "mimetype": "text/x-python",
   "name": "python",
   "nbconvert_exporter": "python",
   "pygments_lexer": "ipython3",
   "version": "3.8.7"
  }
 },
 "nbformat": 4,
 "nbformat_minor": 4
}
