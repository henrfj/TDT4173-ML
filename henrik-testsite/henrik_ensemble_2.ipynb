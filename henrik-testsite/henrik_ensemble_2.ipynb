{
 "cells": [
  {
   "cell_type": "markdown",
   "id": "2ee6dddb-4b6d-4c0d-a861-72d3e955cc0d",
   "metadata": {},
   "source": [
    "# Using the new found cleaning and feature engineering to experiment further with stacking"
   ]
  },
  {
   "cell_type": "markdown",
   "id": "4c924667-3341-4f53-bd3a-f2c1b196260e",
   "metadata": {},
   "source": [
    "## 1 - Any bagging"
   ]
  },
  {
   "cell_type": "code",
   "execution_count": null,
   "id": "f4359e99-8401-41ff-9b7f-e18130def502",
   "metadata": {},
   "outputs": [],
   "source": [
    "scores = []\n",
    "csv_paths = []\n",
    "submission_path = \"ensemble_predictions/big_bagging_1\"\n",
    "csv_bagging(scores, csv_paths, submission_path)"
   ]
  },
  {
   "cell_type": "markdown",
   "id": "fd2bfee7-5a46-46b9-b136-0f945916fcc4",
   "metadata": {},
   "source": [
    "## 2 - Stacking"
   ]
  },
  {
   "cell_type": "code",
   "execution_count": 3,
   "id": "3326b638-a717-4152-9848-857516729155",
   "metadata": {},
   "outputs": [],
   "source": [
    "%run ../common_utils.py\n",
    "train, test, metaData = load_all_data()"
   ]
  },
  {
   "cell_type": "markdown",
   "id": "520abcbe-4d6a-45be-8813-6fdb7305489c",
   "metadata": {
    "tags": []
   },
   "source": [
    "### XGB advisor 1 😎: all features - predicting floor price"
   ]
  },
  {
   "cell_type": "code",
   "execution_count": 4,
   "id": "9b0f5d2d-e550-450c-ab42-de537ae04fc1",
   "metadata": {},
   "outputs": [
    {
     "name": "stdout",
     "output_type": "stream",
     "text": [
      "minMax\n"
     ]
    }
   ],
   "source": [
    "features =           [\"building_id\", # For grouping\n",
    "                      \"area_total\", \"area_kitchen\", \"area_living\", \"floor\", \"ceiling\", \"stories\", \"rooms\",\n",
    "                      \"bathrooms_private\", \"bathrooms_shared\", \"balconies\",\"loggias\", \"phones\", \"latitude\", \"longitude\", \"constructed\", # Numerical\n",
    "                     \"layout\", \"condition\", \"district\", \"material\", \"parking\", \"heating\", \"seller\", #Categorical\n",
    "                      \"windows_court\", \"windows_street\", \"new\", \"elevator_without\", \"elevator_passenger\", \"elevator_service\", \"garbage_chute\", # Bool\n",
    "                     \"street\"] #, \"address\"] # Strings\n",
    "\n",
    "all_numerical_features = [\"area_total\", \"area_kitchen\", \"area_living\", \"floor\",\n",
    "                      \"ceiling\", \"stories\", \"rooms\", \"bathrooms_private\", \"bathrooms_shared\", \"balconies\",\"loggias\", \"phones\", \"latitude\", \"longitude\", \"constructed\"]\n",
    "\n",
    "float_numerical_features = [\"area_total\", \"area_kitchen\", \"area_living\", \"ceiling\", \"latitude\", \"longitude\", \"constructed\"]\n",
    "int_numerical_features = [\"floor\", \"stories\", \"rooms\", \"bathrooms_private\", \"bathrooms_shared\", \"balconies\", \"loggias\", \"phones\"] # Ordinal categories\n",
    "\n",
    "cat_features = [\"layout\", \"condition\", \"district\", \"material\", \"parking\", \"heating\", \"seller\"] # All are non-ordinal\n",
    "\n",
    "droptable = [\"street\"]\n",
    "\n",
    "# Load data\n",
    "train, test, metaData = load_all_data()\n",
    "# Clean data. \n",
    "train_labels, train_targets, test_labels = clean_data(train, test, features, float_numerical_features, int_numerical_features, cat_features,\n",
    "                                                      log_targets=False, log_area=True, fillNan=False)\n",
    "# Add new features\n",
    "train_labels, test_labels, added_features = feature_engineering(train_labels, test_labels,\n",
    "    add_base_features=True, \n",
    "    add_bool_features=True,\n",
    "    add_weak_features=True,\n",
    "    add_dist_to_metro=True,\n",
    "    add_close_to_uni=True,\n",
    "    add_dist_to_hospital=True,\n",
    "    add_floor_features=True,\n",
    "    add_street_info=True,\n",
    "    add_some_more_features=False                                                            \n",
    "    )\n",
    "# Normalize\n",
    "train_labels, test_labels = normalize(train_labels, test_labels, float_numerical_features, scaler=\"minMax\")\n",
    "# Drop\n",
    "train_labels.drop(droptable, inplace=True, axis=1)\n",
    "test_labels.drop(droptable, inplace=True, axis=1)"
   ]
  },
  {
   "cell_type": "code",
   "execution_count": 5,
   "id": "33bc9bfb-29c9-47fd-a1f7-b99d1ef4a42a",
   "metadata": {
    "tags": []
   },
   "outputs": [],
   "source": [
    "price_per_square_meter = train_targets/train['area_total'] # real price / real_area"
   ]
  },
  {
   "cell_type": "code",
   "execution_count": 6,
   "id": "f0c646bb-719b-46ca-bc9f-e97124ee5c93",
   "metadata": {},
   "outputs": [],
   "source": [
    "xgb_advisor_1 = xgboost.XGBRegressor(max_depth=5, min_child_weight=12, gamma=0.15,\n",
    "                                 subsample=0.8, colsample_bytree=0.8, reg_alpha=1.1,\n",
    "                                 reg_lambda=0.3, learning_rate=0.01, n_estimators=10000)\n",
    "\n",
    "xgb_oof_train_1, xgb_oof_test_1, scores_1 = get_oof_xgboost(xgb_advisor_1, train_labels.drop(['area_total'],axis=1),\n",
    "                                                      np.log(price_per_square_meter), test_labels.drop(['area_total'],axis=1))"
   ]
  },
  {
   "cell_type": "code",
   "execution_count": 7,
   "id": "5dbffeab-49e2-4aac-9789-5560a4016e8d",
   "metadata": {},
   "outputs": [
    {
     "name": "stdout",
     "output_type": "stream",
     "text": [
      "[0.20252494570910018, 0.1719402910622423, 0.19194384452156768, 0.18187339676857273, 0.23624429647388234]\n"
     ]
    }
   ],
   "source": [
    "print(scores_1)"
   ]
  },
  {
   "cell_type": "markdown",
   "id": "15c2dc94-0090-44f4-a24d-6d87b9df6fcf",
   "metadata": {
    "tags": []
   },
   "source": [
    "### XGB advisor 2 😎: Even more features - as well as area total - predicting price"
   ]
  },
  {
   "cell_type": "code",
   "execution_count": 8,
   "id": "c27b699d-0446-431a-8292-2116ba9e03c4",
   "metadata": {
    "collapsed": true,
    "jupyter": {
     "outputs_hidden": true
    },
    "tags": []
   },
   "outputs": [
    {
     "name": "stderr",
     "output_type": "stream",
     "text": [
      "C:\\School\\høst 2021\\TDT4173-ML\\common_utils.py:1467: FutureWarning: Dropping of nuisance columns in DataFrame reductions (with 'numeric_only=None') is deprecated; in a future version this will raise TypeError.  Select only valid columns before calling the reduction.\n",
      "  train_labels = train_labels.fillna(train_labels.median()) # Boolean\n",
      "C:\\School\\høst 2021\\TDT4173-ML\\common_utils.py:1476: FutureWarning: Dropping of nuisance columns in DataFrame reductions (with 'numeric_only=None') is deprecated; in a future version this will raise TypeError.  Select only valid columns before calling the reduction.\n",
      "  test_labels = test_labels.fillna(test_labels.median()) # Boolean\n"
     ]
    },
    {
     "name": "stdout",
     "output_type": "stream",
     "text": [
      "minMax\n"
     ]
    }
   ],
   "source": [
    "features =           [\"building_id\", # For grouping\n",
    "                      \"area_total\", \"area_kitchen\", \"area_living\", \"floor\", \"ceiling\", \"stories\", \"rooms\",\n",
    "                      \"bathrooms_private\", \"bathrooms_shared\", \"balconies\",\"loggias\", \"phones\", \"latitude\", \"longitude\", \"constructed\", # Numerical\n",
    "                     \"layout\", \"condition\", \"district\", \"material\", \"parking\", \"heating\", \"seller\", #Categorical\n",
    "                      \"windows_court\", \"windows_street\", \"new\", \"elevator_without\", \"elevator_passenger\", \"elevator_service\", \"garbage_chute\", # Bool\n",
    "                     \"street\"] #, \"address\"] # Strings\n",
    "\n",
    "all_numerical_features = [\"area_total\", \"area_kitchen\", \"area_living\", \"floor\",\n",
    "                      \"ceiling\", \"stories\", \"rooms\", \"bathrooms_private\", \"bathrooms_shared\", \"balconies\",\"loggias\", \"phones\", \"latitude\", \"longitude\", \"constructed\"]\n",
    "\n",
    "float_numerical_features = [\"area_total\", \"area_kitchen\", \"area_living\", \"ceiling\", \"latitude\", \"longitude\", \"constructed\"]\n",
    "int_numerical_features = [\"floor\", \"stories\", \"rooms\", \"bathrooms_private\", \"bathrooms_shared\", \"balconies\", \"loggias\", \"phones\"] # Ordinal categories\n",
    "\n",
    "cat_features = [\"layout\", \"condition\", \"district\", \"material\", \"parking\", \"heating\", \"seller\"] # All are non-ordinal\n",
    "\n",
    "droptable = [\"street\"]\n",
    "\n",
    "# Load data\n",
    "train, test, metaData = load_all_data()\n",
    "# Clean data. \n",
    "train_labels, train_targets, test_labels = clean_data(train, test, features, float_numerical_features, int_numerical_features, cat_features,\n",
    "                                                      log_targets=True, log_area=True, fillNan=True)\n",
    "# Add new features\n",
    "train_labels, test_labels, added_features = feature_engineering(train_labels, test_labels,\n",
    "    add_base_features=True, \n",
    "    add_bool_features=True,\n",
    "    add_weak_features=True,\n",
    "    add_dist_to_metro=True,\n",
    "    add_close_to_uni=True,\n",
    "    add_dist_to_hospital=True,\n",
    "    add_floor_features=True,\n",
    "    add_street_info=True,\n",
    "    add_some_more_features=True                                                            \n",
    "    )\n",
    "# Normalize\n",
    "train_labels, test_labels = normalize(train_labels, test_labels, float_numerical_features, scaler=\"minMax\")\n",
    "# Drop\n",
    "train_labels.drop(droptable, inplace=True, axis=1)\n",
    "test_labels.drop(droptable, inplace=True, axis=1)"
   ]
  },
  {
   "cell_type": "code",
   "execution_count": 9,
   "id": "caa60c14-bc20-4e8e-8dc1-ea30e833c883",
   "metadata": {},
   "outputs": [],
   "source": [
    "xgb_advisor_2 = xgboost.XGBRegressor(max_depth=5, min_child_weight=12, gamma=0.15,\n",
    "                                 subsample=0.8, colsample_bytree=0.8, reg_alpha=1.1,\n",
    "                                 reg_lambda=0.3, learning_rate=0.01, n_estimators=10000)\n",
    "\n",
    "xgb_oof_train_2, xgb_oof_test_2, scores_2 = get_oof_xgboost(xgb_advisor_2, train_labels,\n",
    "                                                      train_targets, test_labels)"
   ]
  },
  {
   "cell_type": "code",
   "execution_count": 10,
   "id": "8833cab7-89a6-420b-811d-6bfbcc16c217",
   "metadata": {},
   "outputs": [
    {
     "name": "stdout",
     "output_type": "stream",
     "text": [
      "[0.21366608257200162, 0.17480404267524746, 0.19900553175201274, 0.18699747945287365, 0.2390275085244918]\n"
     ]
    }
   ],
   "source": [
    "print(scores_2)"
   ]
  },
  {
   "cell_type": "markdown",
   "id": "6346d3b7-652c-42d3-a058-ae8f6f05b0bb",
   "metadata": {
    "tags": []
   },
   "source": [
    "### DL advisor 1 - Predicting area_price"
   ]
  },
  {
   "cell_type": "code",
   "execution_count": 61,
   "id": "4e3074a3-3530-41b4-8718-9d8ff75cd2c5",
   "metadata": {},
   "outputs": [],
   "source": [
    "%run ../common_utils.py"
   ]
  },
  {
   "cell_type": "code",
   "execution_count": 62,
   "id": "ece0e8f7-eb77-4219-9c23-63e168039fa4",
   "metadata": {},
   "outputs": [],
   "source": [
    "# Mostly the ones correlated to price.\n",
    "float_numerical_features = [\"area_total\", \"area_kitchen\", \"area_living\", \"latitude\", \"longitude\", \"ceiling\"]\n",
    "\n",
    "int_numerical_features = [\"floor\", \"stories\", \"rooms\", \"bathrooms_shared\", \"bathrooms_private\", \"balconies\", \"constructed\"]\n",
    "\n",
    "cat_features = [\"district\", \"material\", \"parking\", \"seller\"]\n",
    "\n",
    "bool_features = []\n",
    "\n",
    "features = [\"building_id\", \"street\"] + float_numerical_features + int_numerical_features + cat_features + bool_features\n",
    "\n",
    "# Many of the features was just added to help clean/engineer other features.\n",
    "droptable = ['longitude', 'latitude', 'area_kitchen', 'area_living', 'floor', 'stories', \"street\",\n",
    "            \"rel_living\", \"bathrooms_shared\", \"bathrooms_private\", \"theta\"] "
   ]
  },
  {
   "cell_type": "code",
   "execution_count": 63,
   "id": "ce195bf7-fced-465e-b2d1-ee02dc286141",
   "metadata": {},
   "outputs": [],
   "source": [
    "# Load data\n",
    "train, test, metaData = load_all_data()"
   ]
  },
  {
   "cell_type": "code",
   "execution_count": 64,
   "id": "ac72fe8a-e1b0-426f-bd5b-8e852deb745b",
   "metadata": {
    "collapsed": true,
    "jupyter": {
     "outputs_hidden": true
    },
    "tags": []
   },
   "outputs": [
    {
     "name": "stderr",
     "output_type": "stream",
     "text": [
      "C:\\School\\høst 2021\\TDT4173-ML\\common_utils.py:1468: FutureWarning: Dropping of nuisance columns in DataFrame reductions (with 'numeric_only=None') is deprecated; in a future version this will raise TypeError.  Select only valid columns before calling the reduction.\n",
      "  train_labels = train_labels.fillna(train_labels.median()) # Boolean\n",
      "C:\\School\\høst 2021\\TDT4173-ML\\common_utils.py:1477: FutureWarning: Dropping of nuisance columns in DataFrame reductions (with 'numeric_only=None') is deprecated; in a future version this will raise TypeError.  Select only valid columns before calling the reduction.\n",
      "  test_labels = test_labels.fillna(test_labels.median()) # Boolean\n"
     ]
    }
   ],
   "source": [
    "# Clean data\n",
    "train_labels, train_targets, test_labels = clean_data(train, test, features, float_numerical_features, int_numerical_features, cat_features,\n",
    "                                                      log_targets=False, log_area=False, fillNan=True)"
   ]
  },
  {
   "cell_type": "code",
   "execution_count": 65,
   "id": "1441cf27-0511-4793-a933-5d7b50455db3",
   "metadata": {},
   "outputs": [],
   "source": [
    "# Feature engineering\n",
    "train_labels, test_labels, added_features = feature_engineering(train_labels, test_labels,\n",
    "    add_base_features=True, \n",
    "    add_bool_features=False,\n",
    "    add_weak_features=False,\n",
    "    add_dist_to_metro=True,\n",
    "    add_close_to_uni=False,\n",
    "    add_dist_to_hospital=False,\n",
    "    add_floor_features=False,\n",
    "    add_street_info=True,\n",
    "    )"
   ]
  },
  {
   "cell_type": "code",
   "execution_count": 66,
   "id": "ea8c64d2-b760-4fc4-b3f3-3c371301d9f9",
   "metadata": {},
   "outputs": [
    {
     "name": "stdout",
     "output_type": "stream",
     "text": [
      "minMax\n"
     ]
    }
   ],
   "source": [
    "# Normalize\n",
    "train_labels, test_labels = normalize(train_labels, test_labels, float_numerical_features, scaler=\"minMax\")"
   ]
  },
  {
   "cell_type": "code",
   "execution_count": 67,
   "id": "d2a51c0f-0afe-4e72-b608-d59da8e5f288",
   "metadata": {},
   "outputs": [],
   "source": [
    "# One-hot encoding\n",
    "train_labels, test_labels = one_hot_encoder(train_labels, test_labels,\n",
    "                                            cat_features, drop_old=True)"
   ]
  },
  {
   "cell_type": "code",
   "execution_count": 68,
   "id": "564746d2-7a77-4f29-a86d-f5df36283883",
   "metadata": {
    "tags": []
   },
   "outputs": [],
   "source": [
    "# Droptable\n",
    "train_labels.drop(droptable, inplace=True, axis=1)\n",
    "test_labels.drop(droptable, inplace=True, axis=1)"
   ]
  },
  {
   "cell_type": "code",
   "execution_count": 69,
   "id": "d9fdfc84-cd61-497b-bf4e-b87b2bc9dfab",
   "metadata": {},
   "outputs": [],
   "source": [
    "price_per_square_meter = train_targets/train['area_total']"
   ]
  },
  {
   "cell_type": "code",
   "execution_count": null,
   "id": "ec3279c2-3a0e-4ba1-b06b-0da89926689d",
   "metadata": {},
   "outputs": [
    {
     "name": "stdout",
     "output_type": "stream",
     "text": [
      "\n",
      "....................................................................................................\n",
      "....................................................................................................\n",
      "....................................................................................................\n",
      "....................................................................................................\n",
      "....................................................................................................\n",
      "......................................................................Epoch 00570: early stopping\n",
      "\n",
      "....................................................................................................\n",
      "....................................................................................................\n",
      "....................................................................................................\n",
      "...................................................................................................."
     ]
    }
   ],
   "source": [
    "model_params = ([18, 18, 18], tensorflow.nn.leaky_relu,\n",
    "                     [False, False, False], 0.2, 'adam',\n",
    "                      rmsle_custom, ['mse', 'msle', tensorflow.keras.metrics.Accuracy()], True)\n",
    "\n",
    "ann_oof_train_1, ann_oof_test_1, hists_1 = get_oof_ann(model_params,\n",
    "                                                 train_labels.drop(['area_total'],axis=1),\n",
    "                                                 price_per_square_meter,\n",
    "                                                 test_labels.drop(['area_total'],axis=1))"
   ]
  },
  {
   "cell_type": "code",
   "execution_count": null,
   "id": "9a7ef89e-ea28-4353-b067-82610e77644d",
   "metadata": {},
   "outputs": [],
   "source": [
    "for history in hists_1:\n",
    "    print(history.history[\"val_loss\"][-1], end=\", \")"
   ]
  },
  {
   "cell_type": "markdown",
   "id": "a8e3fed1-2058-4e9b-8fc8-7d20250109a6",
   "metadata": {},
   "source": [
    "### DL advisor 2 - Predicting price"
   ]
  },
  {
   "cell_type": "code",
   "execution_count": null,
   "id": "fe8eaf89-8627-429e-8269-0fe176d71c82",
   "metadata": {},
   "outputs": [],
   "source": [
    "# Mostly the ones correlated to price.\n",
    "float_numerical_features = [\"area_total\", \"area_kitchen\", \"area_living\", \"latitude\", \"longitude\", \"ceiling\"]\n",
    "\n",
    "int_numerical_features = [\"floor\", \"stories\", \"rooms\", \"bathrooms_shared\", \"bathrooms_private\", \"balconies\", \"constructed\"]\n",
    "\n",
    "cat_features = [\"district\", \"material\", \"parking\", \"seller\"]\n",
    "\n",
    "bool_features = []\n",
    "\n",
    "features = [\"building_id\", \"street\"] + float_numerical_features + int_numerical_features + cat_features + bool_features\n",
    "\n",
    "# Many of the features was just added to help clean/engineer other features.\n",
    "droptable = ['longitude', 'latitude', 'area_kitchen', 'area_living', 'floor', 'stories', \"street\",\n",
    "            \"rel_living\", \"bathrooms_shared\", \"bathrooms_private\", \"theta\"]"
   ]
  },
  {
   "cell_type": "code",
   "execution_count": null,
   "id": "abd1ca5e-1a41-4bdd-af73-b2d6e862fd4c",
   "metadata": {},
   "outputs": [],
   "source": [
    "# Load data\n",
    "train, test, metaData = load_all_data()"
   ]
  },
  {
   "cell_type": "code",
   "execution_count": null,
   "id": "9479c2e3-06de-429e-9569-46c2ea7efae1",
   "metadata": {
    "tags": []
   },
   "outputs": [],
   "source": [
    "# Clean data\n",
    "train_labels, train_targets, test_labels = clean_data(train, test, features, float_numerical_features, int_numerical_features, cat_features,\n",
    "                                                      log_targets=False, log_area=False, fillNan=True)"
   ]
  },
  {
   "cell_type": "code",
   "execution_count": null,
   "id": "50359ce7-dd31-4b2f-a2b5-0b52ed549450",
   "metadata": {},
   "outputs": [],
   "source": [
    "# Feature engineering\n",
    "train_labels, test_labels, added_features = feature_engineering(train_labels, test_labels,\n",
    "    add_base_features=True, \n",
    "    add_bool_features=False,\n",
    "    add_weak_features=False,\n",
    "    add_dist_to_metro=True,\n",
    "    add_close_to_uni=False,\n",
    "    add_dist_to_hospital=False,\n",
    "    add_floor_features=False,\n",
    "    add_street_info=True,\n",
    "    )"
   ]
  },
  {
   "cell_type": "code",
   "execution_count": null,
   "id": "3c280ccd-a921-4a73-882c-d5eac766bf87",
   "metadata": {},
   "outputs": [],
   "source": [
    "# Normalize\n",
    "train_labels, test_labels = normalize(train_labels, test_labels, float_numerical_features, scaler=\"minMax\")"
   ]
  },
  {
   "cell_type": "code",
   "execution_count": null,
   "id": "242ed24f-4aa1-4835-bfdd-76999f648088",
   "metadata": {},
   "outputs": [],
   "source": [
    "# Droptable\n",
    "train_labels.drop(droptable, inplace=True, axis=1)\n",
    "test_labels.drop(droptable, inplace=True, axis=1)"
   ]
  },
  {
   "cell_type": "code",
   "execution_count": null,
   "id": "166a4f24-846d-4544-835b-49a78c8dbfba",
   "metadata": {},
   "outputs": [],
   "source": [
    "model_params = ([18, 18, 18], tensorflow.nn.leaky_relu,\n",
    "                     [False, False, False], 0.2, 'adam',\n",
    "                      rmsle_custom, ['mse', 'msle', tensorflow.keras.metrics.Accuracy()], True)\n",
    "\n",
    "ann_oof_train_2, ann_oof_test_2, hists_2 = get_oof_ann(model_params,\n",
    "                                                 train_labels,\n",
    "                                                 train_targets,\n",
    "                                                 test_labels)"
   ]
  },
  {
   "cell_type": "code",
   "execution_count": null,
   "id": "e5908f67-e464-4191-a545-e242a18d8de5",
   "metadata": {},
   "outputs": [],
   "source": [
    "for history in hists_2:\n",
    "    print(history.history[\"val_loss\"][-1], end=\", \")"
   ]
  },
  {
   "cell_type": "code",
   "execution_count": null,
   "id": "a3026922-086d-4f06-89ee-10f69d45f7fe",
   "metadata": {},
   "outputs": [],
   "source": []
  }
 ],
 "metadata": {
  "kernelspec": {
   "display_name": "Python 3 (ipykernel)",
   "language": "python",
   "name": "python3"
  },
  "language_info": {
   "codemirror_mode": {
    "name": "ipython",
    "version": 3
   },
   "file_extension": ".py",
   "mimetype": "text/x-python",
   "name": "python",
   "nbconvert_exporter": "python",
   "pygments_lexer": "ipython3",
   "version": "3.8.7"
  }
 },
 "nbformat": 4,
 "nbformat_minor": 5
}
