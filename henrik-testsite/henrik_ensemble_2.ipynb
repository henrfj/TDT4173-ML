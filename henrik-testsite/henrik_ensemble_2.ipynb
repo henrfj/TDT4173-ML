{
 "cells": [
  {
   "cell_type": "markdown",
   "id": "2ee6dddb-4b6d-4c0d-a861-72d3e955cc0d",
   "metadata": {},
   "source": [
    "# Using the new found cleaning and feature engineering to experiment further with stacking"
   ]
  },
  {
   "cell_type": "code",
   "execution_count": 1,
   "id": "c39333dd-cbd0-41af-b5e7-54c51f4c4b3e",
   "metadata": {},
   "outputs": [],
   "source": [
    "import pandas as pd\n",
    "import time\n",
    "import random\n",
    "import math\n",
    "import matplotlib.pyplot as plt\n",
    "import tensorflow as tf\n",
    "import seaborn as sns\n",
    "import numpy as np\n",
    "from scipy import stats\n",
    "from sklearn import preprocessing\n",
    "from sklearn.preprocessing import MinMaxScaler, OneHotEncoder\n",
    "from sklearn.ensemble import RandomForestRegressor\n",
    "from sklearn.model_selection import train_test_split\n",
    "# Specific tf libraries\n",
    "import tensorflow.keras as keras\n",
    "from tensorflow.keras.models import Sequential\n",
    "from tensorflow.keras.layers import Dense\n",
    "from tensorflow.keras.optimizers import Adam\n",
    "from tensorflow.keras.layers import Dropout\n",
    "# BOOST\n",
    "import xgboost\n",
    "import lightgbm\n"
   ]
  },
  {
   "cell_type": "markdown",
   "id": "4c924667-3341-4f53-bd3a-f2c1b196260e",
   "metadata": {},
   "source": [
    "## 1 - Any bagging"
   ]
  },
  {
   "cell_type": "code",
   "execution_count": null,
   "id": "f4359e99-8401-41ff-9b7f-e18130def502",
   "metadata": {},
   "outputs": [],
   "source": [
    "scores = []\n",
    "csv_paths = []\n",
    "submission_path = \"ensemble_predictions/big_bagging_1\"\n",
    "csv_bagging(scores, csv_paths, submission_path)"
   ]
  },
  {
   "cell_type": "markdown",
   "id": "fd2bfee7-5a46-46b9-b136-0f945916fcc4",
   "metadata": {},
   "source": [
    "## 2 - Stacking"
   ]
  },
  {
   "cell_type": "code",
   "execution_count": 2,
   "id": "3326b638-a717-4152-9848-857516729155",
   "metadata": {},
   "outputs": [],
   "source": [
    "%run ../common_utils.py\n",
    "train, test, metaData = load_all_data()"
   ]
  },
  {
   "cell_type": "markdown",
   "id": "520abcbe-4d6a-45be-8813-6fdb7305489c",
   "metadata": {
    "tags": []
   },
   "source": [
    "### XGB advisor 1 😎: all features - predicting floor price"
   ]
  },
  {
   "cell_type": "code",
   "execution_count": 4,
   "id": "9b0f5d2d-e550-450c-ab42-de537ae04fc1",
   "metadata": {},
   "outputs": [
    {
     "name": "stdout",
     "output_type": "stream",
     "text": [
      "minMax\n"
     ]
    }
   ],
   "source": [
    "features =           [\"building_id\", # For grouping\n",
    "                      \"area_total\", \"area_kitchen\", \"area_living\", \"floor\", \"ceiling\", \"stories\", \"rooms\",\n",
    "                      \"bathrooms_private\", \"bathrooms_shared\", \"balconies\",\"loggias\", \"phones\", \"latitude\", \"longitude\", \"constructed\", # Numerical\n",
    "                     \"layout\", \"condition\", \"district\", \"material\", \"parking\", \"heating\", \"seller\", #Categorical\n",
    "                      \"windows_court\", \"windows_street\", \"new\", \"elevator_without\", \"elevator_passenger\", \"elevator_service\", \"garbage_chute\", # Bool\n",
    "                     \"street\"] #, \"address\"] # Strings\n",
    "\n",
    "all_numerical_features = [\"area_total\", \"area_kitchen\", \"area_living\", \"floor\",\n",
    "                      \"ceiling\", \"stories\", \"rooms\", \"bathrooms_private\", \"bathrooms_shared\", \"balconies\",\"loggias\", \"phones\", \"latitude\", \"longitude\", \"constructed\"]\n",
    "\n",
    "float_numerical_features = [\"area_total\", \"area_kitchen\", \"area_living\", \"ceiling\", \"latitude\", \"longitude\", \"constructed\"]\n",
    "int_numerical_features = [\"floor\", \"stories\", \"rooms\", \"bathrooms_private\", \"bathrooms_shared\", \"balconies\", \"loggias\", \"phones\"] # Ordinal categories\n",
    "\n",
    "cat_features = [\"layout\", \"condition\", \"district\", \"material\", \"parking\", \"heating\", \"seller\"] # All are non-ordinal\n",
    "\n",
    "droptable = [\"street\"]\n",
    "\n",
    "# Load data\n",
    "train, test, metaData = load_all_data()\n",
    "# Clean data. \n",
    "train_labels, train_targets, test_labels = clean_data(train, test, features, float_numerical_features, int_numerical_features, cat_features,\n",
    "                                                      log_targets=False, log_area=True, fillNan=False)\n",
    "# Add new features\n",
    "train_labels, test_labels, added_features = feature_engineering(train_labels, test_labels,\n",
    "    add_base_features=True, \n",
    "    add_bool_features=True,\n",
    "    add_weak_features=True,\n",
    "    add_dist_to_metro=True,\n",
    "    add_close_to_uni=True,\n",
    "    add_dist_to_hospital=True,\n",
    "    add_floor_features=True,\n",
    "    add_street_info=True,\n",
    "    add_some_more_features=False                                                            \n",
    "    )\n",
    "# Normalize\n",
    "train_labels, test_labels = normalize(train_labels, test_labels, float_numerical_features, scaler=\"minMax\")\n",
    "# Drop\n",
    "train_labels.drop(droptable, inplace=True, axis=1)\n",
    "test_labels.drop(droptable, inplace=True, axis=1)"
   ]
  },
  {
   "cell_type": "code",
   "execution_count": 5,
   "id": "33bc9bfb-29c9-47fd-a1f7-b99d1ef4a42a",
   "metadata": {
    "tags": []
   },
   "outputs": [],
   "source": [
    "price_per_square_meter = train_targets/train['area_total'] # real price / real_area"
   ]
  },
  {
   "cell_type": "code",
   "execution_count": 6,
   "id": "f0c646bb-719b-46ca-bc9f-e97124ee5c93",
   "metadata": {},
   "outputs": [],
   "source": [
    "xgb_advisor_1 = xgboost.XGBRegressor(max_depth=5, min_child_weight=12, gamma=0.15,\n",
    "                                 subsample=0.8, colsample_bytree=0.8, reg_alpha=1.1,\n",
    "                                 reg_lambda=0.3, learning_rate=0.01, n_estimators=10000)\n",
    "\n",
    "xgb_oof_train_1, xgb_oof_test_1, scores_1 = get_oof_xgboost(xgb_advisor_1, train_labels.drop(['area_total'],axis=1),\n",
    "                                                      np.log(price_per_square_meter), test_labels.drop(['area_total'],axis=1))"
   ]
  },
  {
   "cell_type": "code",
   "execution_count": 7,
   "id": "5dbffeab-49e2-4aac-9789-5560a4016e8d",
   "metadata": {},
   "outputs": [
    {
     "name": "stdout",
     "output_type": "stream",
     "text": [
      "[0.20252494570910018, 0.1719402910622423, 0.19194384452156768, 0.18187339676857273, 0.23624429647388234]\n"
     ]
    }
   ],
   "source": [
    "print(scores_1)"
   ]
  },
  {
   "cell_type": "code",
   "execution_count": 80,
   "id": "a98c52b5-3ca1-4cda-9823-0b875a412c5b",
   "metadata": {},
   "outputs": [],
   "source": [
    "np.savez(\"oofs/xgb_oof_train_area\", xgb_oof_train_1)\n",
    "np.savez(\"oofs/xgb_oof_test_area\", xgb_oof_test_1)"
   ]
  },
  {
   "cell_type": "markdown",
   "id": "15c2dc94-0090-44f4-a24d-6d87b9df6fcf",
   "metadata": {
    "tags": []
   },
   "source": [
    "### XGB advisor 2 😎: Even more features - as well as area total - predicting price"
   ]
  },
  {
   "cell_type": "code",
   "execution_count": 8,
   "id": "c27b699d-0446-431a-8292-2116ba9e03c4",
   "metadata": {
    "collapsed": true,
    "jupyter": {
     "outputs_hidden": true
    },
    "tags": []
   },
   "outputs": [
    {
     "name": "stderr",
     "output_type": "stream",
     "text": [
      "C:\\School\\høst 2021\\TDT4173-ML\\common_utils.py:1467: FutureWarning: Dropping of nuisance columns in DataFrame reductions (with 'numeric_only=None') is deprecated; in a future version this will raise TypeError.  Select only valid columns before calling the reduction.\n",
      "  train_labels = train_labels.fillna(train_labels.median()) # Boolean\n",
      "C:\\School\\høst 2021\\TDT4173-ML\\common_utils.py:1476: FutureWarning: Dropping of nuisance columns in DataFrame reductions (with 'numeric_only=None') is deprecated; in a future version this will raise TypeError.  Select only valid columns before calling the reduction.\n",
      "  test_labels = test_labels.fillna(test_labels.median()) # Boolean\n"
     ]
    },
    {
     "name": "stdout",
     "output_type": "stream",
     "text": [
      "minMax\n"
     ]
    }
   ],
   "source": [
    "features =           [\"building_id\", # For grouping\n",
    "                      \"area_total\", \"area_kitchen\", \"area_living\", \"floor\", \"ceiling\", \"stories\", \"rooms\",\n",
    "                      \"bathrooms_private\", \"bathrooms_shared\", \"balconies\",\"loggias\", \"phones\", \"latitude\", \"longitude\", \"constructed\", # Numerical\n",
    "                     \"layout\", \"condition\", \"district\", \"material\", \"parking\", \"heating\", \"seller\", #Categorical\n",
    "                      \"windows_court\", \"windows_street\", \"new\", \"elevator_without\", \"elevator_passenger\", \"elevator_service\", \"garbage_chute\", # Bool\n",
    "                     \"street\"] #, \"address\"] # Strings\n",
    "\n",
    "all_numerical_features = [\"area_total\", \"area_kitchen\", \"area_living\", \"floor\",\n",
    "                      \"ceiling\", \"stories\", \"rooms\", \"bathrooms_private\", \"bathrooms_shared\", \"balconies\",\"loggias\", \"phones\", \"latitude\", \"longitude\", \"constructed\"]\n",
    "\n",
    "float_numerical_features = [\"area_total\", \"area_kitchen\", \"area_living\", \"ceiling\", \"latitude\", \"longitude\", \"constructed\"]\n",
    "int_numerical_features = [\"floor\", \"stories\", \"rooms\", \"bathrooms_private\", \"bathrooms_shared\", \"balconies\", \"loggias\", \"phones\"] # Ordinal categories\n",
    "\n",
    "cat_features = [\"layout\", \"condition\", \"district\", \"material\", \"parking\", \"heating\", \"seller\"] # All are non-ordinal\n",
    "\n",
    "droptable = [\"street\"]\n",
    "\n",
    "# Load data\n",
    "train, test, metaData = load_all_data()\n",
    "# Clean data. \n",
    "train_labels, train_targets, test_labels = clean_data(train, test, features, float_numerical_features, int_numerical_features, cat_features,\n",
    "                                                      log_targets=True, log_area=True, fillNan=True)\n",
    "# Add new features\n",
    "train_labels, test_labels, added_features = feature_engineering(train_labels, test_labels,\n",
    "    add_base_features=True, \n",
    "    add_bool_features=True,\n",
    "    add_weak_features=True,\n",
    "    add_dist_to_metro=True,\n",
    "    add_close_to_uni=True,\n",
    "    add_dist_to_hospital=True,\n",
    "    add_floor_features=True,\n",
    "    add_street_info=True,\n",
    "    add_some_more_features=True                                                            \n",
    "    )\n",
    "# Normalize\n",
    "train_labels, test_labels = normalize(train_labels, test_labels, float_numerical_features, scaler=\"minMax\")\n",
    "# Drop\n",
    "train_labels.drop(droptable, inplace=True, axis=1)\n",
    "test_labels.drop(droptable, inplace=True, axis=1)"
   ]
  },
  {
   "cell_type": "code",
   "execution_count": 9,
   "id": "caa60c14-bc20-4e8e-8dc1-ea30e833c883",
   "metadata": {},
   "outputs": [],
   "source": [
    "xgb_advisor_2 = xgboost.XGBRegressor(max_depth=5, min_child_weight=12, gamma=0.15,\n",
    "                                 subsample=0.8, colsample_bytree=0.8, reg_alpha=1.1,\n",
    "                                 reg_lambda=0.3, learning_rate=0.01, n_estimators=10000)\n",
    "\n",
    "xgb_oof_train_2, xgb_oof_test_2, scores_2 = get_oof_xgboost(xgb_advisor_2, train_labels,\n",
    "                                                      train_targets, test_labels)"
   ]
  },
  {
   "cell_type": "code",
   "execution_count": 10,
   "id": "8833cab7-89a6-420b-811d-6bfbcc16c217",
   "metadata": {},
   "outputs": [
    {
     "name": "stdout",
     "output_type": "stream",
     "text": [
      "[0.21366608257200162, 0.17480404267524746, 0.19900553175201274, 0.18699747945287365, 0.2390275085244918]\n"
     ]
    }
   ],
   "source": [
    "print(scores_2)"
   ]
  },
  {
   "cell_type": "code",
   "execution_count": 79,
   "id": "02771e7b-e8fe-46e8-9668-52d194ade66b",
   "metadata": {},
   "outputs": [],
   "source": [
    "np.savez(\"oofs/xgb_oof_train_price\", xgb_oof_train_2)\n",
    "np.savez(\"oofs/xgb_oof_test_price\", xgb_oof_test_2)"
   ]
  },
  {
   "cell_type": "markdown",
   "id": "6346d3b7-652c-42d3-a058-ae8f6f05b0bb",
   "metadata": {
    "tags": []
   },
   "source": [
    "### DL advisor 1 - Predicting area_price"
   ]
  },
  {
   "cell_type": "code",
   "execution_count": 81,
   "id": "4e3074a3-3530-41b4-8718-9d8ff75cd2c5",
   "metadata": {},
   "outputs": [],
   "source": [
    "%run ../common_utils.py"
   ]
  },
  {
   "cell_type": "code",
   "execution_count": 82,
   "id": "ece0e8f7-eb77-4219-9c23-63e168039fa4",
   "metadata": {},
   "outputs": [],
   "source": [
    "# Mostly the ones correlated to price.\n",
    "float_numerical_features = [\"area_total\", \"area_kitchen\", \"area_living\", \"latitude\", \"longitude\", \"ceiling\"]\n",
    "\n",
    "int_numerical_features = [\"floor\", \"stories\", \"rooms\", \"bathrooms_shared\", \"bathrooms_private\", \"balconies\", \"constructed\"]\n",
    "\n",
    "cat_features = [\"district\", \"material\", \"parking\", \"seller\"]\n",
    "\n",
    "bool_features = []\n",
    "\n",
    "features = [\"building_id\", \"street\"] + float_numerical_features + int_numerical_features + cat_features + bool_features\n",
    "\n",
    "# Many of the features was just added to help clean/engineer other features.\n",
    "droptable = ['longitude', 'latitude', 'area_kitchen', 'area_living', 'floor', 'stories', \"street\",\n",
    "            \"rel_living\", \"bathrooms_shared\", \"bathrooms_private\", \"theta\"] "
   ]
  },
  {
   "cell_type": "code",
   "execution_count": 83,
   "id": "ce195bf7-fced-465e-b2d1-ee02dc286141",
   "metadata": {},
   "outputs": [],
   "source": [
    "# Load data\n",
    "train, test, metaData = load_all_data()"
   ]
  },
  {
   "cell_type": "code",
   "execution_count": 84,
   "id": "ac72fe8a-e1b0-426f-bd5b-8e852deb745b",
   "metadata": {
    "collapsed": true,
    "jupyter": {
     "outputs_hidden": true
    },
    "tags": []
   },
   "outputs": [
    {
     "name": "stderr",
     "output_type": "stream",
     "text": [
      "C:\\School\\høst 2021\\TDT4173-ML\\common_utils.py:1508: FutureWarning: Dropping of nuisance columns in DataFrame reductions (with 'numeric_only=None') is deprecated; in a future version this will raise TypeError.  Select only valid columns before calling the reduction.\n",
      "  train_labels = train_labels.fillna(train_labels.median()) # Boolean\n",
      "C:\\School\\høst 2021\\TDT4173-ML\\common_utils.py:1517: FutureWarning: Dropping of nuisance columns in DataFrame reductions (with 'numeric_only=None') is deprecated; in a future version this will raise TypeError.  Select only valid columns before calling the reduction.\n",
      "  test_labels = test_labels.fillna(test_labels.median()) # Boolean\n"
     ]
    }
   ],
   "source": [
    "# Clean data\n",
    "train_labels, train_targets, test_labels = clean_data(train, test, features, float_numerical_features, int_numerical_features, cat_features,\n",
    "                                                      log_targets=False, log_area=False, fillNan=True)"
   ]
  },
  {
   "cell_type": "code",
   "execution_count": 85,
   "id": "1441cf27-0511-4793-a933-5d7b50455db3",
   "metadata": {},
   "outputs": [],
   "source": [
    "# Feature engineering\n",
    "train_labels, test_labels, added_features = feature_engineering(train_labels, test_labels,\n",
    "    add_base_features=True, \n",
    "    add_bool_features=False,\n",
    "    add_weak_features=False,\n",
    "    add_dist_to_metro=True,\n",
    "    add_close_to_uni=False,\n",
    "    add_dist_to_hospital=False,\n",
    "    add_floor_features=False,\n",
    "    add_street_info=True,\n",
    "    )"
   ]
  },
  {
   "cell_type": "code",
   "execution_count": 86,
   "id": "ea8c64d2-b760-4fc4-b3f3-3c371301d9f9",
   "metadata": {},
   "outputs": [
    {
     "name": "stdout",
     "output_type": "stream",
     "text": [
      "minMax\n"
     ]
    }
   ],
   "source": [
    "# Normalize\n",
    "train_labels, test_labels = normalize(train_labels, test_labels, float_numerical_features, scaler=\"minMax\")"
   ]
  },
  {
   "cell_type": "code",
   "execution_count": 87,
   "id": "d2a51c0f-0afe-4e72-b608-d59da8e5f288",
   "metadata": {},
   "outputs": [],
   "source": [
    "# One-hot encoding\n",
    "train_labels, test_labels = one_hot_encoder(train_labels, test_labels,\n",
    "                                            cat_features, drop_old=True)"
   ]
  },
  {
   "cell_type": "code",
   "execution_count": 88,
   "id": "564746d2-7a77-4f29-a86d-f5df36283883",
   "metadata": {
    "tags": []
   },
   "outputs": [],
   "source": [
    "# Droptable\n",
    "train_labels.drop(droptable, inplace=True, axis=1)\n",
    "test_labels.drop(droptable, inplace=True, axis=1)"
   ]
  },
  {
   "cell_type": "code",
   "execution_count": 89,
   "id": "d9fdfc84-cd61-497b-bf4e-b87b2bc9dfab",
   "metadata": {},
   "outputs": [],
   "source": [
    "price_per_square_meter = train_targets/train['area_total']"
   ]
  },
  {
   "cell_type": "code",
   "execution_count": 96,
   "id": "ec3279c2-3a0e-4ba1-b06b-0da89926689d",
   "metadata": {},
   "outputs": [
    {
     "name": "stdout",
     "output_type": "stream",
     "text": [
      "\n",
      "....................................................................................................\n",
      "....................................................................................................\n",
      "....................................................................................................\n",
      "....................................................................................................\n",
      "....................................................................................................\n",
      "..........Epoch 00510: early stopping\n",
      "\n",
      "....................................................................................................\n",
      "....................................................................................................\n",
      "....................................................................................................\n",
      "....................................................................................................\n",
      "....................................................................................................\n",
      "....................................................................................................\n",
      "....................................................................................................\n",
      "....................................................................................................\n",
      "....................................................................................................\n",
      "................................................Epoch 00948: early stopping\n",
      "\n",
      "....................................................................................................\n",
      "....................................................................................................\n",
      "....................................................................................................\n",
      "....................................................................................................\n",
      "....................................................................................................\n",
      "....................................................................................................\n",
      ".........................................................................................Epoch 00689: early stopping\n",
      "\n",
      "....................................................................................................\n",
      "....................................................................................................\n",
      "....................................................................................................\n",
      "....................................................................................................\n",
      "....................................................................................................\n",
      "....................................................................................................\n",
      "....................................................................................................\n",
      ".Epoch 00701: early stopping\n",
      "\n",
      "....................................................................................................\n",
      "....................................................................................................\n",
      "....................................................................................................\n",
      "....................................................................................................\n",
      "....................................................................................................\n",
      "....................................................................................................\n",
      ".....................................................................Epoch 00669: early stopping\n"
     ]
    }
   ],
   "source": [
    "model_params = ([18, 18, 18], tensorflow.nn.leaky_relu,\n",
    "                     [False, False, False], 0.2, 'adam',\n",
    "                      rmsle_custom, ['mse', 'msle', tensorflow.keras.metrics.Accuracy()], True)\n",
    "\n",
    "ann_oof_train_1, ann_oof_test_1, hists_1 = get_oof_ann(model_params,\n",
    "                                                 train_labels.drop(['area_total'],axis=1),\n",
    "                                                 price_per_square_meter,\n",
    "                                                 test_labels.drop(['area_total'],axis=1), strict_restart=False)"
   ]
  },
  {
   "cell_type": "code",
   "execution_count": 97,
   "id": "9a7ef89e-ea28-4353-b067-82610e77644d",
   "metadata": {},
   "outputs": [
    {
     "name": "stdout",
     "output_type": "stream",
     "text": [
      "0.22691620886325836, 0.216660276055336, 0.21282845735549927, 0.21846720576286316, 0.24183255434036255, "
     ]
    }
   ],
   "source": [
    "for history in hists_1:\n",
    "    print(history.history[\"val_loss\"][-1], end=\", \")"
   ]
  },
  {
   "cell_type": "code",
   "execution_count": 98,
   "id": "a7d5fd15-33a0-4475-a72b-5b29b111fc19",
   "metadata": {},
   "outputs": [],
   "source": [
    "np.savez(\"oofs/ann_oof_train_area\", ann_oof_train_1)\n",
    "np.savez(\"oofs/ann_oof_test_area\", ann_oof_test_1)"
   ]
  },
  {
   "cell_type": "markdown",
   "id": "a8e3fed1-2058-4e9b-8fc8-7d20250109a6",
   "metadata": {},
   "source": [
    "### DL advisor 2 - Predicting price"
   ]
  },
  {
   "cell_type": "code",
   "execution_count": 27,
   "id": "8e0ae994-5c91-4d82-84af-e23f6895dbbe",
   "metadata": {},
   "outputs": [],
   "source": [
    "%run ../common_utils.py"
   ]
  },
  {
   "cell_type": "code",
   "execution_count": 113,
   "id": "fe8eaf89-8627-429e-8269-0fe176d71c82",
   "metadata": {},
   "outputs": [],
   "source": [
    "# Mostly the ones correlated to price.\n",
    "float_numerical_features = [\"area_total\", \"area_kitchen\", \"area_living\", \"latitude\", \"longitude\", \"ceiling\"]\n",
    "\n",
    "int_numerical_features = [\"floor\", \"stories\", \"rooms\", \"bathrooms_shared\", \"bathrooms_private\", \"balconies\", \"constructed\"]\n",
    "\n",
    "cat_features = [\"district\", \"material\", \"parking\", \"seller\"]\n",
    "\n",
    "bool_features = []\n",
    "\n",
    "features = [\"building_id\", \"street\"] + float_numerical_features + int_numerical_features + cat_features + bool_features\n",
    "\n",
    "# Many of the features was just added to help clean/engineer other features.\n",
    "droptable = ['longitude', 'latitude', 'area_kitchen', 'area_living', 'floor', 'stories', \"street\",\n",
    "            \"rel_living\", \"bathrooms_shared\", \"bathrooms_private\", \"theta\"]"
   ]
  },
  {
   "cell_type": "code",
   "execution_count": 114,
   "id": "abd1ca5e-1a41-4bdd-af73-b2d6e862fd4c",
   "metadata": {},
   "outputs": [],
   "source": [
    "# Load data\n",
    "train, test, metaData = load_all_data()"
   ]
  },
  {
   "cell_type": "code",
   "execution_count": 115,
   "id": "9479c2e3-06de-429e-9569-46c2ea7efae1",
   "metadata": {
    "collapsed": true,
    "jupyter": {
     "outputs_hidden": true
    },
    "tags": []
   },
   "outputs": [
    {
     "name": "stderr",
     "output_type": "stream",
     "text": [
      "C:\\School\\høst 2021\\TDT4173-ML\\common_utils.py:1513: FutureWarning: Dropping of nuisance columns in DataFrame reductions (with 'numeric_only=None') is deprecated; in a future version this will raise TypeError.  Select only valid columns before calling the reduction.\n",
      "  train_labels = train_labels.fillna(train_labels.median()) # Boolean\n",
      "C:\\School\\høst 2021\\TDT4173-ML\\common_utils.py:1522: FutureWarning: Dropping of nuisance columns in DataFrame reductions (with 'numeric_only=None') is deprecated; in a future version this will raise TypeError.  Select only valid columns before calling the reduction.\n",
      "  test_labels = test_labels.fillna(test_labels.median()) # Boolean\n"
     ]
    }
   ],
   "source": [
    "# Clean data\n",
    "train_labels, train_targets, test_labels = clean_data(train, test, features, float_numerical_features, int_numerical_features, cat_features,\n",
    "                                                      log_targets=False, log_area=False, fillNan=True)"
   ]
  },
  {
   "cell_type": "code",
   "execution_count": 116,
   "id": "50359ce7-dd31-4b2f-a2b5-0b52ed549450",
   "metadata": {},
   "outputs": [],
   "source": [
    "# Feature engineering\n",
    "train_labels, test_labels, added_features = feature_engineering(train_labels, test_labels,\n",
    "    add_base_features=True, \n",
    "    add_bool_features=False,\n",
    "    add_weak_features=False,\n",
    "    add_dist_to_metro=True,\n",
    "    add_close_to_uni=False,\n",
    "    add_dist_to_hospital=False,\n",
    "    add_floor_features=False,\n",
    "    add_street_info=True,\n",
    "    )"
   ]
  },
  {
   "cell_type": "code",
   "execution_count": 117,
   "id": "3c280ccd-a921-4a73-882c-d5eac766bf87",
   "metadata": {},
   "outputs": [
    {
     "name": "stdout",
     "output_type": "stream",
     "text": [
      "minMax\n"
     ]
    }
   ],
   "source": [
    "# Normalize\n",
    "train_labels, test_labels = normalize(train_labels, test_labels, float_numerical_features, scaler=\"minMax\")"
   ]
  },
  {
   "cell_type": "code",
   "execution_count": 118,
   "id": "242ed24f-4aa1-4835-bfdd-76999f648088",
   "metadata": {},
   "outputs": [],
   "source": [
    "# Droptable\n",
    "train_labels.drop(droptable, inplace=True, axis=1)\n",
    "test_labels.drop(droptable, inplace=True, axis=1)"
   ]
  },
  {
   "cell_type": "code",
   "execution_count": 129,
   "id": "166a4f24-846d-4544-835b-49a78c8dbfba",
   "metadata": {
    "tags": []
   },
   "outputs": [
    {
     "name": "stdout",
     "output_type": "stream",
     "text": [
      "\n",
      "....................................................................................................\n",
      "....................................................................................................\n",
      "....................................................................................................\n",
      "....................................................................................................\n",
      "....................................................................................................\n",
      ".......................................Epoch 00539: early stopping\n",
      "\n",
      "....................................................................................................\n",
      "....................................................................................................\n",
      "....................................................................................................\n",
      "....................................................................................................\n",
      "....................................................................................................\n",
      "....................................................................................................\n",
      ".......................................................Epoch 00655: early stopping\n",
      "\n",
      "....................................................................................................\n",
      "....................................................................................................\n",
      "....................................................................................................\n",
      "....................................................................................................\n",
      "....................................................................................................\n",
      "....................................................................................................\n",
      "...............................................................................................Epoch 00695: early stopping\n",
      "\n",
      ".........................................Epoch 00041: early stopping\n",
      "Strict restart!\n",
      "\n",
      "....................................................................................................\n",
      "....................................................................................................\n",
      "....................................................................................................\n",
      "....................................................................................................\n",
      "....................................................................................................\n",
      "....................................................................................................\n",
      "....................................................................................................\n",
      "....................................................................................................\n",
      "....................................................................................................\n",
      "....................................................................................................\n",
      "....................................................................................................\n",
      "....................................................................................................\n",
      "....................................................................................................\n",
      "....................................................................................................\n",
      "....................................................................................................\n",
      "....................................................................................................\n",
      "....................................................................................................\n",
      "....................................................................................................\n",
      "....................................................................................................\n",
      "...................................................................................................."
     ]
    }
   ],
   "source": [
    "model_params = ([18, 18, 18], tensorflow.nn.leaky_relu,\n",
    "                     [False, False, False], 0.2, 'adam',\n",
    "                      rmsle_custom, ['mse', 'msle', tensorflow.keras.metrics.Accuracy()], True)\n",
    "\n",
    "ann_oof_train_2, ann_oof_test_2, hists_2 = get_oof_ann(model_params,\n",
    "                                                 train_labels,\n",
    "                                                 train_targets,\n",
    "                                                 test_labels, strict_restart=True)"
   ]
  },
  {
   "cell_type": "code",
   "execution_count": 130,
   "id": "e5908f67-e464-4191-a545-e242a18d8de5",
   "metadata": {},
   "outputs": [
    {
     "name": "stdout",
     "output_type": "stream",
     "text": [
      "0.25357669591903687, 0.24738579988479614, 0.24683038890361786, 0.2576080560684204, 0.3004554212093353, "
     ]
    }
   ],
   "source": [
    "for history in hists_2:\n",
    "    print(history.history[\"val_loss\"][-1], end=\", \")"
   ]
  },
  {
   "cell_type": "code",
   "execution_count": 132,
   "id": "a3026922-086d-4f06-89ee-10f69d45f7fe",
   "metadata": {},
   "outputs": [],
   "source": [
    "np.savez(\"oofs/ann_oof_train_price\", ann_oof_train_2)\n",
    "np.savez(\"oofs/ann_oof_test_price\", ann_oof_test_2)"
   ]
  },
  {
   "cell_type": "markdown",
   "id": "8e1feb2a-0c15-4a7a-a464-6b6a8c7f1a9a",
   "metadata": {},
   "source": [
    "### Best LGB advisor - predicts price/area"
   ]
  },
  {
   "cell_type": "code",
   "execution_count": 100,
   "id": "28d11369-ab1a-482b-a4a9-c85740b8827a",
   "metadata": {
    "collapsed": true,
    "jupyter": {
     "outputs_hidden": true
    },
    "tags": []
   },
   "outputs": [
    {
     "name": "stderr",
     "output_type": "stream",
     "text": [
      "C:\\School\\høst 2021\\TDT4173-ML\\common_utils.py:1513: FutureWarning: Dropping of nuisance columns in DataFrame reductions (with 'numeric_only=None') is deprecated; in a future version this will raise TypeError.  Select only valid columns before calling the reduction.\n",
      "  train_labels = train_labels.fillna(train_labels.median()) # Boolean\n",
      "C:\\School\\høst 2021\\TDT4173-ML\\common_utils.py:1522: FutureWarning: Dropping of nuisance columns in DataFrame reductions (with 'numeric_only=None') is deprecated; in a future version this will raise TypeError.  Select only valid columns before calling the reduction.\n",
      "  test_labels = test_labels.fillna(test_labels.median()) # Boolean\n"
     ]
    },
    {
     "name": "stdout",
     "output_type": "stream",
     "text": [
      "minMax\n"
     ]
    }
   ],
   "source": [
    "features =           [\"building_id\", # For grouping\n",
    "                      \"area_total\", \"area_kitchen\", \"area_living\", \"floor\", \"ceiling\", \"stories\", \"rooms\",\n",
    "                      \"bathrooms_private\", \"bathrooms_shared\", \"balconies\",\"loggias\", \"phones\", \"latitude\", \"longitude\", \"constructed\", # Numerical\n",
    "                     \"layout\", \"condition\", \"district\", \"material\", \"parking\", \"heating\", \"seller\", #Categorical\n",
    "                      \"windows_court\", \"windows_street\", \"new\", \"elevator_without\", \"elevator_passenger\", \"elevator_service\", \"garbage_chute\", # Bool\n",
    "                     \"street\", \"address\"] # Strings\n",
    "\n",
    "all_numerical_features = [\"area_total\", \"area_kitchen\", \"area_living\", \"floor\",\n",
    "                      \"ceiling\", \"stories\", \"rooms\", \"bathrooms_private\", \"bathrooms_shared\", \"balconies\",\"loggias\", \"phones\", \"latitude\", \"longitude\", \"constructed\"]\n",
    "\n",
    "float_numerical_features = [\"area_total\", \"area_kitchen\", \"area_living\", \"ceiling\", \"latitude\", \"longitude\", \"constructed\"]\n",
    "int_numerical_features = [\"floor\", \"stories\", \"rooms\", \"bathrooms_private\", \"bathrooms_shared\", \"balconies\", \"loggias\", \"phones\"] # Ordinal categories\n",
    "\n",
    "cat_features = [\"layout\", \"condition\", \"district\", \"material\", \"parking\", \"heating\", \"seller\"] # All are non-ordinal\n",
    "\n",
    "droptable = []\n",
    "\n",
    "# Load data\n",
    "train, test, metaData = load_all_data()\n",
    "# Clean data\n",
    "train_labels, train_targets, test_labels = clean_data(train, test, features, float_numerical_features, int_numerical_features, cat_features,\n",
    "                                                      log_targets=False, log_area=True, fillNan=True)\n",
    "# Add new features\n",
    "train_labels, test_labels, added_features = feature_engineering(\n",
    "    train_labels, \n",
    "    test_labels,\n",
    "    add_base_features=True, \n",
    "    add_bool_features=True,\n",
    "    add_weak_features=True,\n",
    "    add_dist_to_metro=True,\n",
    "    add_close_to_uni=True,\n",
    "    add_dist_to_hospital=True,\n",
    "    add_floor_features=True,\n",
    "    add_street_info=True,\n",
    "    add_some_more_features=True,\n",
    "    add_district_information=True,\n",
    "    )\n",
    "\n",
    "# Normalize\n",
    "train_labels, test_labels = normalize(train_labels, test_labels, float_numerical_features, scaler=\"minMax\")\n",
    "# One-hot encoding\n",
    "train_labels, test_labels = one_hot_encoder(train_labels, test_labels, [\"condition\", \"district\", \"material\", \"parking\", \"heating\", \"seller\"], drop_old=True)\n",
    "# Drop some features\n",
    "train_labels.drop(droptable, inplace=True, axis=1)\n",
    "test_labels.drop(droptable, inplace=True, axis=1)\n",
    "\n",
    "droptable = ['street','address']\n",
    "train_labels.drop(droptable, inplace=True, axis=1)\n",
    "test_labels.drop(droptable, inplace=True, axis=1)\n",
    "\n",
    "# Price per area\n",
    "price_per_square_meter = train_targets/train['area_total'] # real price / real_area"
   ]
  },
  {
   "cell_type": "code",
   "execution_count": 106,
   "id": "2c539128-e4c3-4986-a158-d2f6e7714307",
   "metadata": {},
   "outputs": [],
   "source": [
    "params= {\n",
    " 'num_iterations': 10000,\n",
    " 'n_estimators': 152*5,\n",
    " 'learning_rate': 0.05/5,\n",
    " 'num_leaves': 40,\n",
    " 'max_depth': 10,\n",
    " 'min_data_in_leaf': 20,\n",
    " 'bagging_fraction': 0.9,\n",
    " 'bagging_freq': 5,\n",
    " 'feature_fraction': 0.8,\n",
    "}\n",
    "\n",
    "lgbm_model = lightgbm.LGBMRegressor(\n",
    "    **params, \n",
    "    random_state=42,\n",
    "    early_stopping_round=100,\n",
    "    silent=True,\n",
    "    metric='regression',\n",
    "    num_threads=4)"
   ]
  },
  {
   "cell_type": "code",
   "execution_count": 109,
   "id": "81947ffc-7963-47d4-a8e8-952940b06f9e",
   "metadata": {
    "collapsed": true,
    "jupyter": {
     "outputs_hidden": true
    },
    "tags": []
   },
   "outputs": [
    {
     "name": "stderr",
     "output_type": "stream",
     "text": [
      "c:\\python\\python38\\lib\\site-packages\\lightgbm\\sklearn.py:598: UserWarning: 'silent' argument is deprecated and will be removed in a future release of LightGBM. Pass 'verbose' parameter via keyword arguments instead.\n",
      "  _log_warning(\"'silent' argument is deprecated and will be removed in a future release of LightGBM. \"\n",
      "c:\\python\\python38\\lib\\site-packages\\lightgbm\\sklearn.py:736: UserWarning: 'verbose' argument is deprecated and will be removed in a future release of LightGBM. Pass 'log_evaluation()' callback via 'callbacks' argument instead.\n",
      "  _log_warning(\"'verbose' argument is deprecated and will be removed in a future release of LightGBM. \"\n",
      "c:\\python\\python38\\lib\\site-packages\\lightgbm\\engine.py:177: UserWarning: Found `num_iterations` in params. Will use it instead of argument\n",
      "  _log_warning(f\"Found `{alias}` in params. Will use it instead of argument\")\n"
     ]
    },
    {
     "name": "stdout",
     "output_type": "stream",
     "text": [
      "[LightGBM] [Warning] feature_fraction is set=0.8, colsample_bytree=1.0 will be ignored. Current value: feature_fraction=0.8\n",
      "[LightGBM] [Warning] min_data_in_leaf is set=20, min_child_samples=20 will be ignored. Current value: min_data_in_leaf=20\n",
      "[LightGBM] [Warning] bagging_fraction is set=0.9, subsample=1.0 will be ignored. Current value: bagging_fraction=0.9\n",
      "[LightGBM] [Warning] num_threads is set=4, n_jobs=-1 will be ignored. Current value: num_threads=4\n",
      "[LightGBM] [Warning] bagging_freq is set=5, subsample_freq=0 will be ignored. Current value: bagging_freq=5\n",
      "Training until validation scores don't improve for 15 rounds\n",
      "Early stopping, best iteration is:\n",
      "[998]\tvalid_0's l2: 0.0395304\tvalid_0's custom_asymmetric_eval: 0.0146689\n",
      "[LightGBM] [Warning] feature_fraction is set=0.8, colsample_bytree=1.0 will be ignored. Current value: feature_fraction=0.8\n",
      "[LightGBM] [Warning] min_data_in_leaf is set=20, min_child_samples=20 will be ignored. Current value: min_data_in_leaf=20\n",
      "[LightGBM] [Warning] bagging_fraction is set=0.9, subsample=1.0 will be ignored. Current value: bagging_fraction=0.9\n",
      "[LightGBM] [Warning] num_threads is set=4, n_jobs=-1 will be ignored. Current value: num_threads=4\n",
      "[LightGBM] [Warning] bagging_freq is set=5, subsample_freq=0 will be ignored. Current value: bagging_freq=5\n",
      "Training until validation scores don't improve for 15 rounds\n",
      "Early stopping, best iteration is:\n",
      "[785]\tvalid_0's l2: 0.0300391\tvalid_0's custom_asymmetric_eval: 0.0128922\n",
      "[LightGBM] [Warning] feature_fraction is set=0.8, colsample_bytree=1.0 will be ignored. Current value: feature_fraction=0.8\n",
      "[LightGBM] [Warning] min_data_in_leaf is set=20, min_child_samples=20 will be ignored. Current value: min_data_in_leaf=20\n",
      "[LightGBM] [Warning] bagging_fraction is set=0.9, subsample=1.0 will be ignored. Current value: bagging_fraction=0.9\n",
      "[LightGBM] [Warning] num_threads is set=4, n_jobs=-1 will be ignored. Current value: num_threads=4\n",
      "[LightGBM] [Warning] bagging_freq is set=5, subsample_freq=0 will be ignored. Current value: bagging_freq=5\n",
      "Training until validation scores don't improve for 15 rounds\n",
      "Early stopping, best iteration is:\n",
      "[1050]\tvalid_0's l2: 0.0369381\tvalid_0's custom_asymmetric_eval: 0.0142402\n",
      "[LightGBM] [Warning] feature_fraction is set=0.8, colsample_bytree=1.0 will be ignored. Current value: feature_fraction=0.8\n",
      "[LightGBM] [Warning] min_data_in_leaf is set=20, min_child_samples=20 will be ignored. Current value: min_data_in_leaf=20\n",
      "[LightGBM] [Warning] bagging_fraction is set=0.9, subsample=1.0 will be ignored. Current value: bagging_fraction=0.9\n",
      "[LightGBM] [Warning] num_threads is set=4, n_jobs=-1 will be ignored. Current value: num_threads=4\n",
      "[LightGBM] [Warning] bagging_freq is set=5, subsample_freq=0 will be ignored. Current value: bagging_freq=5\n",
      "Training until validation scores don't improve for 15 rounds\n",
      "Early stopping, best iteration is:\n",
      "[970]\tvalid_0's l2: 0.0351368\tvalid_0's custom_asymmetric_eval: 0.0137883\n",
      "[LightGBM] [Warning] feature_fraction is set=0.8, colsample_bytree=1.0 will be ignored. Current value: feature_fraction=0.8\n",
      "[LightGBM] [Warning] min_data_in_leaf is set=20, min_child_samples=20 will be ignored. Current value: min_data_in_leaf=20\n",
      "[LightGBM] [Warning] bagging_fraction is set=0.9, subsample=1.0 will be ignored. Current value: bagging_fraction=0.9\n",
      "[LightGBM] [Warning] num_threads is set=4, n_jobs=-1 will be ignored. Current value: num_threads=4\n",
      "[LightGBM] [Warning] bagging_freq is set=5, subsample_freq=0 will be ignored. Current value: bagging_freq=5\n",
      "Training until validation scores don't improve for 15 rounds\n",
      "Early stopping, best iteration is:\n",
      "[560]\tvalid_0's l2: 0.0482705\tvalid_0's custom_asymmetric_eval: 0.0161712\n"
     ]
    }
   ],
   "source": [
    "lgbm_oof_train, lgbm_oof_test, scores = get_oof_lgbm(lgbm_model,\n",
    "                                                     train_labels.drop(['area_total'],axis=1),\n",
    "                                                     np.log(price_per_square_meter),\n",
    "                                                     test_labels.drop(['area_total'],axis=1))"
   ]
  },
  {
   "cell_type": "code",
   "execution_count": 110,
   "id": "4e63ac4d-b738-43ea-9fc3-cf7f428259f3",
   "metadata": {},
   "outputs": [
    {
     "name": "stdout",
     "output_type": "stream",
     "text": [
      "[0.19882169591944485, 0.17331712016749312, 0.1921920843857648, 0.18744743537675287, 0.21970472822532938]\n"
     ]
    }
   ],
   "source": [
    "print(scores)"
   ]
  },
  {
   "cell_type": "code",
   "execution_count": 111,
   "id": "0a892023-f7d5-48d5-8094-ebb17d334f9f",
   "metadata": {},
   "outputs": [],
   "source": [
    "np.savez(\"oofs/lgb_oof_train_area\", lgbm_oof_train)\n",
    "np.savez(\"oofs/lgb_oof_test_area\", lgbm_oof_test)"
   ]
  },
  {
   "cell_type": "markdown",
   "id": "9daa6900-1260-430d-a02d-55a95d09497f",
   "metadata": {
    "tags": []
   },
   "source": [
    "### XGBoost King"
   ]
  },
  {
   "cell_type": "code",
   "execution_count": 15,
   "id": "f8d9e5c3-08e0-4239-a641-b267194e2a61",
   "metadata": {},
   "outputs": [],
   "source": [
    "import warnings\n",
    "warnings.filterwarnings(\"ignore\")"
   ]
  },
  {
   "cell_type": "code",
   "execution_count": 37,
   "id": "7812d6b2-035a-4d53-9f73-2aa384e34a3a",
   "metadata": {},
   "outputs": [
    {
     "name": "stdout",
     "output_type": "stream",
     "text": [
      "minMax\n"
     ]
    }
   ],
   "source": [
    "# Train only on advisors.\n",
    "#train_labels = train[[\"building_id\", \"area_total\"]]\n",
    "#test_labels = test[[\"building_id\", \"area_total\"]]\n",
    "#train_targets = train['price']\n",
    "# make sure all data is what we expect\n",
    "\n",
    "features =           [\"building_id\", # For grouping\n",
    "                      \"area_total\", \"area_kitchen\", \"area_living\", \"floor\", \"ceiling\", \"stories\", \"rooms\",\n",
    "                      \"bathrooms_private\", \"bathrooms_shared\", \"balconies\",\"loggias\", \"phones\", \"latitude\", \"longitude\", \"constructed\", # Numerical\n",
    "                     \"layout\", \"condition\", \"district\", \"material\", \"parking\", \"heating\", \"seller\", #Categorical\n",
    "                      \"windows_court\", \"windows_street\", \"new\", \"elevator_without\", \"elevator_passenger\", \"elevator_service\", \"garbage_chute\", # Bool\n",
    "                     \"street\"] #, \"address\"] # Strings\n",
    "\n",
    "all_numerical_features = [\"area_total\", \"area_kitchen\", \"area_living\", \"floor\",\n",
    "                      \"ceiling\", \"stories\", \"rooms\", \"bathrooms_private\", \"bathrooms_shared\", \"balconies\",\"loggias\", \"phones\", \"latitude\", \"longitude\", \"constructed\"]\n",
    "\n",
    "float_numerical_features = [\"area_total\", \"area_kitchen\", \"area_living\", \"ceiling\", \"latitude\", \"longitude\", \"constructed\"]\n",
    "int_numerical_features = [\"floor\", \"stories\", \"rooms\", \"bathrooms_private\", \"bathrooms_shared\", \"balconies\", \"loggias\", \"phones\"] # Ordinal categories\n",
    "\n",
    "cat_features = [\"layout\", \"condition\", \"district\", \"material\", \"parking\", \"heating\", \"seller\"] # All are non-ordinal\n",
    "\n",
    "droptable = [\"street\"]\n",
    "\n",
    "# Load data\n",
    "train, test, metaData = load_all_data()\n",
    "# Clean data. \n",
    "train_labels, train_targets, test_labels = clean_data(train, test, features, float_numerical_features, int_numerical_features, cat_features,\n",
    "                                                      log_targets=False, log_area=True, fillNan=False)\n",
    "# Add new features\n",
    "train_labels, test_labels, added_features = feature_engineering(train_labels, test_labels,\n",
    "    add_base_features=True, \n",
    "    add_bool_features=True,\n",
    "    add_weak_features=True,\n",
    "    add_dist_to_metro=True,\n",
    "    add_close_to_uni=True,\n",
    "    add_dist_to_hospital=True,\n",
    "    add_floor_features=True,\n",
    "    add_street_info=True,\n",
    "    add_some_more_features=False,                                                            \n",
    "    add_district_information=False,                                                            \n",
    "    )\n",
    "\n",
    "# Normalize\n",
    "train_labels, test_labels = normalize(train_labels, test_labels, float_numerical_features, scaler=\"minMax\")\n",
    "# One-hot encoding\n",
    "#train_labels, test_labels = one_hot_encoder(train_labels, test_labels, [\"condition\", \"district\", \"material\", \"parking\", \"heating\", \"seller\"], drop_old=True)\n",
    "# Drop some features\n",
    "train_labels.drop(droptable, inplace=True, axis=1)\n",
    "test_labels.drop(droptable, inplace=True, axis=1)\n"
   ]
  },
  {
   "cell_type": "code",
   "execution_count": 38,
   "id": "fc14215a-10ad-4199-8e05-6b46a2a487cb",
   "metadata": {},
   "outputs": [],
   "source": [
    "# OLD\n",
    "old_lgbm_oof_train = (np.load(\"oofs/old_lgbm_oof_train.npz\")['arr_0']).reshape((len(old_lgbm_oof_train), )) \n",
    "old_lgbm_oof_test = (np.load(\"oofs/old_lgbm_oof_test.npz\")['arr_0']).reshape((len(old_lgbm_oof_test), )) \n",
    "\n",
    "old_rf_oof_train = (np.load(\"oofs/old_rf_oof_train.npz\")['arr_0']).reshape((len(old_rf_oof_train), )) \n",
    "old_rf_oof_test = (np.load(\"oofs/old_rf_oof_test.npz\")['arr_0']).reshape((len(old_rf_oof_test), )) \n",
    "\n",
    "old_xgb_oof_train = (np.load(\"oofs/old_xgb_oof_train.npz\")['arr_0']).reshape((len(old_xgb_oof_train), )) \n",
    "old_xgb_oof_test = (np.load(\"oofs/old_xgb_oof_test.npz\")['arr_0']).reshape((len(old_xgb_oof_test), )) \n",
    "\n",
    "old_ann_oof_train = (np.load(\"oofs/old_ann_oof_train.npz\")['arr_0']).reshape((len(old_ann_oof_train), )) \n",
    "old_ann_oof_test = (np.load(\"oofs/old_ann_oof_test.npz\")['arr_0']).reshape((len(old_ann_oof_test), )) \n",
    "# NEW\n",
    "lgbm_oof_train_area = (np.load(\"oofs/lgb_oof_train_area.npz\")['arr_0']).reshape((len(lgbm_oof_train_area), )) \n",
    "lgbm_oof_test_area = (np.load(\"oofs/lgb_oof_test_area.npz\")['arr_0']).reshape((len(lgbm_oof_test_area), ))\n",
    "\n",
    "ann_oof_train_area = (np.load(\"oofs/ann_oof_train_area.npz\")['arr_0']).reshape((len(ann_oof_train_area), )) \n",
    "ann_oof_test_area = (np.load(\"oofs/ann_oof_test_area.npz\")['arr_0']).reshape((len(ann_oof_test_area), ))\n",
    "\n",
    "ann_oof_train_price = (np.load(\"oofs/ann_oof_train_price.npz\")['arr_0']).reshape((len(ann_oof_train_price), )) \n",
    "ann_oof_test_price = (np.load(\"oofs/ann_oof_test_price.npz\")['arr_0']).reshape((len(ann_oof_test_price), ))\n",
    "\n",
    "xgb_oof_train_area = (np.load(\"oofs/xgb_oof_train_area.npz\")['arr_0']).reshape((len(xgb_oof_train_area), )) \n",
    "xgb_oof_test_area = (np.load(\"oofs/xgb_oof_test_area.npz\")['arr_0']).reshape((len(xgb_oof_test_area), ))\n",
    "\n",
    "xgb_oof_train_price = (np.load(\"oofs/xgb_oof_train_price.npz\")['arr_0']).reshape((len(xgb_oof_train_price), )) \n",
    "xgb_oof_test_price = (np.load(\"oofs/xgb_oof_test_price.npz\")['arr_0']).reshape((len(xgb_oof_test_price), ))"
   ]
  },
  {
   "cell_type": "code",
   "execution_count": 43,
   "id": "3e783fbc-131e-4ccb-8310-c63abc69f2a9",
   "metadata": {},
   "outputs": [],
   "source": [
    "# The old advisors\n",
    "train_labels[\"old_xgb_preds\"] = np.log(np.exp(old_xgb_oof_train) / train['area_total'])\n",
    "test_labels[\"old_xgb_preds\"] = np.log(np.exp(old_xgb_oof_test) / test['area_total'])\n",
    "\n",
    "train_labels[\"old_lgbm_preds\"] = np.log(np.exp(old_lgbm_oof_train) / train['area_total'])\n",
    "test_labels[\"old_lgbm_preds\"] = np.log(np.exp(old_lgbm_oof_test) / test['area_total'])\n",
    "\n",
    "train_labels[\"old_ann_preds\"] = np.log(old_ann_oof_train / train['area_total'])\n",
    "test_labels[\"old_ann_preds\"] = np.log(old_ann_oof_test / test['area_total'])\n",
    "\n",
    "train_labels[\"old_rf_preds\"] = np.log(old_rf_oof_train / train['area_total'])\n",
    "test_labels[\"old_rf_preds\"] = np.log(old_rf_oof_test / test['area_total'])\n",
    "\n",
    "# New advisor\n",
    "train_labels[\"lgbm_oof_area\"] = lgbm_oof_train_area\n",
    "test_labels[\"lgbm_oof_area\"] = lgbm_oof_test_area\n",
    "\n",
    "train_labels[\"ann_oof_area\"] = np.log(ann_oof_train_area)\n",
    "test_labels[\"ann_oof_area\"] = np.log(ann_oof_test_area)\n",
    "\n",
    "train_labels[\"ann_oof_price\"] = np.log(ann_oof_train_price / train['area_total'])\n",
    "test_labels[\"ann_oof_price\"] = np.log(ann_oof_test_price / test['area_total'])\n",
    "\n",
    "train_labels[\"xgb_oof_area\"] = xgb_oof_train_area\n",
    "test_labels[\"xgb_oof_area\"] = xgb_oof_test_area\n",
    "\n",
    "train_labels[\"xgb_oof_price\"] = np.log(np.exp(xgb_oof_train_price) / train['area_total'])\n",
    "test_labels[\"xgb_oof_price\"] = np.log(np.exp(xgb_oof_test_price) / test['area_total'])"
   ]
  },
  {
   "cell_type": "code",
   "execution_count": 44,
   "id": "cf337059-d806-4fe1-bae3-a0c65ba2c9e1",
   "metadata": {},
   "outputs": [
    {
     "name": "stdout",
     "output_type": "stream",
     "text": [
      "minMax\n"
     ]
    }
   ],
   "source": [
    "# Normalize these predictions.\n",
    "predictor_feats=[ \"old_xgb_preds\", \"old_lgbm_preds\", \"old_ann_preds\", \"old_rf_preds\", \"lgbm_oof_area\", \"ann_oof_area\", \"ann_oof_price\", \"xgb_oof_area\", \"xgb_oof_price\"]\n",
    "train_labels, test_labels = normalize(train_labels, test_labels, predictor_feats, scaler=\"minMax\")"
   ]
  },
  {
   "cell_type": "code",
   "execution_count": 45,
   "id": "61cb14b1-231b-42f5-b1b6-0f83d9bbe6ee",
   "metadata": {},
   "outputs": [],
   "source": [
    "price_per_square_meter = train_targets/train['area_total'] # real price / real_area"
   ]
  },
  {
   "cell_type": "markdown",
   "id": "837f2ef5-ef09-4283-854a-31af9a535a89",
   "metadata": {},
   "source": [
    "##### Stacking the standard way. TODO - normalize the labels."
   ]
  },
  {
   "cell_type": "code",
   "execution_count": 49,
   "id": "499f15f9-9ac2-4d42-874d-5604830f97e7",
   "metadata": {},
   "outputs": [
    {
     "name": "stdout",
     "output_type": "stream",
     "text": [
      "[0.21209225956096223, 0.18773399078543584, 0.19879196452834388, 0.18505137129530672, 0.2373648517897129]\n",
      "=> 0.20420688759195232\n"
     ]
    }
   ],
   "source": [
    "model_params = [5, 12, 0.15, 0.8, 0.8, 1.1, 0.3, 0.01, 10000]\n",
    "scores, avg, best_model, models = XGB_groupKFold(5, model_params,\n",
    "                                                 train_labels.drop(['area_total'],axis=1), np.log(price_per_square_meter),\n",
    "                                                 eval_metric='rmse')\n",
    "print(scores)\n",
    "print(\"=>\",avg)"
   ]
  },
  {
   "cell_type": "code",
   "execution_count": 50,
   "id": "2100a5ce-6ea8-4adc-955c-0a3a972e9c9d",
   "metadata": {},
   "outputs": [],
   "source": [
    "predict_and_store(best_model, test_labels.drop([\"building_id\", \"area_total\"], axis=1),\n",
    "                  test, path=\"ensemble_predictions/stacking_on_old_and_new_2\", exponential=True,\n",
    "                  price_per_sq=True, total_area_df=test[\"area_total\"])"
   ]
  },
  {
   "cell_type": "code",
   "execution_count": 52,
   "id": "8fff2eb9-f6f9-4ca6-8f5f-0320076386e2",
   "metadata": {},
   "outputs": [
    {
     "data": {
      "image/png": "[encoded data removed]",
      "text/plain": [
       "<Figure size 1080x216 with 1 Axes>"
      ]
     },
     "metadata": {
      "needs_background": "light"
     },
     "output_type": "display_data"
    }
   ],
   "source": [
    "#plot_feature_importance(\n",
    "#    train_labels.drop([\"building_id\", \"area_total\"], axis=1).columns.tolist(), best_model.feature_importances_,\n",
    "#    model_type=\"XGBoost\", figsize=(20, 4))\n",
    "\n",
    "plt.figure(figsize=(15, 3))\n",
    "plt.bar(train_labels.drop([\"building_id\", \"area_total\"], axis=1).columns.tolist(), best_model.feature_importances_)\n",
    "plt.xticks(rotation=90)\n",
    "plt.ylabel(\"Importance\")\n",
    "plt.show()"
   ]
  },
  {
   "cell_type": "markdown",
   "id": "445ad12a-2006-4de5-8c2e-d4e6c26b2b35",
   "metadata": {},
   "source": [
    "#### Now train on all the data!"
   ]
  },
  {
   "cell_type": "code",
   "execution_count": 53,
   "id": "5a485e6f-ec92-4273-bbac-1d8152dc262a",
   "metadata": {},
   "outputs": [],
   "source": [
    "## Make a model, predicting on all the stuff. Might overfit a lot!\n",
    "xgb_model = xgboost.XGBRegressor(max_depth=5, min_child_weight=12, gamma=0.15, subsample=0.8, colsample_bytree=0.8, reg_alpha=1.1, reg_lambda=0.3, learning_rate=0.01, n_estimators=10000)\n",
    "fit_data = xgb_model.fit(train_labels.drop(['area_total', 'building_id'],axis=1),\n",
    "            np.log(price_per_square_meter),\n",
    "            eval_metric='rmse',\n",
    "            verbose=False,)"
   ]
  },
  {
   "cell_type": "code",
   "execution_count": 54,
   "id": "985e3a94-a49b-4cd9-987d-ad5018ddb5eb",
   "metadata": {},
   "outputs": [],
   "source": [
    "# Training score\n",
    "prediction = np.exp(xgb_model.predict(train_labels.drop(['area_total', 'building_id'],axis=1)))"
   ]
  },
  {
   "cell_type": "code",
   "execution_count": 55,
   "id": "0eb811b8-8291-4386-b2b6-d8ec47127537",
   "metadata": {},
   "outputs": [],
   "source": [
    "predict_and_store(xgb_model, test_labels.drop([\"building_id\", \"area_total\"], axis=1),\n",
    "                  test, path=\"ensemble_predictions/stacking_on_all_data_2\", exponential=True,\n",
    "                  price_per_sq=True, total_area_df=test[\"area_total\"])"
   ]
  },
  {
   "cell_type": "markdown",
   "id": "108d3930-aaa8-42ae-921f-da6db9e149fd",
   "metadata": {
    "tags": []
   },
   "source": [
    "### LGB KING"
   ]
  },
  {
   "cell_type": "code",
   "execution_count": 56,
   "id": "2f85f93c-2ddc-4c68-8671-692f9661a0f2",
   "metadata": {},
   "outputs": [],
   "source": [
    "%run ../common_utils.py"
   ]
  },
  {
   "cell_type": "code",
   "execution_count": 57,
   "id": "2e281f29-ce19-49f3-aae7-fb7ea58e813d",
   "metadata": {},
   "outputs": [
    {
     "name": "stdout",
     "output_type": "stream",
     "text": [
      "minMax\n"
     ]
    }
   ],
   "source": [
    "features =           [\"building_id\", # For grouping\n",
    "                      \"area_total\", \"area_kitchen\", \"area_living\", \"floor\", \"ceiling\", \"stories\", \"rooms\",\n",
    "                      \"bathrooms_private\", \"bathrooms_shared\", \"balconies\",\"loggias\", \"phones\", \"latitude\", \"longitude\", \"constructed\", # Numerical\n",
    "                     \"layout\", \"condition\", \"district\", \"material\", \"parking\", \"heating\", \"seller\", #Categorical\n",
    "                      \"windows_court\", \"windows_street\", \"new\", \"elevator_without\", \"elevator_passenger\", \"elevator_service\", \"garbage_chute\", # Bool\n",
    "                     \"street\", \"address\"] # Strings\n",
    "\n",
    "all_numerical_features = [\"area_total\", \"area_kitchen\", \"area_living\", \"floor\",\n",
    "                      \"ceiling\", \"stories\", \"rooms\", \"bathrooms_private\", \"bathrooms_shared\", \"balconies\",\"loggias\", \"phones\", \"latitude\", \"longitude\", \"constructed\"]\n",
    "\n",
    "float_numerical_features = [\"area_total\", \"area_kitchen\", \"area_living\", \"ceiling\", \"latitude\", \"longitude\", \"constructed\"]\n",
    "int_numerical_features = [\"floor\", \"stories\", \"rooms\", \"bathrooms_private\", \"bathrooms_shared\", \"balconies\", \"loggias\", \"phones\"] # Ordinal categories\n",
    "\n",
    "cat_features = [\"layout\", \"condition\", \"district\", \"material\", \"parking\", \"heating\", \"seller\"] # All are non-ordinal\n",
    "\n",
    "droptable = []\n",
    "\n",
    "# Load data\n",
    "train, test, metaData = load_all_data()\n",
    "# Clean data\n",
    "train_labels, train_targets, test_labels = clean_data(train, test, features, float_numerical_features, int_numerical_features, cat_features,\n",
    "                                                      log_targets=False, log_area=True, fillNan=True)\n",
    "# Add new features\n",
    "train_labels, test_labels, added_features = feature_engineering(\n",
    "    train_labels, \n",
    "    test_labels,\n",
    "    add_base_features=True, \n",
    "    add_bool_features=True,\n",
    "    add_weak_features=True,\n",
    "    add_dist_to_metro=True,\n",
    "    add_close_to_uni=True,\n",
    "    add_dist_to_hospital=True,\n",
    "    add_floor_features=True,\n",
    "    add_street_info=True,\n",
    "    add_some_more_features=True,\n",
    "    add_district_information=True,\n",
    "    )\n",
    "\n",
    "# Normalize\n",
    "train_labels, test_labels = normalize(train_labels, test_labels, float_numerical_features, scaler=\"minMax\")\n",
    "# One-hot encoding\n",
    "train_labels, test_labels = one_hot_encoder(train_labels, test_labels, [\"condition\", \"district\", \"material\", \"parking\", \"heating\", \"seller\"], drop_old=True)\n",
    "# Drop some features\n",
    "train_labels.drop(droptable, inplace=True, axis=1)\n",
    "test_labels.drop(droptable, inplace=True, axis=1)\n",
    "\n",
    "droptable = ['street','address']\n",
    "train_labels.drop(droptable, inplace=True, axis=1)\n",
    "test_labels.drop(droptable, inplace=True, axis=1)\n",
    "\n",
    "# Price per area\n",
    "price_per_square_meter = train_targets/train['area_total'] # real price / real_area"
   ]
  },
  {
   "cell_type": "code",
   "execution_count": 58,
   "id": "4164495e-ea61-41f1-bdb8-b4137cc11749",
   "metadata": {},
   "outputs": [],
   "source": [
    "# OLD\n",
    "old_lgbm_oof_train = (np.load(\"oofs/old_lgbm_oof_train.npz\")['arr_0']).reshape((len(old_lgbm_oof_train), )) \n",
    "old_lgbm_oof_test = (np.load(\"oofs/old_lgbm_oof_test.npz\")['arr_0']).reshape((len(old_lgbm_oof_test), )) \n",
    "\n",
    "old_rf_oof_train = (np.load(\"oofs/old_rf_oof_train.npz\")['arr_0']).reshape((len(old_rf_oof_train), )) \n",
    "old_rf_oof_test = (np.load(\"oofs/old_rf_oof_test.npz\")['arr_0']).reshape((len(old_rf_oof_test), )) \n",
    "\n",
    "old_xgb_oof_train = (np.load(\"oofs/old_xgb_oof_train.npz\")['arr_0']).reshape((len(old_xgb_oof_train), )) \n",
    "old_xgb_oof_test = (np.load(\"oofs/old_xgb_oof_test.npz\")['arr_0']).reshape((len(old_xgb_oof_test), )) \n",
    "\n",
    "old_ann_oof_train = (np.load(\"oofs/old_ann_oof_train.npz\")['arr_0']).reshape((len(old_ann_oof_train), )) \n",
    "old_ann_oof_test = (np.load(\"oofs/old_ann_oof_test.npz\")['arr_0']).reshape((len(old_ann_oof_test), )) \n",
    "# NEW\n",
    "lgbm_oof_train_area = (np.load(\"oofs/lgb_oof_train_area.npz\")['arr_0']).reshape((len(lgbm_oof_train_area), )) \n",
    "lgbm_oof_test_area = (np.load(\"oofs/lgb_oof_test_area.npz\")['arr_0']).reshape((len(lgbm_oof_test_area), ))\n",
    "\n",
    "ann_oof_train_area = (np.load(\"oofs/ann_oof_train_area.npz\")['arr_0']).reshape((len(ann_oof_train_area), )) \n",
    "ann_oof_test_area = (np.load(\"oofs/ann_oof_test_area.npz\")['arr_0']).reshape((len(ann_oof_test_area), ))\n",
    "\n",
    "ann_oof_train_price = (np.load(\"oofs/ann_oof_train_price.npz\")['arr_0']).reshape((len(ann_oof_train_price), )) \n",
    "ann_oof_test_price = (np.load(\"oofs/ann_oof_test_price.npz\")['arr_0']).reshape((len(ann_oof_test_price), ))\n",
    "\n",
    "xgb_oof_train_area = (np.load(\"oofs/xgb_oof_train_area.npz\")['arr_0']).reshape((len(xgb_oof_train_area), )) \n",
    "xgb_oof_test_area = (np.load(\"oofs/xgb_oof_test_area.npz\")['arr_0']).reshape((len(xgb_oof_test_area), ))\n",
    "\n",
    "xgb_oof_train_price = (np.load(\"oofs/xgb_oof_train_price.npz\")['arr_0']).reshape((len(xgb_oof_train_price), )) \n",
    "xgb_oof_test_price = (np.load(\"oofs/xgb_oof_test_price.npz\")['arr_0']).reshape((len(xgb_oof_test_price), ))"
   ]
  },
  {
   "cell_type": "code",
   "execution_count": 59,
   "id": "6ed9f274-0466-411c-b799-80dda2312b87",
   "metadata": {},
   "outputs": [],
   "source": [
    "# The old advisors\n",
    "train_labels[\"old_xgb_preds\"] = np.log(np.exp(old_xgb_oof_train) / train['area_total'])\n",
    "test_labels[\"old_xgb_preds\"] = np.log(np.exp(old_xgb_oof_test) / test['area_total'])\n",
    "\n",
    "train_labels[\"old_lgbm_preds\"] = np.log(np.exp(old_lgbm_oof_train) / train['area_total'])\n",
    "test_labels[\"old_lgbm_preds\"] = np.log(np.exp(old_lgbm_oof_test) / test['area_total'])\n",
    "\n",
    "train_labels[\"old_ann_preds\"] = np.log(old_ann_oof_train / train['area_total'])\n",
    "test_labels[\"old_ann_preds\"] = np.log(old_ann_oof_test / test['area_total'])\n",
    "\n",
    "train_labels[\"old_rf_preds\"] = np.log(old_rf_oof_train / train['area_total'])\n",
    "test_labels[\"old_rf_preds\"] = np.log(old_rf_oof_test / test['area_total'])\n",
    "\n",
    "# New advisor\n",
    "train_labels[\"lgbm_oof_area\"] = lgbm_oof_train_area\n",
    "test_labels[\"lgbm_oof_area\"] = lgbm_oof_test_area\n",
    "\n",
    "train_labels[\"ann_oof_area\"] = np.log(ann_oof_train_area)\n",
    "test_labels[\"ann_oof_area\"] = np.log(ann_oof_test_area)\n",
    "\n",
    "train_labels[\"ann_oof_price\"] = np.log(ann_oof_train_price / train['area_total'])\n",
    "test_labels[\"ann_oof_price\"] = np.log(ann_oof_test_price / test['area_total'])\n",
    "\n",
    "train_labels[\"xgb_oof_area\"] = xgb_oof_train_area\n",
    "test_labels[\"xgb_oof_area\"] = xgb_oof_test_area\n",
    "\n",
    "train_labels[\"xgb_oof_price\"] = np.log(np.exp(xgb_oof_train_price) / train['area_total'])\n",
    "test_labels[\"xgb_oof_price\"] = np.log(np.exp(xgb_oof_test_price) / test['area_total'])"
   ]
  },
  {
   "cell_type": "code",
   "execution_count": 60,
   "id": "f6b3582e-554d-44e3-abaa-22c9b2437905",
   "metadata": {},
   "outputs": [
    {
     "name": "stdout",
     "output_type": "stream",
     "text": [
      "minMax\n"
     ]
    }
   ],
   "source": [
    "# Normalize these predictions.\n",
    "predictor_feats=[ \"old_xgb_preds\", \"old_lgbm_preds\", \"old_ann_preds\", \"old_rf_preds\", \"lgbm_oof_area\", \"ann_oof_area\", \"ann_oof_price\", \"xgb_oof_area\", \"xgb_oof_price\"]\n",
    "train_labels, test_labels = normalize(train_labels, test_labels, predictor_feats, scaler=\"minMax\")"
   ]
  },
  {
   "cell_type": "code",
   "execution_count": 67,
   "id": "d89ab9e9-52c6-4ee9-9d2b-e2b542d71d8c",
   "metadata": {},
   "outputs": [],
   "source": [
    "params= {\n",
    " 'num_iterations': 10000,\n",
    " 'n_estimators': 152*5,\n",
    " 'learning_rate': 0.05/5,\n",
    " 'num_leaves': 40,\n",
    " 'max_depth': 10,\n",
    " 'min_data_in_leaf': 20,\n",
    " 'bagging_fraction': 0.9,\n",
    " 'bagging_freq': 5,\n",
    " 'feature_fraction': 0.8,\n",
    "}\n",
    "lgbm_king = lightgbm.LGBMRegressor(\n",
    "    **params, \n",
    "    random_state=1,\n",
    "    early_stopping_round=100,\n",
    "    silent=True,\n",
    "    metric='regression',\n",
    "    num_threads=4)\n",
    "lgbm_no_cv = lightgbm.LGBMRegressor(\n",
    "    **params, \n",
    "    random_state=1,\n",
    "    silent=True,\n",
    "    metric='regression',\n",
    "    num_threads=4)"
   ]
  },
  {
   "cell_type": "code",
   "execution_count": 69,
   "id": "38b91834-0853-4e48-ae5c-71ce2e687495",
   "metadata": {},
   "outputs": [],
   "source": [
    "%%capture --no-display\n",
    "scores, average_score, best_model, best_index = lgbm_groupKFold(\n",
    "    number_of_splits=5,\n",
    "    model=lgbm_king,\n",
    "    X_train=train_labels.drop(['area_total'],axis=1), \n",
    "    y_train=np.log(price_per_square_meter))"
   ]
  },
  {
   "cell_type": "code",
   "execution_count": 70,
   "id": "5451028d-6c98-48e0-a677-cbd5b0ee28ef",
   "metadata": {},
   "outputs": [
    {
     "name": "stdout",
     "output_type": "stream",
     "text": [
      "[0.20990739653805268, 0.1833667824219476, 0.19733090181417692, 0.186006516347325, 0.23292145346480514]\n"
     ]
    }
   ],
   "source": [
    "print(scores)"
   ]
  },
  {
   "cell_type": "code",
   "execution_count": 71,
   "id": "9a8ed9a4-8a20-44ea-8ee4-93f1adcb4178",
   "metadata": {
    "collapsed": true,
    "jupyter": {
     "outputs_hidden": true
    },
    "tags": []
   },
   "outputs": [
    {
     "name": "stdout",
     "output_type": "stream",
     "text": [
      "[LightGBM] [Warning] feature_fraction is set=0.8, colsample_bytree=1.0 will be ignored. Current value: feature_fraction=0.8\n",
      "[LightGBM] [Warning] min_data_in_leaf is set=20, min_child_samples=20 will be ignored. Current value: min_data_in_leaf=20\n",
      "[LightGBM] [Warning] bagging_fraction is set=0.9, subsample=1.0 will be ignored. Current value: bagging_fraction=0.9\n",
      "[LightGBM] [Warning] num_threads is set=4, n_jobs=-1 will be ignored. Current value: num_threads=4\n",
      "[LightGBM] [Warning] bagging_freq is set=5, subsample_freq=0 will be ignored. Current value: bagging_freq=5\n"
     ]
    },
    {
     "data": {
      "text/plain": [
       "LGBMRegressor(bagging_fraction=0.9, bagging_freq=5, feature_fraction=0.8,\n",
       "              learning_rate=0.01, max_depth=10, metric='regression',\n",
       "              min_data_in_leaf=20, n_estimators=760, num_iterations=10000,\n",
       "              num_leaves=40, num_threads=4, random_state=1, silent=True)"
      ]
     },
     "execution_count": 71,
     "metadata": {},
     "output_type": "execute_result"
    }
   ],
   "source": [
    "#lgbm_oof_train, lgbm_oof_test, scores = get_oof_lgbm(lgbm_model,\n",
    "#                                                     train_labels.drop(['area_total'],axis=1),\n",
    "#                                                     np.log(price_per_square_meter),\n",
    "#                                                     test_labels.drop(['area_total'],axis=1))\n",
    "\n",
    "lgbm_no_cv.fit(train_labels.drop(['area_total'],axis=1),np.log(price_per_square_meter))"
   ]
  },
  {
   "cell_type": "code",
   "execution_count": null,
   "id": "5e142161-d649-4250-8d73-a9c88349a17b",
   "metadata": {},
   "outputs": [],
   "source": []
  },
  {
   "cell_type": "code",
   "execution_count": 73,
   "id": "f79855f9-adc3-464b-ab8e-b4c59391224b",
   "metadata": {},
   "outputs": [],
   "source": [
    "predict_and_store(best_model, test_labels.drop(['area_total'],axis=1),\n",
    "                  test, path=\"ensemble_predictions\\lgbm_king_cv.csv\", exponential=True, price_per_sq = True,\n",
    "                  total_area_df = test['area_total'])\n",
    "\n",
    "predict_and_store(lgbm_no_cv, test_labels.drop(['area_total'],axis=1),\n",
    "                  test, path=\"ensemble_predictions\\lgbm_king_no_cv.csv\", exponential=True, price_per_sq = True,\n",
    "                  total_area_df = test['area_total'])\n"
   ]
  },
  {
   "cell_type": "code",
   "execution_count": 78,
   "id": "3d9a8d94-932f-4af0-a0dd-1f0a31550a78",
   "metadata": {},
   "outputs": [
    {
     "data": {
      "image/png": "[encoded data removed]",
      "text/plain": [
       "<Figure size 720x2160 with 1 Axes>"
      ]
     },
     "metadata": {
      "needs_background": "light"
     },
     "output_type": "display_data"
    }
   ],
   "source": [
    "plot_feature_importance(\n",
    "    best_model.feature_importances_, train_labels.drop([\"building_id\"], axis=1).columns.tolist(),\n",
    "    model_type=\"LGBm\", figsize=(10,30))"
   ]
  },
  {
   "cell_type": "code",
   "execution_count": null,
   "id": "6903fb60-feed-49eb-8dac-fe17fa48c84b",
   "metadata": {},
   "outputs": [],
   "source": []
  }
 ],
 "metadata": {
  "kernelspec": {
   "display_name": "Python 3 (ipykernel)",
   "language": "python",
   "name": "python3"
  },
  "language_info": {
   "codemirror_mode": {
    "name": "ipython",
    "version": 3
   },
   "file_extension": ".py",
   "mimetype": "text/x-python",
   "name": "python",
   "nbconvert_exporter": "python",
   "pygments_lexer": "ipython3",
   "version": "3.8.7"
  }
 },
 "nbformat": 4,
 "nbformat_minor": 5
}
